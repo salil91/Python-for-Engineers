{
 "cells": [
  {
   "cell_type": "markdown",
   "id": "66078367-6910-4e3e-a063-00170c9ce3a7",
   "metadata": {},
   "source": [
    "## November 29 - Final class"
   ]
  },
  {
   "cell_type": "code",
   "execution_count": null,
   "id": "70b4b1f3-38b6-44fa-bd1b-846a8342dc66",
   "metadata": {},
   "outputs": [],
   "source": [
    "from pathlib import Path\n",
    "\n",
    "import matplotlib.pyplot as plt\n",
    "import numpy as np\n",
    "import pandas as pd\n",
    "from scipy import stats\n",
    "from scipy import optimize"
   ]
  },
  {
   "cell_type": "markdown",
   "id": "7f57020f-1f9e-4cb0-86c1-edc9c896f19f",
   "metadata": {
    "tags": []
   },
   "source": [
    "## Classes"
   ]
  },
  {
   "cell_type": "markdown",
   "id": "783f44b9-81c4-4a6e-b5d9-f591e7ac743d",
   "metadata": {},
   "source": [
    "### HW5, Question 5: Regression and Curve fitting\n",
    "*15 points*\n",
    "\n",
    "In HW3, we looked at data from a compression test on a brittle material. Here, we are going to look at a test on a ductile strain-hardening material. The material deform's as per Hooke's law up to it's yield point, after which it follows a power-law hardening behavior.\n",
    "\n",
    "The stress in the material is given by \n",
    "\n",
    "Elastic: $\\sigma = E \\epsilon_e \\quad\\quad\\quad\\quad\\quad \\sigma \\leq \\sigma_y$\n",
    "\n",
    "Plastic: $\\sigma = \\sigma_y + \\kappa \\epsilon_p^n \\quad\\quad\\quad \\sigma > \\sigma_y$\n",
    "\n",
    "where:\n",
    "\n",
    "$\\sigma$ is the stress and \\$\\sigma_y$ is the yield stress;\n",
    "\n",
    "$\\epsilon_e$ and $\\epsilon_p$ are the elastic and plastic strains, respectively;\n",
    "\n",
    "$\\kappa$ is the strength coefficient, and $n$ is the strain hardening exponent.\n",
    "\n",
    "The compression test is peformed on a rectangular prismatic brittle specimen (cross-section area = 4x4 mm, length = 6 mm).\n",
    "\n",
    "- Load the data from the provided `strain_hardening.csv` file using `pandas`. The data has already been cleaned for you. Displacement is in mm, force is in N.\n",
    "- Perform a linear regression using `scipy.stats.linregress()` in the elastic regime of the data to calculate $E$ and $\\sigma_y$.\n",
    "- Perform a curve fit using `scipy.optimize.curve_fit()` in the plastic regime of the data to calculate $\\kappa$ and $n$\n",
    "- Print the values of all the variables calculated above using *scientific notation* with 2 decimal places. Use units of MPa for all parameters except $n$, which is dimensionless.\n",
    "- Plot the raw stress (in MPa) vs strain curve, as well as the overall curve fit (elastic and plastic parts). The entire fit curve should be the same color. Mark the yield point. Make sure to include a legend.\n",
    "\n",
    "**Note:** $\\epsilon_p$ is the plastic strain, you must subtract the elastic strain ($\\epsilon_e$) from the total strain to get the plastic strain.\n",
    "\n",
    "Assume a 0.2% strain at the yield point; i.e., $\\epsilon_y$ = 0.002. There is no plastic strain before yield and no elastic strain after yield."
   ]
  },
  {
   "cell_type": "code",
   "execution_count": null,
   "id": "4fc012ba-25c5-4beb-82f9-61bbcf467286",
   "metadata": {},
   "outputs": [],
   "source": [
    "# Load data\n",
    "csv_file = Path.cwd().parent / \"Module 3 - Data Science with Python\" / \"strain_hardening.csv\"\n",
    "data = pd.read_csv(csv_file)\n",
    "length = 6\n",
    "area = 4*4\n",
    "\n",
    "# Calculate strain and stress\n",
    "data[\"strain\"] = data[\"displacement\"].div(length)\n",
    "data[\"stress\"] = data[\"force\"].div(area)\n",
    "\n",
    "# Plot\n",
    "data.plot(\"strain\", \"stress\", kind=\"scatter\");\n",
    "\n",
    "# Define yield strain\n",
    "e_y = 0.002"
   ]
  },
  {
   "cell_type": "code",
   "execution_count": null,
   "id": "bd5ff168-dca4-4fd4-ac98-a1de75a47026",
   "metadata": {},
   "outputs": [],
   "source": [
    "# Elastic regime\n",
    "# Separate data before yield strain\n",
    "data_elastic = data.copy()[data[\"strain\"] <= e_y]\n",
    "\n",
    "# Perform fit and get E\n",
    "fit_result = stats.linregress(data_elastic[\"strain\"], data_elastic[\"stress\"])\n",
    "E = fit_result.slope\n",
    "\n",
    "# Calculate sigma_y and the regression line\n",
    "sigma_y = E*e_y\n",
    "fit_elastic = fit_result.slope*data_elastic[\"strain\"] + fit_result.intercept\n",
    "\n",
    "# Print\n",
    "print(f\"E = {E:.2e} MPa\")\n",
    "print(f\"sigma_y = {sigma_y:.2e} MPa\")"
   ]
  },
  {
   "cell_type": "code",
   "execution_count": null,
   "id": "05cf1531-a651-4a4a-8296-f888055dec98",
   "metadata": {},
   "outputs": [],
   "source": [
    "from scipy import optimize\n",
    "\n",
    "# Plastic regime\n",
    "# Separate data after yield strain\n",
    "data_plastic = data.copy()[data[\"strain\"] > e_y]\n",
    "\n",
    "# Define funtion for fit\n",
    "def stress_func(strain, k, n):\n",
    "    return sigma_y + k*(strain - e_y)**n\n",
    "\n",
    "popt, pcov = optimize.curve_fit(stress_func,\n",
    "                                data_plastic[\"strain\"], data_plastic[\"stress\"],\n",
    "                                p0=(1000, 0.25))\n",
    "\n",
    "# Calculate k, n and the fitted curve\n",
    "k_opt, n_opt = popt\n",
    "fit_plastic = stress_func(data_plastic[\"strain\"], *popt)\n",
    "\n",
    "print(f\"K = {k_opt:.2e} MPa\")\n",
    "print(f\"n = {n_opt:.2e}\")"
   ]
  },
  {
   "cell_type": "code",
   "execution_count": null,
   "id": "5ac3953d-3665-40dc-8d77-25c2cf415f86",
   "metadata": {},
   "outputs": [],
   "source": [
    "# Plot raw data and fits\n",
    "plt.plot(data[\"strain\"], data[\"stress\"], \".\", label=\"Raw data\");\n",
    "plt.plot(data_elastic[\"strain\"], fit_elastic, \"r\", label=\"Fit\")\n",
    "plt.plot(data_plastic[\"strain\"], fit_plastic, \"r\")\n",
    "plt.plot(e_y, sigma_y, \"ok\", label=\"Yield point\")\n",
    "plt.xlabel(\"Strain\")\n",
    "plt.ylabel(\"Stress (MPa)\")\n",
    "plt.legend(loc=\"lower right\");"
   ]
  },
  {
   "cell_type": "markdown",
   "id": "66988165-df88-400f-9e29-b6330894ac9e",
   "metadata": {},
   "source": [
    "### With a class"
   ]
  },
  {
   "cell_type": "code",
   "execution_count": null,
   "id": "eae0a8fe-e9d1-4ca6-a664-0ac2ed1f1951",
   "metadata": {},
   "outputs": [],
   "source": [
    "class StrainHardening:\n",
    "    \"\"\"\n",
    "    Calculator for elastic modulus, yield strength, and strain hardening coefficients from tension/compression test data.\n",
    "\n",
    "    Attributes\n",
    "    ----------\n",
    "    data : pandas DataFrame\n",
    "        DataFrame containing the force (in N) and displacement (in mm).\n",
    "    yield_strain : float\n",
    "        Yield strain or elastic limit of the material\n",
    "    \"\"\"\n",
    "    def __init__(self, data, yield_strain, length, area):\n",
    "        self.data = data\n",
    "        self.yield_strain = yield_strain\n",
    "        self.length = length\n",
    "        self.area = area\n",
    "        \n",
    "    def calculate_stress_strain(self):\n",
    "        \"\"\"Calculate stress and strain\"\"\"\n",
    "        self.data[\"strain\"] = self.data[\"displacement\"].div(6)\n",
    "        self.data[\"stress\"] = self.data[\"force\"].div(4*4)\n",
    "        \n",
    "        return self.data\n",
    "    \n",
    "    def calculate_elastic(self):\n",
    "        \"\"\"Calculate youngs modulus and yield strength (in MPa).\"\"\"\n",
    "        \n",
    "        # Separate data before yield strain\n",
    "        self.data_elastic = self.data.copy()[self.data[\"strain\"] <= self.yield_strain]\n",
    "\n",
    "        # Perform fit and get E\n",
    "        fit_result = stats.linregress(self.data_elastic[\"strain\"], self.data_elastic[\"stress\"])\n",
    "        self.E = fit_result.slope\n",
    "\n",
    "        # Calculate sigma_y and the regression line\n",
    "        self.sigma_y = self.E*self.yield_strain\n",
    "        fit_elastic = fit_result.slope*self.data_elastic[\"strain\"] + fit_result.intercept\n",
    "\n",
    "        # Print\n",
    "        print(f\"E = {self.E:.2e} MPa\")\n",
    "        print(f\"sigma_y = {self.sigma_y:.2e} MPa\")\n",
    "        \n",
    "        return self.E, self.sigma_y\n",
    "    \n",
    "    def calculate_plastic(self):\n",
    "        \"\"\"Calculate strain hardening parameters.\"\"\" \n",
    "        \n",
    "        # Separate data after yield strain\n",
    "        self.data_plastic = self.data.copy()[self.data[\"strain\"] > self.yield_strain]\n",
    "\n",
    "        # Define funtion for fit\n",
    "        def stress_func(strain, k, n):\n",
    "            return self.sigma_y + k*(strain - self.yield_strain)**n\n",
    "\n",
    "        popt, pcov = optimize.curve_fit(stress_func,\n",
    "                                        self.data_plastic[\"strain\"], self.data_plastic[\"stress\"],\n",
    "                                        p0=(1000, 0.25))\n",
    "\n",
    "        # Calculate k, n and the fitted curve\n",
    "        self.k, self.n = popt\n",
    "        fit_plastic = stress_func(self.data_plastic[\"strain\"], *popt)\n",
    "\n",
    "        print(f\"K = {self.k:.2e} MPa\")\n",
    "        print(f\"n = {self.n:.2e}\")\n",
    "        \n",
    "        return self.k, self.n\n",
    "    \n",
    "    def calculate(self):\n",
    "        \"\"\"Perform elastic and plastic calculations\"\"\"\n",
    "        \n",
    "        self.calculate_stress_strain()\n",
    "        E, sigma_y = self.calculate_elastic()\n",
    "        k, n = self.calculate_plastic()\n",
    "        \n",
    "        return E, sigma_y, k, n\n",
    "        \n",
    "    def plot(self):\n",
    "        \"\"\"Plot data with elastic and plastic fits.\"\"\"\n",
    "        \n",
    "        fig, ax = plt.subplots()\n",
    "        ax.plot(self.data[\"strain\"], self.data[\"stress\"], \".\", label=\"Raw data\");\n",
    "        ax.plot(self.data_elastic[\"strain\"], fit_elastic, \"r\", label=\"Fit\")\n",
    "        ax.plot(self.data_plastic[\"strain\"], fit_plastic, \"r\")\n",
    "        ax.plot(self.yield_strain, self.sigma_y, \"ok\", label=\"Yield point\")\n",
    "        ax.set_xlabel(\"Strain\")\n",
    "        ax.set_ylabel(\"Stress (MPa)\")\n",
    "        ax.legend(loc=\"lower right\");\n",
    "        \n",
    "        return fig"
   ]
  },
  {
   "cell_type": "code",
   "execution_count": null,
   "id": "f53c24de-0676-4255-bb62-f521ddda454c",
   "metadata": {},
   "outputs": [],
   "source": [
    "# Load data\n",
    "data = pd.read_csv(\"strain_hardening.csv\")\n",
    "yield_strain=0.002\n",
    "\n",
    "# Instantiate an object\n",
    "test_data = StrainHardening(data=data, yield_strain=yield_strain, length=6, area=4*4)"
   ]
  },
  {
   "cell_type": "code",
   "execution_count": null,
   "id": "2de51735-7c5c-49aa-b421-33cf474bcd96",
   "metadata": {},
   "outputs": [],
   "source": [
    "# Use the convenient calculate method\n",
    "E, sigma_y, k, n = test_data.calculate()"
   ]
  },
  {
   "cell_type": "code",
   "execution_count": null,
   "id": "dc304bb0-1ba5-41ff-b970-1743fa6025dc",
   "metadata": {},
   "outputs": [],
   "source": [
    "E, sigma_y, = test_data.calculate_elastic()\n",
    "E, sigma_y"
   ]
  },
  {
   "cell_type": "code",
   "execution_count": null,
   "id": "77552f8b-3ca8-40dc-a99e-6484f94ea8ce",
   "metadata": {},
   "outputs": [],
   "source": [
    "fig = test_data.plot()"
   ]
  },
  {
   "cell_type": "markdown",
   "id": "79eb1881-4875-430e-bb41-8bf2cf3f5f06",
   "metadata": {},
   "source": [
    "## Python best practices and pythonic code\n",
    "\n",
    "https://peps.python.org/pep-0008/\n",
    "\n",
    "https://peps.python.org/pep-0020/"
   ]
  },
  {
   "cell_type": "markdown",
   "id": "4bf201df-9a76-490e-a60d-a0a2516ca31d",
   "metadata": {},
   "source": [
    "### Example 1 - avoid loops when possible"
   ]
  },
  {
   "cell_type": "code",
   "execution_count": null,
   "id": "cbb94fe4-bb67-4d45-95b0-bb966c2599c9",
   "metadata": {},
   "outputs": [],
   "source": [
    "# Generate data\n",
    "data =  10*np.random.rand(500)"
   ]
  },
  {
   "cell_type": "markdown",
   "id": "699db5d6-95e8-48c7-89dc-7f3272951dcd",
   "metadata": {},
   "source": [
    "**Using loops:**"
   ]
  },
  {
   "cell_type": "code",
   "execution_count": null,
   "id": "bba2a898-c1dd-4e41-8fcb-23ceb4dc3b8d",
   "metadata": {},
   "outputs": [],
   "source": [
    "%%timeit\n",
    "\n",
    "processed_data = data**2 - 5*data\n",
    "\n",
    "new_data = []\n",
    "for value in processed_data:\n",
    "    if value <= 0:\n",
    "        new_value = value*-5\n",
    "    else:\n",
    "        new_value = value*2\n",
    "    new_data.append(new_value)"
   ]
  },
  {
   "cell_type": "markdown",
   "id": "1cb72881-985d-4328-8349-c662e3898023",
   "metadata": {},
   "source": [
    "**Using `map`:**"
   ]
  },
  {
   "cell_type": "code",
   "execution_count": null,
   "id": "fada3a2c-a58c-419f-9350-71d836badd9a",
   "metadata": {},
   "outputs": [],
   "source": [
    "def process_data(x):\n",
    "    \n",
    "    x = x**2 - 5*x\n",
    "\n",
    "    if x <= 0:\n",
    "        x_new = x*-5\n",
    "    else:\n",
    "        x_new = x*2\n",
    "        \n",
    "    return x_new"
   ]
  },
  {
   "cell_type": "code",
   "execution_count": null,
   "id": "bab662df-ac09-4d9a-984d-dffee97a1567",
   "metadata": {},
   "outputs": [],
   "source": [
    "%%timeit\n",
    "\n",
    "new_data = map(process_data, data)"
   ]
  },
  {
   "cell_type": "markdown",
   "id": "9cfce96b-1ada-4e5e-9325-e120f032233e",
   "metadata": {},
   "source": [
    "## Example 2 - loops with multiple iterators"
   ]
  },
  {
   "cell_type": "code",
   "execution_count": null,
   "id": "e6842bfb-7af5-46be-83b3-83eb6cb91df7",
   "metadata": {},
   "outputs": [],
   "source": [
    "bars = [\"The Bull\", \"Looseys\", \"Lebowskis\", \"Cry Babies\", \"The Top\"]\n",
    "drinks = [\"wine\", \"rum and coke\", \"beer\", \"an Old Fashioned\", \"a Mule\"]\n",
    "prices = [7.50, 6.00, 4.50, 11.00, 8.50]"
   ]
  },
  {
   "cell_type": "markdown",
   "id": "ad915118-f1cc-4192-af68-b9a68c8fc94a",
   "metadata": {},
   "source": [
    "**No bueno:**"
   ]
  },
  {
   "cell_type": "code",
   "execution_count": null,
   "id": "5dabe698-a92b-430e-89d4-e498a94da5c9",
   "metadata": {},
   "outputs": [],
   "source": [
    "for i in range(len(bars)):\n",
    "    print(f\"I drink {drinks[i]} at {bars[i]}. It costs ${prices[i]:.2f}.\")"
   ]
  },
  {
   "cell_type": "markdown",
   "id": "ba17c77f-78b0-4039-9577-2a304bb14fdd",
   "metadata": {},
   "source": [
    "**Using `zip`:**"
   ]
  },
  {
   "cell_type": "code",
   "execution_count": null,
   "id": "221feac4-8a31-40d2-96e5-fb8e0028a386",
   "metadata": {},
   "outputs": [],
   "source": [
    "for bar, drink, price in zip(bars, drinks, prices):\n",
    "    print(f\"I drink {drink} at {bar}. It costs ${price:.2f}.\")"
   ]
  },
  {
   "cell_type": "markdown",
   "id": "d2d4b958-3227-4ced-9251-06bba4b76633",
   "metadata": {},
   "source": [
    "**With multiple items, you may be better off with a dictionary**"
   ]
  },
  {
   "cell_type": "code",
   "execution_count": null,
   "id": "0edd08a7-c909-441d-945e-ce8a5f81e22a",
   "metadata": {},
   "outputs": [],
   "source": [
    "salils_preferences = [\n",
    "    {\"bar\": \"The Bull\", \"drink\": \"wine\", \"price\": 7.50},\n",
    "    {\"bar\": \"Looseys\", \"drink\": \"rum and coke\", \"price\": 6.00},\n",
    "    {\"bar\": \"Lebowskis\", \"drink\": \"beer\", \"price\": 4.50},\n",
    "    {\"bar\": \"Cry Babies\", \"drink\": \"an Old Fasioned\", \"price\": 11.00},\n",
    "    {\"bar\": \"The Top\", \"drink\": \"a Mule\", \"price\": 8.50},\n",
    "]\n",
    "\n",
    "for pref in salils_preferences:\n",
    "    print(f\"I drink {pref['drink']} at {pref['bar']}. It costs ${pref['price']:.2f}.\")"
   ]
  },
  {
   "cell_type": "code",
   "execution_count": null,
   "id": "fa91e91b-5f64-4186-8b3e-846f7db8baf6",
   "metadata": {},
   "outputs": [],
   "source": []
  }
 ],
 "metadata": {
  "kernelspec": {
   "display_name": "Python 3 (ipykernel)",
   "language": "python",
   "name": "python3"
  },
  "language_info": {
   "codemirror_mode": {
    "name": "ipython",
    "version": 3
   },
   "file_extension": ".py",
   "mimetype": "text/x-python",
   "name": "python",
   "nbconvert_exporter": "python",
   "pygments_lexer": "ipython3",
   "version": "3.8.8"
  }
 },
 "nbformat": 4,
 "nbformat_minor": 5
}
