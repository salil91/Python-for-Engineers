{
 "cells": [
  {
   "cell_type": "markdown",
   "id": "64c992e8-ce79-4544-bf59-cea68420dc32",
   "metadata": {
    "pycharm": {
     "name": "#%% md\n"
    }
   },
   "source": [
    "# Solutions for Homework 7 - Make up\n",
    "**Due: Dec 9** \n",
    "\n",
    "***Total Points: 100***\n",
    "\n",
    "For full points, your code\n",
    "- must run without errors\n",
    "- must by *pythonic*\n",
    "- must be easily understandable, and well documented (either through inline comments or markdown).\n",
    "- All plots must have clearly and meaningfully labeled axes, unless you are simply plotting arbitrary numbers. Add legends where needed.\n",
    "- **Use separate markdown cells for any text answers.**\n",
    "- **Show your work, i.e, print all relevant output.** Remember that having a variable in the last line of a jupyter cell block automatically prints it's value. You can use multiple code blocks for a single question.\n",
    "- Please see the solutions (and related notes) for the previous HWs, as well as the comments on your submissions, before submitting this assignment. We will be less lenient for repeated mistakes.\n",
    "- ***All code must be wrapped in functions and/or classes. Avoid global variables.***\n",
    "\n",
    "Remember to export your Jupyter notebook as a PDF file and upload both to Canvas.\n",
    "```\n",
    "File > Save and Export Notebook As... > PDF\n",
    "```\n",
    "\n",
    "Run every code block (and make sure the answer if fully visible) before submitting your notebook/PDF."
   ]
  },
  {
   "cell_type": "markdown",
   "id": "04e72583-fbcf-44a1-942d-dd95e5d9b9da",
   "metadata": {
    "pycharm": {
     "name": "#%% md\n"
    }
   },
   "source": [
    "## Question 0\n",
    "\n",
    "\n",
    "**For every question in this HW: *All code must be wrapped in functions and/or classes. Avoid global variables.***\n",
    "\n",
    "Import `numpy` and `matplotlib` below."
   ]
  },
  {
   "cell_type": "code",
   "execution_count": null,
   "id": "0e9655bf-603a-4a7d-a6bc-97889f9f7eb0",
   "metadata": {
    "pycharm": {
     "name": "#%%\n"
    }
   },
   "outputs": [],
   "source": []
  },
  {
   "cell_type": "markdown",
   "id": "f7998d6b-4269-4ad8-adab-5f07a7d57682",
   "metadata": {},
   "source": [
    "## Problem 1\n",
    "\n",
    "*30 points*\n",
    "\n",
    "Suppose that a machine sells bottles of Coke and only accepts coins in these denominations: 25 cents, 10 cents, and 5 cents.\n",
    "\n",
    "Write a function that is takes an optional keyword argument for the price of a bottle (use a default value of $1.15).\n",
    "- The function should prompt the user to insert a coin, one at a time, each time informing the user of the amount due.\n",
    "- Once the user has inputted at least the price of the bottle, output how many cents in change the user is owed. If no change is owed, state that explicitly.\n",
    "- Prompt the user to only input cents (as integers), reprompt the user if a denomination other than the three given above is inputted.\n",
    "- Demonstrate the function for both cases: when the user enters coins for the exact price, and when change is due."
   ]
  },
  {
   "cell_type": "code",
   "execution_count": null,
   "id": "d8dabc17-67bd-4b17-a631-cf3e523a7d5e",
   "metadata": {},
   "outputs": [],
   "source": []
  },
  {
   "cell_type": "code",
   "execution_count": null,
   "id": "1736fad3-39ca-4b35-9431-932adc753157",
   "metadata": {},
   "outputs": [],
   "source": [
    "# Demonstrate where change is due\n"
   ]
  },
  {
   "cell_type": "code",
   "execution_count": null,
   "id": "33acac26-feda-48a3-92cc-469c711521c0",
   "metadata": {},
   "outputs": [],
   "source": [
    "# Demonstrate where no change is due\n"
   ]
  },
  {
   "cell_type": "markdown",
   "id": "969db38b-e5a4-43eb-83b8-56a55bc44ba0",
   "metadata": {},
   "source": [
    "## Problem 2\n",
    "\n",
    "*35 points*\n",
    "\n",
    "Create a `class` called `CookieJar` with these methods:\n",
    "- `__init__` should initialize an empty cookie jar with the given `capacity`, which represents the maximum number of cookies that can fit in the cookie jar. Use a default value of `42`. If capacity is not a non-negative int, though, it should raise a ValueError.\n",
    "- `__str__` should return a str with  🍪, where  is the number of cookies in the cookie jar. For instance, if there are 3 cookies in the cookie jar, then str should return \"🍪🍪🍪\"\n",
    "- `deposit` should add `n` cookies to the cookie jar. If adding that many would exceed the cookie jar’s capacity, though, deposit should instead raise a `ValueError`.\n",
    "- `withdraw` should remove `n` cookies from the cookie jar. If there aren’t that many cookies in the cookie jar, though, `withdraw` should instead raise a `ValueError`.\n",
    "- `capacity` should return the cookie jar’s capacity. If the capacity is changed directly, so that it is lower than the number of cookies already in the jar, it should raise a `ValueError`.\n",
    "- `num_cookies` should return the number of cookies actually in the cookie jar.\n",
    "\n",
    "*(HINT: The last two methods should be properties)*\n",
    "\n",
    "**Write your class in the code cell below. Run the provided code (without changes) after completion. Some of them should result in an error.**"
   ]
  },
  {
   "cell_type": "code",
   "execution_count": null,
   "id": "112149e5-0cd2-447e-b34e-460f4ac8a875",
   "metadata": {},
   "outputs": [],
   "source": []
  },
  {
   "cell_type": "code",
   "execution_count": null,
   "id": "3ad53339-87da-47e4-9e13-4e147dd07428",
   "metadata": {},
   "outputs": [],
   "source": [
    "# Should raise an error\n",
    "jar = CookieJar(capacity=-1)"
   ]
  },
  {
   "cell_type": "code",
   "execution_count": null,
   "id": "d6db9e59-84d1-4895-bb74-4b1ba699cfff",
   "metadata": {},
   "outputs": [],
   "source": [
    "# Should raise an error\n",
    "jar = CookieJar(capacity=1.5)"
   ]
  },
  {
   "cell_type": "code",
   "execution_count": null,
   "id": "6e85eaf4-e844-43d8-bde5-a7f6de123854",
   "metadata": {},
   "outputs": [],
   "source": [
    "# Should print an empty string\n",
    "jar = CookieJar()\n",
    "print(jar)"
   ]
  },
  {
   "cell_type": "code",
   "execution_count": null,
   "id": "19d6355f-24ed-4336-b024-82cd7095a7d3",
   "metadata": {},
   "outputs": [],
   "source": [
    "# Should raise an error\n",
    "jar.deposit(50)\n",
    "print(jar)"
   ]
  },
  {
   "cell_type": "code",
   "execution_count": null,
   "id": "e8d493e8-443e-4bfc-bd3b-89c19c1d05a1",
   "metadata": {},
   "outputs": [],
   "source": [
    "jar.deposit(10)\n",
    "print(jar)"
   ]
  },
  {
   "cell_type": "code",
   "execution_count": null,
   "id": "3e83d683-52e1-48e3-a8f9-814098491c8b",
   "metadata": {},
   "outputs": [],
   "source": [
    "# Should raise an error\n",
    "jar.withdraw(25)\n",
    "print(jar)"
   ]
  },
  {
   "cell_type": "code",
   "execution_count": null,
   "id": "d88733f8-464e-4dfb-a8af-23769567a47d",
   "metadata": {},
   "outputs": [],
   "source": [
    "jar.withdraw(5)\n",
    "print(jar)"
   ]
  },
  {
   "cell_type": "code",
   "execution_count": null,
   "id": "2233337b-262e-420b-8ba7-9f69a60ccacc",
   "metadata": {},
   "outputs": [],
   "source": [
    "jar.capacity"
   ]
  },
  {
   "cell_type": "code",
   "execution_count": null,
   "id": "9c0e2237-1b49-4999-af1c-ae89d5b9b1b2",
   "metadata": {},
   "outputs": [],
   "source": [
    "jar.num_cookies"
   ]
  },
  {
   "cell_type": "code",
   "execution_count": null,
   "id": "3fa78c49-b0cd-453a-a3e1-0d3ff369c40d",
   "metadata": {},
   "outputs": [],
   "source": [
    "# Should raise an error\n",
    "jar.capacity = 2"
   ]
  },
  {
   "cell_type": "markdown",
   "id": "03047678-57a7-405d-887c-465462a8a662",
   "metadata": {},
   "source": [
    "## Question 3\n",
    "\n",
    "*35 points*\n",
    "\n",
    "Based on the data in `populations.txt`, compute and print:\n",
    "\n",
    "- The mean and std of the populations of each species (hares, lynxes, and carrots) for the years in the period.\n",
    "- Which year each species had the largest population (*HINT: `np.argmax()`*).\n",
    "- Which species has the largest population for each year.\n",
    "- Which years any of the populations is above a user-specified threshold, with a default of 60,000 (*HINT: `np.any()`*).\n",
    "- The top `n` years for each species when they had the lowest populations. Use a default of `n=3`.\n",
    "- Compare (plot) the change in hare population and the number of lynxes (*HINT: `np.gradient()`*). Set the proper `xticks` for your plot. Plot both variables on the same plot. Use two y axes, one for each variable. Set the color of each y axis label to be the same as the color of the respective curve, so you don't need to have a legend.\n",
    "- Check correlation between the two quantities above (*HINT: `np.corrcoef()`*). Comment on the results of the correlation and the plot.\n",
    "\n",
    "**Do not loop over the arrays or DataFrame items to perform operations. You can use loops to simplify your prints.** *Hint: use `zip()`*\n",
    "\n",
    "***Remember:* All code must be wrapped in functions and/or classes. Avoid global variables (you can use one to import the data).**\n",
    "\n",
    "**Make sure all your prints are easily readable. Do not simply print lists/arrays with no headings or descriptions.** \n",
    "\n",
    "Use a comma separator for every thousands and 2 decimal spaces for all prints, except the year (e.g., `1,234.56`). Do not use any `round` function."
   ]
  },
  {
   "cell_type": "code",
   "execution_count": null,
   "id": "a28b3993-8218-42aa-9336-0c3bbfc56a2a",
   "metadata": {},
   "outputs": [],
   "source": []
  }
 ],
 "metadata": {
  "citation-manager": {
   "items": {}
  },
  "kernelspec": {
   "display_name": "Python 3 (ipykernel)",
   "language": "python",
   "name": "python3"
  },
  "language_info": {
   "codemirror_mode": {
    "name": "ipython",
    "version": 3
   },
   "file_extension": ".py",
   "mimetype": "text/x-python",
   "name": "python",
   "nbconvert_exporter": "python",
   "pygments_lexer": "ipython3",
   "version": "3.9.12"
  },
  "vscode": {
   "interpreter": {
    "hash": "02d63af7c9afabca5df1e6afae71fd75eeafd48d5a751ff1a20d30dc636abb91"
   }
  }
 },
 "nbformat": 4,
 "nbformat_minor": 5
}
