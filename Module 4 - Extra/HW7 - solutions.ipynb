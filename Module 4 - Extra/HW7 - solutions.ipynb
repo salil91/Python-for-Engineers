{
 "cells": [
  {
   "cell_type": "markdown",
   "id": "64c992e8-ce79-4544-bf59-cea68420dc32",
   "metadata": {
    "pycharm": {
     "name": "#%% md\n"
    }
   },
   "source": [
    "# Solutions for Homework 7 - Make up\n",
    "**Due: Nov 28** \n",
    "\n",
    "***Total Points: 100***\n",
    "\n",
    "For full points, your code\n",
    "- must run without errors\n",
    "- must by *pythonic*\n",
    "- must be easily understandable, and well documented (either through inline comments or markdown).\n",
    "- All plots must have clearly and meaningfully labeled axes, unless you are simply plotting arbitrary numbers. Add legends where needed.\n",
    "- **Use separate markdown cells for any text answers.**\n",
    "- **Show your work, i.e, print all relevant output.** Remember that having a variable in the last line of a jupyter cell block automatically prints it's value. You can use multiple code blocks for a single question.\n",
    "- Please see the solutions (and related notes) for the previous HWs, as well as the comments on your submissions, before submitting this assignment. We will be less lenient for repeated mistakes.\n",
    "- ***All code must be wrapped in functions and/or classes. Avoid global variables.***\n",
    "\n",
    "Remember to export your Jupyter notebook as a PDF file and upload both to Canvas.\n",
    "```\n",
    "File > Save and Export Notebook As... > PDF\n",
    "```\n",
    "\n",
    "Run every code block (and make sure the answer if fully visible) before submitting your notebook/PDF."
   ]
  },
  {
   "cell_type": "markdown",
   "id": "04e72583-fbcf-44a1-942d-dd95e5d9b9da",
   "metadata": {
    "pycharm": {
     "name": "#%% md\n"
    }
   },
   "source": [
    "## Question 0\n",
    "\n",
    "\n",
    "**For every question in this HW: *All code must be wrapped in functions and/or classes. Avoid global variables.***\n",
    "\n",
    "Import `numpy` and `matplotlib` below."
   ]
  },
  {
   "cell_type": "code",
   "execution_count": 1,
   "id": "0e9655bf-603a-4a7d-a6bc-97889f9f7eb0",
   "metadata": {
    "pycharm": {
     "name": "#%%\n"
    }
   },
   "outputs": [],
   "source": [
    "import matplotlib.pyplot as plt\n",
    "import numpy as np"
   ]
  },
  {
   "cell_type": "markdown",
   "id": "f7998d6b-4269-4ad8-adab-5f07a7d57682",
   "metadata": {},
   "source": [
    "## Problem 1\n",
    "\n",
    "*30 points*\n",
    "\n",
    "Suppose that a machine sells bottles of Coke and only accepts coins in these denominations: 25 cents, 10 cents, and 5 cents.\n",
    "\n",
    "Write a function that is takes an optional keyword argument for the price of a bottle (use a default value of $1.15).\n",
    "- The function should prompt the user to insert a coin, one at a time, each time informing the user of the amount due.\n",
    "- Once the user has inputted at least the price of the bottle, output how many cents in change the user is owed. If no change is owed, state that explicitly.\n",
    "- Prompt the user to only input cents (as integers), reprompt the user if a denomination other than the three given above is inputted.\n",
    "- Demonstrate the function for both cases: when the user enters coins for the exact price, and when change is due."
   ]
  },
  {
   "cell_type": "code",
   "execution_count": 2,
   "id": "d8dabc17-67bd-4b17-a631-cf3e523a7d5e",
   "metadata": {},
   "outputs": [],
   "source": [
    "def buy_coke(price=115):\n",
    "    coins = [5, 10, 25]\n",
    "    paid = 0\n",
    "\n",
    "    while paid < price:\n",
    "        due = price - paid\n",
    "        print(f\"Amount due: {due}\")\n",
    "        while True:\n",
    "            coin_input = int(input(f\"Insert a coin {coins}: \"))\n",
    "            if coin_input in coins:\n",
    "                paid += coin_input\n",
    "                break\n",
    "            else:\n",
    "                print(f\"Allowed denominations: {coins}\")\n",
    "                \n",
    "    print(\"\")\n",
    "    change = paid - price\n",
    "    if change == 0:\n",
    "        print(\"No change due.\")\n",
    "    else:\n",
    "        print(f\"Change due: {change}\")"
   ]
  },
  {
   "cell_type": "code",
   "execution_count": 3,
   "id": "1736fad3-39ca-4b35-9431-932adc753157",
   "metadata": {},
   "outputs": [
    {
     "name": "stdout",
     "output_type": "stream",
     "text": [
      "Amount due: 115\n"
     ]
    },
    {
     "name": "stdin",
     "output_type": "stream",
     "text": [
      "Insert a coin [5, 10, 25]:  25\n"
     ]
    },
    {
     "name": "stdout",
     "output_type": "stream",
     "text": [
      "Amount due: 90\n"
     ]
    },
    {
     "name": "stdin",
     "output_type": "stream",
     "text": [
      "Insert a coin [5, 10, 25]:  25\n"
     ]
    },
    {
     "name": "stdout",
     "output_type": "stream",
     "text": [
      "Amount due: 65\n"
     ]
    },
    {
     "name": "stdin",
     "output_type": "stream",
     "text": [
      "Insert a coin [5, 10, 25]:  25\n"
     ]
    },
    {
     "name": "stdout",
     "output_type": "stream",
     "text": [
      "Amount due: 40\n"
     ]
    },
    {
     "name": "stdin",
     "output_type": "stream",
     "text": [
      "Insert a coin [5, 10, 25]:  25\n"
     ]
    },
    {
     "name": "stdout",
     "output_type": "stream",
     "text": [
      "Amount due: 15\n"
     ]
    },
    {
     "name": "stdin",
     "output_type": "stream",
     "text": [
      "Insert a coin [5, 10, 25]:  25\n"
     ]
    },
    {
     "name": "stdout",
     "output_type": "stream",
     "text": [
      "\n",
      "Change due: 10\n"
     ]
    }
   ],
   "source": [
    "# Demonstrate where change is due\n",
    "buy_coke()"
   ]
  },
  {
   "cell_type": "code",
   "execution_count": 6,
   "id": "33acac26-feda-48a3-92cc-469c711521c0",
   "metadata": {},
   "outputs": [
    {
     "name": "stdout",
     "output_type": "stream",
     "text": [
      "Amount due: 115\n"
     ]
    },
    {
     "name": "stdin",
     "output_type": "stream",
     "text": [
      "Insert a coin [5, 10, 25]:  25\n"
     ]
    },
    {
     "name": "stdout",
     "output_type": "stream",
     "text": [
      "Amount due: 90\n"
     ]
    },
    {
     "name": "stdin",
     "output_type": "stream",
     "text": [
      "Insert a coin [5, 10, 25]:  25\n"
     ]
    },
    {
     "name": "stdout",
     "output_type": "stream",
     "text": [
      "Amount due: 65\n"
     ]
    },
    {
     "name": "stdin",
     "output_type": "stream",
     "text": [
      "Insert a coin [5, 10, 25]:  10\n"
     ]
    },
    {
     "name": "stdout",
     "output_type": "stream",
     "text": [
      "Amount due: 55\n"
     ]
    },
    {
     "name": "stdin",
     "output_type": "stream",
     "text": [
      "Insert a coin [5, 10, 25]:  5\n"
     ]
    },
    {
     "name": "stdout",
     "output_type": "stream",
     "text": [
      "Amount due: 50\n"
     ]
    },
    {
     "name": "stdin",
     "output_type": "stream",
     "text": [
      "Insert a coin [5, 10, 25]:  25\n"
     ]
    },
    {
     "name": "stdout",
     "output_type": "stream",
     "text": [
      "Amount due: 25\n"
     ]
    },
    {
     "name": "stdin",
     "output_type": "stream",
     "text": [
      "Insert a coin [5, 10, 25]:  25\n"
     ]
    },
    {
     "name": "stdout",
     "output_type": "stream",
     "text": [
      "\n",
      "No change due.\n"
     ]
    }
   ],
   "source": [
    "# Demonstrate where no change is due\n",
    "buy_coke()"
   ]
  },
  {
   "cell_type": "markdown",
   "id": "969db38b-e5a4-43eb-83b8-56a55bc44ba0",
   "metadata": {},
   "source": [
    "## Problem 2\n",
    "\n",
    "*35 points*\n",
    "\n",
    "Create a `class` called `CookieJar` with these methods:\n",
    "- `__init__` should initialize an empty cookie jar with the given `capacity`, which represents the maximum number of cookies that can fit in the cookie jar. Use a default value of `42`. If capacity is not a non-negative int, though, it should raise a ValueError.\n",
    "- `__str__` should return a str with  🍪, where  is the number of cookies in the cookie jar. For instance, if there are 3 cookies in the cookie jar, then str should return \"🍪🍪🍪\"\n",
    "- `deposit` should add `n` cookies to the cookie jar. If adding that many would exceed the cookie jar’s capacity, though, deposit should instead raise a `ValueError`.\n",
    "- `withdraw` should remove `n` cookies from the cookie jar. If there aren’t that many cookies in the cookie jar, though, `withdraw` should instead raise a `ValueError`.\n",
    "- `capacity` should return the cookie jar’s capacity. If the capacity is changed directly, so that it is lower than the number of cookies already in the jar, it should raise a `ValueError`.\n",
    "- `num_cookies` should return the number of cookies actually in the cookie jar.\n",
    "\n",
    "*(HINT: The last two methods should be properties)*\n",
    "\n",
    "**Write your class in the code cell below. Run the provided code (without changes) after completion. Some of them should result in an error.**"
   ]
  },
  {
   "cell_type": "code",
   "execution_count": 7,
   "id": "112149e5-0cd2-447e-b34e-460f4ac8a875",
   "metadata": {},
   "outputs": [],
   "source": [
    "class CookieJar:\n",
    "    \n",
    "    def __init__(self, capacity=42):\n",
    "        self._num_cookies = 0\n",
    "        self.capacity = capacity\n",
    "\n",
    "    def __str__(self):\n",
    "        cookie = \"🍪\"\n",
    "        return f\"{cookie*self.num_cookies}\"\n",
    "\n",
    "    def deposit(self, n):\n",
    "        \"\"\"Add cookies to the jar.\"\"\"\n",
    "        self.num_cookies += n\n",
    "\n",
    "    def withdraw(self, n):\n",
    "        \"\"\"Remove cookies from the jar.\"\"\"\n",
    "        self.num_cookies -= n\n",
    "\n",
    "    @property\n",
    "    def capacity(self):\n",
    "        \"\"\"Maximum number of cookies in the jar\"\"\"\n",
    "        return self._capacity\n",
    "    \n",
    "    @capacity.setter\n",
    "    def capacity(self, capacity):\n",
    "        if not isinstance(capacity, int):\n",
    "            raise ValueError(\"Jar capacity must be an integer.\")\n",
    "        if capacity < 0:\n",
    "            raise ValueError(\"Jar capacity must be non-negative.\")\n",
    "        if capacity < self.num_cookies:\n",
    "            raise ValueError(f\"The jar currently has {self.num_cookies} cookies. Withdraw some cookies before reducing its capacity.\")\n",
    "        self._capacity = capacity\n",
    "\n",
    "    @property\n",
    "    def num_cookies(self):\n",
    "        \"\"\"Current number of cookies in the jar.\"\"\"\n",
    "        return self._num_cookies\n",
    "\n",
    "    @num_cookies.setter\n",
    "    def num_cookies(self, num_cookies):\n",
    "        if num_cookies > self.capacity:\n",
    "            raise ValueError(f\"Jar is overflowing! It can only fit {self.capacity} cookies.\")\n",
    "        if num_cookies < 0:\n",
    "            raise ValueError(f\"Don't be greedy! There are only {self.num_cookies} cookies in the jar.\")\n",
    "        self._num_cookies = num_cookies"
   ]
  },
  {
   "cell_type": "code",
   "execution_count": 8,
   "id": "3ad53339-87da-47e4-9e13-4e147dd07428",
   "metadata": {},
   "outputs": [
    {
     "ename": "ValueError",
     "evalue": "Jar capacity must be non-negative.",
     "output_type": "error",
     "traceback": [
      "\u001b[1;31m---------------------------------------------------------------------------\u001b[0m",
      "\u001b[1;31mValueError\u001b[0m                                Traceback (most recent call last)",
      "Input \u001b[1;32mIn [8]\u001b[0m, in \u001b[0;36m<cell line: 2>\u001b[1;34m()\u001b[0m\n\u001b[0;32m      1\u001b[0m \u001b[38;5;66;03m# Should raise an error\u001b[39;00m\n\u001b[1;32m----> 2\u001b[0m jar \u001b[38;5;241m=\u001b[39m \u001b[43mCookieJar\u001b[49m\u001b[43m(\u001b[49m\u001b[43mcapacity\u001b[49m\u001b[38;5;241;43m=\u001b[39;49m\u001b[38;5;241;43m-\u001b[39;49m\u001b[38;5;241;43m1\u001b[39;49m\u001b[43m)\u001b[49m\n",
      "Input \u001b[1;32mIn [7]\u001b[0m, in \u001b[0;36mCookieJar.__init__\u001b[1;34m(self, capacity)\u001b[0m\n\u001b[0;32m      3\u001b[0m \u001b[38;5;28;01mdef\u001b[39;00m \u001b[38;5;21m__init__\u001b[39m(\u001b[38;5;28mself\u001b[39m, capacity\u001b[38;5;241m=\u001b[39m\u001b[38;5;241m42\u001b[39m):\n\u001b[0;32m      4\u001b[0m     \u001b[38;5;28mself\u001b[39m\u001b[38;5;241m.\u001b[39m_num_cookies \u001b[38;5;241m=\u001b[39m \u001b[38;5;241m0\u001b[39m\n\u001b[1;32m----> 5\u001b[0m     \u001b[38;5;28mself\u001b[39m\u001b[38;5;241m.\u001b[39mcapacity \u001b[38;5;241m=\u001b[39m capacity\n",
      "Input \u001b[1;32mIn [7]\u001b[0m, in \u001b[0;36mCookieJar.capacity\u001b[1;34m(self, capacity)\u001b[0m\n\u001b[0;32m     27\u001b[0m     \u001b[38;5;28;01mraise\u001b[39;00m \u001b[38;5;167;01mValueError\u001b[39;00m(\u001b[38;5;124m\"\u001b[39m\u001b[38;5;124mJar capacity must be an integer.\u001b[39m\u001b[38;5;124m\"\u001b[39m)\n\u001b[0;32m     28\u001b[0m \u001b[38;5;28;01mif\u001b[39;00m capacity \u001b[38;5;241m<\u001b[39m \u001b[38;5;241m0\u001b[39m:\n\u001b[1;32m---> 29\u001b[0m     \u001b[38;5;28;01mraise\u001b[39;00m \u001b[38;5;167;01mValueError\u001b[39;00m(\u001b[38;5;124m\"\u001b[39m\u001b[38;5;124mJar capacity must be non-negative.\u001b[39m\u001b[38;5;124m\"\u001b[39m)\n\u001b[0;32m     30\u001b[0m \u001b[38;5;28;01mif\u001b[39;00m capacity \u001b[38;5;241m<\u001b[39m \u001b[38;5;28mself\u001b[39m\u001b[38;5;241m.\u001b[39mnum_cookies:\n\u001b[0;32m     31\u001b[0m     \u001b[38;5;28;01mraise\u001b[39;00m \u001b[38;5;167;01mValueError\u001b[39;00m(\u001b[38;5;124mf\u001b[39m\u001b[38;5;124m\"\u001b[39m\u001b[38;5;124mThe jar currently has \u001b[39m\u001b[38;5;132;01m{\u001b[39;00m\u001b[38;5;28mself\u001b[39m\u001b[38;5;241m.\u001b[39mnum_cookies\u001b[38;5;132;01m}\u001b[39;00m\u001b[38;5;124m cookies. Withdraw some cookies before reducing its capacity.\u001b[39m\u001b[38;5;124m\"\u001b[39m)\n",
      "\u001b[1;31mValueError\u001b[0m: Jar capacity must be non-negative."
     ]
    }
   ],
   "source": [
    "# Should raise an error\n",
    "jar = CookieJar(capacity=-1)"
   ]
  },
  {
   "cell_type": "code",
   "execution_count": 9,
   "id": "d6db9e59-84d1-4895-bb74-4b1ba699cfff",
   "metadata": {},
   "outputs": [
    {
     "ename": "ValueError",
     "evalue": "Jar capacity must be an integer.",
     "output_type": "error",
     "traceback": [
      "\u001b[1;31m---------------------------------------------------------------------------\u001b[0m",
      "\u001b[1;31mValueError\u001b[0m                                Traceback (most recent call last)",
      "Input \u001b[1;32mIn [9]\u001b[0m, in \u001b[0;36m<cell line: 2>\u001b[1;34m()\u001b[0m\n\u001b[0;32m      1\u001b[0m \u001b[38;5;66;03m# Should raise an error\u001b[39;00m\n\u001b[1;32m----> 2\u001b[0m jar \u001b[38;5;241m=\u001b[39m \u001b[43mCookieJar\u001b[49m\u001b[43m(\u001b[49m\u001b[43mcapacity\u001b[49m\u001b[38;5;241;43m=\u001b[39;49m\u001b[38;5;241;43m1.5\u001b[39;49m\u001b[43m)\u001b[49m\n",
      "Input \u001b[1;32mIn [7]\u001b[0m, in \u001b[0;36mCookieJar.__init__\u001b[1;34m(self, capacity)\u001b[0m\n\u001b[0;32m      3\u001b[0m \u001b[38;5;28;01mdef\u001b[39;00m \u001b[38;5;21m__init__\u001b[39m(\u001b[38;5;28mself\u001b[39m, capacity\u001b[38;5;241m=\u001b[39m\u001b[38;5;241m42\u001b[39m):\n\u001b[0;32m      4\u001b[0m     \u001b[38;5;28mself\u001b[39m\u001b[38;5;241m.\u001b[39m_num_cookies \u001b[38;5;241m=\u001b[39m \u001b[38;5;241m0\u001b[39m\n\u001b[1;32m----> 5\u001b[0m     \u001b[38;5;28mself\u001b[39m\u001b[38;5;241m.\u001b[39mcapacity \u001b[38;5;241m=\u001b[39m capacity\n",
      "Input \u001b[1;32mIn [7]\u001b[0m, in \u001b[0;36mCookieJar.capacity\u001b[1;34m(self, capacity)\u001b[0m\n\u001b[0;32m     24\u001b[0m \u001b[38;5;129m@capacity\u001b[39m\u001b[38;5;241m.\u001b[39msetter\n\u001b[0;32m     25\u001b[0m \u001b[38;5;28;01mdef\u001b[39;00m \u001b[38;5;21mcapacity\u001b[39m(\u001b[38;5;28mself\u001b[39m, capacity):\n\u001b[0;32m     26\u001b[0m     \u001b[38;5;28;01mif\u001b[39;00m \u001b[38;5;129;01mnot\u001b[39;00m \u001b[38;5;28misinstance\u001b[39m(capacity, \u001b[38;5;28mint\u001b[39m):\n\u001b[1;32m---> 27\u001b[0m         \u001b[38;5;28;01mraise\u001b[39;00m \u001b[38;5;167;01mValueError\u001b[39;00m(\u001b[38;5;124m\"\u001b[39m\u001b[38;5;124mJar capacity must be an integer.\u001b[39m\u001b[38;5;124m\"\u001b[39m)\n\u001b[0;32m     28\u001b[0m     \u001b[38;5;28;01mif\u001b[39;00m capacity \u001b[38;5;241m<\u001b[39m \u001b[38;5;241m0\u001b[39m:\n\u001b[0;32m     29\u001b[0m         \u001b[38;5;28;01mraise\u001b[39;00m \u001b[38;5;167;01mValueError\u001b[39;00m(\u001b[38;5;124m\"\u001b[39m\u001b[38;5;124mJar capacity must be non-negative.\u001b[39m\u001b[38;5;124m\"\u001b[39m)\n",
      "\u001b[1;31mValueError\u001b[0m: Jar capacity must be an integer."
     ]
    }
   ],
   "source": [
    "# Should raise an error\n",
    "jar = CookieJar(capacity=1.5)"
   ]
  },
  {
   "cell_type": "code",
   "execution_count": 10,
   "id": "6e85eaf4-e844-43d8-bde5-a7f6de123854",
   "metadata": {},
   "outputs": [
    {
     "name": "stdout",
     "output_type": "stream",
     "text": [
      "\n"
     ]
    }
   ],
   "source": [
    "# Should print an empty string\n",
    "jar = CookieJar()\n",
    "print(jar)"
   ]
  },
  {
   "cell_type": "code",
   "execution_count": 11,
   "id": "19d6355f-24ed-4336-b024-82cd7095a7d3",
   "metadata": {},
   "outputs": [
    {
     "ename": "ValueError",
     "evalue": "Jar is overflowing! It can only fit 42 cookies.",
     "output_type": "error",
     "traceback": [
      "\u001b[1;31m---------------------------------------------------------------------------\u001b[0m",
      "\u001b[1;31mValueError\u001b[0m                                Traceback (most recent call last)",
      "Input \u001b[1;32mIn [11]\u001b[0m, in \u001b[0;36m<cell line: 2>\u001b[1;34m()\u001b[0m\n\u001b[0;32m      1\u001b[0m \u001b[38;5;66;03m# Should raise an error\u001b[39;00m\n\u001b[1;32m----> 2\u001b[0m \u001b[43mjar\u001b[49m\u001b[38;5;241;43m.\u001b[39;49m\u001b[43mdeposit\u001b[49m\u001b[43m(\u001b[49m\u001b[38;5;241;43m50\u001b[39;49m\u001b[43m)\u001b[49m\n\u001b[0;32m      3\u001b[0m \u001b[38;5;28mprint\u001b[39m(jar)\n",
      "Input \u001b[1;32mIn [7]\u001b[0m, in \u001b[0;36mCookieJar.deposit\u001b[1;34m(self, n)\u001b[0m\n\u001b[0;32m     11\u001b[0m \u001b[38;5;28;01mdef\u001b[39;00m \u001b[38;5;21mdeposit\u001b[39m(\u001b[38;5;28mself\u001b[39m, n):\n\u001b[0;32m     12\u001b[0m     \u001b[38;5;124;03m\"\"\"Add cookies to the jar.\"\"\"\u001b[39;00m\n\u001b[1;32m---> 13\u001b[0m     \u001b[38;5;28mself\u001b[39m\u001b[38;5;241m.\u001b[39mnum_cookies \u001b[38;5;241m+\u001b[39m\u001b[38;5;241m=\u001b[39m n\n",
      "Input \u001b[1;32mIn [7]\u001b[0m, in \u001b[0;36mCookieJar.num_cookies\u001b[1;34m(self, num_cookies)\u001b[0m\n\u001b[0;32m     39\u001b[0m \u001b[38;5;129m@num_cookies\u001b[39m\u001b[38;5;241m.\u001b[39msetter\n\u001b[0;32m     40\u001b[0m \u001b[38;5;28;01mdef\u001b[39;00m \u001b[38;5;21mnum_cookies\u001b[39m(\u001b[38;5;28mself\u001b[39m, num_cookies):\n\u001b[0;32m     41\u001b[0m     \u001b[38;5;28;01mif\u001b[39;00m num_cookies \u001b[38;5;241m>\u001b[39m \u001b[38;5;28mself\u001b[39m\u001b[38;5;241m.\u001b[39mcapacity:\n\u001b[1;32m---> 42\u001b[0m         \u001b[38;5;28;01mraise\u001b[39;00m \u001b[38;5;167;01mValueError\u001b[39;00m(\u001b[38;5;124mf\u001b[39m\u001b[38;5;124m\"\u001b[39m\u001b[38;5;124mJar is overflowing! It can only fit \u001b[39m\u001b[38;5;132;01m{\u001b[39;00m\u001b[38;5;28mself\u001b[39m\u001b[38;5;241m.\u001b[39mcapacity\u001b[38;5;132;01m}\u001b[39;00m\u001b[38;5;124m cookies.\u001b[39m\u001b[38;5;124m\"\u001b[39m)\n\u001b[0;32m     43\u001b[0m     \u001b[38;5;28;01mif\u001b[39;00m num_cookies \u001b[38;5;241m<\u001b[39m \u001b[38;5;241m0\u001b[39m:\n\u001b[0;32m     44\u001b[0m         \u001b[38;5;28;01mraise\u001b[39;00m \u001b[38;5;167;01mValueError\u001b[39;00m(\u001b[38;5;124mf\u001b[39m\u001b[38;5;124m\"\u001b[39m\u001b[38;5;124mDon\u001b[39m\u001b[38;5;124m'\u001b[39m\u001b[38;5;124mt be greedy! There are only \u001b[39m\u001b[38;5;132;01m{\u001b[39;00m\u001b[38;5;28mself\u001b[39m\u001b[38;5;241m.\u001b[39mnum_cookies\u001b[38;5;132;01m}\u001b[39;00m\u001b[38;5;124m cookies in the jar.\u001b[39m\u001b[38;5;124m\"\u001b[39m)\n",
      "\u001b[1;31mValueError\u001b[0m: Jar is overflowing! It can only fit 42 cookies."
     ]
    }
   ],
   "source": [
    "# Should raise an error\n",
    "jar.deposit(50)\n",
    "print(jar)"
   ]
  },
  {
   "cell_type": "code",
   "execution_count": 12,
   "id": "e8d493e8-443e-4bfc-bd3b-89c19c1d05a1",
   "metadata": {},
   "outputs": [
    {
     "name": "stdout",
     "output_type": "stream",
     "text": [
      "🍪🍪🍪🍪🍪🍪🍪🍪🍪🍪\n"
     ]
    }
   ],
   "source": [
    "jar.deposit(10)\n",
    "print(jar)"
   ]
  },
  {
   "cell_type": "code",
   "execution_count": 13,
   "id": "3e83d683-52e1-48e3-a8f9-814098491c8b",
   "metadata": {},
   "outputs": [
    {
     "ename": "ValueError",
     "evalue": "Don't be greedy! There are only 10 cookies in the jar.",
     "output_type": "error",
     "traceback": [
      "\u001b[1;31m---------------------------------------------------------------------------\u001b[0m",
      "\u001b[1;31mValueError\u001b[0m                                Traceback (most recent call last)",
      "Input \u001b[1;32mIn [13]\u001b[0m, in \u001b[0;36m<cell line: 2>\u001b[1;34m()\u001b[0m\n\u001b[0;32m      1\u001b[0m \u001b[38;5;66;03m# Should raise an error\u001b[39;00m\n\u001b[1;32m----> 2\u001b[0m \u001b[43mjar\u001b[49m\u001b[38;5;241;43m.\u001b[39;49m\u001b[43mwithdraw\u001b[49m\u001b[43m(\u001b[49m\u001b[38;5;241;43m25\u001b[39;49m\u001b[43m)\u001b[49m\n\u001b[0;32m      3\u001b[0m \u001b[38;5;28mprint\u001b[39m(jar)\n",
      "Input \u001b[1;32mIn [7]\u001b[0m, in \u001b[0;36mCookieJar.withdraw\u001b[1;34m(self, n)\u001b[0m\n\u001b[0;32m     15\u001b[0m \u001b[38;5;28;01mdef\u001b[39;00m \u001b[38;5;21mwithdraw\u001b[39m(\u001b[38;5;28mself\u001b[39m, n):\n\u001b[0;32m     16\u001b[0m     \u001b[38;5;124;03m\"\"\"Remove cookies from the jar.\"\"\"\u001b[39;00m\n\u001b[1;32m---> 17\u001b[0m     \u001b[38;5;28mself\u001b[39m\u001b[38;5;241m.\u001b[39mnum_cookies \u001b[38;5;241m-\u001b[39m\u001b[38;5;241m=\u001b[39m n\n",
      "Input \u001b[1;32mIn [7]\u001b[0m, in \u001b[0;36mCookieJar.num_cookies\u001b[1;34m(self, num_cookies)\u001b[0m\n\u001b[0;32m     42\u001b[0m     \u001b[38;5;28;01mraise\u001b[39;00m \u001b[38;5;167;01mValueError\u001b[39;00m(\u001b[38;5;124mf\u001b[39m\u001b[38;5;124m\"\u001b[39m\u001b[38;5;124mJar is overflowing! It can only fit \u001b[39m\u001b[38;5;132;01m{\u001b[39;00m\u001b[38;5;28mself\u001b[39m\u001b[38;5;241m.\u001b[39mcapacity\u001b[38;5;132;01m}\u001b[39;00m\u001b[38;5;124m cookies.\u001b[39m\u001b[38;5;124m\"\u001b[39m)\n\u001b[0;32m     43\u001b[0m \u001b[38;5;28;01mif\u001b[39;00m num_cookies \u001b[38;5;241m<\u001b[39m \u001b[38;5;241m0\u001b[39m:\n\u001b[1;32m---> 44\u001b[0m     \u001b[38;5;28;01mraise\u001b[39;00m \u001b[38;5;167;01mValueError\u001b[39;00m(\u001b[38;5;124mf\u001b[39m\u001b[38;5;124m\"\u001b[39m\u001b[38;5;124mDon\u001b[39m\u001b[38;5;124m'\u001b[39m\u001b[38;5;124mt be greedy! There are only \u001b[39m\u001b[38;5;132;01m{\u001b[39;00m\u001b[38;5;28mself\u001b[39m\u001b[38;5;241m.\u001b[39mnum_cookies\u001b[38;5;132;01m}\u001b[39;00m\u001b[38;5;124m cookies in the jar.\u001b[39m\u001b[38;5;124m\"\u001b[39m)\n\u001b[0;32m     45\u001b[0m \u001b[38;5;28mself\u001b[39m\u001b[38;5;241m.\u001b[39m_num_cookies \u001b[38;5;241m=\u001b[39m num_cookies\n",
      "\u001b[1;31mValueError\u001b[0m: Don't be greedy! There are only 10 cookies in the jar."
     ]
    }
   ],
   "source": [
    "# Should raise an error\n",
    "jar.withdraw(25)\n",
    "print(jar)"
   ]
  },
  {
   "cell_type": "code",
   "execution_count": 14,
   "id": "d88733f8-464e-4dfb-a8af-23769567a47d",
   "metadata": {},
   "outputs": [
    {
     "name": "stdout",
     "output_type": "stream",
     "text": [
      "🍪🍪🍪🍪🍪\n"
     ]
    }
   ],
   "source": [
    "jar.withdraw(5)\n",
    "print(jar)"
   ]
  },
  {
   "cell_type": "code",
   "execution_count": 15,
   "id": "2233337b-262e-420b-8ba7-9f69a60ccacc",
   "metadata": {},
   "outputs": [
    {
     "data": {
      "text/plain": [
       "42"
      ]
     },
     "execution_count": 15,
     "metadata": {},
     "output_type": "execute_result"
    }
   ],
   "source": [
    "jar.capacity"
   ]
  },
  {
   "cell_type": "code",
   "execution_count": 16,
   "id": "9c0e2237-1b49-4999-af1c-ae89d5b9b1b2",
   "metadata": {},
   "outputs": [
    {
     "data": {
      "text/plain": [
       "5"
      ]
     },
     "execution_count": 16,
     "metadata": {},
     "output_type": "execute_result"
    }
   ],
   "source": [
    "jar.num_cookies"
   ]
  },
  {
   "cell_type": "code",
   "execution_count": 17,
   "id": "3fa78c49-b0cd-453a-a3e1-0d3ff369c40d",
   "metadata": {},
   "outputs": [
    {
     "ename": "ValueError",
     "evalue": "The jar currently has 5 cookies. Withdraw some cookies before reducing its capacity.",
     "output_type": "error",
     "traceback": [
      "\u001b[1;31m---------------------------------------------------------------------------\u001b[0m",
      "\u001b[1;31mValueError\u001b[0m                                Traceback (most recent call last)",
      "Input \u001b[1;32mIn [17]\u001b[0m, in \u001b[0;36m<cell line: 2>\u001b[1;34m()\u001b[0m\n\u001b[0;32m      1\u001b[0m \u001b[38;5;66;03m# Should raise an error\u001b[39;00m\n\u001b[1;32m----> 2\u001b[0m jar\u001b[38;5;241m.\u001b[39mcapacity \u001b[38;5;241m=\u001b[39m \u001b[38;5;241m2\u001b[39m\n",
      "Input \u001b[1;32mIn [7]\u001b[0m, in \u001b[0;36mCookieJar.capacity\u001b[1;34m(self, capacity)\u001b[0m\n\u001b[0;32m     29\u001b[0m     \u001b[38;5;28;01mraise\u001b[39;00m \u001b[38;5;167;01mValueError\u001b[39;00m(\u001b[38;5;124m\"\u001b[39m\u001b[38;5;124mJar capacity must be non-negative.\u001b[39m\u001b[38;5;124m\"\u001b[39m)\n\u001b[0;32m     30\u001b[0m \u001b[38;5;28;01mif\u001b[39;00m capacity \u001b[38;5;241m<\u001b[39m \u001b[38;5;28mself\u001b[39m\u001b[38;5;241m.\u001b[39mnum_cookies:\n\u001b[1;32m---> 31\u001b[0m     \u001b[38;5;28;01mraise\u001b[39;00m \u001b[38;5;167;01mValueError\u001b[39;00m(\u001b[38;5;124mf\u001b[39m\u001b[38;5;124m\"\u001b[39m\u001b[38;5;124mThe jar currently has \u001b[39m\u001b[38;5;132;01m{\u001b[39;00m\u001b[38;5;28mself\u001b[39m\u001b[38;5;241m.\u001b[39mnum_cookies\u001b[38;5;132;01m}\u001b[39;00m\u001b[38;5;124m cookies. Withdraw some cookies before reducing its capacity.\u001b[39m\u001b[38;5;124m\"\u001b[39m)\n\u001b[0;32m     32\u001b[0m \u001b[38;5;28mself\u001b[39m\u001b[38;5;241m.\u001b[39m_capacity \u001b[38;5;241m=\u001b[39m capacity\n",
      "\u001b[1;31mValueError\u001b[0m: The jar currently has 5 cookies. Withdraw some cookies before reducing its capacity."
     ]
    }
   ],
   "source": [
    "# Should raise an error\n",
    "jar.capacity = 2"
   ]
  },
  {
   "cell_type": "markdown",
   "id": "03047678-57a7-405d-887c-465462a8a662",
   "metadata": {},
   "source": [
    "## Question 3\n",
    "\n",
    "*35 points*\n",
    "\n",
    "Based on the data in `populations.txt`, compute and print:\n",
    "\n",
    "- The mean and std of the populations of each species (hares, lynxes, and carrots) for the years in the period.\n",
    "- Which year each species had the largest population (*HINT: `np.argmax()`*).\n",
    "- Which species has the largest population for each year.\n",
    "- Which years any of the populations is above a user-specified threshold, with a default of 60,000 (*HINT: `np.any()`*).\n",
    "- The top `n` years for each species when they had the lowest populations. Use a default of `n=3`.\n",
    "- Compare (plot) the change in hare population and the number of lynxes (*HINT: `np.gradient()`*). Set the proper `xticks` for your plot. Plot both variables on the same plot. Use two y axes, one for each variable. Set the color of each y axis label to be the same as the color of the respective curve, so you don't need to have a legend.\n",
    "- Check correlation between the two quantities above (*HINT: `np.corrcoef()`*). Comment on the results of the correlation and the plot.\n",
    "\n",
    "**Do not loop over the arrays or DataFrame items to perform operations. You can use loops to simplify your prints.** *Hint: use `zip()`*\n",
    "\n",
    "**Make sure all your prints are easily readable. Do not simply print lists/arrays with no headings or descriptions.** \n",
    "\n",
    "Use a comma separator for every thousands and 2 decimal spaces for all prints, except the year (e.g., `1,234.56`). Do not use any `round` function."
   ]
  },
  {
   "cell_type": "code",
   "execution_count": 19,
   "id": "a28b3993-8218-42aa-9336-0c3bbfc56a2a",
   "metadata": {},
   "outputs": [],
   "source": [
    "class Population:\n",
    "    \n",
    "    def __init__(self, data):\n",
    "        self.data = data\n",
    "        self.years, self.hares, self.lynxes, self.carrots = self.data.T\n",
    "        self.years = self.years.astype(\"int\")\n",
    "\n",
    "        self.species = np.array([\"Hares\", \"Lynxes\", \"Carrots\"])\n",
    "        self.populations = [self.hares, self.lynxes, self.carrots]\n",
    "        self.pop_array = self.data[:,1:]\n",
    "\n",
    "        \n",
    "    def get_stats(self):\n",
    "        for specie, population in zip(self.species, self.populations):\n",
    "            print(specie)\n",
    "            print(f\"Mean: {population.mean():,.2f}, Standard deviation: {population.std():,.2f}\")\n",
    "            print(\"\")\n",
    "            \n",
    "    def get_highest_pop_specie(self):\n",
    "        for specie, population in zip(self.species, self.populations):\n",
    "            print(specie)\n",
    "            j_max_years = np.argmax(population)\n",
    "            print(f\"Max. year: {self.years[j_max_years]}\")\n",
    "            print(\"\")\n",
    "            \n",
    "    def get_highest_pop_year(self):\n",
    "        max_species_idx = np.argmax(self.pop_array, axis=1)\n",
    "        max_species = self.species[max_species_idx]\n",
    "        print(\"Max species:\")\n",
    "        for year, max_specie in zip(self.years, max_species):\n",
    "            print(f\"{year}: {max_specie}\")\n",
    "            \n",
    "    def get_years_above_threshold(self, threshold=60000):\n",
    "        above_threshold = np.any(self.pop_array > threshold, axis=1)\n",
    "        print(f\"Any population above {threshold}:\", self.years[above_threshold])\n",
    "        \n",
    "    def get_lowest_pop_years(self, num=2):\n",
    "        print(f\"Top {num} years with lowest populations for:\")\n",
    "        for specie, population in zip(self.species, self.populations):\n",
    "            j_top_2 = np.argsort(population)[:num]\n",
    "            print(f\"{specie}: {self.years[j_top_2]}\")\n",
    "            \n",
    "    def plot_comparison(self):\n",
    "        hare_grad = np.gradient(self.hares, 1.0)\n",
    "        \n",
    "        # Create fig and ax objects\n",
    "        fig, ax_hare = plt.subplots()\n",
    "\n",
    "        # Plot theta\n",
    "        ax_hare.plot(self.years, hare_grad, \"b\")\n",
    "        ax_hare.set_xlabel(\"Year\")\n",
    "        ax_hare.set_xticks(self.years[::2]);\n",
    "        ax_hare.set_ylabel(\"Change in hare population\", color=\"b\")\n",
    "\n",
    "        # Create second y axis by twinning the x axis\n",
    "        ax_lynx = ax_hare.twinx()\n",
    "\n",
    "        # Plot omega\n",
    "        ax_lynx.plot(self.years, -self.lynxes, \"r\")\n",
    "        ax_lynx.set_ylabel(\"Lynx population\", color=\"r\");\n",
    "        \n",
    "        return fig\n",
    "    \n",
    "    def get_correlation(self):\n",
    "        hare_grad = np.gradient(self.hares, 1.0)\n",
    "        corr = np.corrcoef(hare_grad, self.lynxes)[0,1]\n",
    "        print(f\"diff(Hares) vs. Lynxes correlation: {corr}\")\n",
    "\n",
    "        return corr"
   ]
  },
  {
   "cell_type": "code",
   "execution_count": 20,
   "id": "09b7183e-24f6-4312-9a2d-4376f92d90cb",
   "metadata": {},
   "outputs": [],
   "source": [
    "data_pop = np.genfromtxt('populations.txt')\n",
    "pop = Population(data=data_pop)"
   ]
  },
  {
   "cell_type": "code",
   "execution_count": 21,
   "id": "823af3bb-d65c-4edf-9c82-c6f9b6b88352",
   "metadata": {},
   "outputs": [
    {
     "name": "stdout",
     "output_type": "stream",
     "text": [
      "Hares\n",
      "Mean: 34,080.95, Standard deviation: 20,897.91\n",
      "\n",
      "Lynxes\n",
      "Mean: 20,166.67, Standard deviation: 16,254.59\n",
      "\n",
      "Carrots\n",
      "Mean: 42,400.00, Standard deviation: 3,322.51\n",
      "\n"
     ]
    }
   ],
   "source": [
    "pop.get_stats()"
   ]
  },
  {
   "cell_type": "code",
   "execution_count": 22,
   "id": "6b8f08ce-2f1a-449f-8338-63687eb4dc95",
   "metadata": {},
   "outputs": [
    {
     "name": "stdout",
     "output_type": "stream",
     "text": [
      "Hares\n",
      "Max. year: 1903\n",
      "\n",
      "Lynxes\n",
      "Max. year: 1904\n",
      "\n",
      "Carrots\n",
      "Max. year: 1900\n",
      "\n"
     ]
    }
   ],
   "source": [
    "pop.get_highest_pop_specie()"
   ]
  },
  {
   "cell_type": "code",
   "execution_count": 23,
   "id": "7b1e06e1-abd1-4e41-8309-1c8d6b6e3dae",
   "metadata": {},
   "outputs": [
    {
     "name": "stdout",
     "output_type": "stream",
     "text": [
      "Max species:\n",
      "1900: Carrots\n",
      "1901: Carrots\n",
      "1902: Hares\n",
      "1903: Hares\n",
      "1904: Lynxes\n",
      "1905: Lynxes\n",
      "1906: Carrots\n",
      "1907: Carrots\n",
      "1908: Carrots\n",
      "1909: Carrots\n",
      "1910: Carrots\n",
      "1911: Carrots\n",
      "1912: Hares\n",
      "1913: Hares\n",
      "1914: Hares\n",
      "1915: Lynxes\n",
      "1916: Carrots\n",
      "1917: Carrots\n",
      "1918: Carrots\n",
      "1919: Carrots\n",
      "1920: Carrots\n"
     ]
    }
   ],
   "source": [
    "pop.get_highest_pop_year()"
   ]
  },
  {
   "cell_type": "code",
   "execution_count": 24,
   "id": "bd9881fe-1928-4793-8ace-04deed280030",
   "metadata": {},
   "outputs": [
    {
     "name": "stdout",
     "output_type": "stream",
     "text": [
      "Any population above 60000: [1902 1903 1913]\n"
     ]
    }
   ],
   "source": [
    "pop.get_years_above_threshold(60000)"
   ]
  },
  {
   "cell_type": "code",
   "execution_count": 25,
   "id": "1c2e478f-6016-4cdb-9c28-dd40d61551f5",
   "metadata": {},
   "outputs": [
    {
     "name": "stdout",
     "output_type": "stream",
     "text": [
      "Top 3 years with lowest populations for:\n",
      "Hares: [1917 1916 1918]\n",
      "Lynxes: [1900 1901 1910]\n",
      "Carrots: [1916 1903 1906]\n"
     ]
    }
   ],
   "source": [
    "pop.get_lowest_pop_years(3)"
   ]
  },
  {
   "cell_type": "code",
   "execution_count": 26,
   "id": "cab1970b-7191-471a-be7a-b21877bb1a21",
   "metadata": {},
   "outputs": [
    {
     "data": {
      "image/png": "[encoded data removed]",
      "text/plain": [
       "<Figure size 640x480 with 2 Axes>"
      ]
     },
     "metadata": {},
     "output_type": "display_data"
    }
   ],
   "source": [
    "fig = pop.plot_comparison()"
   ]
  },
  {
   "cell_type": "code",
   "execution_count": 27,
   "id": "23e62807-91d7-4a85-bb2b-fbc997aedf7a",
   "metadata": {},
   "outputs": [
    {
     "name": "stdout",
     "output_type": "stream",
     "text": [
      "diff(Hares) vs. Lynxes correlation: -0.9179248480315341\n"
     ]
    }
   ],
   "source": [
    "corr = pop.get_correlation()"
   ]
  }
 ],
 "metadata": {
  "citation-manager": {
   "items": {}
  },
  "kernelspec": {
   "display_name": "Python 3 (ipykernel)",
   "language": "python",
   "name": "python3"
  },
  "language_info": {
   "codemirror_mode": {
    "name": "ipython",
    "version": 3
   },
   "file_extension": ".py",
   "mimetype": "text/x-python",
   "name": "python",
   "nbconvert_exporter": "python",
   "pygments_lexer": "ipython3",
   "version": "3.9.12"
  },
  "vscode": {
   "interpreter": {
    "hash": "02d63af7c9afabca5df1e6afae71fd75eeafd48d5a751ff1a20d30dc636abb91"
   }
  }
 },
 "nbformat": 4,
 "nbformat_minor": 5
}
