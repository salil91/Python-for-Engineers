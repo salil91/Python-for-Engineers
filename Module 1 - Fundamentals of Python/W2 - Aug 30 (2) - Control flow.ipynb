{
 "cells": [
  {
   "cell_type": "markdown",
   "id": "8e49b940-eb5e-4401-b051-493b118d09c2",
   "metadata": {},
   "source": [
    "# Week 2 - August 30 - Control flow"
   ]
  },
  {
   "cell_type": "markdown",
   "id": "33e6806c-704f-4a86-a856-ab8fa5e4809f",
   "metadata": {},
   "source": [
    "**Note:** Python relies on indentation (whitespace at the beginning of a line) to define scope in the code. Other programming languages often use curly-brackets for this purpose.\n",
    "\n",
    "The number of spaces technically does not matter, as long as it is consistent. However, **4 spaces is the standard**."
   ]
  },
  {
   "cell_type": "markdown",
   "id": "89a5fb46-3ee7-4019-9069-61d7a432eecb",
   "metadata": {
    "tags": []
   },
   "source": [
    "## Conditionals"
   ]
  },
  {
   "cell_type": "markdown",
   "id": "7bffed5f-8a5d-445d-903c-76683ca7486e",
   "metadata": {
    "tags": []
   },
   "source": [
    "### if"
   ]
  },
  {
   "cell_type": "code",
   "execution_count": null,
   "id": "1d82bba3-0046-4219-9bed-fb3446625390",
   "metadata": {},
   "outputs": [],
   "source": [
    "a = 100\n",
    "b = 200\n",
    "if b > a:\n",
    "    print(\"b is greater\")"
   ]
  },
  {
   "cell_type": "markdown",
   "id": "bfc2a0e3-ca3a-47a9-9a68-88d0a1ed2979",
   "metadata": {
    "tags": []
   },
   "source": [
    "### else"
   ]
  },
  {
   "cell_type": "code",
   "execution_count": null,
   "id": "e33e81c5-927b-4f36-ab22-20a8bab271ef",
   "metadata": {},
   "outputs": [],
   "source": [
    "a = 200\n",
    "b = 100\n",
    "if b > a:\n",
    "    print(\"b is greater\")\n",
    "else:\n",
    "    print(\"a is greater\")"
   ]
  },
  {
   "cell_type": "markdown",
   "id": "e2500dc9-b365-480f-bcd7-2b6046fd2680",
   "metadata": {
    "tags": []
   },
   "source": [
    "### elif"
   ]
  },
  {
   "cell_type": "code",
   "execution_count": null,
   "id": "4b513efd-98ed-45dd-a4e2-92e2ad5f4ec4",
   "metadata": {},
   "outputs": [],
   "source": [
    "a = 100\n",
    "b = 100\n",
    "if b > a:\n",
    "    print(\"b is greater\")\n",
    "elif b == a:\n",
    "    print(\"a and b are equal\")\n",
    "else:\n",
    "    print(\"a is greater\")\n",
    "    "
   ]
  },
  {
   "cell_type": "markdown",
   "id": "e0bd919c-922d-4277-9de0-b95806418555",
   "metadata": {
    "jp-MarkdownHeadingCollapsed": true,
    "tags": []
   },
   "source": [
    "### Short hand"
   ]
  },
  {
   "cell_type": "markdown",
   "id": "9cb005a9-5b6d-414f-b2b3-f786b223feb8",
   "metadata": {},
   "source": [
    "You can condense one-line conditions:"
   ]
  },
  {
   "cell_type": "code",
   "execution_count": null,
   "id": "2ef84b7e-226d-4ff2-8919-58067c294545",
   "metadata": {},
   "outputs": [],
   "source": [
    "if a == b: print(\"Both are equal\")"
   ]
  },
  {
   "cell_type": "markdown",
   "id": "17b05ef8-de24-444b-8cd8-e6b1f4f31f5b",
   "metadata": {},
   "source": [
    "Or even more powerful, you can use **conditional expressisons / ternary operators**:"
   ]
  },
  {
   "cell_type": "code",
   "execution_count": null,
   "id": "189b96f8-27dc-4b3b-8139-045332e1bb7b",
   "metadata": {},
   "outputs": [],
   "source": [
    "a = 1\n",
    "b = 10\n",
    "print(\"Both are equal\") if a == b else print(\"Both are NOT equal\")"
   ]
  },
  {
   "cell_type": "markdown",
   "id": "77681f5b-0000-488a-a3c1-8a1b7fed2f23",
   "metadata": {},
   "source": [
    "You can even have multiple of these in a single line, but at that point you code loses some readability."
   ]
  },
  {
   "cell_type": "code",
   "execution_count": null,
   "id": "fd2b9982-85ba-4f73-b275-590082fead8e",
   "metadata": {},
   "outputs": [],
   "source": [
    "a = 0\n",
    "b = 0\n",
    "print(\"b is greater\") if b > a else print (\"both are equal\") if b == a else print(\"a is greater\")"
   ]
  },
  {
   "cell_type": "markdown",
   "id": "526e42f6-bff1-4c92-86bb-956b5de488b8",
   "metadata": {
    "tags": []
   },
   "source": [
    "### Logical Operators"
   ]
  },
  {
   "cell_type": "markdown",
   "id": "376379b0-5260-4b52-bb91-f682eead0805",
   "metadata": {},
   "source": [
    "**Boolean conditions**"
   ]
  },
  {
   "cell_type": "code",
   "execution_count": null,
   "id": "7523dc76-a3dd-490c-9027-e98c5cbe4bd0",
   "metadata": {},
   "outputs": [],
   "source": [
    "condition = True\n",
    "\n",
    "if condition:\n",
    "    print(\"You don't need the == True\")"
   ]
  },
  {
   "cell_type": "markdown",
   "id": "dee3064e-6482-4b03-aa18-0830cae60ab2",
   "metadata": {},
   "source": [
    "**`not` keyword**"
   ]
  },
  {
   "cell_type": "code",
   "execution_count": null,
   "id": "db44991f-ec0a-4423-a9aa-bfd908bcda9e",
   "metadata": {},
   "outputs": [],
   "source": [
    "condition = False\n",
    "\n",
    "if not condition:\n",
    "    print(\"The not keyword checks == False\")"
   ]
  },
  {
   "cell_type": "markdown",
   "id": "42a1ed2e-7205-42ed-8f50-fb2532b7f62d",
   "metadata": {},
   "source": [
    "It also can check for empty collections (strings, lists, tuples, sets, dictionaries, etc.)"
   ]
  },
  {
   "cell_type": "code",
   "execution_count": null,
   "id": "1b7a2e21-ea31-4015-beda-ce991a1a0351",
   "metadata": {},
   "outputs": [],
   "source": [
    "any_list = []\n",
    "\n",
    "if any_list:\n",
    "    print(\"It's Empty\")"
   ]
  },
  {
   "cell_type": "markdown",
   "id": "c0646904-d859-4959-8cbc-1620681dbe73",
   "metadata": {},
   "source": [
    "And conversely, the following syntax can be used to test if it's not empty:"
   ]
  },
  {
   "cell_type": "code",
   "execution_count": null,
   "id": "9370d6e5-1891-45ba-999b-40cbec64b3d2",
   "metadata": {},
   "outputs": [],
   "source": [
    "any_string = \"This is not empty\"\n",
    "\n",
    "if any_string:\n",
    "    print(any_string)"
   ]
  },
  {
   "cell_type": "markdown",
   "id": "9eb2fd9f-f457-4097-9d94-d800dce716c6",
   "metadata": {},
   "source": [
    "**`in` keyword**\n",
    "\n",
    "This is often useful when trying to delete something from a list"
   ]
  },
  {
   "cell_type": "code",
   "execution_count": null,
   "id": "eaa95ba6-c48c-4140-885a-1c791b96d72e",
   "metadata": {},
   "outputs": [],
   "source": [
    "numbers = list(range(10))\n",
    "numbers.remove(20)\n",
    "numbers"
   ]
  },
  {
   "cell_type": "code",
   "execution_count": null,
   "id": "52b8bf8c-16e6-40f4-a6bf-f7dad790ed3d",
   "metadata": {},
   "outputs": [],
   "source": [
    "if 20 in numbers:\n",
    "    numbers.remove(20)\n",
    "numbers"
   ]
  },
  {
   "cell_type": "markdown",
   "id": "fcb3a385-757b-4b4e-99ce-69dc6296b58f",
   "metadata": {},
   "source": [
    "**`and` keyword**"
   ]
  },
  {
   "cell_type": "code",
   "execution_count": null,
   "id": "9c8cdea9-a1c3-45a0-9ef5-9c92d312b019",
   "metadata": {},
   "outputs": [],
   "source": [
    "a = 1\n",
    "b = 11\n",
    "c = 111\n",
    "if c > a and c > b:\n",
    "    print(\"c is the greatest\")"
   ]
  },
  {
   "cell_type": "markdown",
   "id": "f62ce8fc-1882-4c52-a153-e990407664c9",
   "metadata": {},
   "source": [
    "**`or` keyword**"
   ]
  },
  {
   "cell_type": "code",
   "execution_count": null,
   "id": "ac8e78b0-e42f-4716-a0d9-53dfcaad0160",
   "metadata": {},
   "outputs": [],
   "source": [
    "if b > a or b > c:\n",
    "    print(\"b is the greater than at least one of the others\")"
   ]
  },
  {
   "cell_type": "markdown",
   "id": "4bc02b70-63a6-4ee5-8016-bb776cae6171",
   "metadata": {
    "jp-MarkdownHeadingCollapsed": true,
    "tags": []
   },
   "source": [
    "### Nested ifs"
   ]
  },
  {
   "cell_type": "code",
   "execution_count": null,
   "id": "b1de9e75-df9f-4405-a452-3f51911a35cb",
   "metadata": {},
   "outputs": [],
   "source": [
    "if c > 10:\n",
    "    print(\"greater than 10\")\n",
    "    if c > 100:\n",
    "        print(\"greater than 100\")\n",
    "        if c > 1000:\n",
    "            print(\"greater than 1000\")"
   ]
  },
  {
   "cell_type": "markdown",
   "id": "efdc797b-5144-45a6-819e-048b6445a713",
   "metadata": {
    "jp-MarkdownHeadingCollapsed": true,
    "tags": []
   },
   "source": [
    "### Pass\n",
    "`if` statements cannot be empty"
   ]
  },
  {
   "cell_type": "code",
   "execution_count": null,
   "id": "e6975047-9bf4-470f-bbec-4ffea3b8270b",
   "metadata": {},
   "outputs": [],
   "source": [
    "if c > 1000:\n",
    "    \n",
    "else:\n",
    "    print(\"less than 1000\")"
   ]
  },
  {
   "cell_type": "markdown",
   "id": "bf8f5e1b-06e0-46a4-9dac-e0c08a96503f",
   "metadata": {},
   "source": [
    "The `pass` keyword comes in handy here. It is not ignored, but it results in no operation."
   ]
  },
  {
   "cell_type": "code",
   "execution_count": null,
   "id": "361b6ffe-df84-4258-82c9-d6aba3997903",
   "metadata": {},
   "outputs": [],
   "source": [
    "if c > 1000:\n",
    "    pass\n",
    "else:\n",
    "    print(\"less than 1000\")"
   ]
  },
  {
   "cell_type": "markdown",
   "id": "7618d772-12a3-4dd4-bbc6-2601bede722a",
   "metadata": {
    "jp-MarkdownHeadingCollapsed": true,
    "tags": []
   },
   "source": [
    "## While Loops\n",
    "Executed statements as long as a condition is `True`"
   ]
  },
  {
   "cell_type": "code",
   "execution_count": null,
   "id": "183b2297-4120-4bdb-a541-a2670577e5dd",
   "metadata": {},
   "outputs": [],
   "source": [
    "i = 0\n",
    "while i < 10:\n",
    "    i += 1 # Equivalent to i = i + 1\n",
    "    print(i)"
   ]
  },
  {
   "cell_type": "markdown",
   "id": "11dea875-384e-4e37-a4df-f8380325ad5f",
   "metadata": {},
   "source": [
    "The `else` keyword executes at the end of the loop (when the condition is no longer `True`:"
   ]
  },
  {
   "cell_type": "code",
   "execution_count": null,
   "id": "a8dbda90-b3ba-4732-8368-c5cfae0c0220",
   "metadata": {},
   "outputs": [],
   "source": [
    "i = 0\n",
    "while i < 10:\n",
    "    i += 1\n",
    "    print(i)\n",
    "else:\n",
    "    print(\"END\")"
   ]
  },
  {
   "cell_type": "markdown",
   "id": "e6cabaa6-18d4-47b2-8b7b-f9033c303e27",
   "metadata": {},
   "source": [
    "While loops can have **conditionals** inside them:"
   ]
  },
  {
   "cell_type": "code",
   "execution_count": null,
   "id": "72dc5b77-83af-4e34-b546-cfbcd2010bde",
   "metadata": {},
   "outputs": [],
   "source": [
    "i = 0\n",
    "while i < 10:\n",
    "    i += 1\n",
    "    # Print only even numbers\n",
    "    if i % 2 == 0:\n",
    "        print(i)"
   ]
  },
  {
   "cell_type": "markdown",
   "id": "65ffee50-d8bc-4987-8238-bc6a82a523de",
   "metadata": {},
   "source": [
    "The `continue` keyword can halts the current iteration of the loop, and continues on to the next one:"
   ]
  },
  {
   "cell_type": "code",
   "execution_count": null,
   "id": "f68f4979-8ed2-4cfb-a890-dd6c8742e568",
   "metadata": {},
   "outputs": [],
   "source": [
    "i = 0\n",
    "while i < 10:\n",
    "    i += 1\n",
    "    # Skip the rest of the loop when the number is even, hence only printing odd numbers    \n",
    "    if i % 2 == 0: \n",
    "        continue\n",
    "    print(i)\n",
    "    "
   ]
  },
  {
   "cell_type": "markdown",
   "id": "c43bacac-bb46-47cd-8956-76f7b3cc91e7",
   "metadata": {},
   "source": [
    "The `break` keyword halts a loop (and breaks out of it):"
   ]
  },
  {
   "cell_type": "code",
   "execution_count": null,
   "id": "95747560-6cbe-4ed5-b5b1-66f633a6e875",
   "metadata": {},
   "outputs": [],
   "source": [
    "i = 0\n",
    "while True:\n",
    "    i += 1\n",
    "    print(i)\n",
    "     # Stop the loop when the number is divisible by 5\n",
    "    if i % 5 == 0: \n",
    "        break\n"
   ]
  },
  {
   "cell_type": "markdown",
   "id": "70f0ebe3-a2e1-46a6-bfd3-145917e9c764",
   "metadata": {
    "jp-MarkdownHeadingCollapsed": true,
    "tags": []
   },
   "source": [
    "## For Loops\n",
    "Iterate over an iterable (list, tuple, set, dictionary, etc.)"
   ]
  },
  {
   "cell_type": "code",
   "execution_count": null,
   "id": "dc5f61cb-cf92-4aac-9caa-6f98409a40cc",
   "metadata": {},
   "outputs": [],
   "source": [
    "teams = [\"Arsenal\", \"Manchester City\", \"Tottenham\", \"Brighton\", \"Leeds United\"]\n",
    "for team in teams:\n",
    "    print(team)"
   ]
  },
  {
   "cell_type": "markdown",
   "id": "402a16a5-5c75-47d7-8483-1f7d512ca97c",
   "metadata": {},
   "source": [
    "A string is also iterable:"
   ]
  },
  {
   "cell_type": "code",
   "execution_count": null,
   "id": "7a20eb12-0d52-4530-9bef-2588dc293699",
   "metadata": {},
   "outputs": [],
   "source": [
    "for letter in teams[0]:\n",
    "    print(letter)"
   ]
  },
  {
   "cell_type": "markdown",
   "id": "4b5fb3fb-a707-4398-b8b5-e0b92ec3071c",
   "metadata": {},
   "source": [
    "The `else` keyword executes at the end of the loop"
   ]
  },
  {
   "cell_type": "code",
   "execution_count": null,
   "id": "5fec6a74-1149-4bf7-8a1c-ee4236a536cd",
   "metadata": {},
   "outputs": [],
   "source": [
    "for letter in teams[0]:\n",
    "    print(letter)\n",
    "else:\n",
    "    print(\"END\")"
   ]
  },
  {
   "cell_type": "markdown",
   "id": "f465f939-75f3-43c6-a1c5-ff0e6af9a661",
   "metadata": {},
   "source": [
    "Loops can be **nested**:"
   ]
  },
  {
   "cell_type": "code",
   "execution_count": null,
   "id": "ca551be4-df1f-49a9-b8cb-ca63e20bca7a",
   "metadata": {},
   "outputs": [],
   "source": [
    "for team in teams:\n",
    "    print(team)\n",
    "    for letter in teams[0]:\n",
    "        print(letter)"
   ]
  },
  {
   "cell_type": "markdown",
   "id": "30d362d4-b881-4c48-a36c-54ff6a6c04fb",
   "metadata": {},
   "source": [
    "The `continue` keyword can halts the current iteration of the loop, and continues on to the next one:"
   ]
  },
  {
   "cell_type": "code",
   "execution_count": null,
   "id": "7ebb8d2b-daa2-4312-b688-9825bf04d2fa",
   "metadata": {},
   "outputs": [],
   "source": [
    "for team in teams:\n",
    "    if team == \"Tottenham\":\n",
    "        continue\n",
    "    print(team)"
   ]
  },
  {
   "cell_type": "markdown",
   "id": "170e92aa-0c46-4d23-9150-8c3b1f35405f",
   "metadata": {},
   "source": [
    "The `break` keyword halts a loop (and breaks out of it):"
   ]
  },
  {
   "cell_type": "code",
   "execution_count": null,
   "id": "a443c119-c3b2-45ef-99ca-552be0f57d9d",
   "metadata": {},
   "outputs": [],
   "source": [
    "for team in teams:\n",
    "    if team == \"Tottenham\":\n",
    "        break\n",
    "    print(team)"
   ]
  },
  {
   "cell_type": "markdown",
   "id": "25494bd9-6cc2-4dfc-a4c2-f29e674659c3",
   "metadata": {
    "jp-MarkdownHeadingCollapsed": true,
    "tags": []
   },
   "source": [
    "### Looping over dictionaries"
   ]
  },
  {
   "cell_type": "code",
   "execution_count": null,
   "id": "689f44fc-8e8e-4403-a98b-aa2b722f4e6c",
   "metadata": {},
   "outputs": [],
   "source": [
    "arsenal = {\n",
    "    \"full_name\": \"The Arsenal Football Club\",\n",
    "    \"nickname\": \"The Gunners\",\n",
    "    \"location\": \"London\",\n",
    "    \"manager\": \"Mikel Arteta\",\n",
    "    \"founded\": 1886,\n",
    "    \"colors\": (\"red\", \"white\"),\n",
    "}\n",
    "arsenal"
   ]
  },
  {
   "cell_type": "markdown",
   "id": "b0240796-29df-4194-a1e2-5e3609ea9c5e",
   "metadata": {},
   "source": [
    "By default, it loops over the **keys**."
   ]
  },
  {
   "cell_type": "code",
   "execution_count": null,
   "id": "4ffceba9-b45d-4440-906d-c449c1891757",
   "metadata": {},
   "outputs": [],
   "source": [
    "for x in arsenal:\n",
    "    print(x)"
   ]
  },
  {
   "cell_type": "markdown",
   "id": "41b77f66-3c97-4096-a007-cd67f936a028",
   "metadata": {},
   "source": [
    "But you can easily print the **values**:"
   ]
  },
  {
   "cell_type": "code",
   "execution_count": null,
   "id": "c302531e-9612-4ff7-b335-174fb9edf625",
   "metadata": {},
   "outputs": [],
   "source": [
    "for x in arsenal:\n",
    "    print(arsenal[x])"
   ]
  },
  {
   "cell_type": "markdown",
   "id": "96d941e2-25df-4d04-afa1-51821444e876",
   "metadata": {},
   "source": [
    "But, for readability, it's usually better to be more explicit:"
   ]
  },
  {
   "cell_type": "code",
   "execution_count": null,
   "id": "83241508-e04c-48ea-9c8a-86eccd4cbaae",
   "metadata": {},
   "outputs": [],
   "source": [
    "for x in arsenal.keys():\n",
    "    print(x)"
   ]
  },
  {
   "cell_type": "code",
   "execution_count": null,
   "id": "99cddc41-bece-4062-a4de-f598aa3d2b18",
   "metadata": {},
   "outputs": [],
   "source": [
    "for x in arsenal.values():\n",
    "    print(x)"
   ]
  },
  {
   "cell_type": "markdown",
   "id": "6d26b437-95cf-407c-b177-425dcaa7f037",
   "metadata": {},
   "source": [
    "If you need, both, **keys and values**, you can use the `items()` method:"
   ]
  },
  {
   "cell_type": "code",
   "execution_count": null,
   "id": "5778f96d-5e97-465e-96ad-903a77080b13",
   "metadata": {},
   "outputs": [],
   "source": [
    "arsenal.items()"
   ]
  },
  {
   "cell_type": "code",
   "execution_count": null,
   "id": "3de3da14-96a4-49a6-abf0-98c371769645",
   "metadata": {},
   "outputs": [],
   "source": [
    "for key, value in arsenal.items():\n",
    "    print(f\"{key} --> {value}\")"
   ]
  },
  {
   "cell_type": "markdown",
   "id": "195584b6-b673-4dd7-8cad-a1249d7c2545",
   "metadata": {
    "tags": []
   },
   "source": [
    "### The range method\n",
    "\n",
    "The `range(start, stop, increment)` function returns a sequence of numbers. The default for the `start` value is 0, and for the `increment` is 1. Just like with slicing, the last `stop` number is not included in the range."
   ]
  },
  {
   "cell_type": "code",
   "execution_count": null,
   "id": "bc374f81-5487-4b5c-8d4c-c080b1b9d44b",
   "metadata": {},
   "outputs": [],
   "source": [
    "for x in range(5):\n",
    "    print(x)"
   ]
  },
  {
   "cell_type": "code",
   "execution_count": null,
   "id": "e0d06072-1786-4a0e-82b3-119213cea364",
   "metadata": {},
   "outputs": [],
   "source": [
    "for x in range(10,20,2):\n",
    "    print(x)"
   ]
  },
  {
   "cell_type": "code",
   "execution_count": null,
   "id": "584f9c6b-5b5f-48db-b644-6e1c6f332ad7",
   "metadata": {},
   "outputs": [],
   "source": [
    "for x in range(50,10,-5):\n",
    "    print(x)"
   ]
  },
  {
   "cell_type": "markdown",
   "id": "618487fb-de82-4392-8d57-66dc3f65b9c4",
   "metadata": {},
   "source": [
    "Note that the `range()` function results in a `range object`, not a list or tuple."
   ]
  },
  {
   "cell_type": "code",
   "execution_count": null,
   "id": "5ddab5cb-0988-482b-8105-5f949e003515",
   "metadata": {},
   "outputs": [],
   "source": [
    "type(range(10))"
   ]
  },
  {
   "cell_type": "code",
   "execution_count": null,
   "id": "794d3eb6-feae-4366-a8d7-8c84c145808b",
   "metadata": {},
   "outputs": [],
   "source": [
    "list(range(10))"
   ]
  },
  {
   "cell_type": "markdown",
   "id": "f68a5a82-6459-42f0-940f-3d4baff20616",
   "metadata": {
    "jp-MarkdownHeadingCollapsed": true,
    "tags": []
   },
   "source": [
    "### The enumerate method"
   ]
  },
  {
   "cell_type": "markdown",
   "id": "c1b55304-3054-4ba4-bd32-3c82f80e8279",
   "metadata": {},
   "source": [
    "Say we have a list to iterate over."
   ]
  },
  {
   "cell_type": "code",
   "execution_count": null,
   "id": "3ba6f488-d173-4b47-94de-a18dd69622b5",
   "metadata": {},
   "outputs": [],
   "source": [
    "teams = [\"Arsenal\", \"Manchester City\", \"Tottenham\", \"Brighton\", \"Leeds United\"]"
   ]
  },
  {
   "cell_type": "code",
   "execution_count": null,
   "id": "af3522ba-02ff-4aa4-b539-4b15f77b2ad5",
   "metadata": {},
   "outputs": [],
   "source": [
    "i = 0\n",
    "while i <(len(teams)):\n",
    "    print(teams[i])\n",
    "    i+=1"
   ]
  },
  {
   "cell_type": "markdown",
   "id": "73aade17-03cd-4430-bd17-cbdc1a2ecf94",
   "metadata": {},
   "source": [
    "Our MATLAB experience would probably lead up to write a loop as follows:"
   ]
  },
  {
   "cell_type": "code",
   "execution_count": null,
   "id": "1f4eb7dc-2107-4c28-b77d-5c028d417be5",
   "metadata": {},
   "outputs": [],
   "source": [
    "i = 0\n",
    "for team in teams:\n",
    "    print(f\"Position {i+1} --> {teams[i]}\") # i+1 due to Python's zero-indexing\n",
    "    i += 1"
   ]
  },
  {
   "cell_type": "markdown",
   "id": "a3991b86-e233-4129-9fee-81289031f2f3",
   "metadata": {},
   "source": [
    "Using `range()`, we can improve it:"
   ]
  },
  {
   "cell_type": "code",
   "execution_count": null,
   "id": "95cf0769-3f71-4489-8d58-4704b27fa5ab",
   "metadata": {},
   "outputs": [],
   "source": [
    "for i in range(len(teams)):\n",
    "    print(f\"Position {i+1} --> {teams[i]}\")"
   ]
  },
  {
   "cell_type": "markdown",
   "id": "9d82e57e-cbec-4f5c-8f07-856598a871e1",
   "metadata": {},
   "source": [
    "While both of those options produce the output we want, it's not *pythonic*.\n",
    "\n",
    "Instead, use the `enumerate()` method:"
   ]
  },
  {
   "cell_type": "code",
   "execution_count": null,
   "id": "c51d0f2c-6dc9-42c0-978c-1d056077fdae",
   "metadata": {},
   "outputs": [],
   "source": [
    "for i, team in enumerate(teams):\n",
    "    print(f\"Position {i+1} --> {team}\")"
   ]
  },
  {
   "cell_type": "markdown",
   "id": "9b17d3c1-9f6c-4c9e-a2fa-a290a189fc4d",
   "metadata": {},
   "source": [
    "Not only is is more readable, it's also less likely to result in bugs."
   ]
  },
  {
   "cell_type": "markdown",
   "id": "cad005b7-7069-460f-94a4-4c7217de5bf1",
   "metadata": {
    "jp-MarkdownHeadingCollapsed": true,
    "tags": []
   },
   "source": [
    "## List Comprehension\n",
    "\n",
    "A shorter syntax to create a new list based on the values of an existing list."
   ]
  },
  {
   "cell_type": "markdown",
   "id": "a298e54b-febb-41f4-a2fa-b38fb0f70e76",
   "metadata": {},
   "source": [
    "For example, we've seen that we can't perform scalar operations on lists"
   ]
  },
  {
   "cell_type": "code",
   "execution_count": null,
   "id": "7d00bb9d-a10b-42a1-861d-4afebd7355aa",
   "metadata": {},
   "outputs": [],
   "source": [
    "numbers = [1, 2, 3, 4, 5]\n",
    "numbers*2"
   ]
  },
  {
   "cell_type": "markdown",
   "id": "83d01730-ab91-45f9-a7ef-96cad9d8065f",
   "metadata": {},
   "source": [
    "How can we double every number in the list above?\n",
    "\n",
    "One option:"
   ]
  },
  {
   "cell_type": "code",
   "execution_count": null,
   "id": "ac6b627a-809d-4191-92e8-3885cd070d43",
   "metadata": {},
   "outputs": [],
   "source": [
    "doubled_numbers = []\n",
    "for number in numbers:\n",
    "    doubled_numbers.append(number*2)\n",
    "doubled_numbers"
   ]
  },
  {
   "cell_type": "markdown",
   "id": "25583e76-c347-4293-8650-e4556dc66b9d",
   "metadata": {},
   "source": [
    "Okay, a bit verbose, not too bad.\n",
    "\n",
    "What if I only wanted a list of just the even numbers doubled?"
   ]
  },
  {
   "cell_type": "code",
   "execution_count": null,
   "id": "9494b34b-7d26-4d01-a245-5beaedbad98a",
   "metadata": {},
   "outputs": [],
   "source": [
    "doubled_even_numbers = []\n",
    "for number in numbers:\n",
    "    if number % 2 == 0:\n",
    "        doubled_even_numbers.append(number*2)\n",
    "doubled_even_numbers"
   ]
  },
  {
   "cell_type": "markdown",
   "id": "b120603a-54ca-454f-a2bd-0a3a6cdadfdc",
   "metadata": {},
   "source": [
    "**List comprehension offers a more elegant, one-line syntax.**\n",
    "\n",
    "`[expression for item in iterable if condition == True]`"
   ]
  },
  {
   "cell_type": "code",
   "execution_count": null,
   "id": "06947cd3-66fa-4e99-b154-63c7d342a783",
   "metadata": {},
   "outputs": [],
   "source": [
    "doubled_numbers = [number*2 for number in numbers]\n",
    "doubled_numbers"
   ]
  },
  {
   "cell_type": "code",
   "execution_count": null,
   "id": "f2884542-13e0-4a44-a6a9-0fcc31ba8ab8",
   "metadata": {},
   "outputs": [],
   "source": [
    "doubled_even_numbers = [number*2 for number in numbers if number % 2 == 0]\n",
    "doubled_even_numbers"
   ]
  },
  {
   "cell_type": "markdown",
   "id": "7db8e0d3-2aef-4573-867d-7192465c0120",
   "metadata": {
    "tags": []
   },
   "source": [
    "### Dictionary comprehension\n",
    "\n",
    "The same concept can be applied to create a list of dictionaries based on the values from another list."
   ]
  },
  {
   "cell_type": "code",
   "execution_count": null,
   "id": "a8b5ad88-f458-4870-a608-2b0ef9917b57",
   "metadata": {},
   "outputs": [],
   "source": [
    "teams = [\"Arsenal\", \"Manchester City\", \"Tottenham\", \"Brighton\", \"Leeds United\"]\n",
    "\n",
    "pl_teams = []\n",
    "for team in teams:\n",
    "    pl_teams.append({\n",
    "        \"Team\": team, \n",
    "        \"League\": \"Premier League\"\n",
    "    })\n",
    "pl_teams"
   ]
  },
  {
   "cell_type": "markdown",
   "id": "dea8b047-cd8e-4539-a886-5a2e66cfc247",
   "metadata": {},
   "source": [
    "With comprehension:"
   ]
  },
  {
   "cell_type": "code",
   "execution_count": null,
   "id": "3292dfbf-b6a5-48a2-9827-4761ef60cf86",
   "metadata": {},
   "outputs": [],
   "source": [
    "pl_teams = [{\"Team\": team, \"League\": \"Premier League\"} for team in teams]\n",
    "pl_teams"
   ]
  },
  {
   "cell_type": "markdown",
   "id": "02785bf3-1233-436d-b53d-49eeda0ab7ce",
   "metadata": {},
   "source": [
    "To simply even further:"
   ]
  },
  {
   "cell_type": "code",
   "execution_count": null,
   "id": "28f8020c-2a03-49b0-871b-aa07ce241619",
   "metadata": {},
   "outputs": [],
   "source": [
    "pl_teams = {team: \"Premier League\" for team in teams}\n",
    "pl_teams"
   ]
  },
  {
   "cell_type": "markdown",
   "id": "272e2eac-78ac-4099-a1cd-cfc5cc8676bc",
   "metadata": {
    "jp-MarkdownHeadingCollapsed": true,
    "tags": []
   },
   "source": [
    "## Python Keywords and built-in functions"
   ]
  },
  {
   "cell_type": "markdown",
   "id": "81553078-7af9-4b64-b718-f32ccb40a6c7",
   "metadata": {},
   "source": [
    "So far, we have used plenty on **keywords**, such as `del`, `in`, `not`, `True`, `False`, `if`, `elif`, `else`, `while`, `for`, `and`, `or`, `break`,`continue`,`pass`, etc. These keywords are reserved and cannot be used for variable names (or function/class names).\n",
    "\n",
    "It's useful to know the list of keywords to avoid trying to use them as variable names. These words are usually colored differently in most IDEs and advanced text editors (green in Jupyter and purple in Spyder), so it's not that hard to avoid.\n",
    "https://www.w3schools.com/python/python_ref_keywords.asp"
   ]
  },
  {
   "cell_type": "markdown",
   "id": "0cac5c5b-07f1-4147-b2de-84b9978efa67",
   "metadata": {},
   "source": [
    "However, not all built-in functions are keywords, and it is possible to break some python functionality by using variable names that may correspond to built-in functions. IDEs will try to help you out here with the color-coding as well.\n",
    "\n",
    "For example:"
   ]
  },
  {
   "cell_type": "code",
   "execution_count": null,
   "id": "b22dfcde-1382-4598-9387-c2ecf1575f2f",
   "metadata": {},
   "outputs": [],
   "source": [
    "print = 42\n",
    "print"
   ]
  },
  {
   "cell_type": "code",
   "execution_count": null,
   "id": "7ac50c57-726b-4876-a368-190bab93bbbb",
   "metadata": {},
   "outputs": [],
   "source": [
    "del print"
   ]
  },
  {
   "cell_type": "code",
   "execution_count": null,
   "id": "6db547a7-a7fc-41c0-be1b-dec76e5c77c3",
   "metadata": {},
   "outputs": [],
   "source": [
    "print(f\"Hello, {name} World\")"
   ]
  },
  {
   "cell_type": "markdown",
   "id": "a6e68d23-92b3-4422-a37c-cf041d394e83",
   "metadata": {},
   "source": [
    "This error occured because when we named the list as `print`, it \"overwrote\" the call to the function that prints to screen.\n",
    "\n",
    "This is also why we didn't name any lists as \"list\":"
   ]
  },
  {
   "cell_type": "code",
   "execution_count": null,
   "id": "678e159a-c63d-45ab-a92c-e34aec6a76a1",
   "metadata": {},
   "outputs": [],
   "source": [
    "tup = (1, 2, 3)\n",
    "tup"
   ]
  },
  {
   "cell_type": "code",
   "execution_count": null,
   "id": "7a94ab0e-2d59-4442-86ce-7c7c2bf09b0e",
   "metadata": {},
   "outputs": [],
   "source": [
    "list(tup)"
   ]
  },
  {
   "cell_type": "code",
   "execution_count": null,
   "id": "48d7136d-86da-4575-98e3-cb134dc5b273",
   "metadata": {},
   "outputs": [],
   "source": [
    "list = ['a', 'b', 'c']\n",
    "list"
   ]
  },
  {
   "cell_type": "code",
   "execution_count": null,
   "id": "650731d0-522d-4d9e-b075-e2e38a1952f2",
   "metadata": {},
   "outputs": [],
   "source": [
    "list(tup)"
   ]
  },
  {
   "cell_type": "markdown",
   "id": "5eb3d5db-a560-4654-b744-e00e8c6625c3",
   "metadata": {},
   "source": [
    "Some may not be that obvious, like the `sum()` function:"
   ]
  },
  {
   "cell_type": "code",
   "execution_count": null,
   "id": "97f5f611-9ccb-4060-acc0-e279c41d1b40",
   "metadata": {},
   "outputs": [],
   "source": [
    "numbers = [213, 4214, 124, 414, 24]\n",
    "sum(numbers)"
   ]
  },
  {
   "cell_type": "code",
   "execution_count": null,
   "id": "29cd39fe-2cb8-4a21-8a63-9508747dfbce",
   "metadata": {},
   "outputs": [],
   "source": [
    "sum = 3488 + 4793\n",
    "sum"
   ]
  },
  {
   "cell_type": "code",
   "execution_count": null,
   "id": "70579364-57dd-4cfb-adfb-89416785aa50",
   "metadata": {},
   "outputs": [],
   "source": [
    "sum(numbers)"
   ]
  },
  {
   "cell_type": "markdown",
   "id": "82f9a9e1-2f26-41e5-9c72-aa0675d640d4",
   "metadata": {},
   "source": [
    "***Be careful with your variable names!*** Pay attention to the colors."
   ]
  }
 ],
 "metadata": {
  "citation-manager": {
   "items": {}
  },
  "kernelspec": {
   "display_name": "Python 3 (ipykernel)",
   "language": "python",
   "name": "python3"
  },
  "language_info": {
   "codemirror_mode": {
    "name": "ipython",
    "version": 3
   },
   "file_extension": ".py",
   "mimetype": "text/x-python",
   "name": "python",
   "nbconvert_exporter": "python",
   "pygments_lexer": "ipython3",
   "version": "3.9.12"
  }
 },
 "nbformat": 4,
 "nbformat_minor": 5
}
