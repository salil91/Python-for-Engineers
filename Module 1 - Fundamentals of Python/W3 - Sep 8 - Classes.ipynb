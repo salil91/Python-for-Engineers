{
 "cells": [
  {
   "cell_type": "markdown",
   "id": "6ccecfda-09d5-4ad2-a8f9-760998848f36",
   "metadata": {},
   "source": [
    "# W3 - September 8 - Classes"
   ]
  },
  {
   "cell_type": "markdown",
   "id": "abdd31d9-8c3b-42a7-ae4e-c1312d31e693",
   "metadata": {
    "tags": []
   },
   "source": [
    "## Quick recap"
   ]
  },
  {
   "cell_type": "markdown",
   "id": "d5ced71b-cb67-4492-83aa-a7d9da2b150e",
   "metadata": {},
   "source": [
    "We began with **procedural programming**"
   ]
  },
  {
   "cell_type": "code",
   "execution_count": 1,
   "id": "c4ed0838-4c76-460d-b101-562993702c03",
   "metadata": {},
   "outputs": [
    {
     "name": "stdin",
     "output_type": "stream",
     "text": [
      "Enter an integer: 12\n",
      "Enter an integer: 23\n"
     ]
    },
    {
     "name": "stdout",
     "output_type": "stream",
     "text": [
      "The product of an even number and an odd number is even.\n"
     ]
    }
   ],
   "source": [
    "num1 = int(input(\"Enter an integer:\"))\n",
    "num2 = int(input(\"Enter an integer:\"))\n",
    "product = num1*num2\n",
    "\n",
    "num1_type = \"even\" if num1 % 2 == 0 else \"odd\"\n",
    "num2_type = \"even\" if num2 % 2 == 0 else \"odd\"\n",
    "product_type = \"even\" if product % 2 == 0 else \"odd\"\n",
    "\n",
    "print(f\"The product of an {num1_type} number and an {num2_type} number is {product_type}.\")"
   ]
  },
  {
   "cell_type": "markdown",
   "id": "3e0aebd1-03a4-418e-9996-990104ccdaeb",
   "metadata": {},
   "source": [
    "and learned to modularize our code using **functions**"
   ]
  },
  {
   "cell_type": "code",
   "execution_count": 2,
   "id": "9ac88e06-a642-4217-94e7-22da7d130821",
   "metadata": {},
   "outputs": [
    {
     "name": "stdin",
     "output_type": "stream",
     "text": [
      "Enter an integer: 12\n",
      "Enter an integer: 54\n"
     ]
    },
    {
     "name": "stdout",
     "output_type": "stream",
     "text": [
      "The product of an even number and an even number is even.\n"
     ]
    }
   ],
   "source": [
    "def get_number():\n",
    "    \n",
    "    return int(input(\"Enter an integer:\"))\n",
    "\n",
    "\n",
    "def get_type(number):\n",
    "    \n",
    "    return \"even\" if number % 2 == 0 else \"odd\"\n",
    "\n",
    "\n",
    "def main():\n",
    "    num1 = get_number()\n",
    "    num2 = get_number()\n",
    "    product = num1*num2\n",
    "    \n",
    "    print(f\"The product of an {get_type(num1)} number and an {get_type(num2)} number is {get_type(product)}.\")\n",
    "    \n",
    "    \n",
    "main()"
   ]
  },
  {
   "cell_type": "markdown",
   "id": "a833746c-08ba-4d38-a258-26fa9345a20c",
   "metadata": {},
   "source": [
    "and briefly looked at **functional programming**"
   ]
  },
  {
   "cell_type": "code",
   "execution_count": 3,
   "id": "3ec02cd4-3a20-4f53-a638-0af0c4781c9d",
   "metadata": {},
   "outputs": [
    {
     "data": {
      "text/plain": [
       "[0.0, 2.0, 4.0, 2.0, 0.5, 0.08, 0.009259259259259259]"
      ]
     },
     "execution_count": 3,
     "metadata": {},
     "output_type": "execute_result"
    }
   ],
   "source": [
    "def do_math(number):\n",
    "    a = number*2\n",
    "    b = number**2\n",
    "    c = number**number\n",
    "    \n",
    "    return a*b/c\n",
    "\n",
    "numbers = range(7)\n",
    "list(map(do_math, numbers))"
   ]
  },
  {
   "cell_type": "markdown",
   "id": "f26d25e8-259d-44ff-a560-13b29339a17a",
   "metadata": {
    "tags": []
   },
   "source": [
    "## Classes\n",
    "\n",
    "Classes are ***blueprints*** for your custom data type, and the base of **object-oriented programming**\n",
    "\n",
    "**Functions** are actions, and often named in lower case using verbs.\n",
    "\n",
    "**Classes** are things (objects), and often named with capitalization using nouns.\n",
    "\n",
    "Note: Functions are also first-class objects in Python, as we discussed in the last class. In fact, all the data types we have used so far (strings, ints, floats, lists, dictionaries, etc.) are also objects."
   ]
  },
  {
   "cell_type": "code",
   "execution_count": 4,
   "id": "d1655db6-29af-428e-9551-61c239dc0f74",
   "metadata": {},
   "outputs": [
    {
     "data": {
      "text/plain": [
       "dict"
      ]
     },
     "execution_count": 4,
     "metadata": {},
     "output_type": "execute_result"
    }
   ],
   "source": [
    "legolas = {\n",
    "    \"name\": \"Legolas\",\n",
    "    \"race\": \"Elf\",\n",
    "    \"weapon\": \"Bow\",\n",
    "}\n",
    "\n",
    "gimli = {\n",
    "    \"name\": \"Gimli\",\n",
    "    \"race\": \"Dwarf\",\n",
    "    \"weapon\": \"Axe\",\n",
    "}\n",
    "type(legolas)"
   ]
  },
  {
   "cell_type": "markdown",
   "id": "7c8cb6fb-162d-4221-8f58-3101f69f8743",
   "metadata": {},
   "source": [
    "In the code above, `legolas` and `gimli` are **instances** of the class `dict`. But what if we want to create a custom data type?"
   ]
  },
  {
   "cell_type": "code",
   "execution_count": 7,
   "id": "4fcd60a2-18de-4be2-95fa-fddbb720c0dd",
   "metadata": {},
   "outputs": [
    {
     "data": {
      "text/plain": [
       "__main__.Character"
      ]
     },
     "execution_count": 7,
     "metadata": {},
     "output_type": "execute_result"
    }
   ],
   "source": [
    "# Create a class\n",
    "class Character:\n",
    "    def __init__(self, name, race, weapon):\n",
    "        self.name = name\n",
    "        self.race = race\n",
    "        self.weapon = weapon\n",
    "        \n",
    "# Create instances of the class\n",
    "legolas = Character(name=\"Legolas\", race=\"Elf\", weapon=\"Bow\")\n",
    "gimli = Character(name=\"Gimli\", race=\"Dwarf\", weapon=\"Axe\")\n",
    "type(legolas)"
   ]
  },
  {
   "cell_type": "markdown",
   "id": "94639fde-5c3c-49a4-8c83-3c40135b17b4",
   "metadata": {},
   "source": [
    "Classes can (and almost always will) have functions within them, which are called **methods**. Python have some built-in methods, like `__init__`, which is called when an instance of a class is created, to assign the variables to the object as attributes.\n",
    "\n",
    "The `self` parameter in the method is a reference to the *current instance* of the class, and can hence access its variables (attributes)"
   ]
  },
  {
   "cell_type": "code",
   "execution_count": 8,
   "id": "a5699805-10d2-40b1-b06f-8e3aacaf0508",
   "metadata": {},
   "outputs": [
    {
     "data": {
      "text/plain": [
       "'Elf'"
      ]
     },
     "execution_count": 8,
     "metadata": {},
     "output_type": "execute_result"
    }
   ],
   "source": [
    "legolas.race"
   ]
  },
  {
   "cell_type": "code",
   "execution_count": 9,
   "id": "a59fb7a4-1c73-4174-be61-368967f6ecb4",
   "metadata": {},
   "outputs": [
    {
     "data": {
      "text/plain": [
       "'Axe'"
      ]
     },
     "execution_count": 9,
     "metadata": {},
     "output_type": "execute_result"
    }
   ],
   "source": [
    "gimli.weapon"
   ]
  },
  {
   "cell_type": "markdown",
   "id": "22502c75-84e7-44e6-b61c-07ff4b845588",
   "metadata": {},
   "source": [
    "To print the attributes of an object, we can use the built-in `__str__` method"
   ]
  },
  {
   "cell_type": "code",
   "execution_count": 10,
   "id": "26a0f774-b684-4980-97f5-2e3be521064f",
   "metadata": {},
   "outputs": [
    {
     "name": "stdout",
     "output_type": "stream",
     "text": [
      "<__main__.Character object at 0x000001C05E18EEB0>\n"
     ]
    }
   ],
   "source": [
    "print(legolas)"
   ]
  },
  {
   "cell_type": "code",
   "execution_count": 11,
   "id": "7dea7d05-9827-4db9-9292-30e970e93950",
   "metadata": {},
   "outputs": [
    {
     "name": "stdout",
     "output_type": "stream",
     "text": [
      "Legolas is a Elf who fights with a Bow.\n",
      "Gimli is a Dwarf who fights with a Axe.\n"
     ]
    }
   ],
   "source": [
    "class Character:\n",
    "    def __init__(self, name, race, weapon):\n",
    "        self.name = name\n",
    "        self.race = race\n",
    "        self.weapon = weapon\n",
    "        \n",
    "        \n",
    "    # Built-in method that is called when print() or str() is invoked on the object\n",
    "    def __str__(self):\n",
    "        \n",
    "        return f\"{self.name} is a {self.race} who fights with a {self.weapon}.\"\n",
    "    \n",
    "        \n",
    "legolas = Character(name=\"Legolas\", race=\"Elf\", weapon=\"Bow\")\n",
    "gimli = Character(name=\"Gimli\", race=\"Dwarf\", weapon=\"Axe\")\n",
    "print(legolas)\n",
    "print(gimli)"
   ]
  },
  {
   "cell_type": "markdown",
   "id": "0981a05b-09fe-4103-a4a0-d629050bf275",
   "metadata": {},
   "source": [
    "You can also create your own methods"
   ]
  },
  {
   "cell_type": "code",
   "execution_count": 12,
   "id": "f4773dde-adbd-4ee6-8c05-07dd78cb3df2",
   "metadata": {},
   "outputs": [
    {
     "data": {
      "text/plain": [
       "'And my Axe!'"
      ]
     },
     "execution_count": 12,
     "metadata": {},
     "output_type": "execute_result"
    }
   ],
   "source": [
    "class Character:\n",
    "    def __init__(self, name, race, weapon):\n",
    "        self.name = name\n",
    "        self.race = race\n",
    "        self.weapon = weapon\n",
    "        \n",
    "    def __str__(self):\n",
    "        \n",
    "        return f\"{self.name} is a {self.race} who fights with a {self.weapon}.\"\n",
    "    \n",
    "    \n",
    "    # User-defined method\n",
    "    def speak(self):\n",
    "        \n",
    "        return f\"And my {self.weapon}!\"\n",
    "        \n",
    "legolas = Character(name=\"Legolas\", race=\"Elf\", weapon=\"Bow\")\n",
    "gimli = Character(name=\"Gimli\", race=\"Dwarf\", weapon=\"Axe\")\n",
    "\n",
    "# Call the method\n",
    "gimli.speak()"
   ]
  },
  {
   "cell_type": "markdown",
   "id": "49d80f82-566b-4412-a131-e6548afa2276",
   "metadata": {},
   "source": [
    "You can easily change the attributes of an instance"
   ]
  },
  {
   "cell_type": "code",
   "execution_count": 13,
   "id": "2e671804-e0be-446b-a740-1a3a696d70e1",
   "metadata": {},
   "outputs": [
    {
     "name": "stdout",
     "output_type": "stream",
     "text": [
      "Legolas is a Elf who fights with a Knife.\n"
     ]
    }
   ],
   "source": [
    "legolas.weapon = \"Knife\"\n",
    "print(legolas)"
   ]
  },
  {
   "cell_type": "markdown",
   "id": "0f37c055-b11b-4c32-8328-da7928ae00d9",
   "metadata": {
    "tags": []
   },
   "source": [
    "## Decorators"
   ]
  },
  {
   "cell_type": "markdown",
   "id": "fc1cf73b-2a8b-4a89-8a03-9d6a099c0a4c",
   "metadata": {
    "jp-MarkdownHeadingCollapsed": true,
    "tags": []
   },
   "source": [
    "The **`@property`** decorator above a method defines a property of the class, allowing us to define how the attribute can be set and retrived."
   ]
  },
  {
   "cell_type": "code",
   "execution_count": 14,
   "id": "d9c2ed6a-d9be-47a8-9cc5-29c0e7a7ec2c",
   "metadata": {},
   "outputs": [
    {
     "name": "stdout",
     "output_type": "stream",
     "text": [
      "Legolas is a Tauren who fights with a Knife.\n"
     ]
    }
   ],
   "source": [
    "legolas.race = \"Tauren\"\n",
    "print(legolas)"
   ]
  },
  {
   "cell_type": "code",
   "execution_count": 15,
   "id": "a9963d76-7e5c-4935-ad41-28c621c14333",
   "metadata": {},
   "outputs": [],
   "source": [
    "class Character:\n",
    "    def __init__(self, name, race, weapon):\n",
    "        self.name = name\n",
    "        self.race = race\n",
    "        self.weapon = weapon\n",
    "        \n",
    "    def __str__(self):\n",
    "        return f\"{self.name} is a {self.race} who fights with a {self.weapon}.\"\n",
    "    \n",
    "    # Getter\n",
    "    @property\n",
    "    def race(self):\n",
    "        return self._race\n",
    "    \n",
    "    # Setter\n",
    "    @race.setter\n",
    "    def race(self, race):\n",
    "        if race not in {\"Elf\", \"Dwarf\", \"Ainur\", \"Human\", \"Hobbit\", \"Orc\"}:\n",
    "            raise ValueError(\"Invalid race\")\n",
    "        self._race = race\n",
    "        \n",
    "\n",
    "legolas = Character(name=\"Legolas\", race=\"Elf\", weapon=\"Bow\")\n",
    "gimli = Character(name=\"Gimli\", race=\"Dwarf\", weapon=\"Axe\")"
   ]
  },
  {
   "cell_type": "code",
   "execution_count": 18,
   "id": "e1ca9c4f-7571-42ff-9ffa-02cd832fa948",
   "metadata": {},
   "outputs": [
    {
     "ename": "ValueError",
     "evalue": "Invalid race",
     "output_type": "error",
     "traceback": [
      "\u001b[1;31m---------------------------------------------------------------------------\u001b[0m",
      "\u001b[1;31mValueError\u001b[0m                                Traceback (most recent call last)",
      "Input \u001b[1;32mIn [18]\u001b[0m, in \u001b[0;36m<cell line: 1>\u001b[1;34m()\u001b[0m\n\u001b[1;32m----> 1\u001b[0m legolas\u001b[38;5;241m.\u001b[39mrace \u001b[38;5;241m=\u001b[39m \u001b[38;5;124m\"\u001b[39m\u001b[38;5;124mTauren\u001b[39m\u001b[38;5;124m\"\u001b[39m\n\u001b[0;32m      2\u001b[0m \u001b[38;5;28mprint\u001b[39m(legolas)\n",
      "Input \u001b[1;32mIn [15]\u001b[0m, in \u001b[0;36mCharacter.race\u001b[1;34m(self, race)\u001b[0m\n\u001b[0;32m     16\u001b[0m \u001b[38;5;129m@race\u001b[39m\u001b[38;5;241m.\u001b[39msetter\n\u001b[0;32m     17\u001b[0m \u001b[38;5;28;01mdef\u001b[39;00m \u001b[38;5;21mrace\u001b[39m(\u001b[38;5;28mself\u001b[39m, race):\n\u001b[0;32m     18\u001b[0m     \u001b[38;5;28;01mif\u001b[39;00m race \u001b[38;5;129;01mnot\u001b[39;00m \u001b[38;5;129;01min\u001b[39;00m {\u001b[38;5;124m\"\u001b[39m\u001b[38;5;124mElf\u001b[39m\u001b[38;5;124m\"\u001b[39m, \u001b[38;5;124m\"\u001b[39m\u001b[38;5;124mDwarf\u001b[39m\u001b[38;5;124m\"\u001b[39m, \u001b[38;5;124m\"\u001b[39m\u001b[38;5;124mAinur\u001b[39m\u001b[38;5;124m\"\u001b[39m, \u001b[38;5;124m\"\u001b[39m\u001b[38;5;124mHuman\u001b[39m\u001b[38;5;124m\"\u001b[39m, \u001b[38;5;124m\"\u001b[39m\u001b[38;5;124mHobbit\u001b[39m\u001b[38;5;124m\"\u001b[39m, \u001b[38;5;124m\"\u001b[39m\u001b[38;5;124mOrc\u001b[39m\u001b[38;5;124m\"\u001b[39m}:\n\u001b[1;32m---> 19\u001b[0m         \u001b[38;5;28;01mraise\u001b[39;00m \u001b[38;5;167;01mValueError\u001b[39;00m(\u001b[38;5;124m\"\u001b[39m\u001b[38;5;124mInvalid race\u001b[39m\u001b[38;5;124m\"\u001b[39m)\n\u001b[0;32m     20\u001b[0m     \u001b[38;5;28mself\u001b[39m\u001b[38;5;241m.\u001b[39m_race \u001b[38;5;241m=\u001b[39m race\n",
      "\u001b[1;31mValueError\u001b[0m: Invalid race"
     ]
    }
   ],
   "source": [
    "legolas.race = \"Tauren\"\n",
    "print(legolas)"
   ]
  },
  {
   "cell_type": "markdown",
   "id": "9d72f865-8f38-4e3d-aff9-51418944b331",
   "metadata": {},
   "source": [
    "Why `_race` and not `race`? `race` is a now a property of our class, while `_race` is that class attribute itself. The `_` indicates that user shouldn’t modify this value directly, but use the `race` setter, which validates the value of the attribute. When a user calls `legolas.race`, they’re getting the value of `_race` through the `race` “getter”."
   ]
  },
  {
   "cell_type": "markdown",
   "id": "168553d3-bc16-4b86-82d2-68d4e1be0054",
   "metadata": {},
   "source": [
    "The **`@classmethod`** decorator can be used to add functionality to a class (`cls`), as opposed to an instance of the class (`self`)"
   ]
  },
  {
   "cell_type": "code",
   "execution_count": 19,
   "id": "5f04af55-7162-4faf-bbe7-df62e0e9b191",
   "metadata": {},
   "outputs": [
    {
     "name": "stdin",
     "output_type": "stream",
     "text": [
      "Name: Gandalf\n",
      "Race: Ainur\n",
      "Weapon: Staff\n"
     ]
    },
    {
     "name": "stdout",
     "output_type": "stream",
     "text": [
      "Gandalf is a Ainur who fights with a Staff.\n"
     ]
    }
   ],
   "source": [
    "class Character:\n",
    "    def __init__(self, name, race, weapon):\n",
    "        self.name = name\n",
    "        self.race = race\n",
    "        self.weapon = weapon\n",
    "        \n",
    "    def __str__(self):\n",
    "        return f\"{self.name} is a {self.race} who fights with a {self.weapon}.\"\n",
    "    \n",
    "    @classmethod\n",
    "    def get(cls):\n",
    "        name = input(\"Name:\")\n",
    "        race = input(\"Race:\")\n",
    "        weapon = input(\"Weapon:\")\n",
    "        \n",
    "        return cls(name, race, weapon)\n",
    "        \n",
    "\n",
    "# No need to instantiate the class before calling the method\n",
    "gandalf = Character.get()\n",
    "print(gandalf)"
   ]
  },
  {
   "cell_type": "markdown",
   "id": "c5773258-9e34-4d90-9cc4-1cabd2a95a36",
   "metadata": {},
   "source": [
    "The **`@staticmethod`** decorator can be used to create utility methods, and do not modify the class or the instance."
   ]
  },
  {
   "cell_type": "code",
   "execution_count": 20,
   "id": "8e8d0d29-9b8a-4986-b733-fe6c3cf8d9af",
   "metadata": {},
   "outputs": [
    {
     "data": {
      "text/plain": [
       "31"
      ]
     },
     "execution_count": 21,
     "metadata": {},
     "output_type": "execute_result"
    }
   ],
   "source": [
    "from datetime import date\n",
    "\n",
    "class Character:\n",
    "    def __init__(self, name, race, weapon):\n",
    "        self.name = name\n",
    "        self.race = race\n",
    "        self.weapon = weapon\n",
    "        \n",
    "    def __str__(self):\n",
    "        return f\"{self.name} is a {self.race} who fights with a {self.weapon}.\"\n",
    "    \n",
    "    @staticmethod\n",
    "    def get_age(birth_year):\n",
    "        \n",
    "        return date.today().year - birth_year\n",
    "        \n",
    "\n",
    "# The method has nothing to do with the instance, so no need to instantiate the class.\n",
    "# It is included in the class as a utility, since it's related to it.\n",
    "Character.get_age(birth_year=1991)"
   ]
  },
  {
   "cell_type": "markdown",
   "id": "0eed3022-84c0-4ee5-9b0a-b8ed0363bbc6",
   "metadata": {
    "tags": []
   },
   "source": [
    "## Inheritance\n",
    "\n",
    "Inheritance allows for a **child class** to inherit all the methods and properties from a **parent class**, aka **super class** using the `super()` function."
   ]
  },
  {
   "cell_type": "code",
   "execution_count": 22,
   "id": "71078b7a-1cea-49f6-b27a-d87f410294a8",
   "metadata": {},
   "outputs": [],
   "source": [
    "# Parent (super) class\n",
    "class Character:\n",
    "    def __init__(self, name, weapon, health):\n",
    "        self.name = name\n",
    "        self.weapon = weapon\n",
    "        self.health = health\n",
    "\n",
    "        \n",
    "# Child class\n",
    "class Elf(Character):\n",
    "    def __init__(self, name, weapon, health):\n",
    "        super().__init__(name, weapon, health)\n",
    "        self.race = \"Elf\"\n",
    "        self.max_health = 80\n",
    "        if self.health > self.max_health:\n",
    "            raise ValueError(f\"Health greater than maximum: {self.max_health}\")\n",
    "    \n",
    "    def __str__(self):\n",
    "        return f\"{self.name} is a {self.race} who fights with a {self.weapon}. HP = {self.health} / {self.max_health}\"\n",
    "        \n",
    "        \n",
    "# Child class  \n",
    "class Dwarf(Character):\n",
    "    def __init__(self, name, weapon, health):\n",
    "        super().__init__(name, weapon, health)\n",
    "        self.race = \"Dwarf\"\n",
    "        self.max_health = 150\n",
    "        if self.health > self.max_health:\n",
    "            raise ValueError(f\"Health greater than maximum: {self.max_health}\")\n",
    "        \n",
    "    def __str__(self):\n",
    "        return f\"{self.name} is a {self.race} who fights with a {self.weapon}. HP = {self.health} / {self.max_health}\"\n",
    "    \n",
    "    \n",
    "# Child class  \n",
    "class Ainur(Character):\n",
    "    def __init__(self, name, weapon, health):\n",
    "        super().__init__(name, weapon, health)\n",
    "        self.race = \"Ainur\"\n",
    "        self.max_health = 100\n",
    "        if self.health > self.max_health:\n",
    "            raise ValueError(f\"Health greater than maximum: {self.max_health}\")\n",
    "        \n",
    "    def __str__(self):\n",
    "        return f\"{self.name} is a {self.race} who fights with a {self.weapon}. HP = {self.health} / {self.max_health}\""
   ]
  },
  {
   "cell_type": "code",
   "execution_count": 25,
   "id": "1373c4ef-9e45-4cfe-9ada-8797d77b9018",
   "metadata": {},
   "outputs": [
    {
     "name": "stdout",
     "output_type": "stream",
     "text": [
      "Legolas is a Elf who fights with a Bow. HP = 70 / 80\n",
      "Gimli is a Dwarf who fights with a Axe. HP = 120 / 150\n",
      "Gandalf is a Ainur who fights with a Staff. HP = 100 / 100\n"
     ]
    }
   ],
   "source": [
    "legolas = Elf(name=\"Legolas\", weapon=\"Bow\", health=70)\n",
    "gimli = Dwarf(name=\"Gimli\", weapon=\"Axe\", health=120)\n",
    "gandalf = Ainur(name=\"Gandalf\", weapon=\"Staff\", health=100)\n",
    "\n",
    "print(legolas)\n",
    "print(gimli)\n",
    "print(gandalf)"
   ]
  },
  {
   "cell_type": "markdown",
   "id": "99e2694b-ca24-4fc9-b3cd-39ffded24437",
   "metadata": {
    "tags": []
   },
   "source": [
    "## A fun exercise"
   ]
  },
  {
   "cell_type": "code",
   "execution_count": 26,
   "id": "1cd56750-adad-4ccd-a35e-59678fb8e29c",
   "metadata": {},
   "outputs": [],
   "source": [
    "import lordoftherings as lotr"
   ]
  },
  {
   "cell_type": "code",
   "execution_count": 27,
   "id": "f9f07305-b985-49d0-a588-6a85d5f84881",
   "metadata": {},
   "outputs": [
    {
     "name": "stdout",
     "output_type": "stream",
     "text": [
      "Legolas is a Elf who fights with a Bow. HP = 70 / 80\n"
     ]
    }
   ],
   "source": [
    "# Create Legolas\n",
    "legolas = lotr.Elf(name=\"Legolas\", weapon=\"Bow\", health=70)\n",
    "print(legolas)"
   ]
  },
  {
   "cell_type": "code",
   "execution_count": 28,
   "id": "08a6f875-ca30-4ff0-bbb8-532e22cb8d5d",
   "metadata": {},
   "outputs": [
    {
     "name": "stdout",
     "output_type": "stream",
     "text": [
      "Legolas is a Elf who fights with a Bow. HP = 20 / 80\n"
     ]
    }
   ],
   "source": [
    "# Legolas takes damage (probably from Gimli's axe)\n",
    "legolas.take_damage(50)\n",
    "print(legolas)"
   ]
  },
  {
   "cell_type": "code",
   "execution_count": 29,
   "id": "4d9d56f9-54b6-40cb-85df-ef1c082eb7e4",
   "metadata": {},
   "outputs": [
    {
     "name": "stdout",
     "output_type": "stream",
     "text": [
      "Legolas has died.\n",
      "Legolas is a Elf who fights with a Bow. HP = 0 / 80\n"
     ]
    }
   ],
   "source": [
    "# Legolas takes damage again, this time it's \"fatal\"\n",
    "legolas.take_damage(50)\n",
    "print(legolas)"
   ]
  },
  {
   "cell_type": "code",
   "execution_count": 30,
   "id": "3a696b04-40c9-485d-b979-b31f892a138b",
   "metadata": {},
   "outputs": [
    {
     "name": "stdout",
     "output_type": "stream",
     "text": [
      "Gandalf is a Ainur who fights with a Staff. HP = 100 / 100. MP = 100 / 100\n"
     ]
    }
   ],
   "source": [
    "# Every party needs a healer/support, this one has Gandalf\n",
    "gandalf = lotr.Ainur(name=\"Gandalf\", weapon = \"Staff\", health = 100, mana = 100)\n",
    "print(gandalf)"
   ]
  },
  {
   "cell_type": "code",
   "execution_count": 31,
   "id": "99234f09-87ab-4b51-9401-13edaaf5beef",
   "metadata": {},
   "outputs": [
    {
     "name": "stdout",
     "output_type": "stream",
     "text": [
      "Gandalf heals Legolas for 40 HP.\n",
      "Legolas is a Elf who fights with a Bow. HP = 40 / 80\n",
      "Gandalf is a Ainur who fights with a Staff. HP = 100 / 100. MP = 20 / 100\n"
     ]
    }
   ],
   "source": [
    "# Gandalf heals Legolas\n",
    "gandalf.heal(legolas, 40)\n",
    "print(legolas)\n",
    "print(gandalf)"
   ]
  },
  {
   "cell_type": "code",
   "execution_count": 32,
   "id": "926693ec-5641-4589-a0cf-cc65bfe25fee",
   "metadata": {},
   "outputs": [
    {
     "name": "stdout",
     "output_type": "stream",
     "text": [
      "Gandalf cannot heal for 40 HP. Insufficient mana. Needs 80, has 20.\n"
     ]
    }
   ],
   "source": [
    "# But even Gandalf has limitations\n",
    "gandalf.heal(legolas, 40)"
   ]
  },
  {
   "cell_type": "code",
   "execution_count": null,
   "id": "f1b5992c-543c-49d6-84b0-10f615ec9cf2",
   "metadata": {},
   "outputs": [],
   "source": []
  }
 ],
 "metadata": {
  "citation-manager": {
   "items": {}
  },
  "kernelspec": {
   "display_name": "Python 3 (ipykernel)",
   "language": "python",
   "name": "python3"
  },
  "language_info": {
   "codemirror_mode": {
    "name": "ipython",
    "version": 3
   },
   "file_extension": ".py",
   "mimetype": "text/x-python",
   "name": "python",
   "nbconvert_exporter": "python",
   "pygments_lexer": "ipython3",
   "version": "3.8.8"
  }
 },
 "nbformat": 4,
 "nbformat_minor": 5
}
