{
 "cells": [
  {
   "cell_type": "markdown",
   "id": "42ff5226-30b8-4722-a1db-4f9564c4a60c",
   "metadata": {},
   "source": [
    "# Week 2 - August 30 - Data types and operators"
   ]
  },
  {
   "cell_type": "markdown",
   "id": "bd6d5d5d-79fb-4b35-829e-60e2169dd51d",
   "metadata": {
    "tags": []
   },
   "source": [
    "## Basics"
   ]
  },
  {
   "cell_type": "markdown",
   "id": "4b80e0a5-dabb-4ee9-b2e7-32bd7cfe7fd9",
   "metadata": {
    "jp-MarkdownHeadingCollapsed": true,
    "tags": []
   },
   "source": [
    "### Comments"
   ]
  },
  {
   "cell_type": "markdown",
   "id": "adacea3f-4045-4800-a932-c9031f922fd1",
   "metadata": {},
   "source": [
    "You can use a # to denote a comment line. This line is ignored by the Python interpreter.\n",
    "\n",
    "For multiline comments, it's best practice to use multiple lines starting with a #"
   ]
  },
  {
   "cell_type": "code",
   "execution_count": null,
   "id": "07fc712d-2210-4449-84a4-d68c875c3bd9",
   "metadata": {},
   "outputs": [],
   "source": [
    "# This is a comment\n",
    "# This is also a comment"
   ]
  },
  {
   "cell_type": "markdown",
   "id": "3fbbc500-111a-4fe3-918f-a474d96d2b79",
   "metadata": {},
   "source": [
    "Alternatively, you can also use a **multiline string** that is not assigned to a variable."
   ]
  },
  {
   "cell_type": "code",
   "execution_count": null,
   "id": "33215780-09cb-4dcf-b79f-24d3b5f648b9",
   "metadata": {},
   "outputs": [],
   "source": [
    "\"\"\"\n",
    "You can enter a multiline string in this way.\n",
    "As the value of this string is not assigned to a variable,\n",
    "the Python interpreter will ignore it.\n",
    "\n",
    "However, this is generally reserved for docstrings,\n",
    "i.e, strings used to document functions, classes, and modules.\n",
    "\"\"\""
   ]
  },
  {
   "cell_type": "markdown",
   "id": "be322b2b-ec1d-46a5-8b6f-fc9c001df28b",
   "metadata": {},
   "source": [
    "Note that the string above was still \"printed\" by Jupyter because is was the last part of the code block. It would not be printed if there was anything under it.\n",
    "\n",
    "This is important, because it is clear that:\n",
    "- The python interpreter completely ignores lines starting with #, and hence, that is the preferrred way of commenting.\n",
    "- The python interpreter does not ignore multiline strings, and this functinalily can actually be used in Docstrings for automating documentation."
   ]
  },
  {
   "cell_type": "markdown",
   "id": "284940f6-3d08-4a8f-8d69-f9a69f52069a",
   "metadata": {
    "jp-MarkdownHeadingCollapsed": true,
    "tags": []
   },
   "source": [
    "### Print"
   ]
  },
  {
   "cell_type": "markdown",
   "id": "922692fd-906d-4b14-b067-c6a133a84b51",
   "metadata": {},
   "source": [
    "You can use single or double quotes for strings, but the recomendation is to use double quotes."
   ]
  },
  {
   "cell_type": "code",
   "execution_count": null,
   "id": "4dbf507b-482f-4a32-87e7-3d38d4af7564",
   "metadata": {},
   "outputs": [],
   "source": [
    "print(\"Albert\")"
   ]
  },
  {
   "cell_type": "code",
   "execution_count": null,
   "id": "1a46a92f-c273-45fb-b3d3-5c6e8643eb91",
   "metadata": {},
   "outputs": [],
   "source": [
    "print('Alberta')"
   ]
  },
  {
   "cell_type": "markdown",
   "id": "9056cb70-4663-401a-83b7-91866657e97a",
   "metadata": {},
   "source": [
    "**Okay, but what about quotation marks in strings?**"
   ]
  },
  {
   "cell_type": "markdown",
   "id": "bdc4f863-1d3f-438f-a9f9-49dab91892fc",
   "metadata": {},
   "source": [
    "You can either change the quotes"
   ]
  },
  {
   "cell_type": "code",
   "execution_count": null,
   "id": "8432fa4f-88d7-4639-870c-a67a475db584",
   "metadata": {},
   "outputs": [],
   "source": [
    "print(\"Hi, this is a 'speciality' here.\")"
   ]
  },
  {
   "cell_type": "code",
   "execution_count": null,
   "id": "4d541797-a638-4a98-bbc8-0ab42409af1e",
   "metadata": {},
   "outputs": [],
   "source": [
    "print('He said, \"Hello\".')"
   ]
  },
  {
   "cell_type": "markdown",
   "id": "8b05c671-1ab5-47e5-90e7-670bcbce6565",
   "metadata": {},
   "source": [
    "Or you can you the escape character ( \\\\ )"
   ]
  },
  {
   "cell_type": "code",
   "execution_count": null,
   "id": "2de33416-811a-4ba9-a69f-92e026b93a0a",
   "metadata": {},
   "outputs": [],
   "source": [
    "print(\"He said, \\\"Hello\\\".\")"
   ]
  },
  {
   "cell_type": "markdown",
   "id": "a699163a-1d2e-4140-ae09-fa7a53b9032a",
   "metadata": {
    "jp-MarkdownHeadingCollapsed": true,
    "tags": []
   },
   "source": [
    "### Variables\n",
    "We will start with the string type,  where we will declare a variable and assign a value to it. In Python, this is done in a single step, adn the variable type does not need to be specified."
   ]
  },
  {
   "cell_type": "code",
   "execution_count": null,
   "id": "6a9ba732-86b9-482a-b3e7-980513359d6e",
   "metadata": {},
   "outputs": [],
   "source": [
    "instructor = \"Salil\"\n",
    "\n",
    "# In Jupyter, if the last line in a code block is simply a variable, it's value will be printed\n",
    "instructor"
   ]
  },
  {
   "cell_type": "markdown",
   "id": "bb37c50b-0cac-4e96-b254-41fa3b6e059a",
   "metadata": {},
   "source": [
    "This also works with multiple variables"
   ]
  },
  {
   "cell_type": "code",
   "execution_count": null,
   "id": "3224996d-f695-47db-a3f6-ffc2eb2b1d78",
   "metadata": {},
   "outputs": [],
   "source": [
    "city = \"Gainesville\"\n",
    "instructor, city"
   ]
  },
  {
   "cell_type": "markdown",
   "id": "05f7e38d-ce36-45fa-93dd-0e4b7518c716",
   "metadata": {},
   "source": [
    "To get the **type** of a variable:"
   ]
  },
  {
   "cell_type": "code",
   "execution_count": null,
   "id": "ac5cf719-0a70-4d68-8c81-dd551cb30318",
   "metadata": {},
   "outputs": [],
   "source": [
    "type(instructor)"
   ]
  },
  {
   "cell_type": "markdown",
   "id": "eef66f5c-f6c3-4d25-b3b2-6f8e3b3e10b2",
   "metadata": {},
   "source": [
    "And to get its **length**:"
   ]
  },
  {
   "cell_type": "code",
   "execution_count": null,
   "id": "84115b70-a8dd-4846-aa31-d0f36509cf14",
   "metadata": {},
   "outputs": [],
   "source": [
    "len(instructor)"
   ]
  },
  {
   "cell_type": "markdown",
   "id": "91b2fd8c-8520-4c0e-a80b-54d07bfbabb1",
   "metadata": {
    "jp-MarkdownHeadingCollapsed": true,
    "tags": []
   },
   "source": [
    "### Input"
   ]
  },
  {
   "cell_type": "code",
   "execution_count": null,
   "id": "485c5401-942e-4561-a59e-2ce0b8d1aa5d",
   "metadata": {},
   "outputs": [],
   "source": [
    "# Declare a variable and get the value from the user\n",
    "name = input(\"Enter your name: \")\n",
    "name"
   ]
  },
  {
   "cell_type": "markdown",
   "id": "27a83d90-66ba-4576-ba81-262a5819403c",
   "metadata": {
    "jp-MarkdownHeadingCollapsed": true,
    "tags": []
   },
   "source": [
    "## Operations on strings"
   ]
  },
  {
   "cell_type": "markdown",
   "id": "a72679f2-219b-45bb-9336-00a1ca572977",
   "metadata": {},
   "source": [
    "You can add (concatenate) strings together:"
   ]
  },
  {
   "cell_type": "code",
   "execution_count": null,
   "id": "c66f7feb-97f6-476e-bf53-c09ec5f97bea",
   "metadata": {},
   "outputs": [],
   "source": [
    "\"Hello \" + instructor"
   ]
  },
  {
   "cell_type": "markdown",
   "id": "3280d66b-d776-46e3-8749-9cea88f7c94a",
   "metadata": {},
   "source": [
    "as well as multiply them:"
   ]
  },
  {
   "cell_type": "code",
   "execution_count": null,
   "id": "61896ba3-baa5-44e7-99ee-1d3edf2db17c",
   "metadata": {},
   "outputs": [],
   "source": [
    "instructor*3"
   ]
  },
  {
   "cell_type": "markdown",
   "id": "5dd77c9d-d940-42b6-846a-f83b4bed6313",
   "metadata": {
    "tags": []
   },
   "source": [
    "### Indexing\n",
    "\n",
    "Python follows zero indexing"
   ]
  },
  {
   "cell_type": "code",
   "execution_count": null,
   "id": "93450af2-6635-4dac-a87a-3da5ede7deee",
   "metadata": {},
   "outputs": [],
   "source": [
    "city = \"Gainesville\"\n",
    "city[0]"
   ]
  },
  {
   "cell_type": "code",
   "execution_count": null,
   "id": "455e095e-f661-472f-a443-18fa99fad1ef",
   "metadata": {},
   "outputs": [],
   "source": [
    "city[4]"
   ]
  },
  {
   "cell_type": "markdown",
   "id": "eae8b06f-f686-4c07-bd84-365867f7fa2f",
   "metadata": {},
   "source": [
    "-1 represents the last item in the list"
   ]
  },
  {
   "cell_type": "code",
   "execution_count": null,
   "id": "1e4d1228-7057-4fc2-b463-9c9941ab6ec1",
   "metadata": {},
   "outputs": [],
   "source": [
    "city[-1]"
   ]
  },
  {
   "cell_type": "code",
   "execution_count": null,
   "id": "deec94b1-d6e1-40f3-b769-914c461c5ea1",
   "metadata": {},
   "outputs": [],
   "source": [
    "city[-2]"
   ]
  },
  {
   "cell_type": "markdown",
   "id": "c1ff187b-42b4-4220-b631-e9b16eb38d0f",
   "metadata": {
    "tags": []
   },
   "source": [
    "### Slicing"
   ]
  },
  {
   "cell_type": "code",
   "execution_count": null,
   "id": "25eee5ca-5fe2-4caa-bca4-6b0703dd8e56",
   "metadata": {},
   "outputs": [],
   "source": [
    "city[0:5]"
   ]
  },
  {
   "cell_type": "markdown",
   "id": "2728c496-880c-4454-bb36-c1b12ea30c24",
   "metadata": {},
   "source": [
    "Note that the item corresponding to the \"end\" index (4: \"e\") is not included"
   ]
  },
  {
   "cell_type": "code",
   "execution_count": null,
   "id": "b10ccbe7-5150-4c3e-b9d5-fc63a2f36dbe",
   "metadata": {},
   "outputs": [],
   "source": [
    "city[:4]"
   ]
  },
  {
   "cell_type": "code",
   "execution_count": null,
   "id": "fbee0726-2491-417d-b03d-33c7e0eabe39",
   "metadata": {},
   "outputs": [],
   "source": [
    "city[-5:]"
   ]
  },
  {
   "cell_type": "markdown",
   "id": "51ea1869-d064-4909-9247-89328236eac9",
   "metadata": {
    "tags": []
   },
   "source": [
    "### Modifying strings with methods"
   ]
  },
  {
   "cell_type": "code",
   "execution_count": null,
   "id": "c4b6f7ab-e722-407c-8920-de8802fafa27",
   "metadata": {},
   "outputs": [],
   "source": [
    "any_string = \"   Hello, my name is Salil.   \"\n",
    "any_string"
   ]
  },
  {
   "cell_type": "code",
   "execution_count": null,
   "id": "f155adf7-e061-4e1c-b36d-f121c462456d",
   "metadata": {},
   "outputs": [],
   "source": [
    "any_string.upper()"
   ]
  },
  {
   "cell_type": "code",
   "execution_count": null,
   "id": "a0ed1693-5c4f-4756-b3a7-6a7901918ecd",
   "metadata": {},
   "outputs": [],
   "source": [
    "any_string.lower()"
   ]
  },
  {
   "cell_type": "markdown",
   "id": "4f2ff406-370b-436f-968a-2608304dec6f",
   "metadata": {},
   "source": [
    "Remove leading or trailing whitespace:"
   ]
  },
  {
   "cell_type": "code",
   "execution_count": null,
   "id": "5961a4be-9ce0-4d3f-81a9-4a7b22e6129a",
   "metadata": {},
   "outputs": [],
   "source": [
    "new_string = any_string.strip()\n",
    "new_string"
   ]
  },
  {
   "cell_type": "markdown",
   "id": "2c0b0f45-5b3f-415d-8d54-2216e7316c4c",
   "metadata": {},
   "source": [
    "Split a string into parts by specifying a separator:"
   ]
  },
  {
   "cell_type": "code",
   "execution_count": null,
   "id": "3ea1cf95-1564-4c87-8ab0-8715c0e38a83",
   "metadata": {},
   "outputs": [],
   "source": [
    "new_string.split(\"l\")"
   ]
  },
  {
   "cell_type": "markdown",
   "id": "480c12aa-c48b-461f-9048-a66a74c25c03",
   "metadata": {},
   "source": [
    "Replace characters:"
   ]
  },
  {
   "cell_type": "code",
   "execution_count": null,
   "id": "4e3cbd32-e612-4b3c-a2d7-6b40028e6762",
   "metadata": {},
   "outputs": [],
   "source": [
    "new_string.replace(\"a\", \"o\")"
   ]
  },
  {
   "cell_type": "markdown",
   "id": "2767ab08-707c-41c4-94c5-5bbbe363ff21",
   "metadata": {},
   "source": [
    "There are many more methods that you can check out: https://www.w3schools.com/python/python_strings_methods.asp"
   ]
  },
  {
   "cell_type": "markdown",
   "id": "59d2d9ff-0840-4c90-bbbf-40802247d7a5",
   "metadata": {
    "tags": []
   },
   "source": [
    "## Python types"
   ]
  },
  {
   "cell_type": "markdown",
   "id": "093e1c1b-8b57-45a2-95b9-360bb3011fc0",
   "metadata": {
    "tags": []
   },
   "source": [
    "### Integer"
   ]
  },
  {
   "cell_type": "code",
   "execution_count": null,
   "id": "fa74c640-ac54-4362-8254-d793c96d56d9",
   "metadata": {},
   "outputs": [],
   "source": [
    "a = 7\n",
    "type(a)"
   ]
  },
  {
   "cell_type": "markdown",
   "id": "27d7ff3d-63f9-44c7-8885-568680200f5f",
   "metadata": {},
   "source": [
    "### Float"
   ]
  },
  {
   "cell_type": "code",
   "execution_count": null,
   "id": "58bbaa97-44fb-43c6-807c-5d25e7628298",
   "metadata": {},
   "outputs": [],
   "source": [
    "b = 13.5\n",
    "type(b)"
   ]
  },
  {
   "cell_type": "code",
   "execution_count": null,
   "id": "6a3f1cdc-ef56-4f49-9131-b8085a8a4796",
   "metadata": {},
   "outputs": [],
   "source": [
    "c = 1e2\n",
    "type(c)\n",
    "c"
   ]
  },
  {
   "cell_type": "markdown",
   "id": "13fc7384-eb31-440c-bb59-16095921c1a2",
   "metadata": {},
   "source": [
    "### Complex"
   ]
  },
  {
   "cell_type": "code",
   "execution_count": null,
   "id": "908f3775-68a5-418b-a5fc-1c010f2f65ba",
   "metadata": {},
   "outputs": [],
   "source": [
    "d = 25 + 15j\n",
    "type(d)"
   ]
  },
  {
   "cell_type": "markdown",
   "id": "e828cd24-afad-4e90-8deb-8983286326bd",
   "metadata": {},
   "source": [
    "You can obtain the real and imaginary parts of a complex variable:"
   ]
  },
  {
   "cell_type": "code",
   "execution_count": null,
   "id": "7e67fc9d-d027-48cd-8083-ae3861dede16",
   "metadata": {},
   "outputs": [],
   "source": [
    "d.real, d.imag"
   ]
  },
  {
   "cell_type": "markdown",
   "id": "bd96c767-c9c6-47dd-a470-e9c340208f39",
   "metadata": {},
   "source": [
    "### Boolean"
   ]
  },
  {
   "cell_type": "code",
   "execution_count": null,
   "id": "4f73c57f-ec15-4c2a-9fd3-e11df0a6c523",
   "metadata": {},
   "outputs": [],
   "source": [
    "12 < 3"
   ]
  },
  {
   "cell_type": "code",
   "execution_count": null,
   "id": "9e1d1fb9-1240-4de4-863d-5bdc0ba0131d",
   "metadata": {},
   "outputs": [],
   "source": [
    "3.0 == 3"
   ]
  },
  {
   "cell_type": "markdown",
   "id": "a222802b-1c96-4e8b-87cf-5d8b8e2916ba",
   "metadata": {},
   "source": [
    "Boolean conditionals can also be assigned to a variable:"
   ]
  },
  {
   "cell_type": "code",
   "execution_count": null,
   "id": "8805f12d-a519-4911-9647-b9b253948034",
   "metadata": {},
   "outputs": [],
   "source": [
    "test = (5 > 2)\n",
    "type(test)"
   ]
  },
  {
   "cell_type": "code",
   "execution_count": null,
   "id": "1cd7d417-01f5-472a-98af-339a8aef407f",
   "metadata": {},
   "outputs": [],
   "source": [
    "test = False\n",
    "type(test)"
   ]
  },
  {
   "cell_type": "markdown",
   "id": "d34fd172-7954-425a-87d1-0a7c67c5c265",
   "metadata": {
    "jp-MarkdownHeadingCollapsed": true,
    "tags": []
   },
   "source": [
    "### Operations on numerical types"
   ]
  },
  {
   "cell_type": "code",
   "execution_count": null,
   "id": "31bc02fd-264e-4dec-8968-aeebf8c34da8",
   "metadata": {},
   "outputs": [],
   "source": [
    "a = 3\n",
    "b = 12.6\n",
    "a + b"
   ]
  },
  {
   "cell_type": "code",
   "execution_count": null,
   "id": "f33fca64-8182-4bb7-ac43-5d5c49f9e390",
   "metadata": {},
   "outputs": [],
   "source": [
    "2.5*10"
   ]
  },
  {
   "cell_type": "markdown",
   "id": "bdf5367f-7278-4936-bc49-fdb5ab25213b",
   "metadata": {},
   "source": [
    "Double asterix is used to denote exponents"
   ]
  },
  {
   "cell_type": "code",
   "execution_count": null,
   "id": "96a97051-a797-4103-a62f-9a3f46134e95",
   "metadata": {},
   "outputs": [],
   "source": [
    "2**8"
   ]
  },
  {
   "cell_type": "code",
   "execution_count": null,
   "id": "22609c5e-f65d-4c85-891d-ee5ddc3c2df9",
   "metadata": {},
   "outputs": [],
   "source": [
    "47 / 3.1"
   ]
  },
  {
   "cell_type": "markdown",
   "id": "cf75da07-16f9-4c6e-a554-3fce651e3408",
   "metadata": {},
   "source": [
    "You can also obtain the quotient and remainder as follows:"
   ]
  },
  {
   "cell_type": "code",
   "execution_count": null,
   "id": "bf118876-319e-41c8-b2ef-d8770c5bb6aa",
   "metadata": {},
   "outputs": [],
   "source": [
    "quotient = 13 // 3\n",
    "remainder = 13 % 3\n",
    "quotient, remainder"
   ]
  },
  {
   "cell_type": "markdown",
   "id": "659021f9-030c-4cd0-bb6c-3ccc1b02090f",
   "metadata": {},
   "source": [
    "or in one step with the divmod function:"
   ]
  },
  {
   "cell_type": "code",
   "execution_count": null,
   "id": "2fdb410e-744e-4c5b-9987-a0adcc51b7ed",
   "metadata": {},
   "outputs": [],
   "source": [
    "quotient, remainder = divmod(13, 3)\n",
    "quotient, remainder"
   ]
  },
  {
   "cell_type": "markdown",
   "id": "a6fb3607-b85c-4c82-8e5f-74820749243e",
   "metadata": {
    "tags": []
   },
   "source": [
    "#### Be careful with float precision!"
   ]
  },
  {
   "cell_type": "markdown",
   "id": "05400386-7e21-408a-8617-61854845084b",
   "metadata": {},
   "source": [
    "While this may not affect you most of the time, it is important to be aware of it. The limited precision arises because a float is represented in computer hardware as binary (base 2) fractions.\n",
    "- In the decimal (base 10) system, 10.25 is repreented as $1025 * 10^{-2}$\n",
    "- In the binary (base 2) system, it is represented as $164 * 2^{-4}$\n"
   ]
  },
  {
   "cell_type": "code",
   "execution_count": null,
   "id": "bc6210fc-06db-40c8-a3a1-7e8b947339ce",
   "metadata": {},
   "outputs": [],
   "source": [
    "162*2**-4"
   ]
  },
  {
   "cell_type": "markdown",
   "id": "68071fd4-6559-46e5-83bb-cd7b68ac9a3c",
   "metadata": {},
   "source": [
    "However, even in the decimal system, not every fraction can be represented as an integer multiple of a power of 10, especially repeating decimals:"
   ]
  },
  {
   "cell_type": "code",
   "execution_count": null,
   "id": "0a28c77b-1f9d-488b-a955-f1015cbcf172",
   "metadata": {},
   "outputs": [],
   "source": [
    "10/3"
   ]
  },
  {
   "cell_type": "markdown",
   "id": "460e4540-e063-4067-bede-f7ba6dd52e17",
   "metadata": {},
   "source": [
    "And further, binary floats cannot even accurately represent every non-repeating decimal as an integer multiple of a power of 2, leading to precision errors:"
   ]
  },
  {
   "cell_type": "code",
   "execution_count": null,
   "id": "f7da288e-f314-4d74-961e-6dfc66262ad6",
   "metadata": {},
   "outputs": [],
   "source": [
    "(1.03 - 0.42)"
   ]
  },
  {
   "cell_type": "markdown",
   "id": "62f27fa3-3456-4a54-997e-30c4114862bd",
   "metadata": {},
   "source": [
    "In fact, the vast majority of decimal multiples don't have an exact representation as an integer times a power of 2.\n",
    "\n",
    "In fact, the only multiples of 0.01 between 0 and 1 that can be represented exactly as a binary floating-point number are 0, 0.25, 0.5, 0.75 and 1. All the others are off by a small amount.\n",
    "\n",
    "While the error may seem small at first, it's magnitude will keep increasing as arithmatic operations are performed.\n",
    "\n",
    "**It's often better to work with integer types whenever possible.**"
   ]
  },
  {
   "cell_type": "markdown",
   "id": "3a5f3a67-7d4d-4c51-8b62-861509475363",
   "metadata": {
    "tags": []
   },
   "source": [
    "### Type casting\n",
    "Variables can be cast from one type to another"
   ]
  },
  {
   "cell_type": "code",
   "execution_count": null,
   "id": "41bfce1a-9e1c-41b9-96ff-408cb9ff32c2",
   "metadata": {},
   "outputs": [],
   "source": [
    "float(42)"
   ]
  },
  {
   "cell_type": "code",
   "execution_count": null,
   "id": "8f45d25e-c194-4402-a2c1-955554a4a9df",
   "metadata": {},
   "outputs": [],
   "source": [
    "int(7.9)"
   ]
  },
  {
   "cell_type": "markdown",
   "id": "2c66b6f7-0c70-4c31-a7b7-db9b6c7fba5f",
   "metadata": {},
   "source": [
    "Note that the operation above truncates the values of the float. To achieve rounding instead:"
   ]
  },
  {
   "cell_type": "code",
   "execution_count": null,
   "id": "b4c3736a-6971-44e0-b207-e05cce01ef61",
   "metadata": {},
   "outputs": [],
   "source": [
    "round(7.9)"
   ]
  },
  {
   "cell_type": "code",
   "execution_count": null,
   "id": "7f62caf5-8485-49e0-b161-f799eeb4ccd3",
   "metadata": {},
   "outputs": [],
   "source": [
    "# The second input to the round function lets you set the number of decimal places\n",
    "round(6.6666666666666, 2)"
   ]
  },
  {
   "cell_type": "markdown",
   "id": "81b1c29a-c671-433b-9d92-decef9065070",
   "metadata": {},
   "source": [
    "Boolean values are always True, except for a value of 0 or an empty string."
   ]
  },
  {
   "cell_type": "code",
   "execution_count": null,
   "id": "cc484c60-675c-41bd-a7e7-a240f4a61360",
   "metadata": {},
   "outputs": [],
   "source": [
    "bool(15)"
   ]
  },
  {
   "cell_type": "code",
   "execution_count": null,
   "id": "07cce965-be98-46c7-ae44-ccbac4493a54",
   "metadata": {},
   "outputs": [],
   "source": [
    "bool(\"Random text\")"
   ]
  },
  {
   "cell_type": "code",
   "execution_count": null,
   "id": "ce7d6e9d-dcdb-49d8-aab1-2ad968204ead",
   "metadata": {},
   "outputs": [],
   "source": [
    "bool(0)"
   ]
  },
  {
   "cell_type": "code",
   "execution_count": null,
   "id": "c3acc7da-b63e-4834-ab85-03c2b1c6668f",
   "metadata": {},
   "outputs": [],
   "source": [
    "bool(\"\")"
   ]
  },
  {
   "cell_type": "markdown",
   "id": "c7fe839e-8187-4337-b2f8-838c8cb9aa74",
   "metadata": {
    "tags": []
   },
   "source": [
    "#### Dealing with strings"
   ]
  },
  {
   "cell_type": "code",
   "execution_count": null,
   "id": "0a16ce3c-5b2b-4fdd-95bc-6f521fc2a169",
   "metadata": {},
   "outputs": [],
   "source": [
    "str(3.14159)"
   ]
  },
  {
   "cell_type": "code",
   "execution_count": null,
   "id": "16a5801f-3ec0-46f3-9fa0-2cf70f36093c",
   "metadata": {},
   "outputs": [],
   "source": [
    "float(\"1.2345\")"
   ]
  },
  {
   "cell_type": "markdown",
   "id": "47c78d84-feb3-4ad3-b7a3-28b4ffb2e755",
   "metadata": {},
   "source": [
    "But not always:"
   ]
  },
  {
   "cell_type": "code",
   "execution_count": null,
   "id": "b4e39f8a-ebd8-47b1-bfe5-20571e719f3b",
   "metadata": {},
   "outputs": [],
   "source": [
    "int(\"1.2345\")"
   ]
  },
  {
   "cell_type": "code",
   "execution_count": null,
   "id": "2c2f3d6c-c68a-4a4f-899d-a7ce0705057e",
   "metadata": {},
   "outputs": [],
   "source": [
    "int(float(\"1.2345\"))"
   ]
  },
  {
   "cell_type": "markdown",
   "id": "53c4456e-bd6d-4049-bf42-28bbaa6b2aba",
   "metadata": {},
   "source": [
    "**This is important, because user inputs are always taken as strings**"
   ]
  },
  {
   "cell_type": "code",
   "execution_count": null,
   "id": "533aaab8-8017-4ebe-8cbf-035c0ba6fc85",
   "metadata": {},
   "outputs": [],
   "source": [
    "num_1 = input(\"Enter the first number: \")\n",
    "num_2 = input(\"Enter the second number: \")\n",
    "num_1 + num_2"
   ]
  },
  {
   "cell_type": "code",
   "execution_count": null,
   "id": "92dc951a-6db7-45cb-ae3c-ff6b0bf6110c",
   "metadata": {},
   "outputs": [],
   "source": [
    "num_1*5"
   ]
  },
  {
   "cell_type": "code",
   "execution_count": null,
   "id": "747e8afb-03d7-4e9b-a980-9115b1c03555",
   "metadata": {},
   "outputs": [],
   "source": [
    "num_1*num_2"
   ]
  },
  {
   "cell_type": "code",
   "execution_count": null,
   "id": "714ec0f1-dbd7-46b5-93b4-f17cee42a544",
   "metadata": {},
   "outputs": [],
   "source": [
    "num_1 = float(input(\"Enter the first number: \"))\n",
    "num_2 = float(input(\"Enter the second number: \"))\n",
    "num_1 + num_2"
   ]
  },
  {
   "cell_type": "code",
   "execution_count": null,
   "id": "b11fce5f-875a-4e4c-8283-c153bd489a7f",
   "metadata": {},
   "outputs": [],
   "source": [
    "num_1*num_2"
   ]
  },
  {
   "cell_type": "markdown",
   "id": "ed6de684-10aa-426e-9286-7df267131b9e",
   "metadata": {
    "jp-MarkdownHeadingCollapsed": true,
    "tags": []
   },
   "source": [
    "## String formatting"
   ]
  },
  {
   "cell_type": "code",
   "execution_count": null,
   "id": "9e10cf5c-e10c-4af4-b2c3-b4dd511ad9d6",
   "metadata": {},
   "outputs": [],
   "source": [
    "name = \"Salil\"\n",
    "location = \"Gainesville\"\n",
    "leg_1 = 352.85773\n",
    "destination = \"Boston\"\n",
    "leg_2 = 707.89373\n",
    "\n",
    "distance  = leg_1 + leg_2"
   ]
  },
  {
   "cell_type": "code",
   "execution_count": null,
   "id": "6849aa66-690b-4222-95f7-830f1d4919f4",
   "metadata": {},
   "outputs": [],
   "source": [
    "print(\"Hello, \" + name + \", and welcome to your layover! We hope you had a pleasant journey from \" + location + \". When you reach \" + destination + \", you will have travelled \" + distance + \" miles.\")"
   ]
  },
  {
   "cell_type": "markdown",
   "id": "5d80b487-ed0d-42b1-a89f-9da01b00a9b9",
   "metadata": {},
   "source": [
    "Now you have to convert the float variable into a string in order to concatenate strings"
   ]
  },
  {
   "cell_type": "code",
   "execution_count": null,
   "id": "7bb3c65c-0e60-4327-9744-b577c7f3126d",
   "metadata": {},
   "outputs": [],
   "source": [
    "print(\"Hello \" + name + \", and welcome to your layover! \"\n",
    "      \"We hope you had a pleasant journey from \" + location + \". \"\n",
    "      \"When you reach \" + destination + \", you will have travelled \" + str(distance) + \" miles.\")"
   ]
  },
  {
   "cell_type": "markdown",
   "id": "295451e2-3d05-4a60-8220-b4e50f205763",
   "metadata": {},
   "source": [
    "**But life is a lot easier with f-strings!**\n",
    "\n",
    "And your code is a lot more readable too."
   ]
  },
  {
   "cell_type": "code",
   "execution_count": null,
   "id": "07ab3e15-31db-434b-85dc-07a75ea616ff",
   "metadata": {},
   "outputs": [],
   "source": [
    "print(f\"Hello {name}, and welcome to your layover! \"\n",
    "      f\"We hope you had a pleasant journey from {location}. \"\n",
    "      f\"When you reach {destination}, you will have travelled {distance} miles.\")"
   ]
  },
  {
   "cell_type": "markdown",
   "id": "553d0221-631e-4144-9319-74af88ba41e6",
   "metadata": {},
   "source": [
    "This also allows you to format your strings"
   ]
  },
  {
   "cell_type": "code",
   "execution_count": null,
   "id": "226072b7-30bd-482d-80cd-4e441e7d1ed5",
   "metadata": {},
   "outputs": [],
   "source": [
    "print(f\"Hello {name}, and welcome to your layover! \"\n",
    "      f\"We hope you had a pleasant journey from {location}. \"\n",
    "      f\"When you reach {destination}, you will have travelled {distance:.2f} miles.\")"
   ]
  },
  {
   "cell_type": "markdown",
   "id": "1a903624-b795-4286-b2ed-c7f5ff84d408",
   "metadata": {},
   "source": [
    "You can also use the multiline string"
   ]
  },
  {
   "cell_type": "code",
   "execution_count": null,
   "id": "f4c7b23a-ebad-48f6-b1e2-73c68caf2172",
   "metadata": {},
   "outputs": [],
   "source": [
    "distance  = leg_1 + leg_2\n",
    "print(f\"\"\"Hello, {name}, and welcome to your layover!\n",
    "\n",
    "\n",
    "We hope you had a pleasant journey from {location}.\n",
    "When you reach {destination}, you will have travelled {distance:.2f} miles.\"\"\")"
   ]
  },
  {
   "cell_type": "markdown",
   "id": "5b2f570a-5a6f-4b01-bfbb-46b516e24a53",
   "metadata": {},
   "source": [
    "While there are a few other ways of formatting strings, f-strings are the recommended (and most readable) method for Python 3.8+. Hence, we will not be covering the other methods in this class."
   ]
  },
  {
   "cell_type": "markdown",
   "id": "9ce21e02-008e-4c79-bda7-03d11d8417a8",
   "metadata": {
    "tags": []
   },
   "source": [
    "## Collections / Iterables"
   ]
  },
  {
   "cell_type": "markdown",
   "id": "4c67063b-d1ab-49f2-b608-296dc0f1d91e",
   "metadata": {},
   "source": [
    "There are many types of containers in Python, and it's important to select the right one for your use case.\n",
    "\n",
    "Here, we will cover the 4 built-in types."
   ]
  },
  {
   "cell_type": "markdown",
   "id": "518157e9-4431-4707-ac69-0689e290887f",
   "metadata": {
    "jp-MarkdownHeadingCollapsed": true,
    "tags": []
   },
   "source": [
    "### Lists\n",
    "\n",
    "**Ordered, mutable, and allow duplicates**\n",
    "\n",
    "The most common container used in Python."
   ]
  },
  {
   "cell_type": "code",
   "execution_count": null,
   "id": "6a9220af-b9bf-4e52-851b-11ec6c70faa6",
   "metadata": {},
   "outputs": [],
   "source": [
    "numbers = [11, 32, 53, 14, 5]\n",
    "numbers"
   ]
  },
  {
   "cell_type": "code",
   "execution_count": null,
   "id": "85af15ac-6606-4f7d-b277-ec40f1df6050",
   "metadata": {},
   "outputs": [],
   "source": [
    "teams = [\"Arsenal\", \"Manchester City\", \"Tottenham\", \"Brighton\", \"Leeds United\"]\n",
    "teams"
   ]
  },
  {
   "cell_type": "markdown",
   "id": "57a02ecb-6147-4ed6-afc7-34d2df8a3f7a",
   "metadata": {},
   "source": [
    "Lists can contain different data types:"
   ]
  },
  {
   "cell_type": "code",
   "execution_count": null,
   "id": "1b749076-a279-4adc-abfd-ede68695190f",
   "metadata": {},
   "outputs": [],
   "source": [
    "random_list  = [2, 3.5, \"apple\", True]\n",
    "random_list"
   ]
  },
  {
   "cell_type": "code",
   "execution_count": null,
   "id": "68a3b678-5cc9-4598-93b6-0761ec0d76bd",
   "metadata": {},
   "outputs": [],
   "source": [
    "type(random_list)"
   ]
  },
  {
   "cell_type": "markdown",
   "id": "b6d1837f-1f5d-48a5-acff-7f99e2dbc124",
   "metadata": {},
   "source": [
    "Lists are **indexed and sliced** the same as strings:"
   ]
  },
  {
   "cell_type": "code",
   "execution_count": null,
   "id": "8ebe43d8-ecb9-4162-9a01-d67604535c75",
   "metadata": {},
   "outputs": [],
   "source": [
    "teams[1]"
   ]
  },
  {
   "cell_type": "code",
   "execution_count": null,
   "id": "3663e698-c295-4a09-a262-baf5881ae0fb",
   "metadata": {},
   "outputs": [],
   "source": [
    "teams[-1]"
   ]
  },
  {
   "cell_type": "code",
   "execution_count": null,
   "id": "c3387652-c704-4edf-9af5-7a229a832cc3",
   "metadata": {},
   "outputs": [],
   "source": [
    "teams[1:3]"
   ]
  },
  {
   "cell_type": "markdown",
   "id": "317602bd-824f-4b22-8f69-472330b77398",
   "metadata": {},
   "source": [
    "You can create a **single-item list**:"
   ]
  },
  {
   "cell_type": "code",
   "execution_count": null,
   "id": "de42eeb4-40a1-40ce-8b4b-3908608caced",
   "metadata": {},
   "outputs": [],
   "source": [
    "single_item_list = [\"item\"]\n",
    "single_item_list"
   ]
  },
  {
   "cell_type": "code",
   "execution_count": null,
   "id": "c70c992a-4985-47dc-bcd5-3cfa2be6804c",
   "metadata": {},
   "outputs": [],
   "source": [
    "type(single_item_list)"
   ]
  },
  {
   "cell_type": "markdown",
   "id": "66897724-d5db-4577-8443-949b3ea011c5",
   "metadata": {
    "tags": []
   },
   "source": [
    "#### Mutating a list"
   ]
  },
  {
   "cell_type": "code",
   "execution_count": null,
   "id": "aad26db4-dda5-4570-9b16-2dec9f81d8b2",
   "metadata": {},
   "outputs": [],
   "source": [
    "numbers = [11, 32, 53, 14, 5]"
   ]
  },
  {
   "cell_type": "code",
   "execution_count": null,
   "id": "808b837e-1c0f-4fb4-9a2f-0635aa188c6c",
   "metadata": {},
   "outputs": [],
   "source": [
    "numbers[2] = 0\n",
    "numbers"
   ]
  },
  {
   "cell_type": "code",
   "execution_count": null,
   "id": "26aede6f-6009-4e7f-815f-dc360df09271",
   "metadata": {},
   "outputs": [],
   "source": [
    "numbers[:2] = [100, 200]\n",
    "numbers"
   ]
  },
  {
   "cell_type": "code",
   "execution_count": null,
   "id": "a657c776-83a9-422f-bf03-bbd25607e66b",
   "metadata": {},
   "outputs": [],
   "source": [
    "numbers.reverse()\n",
    "numbers"
   ]
  },
  {
   "cell_type": "markdown",
   "id": "e6b2506b-4607-48c0-bf9b-0a8ee5b76436",
   "metadata": {
    "tags": []
   },
   "source": [
    "##### Inserting items"
   ]
  },
  {
   "cell_type": "markdown",
   "id": "d4cf5370-7e2b-409b-904b-40a9a1f0e5f8",
   "metadata": {},
   "source": [
    "Inserting more items than indexes passed:"
   ]
  },
  {
   "cell_type": "code",
   "execution_count": null,
   "id": "2eaa171b-95ef-4cae-9938-91a3400885d1",
   "metadata": {},
   "outputs": [],
   "source": [
    "numbers[1:3] = [777, 999, 555]\n",
    "numbers"
   ]
  },
  {
   "cell_type": "markdown",
   "id": "0c68195b-f132-4085-8ccd-b55ec8c411f1",
   "metadata": {},
   "source": [
    "Inserting an item at a specfic index:"
   ]
  },
  {
   "cell_type": "code",
   "execution_count": null,
   "id": "0903d310-2715-463b-a97a-0ed1e3195581",
   "metadata": {},
   "outputs": [],
   "source": [
    "numbers.insert(4, 777)\n",
    "numbers"
   ]
  },
  {
   "cell_type": "markdown",
   "id": "c6ad0c99-cdd0-4955-ae71-fa381b699000",
   "metadata": {},
   "source": [
    "Adding one item to the end of the list:"
   ]
  },
  {
   "cell_type": "code",
   "execution_count": null,
   "id": "837252bd-8f7b-4b73-9f97-485ad9b25c6b",
   "metadata": {},
   "outputs": [],
   "source": [
    "numbers.append(1)\n",
    "numbers"
   ]
  },
  {
   "cell_type": "markdown",
   "id": "b6c1b780-c6af-4be4-b6ba-eb39cfd69478",
   "metadata": {
    "tags": []
   },
   "source": [
    "##### Removing items"
   ]
  },
  {
   "cell_type": "markdown",
   "id": "74b1ed4a-d7b1-486f-82ee-74717b8b5cf8",
   "metadata": {},
   "source": [
    "By specific item:\n",
    "\n",
    "(This method above only removes the first instance of the item in the list.)"
   ]
  },
  {
   "cell_type": "code",
   "execution_count": null,
   "id": "84b13b1a-4ed1-4c64-a4bf-7e8eebf70793",
   "metadata": {},
   "outputs": [],
   "source": [
    "numbers.remove(777)\n",
    "numbers"
   ]
  },
  {
   "cell_type": "code",
   "execution_count": null,
   "id": "4e701973-5bc1-4c8f-be36-1d4d5f54c53b",
   "metadata": {},
   "outputs": [],
   "source": [
    "numbers.remove(231323)"
   ]
  },
  {
   "cell_type": "markdown",
   "id": "77a52195-3550-4c6d-8cb6-eb43f9204b12",
   "metadata": {},
   "source": [
    "By specific index:"
   ]
  },
  {
   "cell_type": "code",
   "execution_count": null,
   "id": "c06ba212-11e9-4399-bf7a-eb7f90c8160d",
   "metadata": {},
   "outputs": [],
   "source": [
    "removed = numbers.pop(1)"
   ]
  },
  {
   "cell_type": "code",
   "execution_count": null,
   "id": "c2157c27-01a4-41cc-b106-82673dc17d99",
   "metadata": {},
   "outputs": [],
   "source": [
    "numbers"
   ]
  },
  {
   "cell_type": "markdown",
   "id": "0fab15f0-51e4-4bdd-ba55-a1284c170a4c",
   "metadata": {
    "tags": []
   },
   "source": [
    "##### Joining lists"
   ]
  },
  {
   "cell_type": "code",
   "execution_count": null,
   "id": "2a12331f-524a-4a47-b09e-2da350137f55",
   "metadata": {},
   "outputs": [],
   "source": [
    "numbers_1 = [1, 2, 3]\n",
    "numbers_2 = [4, 5, 6]\n",
    "numbers_1 + numbers_2"
   ]
  },
  {
   "cell_type": "code",
   "execution_count": null,
   "id": "91d6758d-73b3-4da8-90a0-b2dd3e8d6a32",
   "metadata": {},
   "outputs": [],
   "source": [
    "numbers.extend([3.14, 273.15, 98.61])\n",
    "numbers"
   ]
  },
  {
   "cell_type": "markdown",
   "id": "f0b7db4a-a089-4663-ab81-2ac0820c88ab",
   "metadata": {},
   "source": [
    "The \\* operator can also be used to **multiply lists**:"
   ]
  },
  {
   "cell_type": "code",
   "execution_count": null,
   "id": "8c68b889-0396-4e42-97ae-b3727c56dc42",
   "metadata": {},
   "outputs": [],
   "source": [
    "numbers_1*5"
   ]
  },
  {
   "cell_type": "markdown",
   "id": "f3fba5c7-fc3d-49f7-816d-4205dc0a12dd",
   "metadata": {
    "tags": []
   },
   "source": [
    "##### Sorting lists"
   ]
  },
  {
   "cell_type": "code",
   "execution_count": null,
   "id": "e046e68b-6fe8-48df-bb1f-c0829daf58ab",
   "metadata": {},
   "outputs": [],
   "source": [
    "numbers = [34, 543, 24, 12323, 234]\n",
    "numbers"
   ]
  },
  {
   "cell_type": "code",
   "execution_count": null,
   "id": "b8790ec6-8396-4adc-8170-19b907605347",
   "metadata": {},
   "outputs": [],
   "source": [
    "numbers.sort()\n",
    "numbers"
   ]
  },
  {
   "cell_type": "code",
   "execution_count": null,
   "id": "f14f34af-b332-440f-96ed-c278c5e26945",
   "metadata": {},
   "outputs": [],
   "source": [
    "numbers.sort(reverse=True)\n",
    "numbers"
   ]
  },
  {
   "cell_type": "markdown",
   "id": "0eebe28a-50b2-42b0-97be-f87dd0a47cbe",
   "metadata": {},
   "source": [
    "Also works with strings:"
   ]
  },
  {
   "cell_type": "code",
   "execution_count": null,
   "id": "0531049b-0b57-4889-bed1-1ab961b1c704",
   "metadata": {},
   "outputs": [],
   "source": [
    "teams"
   ]
  },
  {
   "cell_type": "code",
   "execution_count": null,
   "id": "c426b7a5-051c-48bf-b4e4-3ce02c3f85e4",
   "metadata": {},
   "outputs": [],
   "source": [
    "teams.sort()\n",
    "teams"
   ]
  },
  {
   "cell_type": "markdown",
   "id": "6ac288ac-3f83-463f-a172-74d8ebb42224",
   "metadata": {
    "jp-MarkdownHeadingCollapsed": true,
    "tags": []
   },
   "source": [
    "### Tuples\n",
    "\n",
    "**Ordered, immutable, and allow duplicates**\n",
    "\n",
    "Writing values to a tuple is also referred to as \"packing a tuple\"."
   ]
  },
  {
   "cell_type": "code",
   "execution_count": null,
   "id": "18bb0ac7-e138-4304-b62c-91c03362968b",
   "metadata": {},
   "outputs": [],
   "source": [
    "outputs = (13.5, \"normalized\", False)\n",
    "outputs"
   ]
  },
  {
   "cell_type": "code",
   "execution_count": null,
   "id": "8180e82b-e83f-48c8-8e4d-8bdaab4efc1c",
   "metadata": {},
   "outputs": [],
   "source": [
    "type(outputs)"
   ]
  },
  {
   "cell_type": "markdown",
   "id": "dc3ceadf-3a69-4706-a9d5-93be623c775e",
   "metadata": {},
   "source": [
    "**Indexing and slicing** works similar to a list:"
   ]
  },
  {
   "cell_type": "code",
   "execution_count": null,
   "id": "63c5e8f9-a5bb-4876-ad4a-cd7dc8c8c66c",
   "metadata": {},
   "outputs": [],
   "source": [
    "outputs[1]"
   ]
  },
  {
   "cell_type": "markdown",
   "id": "fc18d9d5-3616-4613-94b3-f4ee58166947",
   "metadata": {},
   "source": [
    "But items in a tuple **cannot be changed**:"
   ]
  },
  {
   "cell_type": "code",
   "execution_count": null,
   "id": "51a5d511-c17f-4a39-879f-bf1af2ee989e",
   "metadata": {},
   "outputs": [],
   "source": [
    "outputs[2] = True"
   ]
  },
  {
   "cell_type": "markdown",
   "id": "194f964b-cd3d-4c39-aceb-faa40974a877",
   "metadata": {},
   "source": [
    "However, you can **add (concatenate) tuples together**:"
   ]
  },
  {
   "cell_type": "code",
   "execution_count": null,
   "id": "01e0fdc7-7b59-4400-b8b1-a0da98237044",
   "metadata": {},
   "outputs": [],
   "source": [
    "tup_1 = (1, 2, 3)\n",
    "tup_2 = (4, 5)\n",
    "tup_1 + tup_2"
   ]
  },
  {
   "cell_type": "markdown",
   "id": "a0b2dfc5-9ca4-42ad-ae0b-9b97529e4ff7",
   "metadata": {},
   "source": [
    "and **multiply** them:"
   ]
  },
  {
   "cell_type": "code",
   "execution_count": null,
   "id": "fb8b9041-ef10-4c2c-a295-30873ddcd642",
   "metadata": {},
   "outputs": [],
   "source": [
    "tup_1*2"
   ]
  },
  {
   "cell_type": "markdown",
   "id": "7bb7d228-dafb-451a-9586-2ee74698da76",
   "metadata": {},
   "source": [
    "To create a **single-item tuple**:"
   ]
  },
  {
   "cell_type": "code",
   "execution_count": null,
   "id": "897ff2df-e7fa-4b05-9806-5373e6ec31fb",
   "metadata": {},
   "outputs": [],
   "source": [
    "test_tuple = (\"single_item\",)\n",
    "test_tuple"
   ]
  },
  {
   "cell_type": "code",
   "execution_count": null,
   "id": "0b2fb323-0bdb-4585-b517-96c43f4cfadf",
   "metadata": {},
   "outputs": [],
   "source": [
    "type(test_tuple)"
   ]
  },
  {
   "cell_type": "markdown",
   "id": "7886fa7b-5ce7-47b7-96e9-614e6c800756",
   "metadata": {},
   "source": [
    "Do not forget the comma!"
   ]
  },
  {
   "cell_type": "code",
   "execution_count": null,
   "id": "41865e09-7160-4a60-9718-2fad957c139f",
   "metadata": {},
   "outputs": [],
   "source": [
    "test_tuple = (\"single_item\")\n",
    "test_tuple"
   ]
  },
  {
   "cell_type": "code",
   "execution_count": null,
   "id": "d3b3686b-8942-4b19-9aab-06cbe96a23c1",
   "metadata": {},
   "outputs": [],
   "source": [
    "type(test_tuple)"
   ]
  },
  {
   "cell_type": "markdown",
   "id": "5ca112c0-bf3e-43ae-a903-52022e655cd7",
   "metadata": {
    "jp-MarkdownHeadingCollapsed": true,
    "tags": []
   },
   "source": [
    "#### Unpacking a tuple"
   ]
  },
  {
   "cell_type": "markdown",
   "id": "17c1b8c0-772e-4e01-95f6-f587502d7c6b",
   "metadata": {},
   "source": [
    "Multiple arguments sent to functions, and multiple arguments received from a function are passed as tuples.\n",
    "\n",
    "For example, when two variables are on the last line of a Jupyter notebook, they are printed as a tuple."
   ]
  },
  {
   "cell_type": "code",
   "execution_count": null,
   "id": "68fdb6e5-84ad-4b99-aee7-6109ce89b8a8",
   "metadata": {},
   "outputs": [],
   "source": [
    "num_1 = 10\n",
    "num_2 = 20\n",
    "num_1, num_2"
   ]
  },
  {
   "cell_type": "markdown",
   "id": "4141b75f-4ad1-44ea-aaea-52e385a04030",
   "metadata": {},
   "source": [
    "It is often necessary to \"unpack\" items from the tuple and assign them to variables"
   ]
  },
  {
   "cell_type": "code",
   "execution_count": null,
   "id": "85e6086a-603d-4469-b517-67273c369d56",
   "metadata": {},
   "outputs": [],
   "source": [
    "cfb_teams = (\"Alabama\", \"Ohio State\", \"Georgia\", \"Clemson\", \"Notre Dame\", \"Texas A&M\")\n",
    "\n",
    "# Unpacking the tuple\n",
    "(first, second, third, fourth, fifth, sixth) = cfb_teams\n",
    "first"
   ]
  },
  {
   "cell_type": "code",
   "execution_count": null,
   "id": "0f301e4c-ac57-4428-a9fa-c6546611ecb0",
   "metadata": {},
   "outputs": [],
   "source": [
    "fifth"
   ]
  },
  {
   "cell_type": "markdown",
   "id": "1a23c00e-3d0e-4b51-8e2a-5988badca078",
   "metadata": {},
   "source": [
    "By using the \\* operator, you can assign multiple tuple items to a list"
   ]
  },
  {
   "cell_type": "code",
   "execution_count": null,
   "id": "767d90cb-3804-4174-a8d8-5b8d68bfefc4",
   "metadata": {},
   "outputs": [],
   "source": [
    "(winner, runner_up, *others) = cfb_teams\n",
    "winner"
   ]
  },
  {
   "cell_type": "code",
   "execution_count": null,
   "id": "ce3d2930-e51b-47db-9817-9705ad58feb5",
   "metadata": {},
   "outputs": [],
   "source": [
    "runner_up"
   ]
  },
  {
   "cell_type": "code",
   "execution_count": null,
   "id": "f1c0b8f1-b8e9-4e39-aa0e-d6006579be8f",
   "metadata": {},
   "outputs": [],
   "source": [
    "others"
   ]
  },
  {
   "cell_type": "markdown",
   "id": "7573a3d0-9cbb-4cfc-8a48-485d5067d4d1",
   "metadata": {
    "jp-MarkdownHeadingCollapsed": true,
    "tags": []
   },
   "source": [
    "### Sets\n",
    "\n",
    "**Unordered, immutable, and does not allow duplicates**"
   ]
  },
  {
   "cell_type": "code",
   "execution_count": null,
   "id": "956a854a-b4a9-469f-a823-b9618968870e",
   "metadata": {},
   "outputs": [],
   "source": [
    "fruits = {\"apples\", \"oranges\", \"grapes\"}\n",
    "fruits"
   ]
  },
  {
   "cell_type": "code",
   "execution_count": null,
   "id": "6fea9a17-59f2-4b9a-9e74-39e9ea1433ab",
   "metadata": {},
   "outputs": [],
   "source": [
    "type(fruits)"
   ]
  },
  {
   "cell_type": "markdown",
   "id": "05716c57-e697-492a-8563-cb7331761847",
   "metadata": {
    "tags": []
   },
   "source": [
    "#### Adding and removing items from a set."
   ]
  },
  {
   "cell_type": "markdown",
   "id": "02f3cf1c-b6f5-4a3a-98c1-454206278912",
   "metadata": {},
   "source": [
    "Adding single items:"
   ]
  },
  {
   "cell_type": "code",
   "execution_count": null,
   "id": "ce72c568-3c47-4745-a1f2-8e0a27d8bba4",
   "metadata": {},
   "outputs": [],
   "source": [
    "fruits.add(\"pears\")\n",
    "fruits"
   ]
  },
  {
   "cell_type": "markdown",
   "id": "b09aec3a-b691-46eb-ba22-6e788d394763",
   "metadata": {},
   "source": [
    "Adding multiple items (adding any iterable to a set):"
   ]
  },
  {
   "cell_type": "code",
   "execution_count": null,
   "id": "90a5db3f-58b5-43e8-b93c-5ed8e6a241d6",
   "metadata": {},
   "outputs": [],
   "source": [
    "fruits.update({\"bananas\", \"tomatoes\"})\n",
    "fruits"
   ]
  },
  {
   "cell_type": "code",
   "execution_count": null,
   "id": "6153bf6f-b4b5-4e35-9eda-07dc4a4b4514",
   "metadata": {},
   "outputs": [],
   "source": [
    "fruits.update([\"strawberries\", \"raspberries\"])\n",
    "fruits"
   ]
  },
  {
   "cell_type": "markdown",
   "id": "2424d56a-bce3-4a40-bc86-9612cff1ce22",
   "metadata": {},
   "source": [
    "Removing an item:"
   ]
  },
  {
   "cell_type": "code",
   "execution_count": null,
   "id": "e9783aa9-97b2-4cbe-a41e-1bd5f6fbccda",
   "metadata": {},
   "outputs": [],
   "source": [
    "fruits.remove(\"tomatoes\")\n",
    "fruits"
   ]
  },
  {
   "cell_type": "markdown",
   "id": "6980767f-4a95-46f9-9ca1-946a1f1697da",
   "metadata": {
    "tags": []
   },
   "source": [
    "#### Joining sets"
   ]
  },
  {
   "cell_type": "markdown",
   "id": "56fb2709-95ca-406f-beb7-b6fee764fa29",
   "metadata": {
    "tags": []
   },
   "source": [
    "##### Union"
   ]
  },
  {
   "cell_type": "code",
   "execution_count": null,
   "id": "69e3a48b-2400-40ef-8129-488a80154659",
   "metadata": {},
   "outputs": [],
   "source": [
    "set_1 = {\"a\", \"b\", \"c\"}\n",
    "set_2 = {\"c\", \"d\"}\n",
    "set_u = set_1.union(set_2)\n",
    "set_u"
   ]
  },
  {
   "cell_type": "markdown",
   "id": "0005d202-dd70-4d22-8fd0-e16add5d1bb0",
   "metadata": {},
   "source": [
    "Updating in-place:"
   ]
  },
  {
   "cell_type": "code",
   "execution_count": null,
   "id": "8c9282aa-b7e0-4230-a72d-c6ba0ad55e2a",
   "metadata": {},
   "outputs": [],
   "source": [
    "set_1.update(set_2)\n",
    "set_1"
   ]
  },
  {
   "cell_type": "markdown",
   "id": "32c24c02-ec8c-40b9-b3c8-e5d511f70f31",
   "metadata": {
    "tags": []
   },
   "source": [
    "##### Intersection"
   ]
  },
  {
   "cell_type": "code",
   "execution_count": null,
   "id": "9150ed93-a8bf-4077-b6d9-de2837615376",
   "metadata": {},
   "outputs": [],
   "source": [
    "set_1 = {\"a\", \"b\", \"c\"}\n",
    "set_2 = {\"c\", \"d\"}\n",
    "set_i = set_1.intersection(set_2)\n",
    "set_i"
   ]
  },
  {
   "cell_type": "markdown",
   "id": "2b3af477-79ef-410d-84f3-29cbd3798a74",
   "metadata": {},
   "source": [
    "Updating in-place:"
   ]
  },
  {
   "cell_type": "code",
   "execution_count": null,
   "id": "b5ded47d-a68b-432e-b039-8be8903b7106",
   "metadata": {},
   "outputs": [],
   "source": [
    "set_1 = {\"a\", \"b\", \"c\"}\n",
    "set_2 = {\"c\", \"d\"}\n",
    "set_1.intersection_update(set_2)\n",
    "set_1"
   ]
  },
  {
   "cell_type": "markdown",
   "id": "f39ab8e7-9bdd-4933-aa20-498f1c7a9bb4",
   "metadata": {
    "tags": []
   },
   "source": [
    "##### Complement of intersection (NOT in Intersection)"
   ]
  },
  {
   "cell_type": "code",
   "execution_count": null,
   "id": "9fd4c67a-2e18-4315-b7bf-862226bc7cc2",
   "metadata": {},
   "outputs": [],
   "source": [
    "set_1 = {\"a\", \"b\", \"c\"}\n",
    "set_2 = {\"c\", \"d\"}\n",
    "set_c = set_1.symmetric_difference(set_2)\n",
    "set_c"
   ]
  },
  {
   "cell_type": "markdown",
   "id": "1d167456-f68a-4854-a7bf-73098f4eb9cd",
   "metadata": {},
   "source": [
    "Updating in-place:"
   ]
  },
  {
   "cell_type": "code",
   "execution_count": null,
   "id": "732f5ed4-e85c-41df-8d29-c3dea87bb0e3",
   "metadata": {},
   "outputs": [],
   "source": [
    "set_1 = {\"a\", \"b\", \"c\"}\n",
    "set_2 = {\"c\", \"d\"}\n",
    "set_1.symmetric_difference_update(set_2)\n",
    "set_1"
   ]
  },
  {
   "cell_type": "markdown",
   "id": "45696bd2-c1b4-4da7-91b0-785045871426",
   "metadata": {
    "jp-MarkdownHeadingCollapsed": true,
    "tags": []
   },
   "source": [
    "### Dictionaries\n",
    "\n",
    "**Ordered, mutable, and allow duplicates**\n",
    "\n",
    "Data is stored in **key: value** pairs."
   ]
  },
  {
   "cell_type": "code",
   "execution_count": null,
   "id": "50cc84a1-9841-4f49-9653-d29d430db2d3",
   "metadata": {},
   "outputs": [],
   "source": [
    "arsenal = {\n",
    "    \"full_name\": \"The Arsenal Football Club\",\n",
    "    \"nickname\": \"The Gunners\",\n",
    "    \"location\": \"London\",\n",
    "    \"manager\": \"Mikel Arteta\",\n",
    "    \"founded\": 1886,\n",
    "    \"colors\": (\"red\", \"white\"),\n",
    "}\n",
    "arsenal"
   ]
  },
  {
   "cell_type": "markdown",
   "id": "340266c4-61c5-4eb3-8181-14d96a9ef54f",
   "metadata": {},
   "source": [
    "You can also use the `dict()` constructor:"
   ]
  },
  {
   "cell_type": "code",
   "execution_count": null,
   "id": "7b2240cd-7160-4a32-9255-e8b2937c0d7c",
   "metadata": {},
   "outputs": [],
   "source": [
    "manchester_united = dict(\n",
    "    full_name = \"Manchester United Football Club\",\n",
    "    nickname = \"The Red Devils\",\n",
    "    location = \"Manchester\",\n",
    "    manager = \"Erik ten Hag\",\n",
    "    founded = 1878,\n",
    "    colors = [\"red\", \"black\"],\n",
    ")\n",
    "manchester_united"
   ]
  },
  {
   "cell_type": "markdown",
   "id": "da6b2993-593d-452b-b121-81753eaa9722",
   "metadata": {},
   "source": [
    "Similar constructors exits for the other collections: `list()`, `tuple()`, and `set()`."
   ]
  },
  {
   "cell_type": "markdown",
   "id": "233eab84-9c32-4227-8bd2-5514a229615d",
   "metadata": {},
   "source": [
    "**Keys must be unique:**"
   ]
  },
  {
   "cell_type": "code",
   "execution_count": null,
   "id": "31f3c929-d2a4-462c-b195-b1b607be99f1",
   "metadata": {},
   "outputs": [],
   "source": [
    "manchester_united = dict(\n",
    "    full_name = \"Manchester United Football Club\",\n",
    "    nickname = \"The Red Devils\",\n",
    "    location = \"Manchester\",\n",
    "    manager = \"Erik ten Hag\",\n",
    "    founded = 1878,\n",
    "    founded = 1902,\n",
    "    colors = [\"red\", \"black\"],\n",
    ")\n",
    "manchester_united"
   ]
  },
  {
   "cell_type": "markdown",
   "id": "1549e573-2cc1-4d24-bb8d-f7b0cff38345",
   "metadata": {
    "tags": []
   },
   "source": [
    "#### Accessing items"
   ]
  },
  {
   "cell_type": "code",
   "execution_count": null,
   "id": "ed208c9e-78a1-42b0-bf40-50ed48091921",
   "metadata": {},
   "outputs": [],
   "source": [
    "arsenal"
   ]
  },
  {
   "cell_type": "code",
   "execution_count": null,
   "id": "84810a5b-2b65-42c3-b884-8092359c928c",
   "metadata": {},
   "outputs": [],
   "source": [
    "arsenal[\"manager\"]"
   ]
  },
  {
   "cell_type": "code",
   "execution_count": null,
   "id": "7bf75083-a892-4d54-a706-6051277fc420",
   "metadata": {},
   "outputs": [],
   "source": [
    "arsenal.get(\"location\")"
   ]
  },
  {
   "cell_type": "markdown",
   "id": "06f4801b-2742-4dfb-821b-4564b557b3f8",
   "metadata": {},
   "source": [
    "You can also get all the keys or values separately."
   ]
  },
  {
   "cell_type": "code",
   "execution_count": null,
   "id": "63cfc135-7f60-4ab7-9b12-15942db23a26",
   "metadata": {},
   "outputs": [],
   "source": [
    "arsenal.keys()"
   ]
  },
  {
   "cell_type": "code",
   "execution_count": null,
   "id": "0586ed0d-75c3-4ad2-9e86-a67ddb4e5b65",
   "metadata": {},
   "outputs": [],
   "source": [
    "arsenal.values()"
   ]
  },
  {
   "cell_type": "markdown",
   "id": "dbbcc741-8934-4e44-814a-9af8d8bc7daa",
   "metadata": {},
   "source": [
    "Or as an iterable of pairs"
   ]
  },
  {
   "cell_type": "code",
   "execution_count": null,
   "id": "aa679874-d303-4325-a13a-d91d50bfacdd",
   "metadata": {},
   "outputs": [],
   "source": [
    "arsenal.items()"
   ]
  },
  {
   "cell_type": "markdown",
   "id": "0ba3887f-ffa6-4a58-b485-9d22e958e446",
   "metadata": {},
   "source": [
    "This will be useful while looping over a dictionary later."
   ]
  },
  {
   "cell_type": "markdown",
   "id": "c4a53e6d-cb5e-482e-afd1-fc811164efff",
   "metadata": {
    "jp-MarkdownHeadingCollapsed": true,
    "tags": []
   },
   "source": [
    "#### Mutating Dictionaries\n",
    "\n",
    "Modifying and adding items works exactly the same"
   ]
  },
  {
   "cell_type": "code",
   "execution_count": null,
   "id": "00aff746-b721-4575-a86e-6febe95f68d0",
   "metadata": {},
   "outputs": [],
   "source": [
    "manchester_united"
   ]
  },
  {
   "cell_type": "code",
   "execution_count": null,
   "id": "11b1916b-af0e-4019-a329-cb6db00b57df",
   "metadata": {},
   "outputs": [],
   "source": [
    "manchester_united[\"colors\"] = [\"red\", \"black\", \"white\"]\n",
    "manchester_united"
   ]
  },
  {
   "cell_type": "code",
   "execution_count": null,
   "id": "08163adb-1c89-43cc-9b89-46e78b5c057c",
   "metadata": {},
   "outputs": [],
   "source": [
    "manchester_united[\"stadium\"] = \"Old Trafford\"\n",
    "manchester_united"
   ]
  },
  {
   "cell_type": "markdown",
   "id": "7ad8d55e-a042-433b-b603-93f4ac1dac70",
   "metadata": {},
   "source": [
    "Another option is to update a dictionary with a new dictionary (to add or modify items)."
   ]
  },
  {
   "cell_type": "code",
   "execution_count": null,
   "id": "928a5093-a73a-471e-a70b-7848e3b45c7f",
   "metadata": {},
   "outputs": [],
   "source": [
    "arsenal.update({\"stadium\": \"Emirates Stadium\"})\n",
    "arsenal"
   ]
  },
  {
   "cell_type": "markdown",
   "id": "cd677fda-951f-4026-9d7e-a2e7d6fef7be",
   "metadata": {},
   "source": [
    "To remove an item by it's key:"
   ]
  },
  {
   "cell_type": "code",
   "execution_count": null,
   "id": "51acc497-3378-4483-8842-d16c2f2b0d2f",
   "metadata": {},
   "outputs": [],
   "source": [
    "arsenal.pop(\"colors\")\n",
    "arsenal"
   ]
  },
  {
   "cell_type": "markdown",
   "id": "695557f8-b83e-4508-9dcc-3721dca2e784",
   "metadata": {
    "tags": []
   },
   "source": [
    "### Common methods between collections"
   ]
  },
  {
   "cell_type": "markdown",
   "id": "04e66ed5-9fb5-48a4-9837-b1375c6e5baf",
   "metadata": {
    "jp-MarkdownHeadingCollapsed": true,
    "tags": []
   },
   "source": [
    "#### Length"
   ]
  },
  {
   "cell_type": "code",
   "execution_count": null,
   "id": "54bd4a3e-e4f8-4fb5-868f-0c110be1f040",
   "metadata": {},
   "outputs": [],
   "source": [
    "any_list = ['a', 'b', 'c', 'b', 'a']\n",
    "len(any_list)"
   ]
  },
  {
   "cell_type": "code",
   "execution_count": null,
   "id": "3ff68ea4-a681-4283-b5cb-b93fad998914",
   "metadata": {},
   "outputs": [],
   "source": [
    "len(arsenal)"
   ]
  },
  {
   "cell_type": "markdown",
   "id": "36ef6c11-b4b8-47b2-8682-f194e8a12425",
   "metadata": {
    "jp-MarkdownHeadingCollapsed": true,
    "tags": []
   },
   "source": [
    "#### Checking items"
   ]
  },
  {
   "cell_type": "code",
   "execution_count": null,
   "id": "4489feb5-7df0-4ece-af2a-f3d1da3b6960",
   "metadata": {},
   "outputs": [],
   "source": [
    "teams = [\"Arsenal\", \"Manchester City\", \"Tottenham\", \"Brighton\", \"Leeds United\"]\n",
    "\"Brighton\" in teams"
   ]
  },
  {
   "cell_type": "code",
   "execution_count": null,
   "id": "8d2fe09d-f60b-4d4c-977a-fa2d885000df",
   "metadata": {},
   "outputs": [],
   "source": [
    "\"Liverpool\" in teams"
   ]
  },
  {
   "cell_type": "markdown",
   "id": "dcb3f32f-9e30-4cdf-a50e-158733c19409",
   "metadata": {},
   "source": [
    "Similar syntax for tuples and sets. For dictionaries, only *keys* can be checked."
   ]
  },
  {
   "cell_type": "code",
   "execution_count": null,
   "id": "fd6a04aa-6649-4727-b55f-8d1e51a3ab74",
   "metadata": {},
   "outputs": [],
   "source": [
    "arsenal = {\n",
    "    \"full_name\": \"The Arsenal Football Club\",\n",
    "    \"nickname\": \"The Gunners\",\n",
    "    \"location\": \"London\",\n",
    "    \"manager\": \"Mikel Arteta\",\n",
    "    \"founded\": 1886,\n",
    "    \"colors\": (\"red\", \"white\"),\n",
    "}\n",
    "\"location\" in arsenal"
   ]
  },
  {
   "cell_type": "code",
   "execution_count": null,
   "id": "9223cc45-a7be-4a8d-b916-41f02fd40eb3",
   "metadata": {},
   "outputs": [],
   "source": [
    "\"London\" in arsenal"
   ]
  },
  {
   "cell_type": "markdown",
   "id": "2a6ff65a-7152-48f1-8b1f-51621c74905f",
   "metadata": {
    "jp-MarkdownHeadingCollapsed": true,
    "tags": []
   },
   "source": [
    "#### Collection-ception"
   ]
  },
  {
   "cell_type": "markdown",
   "id": "8d9ba54a-4ef8-4abe-a35e-c0a1348ca576",
   "metadata": {},
   "source": [
    "List of lists:"
   ]
  },
  {
   "cell_type": "code",
   "execution_count": null,
   "id": "542c7d14-9e8f-42a1-bca6-2c70a64866cd",
   "metadata": {},
   "outputs": [],
   "source": [
    "north = [\"Boston\", \"New York\", \"Delaware\"]\n",
    "south = [\"Miami\", \"Atlanta\", \"Orlando\"]\n",
    "west = [\"Los Angeles\", \"San Francisco\", \"Seattle\"]\n",
    "divisions = [north, south, west]\n",
    "divisions"
   ]
  },
  {
   "cell_type": "markdown",
   "id": "2ffe2579-a084-4036-84d0-5ab60136a8e2",
   "metadata": {},
   "source": [
    "Tuple of dictionaries:"
   ]
  },
  {
   "cell_type": "code",
   "execution_count": null,
   "id": "ea38bc7a-273d-4bd1-9b9f-9e4d0df68602",
   "metadata": {},
   "outputs": [],
   "source": [
    "teams = (arsenal, manchester_united)\n",
    "teams"
   ]
  },
  {
   "cell_type": "markdown",
   "id": "7a9b7a54-9519-4533-b493-d858b80fff45",
   "metadata": {},
   "source": [
    "We have already seen above that dictionary values can be lists or tuples."
   ]
  },
  {
   "cell_type": "markdown",
   "id": "4553daf8-74f9-48ed-af04-a851de08a7c7",
   "metadata": {
    "jp-MarkdownHeadingCollapsed": true,
    "tags": []
   },
   "source": [
    "#### Casting"
   ]
  },
  {
   "cell_type": "markdown",
   "id": "2a3440ca-3651-4b46-a2c8-abcef835ce10",
   "metadata": {},
   "source": [
    "Lists, tuples, and sets can be cast from one type to the other using their respective `list()`, `tuple()`, and `set()` constructors."
   ]
  },
  {
   "cell_type": "code",
   "execution_count": null,
   "id": "3f907d2c-14ed-4d65-ba92-2a6135a633f5",
   "metadata": {},
   "outputs": [],
   "source": [
    "any_list = ['a', 'b', 'c', 'b', 'a']\n",
    "any_list"
   ]
  },
  {
   "cell_type": "code",
   "execution_count": null,
   "id": "a5a2c76b-b045-4689-8fed-e1ad8192a24d",
   "metadata": {},
   "outputs": [],
   "source": [
    "any_tuple = tuple(any_list)\n",
    "any_tuple"
   ]
  },
  {
   "cell_type": "code",
   "execution_count": null,
   "id": "ea6ac681-e81b-4be4-b0e5-6ca5f9e5ffe4",
   "metadata": {},
   "outputs": [],
   "source": [
    "any_set = set(any_tuple)\n",
    "any_set"
   ]
  },
  {
   "cell_type": "code",
   "execution_count": null,
   "id": "b2d1b738-238b-444e-953e-438455456499",
   "metadata": {},
   "outputs": [],
   "source": [
    "new_list = list(any_set)\n",
    "new_list"
   ]
  },
  {
   "cell_type": "markdown",
   "id": "022a9acc-178b-4d64-ac42-2131c09257ac",
   "metadata": {
    "jp-MarkdownHeadingCollapsed": true,
    "tags": []
   },
   "source": [
    "#### Copying collections"
   ]
  },
  {
   "cell_type": "code",
   "execution_count": null,
   "id": "d7263638-c7d3-4fd6-9a88-021d67c7f33b",
   "metadata": {},
   "outputs": [],
   "source": [
    "any_list = ['a', 'b', 'c', 'b', 'a']\n",
    "any_list"
   ]
  },
  {
   "cell_type": "code",
   "execution_count": null,
   "id": "05e2b504-1ce2-4c1a-940d-5e94ccc9dcf6",
   "metadata": {},
   "outputs": [],
   "source": [
    "new_list = any_list\n",
    "new_list"
   ]
  },
  {
   "cell_type": "code",
   "execution_count": null,
   "id": "007415e0-752d-453f-b63c-4ff7e0fd7cd6",
   "metadata": {},
   "outputs": [],
   "source": [
    "any_list[2] = 0\n",
    "any_list"
   ]
  },
  {
   "cell_type": "code",
   "execution_count": null,
   "id": "554fb1c0-224d-4b11-8e6c-7cfb1c61c639",
   "metadata": {},
   "outputs": [],
   "source": [
    "new_list"
   ]
  },
  {
   "cell_type": "markdown",
   "id": "063d6a39-cd8f-4087-8bc9-40c20e087573",
   "metadata": {},
   "source": [
    "***You cannot copy a list or a dictionary by simply by typing list_2 = list_1. list_2 will only be a reference to list_1, and changes made tp list_1 will automatically be made in list_2.***\n",
    "\n",
    "***Instead, you can use the `copy` method***"
   ]
  },
  {
   "cell_type": "code",
   "execution_count": null,
   "id": "b77a07a6-c88b-4b92-95fb-58a533eca2e7",
   "metadata": {},
   "outputs": [],
   "source": [
    "any_list = ['a', 'b', 'c', 'b', 'a']\n",
    "any_list"
   ]
  },
  {
   "cell_type": "code",
   "execution_count": null,
   "id": "cacec19a-6066-41b9-81af-d8606513624b",
   "metadata": {},
   "outputs": [],
   "source": [
    "new_list = any_list.copy()\n",
    "new_list"
   ]
  },
  {
   "cell_type": "code",
   "execution_count": null,
   "id": "50771a39-c482-47aa-9fb7-22ad331e55cc",
   "metadata": {},
   "outputs": [],
   "source": [
    "any_list[-1] = 0\n",
    "any_list"
   ]
  },
  {
   "cell_type": "code",
   "execution_count": null,
   "id": "d5645766-2c88-4a5d-88c3-34535a9a6116",
   "metadata": {},
   "outputs": [],
   "source": [
    "new_list"
   ]
  },
  {
   "cell_type": "markdown",
   "id": "43bf0e3a-0329-41e3-ac87-f9fbfdeceddb",
   "metadata": {},
   "source": [
    "***Another way of copying lists is using the `list` constructor***"
   ]
  },
  {
   "cell_type": "code",
   "execution_count": null,
   "id": "2ebfb58f-5ce6-425c-9df1-63977e240051",
   "metadata": {},
   "outputs": [],
   "source": [
    "any_list = ['a', 'b', 'c', 'b', 'a']\n",
    "any_list"
   ]
  },
  {
   "cell_type": "code",
   "execution_count": null,
   "id": "a1b164ce-0e63-41f2-ac20-f2de25263dbf",
   "metadata": {},
   "outputs": [],
   "source": [
    "new_list = list(any_list)\n",
    "new_list"
   ]
  },
  {
   "cell_type": "code",
   "execution_count": null,
   "id": "60757e33-85b1-4f1a-83ee-8a5a93ff02ed",
   "metadata": {},
   "outputs": [],
   "source": [
    "any_list[0] = 0\n",
    "any_list"
   ]
  },
  {
   "cell_type": "code",
   "execution_count": null,
   "id": "afb1eec6-b2a8-4ba4-a5d2-1baedc262bb8",
   "metadata": {},
   "outputs": [],
   "source": [
    "new_list"
   ]
  },
  {
   "cell_type": "markdown",
   "id": "06f945c3-15e5-4740-afcb-1a20d7569f16",
   "metadata": {},
   "source": [
    "**Yet another option is copying by slicing, as a slice creates a new list**"
   ]
  },
  {
   "cell_type": "code",
   "execution_count": null,
   "id": "43ca4642-43e0-4c08-813c-76ce3a9aee3f",
   "metadata": {},
   "outputs": [],
   "source": [
    "any_list = ['a', 'b', 'c', 'b', 'a']\n",
    "any_list"
   ]
  },
  {
   "cell_type": "code",
   "execution_count": null,
   "id": "d69a6977-f2e7-48cf-955d-438e9e6f43a5",
   "metadata": {},
   "outputs": [],
   "source": [
    "new_list = any_list[:]\n",
    "new_list"
   ]
  },
  {
   "cell_type": "code",
   "execution_count": null,
   "id": "d48871ee-86b3-44cf-96a5-4e7295892c07",
   "metadata": {},
   "outputs": [],
   "source": [
    "any_list[2] = 0\n",
    "any_list"
   ]
  },
  {
   "cell_type": "code",
   "execution_count": null,
   "id": "028a768a-a8db-4d39-8061-5caa488ef014",
   "metadata": {},
   "outputs": [],
   "source": [
    "new_list"
   ]
  },
  {
   "cell_type": "markdown",
   "id": "55006e5c-13ff-471d-aa06-36fedc5afa83",
   "metadata": {
    "jp-MarkdownHeadingCollapsed": true,
    "tags": []
   },
   "source": [
    "#### Clearing and deleting items"
   ]
  },
  {
   "cell_type": "markdown",
   "id": "dd6f37c7-e44b-4a23-8f37-a18f7615229b",
   "metadata": {},
   "source": [
    "`clear` removes all items, but keeps the container."
   ]
  },
  {
   "cell_type": "code",
   "execution_count": null,
   "id": "048fa2d1-c336-4f30-92ac-d6084f59a655",
   "metadata": {},
   "outputs": [],
   "source": [
    "any_list = ['a', 'b', 'c', 'b', 'a']\n",
    "any_list.clear()\n",
    "any_list"
   ]
  },
  {
   "cell_type": "markdown",
   "id": "7b65dcc1-5ef6-4791-bda4-ad99c2f9a0ea",
   "metadata": {},
   "source": [
    "`del` removes the container entirely:"
   ]
  },
  {
   "cell_type": "code",
   "execution_count": null,
   "id": "0495bd1c-57b4-4964-a256-589a21d2f0bc",
   "metadata": {},
   "outputs": [],
   "source": [
    "del any_list\n",
    "any_list"
   ]
  },
  {
   "cell_type": "markdown",
   "id": "57c366c2-7ed5-4b31-ba87-9865cbff4637",
   "metadata": {},
   "source": [
    "`del` can also be used to remove single items from collections:"
   ]
  },
  {
   "cell_type": "code",
   "execution_count": null,
   "id": "4d38aaf4-0228-468d-a0d8-0bfe6baa4149",
   "metadata": {},
   "outputs": [],
   "source": [
    "any_list = ['a', 'b', 'c', 'b', 'a']\n",
    "del any_list[0]\n",
    "any_list"
   ]
  },
  {
   "cell_type": "code",
   "execution_count": null,
   "id": "4b88b9f8-ad0c-4bd9-8d44-c2c767cce8bb",
   "metadata": {},
   "outputs": [],
   "source": [
    "any_dict = {\n",
    "    \"city\": \"Gainesville\",\n",
    "    \"state\": \"Florida:\",\n",
    "}\n",
    "del any_dict[\"state\"]\n",
    "any_dict"
   ]
  },
  {
   "cell_type": "markdown",
   "id": "470e8649-2381-4186-9337-855796e260cd",
   "metadata": {},
   "source": [
    "In fact, `del` works for all variables:"
   ]
  },
  {
   "cell_type": "code",
   "execution_count": null,
   "id": "83535e61-fefe-421b-bff4-ef3df5276d5f",
   "metadata": {},
   "outputs": [],
   "source": [
    "a = 42\n",
    "a"
   ]
  },
  {
   "cell_type": "code",
   "execution_count": null,
   "id": "8a22e875-dee6-4541-950f-2b5bf12ac8ce",
   "metadata": {},
   "outputs": [],
   "source": [
    "del a\n",
    "a"
   ]
  },
  {
   "cell_type": "code",
   "execution_count": null,
   "id": "f6b22f8c-fa23-46ed-906b-63c4bdff6968",
   "metadata": {},
   "outputs": [],
   "source": []
  }
 ],
 "metadata": {
  "citation-manager": {
   "items": {}
  },
  "kernelspec": {
   "display_name": "Python 3 (ipykernel)",
   "language": "python",
   "name": "python3"
  },
  "language_info": {
   "codemirror_mode": {
    "name": "ipython",
    "version": 3
   },
   "file_extension": ".py",
   "mimetype": "text/x-python",
   "name": "python",
   "nbconvert_exporter": "python",
   "pygments_lexer": "ipython3",
   "version": "3.9.12"
  }
 },
 "nbformat": 4,
 "nbformat_minor": 5
}
