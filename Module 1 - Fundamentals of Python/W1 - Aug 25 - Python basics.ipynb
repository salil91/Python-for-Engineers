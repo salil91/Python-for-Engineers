{
 "cells": [
  {
   "cell_type": "markdown",
   "id": "43d3e590-fa80-4214-afa7-da1191b7588d",
   "metadata": {},
   "source": [
    "# Week 1 - August 25 - Python basics"
   ]
  },
  {
   "cell_type": "markdown",
   "id": "abe75f78-57ed-4ac6-aeb5-2d679ef2414d",
   "metadata": {},
   "source": [
    "**Python versions**\n",
    "- Python 2 (deprecated)\n",
    "- Python 3.8 (oldest version I will accept homework and projects in, unless there are compatibility issues\n",
    "- Python 3.9 (current default in the Anaconda distribution)\n",
    "- Python 3.10 (latest stable release)\n",
    "- Python 3.11 (coming soon)"
   ]
  },
  {
   "cell_type": "markdown",
   "id": "f135ef75-827e-4706-8586-a5f1a008f36c",
   "metadata": {
    "tags": []
   },
   "source": [
    "## Why is Python important for Engineers?"
   ]
  },
  {
   "cell_type": "markdown",
   "id": "e4c6539d-4c78-487b-82cf-6d3982c03b10",
   "metadata": {
    "tags": []
   },
   "source": [
    "### Free and open source\n",
    "- self-explanatory"
   ]
  },
  {
   "cell_type": "markdown",
   "id": "fa2cec9d-a146-4d8e-95bd-abbcb0dd4784",
   "metadata": {
    "tags": []
   },
   "source": [
    "### Platform Independent\n",
    "- Windows\n",
    "- Mac\n",
    "- Linux"
   ]
  },
  {
   "cell_type": "markdown",
   "id": "c4a9c14a-aca5-41f1-9577-d53c29937fe2",
   "metadata": {
    "jp-MarkdownHeadingCollapsed": true,
    "tags": []
   },
   "source": [
    "### \"Simpler\" than most other options"
   ]
  },
  {
   "cell_type": "markdown",
   "id": "3ee58649-4994-4256-b984-e962cebd028d",
   "metadata": {
    "tags": []
   },
   "source": [
    "#### High-level language\n",
    "You can focus on the problem and the solution. No need to take care about low-level details such as managing the memory used by the program."
   ]
  },
  {
   "cell_type": "markdown",
   "id": "bf613f5d-6919-48f1-8b1d-bf8a2252171f",
   "metadata": {},
   "source": [
    "#### Interpreted / Scripting language\n",
    "- No compilation required\n",
    "- Directly run from the source code (like MATLAB and R)\n",
    "\n",
    "Internally, Python converts the source code into an intermediate form called bytecodes which is then translated into native language of specific computer to run it."
   ]
  },
  {
   "cell_type": "code",
   "execution_count": null,
   "id": "af15cd2c-664e-4022-9471-f646cccb5d79",
   "metadata": {},
   "outputs": [],
   "source": [
    "# This will not work unless the hello.py script is in the same directory\n",
    "!python hello.py"
   ]
  },
  {
   "cell_type": "markdown",
   "id": "8e872d13-ae2e-4935-8a57-0a2d6ab5021f",
   "metadata": {
    "tags": []
   },
   "source": [
    "#### Human readable\n",
    "Closer to the English language, with less emphasis on the syntax"
   ]
  },
  {
   "cell_type": "code",
   "execution_count": null,
   "id": "7feeda01-35ba-4469-9950-fbebb324c830",
   "metadata": {},
   "outputs": [],
   "source": [
    "print(\"Hello World\")"
   ]
  },
  {
   "cell_type": "markdown",
   "id": "3b34e346-2d17-4af0-a353-44e41fb2d64e",
   "metadata": {
    "tags": []
   },
   "source": [
    "#### Shorter code"
   ]
  },
  {
   "cell_type": "markdown",
   "id": "10845f0a-2be2-47ea-9e73-93d644a0ffe2",
   "metadata": {},
   "source": [
    "Compare the code above to it's equivalent in Java:"
   ]
  },
  {
   "cell_type": "code",
   "execution_count": null,
   "id": "38678f64-c099-4ea8-8799-18a6b7723cf1",
   "metadata": {},
   "outputs": [],
   "source": [
    "public class PrintText {\n",
    "    public static void main(String[] args)\n",
    "    {\n",
    "        System.out.println(\"Hello World\");\n",
    "    }\n",
    "}"
   ]
  },
  {
   "cell_type": "markdown",
   "id": "028e396f-e897-4dc3-a40a-d120570d0d99",
   "metadata": {},
   "source": [
    "**In Python**\n",
    "- No semicolons\n",
    "- No curly braces"
   ]
  },
  {
   "cell_type": "markdown",
   "id": "af29d4e8-f279-4f11-bd9a-2955f54f872f",
   "metadata": {
    "tags": []
   },
   "source": [
    "#### New lines are used to complete commands"
   ]
  },
  {
   "cell_type": "code",
   "execution_count": null,
   "id": "7703f8a0-16cf-41d7-92b2-32cc974c8505",
   "metadata": {},
   "outputs": [],
   "source": [
    "print(\"First line\")\n",
    "print(\"Second line\")\n",
    "print(\"Third line\")"
   ]
  },
  {
   "cell_type": "markdown",
   "id": "00640104-5467-4d6b-8290-063e1dcbfc21",
   "metadata": {},
   "source": [
    "#### Indentation is used for structuring code"
   ]
  },
  {
   "cell_type": "code",
   "execution_count": null,
   "id": "37a310ae-abb7-41c7-a9a5-777ef370a3a5",
   "metadata": {},
   "outputs": [],
   "source": [
    "fruits = [\"apples\", \"oranges\", \"grapes\"]\n",
    "for fruit in fruits:\n",
    "    if fruit == \"oranges\":\n",
    "        print(f\"I don't eat {fruit}\")\n",
    "    else:\n",
    "        print(f\"I eat {fruit}\")"
   ]
  },
  {
   "cell_type": "markdown",
   "id": "9cea893f-e3f9-4169-a121-7ecbb1c6f0d2",
   "metadata": {
    "tags": []
   },
   "source": [
    "#### Dynamically typed\n",
    "Variables do not need to be declared before-hand. An assignment statement binds a name to an object (of any type)."
   ]
  },
  {
   "cell_type": "code",
   "execution_count": null,
   "id": "edc324cf-915b-4932-a7d4-5fec33377a09",
   "metadata": {},
   "outputs": [],
   "source": [
    "i = 7\n",
    "type(i)"
   ]
  },
  {
   "cell_type": "code",
   "execution_count": null,
   "id": "a022321e-0246-486d-aabe-896e2138b23f",
   "metadata": {},
   "outputs": [],
   "source": [
    "f = 3.14159\n",
    "type(f)"
   ]
  },
  {
   "cell_type": "code",
   "execution_count": null,
   "id": "d38f326f-8b44-4cc2-b993-6e8b13b591e6",
   "metadata": {},
   "outputs": [],
   "source": [
    "s = \"python\"\n",
    "type(s)"
   ]
  },
  {
   "cell_type": "code",
   "execution_count": null,
   "id": "2204ad1a-4f04-4b05-b46a-bcc81a1e1515",
   "metadata": {},
   "outputs": [],
   "source": [
    "my_list = [2, 5, 10, 25]\n",
    "type(my_list)"
   ]
  },
  {
   "cell_type": "code",
   "execution_count": null,
   "id": "e01faf27-f1be-40a6-8c63-09d814a3c5b5",
   "metadata": {},
   "outputs": [],
   "source": [
    "sum(my_list)"
   ]
  },
  {
   "cell_type": "markdown",
   "id": "d55891a3-a11c-4ddf-866e-1f3a95b95f63",
   "metadata": {
    "tags": []
   },
   "source": [
    "### Multiple programming paradigms possible"
   ]
  },
  {
   "cell_type": "markdown",
   "id": "11badb6e-8084-4d27-b139-5b2064860137",
   "metadata": {},
   "source": [
    "#### Imperative"
   ]
  },
  {
   "cell_type": "code",
   "execution_count": null,
   "id": "2c6ef813-66a6-40b8-8efd-f646cad980e8",
   "metadata": {},
   "outputs": [],
   "source": [
    "new_list = []\n",
    "for item in my_list:\n",
    "    new_item = 2*item\n",
    "    new_list.append(new_item)\n",
    "\n",
    "new_list"
   ]
  },
  {
   "cell_type": "code",
   "execution_count": null,
   "id": "f02b2e8d-106b-49c1-96a5-e0b215862c1d",
   "metadata": {},
   "outputs": [],
   "source": [
    "total = 0\n",
    "for item in my_list:\n",
    "    total = total + item\n",
    "    # print(f\"Current total is {total}\")\n",
    "\n",
    "total"
   ]
  },
  {
   "cell_type": "markdown",
   "id": "67051290-68c6-4efc-9acb-6e5434e373b8",
   "metadata": {},
   "source": [
    "#### Procedural"
   ]
  },
  {
   "cell_type": "code",
   "execution_count": null,
   "id": "5f811ba4-e46e-4aae-b962-7254833e7b29",
   "metadata": {},
   "outputs": [],
   "source": [
    "def double_numbers(any_list):\n",
    "    new_list = []\n",
    "    for item in any_list:\n",
    "        new_item = 2*item\n",
    "        new_list.append(new_item)\n",
    "\n",
    "    return new_list\n",
    "\n",
    "\n",
    "def add_numbers(any_list):\n",
    "    total = 0\n",
    "    for item in my_list:\n",
    "        total += item\n",
    "        # print(f\"Current total is {total}\")\n",
    "        \n",
    "    return total"
   ]
  },
  {
   "cell_type": "code",
   "execution_count": null,
   "id": "e06556a4-8d60-4db1-9eb6-efeafb2999fa",
   "metadata": {},
   "outputs": [],
   "source": [
    "doubled_list = double_numbers(my_list)\n",
    "doubled_list"
   ]
  },
  {
   "cell_type": "code",
   "execution_count": null,
   "id": "0a0d5e26-55c2-4698-b0f1-87e1c64e2992",
   "metadata": {},
   "outputs": [],
   "source": [
    "total = add_numbers(my_list)\n",
    "total"
   ]
  },
  {
   "cell_type": "markdown",
   "id": "2ea35c59-fda6-46e3-ae78-b23244d24b7c",
   "metadata": {},
   "source": [
    "#### Object-oriented"
   ]
  },
  {
   "cell_type": "code",
   "execution_count": null,
   "id": "0c816b2b-31a0-49c9-85ae-7dd9eabc12dc",
   "metadata": {},
   "outputs": [],
   "source": [
    "class ListObject(object):\n",
    "    def __init__(self, any_list):\n",
    "        self.any_list = any_list\n",
    "    \n",
    "    def double_numbers(self):\n",
    "        self.doubled_list = []\n",
    "        for item in self.any_list:\n",
    "            new_item = 2*item\n",
    "            self.doubled_list.append(new_item)\n",
    "            \n",
    "        \n",
    "    def add_numbers(self):\n",
    "        self.total = sum(self.any_list)\n",
    "        \n",
    "my_list_object = ListObject(my_list)"
   ]
  },
  {
   "cell_type": "code",
   "execution_count": null,
   "id": "fe44e49f-5205-483f-86bb-5c152f3432d5",
   "metadata": {},
   "outputs": [],
   "source": [
    "my_list_object.double_numbers()\n",
    "my_list_object.doubled_list"
   ]
  },
  {
   "cell_type": "code",
   "execution_count": null,
   "id": "6ed337eb-a4e0-4144-9ba9-a9973ee8efbf",
   "metadata": {},
   "outputs": [],
   "source": [
    "my_list_object.add_numbers()\n",
    "my_list_object.total"
   ]
  },
  {
   "cell_type": "markdown",
   "id": "a6be39c3-c6e4-4f37-ae4b-0b913afdf429",
   "metadata": {},
   "source": [
    "#### Functional"
   ]
  },
  {
   "cell_type": "code",
   "execution_count": null,
   "id": "fbf4812b-e6c8-4d29-a433-6ed9194777be",
   "metadata": {},
   "outputs": [],
   "source": [
    "def double_numbers(x):\n",
    "    \n",
    "    return 2*x\n",
    "\n",
    "doubled = map(double_numbers, my_list)\n",
    "list(doubled)"
   ]
  },
  {
   "cell_type": "code",
   "execution_count": null,
   "id": "a974edba-181b-434c-9514-485d538e7dd5",
   "metadata": {},
   "outputs": [],
   "source": [
    "squared = map(lambda x: x**2, my_list)\n",
    "list(squared)"
   ]
  },
  {
   "cell_type": "code",
   "execution_count": null,
   "id": "8909308a-3d7a-444c-aee9-945a770db617",
   "metadata": {},
   "outputs": [],
   "source": [
    "import functools\n",
    "\n",
    "def add_numbers(x, y):\n",
    "    \n",
    "    return x + y\n",
    "\n",
    "total = functools.reduce(add_numbers, my_list)\n",
    "total"
   ]
  },
  {
   "cell_type": "markdown",
   "id": "8f96017c-533c-44d2-8bf5-426b4552d921",
   "metadata": {
    "jp-MarkdownHeadingCollapsed": true,
    "tags": []
   },
   "source": [
    "### \"Batteries included\"\n",
    "Vast Standard Library to handle regular expressions, file handling, directory access, document generation, email, web browsing and scraping, mathematics and statistics, creating GUIs, unit testing, etc.\n",
    "\n",
    "**Numerous well-developed scientific libraries (many included with Anaconda)**\n",
    "- numpy\n",
    "- scipy\n",
    "- sympy\n",
    "- matplotlib\n",
    "- pandas\n",
    "- scikit-learn"
   ]
  },
  {
   "cell_type": "markdown",
   "id": "7cb270ec-2bbd-4291-96ab-aeebee61b3de",
   "metadata": {
    "jp-MarkdownHeadingCollapsed": true,
    "tags": []
   },
   "source": [
    "## When not to use Python"
   ]
  },
  {
   "cell_type": "markdown",
   "id": "7adfdf00-d29e-417c-8954-92b9a3c1bdc0",
   "metadata": {
    "tags": []
   },
   "source": [
    "### When you need computational speed\n",
    "Interpreted programs run slower than the compiled programs.\n",
    "- C and Java can be 10 to 50,000 times faster than Python.\n",
    "\n",
    "However, Python is also slower than other scripting languages\n",
    "- Javascript is 10 to 100 times faster than Python\n",
    "\n",
    "Python 3.11 (coming soon) boasts 10-60% speed increases over Python 3.10"
   ]
  },
  {
   "cell_type": "markdown",
   "id": "aadd6cfd-add7-4f1b-8b64-c93c0b1e4f0f",
   "metadata": {},
   "source": [
    "#### However, computation speed is not the only factor\n",
    "\n",
    "Python is slower because it focuses on ease of use and readability over speed, which makes it a lot easier to learn.\n",
    "\n",
    "Development speed is also an important factor, and for a lot of engineering applicatoins, more important than computational speed."
   ]
  },
  {
   "cell_type": "markdown",
   "id": "d93accea-de5e-4cd3-bb30-f73036fc5bee",
   "metadata": {},
   "source": [
    "### When better features or libraries exist in other languages\n",
    "- While Python has a large set of libraries, JavaScript is even larger\n",
    "- MATLAB has many packages that have no equivalent libraries in Python\n",
    "- Python is not a *pure* functional or object-oriented language"
   ]
  },
  {
   "cell_type": "markdown",
   "id": "10b29351-8b2e-4365-94a0-55d12eb1c750",
   "metadata": {},
   "source": [
    "### When creating proprietary code\n",
    "- Python is a scripting language, which means the source code is required in order to run your program.\n",
    "- Complied languages create executable binaries (.exe), and do not require the source code to run.\n",
    "- Sharing python code requires the user to have the proper version of python, and all required libraries, installed in their environment.\n",
    "    - While it is possible to package and ship python code as an executable, it involves packaging the python interpreter and all libraries as well, which makes for a very bulky package."
   ]
  },
  {
   "cell_type": "markdown",
   "id": "4ea182f7-7c11-4b97-8e2a-582f65542e83",
   "metadata": {},
   "source": [
    "## Comparison between Python and some other languages\n",
    "https://cepr.org/voxeu/columns/choosing-numerical-programming-language-economic-research-julia-matlab-python-or-r"
   ]
  }
 ],
 "metadata": {
  "citation-manager": {
   "items": {}
  },
  "kernelspec": {
   "display_name": "Python 3 (ipykernel)",
   "language": "python",
   "name": "python3"
  },
  "language_info": {
   "codemirror_mode": {
    "name": "ipython",
    "version": 3
   },
   "file_extension": ".py",
   "mimetype": "text/x-python",
   "name": "python",
   "nbconvert_exporter": "python",
   "pygments_lexer": "ipython3",
   "version": "3.8.8"
  }
 },
 "nbformat": 4,
 "nbformat_minor": 5
}
