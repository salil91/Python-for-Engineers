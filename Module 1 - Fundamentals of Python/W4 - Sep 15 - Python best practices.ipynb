{
 "cells": [
  {
   "cell_type": "markdown",
   "id": "7ef5c7bc-82f1-40ab-b5f9-bb285642e8dd",
   "metadata": {},
   "source": [
    "# W4 - September 15 - Python best practices"
   ]
  },
  {
   "cell_type": "markdown",
   "id": "4472f6a1-6e5a-43fd-bd17-b2e47c885d2e",
   "metadata": {},
   "source": [
    "## Recap:\n",
    "\n",
    "- A **script** is a `.py` file with a sequence of instructions that are executed each time the script is called.\n",
    "- A **module** is a collection of related code (variables, functions, classes) saved in a `.py` file that can be imported and re-used.\n",
    "- A **package** is a directory of a collection of related modules. Each package (or subpackage) must have an `__init.py__` file.\n",
    "- A **library** is a collection  of packages, but is often also used interchangably with package, or as an umbrella term for reusable code.\n",
    "\n",
    "You can `import` from the Python Standard Library, installed third-party libraries, or from your own user-defined modules/pakages. You can also publish your packages to online repositories so others can use them.\n",
    "\n",
    "***Remember:***\n",
    "- Sets of instructions (especially those that are called several times) should be written inside functions for better code reusability.\n",
    "- More generally, avoid writing code that isn't wrapped in a function, to avoid global variables.\n",
    "- Functions (or other bits of code) that are called from several scripts should be written inside a module, so that only the module is imported in the different scripts (do not copy-and-paste your functions in the different scripts!)."
   ]
  },
  {
   "cell_type": "markdown",
   "id": "15d18053-16dd-4cf1-8424-b6213d30bff7",
   "metadata": {},
   "source": [
    "## PEP - Python Enhancement Proposals\n",
    "\n",
    "A PEP is a design document providing information to the Python community, or describing a new feature for Python or its processes or environment. The PEP should provide a concise technical specification of the feature and a rationale for the feature.\n",
    "\n",
    "PEPs are the primary mechanisms for proposing major new features, for collecting community input on an issue, and for documenting the design decisions that have gone into Python. The PEP author is responsible for building consensus within the community and documenting dissenting opinions.\n",
    "\n",
    "More info - PEP 1: https://peps.python.org/pep-0001/\n",
    "\n",
    "Index of PEPs - PEP 0: https://peps.python.org/pep-0000/"
   ]
  },
  {
   "cell_type": "markdown",
   "id": "549c6569-3940-48d2-a19d-0b07c1a8c1ec",
   "metadata": {},
   "source": [
    "## Python Style Guide\n",
    "PEP 8: https://peps.python.org/pep-0008/\n",
    "\n",
    "This document gives coding conventions for the Python code comprising the standard library in the main Python distribution.\n",
    "\n",
    "It covers:\n",
    "- Indentation\n",
    "- Maximum line length\n",
    "- Line breaks and blank lines\n",
    "- Whitespaces and commas\n",
    "- Comments\n",
    "- Naming conventions\n",
    "- and more..."
   ]
  },
  {
   "cell_type": "code",
   "execution_count": null,
   "id": "253b0c85-182c-4856-a7b4-b247b2a65651",
   "metadata": {},
   "outputs": [],
   "source": [
    "# Functions are named in lowercase, with underscores\n",
    "def multiply_numbers(a, b):\n",
    "    c = a*b\n",
    "    \n",
    "    return a * b\n",
    "\n",
    "\n",
    "# Classes are named using CapWords (CamelCase)\n",
    "class GameCharacter:\n",
    "    def __init__(self, name, race, weapon): # self as first argument\n",
    "        self.name = name\n",
    "        self.race = race\n",
    "        self.weapon = weapon\n",
    "        \n",
    "    @classmethod\n",
    "    def get(cls): # cls as first argument\n",
    "        name = input(\"Name:\")\n",
    "        race = input(\"Race:\")\n",
    "        weapon = input(\"Weapon:\")\n",
    "        \n",
    "        return cls(name, race, weapon)\n",
    "    \n",
    "    \n",
    "# Constants are named with ALL_CAPS    \n",
    "MAX_LEVEL = 100\n",
    "\n",
    "# Note the two blank lines between top-level functions and classes\n",
    "# Note the single blank line between methods, as well as before return"
   ]
  },
  {
   "cell_type": "markdown",
   "id": "f7edf728-3370-4d59-a4be-2d1527cfe6ff",
   "metadata": {},
   "source": [
    "## Docstrings\n",
    "PEP 257: https://peps.python.org/pep-0257/\n",
    "\n",
    "We have seen that multiline strings that are not assigned to a variable are discarded, and *can*, but shouldn't be used as comments. However, they *should* be used to document functions and classes.\n",
    "\n",
    "**One-line docstrings** can be used for really obvious cases.\n",
    "\n",
    "**Multi-line docstrings** consist of a summary line just like a one-line docstring, followed by a blank line, followed by a more elaborate description. The summary line may be used by automatic indexing tools; it is important that it fits on one line and is separated from the rest of the docstring by a blank line."
   ]
  },
  {
   "cell_type": "code",
   "execution_count": null,
   "id": "0e7145bd-d86e-46ec-a8ac-8369533d91d3",
   "metadata": {},
   "outputs": [],
   "source": [
    "def multiply_numbers(a, b):\n",
    "    \"\"\"Multiply two numbers\n",
    "    \n",
    "    Args:   a (int): First number\n",
    "            b (int): Second number\n",
    "            \n",
    "    Returns:    int: Product of a and b\n",
    "    \"\"\"\n",
    "    \n",
    "    return a * b"
   ]
  },
  {
   "cell_type": "markdown",
   "id": "3d93cdf1-ba6d-4e49-8a89-d1c1914d4ca9",
   "metadata": {},
   "source": [
    "The `help` function reads these docstrings"
   ]
  },
  {
   "cell_type": "code",
   "execution_count": null,
   "id": "86b27cd3-ada9-4d35-909b-ef1d2d210fb6",
   "metadata": {},
   "outputs": [],
   "source": [
    "help(multiply_numbers)"
   ]
  },
  {
   "cell_type": "markdown",
   "id": "f3aa1442-c7d9-46eb-9e9a-acf7aaabb2e1",
   "metadata": {},
   "source": [
    "Established tools, such as Sphinx (https://www.sphinx-doc.org/), can be used to parse docstrings and automatically create documentation for us in the form of web pages and PDF files such that you can publish and share with others."
   ]
  },
  {
   "cell_type": "markdown",
   "id": "67b4b076-86b1-4ba7-962a-6b3d502a2567",
   "metadata": {},
   "source": [
    "## The Zen of Python\n",
    "PEP 20: https://peps.python.org/pep-0020/\n",
    "```\n",
    "Beautiful is better than ugly.\n",
    "Explicit is better than implicit.\n",
    "Simple is better than complex.\n",
    "Complex is better than complicated.\n",
    "Flat is better than nested.\n",
    "Sparse is better than dense.\n",
    "Readability counts.\n",
    "Special cases aren't special enough to break the rules.\n",
    "Although practicality beats purity.\n",
    "Errors should never pass silently.\n",
    "Unless explicitly silenced.\n",
    "In the face of ambiguity, refuse the temptation to guess.\n",
    "There should be one-- and preferably only one --obvious way to do it.\n",
    "Although that way may not be obvious at first unless you're Dutch.\n",
    "Now is better than never.\n",
    "Although never is often better than *right* now.\n",
    "If the implementation is hard to explain, it's a bad idea.\n",
    "If the implementation is easy to explain, it may be a good idea.\n",
    "Namespaces are one honking great idea -- let's do more of those!\n",
    "```"
   ]
  },
  {
   "cell_type": "markdown",
   "id": "a3bec85f-58c7-45cb-9bc8-ef535ec96b93",
   "metadata": {},
   "source": [
    "## Linting and autoformatting\n",
    "\n",
    "**Linters** automatically check your code for errors and stylistic mistakes, flagging issues in your code that are inconsistent with PEP 8.\n",
    "\n",
    "`pylint` and `flake8` are two commonly used linters, which can be customized to your needs. But many IDEs come with a linter pre-installed. Listen to them!!\n",
    "\n",
    "**Autoformatters** are more aggressive and soulless. They take control away from you (after you set your preferences) and automatically format your code to be compliant with PEP 8. This can make it easier for you to focus on coding instead of style, but some people don't like the loss of manual control.\n",
    "\n",
    "`autopep8`, `yapf` and `black` are some commonly used autoformatters. You can configure them to run every time you save a file in your IDE, or before every `git commit`."
   ]
  },
  {
   "cell_type": "markdown",
   "id": "482ee35e-fb73-4aff-b9fc-25f85a459dec",
   "metadata": {},
   "source": [
    "## Type Hinting\n",
    "\n",
    "Python is dynamically typed, which means you do not have to declare the type of the variable before assigning a value to it. However, when writing functions and classes, it is a good habit to ensure that your variables are of the right type. It helps to prevent bugs, and makes your code better-documented."
   ]
  },
  {
   "cell_type": "code",
   "execution_count": null,
   "id": "fcfb93a8-6846-4fca-8c26-564226e62c44",
   "metadata": {},
   "outputs": [],
   "source": [
    "def square_number(x):\n",
    "    squared = x*x\n",
    "    print(f\"The square of {x} is {squared}\")\n",
    "\n",
    "\n",
    "number = input(\"Enter a number: \")\n",
    "square_number(number)"
   ]
  },
  {
   "cell_type": "markdown",
   "id": "40f23eed-3cc5-4a31-bcc7-c87c8c4be0bd",
   "metadata": {},
   "source": [
    "Let's add a type hint for the argument `number`"
   ]
  },
  {
   "cell_type": "code",
   "execution_count": null,
   "id": "ff0696e2-05d3-40dc-b431-8af66bc542a1",
   "metadata": {},
   "outputs": [],
   "source": [
    "def square_number(x: float):\n",
    "    squared = x*x\n",
    "    print(f\"The square of {x} is {squared}\")\n",
    "\n",
    "\n",
    "number = input(\"Enter a number: \")\n",
    "square_number(number)"
   ]
  },
  {
   "cell_type": "markdown",
   "id": "ed78060d-72ce-4b9d-b840-79484fae3449",
   "metadata": {},
   "source": [
    "Type hints do not fix errors in your code. They are literally *hints* that tell you what variable *type* is expected, and can help you in debugging."
   ]
  },
  {
   "cell_type": "code",
   "execution_count": null,
   "id": "ae89be79-4e44-497a-81c7-740520f4cdb2",
   "metadata": {},
   "outputs": [],
   "source": [
    "def square_number(x: float):\n",
    "    squared = x*x\n",
    "    print(f\"The square of {x} is {squared}\")\n",
    "\n",
    "\n",
    "number = float(input(\"Enter a number: \"))\n",
    "square_number(number)"
   ]
  },
  {
   "cell_type": "markdown",
   "id": "451736de-5b05-419b-8158-94ee7d2143df",
   "metadata": {},
   "source": [
    "This can be made even better by using a type hint for the functions return variable."
   ]
  },
  {
   "cell_type": "code",
   "execution_count": null,
   "id": "f561d630-e902-4089-bbfd-85a091e9e379",
   "metadata": {},
   "outputs": [],
   "source": [
    "def square_number(x: float) -> None:\n",
    "    squared = x*x\n",
    "    print(f\"The square of {number} is {squared}\")\n",
    "\n",
    "\n",
    "number = float(input(\"Enter a number: \"))\n",
    "square_number(number)"
   ]
  },
  {
   "cell_type": "code",
   "execution_count": null,
   "id": "fdf448f8-010f-40dc-a841-14e816b839a2",
   "metadata": {},
   "outputs": [],
   "source": [
    "def square_number(x: float) -> float:\n",
    "    squared = x*x\n",
    "    print(f\"The square of {number} is {squared}\")\n",
    "    \n",
    "    return squared\n",
    "\n",
    "number = float(input(\"Enter a number: \"))\n",
    "squared_number = square_number(number)"
   ]
  },
  {
   "cell_type": "markdown",
   "id": "7433ba1f-b8b8-45d2-bd7a-210910f17d94",
   "metadata": {},
   "source": [
    "**`mypy`**\n",
    "\n",
    "This can be coupled with a package like `mypy` that can help debug your code. `mypy` is essentially a Python linter on steroids, and it can catch many programming errors by analyzing your program, withoutactually having to run it.\n",
    "\n",
    "Copy the code below into a script named `square.py`. Then, in your Anaconda Prompt, type `mypy square.py`\n",
    "\n",
    "`mypy` may not be installed in your Anaconda environment, and running the command above may produce an error. In this case, first run `conda install -c conda-forge mypy`"
   ]
  },
  {
   "cell_type": "code",
   "execution_count": null,
   "id": "5f260c19-1c66-4618-b3d4-43fe6a7a7570",
   "metadata": {},
   "outputs": [],
   "source": [
    "def square_number(x: float):\n",
    "    squared = x*x\n",
    "    print(f\"The square of {number} is {squared}\")\n",
    "\n",
    "    \n",
    "number = input(\"Enter a number: \")\n",
    "square_number(number)"
   ]
  }
 ],
 "metadata": {
  "citation-manager": {
   "items": {}
  },
  "kernelspec": {
   "display_name": "Python 3 (ipykernel)",
   "language": "python",
   "name": "python3"
  },
  "language_info": {
   "codemirror_mode": {
    "name": "ipython",
    "version": 3
   },
   "file_extension": ".py",
   "mimetype": "text/x-python",
   "name": "python",
   "nbconvert_exporter": "python",
   "pygments_lexer": "ipython3",
   "version": "3.9.12"
  }
 },
 "nbformat": 4,
 "nbformat_minor": 5
}
