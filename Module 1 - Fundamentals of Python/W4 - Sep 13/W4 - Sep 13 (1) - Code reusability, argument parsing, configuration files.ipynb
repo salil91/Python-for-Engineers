{
 "cells": [
  {
   "cell_type": "markdown",
   "id": "e0a6671d-ec46-407c-8c44-8d10b1763980",
   "metadata": {
    "tags": []
   },
   "source": [
    "# Week 3 - September 13 - Code reusability, argument parsing, configuration files"
   ]
  },
  {
   "cell_type": "markdown",
   "id": "a9145b25-02f8-49a3-bea2-b9b2952dd756",
   "metadata": {
    "tags": []
   },
   "source": [
    "## Recap:"
   ]
  },
  {
   "cell_type": "markdown",
   "id": "63a72aee-3314-4548-af6b-05006097b543",
   "metadata": {},
   "source": [
    "- A **script** is a `.py` file with a sequence of instructions that are executed each time the script is called.\n",
    "- A **module** is a collection of related code (variables, functions, classes) saved in a `.py` file that can be imported and re-used.\n",
    "- A **package** is a directory of a collection of related modules. Each package (or subpackage) must have an `__init.py__` file.\n",
    "- A **library** is a collection  of packages, but is often also used interchangably with package, or as an umbrella term for reusable code.\n",
    "\n",
    "You can `import` from the Python Standard Library, installed third-party libraries, or from your own user-defined modules/pakages. You can also publish your packages to online repositories so others can use them.\n",
    "\n",
    "***Remember:***\n",
    "- Sets of instructions (especially those that are called several times) should be written inside functions for better code reusability.\n",
    "- More generally, avoid writing code that isn't wrapped in a function, to avoid global variables.\n",
    "- Functions (or other bits of code) that are called from several scripts should be written inside a module, so that only the module is imported in the different scripts (do not copy-and-paste your functions in the different scripts!).\n",
    "\n",
    "***Note:* For this class, we will be writing a lot of the code to `.py` files, so that we can run them from the command line. This is not possible for Jupyter notebooks, so a lot of the code here will have to be copy-pasted into scripts when you are running it at home.**"
   ]
  },
  {
   "cell_type": "markdown",
   "id": "1db6ad1e-bf67-4470-84a4-d63681997ec7",
   "metadata": {
    "tags": []
   },
   "source": [
    "### Docstrings\n",
    "\n",
    "We have seen that multiline strings that are not assigned to a variable are discarded, and *can*, but shouldn't be used as comments. However, they *should* be used to document functions and classes."
   ]
  },
  {
   "cell_type": "code",
   "execution_count": null,
   "id": "27610791-10e2-4ff9-86e0-385c6c121f1a",
   "metadata": {},
   "outputs": [],
   "source": [
    "def multiply(a, b):\n",
    "    \"\"\"Multiply two numbers\n",
    "    \n",
    "    Args:   a (int): First number\n",
    "            b (int): Second number\n",
    "            \n",
    "    Returns:    int: Product of a and b\n",
    "    \"\"\"\n",
    "    \n",
    "    return a * b"
   ]
  },
  {
   "cell_type": "markdown",
   "id": "89381a4c-3577-4243-9dfc-d26f3966884b",
   "metadata": {},
   "source": [
    "The `help` function reads these docstrings"
   ]
  },
  {
   "cell_type": "code",
   "execution_count": null,
   "id": "a8380019-7f66-4a9d-b701-0c57707a5735",
   "metadata": {},
   "outputs": [],
   "source": [
    "help(multiply)"
   ]
  },
  {
   "cell_type": "markdown",
   "id": "c00ec1e2-a6fa-44b7-ba45-d7e0f703795e",
   "metadata": {
    "tags": []
   },
   "source": [
    "## Argument parsing\n",
    "\n",
    "Once you've written your script/module, it would be ideal if you could run it without haivng to open Jupyter, Spyder, or any other IDE.\n",
    "\n",
    "To do this, any user inputs, or parameters that are allowed to change, should not be hard-coded into your scripts.\n",
    "\n",
    "We have already seen one way of receiving user input:"
   ]
  },
  {
   "cell_type": "code",
   "execution_count": null,
   "id": "a7820e5a-8b20-4ffb-b81a-cc36556fbc6c",
   "metadata": {},
   "outputs": [],
   "source": [
    "def get_name():\n",
    "    \"\"\"Gets user's name\"\"\"\n",
    "    name = input(\"What is your name? \").strip().capitalize()\n",
    "    \n",
    "    # setting a default value if the user provides no input.\n",
    "    if name == \"\":\n",
    "        name = \"user\"\n",
    "        \n",
    "    return name\n",
    "\n",
    "\n",
    "def main():\n",
    "    \"\"\"Says hello to the user\"\"\"\n",
    "    name = get_name()\n",
    "    print(f\"\\nHello, {name}!\")\n",
    "    \n",
    "\n",
    "if __name__ == \"__main__\":\n",
    "    main()"
   ]
  },
  {
   "cell_type": "markdown",
   "id": "fe286616-adcf-4c23-b248-d3422b7fa67a",
   "metadata": {},
   "source": [
    "The same code above can be saved in a script (named `hello.py` here) and run from the command line with \n",
    "\n",
    "`python hello.py`"
   ]
  },
  {
   "cell_type": "markdown",
   "id": "a51c8738-3761-42ac-95aa-331779490089",
   "metadata": {},
   "source": [
    "But this can get tedious when you have multiple inputs, and will get quite verbose to include default values for every input."
   ]
  },
  {
   "cell_type": "code",
   "execution_count": null,
   "id": "2516b3ed-cd4c-4583-9fbb-ef4a34de49c9",
   "metadata": {},
   "outputs": [],
   "source": [
    "from datetime import date\n",
    "\n",
    "def get_name():\n",
    "    \"\"\"Gets user's name\"\"\"\n",
    "    name = input(\"What is your name? \").strip().capitalize()\n",
    "    \n",
    "    # setting a default value if the user provides no input.\n",
    "    if name == \"\":\n",
    "        name = \"user\"\n",
    "        \n",
    "    return name\n",
    "\n",
    "\n",
    "def get_birthyear():\n",
    "    \"\"\"Gets user's birth year\"\"\"\n",
    "    year = input(\"What is your birthyear? \").strip()\n",
    "    \n",
    "    # setting a default value if the user provides no input.\n",
    "    if year == \"\":\n",
    "        year = 1970\n",
    "        print(\"Using default birthyear of 1970.\")\n",
    "    else:\n",
    "        year = int(year)\n",
    "        \n",
    "    return year\n",
    "\n",
    "\n",
    "def main():\n",
    "    \"\"\"Says hello to the user\"\"\"\n",
    "    name = get_name()\n",
    "    \n",
    "    birthyear = get_birthyear()\n",
    "    age = date.today().year - birthyear\n",
    "    \n",
    "    print(f\"\\nHello, {name}! You are {age} years old today.\")\n",
    "    \n",
    "    \n",
    "if __name__ == \"__main__\":\n",
    "    main()"
   ]
  },
  {
   "cell_type": "markdown",
   "id": "a9966731-4705-4667-a03e-9c0b8c3ae2b3",
   "metadata": {},
   "source": [
    "Instead, it would better to get these user inputs at the same time the script is run from the command. Something like:\n",
    "\n",
    "`python hello.py [name] [birthyear]`\n",
    "\n",
    "In this case `[name]` is a command line argument, and Python can parse these arguments with the package **`argparse`** which is included in the Standard Library.\n",
    "\n",
    "The code below can also be saved to a script. Let's name it `hello_arg.py`"
   ]
  },
  {
   "cell_type": "code",
   "execution_count": null,
   "id": "e7f6be55-3e51-43e2-9354-44e5a704c94f",
   "metadata": {},
   "outputs": [],
   "source": [
    "import argparse\n",
    "from datetime import date\n",
    "\n",
    "def get_args():\n",
    "    \"\"\"Gets command line arguments\"\"\"\n",
    "    \n",
    "    # Create an ArgumentParser object\n",
    "    parser = argparse.ArgumentParser()\n",
    "    \n",
    "    # Add arguments\n",
    "    parser.add_argument(\"name\", help=\"User's name\")\n",
    "    parser.add_argument(\"birthyear\", type=int, help=\"User's birth year\")\n",
    "    \n",
    "    # Parse arguments\n",
    "    args = parser.parse_args()\n",
    "    \n",
    "    return args\n",
    "\n",
    "\n",
    "def main():\n",
    "    \"\"\"Says hello to the user\"\"\"\n",
    "    args = get_args()\n",
    "    name = args.name.strip().capitalize()\n",
    "    age = date.today().year - args.birthyear\n",
    "    \n",
    "    print(f\"\\nHello, {name}! You are {age} years old today.\")\n",
    "\n",
    "\n",
    "if __name__ == \"__main__\":\n",
    "    main()"
   ]
  },
  {
   "cell_type": "markdown",
   "id": "d52ce7d4-856a-41d6-9826-b298c1c86fb4",
   "metadata": {},
   "source": [
    "You can now pass the arguments in the command line as:\n",
    "\n",
    "`python hello_arg.py name birthyear`\n",
    "\n",
    "In this case, `name` and `birthyear` are positional arguments. Similar to positional arguments, they have to be passed in the correct order/position.\n",
    "\n",
    "Just like functions, you can also have optional arguments and give them default values. Optional arguments are denoted by `--`"
   ]
  },
  {
   "cell_type": "code",
   "execution_count": null,
   "id": "c470cdca-9db2-43e6-9b5a-50a6a10c0646",
   "metadata": {},
   "outputs": [],
   "source": [
    "import argparse\n",
    "from datetime import date\n",
    "\n",
    "def get_args():\n",
    "    \"\"\"Gets command line arguments\"\"\"\n",
    "    \n",
    "    # Create an ArgumentParser object\n",
    "    parser = argparse.ArgumentParser()\n",
    "    \n",
    "    # Add OPTIONAL arguments\n",
    "    parser.add_argument(\"--name\", default=\"user\", help=\"User's name\")\n",
    "    parser.add_argument(\"--birthyear\", default=1970, type=int, help=\"User's birth year\")\n",
    "    \n",
    "    # Parse arguments\n",
    "    args = parser.parse_args()\n",
    "    \n",
    "    return args\n",
    "\n",
    "\n",
    "def main():\n",
    "    \"\"\"Says hello to the user\"\"\"\n",
    "    args = get_args()\n",
    "    name = args.name.strip().capitalize()\n",
    "    age = date.today().year - args.birthyear\n",
    "    \n",
    "    print(f\"\\nHello, {name}! You are {age} years old today.\")\n",
    "\n",
    "\n",
    "if __name__ == \"__main__\":\n",
    "    main()"
   ]
  },
  {
   "cell_type": "markdown",
   "id": "d72cc938-ac47-4458-aa44-cade7e0b2994",
   "metadata": {},
   "source": [
    "You can also provide single letter options for each arguments using `-`."
   ]
  },
  {
   "cell_type": "code",
   "execution_count": null,
   "id": "1c7468c9-ace5-467b-b1d9-217ccd55edfb",
   "metadata": {},
   "outputs": [],
   "source": [
    "import argparse\n",
    "from datetime import date\n",
    "\n",
    "def get_args():\n",
    "    \"\"\"Gets command line arguments\"\"\"\n",
    "    \n",
    "    # Create an ArgumentParser object\n",
    "    parser = argparse.ArgumentParser()\n",
    "    \n",
    "    # Add arguments\n",
    "    parser.add_argument(\"--name\", \"-n\", default=\"user\", help=\"User's name\")\n",
    "    parser.add_argument(\"--birthyear\", \"-y\", default=1970, type=int, help=\"User's birth year\")\n",
    "    \n",
    "    # Parse arguments\n",
    "    args = parser.parse_args()\n",
    "    \n",
    "    return args\n",
    "\n",
    "\n",
    "def main():\n",
    "    \"\"\"Says hello to the user\"\"\"\n",
    "    args = get_args()\n",
    "    name = args.name.strip().capitalize()\n",
    "    age = date.today().year - args.birthyear\n",
    "    \n",
    "    print(f\"\\nHello, {name}! You are {age} years old today.\")\n",
    "\n",
    "\n",
    "if __name__ == \"__main__\":\n",
    "    main()"
   ]
  },
  {
   "cell_type": "markdown",
   "id": "f14c9ab6-e79a-439f-aedd-976eac9dad97",
   "metadata": {},
   "source": [
    "You don't have to memorize anything. When you use `argparse`, some documentation is automatically created for you. You can access it with the `--help` or `-h` flag.\n",
    "\n",
    "`python hello_arg.py -h`\n",
    "\n",
    "which will print out:\n",
    "```\n",
    "usage: hello_arg.py [-h] [--name NAME] [--birthyear BIRTHYEAR]\n",
    "\n",
    "optional arguments:\n",
    "  -h, --help            show this help message and exit\n",
    "  --name NAME, -n NAME  User's name\n",
    "  --birthyear BIRTHYEAR, -y BIRTHYEAR\n",
    "                        User's birth year\n",
    "```"
   ]
  },
  {
   "cell_type": "markdown",
   "id": "1b46bc5f-c7f6-48da-b346-89d64b615600",
   "metadata": {},
   "source": [
    "There are much more functionality in `parser.add_argument` that I will let you discover yourself. For example:\n",
    "- `nargs` will let you specify how many inputs each argument should get. For multiple inputs, you will get a list of all the values.\n",
    "- `action` will let you specify how the input is stored. We saw the default above, but you can also have a function like `sum` act on the inputs, or store a `True` or `False` value to create a flag.\n",
    "- `const` will let you store a constant value to the variable, regardless of input.\n",
    "- `metavar` and `dest` allow you to use different names for the variable and the input argument."
   ]
  },
  {
   "cell_type": "code",
   "execution_count": null,
   "id": "7df7f3f5-2d1d-42c5-a727-a46b5c50aae0",
   "metadata": {},
   "outputs": [],
   "source": [
    "import argparse\n",
    "\n",
    "def get_args():\n",
    "    \"\"\"Gets command line arguments\"\"\"\n",
    "    \n",
    "    # Create an ArgumentParser object\n",
    "    parser = argparse.ArgumentParser()\n",
    "    \n",
    "    # Add argument with any number of inputs\n",
    "    parser.add_argument(\"numbers\", nargs=\"*\", type=int, help=\"Numbers to be added\")\n",
    "    \n",
    "    # Add argument as a flag\n",
    "    parser.add_argument(\"--verbose\", action=\"store_true\", default=False, help=\"Flag for verbose print\")\n",
    "    \n",
    "    # Parse arguments\n",
    "    args = parser.parse_args()\n",
    "    \n",
    "    return args\n",
    "\n",
    "\n",
    "def main():\n",
    "    \"\"\"Says hello to the user\"\"\"\n",
    "    args = get_args()\n",
    "    numbers_sum = sum(args.numbers)\n",
    "    \n",
    "    if args.verbose:\n",
    "        print(f\"\\nThe sum of all the entered numbers is {numbers_sum}.\")\n",
    "    else:\n",
    "        print(f\"\\nSum = {numbers_sum}\")\n",
    "\n",
    "\n",
    "if __name__ == \"__main__\":\n",
    "    main()"
   ]
  },
  {
   "cell_type": "markdown",
   "id": "b40a6f1f-3148-4f75-9a85-b9e8d785e05c",
   "metadata": {},
   "source": [
    "`argparse` is not the only package to offer this functionality. `click` is another package, which is not in the standard library but is included with Anaconda, that I personally prefer."
   ]
  },
  {
   "cell_type": "markdown",
   "id": "4e72dae7-22a5-468b-a31d-c823f35f53e2",
   "metadata": {
    "tags": []
   },
   "source": [
    "## Configuration files\n",
    "\n",
    "While command line arguments offer some nice functionality, it can still be limiting when you have a large number of parameters that may change."
   ]
  },
  {
   "cell_type": "markdown",
   "id": "18a544a8-3727-4aaf-a980-9e3a902c1177",
   "metadata": {},
   "source": [
    "Let's assume we have a bunch of CSV files from a simple compression tests. Assume that we have written a script to\n",
    "- import the CSV file from each experiment\n",
    "- cleaned the data\n",
    "- calculated stress and strain (from the diameter and length of the specimen)\n",
    "- plotted these and saved the figure to a new file\n",
    "- calculated the Young's modulus (E)\n",
    "- calculated the material wavespeed, $C_0 = \\sqrt{E/\\rho}$\n",
    "\n",
    "We'll see how to do all this later in the course; but for now, let's focus on the following problem. You wrote the code a month ago for aluminum specimens with the following parameters: $d = 10 \\, mm, l = 30 \\, mm, \\rho = 2700 \\, kg/m^3$.\n",
    "\n",
    "But today, you performed an experiment on steel specimens with the different parameters: $d = 8 \\, mm, l = 25 \\, mm, \\rho = 7800 \\, kg/m^3$.\n",
    "\n",
    "You *could* have this at the top of your code:"
   ]
  },
  {
   "cell_type": "code",
   "execution_count": null,
   "id": "147eb789-4697-4a50-9e57-e06f9984c5af",
   "metadata": {},
   "outputs": [],
   "source": [
    "diameter = 10e-3 # m\n",
    "length = 30e-3 # m\n",
    "density = 2700 # kg/m3"
   ]
  },
  {
   "cell_type": "markdown",
   "id": "6bab4c67-c30a-41a7-865f-0ff10d9fd06f",
   "metadata": {},
   "source": [
    "but we're trying to avoid having to edit our code each time we run it.\n",
    "\n",
    "We saw how we can use command line arguments, and that's definitely and option, but in some cases, there are way too many parameters that need to be passed. This is where configuration files are useful.\n",
    "\n",
    "There are a few options for these files.\n",
    "- INI\n",
    "- TOML\n",
    "- YAML\n",
    "- JSON"
   ]
  },
  {
   "cell_type": "markdown",
   "id": "383476f9-7438-433f-96ac-b9d02bf8cf9a",
   "metadata": {
    "tags": []
   },
   "source": [
    "### TOML\n",
    "\n",
    "A TOML file looks like this"
   ]
  },
  {
   "cell_type": "markdown",
   "id": "f39949e2-b96b-4d9b-845d-dd6993e70f82",
   "metadata": {},
   "source": [
    "```toml\n",
    "name = \"Compression test specimen parameters\"\n",
    "material = \"Aluminum\"\n",
    "sample_numbers = [101, 105, 117, 125, 142]\n",
    "\n",
    "[material_properties]\n",
    "density = 2700  # kg/m3\n",
    "\n",
    "[geometric_parameters]\n",
    "diameter = 10e-3  # m\n",
    "length = 30e-3  # Distance from the strain gage to the junction (m)\n",
    "\n",
    "[oscilloscope_channels]\n",
    "2 = \"Input\"\n",
    "3 = \"Intermediate\"\n",
    "4 = \"Output\"\n",
    "```"
   ]
  },
  {
   "cell_type": "markdown",
   "id": "9c26509a-512c-4e69-a76d-35ee92c147c6",
   "metadata": {},
   "source": [
    "Each parameter is stored as a `key = value` pair. You can separate paramters into collections with the `[...]` header.\n",
    "\n",
    "The file can be imported as a dictionary with the `toml` package"
   ]
  },
  {
   "cell_type": "code",
   "execution_count": 1,
   "id": "f409523a-6779-4f0a-bd7e-e989ababb155",
   "metadata": {},
   "outputs": [
    {
     "data": {
      "text/plain": [
       "{'name': 'Compression test specimen parameters',\n",
       " 'material': 'Aluminum',\n",
       " 'sample_numbers': [101, 105, 117, 125, 142],\n",
       " 'material_properties': {'density': 2700},\n",
       " 'geometric_parameters': {'diameter': 0.01, 'length': 0.03},\n",
       " 'oscilloscope_channels': {'2': 'Input', '3': 'Intermediate', '4': 'Output'}}"
      ]
     },
     "execution_count": 1,
     "metadata": {},
     "output_type": "execute_result"
    }
   ],
   "source": [
    "import toml\n",
    "\n",
    "parameters = toml.load(\"parameters.toml\")\n",
    "parameters"
   ]
  },
  {
   "cell_type": "markdown",
   "id": "e883bc9c-a29a-4681-8a17-f927ecd6cdda",
   "metadata": {},
   "source": [
    "Each parameter/collection is imported as a `key: value` pair in a dictionary. For collections, the key is the name of the collection and the calue is another nested dictionary of the parameters within the collection."
   ]
  },
  {
   "cell_type": "code",
   "execution_count": null,
   "id": "fa26a772-5dc3-4fc1-9eca-9aaaa46ec101",
   "metadata": {},
   "outputs": [],
   "source": [
    "parameters[\"sample_numbers\"]"
   ]
  },
  {
   "cell_type": "code",
   "execution_count": null,
   "id": "990ba57e-273c-4aa6-8239-89e0640cd4ac",
   "metadata": {},
   "outputs": [],
   "source": [
    "parameters[\"geometric_parameters\"][\"diameter\"]"
   ]
  },
  {
   "cell_type": "code",
   "execution_count": null,
   "id": "62743f28-7efb-4797-a35a-23b952a26fc0",
   "metadata": {},
   "outputs": [],
   "source": [
    "parameters[\"material_properties\"]"
   ]
  },
  {
   "cell_type": "markdown",
   "id": "210d2ecb-bcac-413a-a528-bacff4bf6501",
   "metadata": {},
   "source": [
    "So all your parameters can be easily imported and assigned to variables."
   ]
  },
  {
   "cell_type": "code",
   "execution_count": null,
   "id": "2e195fec-42f1-4f47-8c2a-0893e13a323b",
   "metadata": {},
   "outputs": [],
   "source": [
    "import argparse\n",
    "import toml\n",
    "\n",
    "def get_params():\n",
    "    \"\"\"Gets command line arguments\"\"\"\n",
    "    \n",
    "    # ArgumentParser with a single argument to get the TOML file\n",
    "    parser = argparse.ArgumentParser()\n",
    "    parser.add_argument(\"parameterfile\", help=\"Path to parameter file.\")\n",
    "    args = parser.parse_args()\n",
    "    \n",
    "    # Import parameters\n",
    "    parameters = toml.load(args.parameterfile)\n",
    "\n",
    "    return parameters\n",
    "\n",
    "\n",
    "def main():\n",
    "    parameters = get_params()\n",
    "    sample_numbers = parameters[\"sample_numbers\"]\n",
    "    diameter = parameters[\"geometric_parameters\"][\"diameter\"]\n",
    "    length = parameters[\"geometric_parameters\"][\"length\"]\n",
    "    density = parameters[\"material_properties\"][\"density\"]\n",
    "    \n",
    "    print(f\"Sample numbers = {sample_numbers}\"\n",
    "          f\"Diameter = {diameter} m\"\n",
    "          f\"Length = {length} m\"\n",
    "          f\"Density = {density} kg/m3\")\n",
    "    \n",
    "    \n",
    "if __name__ == \"__main__\":\n",
    "    main() "
   ]
  },
  {
   "cell_type": "markdown",
   "id": "332914e9-1837-42f0-9ea1-fb672755d698",
   "metadata": {
    "tags": []
   },
   "source": [
    "### Other file types\n",
    "\n",
    "Configuration files can also be saved. So let's use this features to convert from one file type to the other, so you can see the differences"
   ]
  },
  {
   "cell_type": "code",
   "execution_count": null,
   "id": "06c91d00-8515-4531-89db-d87be9504e0b",
   "metadata": {},
   "outputs": [],
   "source": [
    "import toml\n",
    "\n",
    "with open(\"parameters_toml.toml\", \"w\") as toml_file:\n",
    "    toml.dump(parameters, toml_file)\n",
    "\n",
    "with open(\"parameters_toml.toml\", \"r\") as toml_file:\n",
    "    parameters_toml = toml.load(toml_file)\n",
    "    \n",
    "parameters_toml"
   ]
  },
  {
   "cell_type": "markdown",
   "id": "6d692279-ee74-4efc-8892-f4fc8b8c7364",
   "metadata": {},
   "source": [
    "**YAML**"
   ]
  },
  {
   "cell_type": "code",
   "execution_count": null,
   "id": "ab63e660-6466-46e1-84f8-50c521520440",
   "metadata": {},
   "outputs": [],
   "source": [
    "import yaml\n",
    "\n",
    "with open(\"parameters.yaml\", \"w\") as yaml_file:\n",
    "    yaml.safe_dump(parameters, yaml_file)\n",
    "    \n",
    "with open(\"parameters.yaml\", \"r\") as yaml_file:\n",
    "    parameters_yaml = yaml.safe_load(yaml_file)\n",
    "    \n",
    "parameters_yaml"
   ]
  },
  {
   "cell_type": "markdown",
   "id": "03eb0460-c7e3-4485-95eb-9448637677b9",
   "metadata": {},
   "source": [
    "**JSON**"
   ]
  },
  {
   "cell_type": "code",
   "execution_count": 3,
   "id": "74fc6909-379f-49ae-bbae-d5f3002ce422",
   "metadata": {},
   "outputs": [
    {
     "data": {
      "text/plain": [
       "{'name': 'Compression test specimen parameters',\n",
       " 'material': 'Aluminum',\n",
       " 'sample_numbers': [101, 105, 117, 125, 142],\n",
       " 'material_properties': {'density': 2700},\n",
       " 'geometric_parameters': {'diameter': 0.01, 'length': 0.03},\n",
       " 'oscilloscope_channels': {'2': 'Input', '3': 'Intermediate', '4': 'Output'}}"
      ]
     },
     "execution_count": 3,
     "metadata": {},
     "output_type": "execute_result"
    }
   ],
   "source": [
    "import json\n",
    "\n",
    "with open(\"parameters.json\", \"w\") as json_file:\n",
    "    json.dump(parameters, json_file)\n",
    "    \n",
    "with open(\"parameters.json\", \"r\") as json_file:\n",
    "    parameters_json = json.load(json_file)\n",
    "    \n",
    "parameters_json"
   ]
  },
  {
   "cell_type": "markdown",
   "id": "b0845f0f-0bc6-430e-872f-71e3df4244d6",
   "metadata": {},
   "source": [
    "For a more human-readable JSON:"
   ]
  },
  {
   "cell_type": "code",
   "execution_count": 4,
   "id": "6e93dbfd-1b55-4ec5-85ab-52e5b6ef56b2",
   "metadata": {},
   "outputs": [],
   "source": [
    "with open(\"parameters.json\", \"w\") as json_file:\n",
    "    json.dump(parameters, json_file, indent=4)"
   ]
  },
  {
   "cell_type": "markdown",
   "id": "d7b29728-aca5-4122-bca1-59a0ebe79979",
   "metadata": {},
   "source": [
    "\n",
    "I personally prefer TOML for simple configurations, YAML for more complex cases. I use JSON for storing objects, as it's the least human-readable, but the closest to a python dictionary."
   ]
  },
  {
   "cell_type": "code",
   "execution_count": null,
   "id": "2746655a-fe52-47ce-ba12-934fccd7dee9",
   "metadata": {},
   "outputs": [],
   "source": []
  }
 ],
 "metadata": {
  "citation-manager": {
   "items": {}
  },
  "kernelspec": {
   "display_name": "Python 3 (ipykernel)",
   "language": "python",
   "name": "python3"
  },
  "language_info": {
   "codemirror_mode": {
    "name": "ipython",
    "version": 3
   },
   "file_extension": ".py",
   "mimetype": "text/x-python",
   "name": "python",
   "nbconvert_exporter": "python",
   "pygments_lexer": "ipython3",
   "version": "3.9.12"
  }
 },
 "nbformat": 4,
 "nbformat_minor": 5
}
