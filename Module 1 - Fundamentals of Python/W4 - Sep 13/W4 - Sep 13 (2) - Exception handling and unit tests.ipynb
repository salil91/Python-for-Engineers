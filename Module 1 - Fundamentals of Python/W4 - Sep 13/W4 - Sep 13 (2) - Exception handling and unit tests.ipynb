{
 "cells": [
  {
   "cell_type": "markdown",
   "id": "e0a6671d-ec46-407c-8c44-8d10b1763980",
   "metadata": {
    "tags": []
   },
   "source": [
    "# Week 3 - September 13 - Exception Handling and Testing"
   ]
  },
  {
   "cell_type": "markdown",
   "id": "77e8ba67-8a71-4acd-b2ff-4524a057982a",
   "metadata": {
    "tags": []
   },
   "source": [
    "## Errors and Exceptions\n",
    "\n",
    "There are (at least) two types of errors. The first is a **syntax error**:"
   ]
  },
  {
   "cell_type": "code",
   "execution_count": null,
   "id": "88401ada-3df2-4e9c-a08d-397913661d0a",
   "metadata": {},
   "outputs": [],
   "source": [
    "print(\"Hello world)"
   ]
  },
  {
   "cell_type": "markdown",
   "id": "d77c3c69-7528-4e3c-a23c-21716cae8406",
   "metadata": {},
   "source": [
    "Another is a **runtime error**"
   ]
  },
  {
   "cell_type": "code",
   "execution_count": null,
   "id": "9b49c816-123c-463f-8296-ee1b2ba73f30",
   "metadata": {},
   "outputs": [],
   "source": [
    "number = int(input(\"Enter an integer: \"))\n",
    "print(f\"The square of {number} is {number**2}\")"
   ]
  },
  {
   "cell_type": "markdown",
   "id": "684934e6-72cc-4471-8626-403a8802973b",
   "metadata": {},
   "source": [
    "This above code would fail if the user enters something that is not a number, raising a `ValueError`.\n",
    "\n",
    "Exceptions are things that go wrong within our coding.\n",
    "We should be able to *handle these exceptions* to prevent issues like this."
   ]
  },
  {
   "cell_type": "markdown",
   "id": "1123fe5c-21a3-476a-beb9-e657790e3345",
   "metadata": {
    "tags": []
   },
   "source": [
    "### Exception handling\n",
    "\n",
    "We can \"catch\" exceptions with `try` and `except`  "
   ]
  },
  {
   "cell_type": "code",
   "execution_count": null,
   "id": "d6684b06-b7a7-4c4b-aa02-4d9cb347442f",
   "metadata": {},
   "outputs": [],
   "source": [
    "try:\n",
    "    number = int(input(\"Enter an integer: \"))\n",
    "except ValueError:\n",
    "    print(\"That is not a integer.\")"
   ]
  },
  {
   "cell_type": "markdown",
   "id": "67225082-eaf9-4c28-8940-5d37658a801a",
   "metadata": {},
   "source": [
    "The `try` block is run, and if it runs succesfully, nothing special happens. However, if the code in the `try` block *throws* a `ValueError`, the `except` block *catches* it (instead of exiting out of the code with an error).\n",
    "\n",
    "Okay, so now let's add the `print` statement back, to print the square of the number"
   ]
  },
  {
   "cell_type": "code",
   "execution_count": null,
   "id": "9513d61b-2d23-4b23-a01d-63776362d191",
   "metadata": {},
   "outputs": [],
   "source": [
    "try:\n",
    "    number = int(input(\"Enter an integer: \"))\n",
    "except ValueError:\n",
    "    print(\"That is not a integer.\")\n",
    "    \n",
    "print(f\"The square of {number} is {number**2}\")"
   ]
  },
  {
   "cell_type": "markdown",
   "id": "fe5e3708-1268-4ed7-9b7c-ee39c5a39055",
   "metadata": {},
   "source": [
    "Now we have another exception, as `number` was not defined. This can be fixed with an `else` block."
   ]
  },
  {
   "cell_type": "code",
   "execution_count": null,
   "id": "b3bdbcda-dc01-467c-b82b-dc1abc850e0a",
   "metadata": {},
   "outputs": [],
   "source": [
    "try:\n",
    "    number = int(input(\"Enter an integer: \"))\n",
    "except ValueError:\n",
    "    print(\"That is not a integer.\")\n",
    "else:\n",
    "    print(f\"The square of {number} is {number**2}\")"
   ]
  },
  {
   "cell_type": "markdown",
   "id": "cb7d78b3-e009-41a1-b37e-afb44348ee03",
   "metadata": {},
   "source": [
    "The `else` block runs only if no `except` block is run.\n",
    "\n",
    "We can improve this even further by letting the user keep trying until an acceptable value is provided."
   ]
  },
  {
   "cell_type": "code",
   "execution_count": null,
   "id": "401b25bc-053b-457e-9441-ac3d00a8d66a",
   "metadata": {},
   "outputs": [],
   "source": [
    "while True:\n",
    "    try:\n",
    "        number = int(input(\"Enter an integer: \"))\n",
    "    except ValueError:\n",
    "        print(\"That is not a integer.\")\n",
    "    else:\n",
    "        break\n",
    "        \n",
    "print(f\"The square of {number} is {number**2}\")"
   ]
  },
  {
   "cell_type": "markdown",
   "id": "d1a69e2c-035c-4201-8c1a-0f0d0897d16f",
   "metadata": {},
   "source": [
    "Even better, we can abstract all of this away into a function"
   ]
  },
  {
   "cell_type": "code",
   "execution_count": null,
   "id": "d3056a2f-fddf-4b04-858a-e513f8892b63",
   "metadata": {},
   "outputs": [],
   "source": [
    "def get_int():\n",
    "    while True:\n",
    "        try:\n",
    "            number = int(input(\"Enter an integer: \"))\n",
    "        except ValueError:\n",
    "            print(\"That is not a integer.\")\n",
    "        else:\n",
    "            return number\n",
    "\n",
    "        \n",
    "def square(number):\n",
    "    \n",
    "    return number**2\n",
    "\n",
    "\n",
    "def main():\n",
    "    number = get_int()\n",
    "    print(f\"The square of {number} is {square(number)}\")\n",
    "    \n",
    "    \n",
    "main()"
   ]
  },
  {
   "cell_type": "markdown",
   "id": "8c80723d-268c-4350-ab7a-50a7f29fc40a",
   "metadata": {},
   "source": [
    "Just like any other code block, the `except` block cannot be empty but the `pass` keyword can be used to do nothing."
   ]
  },
  {
   "cell_type": "code",
   "execution_count": null,
   "id": "d7f1b360-4a3b-4b3b-8a83-f4c1212088dd",
   "metadata": {},
   "outputs": [],
   "source": [
    "def get_int():\n",
    "    while True:\n",
    "        try:\n",
    "            return int(input(\"Enter an integer: \"))\n",
    "        except ValueError:\n",
    "            pass\n",
    "        \n",
    "def square(number):\n",
    "    \n",
    "    return number**2\n",
    "\n",
    "\n",
    "def main():\n",
    "    number = get_int()\n",
    "    print(f\"The square of {number} is {square(number)}\")\n",
    "    \n",
    "    \n",
    "main()"
   ]
  },
  {
   "cell_type": "markdown",
   "id": "a7c2251f-9b56-406d-b88b-01a4eba33ac5",
   "metadata": {},
   "source": [
    "As we saw in the last class, you can also `raise` your own errors to prevent users from misusing your code"
   ]
  },
  {
   "cell_type": "code",
   "execution_count": null,
   "id": "e1be8459-4a08-4446-9833-c97360975081",
   "metadata": {},
   "outputs": [],
   "source": [
    "from math import sqrt\n",
    "\n",
    "def get_int():\n",
    "    while True:\n",
    "        try:\n",
    "            number = int(input(\"Enter a postive integer: \"))\n",
    "        except ValueError:\n",
    "            print(\"That is not a integer.\")\n",
    "        else:\n",
    "            if number <= 0:\n",
    "                raise ValueError(\"Integer must be postive\")\n",
    "            else:\n",
    "                return number\n",
    "        \n",
    "\n",
    "def main():\n",
    "    number = get_int()\n",
    "    print(f\"The square root of {number} is {sqrt(number)}\")\n",
    "    \n",
    "main()"
   ]
  },
  {
   "cell_type": "markdown",
   "id": "3aa74a40-8eed-44a6-b2b0-a78af251ec95",
   "metadata": {},
   "source": [
    "A `ValueError` is only one type of exception. In fact, `ValueError` is a child class, of the parent class `Exception`. Python has a number of built-in exceptions dervied from this class: https://docs.python.org/3/library/exceptions.html\n",
    "\n",
    "You can also create your own custom exceptions, which should also be derived from the `Exception` class. "
   ]
  },
  {
   "cell_type": "markdown",
   "id": "eec15f9c-5492-401e-8c67-ed2c932c86da",
   "metadata": {
    "tags": []
   },
   "source": [
    "## Unit Testing\n",
    "\n",
    "Let's save the code for squaring the number to a module named `calculator.py`.\n",
    "\n",
    "We are accustomed to using `print` statements for testing code. Let's test out module using this method."
   ]
  },
  {
   "cell_type": "code",
   "execution_count": null,
   "id": "86675b14-56ea-48de-a20f-7980a119c7e5",
   "metadata": {},
   "outputs": [],
   "source": [
    "from calculator import square\n",
    "\n",
    "\n",
    "def test_square():\n",
    "    if square(2) != 4:\n",
    "        print(\"2 squared was not 4\")\n",
    "    if square(-3) != 9:\n",
    "        print(\"-3 squared was not 9\")\n",
    "    if square(5) != 25:\n",
    "        print(\"5 squared was not 25\")\n",
    "        \n",
    "        \n",
    "def main():\n",
    "    test_square()\n",
    "\n",
    "    \n",
    "main()"
   ]
  },
  {
   "cell_type": "markdown",
   "id": "03738a50-ea19-4f0b-8bb3-5c827256bf03",
   "metadata": {},
   "source": [
    "Let's try that again after breaking the math in our `calculator.py` module."
   ]
  },
  {
   "cell_type": "markdown",
   "id": "70f32769-647f-4f11-8a61-0a72daa88228",
   "metadata": {
    "tags": []
   },
   "source": [
    "### `assert`\n",
    "\n",
    "While the `print` method works, it can get quite bloated when there are multiple cases to test.\n",
    "\n",
    "The `assert` keyword tells the interpreter that some assertion is `True`."
   ]
  },
  {
   "cell_type": "code",
   "execution_count": null,
   "id": "b21a5df3-d06f-495d-a2d1-2ecb203a3548",
   "metadata": {},
   "outputs": [],
   "source": [
    "from calculator import square\n",
    "\n",
    "\n",
    "def test_square():\n",
    "    assert square(2) == 4\n",
    "    assert square(-3) == 9\n",
    "    assert square(5) == 25\n",
    "\n",
    "    \n",
    "def main():\n",
    "    test_square()\n",
    "\n",
    "main()"
   ]
  },
  {
   "cell_type": "markdown",
   "id": "8f38b58f-b3a6-4560-9fa1-9181386079a1",
   "metadata": {},
   "source": [
    "Once again, let's try that again after breaking the math in our `calculator.py` module.\n",
    "\n",
    "This time, an `AssertionError` is raised, but there is no user-defined description. Additionally, only the first error is caught.\n",
    "\n",
    "We can use the `try` and `except` statements to do fix this."
   ]
  },
  {
   "cell_type": "code",
   "execution_count": null,
   "id": "a3fdaf26-c772-4537-9cbc-e081573e568b",
   "metadata": {},
   "outputs": [],
   "source": [
    "from calculator import square\n",
    "\n",
    "\n",
    "def test_square():\n",
    "    try:\n",
    "        assert square(2) == 4\n",
    "    except AssertionError:\n",
    "        print(\"2 squared is not 4\")\n",
    "        \n",
    "    try:\n",
    "        assert square(-3) == 9\n",
    "    except AssertionError:\n",
    "        print(\"-3 squared is not 9\")\n",
    "        \n",
    "    try:\n",
    "        assert square(5) == 25\n",
    "    except AssertionError:\n",
    "        print(\"5 squared is not 25\")\n",
    "        \n",
    "    \n",
    "def main():\n",
    "    test_square()\n",
    "\n",
    "main()"
   ]
  },
  {
   "cell_type": "markdown",
   "id": "0834193c-7d04-4294-85bc-07ae4932b045",
   "metadata": {},
   "source": [
    "But now our code is bloated again."
   ]
  },
  {
   "cell_type": "markdown",
   "id": "32a5e92a-1587-4bd1-8aec-192551feae4a",
   "metadata": {
    "tags": []
   },
   "source": [
    "### `pytest`\n",
    "\n",
    "This third-party library, included with Anaconda, allows us to unit test our program."
   ]
  },
  {
   "cell_type": "markdown",
   "id": "0391bfc9-49e7-463e-be36-c2e4fe9148cb",
   "metadata": {},
   "source": [
    "Let's save the following code into a script named `test_calculator.py`"
   ]
  },
  {
   "cell_type": "code",
   "execution_count": null,
   "id": "72422d9e-a328-43e7-893b-c86a1cf486cb",
   "metadata": {},
   "outputs": [],
   "source": [
    "from calculator import square\n",
    "\n",
    "\n",
    "def test_square():\n",
    "    assert square(2) == 4\n",
    "    assert square(3) == 9\n",
    "    assert square(-2) == 4\n",
    "    assert square(-3) == 9\n",
    "    assert square(0) == 0"
   ]
  },
  {
   "cell_type": "markdown",
   "id": "bdfd8389-e8df-40db-94c9-5f495927f220",
   "metadata": {},
   "source": [
    "and in Powershell/Terminal, run `pytest test_calculator.py`\n",
    "\n",
    "This gives you a much better description of the failed test.\n",
    "\n",
    "However, one problem with the test script above is that we tested everything in one test function. Hence, `pytest` stopped running after the first faield test. We can improve this by creating smaller *units* to test. Modify `test_calculator.py` to the following"
   ]
  },
  {
   "cell_type": "code",
   "execution_count": null,
   "id": "6bbbe9b1-188f-4661-a7dc-2030f7fedada",
   "metadata": {},
   "outputs": [],
   "source": [
    "from calculator import square\n",
    "\n",
    "\n",
    "def test_positive():\n",
    "    assert square(2) == 4\n",
    "    assert square(3) == 9\n",
    "\n",
    "\n",
    "def test_negative():\n",
    "    assert square(-2) == 4\n",
    "    assert square(-3) == 9\n",
    "\n",
    "\n",
    "def test_zero():\n",
    "    assert square(0) == 0"
   ]
  },
  {
   "cell_type": "markdown",
   "id": "7333b50f-2ca5-433e-bff5-60749bf6a3bd",
   "metadata": {},
   "source": [
    "Now, `pytest` will run each function, and we have a much better idea of what's going wrong, allowing us to debug better.\n",
    "\n",
    "Run the same command again after fixing the math in `calculator.py`. Now your tests have passed."
   ]
  },
  {
   "cell_type": "markdown",
   "id": "94a6dfd6-0806-467f-b948-69e03f230e89",
   "metadata": {},
   "source": [
    "**Handling strings**\n",
    "\n",
    "Let's look at this example from our homework. It's important to remember that unit testing works with functions that return values, not with `print` statements."
   ]
  },
  {
   "cell_type": "code",
   "execution_count": null,
   "id": "fb7e6ed1-462e-4688-8870-455b5412e7d8",
   "metadata": {},
   "outputs": [],
   "source": [
    "def get_city_cleaned(user_input):\n",
    "    \n",
    "    return user_input.strip().lower()\n",
    "\n",
    "\n",
    "def is_gainesville(city):\n",
    "    \n",
    "    return True if city == \"gainesville\" else False\n",
    "\n",
    "\n",
    "def main():\n",
    "    user_input = input(\"Enter your current city: \")\n",
    "    city = get_city_cleaned(user_input)\n",
    "    print(is_gainesville(city))\n",
    "    \n",
    "if __name__ == \"__main__\":\n",
    "    main()"
   ]
  },
  {
   "cell_type": "markdown",
   "id": "d5d42b12-9cc0-46dd-a6fa-a70ddec15628",
   "metadata": {},
   "source": [
    "**Organizing tests into folders**\n",
    "\n",
    "It's a good habit to write comprehensive unit tests for your code. As this can result in a lot of `test_` files, it's a good idea to collect them all in a folder. Conveniently, `pytest` can run on a folder as well. However, just like with any other package, make sure there is an `__init__.py` file in the folder as well.\n",
    "\n",
    "I have created `test_square.py` and `test_cube.py` files in the `test` folder. I can run the entire folder with the following command:\n",
    "\n",
    "`pytest test`"
   ]
  }
 ],
 "metadata": {
  "citation-manager": {
   "items": {}
  },
  "kernelspec": {
   "display_name": "Python 3 (ipykernel)",
   "language": "python",
   "name": "python3"
  },
  "language_info": {
   "codemirror_mode": {
    "name": "ipython",
    "version": 3
   },
   "file_extension": ".py",
   "mimetype": "text/x-python",
   "name": "python",
   "nbconvert_exporter": "python",
   "pygments_lexer": "ipython3",
   "version": "3.9.12"
  }
 },
 "nbformat": 4,
 "nbformat_minor": 5
}
