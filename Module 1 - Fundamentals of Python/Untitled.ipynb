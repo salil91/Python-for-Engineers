{
 "cells": [
  {
   "cell_type": "markdown",
   "id": "8460480e-9cff-4233-86a6-bf33e4c2cbf7",
   "metadata": {},
   "source": [
    "**Not pythonic:**"
   ]
  },
  {
   "cell_type": "code",
   "execution_count": 1,
   "id": "0d8a33ee-c40d-423c-b2ab-00085b7b515c",
   "metadata": {},
   "outputs": [
    {
     "data": {
      "text/plain": [
       "['The Bull, Gainesville, FL',\n",
       " 'Looseys, Gainesville, FL',\n",
       " 'Lebowskis, Gainesville, FL',\n",
       " 'Cry Babies, Gainesville, FL',\n",
       " 'The Top, Gainesville, FL']"
      ]
     },
     "execution_count": 1,
     "metadata": {},
     "output_type": "execute_result"
    }
   ],
   "source": [
    "bars = [\"The Bull\", \"Looseys\", \"Lebowskis\", \"Cry Babies\", \"The Top\"]\n",
    "\n",
    "for i in range(len(bars)):\n",
    "    bars[i] = bars[i]  + \", Gainesville, FL\"\n",
    "bars"
   ]
  },
  {
   "cell_type": "markdown",
   "id": "36860d13-88aa-42fc-b00e-d02f42817219",
   "metadata": {},
   "source": [
    "**Pythonic:**"
   ]
  },
  {
   "cell_type": "code",
   "execution_count": 3,
   "id": "714bd9cc-3c6a-4076-a0ab-f1f6fca0966b",
   "metadata": {},
   "outputs": [
    {
     "data": {
      "text/plain": [
       "['The Bull, Gainesville, FL',\n",
       " 'Looseys, Gainesville, FL',\n",
       " 'Lebowskis, Gainesville, FL',\n",
       " 'Cry Babies, Gainesville, FL',\n",
       " 'The Top, Gainesville, FL']"
      ]
     },
     "execution_count": 3,
     "metadata": {},
     "output_type": "execute_result"
    }
   ],
   "source": [
    "bars = [\"The Bull\", \"Looseys\", \"Lebowskis\", \"Cry Babies\", \"The Top\"]\n",
    "\n",
    "bars_city = []\n",
    "for bar in bars:\n",
    "    bars_city.append(bar + \", Gainesville, FL\")\n",
    "    \n",
    "bars_city"
   ]
  },
  {
   "cell_type": "markdown",
   "id": "56f5aadd-2ac7-4aee-8e18-46e74083be32",
   "metadata": {},
   "source": [
    "Even better:"
   ]
  },
  {
   "cell_type": "code",
   "execution_count": 2,
   "id": "379f0cbf-d7ed-4071-930b-5e53cfe4e131",
   "metadata": {},
   "outputs": [
    {
     "data": {
      "text/plain": [
       "['The Bull, Gainesville, FL',\n",
       " 'Looseys, Gainesville, FL',\n",
       " 'Lebowskis, Gainesville, FL',\n",
       " 'Cry Babies, Gainesville, FL',\n",
       " 'The Top, Gainesville, FL']"
      ]
     },
     "execution_count": 2,
     "metadata": {},
     "output_type": "execute_result"
    }
   ],
   "source": [
    "bars = [\"The Bull\", \"Looseys\", \"Lebowskis\", \"Cry Babies\", \"The Top\"]\n",
    "\n",
    "bars = [f\"{bar}, Gainesville, FL\" for bar in bars]\n",
    "bars"
   ]
  },
  {
   "cell_type": "code",
   "execution_count": null,
   "id": "7082e7de-f82b-458a-b378-fbb8b8739175",
   "metadata": {},
   "outputs": [],
   "source": []
  }
 ],
 "metadata": {
  "kernelspec": {
   "display_name": "Python 3 (ipykernel)",
   "language": "python",
   "name": "python3"
  },
  "language_info": {
   "codemirror_mode": {
    "name": "ipython",
    "version": 3
   },
   "file_extension": ".py",
   "mimetype": "text/x-python",
   "name": "python",
   "nbconvert_exporter": "python",
   "pygments_lexer": "ipython3",
   "version": "3.8.8"
  }
 },
 "nbformat": 4,
 "nbformat_minor": 5
}
