{
 "cells": [
  {
   "cell_type": "markdown",
   "id": "e995dc60-b25e-4789-87ae-a519c242ee7e",
   "metadata": {
    "pycharm": {
     "name": "#%% md\n"
    }
   },
   "source": [
    "# Solutions for Homework 1 - Data types and control flow\n",
    "**Due: Sep 8** \n",
    "\n",
    "***Total Points: 100***\n",
    "\n",
    "For full points, your code\n",
    "- must run without errors\n",
    "- must by *pythonic*\n",
    "- must be easily understandable, and well documented (either through inline comments or markdown).\n",
    "\n",
    "Run the code blocks under each question before attempting the solution.\n",
    "\n",
    "In some questions, you are asked to edit / fix the given code. For these questions, you can edit in place. You do not need to copy the original code to a new block.\n",
    "\n",
    "Remember to export your Jupyter notebook as a PDF file and upload both to Canvas.\n",
    "```\n",
    "File > Save and Export Notebook As... > PDF\n",
    "```"
   ]
  },
  {
   "cell_type": "markdown",
   "id": "7f5977d3-2fe6-42e2-b763-1bc0e96fdec7",
   "metadata": {
    "tags": [],
    "pycharm": {
     "name": "#%% md\n"
    }
   },
   "source": [
    "## Question 1\n",
    "\n",
    "*10 points*\n",
    "\n",
    "Using your knowledge of Python types, briefly explain why `float` is not ideal for representing currency. What would be a better of representing $173.42 with a python variable?"
   ]
  },
  {
   "cell_type": "markdown",
   "id": "0e820c1d-51eb-4661-bc7e-d7d08a6878a6",
   "metadata": {
    "pycharm": {
     "name": "#%% md\n"
    }
   },
   "source": [
    "**Answer:**"
   ]
  },
  {
   "cell_type": "markdown",
   "id": "3a6c75b5-9618-41b8-af5d-c84a0bad3255",
   "metadata": {
    "pycharm": {
     "name": "#%% md\n"
    }
   },
   "source": [
    "Due to errors with base-2 `float`, representing base-10 decimals as a `float` is problematic as there isn't an exact representation for most decimal fractions between 0.01 and 0.09. These errors will propagate through arithmatic operations on numbers, making it an unsafe option for representing monetary values in dollars.\n",
    "\n",
    "A better option to represent currency is an `int`, by converting dollars to cents. The value of $173.42 is better represented as 17,342 cents.\n",
    "\n",
    "Another option is using the `decimal` data type."
   ]
  },
  {
   "cell_type": "markdown",
   "id": "d2fbc775-7475-45f1-aa45-bc6974080dcd",
   "metadata": {
    "tags": [],
    "pycharm": {
     "name": "#%% md\n"
    }
   },
   "source": [
    "## Question 2\n",
    "\n",
    "*3 points each, 15 total*\n",
    "\n",
    "Fix the following pieces of code. Use inline comments to describe the changes."
   ]
  },
  {
   "cell_type": "markdown",
   "id": "d1396a85-4108-4dac-a329-f758bdf4a779",
   "metadata": {
    "pycharm": {
     "name": "#%% md\n"
    }
   },
   "source": [
    "### Question 2.1"
   ]
  },
  {
   "cell_type": "code",
   "execution_count": null,
   "id": "07bdbc87-d338-42ed-8fc4-9d4cdabb3cc4",
   "metadata": {
    "pycharm": {
     "name": "#%%\n"
    }
   },
   "outputs": [],
   "source": [
    "a = \"45.4\"\n",
    "b = \"206.3\"\n",
    "sum = a + b\n",
    "print(\"The total is {sum}\")"
   ]
  },
  {
   "cell_type": "markdown",
   "id": "60fd6222-95cc-4e73-a691-ef9090c40971",
   "metadata": {
    "pycharm": {
     "name": "#%% md\n"
    }
   },
   "source": [
    "**Solution:**"
   ]
  },
  {
   "cell_type": "code",
   "execution_count": 2,
   "id": "ed6623e4-4bee-44be-b067-bdf3a5a28cf2",
   "metadata": {
    "pycharm": {
     "name": "#%%\n"
    }
   },
   "outputs": [
    {
     "name": "stdout",
     "output_type": "stream",
     "text": [
      "The total is 251.7\n"
     ]
    }
   ],
   "source": [
    "# Fixed types of a and b to be floats instead of strings.\n",
    "a = 45.4\n",
    "b = 206.3\n",
    "\n",
    "# Replaced the variable name `sum` with `total` to avoid overwriting the `sum` method`.\n",
    "total = a + b\n",
    "\n",
    "# Added f before the string to denote an f-string and added a fixed decimal precision\n",
    "print(f\"The total is {total:.1f}\")"
   ]
  },
  {
   "cell_type": "markdown",
   "id": "192df407-e891-4b2a-90b5-922e0999767e",
   "metadata": {
    "pycharm": {
     "name": "#%% md\n"
    }
   },
   "source": [
    "### Question 2.2"
   ]
  },
  {
   "cell_type": "code",
   "execution_count": null,
   "id": "f690dd00-2824-4789-a053-e484ab4b6a18",
   "metadata": {
    "pycharm": {
     "name": "#%%\n"
    }
   },
   "outputs": [],
   "source": [
    "numbers = [500, 600, 700, 800]\n",
    "sum(numbers)"
   ]
  },
  {
   "cell_type": "markdown",
   "id": "eccbfd1c-d2a4-4d0e-a7b5-b2d814ed362d",
   "metadata": {
    "pycharm": {
     "name": "#%% md\n"
    }
   },
   "source": [
    "**Solution:**"
   ]
  },
  {
   "cell_type": "code",
   "execution_count": null,
   "id": "8b9be44b-17ff-43e1-b4fd-614ee59c0ab5",
   "metadata": {
    "pycharm": {
     "name": "#%%\n"
    }
   },
   "outputs": [],
   "source": [
    "numbers = [500, 600, 700, 800]\n",
    "sum(numbers)\n",
    "# No change required here. Removing the `sum` variable above fixes the problem\n",
    "# Note: You have to clear the variables in Jupyter if you run the problematic code block."
   ]
  },
  {
   "cell_type": "markdown",
   "id": "3aee48f8-b598-4b48-87fd-bcad3c715746",
   "metadata": {
    "pycharm": {
     "name": "#%% md\n"
    }
   },
   "source": [
    "### Question 2.3"
   ]
  },
  {
   "cell_type": "code",
   "execution_count": null,
   "id": "067fc303-0133-4691-b02d-7f8f3cd45263",
   "metadata": {
    "pycharm": {
     "name": "#%%\n"
    }
   },
   "outputs": [],
   "source": [
    "x = 20\n",
    "y = 100\n",
    "if x > y:\n",
    "    print(\"First number is greater.\")\n",
    "    else:\n",
    "        print(\"First number is not greater\")"
   ]
  },
  {
   "cell_type": "markdown",
   "id": "f55438ad-c705-4052-897a-1d509dd974f0",
   "metadata": {
    "pycharm": {
     "name": "#%% md\n"
    }
   },
   "source": [
    "**Solution:**"
   ]
  },
  {
   "cell_type": "code",
   "execution_count": null,
   "id": "cf5b4694-a15f-4e4e-9701-09a1082af57d",
   "metadata": {
    "pycharm": {
     "name": "#%%\n"
    }
   },
   "outputs": [],
   "source": [
    "x = 20\n",
    "y = 100\n",
    "if x > y:\n",
    "    print(\"First number is greater.\")\n",
    "# fixed indentation of `else` block\n",
    "else: \n",
    "    print(\"First number is not greater\")"
   ]
  },
  {
   "cell_type": "markdown",
   "id": "e50be0c9-194d-4966-8ce3-1d8f3eb73c83",
   "metadata": {
    "pycharm": {
     "name": "#%% md\n"
    }
   },
   "source": [
    "### Question 2.4"
   ]
  },
  {
   "cell_type": "code",
   "execution_count": null,
   "id": "c349fbc9-e6e4-4c49-a2c1-709a6549ce8f",
   "metadata": {
    "pycharm": {
     "name": "#%%\n"
    }
   },
   "outputs": [],
   "source": [
    "i = 0\n",
    "print(\"Non-multiples of 3:\")\n",
    "while i < 10:\n",
    "    i += 1\n",
    "    if i % 3 == 0:\n",
    "        break\n",
    "    print(i)\n",
    "\n",
    "print(\"All numbers between 1 and 10 (inclusive), except multiples of 3, are printed.\")"
   ]
  },
  {
   "cell_type": "markdown",
   "id": "893665b5-143b-4650-9369-c5154b3bbdd7",
   "metadata": {
    "pycharm": {
     "name": "#%% md\n"
    }
   },
   "source": [
    "**Solution:**"
   ]
  },
  {
   "cell_type": "code",
   "execution_count": null,
   "id": "f84ebb79-bdd5-41f7-ba23-180d8a7baa18",
   "metadata": {
    "pycharm": {
     "name": "#%%\n"
    }
   },
   "outputs": [],
   "source": [
    "i = 0\n",
    "print(\"Non-multiples of 3:\")\n",
    "while i < 10:\n",
    "    i += 1\n",
    "    if i % 3 == 0:\n",
    "        # changed `break` to `continue`\n",
    "        continue\n",
    "    print(i)\n",
    "\n",
    "print(\"All numbers between 1 and 10 (inclusive), except multiples of 3, are printed.\")"
   ]
  },
  {
   "cell_type": "markdown",
   "id": "e97d6961-9524-4aa6-9e26-9a568ef96165",
   "metadata": {
    "pycharm": {
     "name": "#%% md\n"
    }
   },
   "source": [
    "### Question 2.5"
   ]
  },
  {
   "cell_type": "code",
   "execution_count": null,
   "id": "e682f5c4-e481-47e4-9709-21d2dc9ed861",
   "metadata": {
    "pycharm": {
     "name": "#%%\n"
    }
   },
   "outputs": [],
   "source": [
    "numbers = list(range(1,10))\n",
    "print(\"Even numbers:\")\n",
    "for number in numbers:\n",
    "    if number % 2 == 0:\n",
    "        print(number)\n",
    "    else:\n",
    "        \n",
    "print(\"Only even numbers are printed\")"
   ]
  },
  {
   "cell_type": "markdown",
   "id": "36d438dc-ad08-4d95-a659-96b27b44a142",
   "metadata": {
    "pycharm": {
     "name": "#%% md\n"
    }
   },
   "source": [
    "**Solution:**"
   ]
  },
  {
   "cell_type": "code",
   "execution_count": null,
   "id": "ec6b7ac0-e4bd-45f0-9a6d-6f881d194e76",
   "metadata": {
    "pycharm": {
     "name": "#%%\n"
    }
   },
   "outputs": [],
   "source": [
    "numbers = list(range(1,10))\n",
    "print(\"Even numbers:\")\n",
    "for number in numbers:\n",
    "    if number % 2 == 0:\n",
    "        print(number)\n",
    "    else:\n",
    "        # added `pass` statement to avoid empty `else` block\n",
    "        pass\n",
    "print(\"Only even numbers are printed\")"
   ]
  },
  {
   "cell_type": "markdown",
   "id": "f4faf269-2eb1-4576-9c40-506549bd4bcd",
   "metadata": {
    "tags": [],
    "pycharm": {
     "name": "#%% md\n"
    }
   },
   "source": [
    "## Question 3\n",
    "\n",
    "*5 points each, 10 total*"
   ]
  },
  {
   "cell_type": "code",
   "execution_count": null,
   "id": "b384c199-e37e-4d31-ae87-7e11a482905f",
   "metadata": {
    "pycharm": {
     "name": "#%%\n"
    }
   },
   "outputs": [],
   "source": [
    "sec_teams = (\n",
    "    \"Alabama\", \"Ole Miss\", \"Arkansas\", \"Mississippi State\",\n",
    "    \"Texas A&M\", \"Auburn\", \"LSU\", \"Georgia\", \"Kentucky\", \"Tennessee\",\n",
    "    \"Missouri\", \"South Carolina\", \"Florida\", \"Vanderbilt\"\n",
    ")"
   ]
  },
  {
   "cell_type": "markdown",
   "id": "665273d7-9f4f-4f48-b50d-e13eb539ef7a",
   "metadata": {
    "pycharm": {
     "name": "#%% md\n"
    }
   },
   "source": [
    "**Solutions' Note: There are two one-line options for both questions**"
   ]
  },
  {
   "cell_type": "markdown",
   "id": "45a90616-56f1-493f-8072-058d58898fa2",
   "metadata": {
    "pycharm": {
     "name": "#%% md\n"
    }
   },
   "source": [
    "**Question:**\n",
    "\n",
    "Reverse the tuple `sec_teams` (in as few lines of code as possible)"
   ]
  },
  {
   "cell_type": "markdown",
   "id": "cb455689-60d1-4ae1-9f6f-024a8263a61e",
   "metadata": {
    "pycharm": {
     "name": "#%% md\n"
    }
   },
   "source": [
    "**Solutions:**"
   ]
  },
  {
   "cell_type": "code",
   "execution_count": null,
   "id": "5c1ed802-0672-4a18-bef2-de76c2c4f32b",
   "metadata": {
    "pycharm": {
     "name": "#%%\n"
    }
   },
   "outputs": [],
   "source": [
    "# Using the `reversed` method\n",
    "tuple(reversed(list(sec_teams)))"
   ]
  },
  {
   "cell_type": "code",
   "execution_count": null,
   "id": "95170d6e-fb1a-4204-9113-90f8f663b07d",
   "metadata": {
    "pycharm": {
     "name": "#%%\n"
    }
   },
   "outputs": [],
   "source": [
    "# Using the [::-1] slice\n",
    "sec_teams[::-1]"
   ]
  },
  {
   "cell_type": "markdown",
   "id": "22520490-0603-4594-886d-c509ebca39e5",
   "metadata": {
    "pycharm": {
     "name": "#%% md\n"
    }
   },
   "source": [
    "**Question:**\n",
    "\n",
    "Reverse the tuple including only SEC East teams (Georgia - Vanderbilt in the original `sec_teams` tuple)"
   ]
  },
  {
   "cell_type": "markdown",
   "id": "e211280e-8171-45e2-af1a-36a76bc575f6",
   "metadata": {
    "pycharm": {
     "name": "#%% md\n"
    }
   },
   "source": [
    "**Solutions:**"
   ]
  },
  {
   "cell_type": "code",
   "execution_count": null,
   "id": "8a461fac-c18d-4b6d-9088-cc945e67157a",
   "metadata": {
    "pycharm": {
     "name": "#%%\n"
    }
   },
   "outputs": [],
   "source": [
    "# Similar to the first solution above, but adding the `start` index 7\n",
    "tuple(reversed(list(sec_teams[7:])))"
   ]
  },
  {
   "cell_type": "code",
   "execution_count": null,
   "id": "6059ed3a-3791-4c7b-b87d-765e481cc4ae",
   "metadata": {
    "pycharm": {
     "name": "#%%\n"
    }
   },
   "outputs": [],
   "source": [
    "# Similar to the second solution above, but adding the `stop` index 6 and `step` -1\n",
    "sec_teams[:6:-1]"
   ]
  },
  {
   "cell_type": "markdown",
   "id": "d52ff114-f4c7-49a2-949a-3a0629f9de39",
   "metadata": {
    "tags": [],
    "pycharm": {
     "name": "#%% md\n"
    }
   },
   "source": [
    "## Question 4\n",
    "\n",
    "*10 points*\n",
    "\n",
    "Edit the second code block (containg the `if` and `else` statements) and simplify it to a single line of code.\n",
    "The code should be valid for all numerical values of `a` and `b`, assuming that `a != b`"
   ]
  },
  {
   "cell_type": "code",
   "execution_count": null,
   "id": "f848862c-c747-4093-9cdd-0636d6534e62",
   "metadata": {
    "pycharm": {
     "name": "#%%\n"
    }
   },
   "outputs": [],
   "source": [
    "# Try different values of `a` and `b` to test your code\n",
    "a = 20\n",
    "b = 45"
   ]
  },
  {
   "cell_type": "code",
   "execution_count": null,
   "id": "18f257c8-87ff-47f0-b869-d93d107c2764",
   "metadata": {
    "pycharm": {
     "name": "#%%\n"
    }
   },
   "outputs": [],
   "source": [
    "# This is the block you need to reduce to one line\n",
    "if a < b:\n",
    "    minimum_value = a\n",
    "else:\n",
    "    minimum_value = b"
   ]
  },
  {
   "cell_type": "code",
   "execution_count": null,
   "id": "464f2d11-6891-4ebc-a6d6-44c6c8c369eb",
   "metadata": {
    "pycharm": {
     "name": "#%%\n"
    }
   },
   "outputs": [],
   "source": [
    "minimum_value"
   ]
  },
  {
   "cell_type": "markdown",
   "id": "27e3a3bb-1d3f-45bc-a89a-226e3ec6d301",
   "metadata": {
    "pycharm": {
     "name": "#%% md\n"
    }
   },
   "source": [
    "**Solution:**"
   ]
  },
  {
   "cell_type": "code",
   "execution_count": null,
   "id": "71a495aa-ce20-46e2-b9a3-c723ca18a9be",
   "metadata": {
    "pycharm": {
     "name": "#%%\n"
    }
   },
   "outputs": [],
   "source": [
    "# Using ternary operators / conditional expressions\n",
    "minimum_value = a if a < b else b"
   ]
  },
  {
   "cell_type": "code",
   "execution_count": null,
   "id": "25350e5b-fdd9-4a9c-87ce-116bb7ab825d",
   "metadata": {
    "pycharm": {
     "name": "#%%\n"
    }
   },
   "outputs": [],
   "source": [
    "minimum value"
   ]
  },
  {
   "cell_type": "markdown",
   "id": "d2cb3e0d-729f-4e80-a65b-18244b999f74",
   "metadata": {
    "tags": [],
    "pycharm": {
     "name": "#%% md\n"
    }
   },
   "source": [
    "## Question 5\n",
    "\n",
    "*15 points*"
   ]
  },
  {
   "cell_type": "code",
   "execution_count": 3,
   "id": "72f36d07-161a-4bfa-8d95-fb3c3f2e8441",
   "metadata": {
    "pycharm": {
     "name": "#%%\n"
    }
   },
   "outputs": [],
   "source": [
    "sec_east = (\n",
    "    \"Georgia\", \"Kentucky\", \"Tennessee\", \"Missouri\",\n",
    "    \"South Carolina\", \"Florida\", \"Vanderbilt\"\n",
    ")\n",
    "sec_west = (\n",
    "    \"Alabama\", \"Ole Miss\", \"Arkansas\",\n",
    "    \"Mississippi State\", \"Texas A&M\", \"Auburn\", \"LSU\"\n",
    ")"
   ]
  },
  {
   "cell_type": "markdown",
   "id": "5f5464d4-cc09-4624-bd0f-7bb1f140900e",
   "metadata": {
    "pycharm": {
     "name": "#%% md\n"
    }
   },
   "source": [
    "**Question:**\n",
    "\n",
    "From the two tuples (`sec_east` and `sec_west`), create a list of 14 dictionaries, where each dictionary has the keys and values shown in the `example` below.\n",
    "\n",
    "(\"SEC\" is the conference, \"East\" and \"West\" are the two divisions, and all items in both the tuples are the teams)"
   ]
  },
  {
   "cell_type": "code",
   "execution_count": null,
   "id": "9400e34c-97d5-4d05-b201-010fe1f11f4c",
   "metadata": {
    "pycharm": {
     "name": "#%%\n"
    }
   },
   "outputs": [],
   "source": [
    "example = {\n",
    "    \"Team\": \"Florida\",\n",
    "    \"Conference\": \"SEC\",\n",
    "    \"Division\": \"East\"\n",
    "}\n",
    "example"
   ]
  },
  {
   "cell_type": "markdown",
   "id": "bad3e452-71dd-46a0-b072-af3c622df3fd",
   "metadata": {
    "pycharm": {
     "name": "#%% md\n"
    }
   },
   "source": [
    "**Solution:**"
   ]
  },
  {
   "cell_type": "code",
   "execution_count": 4,
   "id": "868ccc09-0f90-4391-9823-df7d6342c88a",
   "metadata": {
    "pycharm": {
     "name": "#%%\n"
    }
   },
   "outputs": [
    {
     "data": {
      "text/plain": [
       "[{'Team': 'Georgia', 'Conference': 'SEC', 'Division': 'East'},\n",
       " {'Team': 'Kentucky', 'Conference': 'SEC', 'Division': 'East'},\n",
       " {'Team': 'Tennessee', 'Conference': 'SEC', 'Division': 'East'},\n",
       " {'Team': 'Missouri', 'Conference': 'SEC', 'Division': 'East'},\n",
       " {'Team': 'South Carolina', 'Conference': 'SEC', 'Division': 'East'},\n",
       " {'Team': 'Florida', 'Conference': 'SEC', 'Division': 'East'},\n",
       " {'Team': 'Vanderbilt', 'Conference': 'SEC', 'Division': 'East'},\n",
       " {'Team': 'Alabama', 'Conference': 'SEC', 'Division': 'West'},\n",
       " {'Team': 'Ole Miss', 'Conference': 'SEC', 'Division': 'West'},\n",
       " {'Team': 'Arkansas', 'Conference': 'SEC', 'Division': 'West'},\n",
       " {'Team': 'Mississippi State', 'Conference': 'SEC', 'Division': 'West'},\n",
       " {'Team': 'Texas A&M', 'Conference': 'SEC', 'Division': 'West'},\n",
       " {'Team': 'Auburn', 'Conference': 'SEC', 'Division': 'West'},\n",
       " {'Team': 'LSU', 'Conference': 'SEC', 'Division': 'West'}]"
      ]
     },
     "execution_count": 4,
     "metadata": {},
     "output_type": "execute_result"
    }
   ],
   "source": [
    "# Using dictionary comprehensions to create the two lists\n",
    "east_teams = [{\"Team\": team, \"Conference\": \"SEC\", \"Division\": \"East\"} for team in sec_east]\n",
    "west_teams = [{\"Team\": team, \"Conference\": \"SEC\", \"Division\": \"West\"} for team in sec_west]\n",
    "\n",
    "# Concatenating (adding) the two lists\n",
    "all_teams = east_teams + west_teams\n",
    "all_teams"
   ]
  },
  {
   "cell_type": "markdown",
   "id": "2adf7f31-10d8-4cf4-94a3-b53279c6e1f1",
   "metadata": {
    "pycharm": {
     "name": "#%% md\n"
    }
   },
   "source": [
    "**Question:**\n",
    "\n",
    "Next, iterate through the list and dictionaries to print all keys and values for \"East\" division teams only. Separate teams by at least one blank line."
   ]
  },
  {
   "cell_type": "markdown",
   "id": "36a0b3f9-3639-4589-947b-6db689d2575c",
   "metadata": {
    "pycharm": {
     "name": "#%% md\n"
    }
   },
   "source": [
    "**Solution:**"
   ]
  },
  {
   "cell_type": "code",
   "execution_count": 7,
   "id": "ae0303cc-0b09-4a5d-ab65-08d458577f26",
   "metadata": {
    "pycharm": {
     "name": "#%%\n"
    }
   },
   "outputs": [
    {
     "name": "stdout",
     "output_type": "stream",
     "text": [
      "Team: Georgia\n",
      "Conference: SEC\n",
      "Division: East\n",
      "\n",
      "Team: Kentucky\n",
      "Conference: SEC\n",
      "Division: East\n",
      "\n",
      "Team: Tennessee\n",
      "Conference: SEC\n",
      "Division: East\n",
      "\n",
      "Team: Missouri\n",
      "Conference: SEC\n",
      "Division: East\n",
      "\n",
      "Team: South Carolina\n",
      "Conference: SEC\n",
      "Division: East\n",
      "\n",
      "Team: Florida\n",
      "Conference: SEC\n",
      "Division: East\n",
      "\n",
      "Team: Vanderbilt\n",
      "Conference: SEC\n",
      "Division: East\n",
      "\n"
     ]
    }
   ],
   "source": [
    "# Iterating through the list\n",
    "for team in all_teams:\n",
    "    \n",
    "    # Checking if the team is in the \"East\" division\n",
    "    if team[\"Division\"] == \"East\":\n",
    "        \n",
    "        # Iterating over the dictionary items\n",
    "        for key, value in team.items():\n",
    "            \n",
    "            # Printing\n",
    "            print(f\"{key}: {value}\")\n",
    "        \n",
    "        # Printing a new line\n",
    "        print(\"\")\n",
    "        # The empty string is because each `print` statement starts a new line\n",
    "        # If you used `print(\"\\n\")`, you would get two new lines"
   ]
  },
  {
   "cell_type": "markdown",
   "id": "9bdef899-0bde-4a26-b9ea-1d67c60360d3",
   "metadata": {
    "tags": [],
    "pycharm": {
     "name": "#%% md\n"
    }
   },
   "source": [
    "## Question 6\n",
    "\n",
    "*15 points*\n",
    "\n",
    "Always expect the user of your code will not use your code as intended. Hence, you must ensure that the code below fixes incorrect user inputs.\n",
    "\n",
    "For this example, treat the set `user_inputs` as all examples of user input. The inputs that must satisfy the condition are denoted in the comments.\n",
    "\n",
    "Also include in your code: a list and a count of the 8 inputs that satisfy the \"You are currently in Gainesville\" condition\n",
    "\n",
    "You are allowed to restructure the code in any way you need to. You are NOT REQUIRED to use the `input()` function to test the code."
   ]
  },
  {
   "cell_type": "code",
   "execution_count": 8,
   "id": "fc6a685b-7792-44f2-a885-f89b41aa5ce0",
   "metadata": {
    "pycharm": {
     "name": "#%%\n"
    }
   },
   "outputs": [],
   "source": [
    "user_inputs = {\n",
    "    \"Gainesville\", \"gainesville\", \"GAINESVILLE\", \"gAiNeSvIlLe\", \"   Gainesville  \", # These 5 should satisfy the condition\n",
    "    \"New York\", \"Chicago\", \"Boston\" # These 3 should not\n",
    "}"
   ]
  },
  {
   "cell_type": "code",
   "execution_count": null,
   "id": "c27ba955-39f5-4f09-ba22-3713e4e983f9",
   "metadata": {
    "pycharm": {
     "name": "#%%\n"
    }
   },
   "outputs": [],
   "source": [
    "user_input = input(\"Enter your current city: \")\n",
    "\n",
    "if user_input == \"Gainesville\":\n",
    "    print(\"You are currently in Gainesville\")\n",
    "else:\n",
    "    print(\"You are NOT currently in Gainesville\")"
   ]
  },
  {
   "cell_type": "markdown",
   "id": "89ca29e0-b02e-451a-8230-ff7402a80002",
   "metadata": {
    "pycharm": {
     "name": "#%% md\n"
    }
   },
   "source": [
    "**Solution:**"
   ]
  },
  {
   "cell_type": "code",
   "execution_count": 9,
   "id": "41cc4508-11c8-4380-9c31-7c1b263e4459",
   "metadata": {
    "pycharm": {
     "name": "#%%\n"
    }
   },
   "outputs": [
    {
     "name": "stdout",
     "output_type": "stream",
     "text": [
      "You are NOT currently in Gainesville\n",
      "You are NOT currently in Gainesville\n",
      "You are currently in Gainesville\n",
      "You are currently in Gainesville\n",
      "You are currently in Gainesville\n",
      "You are NOT currently in Gainesville\n",
      "You are currently in Gainesville\n",
      "You are currently in Gainesville\n",
      "\n",
      "Inputs that satisfied the condition: ['gainesville', 'gAiNeSvIlLe', 'GAINESVILLE', '   Gainesville  ', 'Gainesville']\n",
      "Number of inputs that satisfied the condition: 5\n"
     ]
    }
   ],
   "source": [
    "# Inititaing a list of satisfied inputs for counting and printing later\n",
    "satisfied = []\n",
    "\n",
    "# For loop to test all user inputs\n",
    "for user_input in user_inputs:\n",
    "    \n",
    "    # strip() and lower() methods to remove upper-case and white-space issues\n",
    "    if user_input.strip().capitalize() == \"Gainesville\":\n",
    "        print(\"You are currently in Gainesville\")\n",
    "        \n",
    "        # Adding inputs that satisfy the condition to the list\n",
    "        satisfied.append(user_input)\n",
    "    else:\n",
    "        print(\"You are NOT currently in Gainesville\")\n",
    "\n",
    "# Printing list of satisfied inputs\n",
    "print(f\"\\nInputs that satisfied the condition: {satisfied}\")\n",
    "\n",
    "# Printing the length of `satisfied`\n",
    "print(f\"Number of inputs that satisfied the condition: {len(satisfied)}\")"
   ]
  },
  {
   "cell_type": "markdown",
   "id": "4cccf74e-625e-44bb-9541-0e227c3b560b",
   "metadata": {
    "tags": [],
    "pycharm": {
     "name": "#%% md\n"
    }
   },
   "source": [
    "## Question 7\n",
    "\n",
    "*15 points*\n",
    "\n",
    "The `zip()` method aggregates iterables into tuples, as follows:"
   ]
  },
  {
   "cell_type": "code",
   "execution_count": null,
   "id": "4d239108-6a76-498f-bb7c-56b10ae0788d",
   "metadata": {
    "pycharm": {
     "name": "#%%\n"
    }
   },
   "outputs": [],
   "source": [
    "students = [\"John\", \"Jane\"]\n",
    "ages = [20, 22]\n",
    "residences = [\"Rawlings Hall\", \"The Continuum\"]\n",
    "\n",
    "zipped = zip(students, ages, residences)\n",
    "zipped"
   ]
  },
  {
   "cell_type": "markdown",
   "id": "81ffc9ed-a0aa-42dd-981c-6b279eaa0417",
   "metadata": {
    "pycharm": {
     "name": "#%% md\n"
    }
   },
   "source": [
    "A zipped object is not automatically a list, but a unique iterator. To print it, you need to convert it to a `list` or `tuple`:"
   ]
  },
  {
   "cell_type": "code",
   "execution_count": null,
   "id": "4c0752ac-4afd-4302-bb47-365e30180547",
   "metadata": {
    "pycharm": {
     "name": "#%%\n"
    }
   },
   "outputs": [],
   "source": [
    "zipped_list = list(zipped)\n",
    "zipped_list"
   ]
  },
  {
   "cell_type": "markdown",
   "id": "bb5a4efa-4a07-456b-a88f-e4366e85ae15",
   "metadata": {
    "pycharm": {
     "name": "#%% md\n"
    }
   },
   "source": [
    "This can be used to simply a MATLAB-style `for` loop:"
   ]
  },
  {
   "cell_type": "code",
   "execution_count": null,
   "id": "b4169264-2bba-4f08-be51-1986105a3b55",
   "metadata": {
    "pycharm": {
     "name": "#%%\n"
    }
   },
   "outputs": [],
   "source": [
    "for i in range(len(students)):\n",
    "    print(f\"{students[i]} is {ages[i]} years old, and lives in {residences[i]}.\")"
   ]
  },
  {
   "cell_type": "markdown",
   "id": "427054f0-b04a-49dd-89a4-2f255d1ee4cc",
   "metadata": {
    "pycharm": {
     "name": "#%% md\n"
    }
   },
   "source": [
    "to this much more elegant form, using the `zipped` object (as it is an iterable):"
   ]
  },
  {
   "cell_type": "code",
   "execution_count": null,
   "id": "d3bf98c4-f03e-44af-9a36-ae4c6e27f785",
   "metadata": {
    "pycharm": {
     "name": "#%%\n"
    }
   },
   "outputs": [],
   "source": [
    "for student, age, residence in zipped:\n",
    "    print(f\"{student} is {age} years old, and lives in {residence}.\")"
   ]
  },
  {
   "cell_type": "markdown",
   "id": "01c8d84e-8ea5-4e85-8c3e-3740abad816e",
   "metadata": {
    "pycharm": {
     "name": "#%% md\n"
    }
   },
   "source": [
    "The `*` operator is used to unzip a zipped list and unpack it into individual variables (similar to unpacking a tuple)"
   ]
  },
  {
   "cell_type": "code",
   "execution_count": null,
   "id": "55bf74b9-ce46-465d-ad71-de63c4e04fd6",
   "metadata": {
    "pycharm": {
     "name": "#%%\n"
    }
   },
   "outputs": [],
   "source": [
    "students, ages, residences = zip(*zipped_list)\n",
    "print(students)\n",
    "print(ages)\n",
    "print(residences)"
   ]
  },
  {
   "cell_type": "markdown",
   "id": "ac19901e-167d-4c57-a1f9-7ebd500866ea",
   "metadata": {
    "pycharm": {
     "name": "#%% md\n"
    }
   },
   "source": [
    "**Question:**\n",
    "\n",
    "Use the `zip()` method to add the items in the two tuples (`numbers_1` and `numbers_2`) below, to get the `answer` as shown."
   ]
  },
  {
   "cell_type": "code",
   "execution_count": 11,
   "id": "9c8a7f34-caf3-459e-9659-8f010c972d70",
   "metadata": {
    "pycharm": {
     "name": "#%%\n"
    }
   },
   "outputs": [],
   "source": [
    "numbers_1 = (1, 2, 3)\n",
    "numbers_2 = (10, 20, 30)\n",
    "\n",
    "answer = [11, 22, 33]"
   ]
  },
  {
   "cell_type": "markdown",
   "id": "4b2cd69b-ff7a-4370-9c3d-94be946faec2",
   "metadata": {
    "pycharm": {
     "name": "#%% md\n"
    }
   },
   "source": [
    "**Solution:**\n",
    "\n",
    "***Note: There are multiple options, but the one-line list comprehension options are preferred***"
   ]
  },
  {
   "cell_type": "code",
   "execution_count": 12,
   "id": "156eb43b-9f2e-40f5-8621-1e00cf089ab5",
   "metadata": {
    "pycharm": {
     "name": "#%%\n"
    }
   },
   "outputs": [
    {
     "data": {
      "text/plain": [
       "[11, 22, 33]"
      ]
     },
     "execution_count": 12,
     "metadata": {},
     "output_type": "execute_result"
    }
   ],
   "source": [
    "# Inititaing a list\n",
    "answer = []\n",
    "\n",
    "# Using zip to pass two values, one from each list\n",
    "for x, y in zip(numbers_1, numbers_2):\n",
    "    \n",
    "    # Adding the sum to the `answer` list\n",
    "    answer.append(x + y)\n",
    "answer"
   ]
  },
  {
   "cell_type": "code",
   "execution_count": 13,
   "id": "28aaefdd-5847-4007-bb85-25da075bdcaa",
   "metadata": {
    "pycharm": {
     "name": "#%%\n"
    }
   },
   "outputs": [
    {
     "data": {
      "text/plain": [
       "[11, 22, 33]"
      ]
     },
     "execution_count": 13,
     "metadata": {},
     "output_type": "execute_result"
    }
   ],
   "source": [
    "# Same as above, but with list comprehension\n",
    "[x + y for x, y in zip(numbers_1, numbers_2)]"
   ]
  },
  {
   "cell_type": "code",
   "execution_count": 14,
   "id": "cc1dc7d2-c8ec-49da-b4f7-5a2939820cc4",
   "metadata": {
    "pycharm": {
     "name": "#%%\n"
    }
   },
   "outputs": [
    {
     "data": {
      "text/plain": [
       "[11, 22, 33]"
      ]
     },
     "execution_count": 14,
     "metadata": {},
     "output_type": "execute_result"
    }
   ],
   "source": [
    "# Or using the built-in sum function\n",
    "[sum(i) for i in zip(numbers_1, numbers_2)]"
   ]
  },
  {
   "cell_type": "markdown",
   "id": "886cb4de-595a-4795-99a3-6227ac6f923c",
   "metadata": {
    "tags": [],
    "pycharm": {
     "name": "#%% md\n"
    }
   },
   "source": [
    "## Question 8\n",
    "\n",
    "*10 points*\n",
    "\n",
    "Now that you understand how `zip()` works, and how you can iterate over two iterables in a `for` loop, lets discuss the `enumerate()` method. We covered it briefly in class, but let's understand what it really is.\n",
    "\n",
    "For any iterable, `enumerate()` adds a counter, and returns an iterable of tuples. For example:"
   ]
  },
  {
   "cell_type": "code",
   "execution_count": null,
   "id": "cf8efcc2-c938-4ec5-bc04-8b55b16e1c5a",
   "metadata": {
    "pycharm": {
     "name": "#%%\n"
    }
   },
   "outputs": [],
   "source": [
    "teams = (\n",
    "    \"Alabama\", \"Ole Miss\", \"Arkansas\", \"Mississippi State\",\n",
    "    \"Texas A&M\", \"Auburn\", \"LSU\", \"Georgia\", \"Kentucky\", \"Tennessee\",\n",
    "    \"Missouri\", \"South Carolina\", \"Florida\", \"Vanderbilt\"\n",
    ")\n",
    "list(enumerate(teams))"
   ]
  },
  {
   "cell_type": "markdown",
   "id": "c24ba823-81cf-4240-ab77-3cb90aa27168",
   "metadata": {
    "pycharm": {
     "name": "#%% md\n"
    }
   },
   "source": [
    "So you can think of `enumerate()` as a specialized `zip()` method, where `range(len(teams))` and `teams` are the two iterables being zipped. Of course, `teams` here can be any iterable."
   ]
  },
  {
   "cell_type": "code",
   "execution_count": null,
   "id": "d4781354-5c7f-4063-89e4-cfe35bd85bd2",
   "metadata": {
    "pycharm": {
     "name": "#%%\n"
    }
   },
   "outputs": [],
   "source": [
    "list(zip(range(len(teams)), teams))"
   ]
  },
  {
   "cell_type": "markdown",
   "id": "390741b3-7c3d-4e83-a32e-16a9a7decf6f",
   "metadata": {
    "pycharm": {
     "name": "#%% md\n"
    }
   },
   "source": [
    "Note that, just like with `zip()`, `enumerate()` returns an iterable, not a `list` or a `tuple`. A constuctor is required to print it as a list, as shown above."
   ]
  },
  {
   "cell_type": "code",
   "execution_count": null,
   "id": "3ba9710c-41b4-485a-9271-ece6b08fa25c",
   "metadata": {
    "pycharm": {
     "name": "#%%\n"
    }
   },
   "outputs": [],
   "source": [
    "enumerate(teams)"
   ]
  },
  {
   "cell_type": "markdown",
   "id": "a7fb3acd-f8b3-4e88-8224-66b9601ed92a",
   "metadata": {
    "pycharm": {
     "name": "#%% md\n"
    }
   },
   "source": [
    "**Question:**\n",
    "\n",
    "With this understanding, iterate over `soccer_teams`, which is a list of dictionaries. Add the dictionary's position in the list as a `\"League Position\"` key in each dictionary. An `example` of the required answer is provided below.\n",
    "\n",
    "Each dictionary corresponds to a soccer team in the Premier League, and its position in the tuple (remember, lists and tuples are ordered) corresponds to the teams position in the League."
   ]
  },
  {
   "cell_type": "code",
   "execution_count": null,
   "id": "772effcc-dd67-4324-907b-b4ad0e0d29fc",
   "metadata": {
    "pycharm": {
     "name": "#%%\n"
    }
   },
   "outputs": [],
   "source": [
    "example = {\n",
    "    \"Team_name\": \"Arsenal\",\n",
    "    \"Stadium\": \"Emirates Stadium\",\n",
    "    \"Position\": 1,\n",
    "}\n",
    "example"
   ]
  },
  {
   "cell_type": "code",
   "execution_count": 15,
   "id": "d81001b4-7342-4cd1-bb7e-751d04db6023",
   "metadata": {
    "pycharm": {
     "name": "#%%\n"
    }
   },
   "outputs": [
    {
     "data": {
      "text/plain": [
       "[{'Team_name': 'Arsenal', 'Stadium': 'Emirates Stadium'},\n",
       " {'Team_name': 'Manchester City', 'Stadium': 'City of Manchester Stadium'},\n",
       " {'Team_name': 'Tottenham Hotspur', 'Stadium': 'Totenham Hotspur Stadium'},\n",
       " {'Team_name': 'Brighton & Hove Albion', 'Stadium': 'Falmer Stadium'},\n",
       " {'Team_name': 'Leeds United', 'Stadium': 'Elland Road'}]"
      ]
     },
     "execution_count": 15,
     "metadata": {},
     "output_type": "execute_result"
    }
   ],
   "source": [
    "team_names = [\n",
    "    \"Arsenal\", \"Manchester City\", \"Tottenham Hotspur\",\n",
    "    \"Brighton & Hove Albion\", \"Leeds United\"\n",
    "]\n",
    "stadiums = [\n",
    "    \"Emirates Stadium\", \"City of Manchester Stadium\", \"Totenham Hotspur Stadium\",\n",
    "    \"Falmer Stadium\", \"Elland Road\"\n",
    "]\n",
    "soccer_teams = [\n",
    "    {\"Team_name\": team_name, \"Stadium\": stadium} for team_name, stadium in zip(team_names, stadiums)\n",
    "]\n",
    "soccer_teams"
   ]
  },
  {
   "cell_type": "markdown",
   "id": "a07d7eee-1850-4b7d-8e62-e9fa68bf061e",
   "metadata": {
    "tags": [],
    "pycharm": {
     "name": "#%% md\n"
    }
   },
   "source": [
    "**Solution:**"
   ]
  },
  {
   "cell_type": "code",
   "execution_count": 16,
   "id": "88d0dc8b-ead4-4aa7-9fad-b0e89df60b82",
   "metadata": {
    "pycharm": {
     "name": "#%%\n"
    }
   },
   "outputs": [
    {
     "data": {
      "text/plain": [
       "[{'Team_name': 'Arsenal', 'Stadium': 'Emirates Stadium', 'Position': 1},\n",
       " {'Team_name': 'Manchester City',\n",
       "  'Stadium': 'City of Manchester Stadium',\n",
       "  'Position': 2},\n",
       " {'Team_name': 'Tottenham Hotspur',\n",
       "  'Stadium': 'Totenham Hotspur Stadium',\n",
       "  'Position': 3},\n",
       " {'Team_name': 'Brighton & Hove Albion',\n",
       "  'Stadium': 'Falmer Stadium',\n",
       "  'Position': 4},\n",
       " {'Team_name': 'Leeds United', 'Stadium': 'Elland Road', 'Position': 5}]"
      ]
     },
     "execution_count": 16,
     "metadata": {},
     "output_type": "execute_result"
    }
   ],
   "source": [
    "# Using `enumerate` to ge the position in the list\n",
    "for idx, soccer_team in enumerate(soccer_teams):\n",
    "    \n",
    "    # Adding `idx + 1` (due to python's zero-indexing) as the \"Position\"\n",
    "    soccer_team[\"Position\"] = idx + 1\n",
    "\n",
    "soccer_teams"
   ]
  },
  {
   "cell_type": "code",
   "execution_count": 17,
   "id": "5217defd-46a7-4482-b162-22fb7923512b",
   "metadata": {
    "pycharm": {
     "name": "#%%\n"
    }
   },
   "outputs": [
    {
     "data": {
      "text/plain": [
       "[{'Team_name': 'Arsenal', 'Stadium': 'Emirates Stadium', 'Position': 1},\n",
       " {'Team_name': 'Manchester City',\n",
       "  'Stadium': 'City of Manchester Stadium',\n",
       "  'Position': 2},\n",
       " {'Team_name': 'Tottenham Hotspur',\n",
       "  'Stadium': 'Totenham Hotspur Stadium',\n",
       "  'Position': 3},\n",
       " {'Team_name': 'Brighton & Hove Albion',\n",
       "  'Stadium': 'Falmer Stadium',\n",
       "  'Position': 4},\n",
       " {'Team_name': 'Leeds United', 'Stadium': 'Elland Road', 'Position': 5}]"
      ]
     },
     "execution_count": 17,
     "metadata": {},
     "output_type": "execute_result"
    }
   ],
   "source": [
    "# But even better, you can use the `start` keyword argument for `emumerate\n",
    "for idx, soccer_team in enumerate(soccer_teams, start=1):\n",
    "    \n",
    "    # Adding `idx + 1` (due to python's zero-indexing) as the \"Position\"\n",
    "    soccer_team[\"Position\"] = idx\n",
    "\n",
    "soccer_teams"
   ]
  },
  {
   "cell_type": "code",
   "execution_count": null,
   "id": "10c057b3-33c8-420f-b436-f89b5ca9a4ca",
   "metadata": {
    "pycharm": {
     "name": "#%%\n"
    }
   },
   "outputs": [],
   "source": []
  }
 ],
 "metadata": {
  "citation-manager": {
   "items": {}
  },
  "kernelspec": {
   "display_name": "Python 3 (ipykernel)",
   "language": "python",
   "name": "python3"
  },
  "language_info": {
   "codemirror_mode": {
    "name": "ipython",
    "version": 3
   },
   "file_extension": ".py",
   "mimetype": "text/x-python",
   "name": "python",
   "nbconvert_exporter": "python",
   "pygments_lexer": "ipython3",
   "version": "3.9.12"
  }
 },
 "nbformat": 4,
 "nbformat_minor": 5
}