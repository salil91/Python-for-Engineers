{
 "cells": [
  {
   "cell_type": "markdown",
   "id": "64c992e8-ce79-4544-bf59-cea68420dc32",
   "metadata": {},
   "source": [
    "# Solutions for Homework 2 - Classes and functions\n",
    "**Due: Sep 22** \n",
    "\n",
    "***Total Points: 100***\n",
    "\n",
    "For full points, your code\n",
    "- must run without errors\n",
    "- must by *pythonic*\n",
    "- must be easily understandable, and well documented (either through inline comments or markdown). Except for built-in methods like `__init__` and `__str__`, **every function, class, and method must have a Docstring.**\n",
    "\n",
    "\n",
    "Run every code block before submitting your notebook/PDF.\n",
    "\n",
    "Remember to export your Jupyter notebook as a PDF file and upload both to Canvas.\n",
    "```\n",
    "File > Save and Export Notebook As... > PDF\n",
    "```"
   ]
  },
  {
   "cell_type": "markdown",
   "id": "202b2136-ac09-42d8-8534-89845689bdc4",
   "metadata": {
    "tags": []
   },
   "source": [
    "## Question 1\n",
    "\n",
    "*25 points*\n",
    "\n",
    "This question will be performed in 4 parts. Make sure each code block runs in sequence. Do NOT duplicate code."
   ]
  },
  {
   "cell_type": "markdown",
   "id": "b80d3a7b-698b-4bc1-9d35-a86692c57bd3",
   "metadata": {},
   "source": [
    "### 1.1\n",
    "*10 points*\n",
    "\n",
    "Make sure the supplied `material_properties.toml` file is in your current working directory. Write a function to read to read it and and extract the required variables:\n",
    "\n",
    "`material, youngs_modulus, poissons_ratio, density = get_properties(\"material_properties.toml\")`"
   ]
  },
  {
   "cell_type": "code",
   "execution_count": null,
   "id": "0a13118c-99b3-4594-90c3-8461fc8ee703",
   "metadata": {},
   "outputs": [],
   "source": []
  },
  {
   "cell_type": "code",
   "execution_count": null,
   "id": "c57d6cd5-b081-469b-bda5-0c8a5fe8023a",
   "metadata": {},
   "outputs": [],
   "source": [
    "# Run this code block without changes\n",
    "material, youngs_modulus, poissons_ratio, density = get_properties(\"material_properties.toml\")\n",
    "print(f\"E: {youngs_modulus}, nu: {poissons_ratio}, rho: {density}\")"
   ]
  },
  {
   "cell_type": "markdown",
   "id": "d2023ec8-30eb-491e-90cf-1e5aab444139",
   "metadata": {},
   "source": [
    "### 1.2.\n",
    "\n",
    "*5 points*\n",
    "\n",
    "Write a function that can be called with the following two arguments:\n",
    "\n",
    "`get_moduli(youngs_modulus, poissons_ratio)`\n",
    "\n",
    "Using these two inputs, return the bulk (K) and shear (G) modul, up to two decimal places.\n",
    "\n",
    "$K = \\frac{E}{3(1-2\\nu)}$, \n",
    "$G = \\frac{E}{2(1+\\nu)}$\n",
    "\n",
    "Return all moduli in GPa"
   ]
  },
  {
   "cell_type": "code",
   "execution_count": null,
   "id": "214d345b-5e5a-4895-980e-5187e1fa60e2",
   "metadata": {},
   "outputs": [],
   "source": []
  },
  {
   "cell_type": "code",
   "execution_count": null,
   "id": "1f0ca910-e39b-4be3-811e-35afac69bf67",
   "metadata": {},
   "outputs": [],
   "source": [
    "# Run this code block without changes\n",
    "K, G = get_moduli(youngs_modulus, poissons_ratio)\n",
    "\n",
    "print(f\"Bulk modulus of {material}: {K} GPa, Shear modulus of {material}: {G} GPa\")"
   ]
  },
  {
   "cell_type": "markdown",
   "id": "3afd2d4b-6248-420f-ba66-d83c2784f1d4",
   "metadata": {},
   "source": [
    "### 1.3.\n",
    "\n",
    "*5 points*\n",
    "\n",
    "Write a function to calculate shear wave speed of the material, up to two decimal places.\n",
    "\n",
    "`get_shear_wavespeed(shear_modulus, density)`\n",
    "\n",
    "Use the shear modulus from above.\n",
    "\n",
    "$c_s = \\sqrt{\\frac{G}{\\rho}}$\n",
    "\n",
    "Return all variables here are SI units"
   ]
  },
  {
   "cell_type": "code",
   "execution_count": null,
   "id": "4602c786-c659-4526-9dcc-0c5f2a7ed1ed",
   "metadata": {},
   "outputs": [],
   "source": []
  },
  {
   "cell_type": "code",
   "execution_count": null,
   "id": "67b60074-b995-4181-b9e7-99667cce5d63",
   "metadata": {},
   "outputs": [],
   "source": [
    "# Run this code block without changes\n",
    "shear_wavespeed = get_shear_wavespeed(shear_modulus=G, density=density)\n",
    "\n",
    "print(f\"Shear wavespeed: {shear_wavespeed} m/s\")"
   ]
  },
  {
   "cell_type": "markdown",
   "id": "6988a885-3d2a-44d6-9cf8-8f5886f2181a",
   "metadata": {
    "tags": []
   },
   "source": [
    "### 1.4.\n",
    "\n",
    "*5 points*\n",
    "\n",
    "Save all the relevant code from above into a module. Import it such that the code below works.\n",
    "\n",
    "You do not have to upload your module file to Canvas."
   ]
  },
  {
   "cell_type": "code",
   "execution_count": null,
   "id": "f81a08c7-bc7e-4b8d-860e-722e2fa9c311",
   "metadata": {},
   "outputs": [],
   "source": [
    "# Import the module here\n"
   ]
  },
  {
   "cell_type": "code",
   "execution_count": null,
   "id": "dc9cec48-0a8d-4024-9776-c7a69ebb455a",
   "metadata": {},
   "outputs": [],
   "source": [
    "# Run this code block without changes\n",
    "\n",
    "material, E, nu, rho = get_properties(\"material_properties.toml\")\n",
    "K, G = get_moduli(youngs_modulus=E, poissons_ratio=nu)\n",
    "c_s = get_shear_wavespeed(shear_modulus=G, density=rho)\n",
    "\n",
    "print(f\"Bulk modulus of {material}: {K} GPa\")\n",
    "print(f\"Shear wavespeed of {material}: {c_s} m/s\")"
   ]
  },
  {
   "cell_type": "markdown",
   "id": "230d9452-bd04-4762-8802-fbb524d24896",
   "metadata": {},
   "source": [
    "## Question 2\n",
    "\n",
    "*75 points*\n",
    "\n",
    "This question will be performed in 6 parts. Make sure each code block runs in sequence. Do NOT duplicate code."
   ]
  },
  {
   "cell_type": "markdown",
   "id": "8f589934-218c-446f-a997-97f43f8df919",
   "metadata": {},
   "source": [
    "### 2.1\n",
    "\n",
    "*10 points*\n",
    "\n",
    "Create a parent `Weapon` class, with an attribute for `color`. `color` should be a `property`, with appropriate getter and setter methods, and it's value should be restricted to be red, green, or blue."
   ]
  },
  {
   "cell_type": "code",
   "execution_count": null,
   "id": "fb8fcd7f-4595-4c47-a540-805367fc7cc3",
   "metadata": {},
   "outputs": [],
   "source": []
  },
  {
   "cell_type": "markdown",
   "id": "ad170caf-599e-4ba6-9a95-efe0262355ad",
   "metadata": {},
   "source": [
    "### 2.2.\n",
    "\n",
    "*10 points*\n",
    "\n",
    "Creat two children of the `Weapon` superclass, called `Broadsword` and `Claymore`. In addition to inheriting the attributes of the parent `Weapon` class, they also have a unique `attack` attribute, of `15` and `20` respectively.\n",
    "\n",
    "Make sure you include a `__str__` method for each child class so that any instance of the class can be printed. It does not have to be very verbose, I only need it to print it's color and attack value."
   ]
  },
  {
   "cell_type": "code",
   "execution_count": null,
   "id": "07146bbe-32af-426c-aa42-d65ab415829c",
   "metadata": {},
   "outputs": [],
   "source": []
  },
  {
   "cell_type": "markdown",
   "id": "ecac46d3-b285-4cda-858b-6c36a002413f",
   "metadata": {},
   "source": [
    "### 2.3.\n",
    "\n",
    "*5 points*\n",
    "\n",
    "Creat an instance of the `Broadsword` class and the `Claymore` class. Let the variable names be the same, but in lowercase (as shown in the list in the code block below).\n",
    "\n",
    "Set their color to a random value, choosing between `red`, `green`, and `blue`. The random value is not decided by you, it should change each time your code is run."
   ]
  },
  {
   "cell_type": "code",
   "execution_count": null,
   "id": "e559b64c-1142-40e6-acdf-a57edcb5a08e",
   "metadata": {},
   "outputs": [],
   "source": []
  },
  {
   "cell_type": "code",
   "execution_count": null,
   "id": "5a2c7840-28da-4283-bb46-54cb791d6e73",
   "metadata": {},
   "outputs": [],
   "source": [
    "# Run this code block without changes\n",
    "weapons = [broadsword, claymore]\n",
    "for weapon in weapons:\n",
    "    print(weapon)"
   ]
  },
  {
   "cell_type": "code",
   "execution_count": null,
   "id": "a602c1ec-f68b-4eda-be73-177817e777e1",
   "metadata": {},
   "outputs": [],
   "source": [
    "# Run this code block without changes\n",
    "# It should raise a ValueError\n",
    "fake_weapon = Weapon(color=\"yellow\")"
   ]
  },
  {
   "cell_type": "markdown",
   "id": "220027ae-c668-498f-8246-70210d4e33bc",
   "metadata": {},
   "source": [
    "### 2.4\n",
    "\n",
    "*20 points*\n",
    "\n",
    "Create a `Hero` class, with attributes for `name` and `health`. `health` should be a `property`, with appropriate getter and setter methods. The maximum health for any instance of the `Hero` class is 100. The minimum health is, of course, 0.\n",
    "\n",
    "Each character must be able to `take_damage` (you need to create a method for this). When this happens, also print out who takes damage, how much, and their current health. Make sure that the user knows when a hero has died (i.e., Their health drops to 0 or lower). For simplicity, we will only deal with `int` values for `health`.\n",
    "\n",
    "Each character must also be able to `attack_target` (you need to create a method for this). To attack the enemy, they must use one of the two weapons you have created above. So your method for this attack must be able to receive the `weapon` as well as the `target` as argument, and deal damage to the target based on the weapon's `attack` attribute. Print out who attacked whom and for how much.\n",
    "\n",
    "Make sure you include a `__str__` method so that any instance of the class can be printed. It does not have to be very verbose, I only need it to print the name and health."
   ]
  },
  {
   "cell_type": "code",
   "execution_count": null,
   "id": "48002d9b-1820-440b-a79b-de5443ccc5c2",
   "metadata": {},
   "outputs": [],
   "source": [
    "class Hero:\n",
    "    ...\n",
    "    ...\n",
    "    def attack_target(target, weapon):\n",
    "        attack_amount = weapon.attack\n",
    "        \n",
    "\n",
    "\n",
    "broadsword = Broadsword()\n",
    "juggernaut = Hero()\n",
    "\n",
    "juggernaut.attack_target(target=wraith_king, weapon=broadsword)"
   ]
  },
  {
   "cell_type": "markdown",
   "id": "04312da3-dce2-4791-a63b-d5bf9e50844b",
   "metadata": {},
   "source": [
    "### 2.5.\n",
    "\n",
    "*5 points*\n",
    "\n",
    "Create four instances of the `Hero` class.\n",
    "\n",
    "Set their `name` attributes to `Bounty Hunter`, `Juggernaut`, `Phantom Assassin`, `Wraith King`. Let the variable names be similar, but in lowercase and using underscores instead of spaces (as shown in the list in the code block below).\n",
    "\n",
    "Set their `health` to a random integer value between 50 and 100. The random value is not decided by you, it should change each time your code is run."
   ]
  },
  {
   "cell_type": "code",
   "execution_count": null,
   "id": "73b2fd33-7963-41c8-a9f1-58a9cd4fb6e0",
   "metadata": {},
   "outputs": [],
   "source": []
  },
  {
   "cell_type": "code",
   "execution_count": null,
   "id": "e97bc0f2-c586-4fa8-b5de-9f9ffaa15edd",
   "metadata": {},
   "outputs": [],
   "source": [
    "# Run this code block without changes\n",
    "heroes = [bounty_hunter, juggernaut, phantom_assassin, wraith_king]\n",
    "for hero in heroes:\n",
    "    print(hero)"
   ]
  },
  {
   "cell_type": "code",
   "execution_count": null,
   "id": "94efd5a1-61e6-43c0-abaf-ee1d217e8f9e",
   "metadata": {},
   "outputs": [],
   "source": [
    "# Run this code block without changes\n",
    "# It should raise a ValueError\n",
    "fake_hero = Hero(name=\"Roshan\", health = 150)"
   ]
  },
  {
   "cell_type": "markdown",
   "id": "ea774f7d-6711-4157-a792-7a961a5c6e21",
   "metadata": {},
   "source": [
    "### 2.6\n",
    "\n",
    "*25 points*\n",
    "\n",
    "**Last hero standing**\n",
    "\n",
    "So now we have 4 heroes and two types of weapons. Create a simple turn-based tournament. In each round, every hero will take one turn to pick a weapon at random and attack another hero at random. Randomize the order in which the heroes take their turn in each round. Print the round number.\n",
    "\n",
    "For simplicity, a hero can be attacked more than once per round. Obviously, heroes cannot attack themselves.\n",
    "\n",
    "When a hero dies, they are eliminated, and can no longer participate. Print when this happens.\n",
    "\n",
    "The game continues until only one hero is left standing. Print the winner."
   ]
  },
  {
   "cell_type": "code",
   "execution_count": null,
   "id": "36fdaee8-500a-4fed-ae95-fe223f1e668c",
   "metadata": {},
   "outputs": [],
   "source": []
  }
 ],
 "metadata": {
  "citation-manager": {
   "items": {}
  },
  "kernelspec": {
   "display_name": "Python 3 (ipykernel)",
   "language": "python",
   "name": "python3"
  },
  "language_info": {
   "codemirror_mode": {
    "name": "ipython",
    "version": 3
   },
   "file_extension": ".py",
   "mimetype": "text/x-python",
   "name": "python",
   "nbconvert_exporter": "python",
   "pygments_lexer": "ipython3",
   "version": "3.9.12"
  }
 },
 "nbformat": 4,
 "nbformat_minor": 5
}
