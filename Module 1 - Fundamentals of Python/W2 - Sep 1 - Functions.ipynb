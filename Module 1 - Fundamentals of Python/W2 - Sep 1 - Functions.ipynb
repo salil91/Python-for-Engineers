{
 "cells": [
  {
   "cell_type": "markdown",
   "id": "8895037c-e88e-4710-a147-f05c9c045342",
   "metadata": {},
   "source": [
    "# Week 2 - September 1 - Functions"
   ]
  },
  {
   "cell_type": "markdown",
   "id": "89678849-f58f-4971-90d2-9298d7006885",
   "metadata": {},
   "source": [
    "**Functions** are actions, and often named using verbs.\n",
    "\n",
    "Next week (Thursday, Sep 8), we will look at classes, which are objects, and are named using nouns.\n",
    "\n",
    "For both, some are built-in: `print`, `input`\n",
    "\n",
    "But you can also define your own, or import them from the Standard Library or third-party libraries."
   ]
  },
  {
   "cell_type": "markdown",
   "id": "afca0452-dd84-4bad-8c0f-03e9c8739181",
   "metadata": {
    "tags": []
   },
   "source": [
    "## Arguments"
   ]
  },
  {
   "cell_type": "markdown",
   "id": "4c048bfa-d89c-49e9-9ac6-df16803ae280",
   "metadata": {},
   "source": [
    "Many functions take **arguments**. In our favorite example, `\"Hello world!\"` is the argument for the `print` function."
   ]
  },
  {
   "cell_type": "code",
   "execution_count": 1,
   "id": "caae7100-ab3c-4b5e-b3cc-4c925f96984b",
   "metadata": {},
   "outputs": [
    {
     "name": "stdout",
     "output_type": "stream",
     "text": [
      "Hello world!\n"
     ]
    }
   ],
   "source": [
    "print(\"Hello world!\")"
   ]
  },
  {
   "cell_type": "markdown",
   "id": "d279f1d4-b7ad-4665-aff7-f385aa9d1db3",
   "metadata": {},
   "source": [
    "Functions can take multiple arguments, some may be **positional arguments** (`args`), while others may be **keyword arguments** (`kwargs`):\n",
    "\n",
    "`function(args, *args, kwargs, **kwargs)`\n",
    "\n",
    "`*` before an argument name denotes that it is an arbitrary argument, i.e., it can take an arbitrary number of items.\n",
    "\n",
    "For `*args`, the function will recieve a *tuple* of those items, while for `**kwargs`, the function will receive a dictinoary."
   ]
  },
  {
   "cell_type": "markdown",
   "id": "010b1c5a-6dda-432a-89c0-2aee22b876f7",
   "metadata": {},
   "source": [
    "Let's look at the `print` function:\n",
    "\n",
    "`print(*arg(s), sep=\" \", end=\"\\n\", file=sys.stdout, flush=False)`"
   ]
  },
  {
   "cell_type": "code",
   "execution_count": 2,
   "id": "0318ff55-c54b-4522-87f9-4234e9d47528",
   "metadata": {},
   "outputs": [
    {
     "name": "stdout",
     "output_type": "stream",
     "text": [
      "Hello Salil !\n"
     ]
    }
   ],
   "source": [
    "name = \"Salil\"\n",
    "print(\"Hello\", name, \"!\")"
   ]
  },
  {
   "cell_type": "code",
   "execution_count": null,
   "id": "ebe46c3d-5c4f-4ac1-953b-fb2539c65a5f",
   "metadata": {},
   "outputs": [],
   "source": [
    "print(\"Hello\", name, \"!\", sep=\"\")"
   ]
  },
  {
   "cell_type": "markdown",
   "id": "1cc8a6d2-68c8-41d1-873d-ed10dd687344",
   "metadata": {},
   "source": [
    "Keyword arguments can have default values. This subset of keyword arguments are called **default arguments**\n",
    "\n",
    "For the `print` function, the default values for `sep` in `\" \"`, and for `end` is `\"\\n\"`\n",
    "\n",
    "**Optional arguments** are a further subset of default arguments. For these arguments, the default value is usually `None`. They can be disregarded if they are not provided."
   ]
  },
  {
   "cell_type": "code",
   "execution_count": 3,
   "id": "0820d60c-e8e0-4962-9ba9-e4c661efd22e",
   "metadata": {},
   "outputs": [
    {
     "name": "stdout",
     "output_type": "stream",
     "text": [
      "HelloSalil!\n",
      "HelloSalil!\n"
     ]
    }
   ],
   "source": [
    "print(\"Hello\", name, \"!\", sep=\"\")\n",
    "print(\"Hello\", name, \"!\", sep=\"\")"
   ]
  },
  {
   "cell_type": "code",
   "execution_count": 4,
   "id": "2d2e0dd5-725c-4afe-b1b0-024d8f746151",
   "metadata": {},
   "outputs": [
    {
     "name": "stdout",
     "output_type": "stream",
     "text": [
      "HelloSalil!HelloSalil!"
     ]
    }
   ],
   "source": [
    "print(\"Hello\", name, \"!\", sep=\"\", end=\"\")\n",
    "print(\"Hello\", name, \"!\", sep=\"\", end=\"\")"
   ]
  },
  {
   "cell_type": "code",
   "execution_count": 5,
   "id": "363102ed-0a45-445c-a6cd-9e006e592113",
   "metadata": {},
   "outputs": [
    {
     "ename": "SyntaxError",
     "evalue": "positional argument follows keyword argument (3710170346.py, line 1)",
     "output_type": "error",
     "traceback": [
      "\u001b[1;36m  Input \u001b[1;32mIn [5]\u001b[1;36m\u001b[0m\n\u001b[1;33m    print(sep=\"    \", name)\u001b[0m\n\u001b[1;37m                          ^\u001b[0m\n\u001b[1;31mSyntaxError\u001b[0m\u001b[1;31m:\u001b[0m positional argument follows keyword argument\n"
     ]
    }
   ],
   "source": [
    "print(sep=\"    \", name)"
   ]
  },
  {
   "cell_type": "markdown",
   "id": "993adf83-d120-417c-8c92-89065154aaf2",
   "metadata": {},
   "source": [
    "***Positinal arguments must come before keyword arguments, and the respective arbitrary arguments go last.***\n",
    "\n",
    "`function(args, *args, kwargs, **kwargs)`"
   ]
  },
  {
   "cell_type": "markdown",
   "id": "efd6139e-49ea-4d8f-9a9f-0bc73eeef307",
   "metadata": {},
   "source": [
    "You don't need to memorize every function's arguments and return values. Use the Help features in Jupyer and Spyder, your favorite search engine, or the `help` function."
   ]
  },
  {
   "cell_type": "code",
   "execution_count": 6,
   "id": "9e1b80d3-6f89-4f67-ae22-ac88bd884593",
   "metadata": {},
   "outputs": [
    {
     "name": "stdout",
     "output_type": "stream",
     "text": [
      "Help on built-in function print in module builtins:\n",
      "\n",
      "print(...)\n",
      "    print(value, ..., sep=' ', end='\\n', file=sys.stdout, flush=False)\n",
      "    \n",
      "    Prints the values to a stream, or to sys.stdout by default.\n",
      "    Optional keyword arguments:\n",
      "    file:  a file-like object (stream); defaults to the current sys.stdout.\n",
      "    sep:   string inserted between values, default a space.\n",
      "    end:   string appended after the last value, default a newline.\n",
      "    flush: whether to forcibly flush the stream.\n",
      "\n"
     ]
    }
   ],
   "source": [
    "help(print)"
   ]
  },
  {
   "cell_type": "markdown",
   "id": "7c41f327-2066-4d70-b1ec-b262990e9678",
   "metadata": {
    "tags": []
   },
   "source": [
    "## Return values"
   ]
  },
  {
   "cell_type": "markdown",
   "id": "116d61ba-e393-4436-ba50-935a196970de",
   "metadata": {},
   "source": [
    "Many functions also **return** values:"
   ]
  },
  {
   "cell_type": "code",
   "execution_count": 7,
   "id": "9ccc80b0-31de-49bc-9c63-b7b4479a2091",
   "metadata": {},
   "outputs": [
    {
     "name": "stdin",
     "output_type": "stream",
     "text": [
      "What is your name?  Salil\n"
     ]
    },
    {
     "data": {
      "text/plain": [
       "'Salil'"
      ]
     },
     "execution_count": 7,
     "metadata": {},
     "output_type": "execute_result"
    }
   ],
   "source": [
    "name = input(\"What is your name? \")\n",
    "name"
   ]
  },
  {
   "cell_type": "markdown",
   "id": "15c8e496-65dd-436f-b2ec-d49f7135eee9",
   "metadata": {},
   "source": [
    "You do not have to assign the returned value to a variable. It can be discarded if you do not need it."
   ]
  },
  {
   "cell_type": "code",
   "execution_count": 8,
   "id": "e6499df3-8511-4e4a-aa32-3c8c3c8026c2",
   "metadata": {},
   "outputs": [
    {
     "data": {
      "text/plain": [
       "'FSU'"
      ]
     },
     "execution_count": 8,
     "metadata": {},
     "output_type": "execute_result"
    }
   ],
   "source": [
    "any_list = [\"UF\", \"FSU\", \"UCF\", \"USF\", \"UNF\", \"UWF\"]\n",
    "removed_item = any_list.pop(1)\n",
    "removed_item"
   ]
  },
  {
   "cell_type": "code",
   "execution_count": 9,
   "id": "ed23fb48-e50c-4470-81d7-aeb174927b49",
   "metadata": {},
   "outputs": [
    {
     "data": {
      "text/plain": [
       "['UF', 'UCF', 'USF', 'UNF', 'UWF']"
      ]
     },
     "execution_count": 9,
     "metadata": {},
     "output_type": "execute_result"
    }
   ],
   "source": [
    "any_list"
   ]
  },
  {
   "cell_type": "code",
   "execution_count": null,
   "id": "2b863c92-dfe0-4cf5-ba84-97b51d41a678",
   "metadata": {},
   "outputs": [],
   "source": [
    "any_list = [\"UF\", \"FSU\", \"UCF\", \"USF\", \"UNF\", \"UWF\"]\n",
    "any_list.pop(1)\n",
    "any_list"
   ]
  },
  {
   "cell_type": "markdown",
   "id": "c6f1af4e-d8df-44d8-a234-0b8ce6a81919",
   "metadata": {
    "tags": []
   },
   "source": [
    "## Defining your own function\n",
    "\n",
    "`def function(args, *args, kwargs, **kwargs)`"
   ]
  },
  {
   "cell_type": "code",
   "execution_count": 10,
   "id": "bbde94ae-1614-4960-8f54-e9aa7de59923",
   "metadata": {},
   "outputs": [],
   "source": [
    "def add_two_numbers(x, y):\n",
    "    z = x + y\n",
    "    \n",
    "    return z\n",
    "\n",
    "\n",
    "# Note the blank line before the return statement.\n",
    "# It's not required, but it's good practice for readability."
   ]
  },
  {
   "cell_type": "markdown",
   "id": "97f2d02b-77ca-4502-ae2f-0d38d45a3432",
   "metadata": {},
   "source": [
    "You can **call** any function that has been defined in your namespace."
   ]
  },
  {
   "cell_type": "code",
   "execution_count": 11,
   "id": "97c4e5a0-6d6b-4b13-ae0b-80040fef9c76",
   "metadata": {},
   "outputs": [
    {
     "data": {
      "text/plain": [
       "30.5"
      ]
     },
     "execution_count": 11,
     "metadata": {},
     "output_type": "execute_result"
    }
   ],
   "source": [
    "add_two_numbers(10, 20.5)\n",
    "\n",
    "# Comment"
   ]
  },
  {
   "cell_type": "markdown",
   "id": "5b999a89-3c8c-4900-994e-a93e327fdc6a",
   "metadata": {},
   "source": [
    "In Jupyter notebooks, just like with variables, the return value(s) of a function are automaticall printed if the function is called (without assignment) in the last line of the code block. Comments and blank lines are ignored by the Python intepreter.\n",
    "\n",
    "However, as discussed above, you can assign the returned value to a variable."
   ]
  },
  {
   "cell_type": "code",
   "execution_count": 12,
   "id": "9f93ebef-3b08-4a40-ac8d-ffcceef6de5e",
   "metadata": {},
   "outputs": [
    {
     "data": {
      "text/plain": [
       "225"
      ]
     },
     "execution_count": 12,
     "metadata": {},
     "output_type": "execute_result"
    }
   ],
   "source": [
    "def square_number(x):\n",
    "    z = x**2\n",
    "    \n",
    "    return z\n",
    "\n",
    "\n",
    "squared = square_number(15)\n",
    "squared\n",
    "\n",
    "# Note the two blank lines after the function definition block.\n",
    "# It's not required, but it's good practice for readability."
   ]
  },
  {
   "cell_type": "markdown",
   "id": "51f6bee2-d83a-4747-8fd8-a4d866818bca",
   "metadata": {},
   "source": [
    "You can shorten the code above as:"
   ]
  },
  {
   "cell_type": "code",
   "execution_count": 13,
   "id": "218311d1-2405-442b-bdd6-983c51ce5cde",
   "metadata": {},
   "outputs": [
    {
     "data": {
      "text/plain": [
       "225"
      ]
     },
     "execution_count": 13,
     "metadata": {},
     "output_type": "execute_result"
    }
   ],
   "source": [
    "def square_number(x):\n",
    "    \n",
    "    return x**2 + 2*x + 4\n",
    "\n",
    "\n",
    "squared = square_number(15)\n",
    "squared"
   ]
  },
  {
   "cell_type": "markdown",
   "id": "de8737d5-031a-4d9e-934d-31072616d1f6",
   "metadata": {},
   "source": [
    "Any data type can be passed to a function:"
   ]
  },
  {
   "cell_type": "code",
   "execution_count": 16,
   "id": "11b75d54-79dc-4c6f-ab50-914184831b60",
   "metadata": {},
   "outputs": [
    {
     "name": "stdout",
     "output_type": "stream",
     "text": [
      "USA\n",
      "Canada\n",
      "Mexico\n"
     ]
    }
   ],
   "source": [
    "def print_list(any_list):\n",
    "    for item in any_list:\n",
    "        print(item)\n",
    "        \n",
    "    return None\n",
    "        \n",
    "    \n",
    "print_list([\"USA\", \"Canada\", \"Mexico\"])"
   ]
  },
  {
   "cell_type": "markdown",
   "id": "48c0b8f2-c0be-4f41-a644-57f53c42f606",
   "metadata": {
    "tags": []
   },
   "source": [
    "### Return values"
   ]
  },
  {
   "cell_type": "markdown",
   "id": "e4aba67f-6763-49c6-973b-cd0d8eff9e58",
   "metadata": {},
   "source": [
    "You don't need the `return None` - not having it will return nothing anyway. However, it's good practice to include it for code readability."
   ]
  },
  {
   "cell_type": "code",
   "execution_count": 17,
   "id": "4df700f1-b1b4-403f-94c9-9ac314ff61b9",
   "metadata": {},
   "outputs": [
    {
     "name": "stdout",
     "output_type": "stream",
     "text": [
      "USA\n",
      "Canada\n",
      "Mexico\n"
     ]
    }
   ],
   "source": [
    "def print_list(any_list):\n",
    "    for item in any_list:\n",
    "        print(item)\n",
    "\n",
    "print_list([\"USA\", \"Canada\", \"Mexico\"])"
   ]
  },
  {
   "cell_type": "markdown",
   "id": "80b70a3e-e553-4608-91a6-f8db8310ac4f",
   "metadata": {},
   "source": [
    "However, once the python interpreter encounters the `return` keyword, it exits out of the function and returns the value."
   ]
  },
  {
   "cell_type": "code",
   "execution_count": 19,
   "id": "396402e9-4c56-4317-9b00-1e1b70de8238",
   "metadata": {},
   "outputs": [
    {
     "name": "stdout",
     "output_type": "stream",
     "text": [
      "This will never be printed.\n"
     ]
    }
   ],
   "source": [
    "def is_even(number):\n",
    "    if number % 2 == 0:\n",
    "        \n",
    "        return True\n",
    "    \n",
    "    else:\n",
    "        \n",
    "        return False\n",
    "    \n",
    "    print(\"This will never be printed.\")\n",
    "\n",
    "\n",
    "is_even(3)"
   ]
  },
  {
   "cell_type": "markdown",
   "id": "7f77a7df-2822-46b4-89ec-b216338bed67",
   "metadata": {},
   "source": [
    "A function can return any data type:"
   ]
  },
  {
   "cell_type": "code",
   "execution_count": 21,
   "id": "22d6db6f-fb83-4848-9ba4-272c9ba53cd0",
   "metadata": {},
   "outputs": [
    {
     "data": {
      "text/plain": [
       "['ENGLAND', 'SCOTLAND', 'WALES']"
      ]
     },
     "execution_count": 21,
     "metadata": {},
     "output_type": "execute_result"
    }
   ],
   "source": [
    "def capitalize_list(any_list):\n",
    "    new_list = []\n",
    "    for item in any_list:\n",
    "        new_list.append(item.upper())\n",
    "        \n",
    "    return new_list\n",
    "        \n",
    "    \n",
    "capitalize_list([\"england\", \"scotland\", \"wales\"])"
   ]
  },
  {
   "cell_type": "markdown",
   "id": "7d8dcd5e-ecdf-4cba-84ba-e8b4ab2387a1",
   "metadata": {},
   "source": [
    "However, if returning multiple items, they are packed into a tuple:"
   ]
  },
  {
   "cell_type": "code",
   "execution_count": 23,
   "id": "61f25063-e0df-43f9-a612-f3b3ea3bd0bc",
   "metadata": {},
   "outputs": [
    {
     "data": {
      "text/plain": [
       "(10, 25)"
      ]
     },
     "execution_count": 23,
     "metadata": {},
     "output_type": "execute_result"
    }
   ],
   "source": [
    "def double_and_square(number):\n",
    "    double = number*2\n",
    "    square = number**2\n",
    "    \n",
    "    return double, square\n",
    "\n",
    "\n",
    "double_and_square(5)"
   ]
  },
  {
   "cell_type": "markdown",
   "id": "fe94da99-ba74-4f2c-911f-57f03fced9a7",
   "metadata": {},
   "source": [
    "This should help explain Jupyter's behavior when two variables are in the last line of a code block:"
   ]
  },
  {
   "cell_type": "code",
   "execution_count": 24,
   "id": "0429c28e-2e2d-400d-8641-1e1813c0feec",
   "metadata": {},
   "outputs": [
    {
     "data": {
      "text/plain": [
       "(10, 20)"
      ]
     },
     "execution_count": 24,
     "metadata": {},
     "output_type": "execute_result"
    }
   ],
   "source": [
    "a = 10\n",
    "b = 20\n",
    "\n",
    "a, b"
   ]
  },
  {
   "cell_type": "markdown",
   "id": "0d5f84fb-4e9f-47f4-abaf-eacef2d94050",
   "metadata": {},
   "source": [
    "The tuple can be easily unpacked to extract individual values:"
   ]
  },
  {
   "cell_type": "code",
   "execution_count": 25,
   "id": "5f6dbfb4-9cb8-4e4f-92e6-eec255a86f7d",
   "metadata": {},
   "outputs": [
    {
     "name": "stdout",
     "output_type": "stream",
     "text": [
      "14\n",
      "49\n"
     ]
    }
   ],
   "source": [
    "double, square = double_and_square(7)\n",
    "print(double)\n",
    "print(square)"
   ]
  },
  {
   "cell_type": "markdown",
   "id": "68eba3e1-490a-436e-94b2-a6441660f731",
   "metadata": {
    "jp-MarkdownHeadingCollapsed": true,
    "tags": []
   },
   "source": [
    "### Examples with types of arguments"
   ]
  },
  {
   "cell_type": "markdown",
   "id": "70b3ac64-4156-4ed0-9204-df553c32510d",
   "metadata": {},
   "source": [
    "**With arbitrary arguments:**\n",
    "\n",
    "`*args` are automatically passed to the function as a *tuple*."
   ]
  },
  {
   "cell_type": "code",
   "execution_count": 27,
   "id": "3afab95b-0496-4aff-b4cd-97ecb4e549b2",
   "metadata": {},
   "outputs": [
    {
     "name": "stdout",
     "output_type": "stream",
     "text": [
      "(5,)\n"
     ]
    },
    {
     "data": {
      "text/plain": [
       "5"
      ]
     },
     "execution_count": 27,
     "metadata": {},
     "output_type": "execute_result"
    }
   ],
   "source": [
    "def multiply_numbers(*numbers):\n",
    "    print(numbers)\n",
    "    \n",
    "    answer = 1\n",
    "    for number in numbers:\n",
    "        answer *= number # answer = answer * number\n",
    "    \n",
    "    return answer\n",
    "\n",
    "multiply_numbers(5)"
   ]
  },
  {
   "cell_type": "markdown",
   "id": "2c114309-4794-4894-b0db-d55b7615681b",
   "metadata": {},
   "source": [
    "**With keyword arguments:**"
   ]
  },
  {
   "cell_type": "code",
   "execution_count": 28,
   "id": "92425a1c-8fd8-42f8-a3b3-da770d5eabe6",
   "metadata": {},
   "outputs": [
    {
     "name": "stdout",
     "output_type": "stream",
     "text": [
      "Salil lives in Gainesville, FL.\n"
     ]
    }
   ],
   "source": [
    "def print_location(name, city, state):\n",
    "    print(f\"{name} lives in {city}, {state}.\")\n",
    "    \n",
    "    return None\n",
    "\n",
    "ret = print_location(state=\"FL\", name=\"Salil\", city=\"Gainesville\")"
   ]
  },
  {
   "cell_type": "markdown",
   "id": "1fa97c59-1401-4dc8-9b53-ce4c38d63db9",
   "metadata": {},
   "source": [
    "**With arbitrary keyword arguments:**\n",
    "\n",
    "`**kwargs` are automatically passed to the function as a *dictionary*."
   ]
  },
  {
   "cell_type": "code",
   "execution_count": 29,
   "id": "9f9828d3-ab2b-40b3-b5dd-1b441715f6b5",
   "metadata": {},
   "outputs": [
    {
     "name": "stdout",
     "output_type": "stream",
     "text": [
      "{'name': 'Arsenal', 'location': 'London'}\n",
      "My team is Arsenal, from London.\n"
     ]
    }
   ],
   "source": [
    "def print_team(**team):\n",
    "    print(team) # **kwargs are passed an a dictionary\n",
    "    \n",
    "    # Note the different quotation marks:\n",
    "    # \"\" for the f-string and '' for the dict keys\n",
    "    print(f\"My team is {team['name']}, from {team['location']}.\")\n",
    "    \n",
    "    return None\n",
    "    \n",
    "print_team(name=\"Arsenal\", location=\"London\")"
   ]
  },
  {
   "cell_type": "markdown",
   "id": "9d731021-657e-4d4a-a249-0669a8a6f4ab",
   "metadata": {},
   "source": [
    "**Setting default values:**"
   ]
  },
  {
   "cell_type": "code",
   "execution_count": 30,
   "id": "eaff0f6d-5b49-416c-b6fb-f2444ff866f7",
   "metadata": {},
   "outputs": [
    {
     "name": "stdout",
     "output_type": "stream",
     "text": [
      "Hello\n",
      "Hello\n",
      "Hello\n",
      "Hello\n",
      "Hello\n"
     ]
    }
   ],
   "source": [
    "def print_multiple_times(text, multiple=5):\n",
    "    # Note the _ in the for loop\n",
    "    # We don't need the iterable to be assigned to a variable\n",
    "    for _ in range(multiple):\n",
    "        print(text)\n",
    "        \n",
    "    return None\n",
    "\n",
    "print_multiple_times(\"Hello\")"
   ]
  },
  {
   "cell_type": "code",
   "execution_count": 31,
   "id": "822c22ff-d769-4c3c-ab2b-008892f53bed",
   "metadata": {},
   "outputs": [
    {
     "name": "stdout",
     "output_type": "stream",
     "text": [
      "Hello\n",
      "Hello\n",
      "Hello\n"
     ]
    }
   ],
   "source": [
    "print_multiple_times(\"Hello\", multiple=3)"
   ]
  },
  {
   "cell_type": "markdown",
   "id": "fb276076-2d40-46ab-88c0-363fb74e00f2",
   "metadata": {
    "tags": []
   },
   "source": [
    "## Lambda functions\n",
    "\n",
    "`lambda arguments : expression`"
   ]
  },
  {
   "cell_type": "markdown",
   "id": "dcbdf8d8-383e-4160-b917-eb49b9f28809",
   "metadata": {},
   "source": [
    "Lambda functions are small anonymous functions, created using the `lambda` keyword. Consider the simple functions we had above to double or square a number"
   ]
  },
  {
   "cell_type": "code",
   "execution_count": 32,
   "id": "75230997-349b-4194-9a14-c4a8644450c0",
   "metadata": {},
   "outputs": [
    {
     "data": {
      "text/plain": [
       "10"
      ]
     },
     "execution_count": 32,
     "metadata": {},
     "output_type": "execute_result"
    }
   ],
   "source": [
    "double = lambda x : x*2\n",
    "double(5)"
   ]
  },
  {
   "cell_type": "markdown",
   "id": "2d08e172-4f50-4c12-bd21-1ff03fe77c26",
   "metadata": {},
   "source": [
    "Lambda functions can take multiple arguments"
   ]
  },
  {
   "cell_type": "code",
   "execution_count": 33,
   "id": "7ace473c-f17c-4189-b2f1-4f47f7e0b6ce",
   "metadata": {},
   "outputs": [
    {
     "data": {
      "text/plain": [
       "30"
      ]
     },
     "execution_count": 33,
     "metadata": {},
     "output_type": "execute_result"
    }
   ],
   "source": [
    "added = lambda x, y : x + y\n",
    "added(10, 20)"
   ]
  },
  {
   "cell_type": "markdown",
   "id": "a3579b2c-58e5-4238-9c3b-e8d88c41a7c2",
   "metadata": {},
   "source": [
    "And just like the other functions, the returned value can be assigned to a variable:"
   ]
  },
  {
   "cell_type": "code",
   "execution_count": 34,
   "id": "8aeb9e41-bf5b-4fbc-bb6b-ed3ce17173c9",
   "metadata": {},
   "outputs": [
    {
     "data": {
      "text/plain": [
       "[2, 4, 6]"
      ]
     },
     "execution_count": 34,
     "metadata": {},
     "output_type": "execute_result"
    }
   ],
   "source": [
    "double_items = lambda l : [x*2 for x in l]\n",
    "\n",
    "any_list = [1, 2, 3]\n",
    "new_list= double_items(any_list)\n",
    "new_list"
   ]
  },
  {
   "cell_type": "markdown",
   "id": "289a69a6-e8ae-4175-a2d4-9a87d163e03c",
   "metadata": {},
   "source": [
    "***Lambda functions are best used when a small function is needed for a short time.***"
   ]
  },
  {
   "cell_type": "markdown",
   "id": "29dd4521-1de3-4d39-9a51-c2b309a1d8a3",
   "metadata": {
    "jp-MarkdownHeadingCollapsed": true,
    "tags": []
   },
   "source": [
    "## Scope\n",
    "\n",
    "***Note: Restart the kernel before proceeding.***"
   ]
  },
  {
   "cell_type": "markdown",
   "id": "8cdf5141-47df-475d-a317-e7ce2e657b64",
   "metadata": {},
   "source": [
    "Variables defined inside a function are **local variables**, and are limited to that function only."
   ]
  },
  {
   "cell_type": "code",
   "execution_count": 35,
   "id": "addfdf61-af6a-4450-b1f4-e436a61e385c",
   "metadata": {},
   "outputs": [
    {
     "ename": "NameError",
     "evalue": "name 'x' is not defined",
     "output_type": "error",
     "traceback": [
      "\u001b[1;31m---------------------------------------------------------------------------\u001b[0m",
      "\u001b[1;31mNameError\u001b[0m                                 Traceback (most recent call last)",
      "Input \u001b[1;32mIn [35]\u001b[0m, in \u001b[0;36m<cell line: 14>\u001b[1;34m()\u001b[0m\n\u001b[0;32m      9\u001b[0m     b \u001b[38;5;241m=\u001b[39m \u001b[38;5;124m\"\u001b[39m\u001b[38;5;124mJerry\u001b[39m\u001b[38;5;124m\"\u001b[39m\n\u001b[0;32m     11\u001b[0m     \u001b[38;5;28mprint\u001b[39m(x)\n\u001b[1;32m---> 14\u001b[0m \u001b[43mfunc_2\u001b[49m\u001b[43m(\u001b[49m\u001b[43m)\u001b[49m\n",
      "Input \u001b[1;32mIn [35]\u001b[0m, in \u001b[0;36mfunc_2\u001b[1;34m()\u001b[0m\n\u001b[0;32m      8\u001b[0m a \u001b[38;5;241m=\u001b[39m \u001b[38;5;124m\"\u001b[39m\u001b[38;5;124mTom\u001b[39m\u001b[38;5;124m\"\u001b[39m\n\u001b[0;32m      9\u001b[0m b \u001b[38;5;241m=\u001b[39m \u001b[38;5;124m\"\u001b[39m\u001b[38;5;124mJerry\u001b[39m\u001b[38;5;124m\"\u001b[39m\n\u001b[1;32m---> 11\u001b[0m \u001b[38;5;28mprint\u001b[39m(\u001b[43mx\u001b[49m)\n",
      "\u001b[1;31mNameError\u001b[0m: name 'x' is not defined"
     ]
    }
   ],
   "source": [
    "def func_1():\n",
    "    x = 10\n",
    "    y = 20\n",
    "    z = 500\n",
    "    \n",
    "\n",
    "def func_2():\n",
    "    a = \"Tom\"\n",
    "    b = \"Jerry\"\n",
    "    \n",
    "    print(x)\n",
    "    \n",
    "    \n",
    "func_2()"
   ]
  },
  {
   "cell_type": "code",
   "execution_count": 36,
   "id": "d2eabdb4-b950-4433-8c2c-53cc331d7ecb",
   "metadata": {},
   "outputs": [
    {
     "data": {
      "text/plain": [
       "10"
      ]
     },
     "execution_count": 36,
     "metadata": {},
     "output_type": "execute_result"
    }
   ],
   "source": [
    "a"
   ]
  },
  {
   "cell_type": "markdown",
   "id": "558a6b6f-44d6-42e3-af48-1158dba30f8b",
   "metadata": {},
   "source": [
    "To access them outside the function, they must be returned back to the global scope.\n",
    "\n",
    "This allows us to reuse the names for local variables in different functions:"
   ]
  },
  {
   "cell_type": "code",
   "execution_count": 37,
   "id": "4639dcfc-8f58-4cff-86e1-bcd12c141e6c",
   "metadata": {},
   "outputs": [
    {
     "name": "stdout",
     "output_type": "stream",
     "text": [
      "10\n",
      "Tom\n"
     ]
    }
   ],
   "source": [
    "def func_1():\n",
    "    x = 10\n",
    "    y = 20\n",
    "    z = 500\n",
    "    \n",
    "    print(x)\n",
    "    \n",
    "\n",
    "def func_2():\n",
    "    x = \"Tom\"\n",
    "    y = \"Jerry\"\n",
    "    \n",
    "    print(x)\n",
    "    \n",
    "\n",
    "func_1()\n",
    "func_2()"
   ]
  },
  {
   "cell_type": "markdown",
   "id": "f4979ecc-dbdf-4537-9e2f-657f2280aa6b",
   "metadata": {},
   "source": [
    "Variables created outside of a function are **global variables**. They can be accessed inside any function."
   ]
  },
  {
   "cell_type": "code",
   "execution_count": 38,
   "id": "c58fcfd8-68e1-401f-a2df-76d26fae57cc",
   "metadata": {},
   "outputs": [
    {
     "name": "stdout",
     "output_type": "stream",
     "text": [
      "Global variable\n"
     ]
    }
   ],
   "source": [
    "def func_g():\n",
    "    print(g)\n",
    "\n",
    "    \n",
    "g = \"Global variable\"\n",
    "\n",
    "func_g()"
   ]
  },
  {
   "cell_type": "markdown",
   "id": "1a9e7732-be32-4560-bb52-3212780f824a",
   "metadata": {},
   "source": [
    "If you use the same variable name in the global scope as well as a local scope, Python will treat them separately."
   ]
  },
  {
   "cell_type": "code",
   "execution_count": 39,
   "id": "8f3000e5-18d1-4153-ad4a-d631c6e525e5",
   "metadata": {},
   "outputs": [
    {
     "name": "stdout",
     "output_type": "stream",
     "text": [
      "Global scope\n"
     ]
    }
   ],
   "source": [
    "def func_s():\n",
    "    s = \"Local scope\"\n",
    "    print(s)\n",
    "\n",
    "    \n",
    "s = \"Global scope\"\n",
    "print(s)"
   ]
  },
  {
   "cell_type": "code",
   "execution_count": 40,
   "id": "5d7e9759-87c3-443e-b3b1-55ecb9e8ca86",
   "metadata": {},
   "outputs": [
    {
     "name": "stdout",
     "output_type": "stream",
     "text": [
      "Local scope\n"
     ]
    }
   ],
   "source": [
    "func_s()"
   ]
  },
  {
   "cell_type": "code",
   "execution_count": 41,
   "id": "93e22681-eba6-4720-906d-23f1cc31b421",
   "metadata": {},
   "outputs": [
    {
     "data": {
      "text/plain": [
       "'Global scope'"
      ]
     },
     "execution_count": 41,
     "metadata": {},
     "output_type": "execute_result"
    }
   ],
   "source": [
    "s"
   ]
  },
  {
   "cell_type": "markdown",
   "id": "2ef0c1ef-65a9-49e8-84a6-7bed1f1862f7",
   "metadata": {},
   "source": [
    "So it may seem like global variables are \"better\", and there are times when you want to use them, but they can also lead to bugs."
   ]
  },
  {
   "cell_type": "markdown",
   "id": "628b49bd-f4c3-4db2-8326-6408e5a765a7",
   "metadata": {},
   "source": [
    "To create a global variable from a local scope (i.e., within a function), you can use the **`global` keyword** before assigning the variable a value."
   ]
  },
  {
   "cell_type": "code",
   "execution_count": 45,
   "id": "46baed73-4a3e-4a6b-9e9c-50c4347d1886",
   "metadata": {},
   "outputs": [],
   "source": [
    "k = \"Initial value\"\n",
    "\n",
    "def func_k():\n",
    "    global k\n",
    "    k = \"New value from within the function\""
   ]
  },
  {
   "cell_type": "code",
   "execution_count": 46,
   "id": "e226628c-e6c0-4a8c-9201-a08e959c06f9",
   "metadata": {},
   "outputs": [
    {
     "name": "stdout",
     "output_type": "stream",
     "text": [
      "Initial value\n"
     ]
    }
   ],
   "source": [
    "print(k)"
   ]
  },
  {
   "cell_type": "code",
   "execution_count": 47,
   "id": "95f86238-3d27-42e9-9c21-2be9c954dc43",
   "metadata": {},
   "outputs": [
    {
     "name": "stdout",
     "output_type": "stream",
     "text": [
      "New value from within the function\n"
     ]
    }
   ],
   "source": [
    "func_k()   \n",
    "print(k)"
   ]
  },
  {
   "cell_type": "markdown",
   "id": "a8396b98-d032-4060-9cbb-6efe13f41750",
   "metadata": {},
   "source": [
    "You can also use the `global` keywork to change the value of a global variable inside a function."
   ]
  },
  {
   "cell_type": "code",
   "execution_count": 48,
   "id": "e014bd3b-dc83-476f-b84b-10038fc300ce",
   "metadata": {},
   "outputs": [
    {
     "data": {
      "text/plain": [
       "100"
      ]
     },
     "execution_count": 48,
     "metadata": {},
     "output_type": "execute_result"
    }
   ],
   "source": [
    "v = 100\n",
    "\n",
    "def func_v():    \n",
    "    v = 200\n",
    "\n",
    "func_v()\n",
    "v"
   ]
  },
  {
   "cell_type": "code",
   "execution_count": 49,
   "id": "cf97e3f9-7e06-4e73-90e1-80e461272bbf",
   "metadata": {},
   "outputs": [
    {
     "data": {
      "text/plain": [
       "200"
      ]
     },
     "execution_count": 49,
     "metadata": {},
     "output_type": "execute_result"
    }
   ],
   "source": [
    "v = 100\n",
    "\n",
    "def func_v():    \n",
    "    global v\n",
    "    v = 200\n",
    "\n",
    "func_v()\n",
    "v"
   ]
  },
  {
   "cell_type": "markdown",
   "id": "88f911c7-ae58-42fe-a372-32001c0fdc3c",
   "metadata": {
    "jp-MarkdownHeadingCollapsed": true,
    "tags": []
   },
   "source": [
    "## Nested functions"
   ]
  },
  {
   "cell_type": "code",
   "execution_count": 51,
   "id": "3b87b884-ead2-4294-ae38-972a18812eff",
   "metadata": {},
   "outputs": [
    {
     "name": "stdout",
     "output_type": "stream",
     "text": [
      "Hello world\n"
     ]
    }
   ],
   "source": [
    "def outer_function(text):\n",
    "    \n",
    "    def inner_function():\n",
    "        print(text)\n",
    "        \n",
    "        return None\n",
    "    \n",
    "    \n",
    "    text = text.capitalize()\n",
    "    \n",
    "    inner_function()\n",
    "    \n",
    "    \n",
    "outer_function(\"hello world\")"
   ]
  },
  {
   "cell_type": "markdown",
   "id": "c2bc2ac8-3b93-4f63-a1c1-efb29026ceed",
   "metadata": {},
   "source": [
    "Notice that the inner function is able to access local variables from the outer_function, just how an outer function can access variables from the global scope.\n",
    "\n",
    "Also, variables in the inner function do not affect variables in the outer function."
   ]
  },
  {
   "cell_type": "code",
   "execution_count": 52,
   "id": "fef64b2d-89c6-42bb-a4c0-f6a7f54815e9",
   "metadata": {},
   "outputs": [
    {
     "name": "stdout",
     "output_type": "stream",
     "text": [
      "1: 10\n",
      "2: 20\n",
      "3: 10\n"
     ]
    }
   ],
   "source": [
    "def outer_function():\n",
    "    \n",
    "    def inner_function():\n",
    "        v = 20\n",
    "        print(\"2:\", v) \n",
    "        \n",
    "        return None\n",
    "    \n",
    "    v = 10\n",
    "    print(\"1:\", v)\n",
    "    \n",
    "    inner_function()\n",
    "    print(\"3:\", v)\n",
    "    \n",
    "    \n",
    "outer_function()"
   ]
  },
  {
   "cell_type": "markdown",
   "id": "dc4cc712-7561-4a5e-b12a-0b6ab1563c8d",
   "metadata": {},
   "source": [
    "The **`nonlocal` keyword** can be used in a similar way as the `global` keyword, to change the scope of a variable from the inner function to the outerfunction."
   ]
  },
  {
   "cell_type": "code",
   "execution_count": 53,
   "id": "36701d73-92d3-41c1-b6c7-94dc1479970e",
   "metadata": {},
   "outputs": [
    {
     "name": "stdout",
     "output_type": "stream",
     "text": [
      "1: 10\n",
      "2: 20\n",
      "3: 20\n"
     ]
    }
   ],
   "source": [
    "def outer_function():\n",
    "    \n",
    "    def inner_function():\n",
    "        nonlocal v\n",
    "        v = 20\n",
    "        print(\"2:\", v) \n",
    "        \n",
    "        return v\n",
    "    \n",
    "        print(\"THIS\")\n",
    "    \n",
    "    v = 10\n",
    "    print(\"1:\", v)\n",
    "    \n",
    "    new_v = inner_function()\n",
    "    print(\"3:\", v)\n",
    "    \n",
    "    return None\n",
    "    \n",
    "    \n",
    "outer_function()"
   ]
  },
  {
   "cell_type": "markdown",
   "id": "5ddfe80c-f0ea-4374-9f49-1f394dfde5c6",
   "metadata": {},
   "source": [
    "Note that you cannot directly call an inner function from the global scope."
   ]
  },
  {
   "cell_type": "code",
   "execution_count": 54,
   "id": "5de4c7ac-cd9b-4364-8c17-b43e6d62aaf7",
   "metadata": {},
   "outputs": [
    {
     "ename": "NameError",
     "evalue": "name 'inner_function' is not defined",
     "output_type": "error",
     "traceback": [
      "\u001b[1;31m---------------------------------------------------------------------------\u001b[0m",
      "\u001b[1;31mNameError\u001b[0m                                 Traceback (most recent call last)",
      "Input \u001b[1;32mIn [54]\u001b[0m, in \u001b[0;36m<cell line: 1>\u001b[1;34m()\u001b[0m\n\u001b[1;32m----> 1\u001b[0m \u001b[43minner_function\u001b[49m()\n",
      "\u001b[1;31mNameError\u001b[0m: name 'inner_function' is not defined"
     ]
    }
   ],
   "source": [
    "inner_function()"
   ]
  },
  {
   "cell_type": "markdown",
   "id": "787cd377-5539-47f8-8c55-9a88363675ef",
   "metadata": {
    "jp-MarkdownHeadingCollapsed": true,
    "tags": []
   },
   "source": [
    "## First class functions\n",
    "\n",
    "Functions in Python are first class objects."
   ]
  },
  {
   "cell_type": "markdown",
   "id": "5169f7d4-1c63-416a-b2c2-521e58e7a7fb",
   "metadata": {
    "tags": []
   },
   "source": [
    "**A function can be assigned to a variable**\n",
    "\n"
   ]
  },
  {
   "cell_type": "code",
   "execution_count": 55,
   "id": "61835a53-d03a-4b39-aa37-e6d740fd9bbd",
   "metadata": {},
   "outputs": [
    {
     "data": {
      "text/plain": [
       "10"
      ]
     },
     "execution_count": 55,
     "metadata": {},
     "output_type": "execute_result"
    }
   ],
   "source": [
    "def double_number(number):\n",
    "    \n",
    "    return number*2\n",
    "\n",
    "\n",
    "twice = double_number\n",
    "twice(5)    "
   ]
  },
  {
   "cell_type": "markdown",
   "id": "91cf405b-1def-4a56-bc11-bae2cb8492c0",
   "metadata": {},
   "source": [
    "**Functions can be arguments**"
   ]
  },
  {
   "cell_type": "code",
   "execution_count": 56,
   "id": "b544c90d-1942-4f4c-862e-094aa24a5dac",
   "metadata": {},
   "outputs": [],
   "source": [
    "def double_number(number):\n",
    "    \n",
    "    return number*2\n",
    "\n",
    "\n",
    "def square_number(number):\n",
    "    \n",
    "    return number**2\n",
    "\n",
    "\n",
    "def do_math(func, number):\n",
    "    \n",
    "    return func(number)"
   ]
  },
  {
   "cell_type": "code",
   "execution_count": 57,
   "id": "effa74f7-5d87-47e5-b9b1-9c64e64696c1",
   "metadata": {},
   "outputs": [
    {
     "data": {
      "text/plain": [
       "14"
      ]
     },
     "execution_count": 57,
     "metadata": {},
     "output_type": "execute_result"
    }
   ],
   "source": [
    "do_math(double_number, 7)"
   ]
  },
  {
   "cell_type": "code",
   "execution_count": 58,
   "id": "64f81eb3-2844-431e-9120-32319af2bc19",
   "metadata": {},
   "outputs": [
    {
     "data": {
      "text/plain": [
       "49"
      ]
     },
     "execution_count": 58,
     "metadata": {},
     "output_type": "execute_result"
    }
   ],
   "source": [
    "do_math(square_number, 7)"
   ]
  },
  {
   "cell_type": "markdown",
   "id": "af9cd08c-6430-476d-beb7-b5fb231d40c8",
   "metadata": {},
   "source": [
    "**Functions can return functions**"
   ]
  },
  {
   "cell_type": "code",
   "execution_count": 59,
   "id": "37572773-5ec7-45ef-8916-3ba358f93f1c",
   "metadata": {},
   "outputs": [],
   "source": [
    "def create_multiplier(num_1):\n",
    "    \n",
    "    def multiplier(num_2):\n",
    "        \n",
    "        return num_1*num_2\n",
    "    \n",
    "    \n",
    "    return multiplier"
   ]
  },
  {
   "cell_type": "code",
   "execution_count": 61,
   "id": "738e9f42-ed22-4a74-8a87-a0e23e6c42a4",
   "metadata": {},
   "outputs": [
    {
     "data": {
      "text/plain": [
       "400"
      ]
     },
     "execution_count": 61,
     "metadata": {},
     "output_type": "execute_result"
    }
   ],
   "source": [
    "doubler = create_multiplier(2)\n",
    "doubler(200)"
   ]
  },
  {
   "cell_type": "code",
   "execution_count": 62,
   "id": "4cc2684d-a41d-46f3-905a-278a5a5e2596",
   "metadata": {},
   "outputs": [
    {
     "data": {
      "text/plain": [
       "150"
      ]
     },
     "execution_count": 62,
     "metadata": {},
     "output_type": "execute_result"
    }
   ],
   "source": [
    "tripler = create_multiplier(3)\n",
    "tripler(50)"
   ]
  },
  {
   "cell_type": "markdown",
   "id": "3271a269-bddc-4ea1-a38b-bd7ddd21897f",
   "metadata": {
    "jp-MarkdownHeadingCollapsed": true,
    "tags": []
   },
   "source": [
    "## Functional programming"
   ]
  },
  {
   "cell_type": "markdown",
   "id": "bef06d59-eaf0-4bcb-9247-f29d40f67fc8",
   "metadata": {
    "jp-MarkdownHeadingCollapsed": true,
    "tags": []
   },
   "source": [
    "### `map`"
   ]
  },
  {
   "cell_type": "markdown",
   "id": "37bf6192-89d2-4a70-a3d7-105f3cfc047d",
   "metadata": {},
   "source": [
    "**Apply a function to every item in an iterable (list, tuple, etc.)**\n",
    "\n",
    "The following list comprehension:"
   ]
  },
  {
   "cell_type": "code",
   "execution_count": 63,
   "id": "cda52cf5-e44e-485e-9497-a065d87e8e17",
   "metadata": {},
   "outputs": [
    {
     "data": {
      "text/plain": [
       "[20, 40, 60, 80, 100]"
      ]
     },
     "execution_count": 63,
     "metadata": {},
     "output_type": "execute_result"
    }
   ],
   "source": [
    "numbers = [10, 20, 30, 40, 50]\n",
    "[number*2 for number in numbers]"
   ]
  },
  {
   "cell_type": "markdown",
   "id": "b9a68019-8629-4456-8ac8-961012b5fff1",
   "metadata": {},
   "source": [
    "can also be achived using `map`:"
   ]
  },
  {
   "cell_type": "code",
   "execution_count": 64,
   "id": "073a9c82-17c8-48f0-bb3b-dd74de9645d6",
   "metadata": {},
   "outputs": [
    {
     "data": {
      "text/plain": [
       "<map at 0x1ca6fe5e130>"
      ]
     },
     "execution_count": 64,
     "metadata": {},
     "output_type": "execute_result"
    }
   ],
   "source": [
    "def double_numbers(x):\n",
    "    \n",
    "    return x*2\n",
    "\n",
    "numbers = [10, 20, 30, 40, 50]\n",
    "doubled = map(double_numbers, numbers)\n",
    "doubled"
   ]
  },
  {
   "cell_type": "markdown",
   "id": "8a08caef-23c5-44d0-9941-033e04723957",
   "metadata": {},
   "source": [
    "As seen above, this creates a `map` object. To obtain the result as a list, you can use the `list` constructor."
   ]
  },
  {
   "cell_type": "code",
   "execution_count": 65,
   "id": "c742b685-a5e5-4059-89ee-f684e9cdf413",
   "metadata": {},
   "outputs": [
    {
     "data": {
      "text/plain": [
       "[20, 40, 60, 80, 100]"
      ]
     },
     "execution_count": 65,
     "metadata": {},
     "output_type": "execute_result"
    }
   ],
   "source": [
    "list(doubled)"
   ]
  },
  {
   "cell_type": "markdown",
   "id": "cb7523db-3bf1-47e8-b44e-6ff6ed6566d1",
   "metadata": {},
   "source": [
    "You can use lambda functions for shorter syntax, where applicable:"
   ]
  },
  {
   "cell_type": "code",
   "execution_count": 66,
   "id": "77438d9b-7c4f-4402-a6f6-c495afcd7d5b",
   "metadata": {},
   "outputs": [
    {
     "data": {
      "text/plain": [
       "[100, 400, 900, 1600, 2500]"
      ]
     },
     "execution_count": 66,
     "metadata": {},
     "output_type": "execute_result"
    }
   ],
   "source": [
    "# Square every number in the list\n",
    "list(map(lambda x: x**2, numbers))"
   ]
  },
  {
   "cell_type": "markdown",
   "id": "4b6a8db4-faec-4559-a40f-f93e04b890b9",
   "metadata": {
    "jp-MarkdownHeadingCollapsed": true,
    "tags": []
   },
   "source": [
    "### `filter`"
   ]
  },
  {
   "cell_type": "markdown",
   "id": "defa7ffe-e21e-4724-bbc9-a5683a237ec9",
   "metadata": {},
   "source": [
    "**Filter items in an iterable which satisfy a condition**\n",
    "\n",
    "The following example of imperative/procedural programming:"
   ]
  },
  {
   "cell_type": "code",
   "execution_count": 67,
   "id": "7f4de2c3-59da-4c2d-b0fc-cbdd64b62f78",
   "metadata": {},
   "outputs": [
    {
     "data": {
      "text/plain": [
       "[2, 4, 6, 8]"
      ]
     },
     "execution_count": 67,
     "metadata": {},
     "output_type": "execute_result"
    }
   ],
   "source": [
    "numbers = range(1,10)\n",
    "\n",
    "even_numbers = []\n",
    "for number in numbers:\n",
    "    if number % 2 == 0:\n",
    "        even_numbers.append(number)\n",
    "        \n",
    "even_numbers"
   ]
  },
  {
   "cell_type": "markdown",
   "id": "546411fa-26a8-40f5-91b1-249dee9cee42",
   "metadata": {},
   "source": [
    "can also be achieved with functional programming using `filter`:"
   ]
  },
  {
   "cell_type": "code",
   "execution_count": 68,
   "id": "10c7a321-1e9e-405e-b108-7fc883a17d3e",
   "metadata": {},
   "outputs": [
    {
     "data": {
      "text/plain": [
       "<filter at 0x1ca6fe5e850>"
      ]
     },
     "execution_count": 68,
     "metadata": {},
     "output_type": "execute_result"
    }
   ],
   "source": [
    "def is_even(number):\n",
    "    \n",
    "    return number % 2 == 0\n",
    "\n",
    "\n",
    "numbers = range(1,10)\n",
    "even_numbers = filter(is_even, numbers)\n",
    "even_numbers"
   ]
  },
  {
   "cell_type": "code",
   "execution_count": 69,
   "id": "1d1f4abc-f68a-42b9-9c81-86a5533b3953",
   "metadata": {},
   "outputs": [
    {
     "data": {
      "text/plain": [
       "[2, 4, 6, 8]"
      ]
     },
     "execution_count": 69,
     "metadata": {},
     "output_type": "execute_result"
    }
   ],
   "source": [
    "list(even_numbers)"
   ]
  },
  {
   "cell_type": "markdown",
   "id": "ff43e1f9-a758-427e-9585-c0a17afa3e96",
   "metadata": {},
   "source": [
    "Or as a lambda function:"
   ]
  },
  {
   "cell_type": "code",
   "execution_count": 70,
   "id": "5dccf0e2-3efc-40f4-9e88-573ec33dbe56",
   "metadata": {},
   "outputs": [
    {
     "data": {
      "text/plain": [
       "[1, 3, 5, 7, 9]"
      ]
     },
     "execution_count": 70,
     "metadata": {},
     "output_type": "execute_result"
    }
   ],
   "source": [
    "# Extract only odd numbers in the list\n",
    "list(filter(lambda x: x % 2 != 0, numbers))"
   ]
  },
  {
   "cell_type": "markdown",
   "id": "9bf1647e-55bc-43a8-bb0c-5829ece0f0a1",
   "metadata": {
    "jp-MarkdownHeadingCollapsed": true,
    "tags": []
   },
   "source": [
    "### `reduce`"
   ]
  },
  {
   "cell_type": "markdown",
   "id": "770a30d0-6d75-4ab0-9813-0ac81d07529d",
   "metadata": {},
   "source": [
    "**Return a single value by applying a function prgressively to every item in the list, working in pairs**\n",
    "\n",
    "`reduce` is not a built-in function, and must be imported from the `functools` module in the standard library.\n",
    "\n",
    "(Modules, imports and the standard library will be covered in the next class)"
   ]
  },
  {
   "cell_type": "code",
   "execution_count": 71,
   "id": "5ed7c363-fbc1-4b36-b4c7-cc7e068d1bd1",
   "metadata": {},
   "outputs": [
    {
     "data": {
      "text/plain": [
       "120"
      ]
     },
     "execution_count": 71,
     "metadata": {},
     "output_type": "execute_result"
    }
   ],
   "source": [
    "import functools\n",
    "\n",
    "def multiply_numbers(x, y):\n",
    "    \n",
    "    return x * y\n",
    "\n",
    "# Calculate 5!\n",
    "numbers = range(1,6)\n",
    "total = functools.reduce(multiply_numbers, numbers)\n",
    "total"
   ]
  },
  {
   "cell_type": "markdown",
   "id": "df879600-2144-4f41-ba5e-b51ee8e2ca87",
   "metadata": {},
   "source": [
    "Once again, we can use a lambda function:"
   ]
  },
  {
   "cell_type": "code",
   "execution_count": 72,
   "id": "d074d373-d10d-40cb-b0e6-33cacea3f8f2",
   "metadata": {},
   "outputs": [
    {
     "data": {
      "text/plain": [
       "120"
      ]
     },
     "execution_count": 72,
     "metadata": {},
     "output_type": "execute_result"
    }
   ],
   "source": [
    "functools.reduce(lambda x, y: x*y, numbers)"
   ]
  },
  {
   "cell_type": "markdown",
   "id": "0014092c-ca22-4646-b57b-83288e381def",
   "metadata": {},
   "source": [
    "For completeness, this is how you would do this with imperative/procedural programming:"
   ]
  },
  {
   "cell_type": "code",
   "execution_count": 75,
   "id": "d9c7dd52-3b55-41ca-96cd-85c17ad7d6ae",
   "metadata": {},
   "outputs": [
    {
     "name": "stdout",
     "output_type": "stream",
     "text": [
      "1\n",
      "2\n",
      "6\n",
      "24\n",
      "120\n"
     ]
    },
    {
     "data": {
      "text/plain": [
       "120"
      ]
     },
     "execution_count": 75,
     "metadata": {},
     "output_type": "execute_result"
    }
   ],
   "source": [
    "numbers = range(1,6)\n",
    "\n",
    "product = 1\n",
    "for number in numbers:\n",
    "    product *= number\n",
    "    print(product)\n",
    "\n",
    "    \n",
    "product"
   ]
  },
  {
   "cell_type": "code",
   "execution_count": null,
   "id": "91d08042-158b-49a2-98ef-b53d39e20792",
   "metadata": {},
   "outputs": [],
   "source": []
  }
 ],
 "metadata": {
  "citation-manager": {
   "items": {}
  },
  "kernelspec": {
   "display_name": "Python 3 (ipykernel)",
   "language": "python",
   "name": "python3"
  },
  "language_info": {
   "codemirror_mode": {
    "name": "ipython",
    "version": 3
   },
   "file_extension": ".py",
   "mimetype": "text/x-python",
   "name": "python",
   "nbconvert_exporter": "python",
   "pygments_lexer": "ipython3",
   "version": "3.9.12"
  }
 },
 "nbformat": 4,
 "nbformat_minor": 5
}
