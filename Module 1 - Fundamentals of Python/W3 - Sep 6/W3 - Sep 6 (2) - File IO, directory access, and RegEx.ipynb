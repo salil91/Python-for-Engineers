{
 "cells": [
  {
   "cell_type": "markdown",
   "id": "e0a6671d-ec46-407c-8c44-8d10b1763980",
   "metadata": {},
   "source": [
    "# Week 3 - September 6"
   ]
  },
  {
   "cell_type": "markdown",
   "id": "2e024bef-3aa4-4962-83b3-707adaa79369",
   "metadata": {
    "tags": []
   },
   "source": [
    "# Scripts, modules, packages, libraries\n",
    "No Jupyter notebook for this class. All demonstrations were done in Spyder (see video)."
   ]
  },
  {
   "cell_type": "markdown",
   "id": "63a72aee-3314-4548-af6b-05006097b543",
   "metadata": {},
   "source": [
    "## Recap:\n",
    "\n",
    "- A **script** is a `.py` file with a sequence of instructions that are executed each time the script is called.\n",
    "- A **module** is a collection of related code (variables, functions, classes) saved in a `.py` file that can be imported and re-used.\n",
    "- A **package** is a directory of a collection of related modules. Each package (or subpackage) must have an `__init.py__` file.\n",
    "- A **library** is a collection  of packages, but is often also used interchangably with package, or as an umbrella term for reusable code.\n",
    "\n",
    "You can `import` from the Python Standard Library, installed third-party libraries, or from your own user-defined modules/pakages. You can also publish your packages to online repositories so others can use them.\n",
    "\n",
    "***Remember:***\n",
    "- Sets of instructions that are called several times should be written inside for better code reusability.\n",
    "- Functions (or other bits of code) that are called from several scripts should be written inside a module, so that only the module is imported in the different scripts (do not copy-and-paste your functions in the different scripts!)."
   ]
  },
  {
   "cell_type": "markdown",
   "id": "c00ec1e2-a6fa-44b7-ba45-d7e0f703795e",
   "metadata": {
    "tags": []
   },
   "source": [
    "# File I/O, Directory access, and RegEX"
   ]
  },
  {
   "cell_type": "markdown",
   "id": "0e4aebec-d5eb-42eb-ba37-2d6e029664c0",
   "metadata": {
    "tags": []
   },
   "source": [
    "## Opening files\n",
    "\n",
    "Modes:\n",
    "- Read-only: `r` (default)\n",
    "- Write-only: `w` (create a new file or overwrite existing file)\n",
    "- Append a file: `a`\n",
    "- Read and write: `r+`\n",
    "- Binary mode: `b`"
   ]
  },
  {
   "cell_type": "code",
   "execution_count": 1,
   "id": "38eaafb9-0abd-42d9-86fb-b11b615250a8",
   "metadata": {},
   "outputs": [],
   "source": [
    "f = open(\"lorem_ipsum.txt\", \"r\")"
   ]
  },
  {
   "cell_type": "code",
   "execution_count": 2,
   "id": "99c95718-ad38-4e5f-9c60-d231593e91b4",
   "metadata": {},
   "outputs": [
    {
     "data": {
      "text/plain": [
       "'Lorem ipsum dolor sit amet,\\nconsectetur adipiscing elit,\\nsed do eiusmod tempor incididunt ut labore et dolore magna aliqua.'"
      ]
     },
     "execution_count": 2,
     "metadata": {},
     "output_type": "execute_result"
    }
   ],
   "source": [
    "text = f.read()\n",
    "f.close()\n",
    "\n",
    "text"
   ]
  },
  {
   "cell_type": "markdown",
   "id": "4c0282c0-8462-4ed9-bbd2-b5cd2ec4d657",
   "metadata": {},
   "source": [
    "***Important:*** Files must be closed!\n",
    "\n",
    "**Iterating over a file**"
   ]
  },
  {
   "cell_type": "code",
   "execution_count": 3,
   "id": "e2f571b1-af6a-41b4-9be6-ee628b4f03a8",
   "metadata": {},
   "outputs": [
    {
     "name": "stdout",
     "output_type": "stream",
     "text": [
      "Lorem ipsum dolor sit amet,\n",
      "\n",
      "consectetur adipiscing elit,\n",
      "\n",
      "sed do eiusmod tempor incididunt ut labore et dolore magna aliqua.\n"
     ]
    }
   ],
   "source": [
    "f = open(\"lorem_ipsum.txt\")\n",
    "for line in f:\n",
    "    print(line)\n",
    "f.close()"
   ]
  },
  {
   "cell_type": "markdown",
   "id": "a2a11641-3557-4d4a-9058-9e8024d40ad6",
   "metadata": {},
   "source": [
    "**Preferable: using a context manager**"
   ]
  },
  {
   "cell_type": "markdown",
   "id": "443fc7a6-76b3-4cc5-8330-6db4064630c0",
   "metadata": {},
   "source": [
    "The file is automatically closed after exiting out of the context manager."
   ]
  },
  {
   "cell_type": "code",
   "execution_count": 1,
   "id": "936249aa-0c6e-4ef8-94ea-47c116419dce",
   "metadata": {},
   "outputs": [
    {
     "name": "stdout",
     "output_type": "stream",
     "text": [
      "Lorem ipsum dolor sit amet,\n",
      "\n",
      "consectetur adipiscing elit,\n",
      "\n",
      "sed do eiusmod tempor incididunt ut labore et dolore magna aliqua.\n"
     ]
    },
    {
     "data": {
      "text/plain": [
       "<_io.TextIOWrapper name='lorem_ipsum.txt' mode='r' encoding='cp1252'>"
      ]
     },
     "execution_count": 1,
     "metadata": {},
     "output_type": "execute_result"
    }
   ],
   "source": [
    "with open(\"lorem_ipsum.txt\", \"r\") as f:\n",
    "    for line in f:\n",
    "        print(line)\n",
    "        \n",
    "f"
   ]
  },
  {
   "cell_type": "markdown",
   "id": "fc3844b0-a8f2-4aba-8e3d-f52d15e454ac",
   "metadata": {},
   "source": [
    "To obtain each line in a list:"
   ]
  },
  {
   "cell_type": "code",
   "execution_count": 2,
   "id": "72b786ba-34b9-4d34-91b1-d9a04b155c0b",
   "metadata": {},
   "outputs": [
    {
     "data": {
      "text/plain": [
       "['Lorem ipsum dolor sit amet,\\n',\n",
       " 'consectetur adipiscing elit,\\n',\n",
       " 'sed do eiusmod tempor incididunt ut labore et dolore magna aliqua.']"
      ]
     },
     "execution_count": 2,
     "metadata": {},
     "output_type": "execute_result"
    }
   ],
   "source": [
    "with open(\"lorem_ipsum.txt\", \"r\") as f:\n",
    "    lines = f.readlines()\n",
    "lines"
   ]
  },
  {
   "cell_type": "markdown",
   "id": "7942632e-3490-4c59-b37a-9e6b233bdb6e",
   "metadata": {},
   "source": [
    "Without the newline (\\n) character:"
   ]
  },
  {
   "cell_type": "code",
   "execution_count": 3,
   "id": "fd4832b8-ea40-4d9c-ba42-c40c0beddc4b",
   "metadata": {},
   "outputs": [
    {
     "data": {
      "text/plain": [
       "['Lorem ipsum dolor sit amet,',\n",
       " 'consectetur adipiscing elit,',\n",
       " 'sed do eiusmod tempor incididunt ut labore et dolore magna aliqua.']"
      ]
     },
     "execution_count": 3,
     "metadata": {},
     "output_type": "execute_result"
    }
   ],
   "source": [
    "with open(\"lorem_ipsum.txt\", \"r\") as f:\n",
    "    lines = f.read().splitlines()\n",
    "lines"
   ]
  },
  {
   "cell_type": "markdown",
   "id": "1ec13119-3f3c-45fd-aeff-183aa381064a",
   "metadata": {},
   "source": [
    "Or more precisely:"
   ]
  },
  {
   "cell_type": "code",
   "execution_count": 5,
   "id": "f1e6cb14-1e82-4615-a42a-1b179367f751",
   "metadata": {},
   "outputs": [
    {
     "data": {
      "text/plain": [
       "['Lorem ipsum dolor sit amet,',\n",
       " 'consectetur adipiscing elit,',\n",
       " 'sed do eiusmod tempor incididunt ut labore et dolore magna aliqua.']"
      ]
     },
     "execution_count": 5,
     "metadata": {},
     "output_type": "execute_result"
    }
   ],
   "source": [
    "with open(\"lorem_ipsum.txt\", \"r\") as f:\n",
    "    lines = f.read().split(\"\\n\")\n",
    "lines"
   ]
  },
  {
   "cell_type": "markdown",
   "id": "d5133587-896a-476c-a41b-ab2ffe5969f0",
   "metadata": {},
   "source": [
    "**Writing to file:**"
   ]
  },
  {
   "cell_type": "code",
   "execution_count": 6,
   "id": "5121c09e-4b9e-4ada-bff7-4e98aaf0729c",
   "metadata": {},
   "outputs": [],
   "source": [
    "with open(\"hello.txt\", \"w\") as f:\n",
    "    f.write(\"Hello world!\")"
   ]
  },
  {
   "cell_type": "markdown",
   "id": "83433f80-25ac-4bb3-98f4-7b9af874a714",
   "metadata": {
    "tags": []
   },
   "source": [
    "### CSV files"
   ]
  },
  {
   "cell_type": "markdown",
   "id": "fb9fbbf6-f4e1-4225-b217-31e8c30229a3",
   "metadata": {},
   "source": [
    "**Reading CSV files**"
   ]
  },
  {
   "cell_type": "code",
   "execution_count": 7,
   "id": "0ce0fe36-99df-4bdf-a5bf-758fb7bce263",
   "metadata": {},
   "outputs": [
    {
     "data": {
      "text/plain": [
       "[{'Name': 'Arsenal', 'City': 'London', 'Stadium': 'Emirates Stadium'},\n",
       " {'Name': 'Manchester City',\n",
       "  'City': 'Manchester',\n",
       "  'Stadium': 'City of Manchester Stadium'},\n",
       " {'Name': 'Tottenham Hotspur', 'City': 'London', 'Stadium': 'Hotspur Stadium'},\n",
       " {'Name': 'Brighton and Hove Albion',\n",
       "  'City': 'Brighton',\n",
       "  'Stadium': 'Falmer Stadium'},\n",
       " {'Name': 'Chelsea', 'City': 'London', 'Stadium': 'Stamford Bridge'}]"
      ]
     },
     "execution_count": 7,
     "metadata": {},
     "output_type": "execute_result"
    }
   ],
   "source": [
    "import csv\n",
    "\n",
    "teams = []\n",
    "\n",
    "with open(\"teams.csv\", \"r\") as csvfile:\n",
    "    reader = csv.DictReader(csvfile)\n",
    "    for row in reader:\n",
    "        teams.append({\"Name\": row[\"name\"], \"City\": row[\"city\"], \"Stadium\": row[\"stadium\"]})\n",
    "\n",
    "teams"
   ]
  },
  {
   "cell_type": "code",
   "execution_count": 8,
   "id": "ca13e6c2-a4d2-4012-9ef7-d1a051175922",
   "metadata": {},
   "outputs": [
    {
     "name": "stdout",
     "output_type": "stream",
     "text": [
      "Arsenal play at the Emirates Stadium in London\n",
      "Brighton and Hove Albion play at the Falmer Stadium in Brighton\n",
      "Chelsea play at the Stamford Bridge in London\n",
      "Manchester City play at the City of Manchester Stadium in Manchester\n",
      "Tottenham Hotspur play at the Hotspur Stadium in London\n"
     ]
    }
   ],
   "source": [
    "for team in sorted(teams, key=lambda team: team[\"Name\"]):\n",
    "    print(f\"{team['Name']} play at the {team['Stadium']} in {team['City']}\")"
   ]
  },
  {
   "cell_type": "markdown",
   "id": "3d771046-87e8-48c4-89e9-ae835b40a39f",
   "metadata": {},
   "source": [
    "**Writing CSV files**"
   ]
  },
  {
   "cell_type": "code",
   "execution_count": 17,
   "id": "d8725a79-a783-4fac-8521-312811506309",
   "metadata": {},
   "outputs": [],
   "source": [
    "first_name = \"Salil\"\n",
    "last_name = \"Bavdekar\"\n",
    "course = \"Python for Engineers\"\n",
    "\n",
    "with open(\"instructors.csv\", \"w\") as csvfile:\n",
    "    writer = csv.DictWriter(csvfile, fieldnames=[\"first name\", \"last name\", \"course\"])\n",
    "    writer.writerow({\"first name\": first_name, \"last name\": last_name, \"course\": course})"
   ]
  },
  {
   "cell_type": "markdown",
   "id": "ef6de471-370d-4160-a408-3a6322c2b935",
   "metadata": {
    "tags": []
   },
   "source": [
    "## Directory access with `pathlib`"
   ]
  },
  {
   "cell_type": "code",
   "execution_count": 18,
   "id": "3726bb23-5576-479f-a39c-b0011ff76d39",
   "metadata": {},
   "outputs": [
    {
     "data": {
      "text/plain": [
       "WindowsPath('C:/Users/salil.bavdekar/OneDrive - University of Florida/Courses/TA Courses/Python for Engineers/Class notebooks/W3 - Sep 6')"
      ]
     },
     "execution_count": 18,
     "metadata": {},
     "output_type": "execute_result"
    }
   ],
   "source": [
    "from pathlib import Path\n",
    "\n",
    "Path.cwd()"
   ]
  },
  {
   "cell_type": "code",
   "execution_count": 19,
   "id": "dffd4a4b-d999-4537-9e1e-748fd6c6e90f",
   "metadata": {},
   "outputs": [
    {
     "data": {
      "text/plain": [
       "WindowsPath('C:/Users/salil.bavdekar/OneDrive - University of Florida/Courses/TA Courses/Python for Engineers/Class notebooks/W3 - Sep 6/data')"
      ]
     },
     "execution_count": 19,
     "metadata": {},
     "output_type": "execute_result"
    }
   ],
   "source": [
    "data_dir  = Path.cwd() / \"data\"\n",
    "data_dir"
   ]
  },
  {
   "cell_type": "code",
   "execution_count": 20,
   "id": "20808254-b4f3-4d04-9f24-93637bd03f24",
   "metadata": {},
   "outputs": [
    {
     "data": {
      "text/plain": [
       "WindowsPath('C:/Users/salil.bavdekar/OneDrive - University of Florida/Courses/TA Courses/Python for Engineers/Class notebooks/W3 - Sep 6/data/date.txt')"
      ]
     },
     "execution_count": 20,
     "metadata": {},
     "output_type": "execute_result"
    }
   ],
   "source": [
    "config_file = data_dir / \"date.txt\"\n",
    "config_file"
   ]
  },
  {
   "cell_type": "code",
   "execution_count": 21,
   "id": "d2347ce1-8fb2-47ae-940a-f2e7fe99d623",
   "metadata": {},
   "outputs": [
    {
     "name": "stdout",
     "output_type": "stream",
     "text": [
      "Date = 09/06/2022\n",
      "Day = Tuesday\n"
     ]
    }
   ],
   "source": [
    "with open(config_file) as f:\n",
    "    print(f.read())"
   ]
  },
  {
   "cell_type": "markdown",
   "id": "27dc6a93-4501-4128-85eb-c151d9571e72",
   "metadata": {},
   "source": [
    "Path objects also have `read_text()` and `write_text()` methods"
   ]
  },
  {
   "cell_type": "code",
   "execution_count": 22,
   "id": "bb571e90-a711-4f00-bf19-40518a19257c",
   "metadata": {},
   "outputs": [
    {
     "data": {
      "text/plain": [
       "'Date = 09/06/2022\\nDay = Tuesday'"
      ]
     },
     "execution_count": 22,
     "metadata": {},
     "output_type": "execute_result"
    }
   ],
   "source": [
    "config_file.read_text()"
   ]
  },
  {
   "cell_type": "markdown",
   "id": "13b915d8-865a-4e32-877e-514d34a5c27f",
   "metadata": {},
   "source": [
    "**Various parameters can be extracted from the Path object**"
   ]
  },
  {
   "cell_type": "code",
   "execution_count": 23,
   "id": "34a03771-09a8-488e-91b9-e7e5036d9fa4",
   "metadata": {},
   "outputs": [
    {
     "data": {
      "text/plain": [
       "'date.txt'"
      ]
     },
     "execution_count": 23,
     "metadata": {},
     "output_type": "execute_result"
    }
   ],
   "source": [
    "config_file.name"
   ]
  },
  {
   "cell_type": "code",
   "execution_count": 24,
   "id": "2b10f6a0-bd64-4c71-bbe5-c63726ac5b69",
   "metadata": {},
   "outputs": [
    {
     "data": {
      "text/plain": [
       "'date'"
      ]
     },
     "execution_count": 24,
     "metadata": {},
     "output_type": "execute_result"
    }
   ],
   "source": [
    "config_file.stem"
   ]
  },
  {
   "cell_type": "code",
   "execution_count": 25,
   "id": "48fa6381-527c-429d-9e63-894fcf09f42a",
   "metadata": {},
   "outputs": [
    {
     "data": {
      "text/plain": [
       "'.txt'"
      ]
     },
     "execution_count": 25,
     "metadata": {},
     "output_type": "execute_result"
    }
   ],
   "source": [
    "config_file.suffix"
   ]
  },
  {
   "cell_type": "code",
   "execution_count": 26,
   "id": "44582348-95dd-4e18-93b7-eec750458db2",
   "metadata": {},
   "outputs": [
    {
     "data": {
      "text/plain": [
       "WindowsPath('C:/Users/salil.bavdekar/OneDrive - University of Florida/Courses/TA Courses/Python for Engineers/Class notebooks/W3 - Sep 6/data')"
      ]
     },
     "execution_count": 26,
     "metadata": {},
     "output_type": "execute_result"
    }
   ],
   "source": [
    "config_file.parent"
   ]
  },
  {
   "cell_type": "code",
   "execution_count": 29,
   "id": "8e848f27-0bb9-409b-a135-c89ec8642b28",
   "metadata": {},
   "outputs": [
    {
     "data": {
      "text/plain": [
       "[WindowsPath('C:/Users/salil.bavdekar/OneDrive - University of Florida/Courses/TA Courses/Python for Engineers/Class notebooks/W3 - Sep 6/data'),\n",
       " WindowsPath('C:/Users/salil.bavdekar/OneDrive - University of Florida/Courses/TA Courses/Python for Engineers/Class notebooks/W3 - Sep 6'),\n",
       " WindowsPath('C:/Users/salil.bavdekar/OneDrive - University of Florida/Courses/TA Courses/Python for Engineers/Class notebooks'),\n",
       " WindowsPath('C:/Users/salil.bavdekar/OneDrive - University of Florida/Courses/TA Courses/Python for Engineers'),\n",
       " WindowsPath('C:/Users/salil.bavdekar/OneDrive - University of Florida/Courses/TA Courses'),\n",
       " WindowsPath('C:/Users/salil.bavdekar/OneDrive - University of Florida/Courses'),\n",
       " WindowsPath('C:/Users/salil.bavdekar/OneDrive - University of Florida'),\n",
       " WindowsPath('C:/Users/salil.bavdekar'),\n",
       " WindowsPath('C:/Users'),\n",
       " WindowsPath('C:/')]"
      ]
     },
     "execution_count": 29,
     "metadata": {},
     "output_type": "execute_result"
    }
   ],
   "source": [
    "parents = config_file.parents\n",
    "list(parents)"
   ]
  },
  {
   "cell_type": "code",
   "execution_count": 30,
   "id": "262392c7-cb6d-4646-ab87-4a24e2a89c15",
   "metadata": {},
   "outputs": [
    {
     "data": {
      "text/plain": [
       "False"
      ]
     },
     "execution_count": 30,
     "metadata": {},
     "output_type": "execute_result"
    }
   ],
   "source": [
    "config_file.is_dir()"
   ]
  },
  {
   "cell_type": "code",
   "execution_count": 31,
   "id": "08c7c1f6-1b37-404b-a2f1-c730d6456f52",
   "metadata": {},
   "outputs": [
    {
     "data": {
      "text/plain": [
       "True"
      ]
     },
     "execution_count": 31,
     "metadata": {},
     "output_type": "execute_result"
    }
   ],
   "source": [
    "data_dir.is_dir()"
   ]
  },
  {
   "cell_type": "markdown",
   "id": "b15af1e2-cfa3-4a33-9343-effd6ab2cd84",
   "metadata": {},
   "source": [
    "**Path objects can be used to iterate over files**"
   ]
  },
  {
   "cell_type": "code",
   "execution_count": 32,
   "id": "b891ccbd-88f3-44c9-aea3-1962e443ad05",
   "metadata": {},
   "outputs": [
    {
     "data": {
      "text/plain": [
       "[WindowsPath('C:/Users/salil.bavdekar/OneDrive - University of Florida/Courses/TA Courses/Python for Engineers/Class notebooks/W3 - Sep 6/data/.ipynb_checkpoints'),\n",
       " WindowsPath('C:/Users/salil.bavdekar/OneDrive - University of Florida/Courses/TA Courses/Python for Engineers/Class notebooks/W3 - Sep 6/data/date.txt'),\n",
       " WindowsPath('C:/Users/salil.bavdekar/OneDrive - University of Florida/Courses/TA Courses/Python for Engineers/Class notebooks/W3 - Sep 6/data/extra'),\n",
       " WindowsPath('C:/Users/salil.bavdekar/OneDrive - University of Florida/Courses/TA Courses/Python for Engineers/Class notebooks/W3 - Sep 6/data/name.txt'),\n",
       " WindowsPath('C:/Users/salil.bavdekar/OneDrive - University of Florida/Courses/TA Courses/Python for Engineers/Class notebooks/W3 - Sep 6/data/sub_1'),\n",
       " WindowsPath('C:/Users/salil.bavdekar/OneDrive - University of Florida/Courses/TA Courses/Python for Engineers/Class notebooks/W3 - Sep 6/data/sub_2')]"
      ]
     },
     "execution_count": 32,
     "metadata": {},
     "output_type": "execute_result"
    }
   ],
   "source": [
    "list(data_dir.iterdir())"
   ]
  },
  {
   "cell_type": "markdown",
   "id": "5f38e77d-597b-4466-8c48-32d1bef83b94",
   "metadata": {},
   "source": [
    "Using some list comprehension, we can obtain a list of subdirectories"
   ]
  },
  {
   "cell_type": "code",
   "execution_count": 33,
   "id": "7719526e-dded-409a-ac73-1a9559dbf079",
   "metadata": {},
   "outputs": [
    {
     "data": {
      "text/plain": [
       "[WindowsPath('C:/Users/salil.bavdekar/OneDrive - University of Florida/Courses/TA Courses/Python for Engineers/Class notebooks/W3 - Sep 6/data/.ipynb_checkpoints'),\n",
       " WindowsPath('C:/Users/salil.bavdekar/OneDrive - University of Florida/Courses/TA Courses/Python for Engineers/Class notebooks/W3 - Sep 6/data/extra'),\n",
       " WindowsPath('C:/Users/salil.bavdekar/OneDrive - University of Florida/Courses/TA Courses/Python for Engineers/Class notebooks/W3 - Sep 6/data/sub_1'),\n",
       " WindowsPath('C:/Users/salil.bavdekar/OneDrive - University of Florida/Courses/TA Courses/Python for Engineers/Class notebooks/W3 - Sep 6/data/sub_2')]"
      ]
     },
     "execution_count": 33,
     "metadata": {},
     "output_type": "execute_result"
    }
   ],
   "source": [
    "[d for d in data_dir.iterdir() if d.is_dir()]"
   ]
  },
  {
   "cell_type": "markdown",
   "id": "d1dcef83-7ef5-42f1-9a39-86eaa11d9e62",
   "metadata": {
    "tags": []
   },
   "source": [
    "**Pattern matching with `glob`**\n",
    "\n",
    "`glob` is a Python package that finds all the pathnames matching a specified pattern according to the rules used by the Unix shell.\n",
    "\n",
    "`Path` objects also have a `glob` method that does the same thing."
   ]
  },
  {
   "cell_type": "markdown",
   "id": "b4ae110e-d256-4e52-a7d4-ebc0ff81f916",
   "metadata": {},
   "source": [
    "`**` matches everything"
   ]
  },
  {
   "cell_type": "code",
   "execution_count": 34,
   "id": "32d8b6d0-38a8-4a20-902d-6d1cb6c02c12",
   "metadata": {},
   "outputs": [
    {
     "data": {
      "text/plain": [
       "[WindowsPath('C:/Users/salil.bavdekar/OneDrive - University of Florida/Courses/TA Courses/Python for Engineers/Class notebooks/W3 - Sep 6/data'),\n",
       " WindowsPath('C:/Users/salil.bavdekar/OneDrive - University of Florida/Courses/TA Courses/Python for Engineers/Class notebooks/W3 - Sep 6/data/.ipynb_checkpoints'),\n",
       " WindowsPath('C:/Users/salil.bavdekar/OneDrive - University of Florida/Courses/TA Courses/Python for Engineers/Class notebooks/W3 - Sep 6/data/extra'),\n",
       " WindowsPath('C:/Users/salil.bavdekar/OneDrive - University of Florida/Courses/TA Courses/Python for Engineers/Class notebooks/W3 - Sep 6/data/sub_1'),\n",
       " WindowsPath('C:/Users/salil.bavdekar/OneDrive - University of Florida/Courses/TA Courses/Python for Engineers/Class notebooks/W3 - Sep 6/data/sub_1/sub_sub_1'),\n",
       " WindowsPath('C:/Users/salil.bavdekar/OneDrive - University of Florida/Courses/TA Courses/Python for Engineers/Class notebooks/W3 - Sep 6/data/sub_1/sub_sub_2'),\n",
       " WindowsPath('C:/Users/salil.bavdekar/OneDrive - University of Florida/Courses/TA Courses/Python for Engineers/Class notebooks/W3 - Sep 6/data/sub_2')]"
      ]
     },
     "execution_count": 34,
     "metadata": {},
     "output_type": "execute_result"
    }
   ],
   "source": [
    "list(data_dir.glob(\"**\"))"
   ]
  },
  {
   "cell_type": "markdown",
   "id": "0c184505-fef5-4cc0-a271-7d772f97e1ea",
   "metadata": {},
   "source": [
    "`*` matches everything except the directory separator"
   ]
  },
  {
   "cell_type": "code",
   "execution_count": 35,
   "id": "c5c8e884-bf00-45f0-9c0d-a08ddeded78d",
   "metadata": {},
   "outputs": [
    {
     "data": {
      "text/plain": [
       "[WindowsPath('C:/Users/salil.bavdekar/OneDrive - University of Florida/Courses/TA Courses/Python for Engineers/Class notebooks/W3 - Sep 6/data/.ipynb_checkpoints'),\n",
       " WindowsPath('C:/Users/salil.bavdekar/OneDrive - University of Florida/Courses/TA Courses/Python for Engineers/Class notebooks/W3 - Sep 6/data/date.txt'),\n",
       " WindowsPath('C:/Users/salil.bavdekar/OneDrive - University of Florida/Courses/TA Courses/Python for Engineers/Class notebooks/W3 - Sep 6/data/extra'),\n",
       " WindowsPath('C:/Users/salil.bavdekar/OneDrive - University of Florida/Courses/TA Courses/Python for Engineers/Class notebooks/W3 - Sep 6/data/name.txt'),\n",
       " WindowsPath('C:/Users/salil.bavdekar/OneDrive - University of Florida/Courses/TA Courses/Python for Engineers/Class notebooks/W3 - Sep 6/data/sub_1'),\n",
       " WindowsPath('C:/Users/salil.bavdekar/OneDrive - University of Florida/Courses/TA Courses/Python for Engineers/Class notebooks/W3 - Sep 6/data/sub_2')]"
      ]
     },
     "execution_count": 35,
     "metadata": {},
     "output_type": "execute_result"
    }
   ],
   "source": [
    "list(data_dir.glob(\"*\"))"
   ]
  },
  {
   "cell_type": "code",
   "execution_count": 39,
   "id": "9c7ff054-c053-49e7-8e53-2e124060652a",
   "metadata": {},
   "outputs": [
    {
     "data": {
      "text/plain": [
       "[WindowsPath('C:/Users/salil.bavdekar/OneDrive - University of Florida/Courses/TA Courses/Python for Engineers/Class notebooks/W3 - Sep 6/data/Untitled.ipynb')]"
      ]
     },
     "execution_count": 39,
     "metadata": {},
     "output_type": "execute_result"
    }
   ],
   "source": [
    "list(data_dir.glob(\"*.ipynb\"))"
   ]
  },
  {
   "cell_type": "code",
   "execution_count": 40,
   "id": "8d365a99-64ab-4ced-9bba-4a40756ae191",
   "metadata": {},
   "outputs": [
    {
     "data": {
      "text/plain": [
       "[WindowsPath('C:/Users/salil.bavdekar/OneDrive - University of Florida/Courses/TA Courses/Python for Engineers/Class notebooks/W3 - Sep 6/data/sub_1'),\n",
       " WindowsPath('C:/Users/salil.bavdekar/OneDrive - University of Florida/Courses/TA Courses/Python for Engineers/Class notebooks/W3 - Sep 6/data/sub_2')]"
      ]
     },
     "execution_count": 40,
     "metadata": {},
     "output_type": "execute_result"
    }
   ],
   "source": [
    "data_subdirs = list(data_dir.glob(\"sub*\"))\n",
    "data_subdirs"
   ]
  },
  {
   "cell_type": "code",
   "execution_count": 41,
   "id": "5cf01f4d-f7ce-45fe-b236-7f857e14b82b",
   "metadata": {},
   "outputs": [
    {
     "data": {
      "text/plain": [
       "[WindowsPath('C:/Users/salil.bavdekar/OneDrive - University of Florida/Courses/TA Courses/Python for Engineers/Class notebooks/W3 - Sep 6/data/sub_1/f1_001.txt'),\n",
       " WindowsPath('C:/Users/salil.bavdekar/OneDrive - University of Florida/Courses/TA Courses/Python for Engineers/Class notebooks/W3 - Sep 6/data/sub_1/f1_0010.txt'),\n",
       " WindowsPath('C:/Users/salil.bavdekar/OneDrive - University of Florida/Courses/TA Courses/Python for Engineers/Class notebooks/W3 - Sep 6/data/sub_1/f1_0011.txt'),\n",
       " WindowsPath('C:/Users/salil.bavdekar/OneDrive - University of Florida/Courses/TA Courses/Python for Engineers/Class notebooks/W3 - Sep 6/data/sub_1/f1_0012.txt'),\n",
       " WindowsPath('C:/Users/salil.bavdekar/OneDrive - University of Florida/Courses/TA Courses/Python for Engineers/Class notebooks/W3 - Sep 6/data/sub_1/f1_0013.txt'),\n",
       " WindowsPath('C:/Users/salil.bavdekar/OneDrive - University of Florida/Courses/TA Courses/Python for Engineers/Class notebooks/W3 - Sep 6/data/sub_1/f1_0014.txt'),\n",
       " WindowsPath('C:/Users/salil.bavdekar/OneDrive - University of Florida/Courses/TA Courses/Python for Engineers/Class notebooks/W3 - Sep 6/data/sub_1/f1_002.txt'),\n",
       " WindowsPath('C:/Users/salil.bavdekar/OneDrive - University of Florida/Courses/TA Courses/Python for Engineers/Class notebooks/W3 - Sep 6/data/sub_1/f1_003.txt'),\n",
       " WindowsPath('C:/Users/salil.bavdekar/OneDrive - University of Florida/Courses/TA Courses/Python for Engineers/Class notebooks/W3 - Sep 6/data/sub_1/f1_004.txt'),\n",
       " WindowsPath('C:/Users/salil.bavdekar/OneDrive - University of Florida/Courses/TA Courses/Python for Engineers/Class notebooks/W3 - Sep 6/data/sub_1/f1_005.txt'),\n",
       " WindowsPath('C:/Users/salil.bavdekar/OneDrive - University of Florida/Courses/TA Courses/Python for Engineers/Class notebooks/W3 - Sep 6/data/sub_1/f1_006.txt'),\n",
       " WindowsPath('C:/Users/salil.bavdekar/OneDrive - University of Florida/Courses/TA Courses/Python for Engineers/Class notebooks/W3 - Sep 6/data/sub_1/f1_007.txt'),\n",
       " WindowsPath('C:/Users/salil.bavdekar/OneDrive - University of Florida/Courses/TA Courses/Python for Engineers/Class notebooks/W3 - Sep 6/data/sub_1/f1_008.txt'),\n",
       " WindowsPath('C:/Users/salil.bavdekar/OneDrive - University of Florida/Courses/TA Courses/Python for Engineers/Class notebooks/W3 - Sep 6/data/sub_1/f1_009.txt')]"
      ]
     },
     "execution_count": 41,
     "metadata": {},
     "output_type": "execute_result"
    }
   ],
   "source": [
    "list(data_subdirs[0].glob(\"f1_00*.txt\"))"
   ]
  },
  {
   "cell_type": "markdown",
   "id": "82c1da2e-7ba4-47d1-8844-133312ad66c0",
   "metadata": {},
   "source": [
    "`?` matches any single character "
   ]
  },
  {
   "cell_type": "code",
   "execution_count": 42,
   "id": "e6308edd-59e0-47ec-8dbd-f58d1ae618b2",
   "metadata": {},
   "outputs": [
    {
     "data": {
      "text/plain": [
       "[WindowsPath('C:/Users/salil.bavdekar/OneDrive - University of Florida/Courses/TA Courses/Python for Engineers/Class notebooks/W3 - Sep 6/data/sub_1/f1_001.txt'),\n",
       " WindowsPath('C:/Users/salil.bavdekar/OneDrive - University of Florida/Courses/TA Courses/Python for Engineers/Class notebooks/W3 - Sep 6/data/sub_1/f1_002.txt'),\n",
       " WindowsPath('C:/Users/salil.bavdekar/OneDrive - University of Florida/Courses/TA Courses/Python for Engineers/Class notebooks/W3 - Sep 6/data/sub_1/f1_003.txt'),\n",
       " WindowsPath('C:/Users/salil.bavdekar/OneDrive - University of Florida/Courses/TA Courses/Python for Engineers/Class notebooks/W3 - Sep 6/data/sub_1/f1_004.txt'),\n",
       " WindowsPath('C:/Users/salil.bavdekar/OneDrive - University of Florida/Courses/TA Courses/Python for Engineers/Class notebooks/W3 - Sep 6/data/sub_1/f1_005.txt'),\n",
       " WindowsPath('C:/Users/salil.bavdekar/OneDrive - University of Florida/Courses/TA Courses/Python for Engineers/Class notebooks/W3 - Sep 6/data/sub_1/f1_006.txt'),\n",
       " WindowsPath('C:/Users/salil.bavdekar/OneDrive - University of Florida/Courses/TA Courses/Python for Engineers/Class notebooks/W3 - Sep 6/data/sub_1/f1_007.txt'),\n",
       " WindowsPath('C:/Users/salil.bavdekar/OneDrive - University of Florida/Courses/TA Courses/Python for Engineers/Class notebooks/W3 - Sep 6/data/sub_1/f1_008.txt'),\n",
       " WindowsPath('C:/Users/salil.bavdekar/OneDrive - University of Florida/Courses/TA Courses/Python for Engineers/Class notebooks/W3 - Sep 6/data/sub_1/f1_009.txt')]"
      ]
     },
     "execution_count": 42,
     "metadata": {},
     "output_type": "execute_result"
    }
   ],
   "source": [
    "list(data_subdirs[0].glob(\"f1_00?.txt\"))"
   ]
  },
  {
   "cell_type": "markdown",
   "id": "0f4f09ae-604e-483e-b50a-a28a5894c7c8",
   "metadata": {},
   "source": [
    "**Examples using the `glob` package**"
   ]
  },
  {
   "cell_type": "code",
   "execution_count": 43,
   "id": "f20b733a-f148-4577-ae10-f4e2c5005354",
   "metadata": {},
   "outputs": [
    {
     "data": {
      "text/plain": [
       "['data\\\\date.txt',\n",
       " 'data\\\\extra',\n",
       " 'data\\\\name.txt',\n",
       " 'data\\\\sub_1',\n",
       " 'data\\\\sub_2',\n",
       " 'data\\\\Untitled.ipynb']"
      ]
     },
     "execution_count": 43,
     "metadata": {},
     "output_type": "execute_result"
    }
   ],
   "source": [
    "from glob import glob\n",
    "\n",
    "glob(\"data\\*\")"
   ]
  },
  {
   "cell_type": "code",
   "execution_count": 44,
   "id": "8f11655b-2f49-4213-a911-e7cf32cd0ce9",
   "metadata": {},
   "outputs": [
    {
     "data": {
      "text/plain": [
       "['data\\\\sub_1\\\\f1_001.txt',\n",
       " 'data\\\\sub_1\\\\f1_0010.txt',\n",
       " 'data\\\\sub_1\\\\f1_0011.txt',\n",
       " 'data\\\\sub_1\\\\f1_0012.txt',\n",
       " 'data\\\\sub_1\\\\f1_0013.txt',\n",
       " 'data\\\\sub_1\\\\f1_0014.txt',\n",
       " 'data\\\\sub_1\\\\f1_002.txt',\n",
       " 'data\\\\sub_1\\\\f1_003.txt',\n",
       " 'data\\\\sub_1\\\\f1_004.txt',\n",
       " 'data\\\\sub_1\\\\f1_005.txt',\n",
       " 'data\\\\sub_1\\\\f1_006.txt',\n",
       " 'data\\\\sub_1\\\\f1_007.txt',\n",
       " 'data\\\\sub_1\\\\f1_008.txt',\n",
       " 'data\\\\sub_1\\\\f1_009.txt',\n",
       " 'data\\\\sub_1\\\\New Text Document.txt',\n",
       " 'data\\\\sub_1\\\\Random.txt',\n",
       " 'data\\\\sub_1\\\\sub_sub_1',\n",
       " 'data\\\\sub_1\\\\sub_sub_2']"
      ]
     },
     "execution_count": 44,
     "metadata": {},
     "output_type": "execute_result"
    }
   ],
   "source": [
    "glob(\"data\\sub_1\\*\")"
   ]
  },
  {
   "cell_type": "markdown",
   "id": "d84e4f32-62f2-4b14-aa0c-e740063ed7ce",
   "metadata": {
    "tags": []
   },
   "source": [
    "## Other directory operations"
   ]
  },
  {
   "cell_type": "code",
   "execution_count": 45,
   "id": "5ec43295-8c4a-4db0-b526-897b4d020c60",
   "metadata": {},
   "outputs": [],
   "source": [
    "new_dir = data_dir / \"temp\"\n",
    "new_dir.mkdir()"
   ]
  },
  {
   "cell_type": "code",
   "execution_count": 46,
   "id": "3107547f-3d99-4a79-8e04-1e1282e5690a",
   "metadata": {},
   "outputs": [
    {
     "ename": "FileNotFoundError",
     "evalue": "[WinError 3] The system cannot find the path specified: 'C:\\\\Users\\\\salil.bavdekar\\\\OneDrive - University of Florida\\\\Courses\\\\TA Courses\\\\Python for Engineers\\\\Class notebooks\\\\W3 - Sep 6\\\\data\\\\temp\\\\temp1\\\\temp2\\\\temp3'",
     "output_type": "error",
     "traceback": [
      "\u001b[1;31m---------------------------------------------------------------------------\u001b[0m",
      "\u001b[1;31mFileNotFoundError\u001b[0m                         Traceback (most recent call last)",
      "Input \u001b[1;32mIn [46]\u001b[0m, in \u001b[0;36m<cell line: 2>\u001b[1;34m()\u001b[0m\n\u001b[0;32m      1\u001b[0m new_dir \u001b[38;5;241m=\u001b[39m data_dir \u001b[38;5;241m/\u001b[39m \u001b[38;5;124m\"\u001b[39m\u001b[38;5;124mtemp\u001b[39m\u001b[38;5;124m\"\u001b[39m \u001b[38;5;241m/\u001b[39m \u001b[38;5;124m\"\u001b[39m\u001b[38;5;124mtemp1\u001b[39m\u001b[38;5;124m\"\u001b[39m \u001b[38;5;241m/\u001b[39m \u001b[38;5;124m\"\u001b[39m\u001b[38;5;124mtemp2\u001b[39m\u001b[38;5;124m\"\u001b[39m \u001b[38;5;241m/\u001b[39m \u001b[38;5;124m\"\u001b[39m\u001b[38;5;124mtemp3\u001b[39m\u001b[38;5;124m\"\u001b[39m\n\u001b[1;32m----> 2\u001b[0m \u001b[43mnew_dir\u001b[49m\u001b[38;5;241;43m.\u001b[39;49m\u001b[43mmkdir\u001b[49m\u001b[43m(\u001b[49m\u001b[43m)\u001b[49m\n",
      "File \u001b[1;32m~\\Anaconda3\\lib\\pathlib.py:1323\u001b[0m, in \u001b[0;36mPath.mkdir\u001b[1;34m(self, mode, parents, exist_ok)\u001b[0m\n\u001b[0;32m   1319\u001b[0m \u001b[38;5;124;03m\"\"\"\u001b[39;00m\n\u001b[0;32m   1320\u001b[0m \u001b[38;5;124;03mCreate a new directory at this given path.\u001b[39;00m\n\u001b[0;32m   1321\u001b[0m \u001b[38;5;124;03m\"\"\"\u001b[39;00m\n\u001b[0;32m   1322\u001b[0m \u001b[38;5;28;01mtry\u001b[39;00m:\n\u001b[1;32m-> 1323\u001b[0m     \u001b[38;5;28;43mself\u001b[39;49m\u001b[38;5;241;43m.\u001b[39;49m\u001b[43m_accessor\u001b[49m\u001b[38;5;241;43m.\u001b[39;49m\u001b[43mmkdir\u001b[49m\u001b[43m(\u001b[49m\u001b[38;5;28;43mself\u001b[39;49m\u001b[43m,\u001b[49m\u001b[43m \u001b[49m\u001b[43mmode\u001b[49m\u001b[43m)\u001b[49m\n\u001b[0;32m   1324\u001b[0m \u001b[38;5;28;01mexcept\u001b[39;00m \u001b[38;5;167;01mFileNotFoundError\u001b[39;00m:\n\u001b[0;32m   1325\u001b[0m     \u001b[38;5;28;01mif\u001b[39;00m \u001b[38;5;129;01mnot\u001b[39;00m parents \u001b[38;5;129;01mor\u001b[39;00m \u001b[38;5;28mself\u001b[39m\u001b[38;5;241m.\u001b[39mparent \u001b[38;5;241m==\u001b[39m \u001b[38;5;28mself\u001b[39m:\n",
      "\u001b[1;31mFileNotFoundError\u001b[0m: [WinError 3] The system cannot find the path specified: 'C:\\\\Users\\\\salil.bavdekar\\\\OneDrive - University of Florida\\\\Courses\\\\TA Courses\\\\Python for Engineers\\\\Class notebooks\\\\W3 - Sep 6\\\\data\\\\temp\\\\temp1\\\\temp2\\\\temp3'"
     ]
    }
   ],
   "source": [
    "new_dir = data_dir / \"temp\" / \"temp1\" / \"temp2\" / \"temp3\"\n",
    "new_dir.mkdir()"
   ]
  },
  {
   "cell_type": "code",
   "execution_count": 47,
   "id": "5c6c4c8f-aa2e-42bc-a84c-977c2480243e",
   "metadata": {},
   "outputs": [],
   "source": [
    "new_dir = data_dir / \"temp\" / \"temp1\" / \"temp2\" / \"temp3\"\n",
    "new_dir.mkdir(parents=True)"
   ]
  },
  {
   "cell_type": "code",
   "execution_count": 48,
   "id": "5a5601d7-0706-400c-9260-e5de21c8215e",
   "metadata": {},
   "outputs": [
    {
     "ename": "FileExistsError",
     "evalue": "[WinError 183] Cannot create a file when that file already exists: 'C:\\\\Users\\\\salil.bavdekar\\\\OneDrive - University of Florida\\\\Courses\\\\TA Courses\\\\Python for Engineers\\\\Class notebooks\\\\W3 - Sep 6\\\\data\\\\temp'",
     "output_type": "error",
     "traceback": [
      "\u001b[1;31m---------------------------------------------------------------------------\u001b[0m",
      "\u001b[1;31mFileExistsError\u001b[0m                           Traceback (most recent call last)",
      "Input \u001b[1;32mIn [48]\u001b[0m, in \u001b[0;36m<cell line: 2>\u001b[1;34m()\u001b[0m\n\u001b[0;32m      1\u001b[0m new_dir \u001b[38;5;241m=\u001b[39m data_dir \u001b[38;5;241m/\u001b[39m \u001b[38;5;124m\"\u001b[39m\u001b[38;5;124mtemp\u001b[39m\u001b[38;5;124m\"\u001b[39m\n\u001b[1;32m----> 2\u001b[0m \u001b[43mnew_dir\u001b[49m\u001b[38;5;241;43m.\u001b[39;49m\u001b[43mmkdir\u001b[49m\u001b[43m(\u001b[49m\u001b[43m)\u001b[49m\n",
      "File \u001b[1;32m~\\Anaconda3\\lib\\pathlib.py:1323\u001b[0m, in \u001b[0;36mPath.mkdir\u001b[1;34m(self, mode, parents, exist_ok)\u001b[0m\n\u001b[0;32m   1319\u001b[0m \u001b[38;5;124;03m\"\"\"\u001b[39;00m\n\u001b[0;32m   1320\u001b[0m \u001b[38;5;124;03mCreate a new directory at this given path.\u001b[39;00m\n\u001b[0;32m   1321\u001b[0m \u001b[38;5;124;03m\"\"\"\u001b[39;00m\n\u001b[0;32m   1322\u001b[0m \u001b[38;5;28;01mtry\u001b[39;00m:\n\u001b[1;32m-> 1323\u001b[0m     \u001b[38;5;28;43mself\u001b[39;49m\u001b[38;5;241;43m.\u001b[39;49m\u001b[43m_accessor\u001b[49m\u001b[38;5;241;43m.\u001b[39;49m\u001b[43mmkdir\u001b[49m\u001b[43m(\u001b[49m\u001b[38;5;28;43mself\u001b[39;49m\u001b[43m,\u001b[49m\u001b[43m \u001b[49m\u001b[43mmode\u001b[49m\u001b[43m)\u001b[49m\n\u001b[0;32m   1324\u001b[0m \u001b[38;5;28;01mexcept\u001b[39;00m \u001b[38;5;167;01mFileNotFoundError\u001b[39;00m:\n\u001b[0;32m   1325\u001b[0m     \u001b[38;5;28;01mif\u001b[39;00m \u001b[38;5;129;01mnot\u001b[39;00m parents \u001b[38;5;129;01mor\u001b[39;00m \u001b[38;5;28mself\u001b[39m\u001b[38;5;241m.\u001b[39mparent \u001b[38;5;241m==\u001b[39m \u001b[38;5;28mself\u001b[39m:\n",
      "\u001b[1;31mFileExistsError\u001b[0m: [WinError 183] Cannot create a file when that file already exists: 'C:\\\\Users\\\\salil.bavdekar\\\\OneDrive - University of Florida\\\\Courses\\\\TA Courses\\\\Python for Engineers\\\\Class notebooks\\\\W3 - Sep 6\\\\data\\\\temp'"
     ]
    }
   ],
   "source": [
    "new_dir = data_dir / \"temp\"\n",
    "new_dir.mkdir()"
   ]
  },
  {
   "cell_type": "code",
   "execution_count": 49,
   "id": "e7c13e44-675b-42a8-8f34-107cc6a7eb52",
   "metadata": {},
   "outputs": [],
   "source": [
    "new_dir = data_dir / \"temp\"\n",
    "new_dir.mkdir(exist_ok=True)"
   ]
  },
  {
   "cell_type": "markdown",
   "id": "06d43a69-a27a-421e-bb6b-5685df6a7795",
   "metadata": {
    "tags": []
   },
   "source": [
    "**`shutil`**"
   ]
  },
  {
   "cell_type": "code",
   "execution_count": 52,
   "id": "c26c32ec-f2ed-4a35-a46e-2bb52db5c9b3",
   "metadata": {},
   "outputs": [],
   "source": [
    "import shutil\n",
    "\n",
    "shutil.move(data_dir / \"date.txt\", data_dir / \"temp\")\n",
    "shutil.rmtree(data_dir / \"extra\")"
   ]
  },
  {
   "cell_type": "code",
   "execution_count": null,
   "id": "d3a15cf1-6141-4db5-b99f-05f93bd6481b",
   "metadata": {},
   "outputs": [],
   "source": []
  },
  {
   "cell_type": "markdown",
   "id": "0becabf6-5396-47c5-b06d-b01573b23187",
   "metadata": {
    "tags": []
   },
   "source": [
    "## Example"
   ]
  },
  {
   "cell_type": "code",
   "execution_count": null,
   "id": "9f962a72-5f92-446f-be81-c9c10573a28c",
   "metadata": {},
   "outputs": [],
   "source": [
    "for idx, subdir in enumerate(data_subdirs, start=1):\n",
    "    for i in range(1,15):\n",
    "        with open(subdir / f\"f{idx}_00{i}.txt\", \"w\") as f:\n",
    "            f.write(f\"This is file number {i} in subdirectory {idx}\")"
   ]
  },
  {
   "cell_type": "code",
   "execution_count": null,
   "id": "5066a135-66c8-4460-a161-3c901ddb4fcb",
   "metadata": {},
   "outputs": [],
   "source": []
  }
 ],
 "metadata": {
  "kernelspec": {
   "display_name": "Python 3 (ipykernel)",
   "language": "python",
   "name": "python3"
  },
  "language_info": {
   "codemirror_mode": {
    "name": "ipython",
    "version": 3
   },
   "file_extension": ".py",
   "mimetype": "text/x-python",
   "name": "python",
   "nbconvert_exporter": "python",
   "pygments_lexer": "ipython3",
   "version": "3.9.12"
  }
 },
 "nbformat": 4,
 "nbformat_minor": 5
}
