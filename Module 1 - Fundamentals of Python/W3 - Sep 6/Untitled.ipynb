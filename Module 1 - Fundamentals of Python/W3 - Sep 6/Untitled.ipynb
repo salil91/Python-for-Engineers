{
 "cells": [
  {
   "cell_type": "code",
   "execution_count": 1,
   "id": "ed1ae812-3c84-43ce-982d-3c259c98df35",
   "metadata": {},
   "outputs": [],
   "source": [
    "import calculator"
   ]
  },
  {
   "cell_type": "code",
   "execution_count": 2,
   "id": "90cf77a2-510e-438d-a743-7a758c561c85",
   "metadata": {},
   "outputs": [
    {
     "data": {
      "text/plain": [
       "30"
      ]
     },
     "execution_count": 2,
     "metadata": {},
     "output_type": "execute_result"
    }
   ],
   "source": [
    "calculator.add_numbers(10, 20)"
   ]
  },
  {
   "cell_type": "code",
   "execution_count": null,
   "id": "1cf33423-57e7-4a25-9984-5641ee50459f",
   "metadata": {},
   "outputs": [],
   "source": []
  }
 ],
 "metadata": {
  "kernelspec": {
   "display_name": "Python 3 (ipykernel)",
   "language": "python",
   "name": "python3"
  },
  "language_info": {
   "codemirror_mode": {
    "name": "ipython",
    "version": 3
   },
   "file_extension": ".py",
   "mimetype": "text/x-python",
   "name": "python",
   "nbconvert_exporter": "python",
   "pygments_lexer": "ipython3",
   "version": "3.9.12"
  }
 },
 "nbformat": 4,
 "nbformat_minor": 5
}
