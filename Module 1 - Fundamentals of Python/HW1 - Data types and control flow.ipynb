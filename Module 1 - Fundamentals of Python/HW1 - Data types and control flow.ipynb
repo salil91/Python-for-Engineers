{
 "cells": [
  {
   "cell_type": "markdown",
   "id": "e995dc60-b25e-4789-87ae-a519c242ee7e",
   "metadata": {},
   "source": [
    "# Homework 1 - Data types and control flow\n",
    "**Due: Sep 8** \n",
    "\n",
    "***Total Points: 100***\n",
    "\n",
    "For full points, your code\n",
    "- must run without errors\n",
    "- must by *pythonic*\n",
    "- must be easily understandable, and well documented (either through inline comments or markdown).\n",
    "\n",
    "Run the code blocks under each question before attempting the solution.\n",
    "\n",
    "In some questions, you are asked to edit / fix the given code. For these questions, you can edit in place. You do not need to copy the original code to a new block.\n",
    "\n",
    "Remember to export your Jupyter notebook as a PDF file and upload both to Canvas.\n",
    "```\n",
    "File > Save and Export Notebook As... > PDF\n",
    "```"
   ]
  },
  {
   "cell_type": "markdown",
   "id": "7f5977d3-2fe6-42e2-b763-1bc0e96fdec7",
   "metadata": {
    "tags": []
   },
   "source": [
    "## Question 1\n",
    "\n",
    "*10 points*\n",
    "\n",
    "Using your knowledge of Python types, briefly explain why `float` is not ideal for representing currency. What would be a better of representing $173.42 with a python variable?"
   ]
  },
  {
   "cell_type": "markdown",
   "id": "0e820c1d-51eb-4661-bc7e-d7d08a6878a6",
   "metadata": {},
   "source": [
    "**Answer:**"
   ]
  },
  {
   "cell_type": "markdown",
   "id": "3a6c75b5-9618-41b8-af5d-c84a0bad3255",
   "metadata": {},
   "source": []
  },
  {
   "cell_type": "markdown",
   "id": "d2fbc775-7475-45f1-aa45-bc6974080dcd",
   "metadata": {
    "tags": []
   },
   "source": [
    "## Question 2\n",
    "\n",
    "*3 points each, 15 total*\n",
    "\n",
    "Fix the following pieces of code. You can edit the code in place, you do not need to copy the original code to a new block.\n",
    "\n",
    "Use inline comments to describe the issue / changes."
   ]
  },
  {
   "cell_type": "markdown",
   "id": "d1396a85-4108-4dac-a329-f758bdf4a779",
   "metadata": {},
   "source": [
    "### Question 2.1"
   ]
  },
  {
   "cell_type": "code",
   "execution_count": null,
   "id": "07bdbc87-d338-42ed-8fc4-9d4cdabb3cc4",
   "metadata": {},
   "outputs": [],
   "source": [
    "a = \"45.4\"\n",
    "b = \"206.3\"\n",
    "sum = a + b\n",
    "print(\"The total is {sum}\")"
   ]
  },
  {
   "cell_type": "markdown",
   "id": "192df407-e891-4b2a-90b5-922e0999767e",
   "metadata": {},
   "source": [
    "### Question 2.2"
   ]
  },
  {
   "cell_type": "code",
   "execution_count": null,
   "id": "f690dd00-2824-4789-a053-e484ab4b6a18",
   "metadata": {},
   "outputs": [],
   "source": [
    "numbers = [500, 600, 700, 800]\n",
    "sum(numbers)"
   ]
  },
  {
   "cell_type": "markdown",
   "id": "3aee48f8-b598-4b48-87fd-bcad3c715746",
   "metadata": {},
   "source": [
    "### Question 2.3"
   ]
  },
  {
   "cell_type": "code",
   "execution_count": null,
   "id": "067fc303-0133-4691-b02d-7f8f3cd45263",
   "metadata": {},
   "outputs": [],
   "source": [
    "x = 20\n",
    "y = 100\n",
    "if x > y:\n",
    "    print(\"First number is greater.\")\n",
    "    else:\n",
    "        print(\"First number is not greater\")"
   ]
  },
  {
   "cell_type": "markdown",
   "id": "e50be0c9-194d-4966-8ce3-1d8f3eb73c83",
   "metadata": {},
   "source": [
    "### Question 2.4"
   ]
  },
  {
   "cell_type": "code",
   "execution_count": null,
   "id": "c349fbc9-e6e4-4c49-a2c1-709a6549ce8f",
   "metadata": {},
   "outputs": [],
   "source": [
    "i = 0\n",
    "print(\"Non-multiples of 3:\")\n",
    "while i < 10:\n",
    "    i += 1\n",
    "    if i % 3 == 0:\n",
    "        break\n",
    "    print(i)\n",
    "\n",
    "print(\"All numbers between 1 and 10 (inclusive), except multiples of 3, are printed.\")"
   ]
  },
  {
   "cell_type": "markdown",
   "id": "e97d6961-9524-4aa6-9e26-9a568ef96165",
   "metadata": {},
   "source": [
    "### Question 2.5"
   ]
  },
  {
   "cell_type": "code",
   "execution_count": null,
   "id": "e682f5c4-e481-47e4-9709-21d2dc9ed861",
   "metadata": {},
   "outputs": [],
   "source": [
    "numbers = list(range(1,10))\n",
    "print(\"Even numbers:\")\n",
    "for number in numbers:\n",
    "    if number % 2 == 0:\n",
    "        print(number)\n",
    "    else:\n",
    "        \n",
    "print(\"Only even numbers are printed\")"
   ]
  },
  {
   "cell_type": "markdown",
   "id": "f4faf269-2eb1-4576-9c40-506549bd4bcd",
   "metadata": {
    "tags": []
   },
   "source": [
    "## Question 3\n",
    "\n",
    "*5 points each, 10 total*"
   ]
  },
  {
   "cell_type": "code",
   "execution_count": null,
   "id": "b384c199-e37e-4d31-ae87-7e11a482905f",
   "metadata": {},
   "outputs": [],
   "source": [
    "sec_teams = (\n",
    "    \"Alabama\", \"Ole Miss\", \"Arkansas\", \"Mississippi State\",\n",
    "    \"Texas A&M\", \"Auburn\", \"LSU\", \"Georgia\", \"Kentucky\", \"Tennessee\",\n",
    "    \"Missouri\", \"South Carolina\", \"Florida\", \"Vanderbilt\"\n",
    ")"
   ]
  },
  {
   "cell_type": "markdown",
   "id": "45a90616-56f1-493f-8072-058d58898fa2",
   "metadata": {},
   "source": [
    "**Question:**\n",
    "\n",
    "Reverse the tuple `sec_teams` (in as few lines of code as possible)"
   ]
  },
  {
   "cell_type": "markdown",
   "id": "cb455689-60d1-4ae1-9f6f-024a8263a61e",
   "metadata": {},
   "source": [
    "**Solution:**"
   ]
  },
  {
   "cell_type": "code",
   "execution_count": null,
   "id": "95170d6e-fb1a-4204-9113-90f8f663b07d",
   "metadata": {},
   "outputs": [],
   "source": []
  },
  {
   "cell_type": "markdown",
   "id": "22520490-0603-4594-886d-c509ebca39e5",
   "metadata": {},
   "source": [
    "**Question:**\n",
    "\n",
    "Reverse the tuple including only SEC East teams (Georgia - Vanderbilt in the original `sec_teams` tuple)"
   ]
  },
  {
   "cell_type": "markdown",
   "id": "e211280e-8171-45e2-af1a-36a76bc575f6",
   "metadata": {},
   "source": [
    "**Solution:**"
   ]
  },
  {
   "cell_type": "code",
   "execution_count": null,
   "id": "6059ed3a-3791-4c7b-b87d-765e481cc4ae",
   "metadata": {},
   "outputs": [],
   "source": []
  },
  {
   "cell_type": "markdown",
   "id": "d52ff114-f4c7-49a2-949a-3a0629f9de39",
   "metadata": {
    "tags": []
   },
   "source": [
    "## Question 4\n",
    "\n",
    "*10 points*\n",
    "\n",
    "Edit the second code block (containg the `if` and `else` statements) and simplify it to a single line of code.\n",
    "The code should be valid for all numerical values of `a` and `b`, assuming that `a != b`"
   ]
  },
  {
   "cell_type": "code",
   "execution_count": null,
   "id": "f848862c-c747-4093-9cdd-0636d6534e62",
   "metadata": {},
   "outputs": [],
   "source": [
    "# Try different values of `a` and `b` to test your code\n",
    "a = 20\n",
    "b = 45"
   ]
  },
  {
   "cell_type": "code",
   "execution_count": null,
   "id": "18f257c8-87ff-47f0-b869-d93d107c2764",
   "metadata": {},
   "outputs": [],
   "source": [
    "# This is the block you need to reduce to one line\n",
    "if a < b:\n",
    "    minimum_value = a\n",
    "else:\n",
    "    minimum_value = b"
   ]
  },
  {
   "cell_type": "code",
   "execution_count": null,
   "id": "464f2d11-6891-4ebc-a6d6-44c6c8c369eb",
   "metadata": {},
   "outputs": [],
   "source": [
    "minimum_value"
   ]
  },
  {
   "cell_type": "markdown",
   "id": "92975006-4457-442a-b7f8-0e1c554bbe2e",
   "metadata": {
    "tags": []
   },
   "source": [
    "## Question 5\n",
    "\n",
    "*15 points*"
   ]
  },
  {
   "cell_type": "code",
   "execution_count": null,
   "id": "72f36d07-161a-4bfa-8d95-fb3c3f2e8441",
   "metadata": {},
   "outputs": [],
   "source": [
    "sec_east = (\n",
    "    \"Georgia\", \"Kentucky\", \"Tennessee\", \"Missouri\",\n",
    "    \"South Carolina\", \"Florida\", \"Vanderbilt\"\n",
    ")\n",
    "sec_west = (\n",
    "    \"Alabama\", \"Ole Miss\", \"Arkansas\",\n",
    "    \"Mississippi State\", \"Texas A&M\", \"Auburn\", \"LSU\"\n",
    ")"
   ]
  },
  {
   "cell_type": "markdown",
   "id": "d977a0dd-8e92-4fb8-b3be-97160d6f54b7",
   "metadata": {},
   "source": [
    "**Question:**\n",
    "\n",
    "From the two tuples (`sec_east` and `sec_west`), create a list of 14 dictionaries, where each dictionary has the keys and values shown in the `example` below.\n",
    "\n",
    "(\"SEC\" is the conference, \"East\" and \"West\" are the two divisions, and all items in both the tuples are the teams)"
   ]
  },
  {
   "cell_type": "code",
   "execution_count": null,
   "id": "9400e34c-97d5-4d05-b201-010fe1f11f4c",
   "metadata": {},
   "outputs": [],
   "source": [
    "example = {\n",
    "    \"Team\": \"Florida\",\n",
    "    \"Conference\": \"SEC\",\n",
    "    \"Division\": \"East\"\n",
    "}\n",
    "example"
   ]
  },
  {
   "cell_type": "markdown",
   "id": "33d372d4-b537-4f06-a94b-2e8e4d93aaf0",
   "metadata": {},
   "source": [
    "**Solution:**"
   ]
  },
  {
   "cell_type": "code",
   "execution_count": null,
   "id": "868ccc09-0f90-4391-9823-df7d6342c88a",
   "metadata": {},
   "outputs": [],
   "source": []
  },
  {
   "cell_type": "markdown",
   "id": "003031f8-b750-4d69-b9dd-4ec65f8833dd",
   "metadata": {},
   "source": [
    "**Question:**\n",
    "\n",
    "Next, iterate through the list and dictionaries to print all keys and values for \"East\" division teams only. Separate teams by at least one blank line."
   ]
  },
  {
   "cell_type": "markdown",
   "id": "327c92f1-f746-4831-8d6c-74c620226a11",
   "metadata": {},
   "source": [
    "**Solution:**"
   ]
  },
  {
   "cell_type": "code",
   "execution_count": null,
   "id": "ae0303cc-0b09-4a5d-ab65-08d458577f26",
   "metadata": {},
   "outputs": [],
   "source": []
  },
  {
   "cell_type": "markdown",
   "id": "9bdef899-0bde-4a26-b9ea-1d67c60360d3",
   "metadata": {
    "tags": []
   },
   "source": [
    "## Question 6\n",
    "\n",
    "*15 points*\n",
    "\n",
    "Always expect the user of your code will not use your code as intended. Hence, you must ensure that the code below fixes incorrect user inputs.\n",
    "\n",
    "For this example, treat the set `user_inputs` as all examples of user input. The inputs that must satisfy the condition are denoted in the comments.\n",
    "\n",
    "Also include in your code: a list and a count of the 8 inputs that satisfy the \"You are currently in Gainesville\" condition\n",
    "\n",
    "You are allowed to restructure the code in any way you need to. You are NOT REQUIRED to use the `input()` function to test the code."
   ]
  },
  {
   "cell_type": "code",
   "execution_count": null,
   "id": "fc6a685b-7792-44f2-a885-f89b41aa5ce0",
   "metadata": {},
   "outputs": [],
   "source": [
    "user_inputs = {\n",
    "    \"Gainesville\", \"gainesville\", \"GAINESVILLE\", \"gAiNeSvIlLe\", \"   Gainesville  \", # These 5 should satisfy the condition\n",
    "    \"New York\", \"Chicago\", \"Boston\" # These 3 should not\n",
    "}"
   ]
  },
  {
   "cell_type": "code",
   "execution_count": null,
   "id": "c27ba955-39f5-4f09-ba22-3713e4e983f9",
   "metadata": {},
   "outputs": [],
   "source": [
    "user_input = input(\"Enter your current city: \")\n",
    "\n",
    "if user_input == \"Gainesville\":\n",
    "    print(\"You are currently in Gainesville\")\n",
    "else:\n",
    "    print(\"You are NOT currently in Gainesville\")"
   ]
  },
  {
   "cell_type": "markdown",
   "id": "89ca29e0-b02e-451a-8230-ff7402a80002",
   "metadata": {},
   "source": [
    "**Solution:**"
   ]
  },
  {
   "cell_type": "code",
   "execution_count": null,
   "id": "41cc4508-11c8-4380-9c31-7c1b263e4459",
   "metadata": {},
   "outputs": [],
   "source": []
  },
  {
   "cell_type": "markdown",
   "id": "e4f96ca4-27fc-4f0c-94c1-4c6516c92799",
   "metadata": {
    "tags": []
   },
   "source": [
    "## Question 7\n",
    "\n",
    "*15 points*\n",
    "\n",
    "The `zip()` method aggregates iterables into tuples, as follows:"
   ]
  },
  {
   "cell_type": "code",
   "execution_count": 1,
   "id": "6441f157-a43b-4c96-9790-afcbf90d73b9",
   "metadata": {},
   "outputs": [
    {
     "data": {
      "text/plain": [
       "<zip at 0x1c765949540>"
      ]
     },
     "execution_count": 1,
     "metadata": {},
     "output_type": "execute_result"
    }
   ],
   "source": [
    "students = [\"John\", \"Jane\"]\n",
    "ages = [20, 22]\n",
    "residences = [\"Rawlings Hall\", \"The Continuum\"]\n",
    "\n",
    "zipped = zip(students, ages, residences)\n",
    "zipped"
   ]
  },
  {
   "cell_type": "markdown",
   "id": "cf3c1c41-14fa-467c-a7f3-0f1d15f39d9f",
   "metadata": {},
   "source": [
    "A zipped object is not automatically a list, but a unique iterator. To print it, you need to convert it to a `list` or `tuple`:"
   ]
  },
  {
   "cell_type": "code",
   "execution_count": 2,
   "id": "5fbf6add-a020-4704-b29e-06320d067420",
   "metadata": {},
   "outputs": [
    {
     "data": {
      "text/plain": [
       "[('John', 20, 'Rawlings Hall'), ('Jane', 22, 'The Continuum')]"
      ]
     },
     "execution_count": 2,
     "metadata": {},
     "output_type": "execute_result"
    }
   ],
   "source": [
    "zipped_list = list(zipped)\n",
    "zipped_list"
   ]
  },
  {
   "cell_type": "markdown",
   "id": "27cf0c19-d78f-4f0f-a9e4-71b379119d2c",
   "metadata": {},
   "source": [
    "This can be used to simply a MATLAB-style `for` loop:"
   ]
  },
  {
   "cell_type": "code",
   "execution_count": 3,
   "id": "d7e7e6cc-ac3e-4061-931c-a800aa5427b6",
   "metadata": {},
   "outputs": [
    {
     "name": "stdout",
     "output_type": "stream",
     "text": [
      "John is 20 years old, and lives in Rawlings Hall.\n",
      "Jane is 22 years old, and lives in The Continuum.\n"
     ]
    }
   ],
   "source": [
    "for i in range(len(students)):\n",
    "    print(f\"{students[i]} is {ages[i]} years old, and lives in {residences[i]}.\")"
   ]
  },
  {
   "cell_type": "markdown",
   "id": "2c20ee9a-1795-4b37-b112-3b6d5b00d910",
   "metadata": {},
   "source": [
    "to this much more elegant form, using the `zipped` object (as it is an iterable):"
   ]
  },
  {
   "cell_type": "code",
   "execution_count": 5,
   "id": "cceda20d-5799-4187-9b19-da900a41aef2",
   "metadata": {},
   "outputs": [
    {
     "name": "stdout",
     "output_type": "stream",
     "text": [
      "John is 20 years old, and lives in Rawlings Hall.\n",
      "Jane is 22 years old, and lives in The Continuum.\n"
     ]
    }
   ],
   "source": [
    "for student, age, residence in zipped_list:\n",
    "    print(f\"{student} is {age} years old, and lives in {residence}.\")"
   ]
  },
  {
   "cell_type": "markdown",
   "id": "d7b04355-3ce2-4a8e-8d76-baaf934fb633",
   "metadata": {},
   "source": [
    "The `*` operator is used to unzip a zipped list and unpack it into individual variables (similar to unpacking a tuple)"
   ]
  },
  {
   "cell_type": "code",
   "execution_count": null,
   "id": "3da6de23-ca0b-4bf6-a051-2bed8e2a2e1d",
   "metadata": {},
   "outputs": [],
   "source": [
    "students, ages, residences = zip(*zipped_list)\n",
    "print(students)\n",
    "print(ages)\n",
    "print(residences)"
   ]
  },
  {
   "cell_type": "markdown",
   "id": "ac19901e-167d-4c57-a1f9-7ebd500866ea",
   "metadata": {},
   "source": [
    "**Question:**\n",
    "\n",
    "Use the `zip()` method to add the items in the two tuples (`numbers_1` and `numbers_2`) below, to get the `answer` as shown."
   ]
  },
  {
   "cell_type": "code",
   "execution_count": null,
   "id": "9c8a7f34-caf3-459e-9659-8f010c972d70",
   "metadata": {},
   "outputs": [],
   "source": [
    "numbers_1 = (1, 2, 3)\n",
    "numbers_2 = (10, 20, 30)\n",
    "\n",
    "answer = [11, 22, 33]"
   ]
  },
  {
   "cell_type": "markdown",
   "id": "4b2cd69b-ff7a-4370-9c3d-94be946faec2",
   "metadata": {},
   "source": [
    "**Solution:**"
   ]
  },
  {
   "cell_type": "code",
   "execution_count": null,
   "id": "28aaefdd-5847-4007-bb85-25da075bdcaa",
   "metadata": {},
   "outputs": [],
   "source": []
  },
  {
   "cell_type": "markdown",
   "id": "886cb4de-595a-4795-99a3-6227ac6f923c",
   "metadata": {
    "tags": []
   },
   "source": [
    "## Question 8\n",
    "\n",
    "*10 points*\n",
    "\n",
    "Now that you understand how `zip()` works, and how you can iterate over two iterables in a single `for` loop, lets discuss the `enumerate()` method. We covered it briefly in class, but let's understand what it really is.\n",
    "\n",
    "For any iterable, `enumerate()` adds a counter, and returns an iterable of tuples. For example:"
   ]
  },
  {
   "cell_type": "code",
   "execution_count": null,
   "id": "cf8efcc2-c938-4ec5-bc04-8b55b16e1c5a",
   "metadata": {},
   "outputs": [],
   "source": [
    "teams = (\n",
    "    \"Alabama\", \"Ole Miss\", \"Arkansas\", \"Mississippi State\",\n",
    "    \"Texas A&M\", \"Auburn\", \"LSU\", \"Georgia\", \"Kentucky\", \"Tennessee\",\n",
    "    \"Missouri\", \"South Carolina\", \"Florida\", \"Vanderbilt\"\n",
    ")\n",
    "list(enumerate(teams))"
   ]
  },
  {
   "cell_type": "markdown",
   "id": "c24ba823-81cf-4240-ab77-3cb90aa27168",
   "metadata": {},
   "source": [
    "So you can think of `enumerate()` as a specialized `zip()` method, where `range(len(teams))` and `teams` are the two iterables being zipped. Of course, `teams` here can be any iterable."
   ]
  },
  {
   "cell_type": "code",
   "execution_count": null,
   "id": "d4781354-5c7f-4063-89e4-cfe35bd85bd2",
   "metadata": {},
   "outputs": [],
   "source": [
    "list(zip(range(len(teams)), teams))"
   ]
  },
  {
   "cell_type": "markdown",
   "id": "492a060c-7558-40bd-bf73-4e9c78c3d365",
   "metadata": {},
   "source": [
    "Note that, just like with `zip()`, `enumerate()` returns an iterable, not a `list` or a `tuple`. A constuctor is required to print it as a list, as shown above."
   ]
  },
  {
   "cell_type": "code",
   "execution_count": null,
   "id": "8e44e4e1-40fa-48af-9606-a250444a0b2d",
   "metadata": {},
   "outputs": [],
   "source": [
    "enumerate(teams)"
   ]
  },
  {
   "cell_type": "markdown",
   "id": "a7fb3acd-f8b3-4e88-8224-66b9601ed92a",
   "metadata": {},
   "source": [
    "**Question:**\n",
    "\n",
    "With this understanding, iterate over `soccer_teams`, which is a list of dictionaries. Add the dictionary's position in the list as a `\"League Position\"` key in each dictionary. An `example` of the required answer is provided below.\n",
    "\n",
    "Each dictionary corresponds to a soccer team in the Premier League, and its position in the tuple (remember, lists and tuples are ordered) corresponds to the teams position in the League."
   ]
  },
  {
   "cell_type": "code",
   "execution_count": null,
   "id": "772effcc-dd67-4324-907b-b4ad0e0d29fc",
   "metadata": {},
   "outputs": [],
   "source": [
    "example = {\n",
    "    \"Team_name\": \"Arsenal\",\n",
    "    \"Stadium\": \"Emirates Stadium\",\n",
    "    \"Position\": 1,\n",
    "}\n",
    "example"
   ]
  },
  {
   "cell_type": "code",
   "execution_count": null,
   "id": "d81001b4-7342-4cd1-bb7e-751d04db6023",
   "metadata": {},
   "outputs": [],
   "source": [
    "team_names = [\n",
    "    \"Arsenal\", \"Manchester City\", \"Tottenham Hotspur\",\n",
    "    \"Brighton & Hove Albion\", \"Leeds United\"\n",
    "]\n",
    "stadiums = [\n",
    "    \"Emirates Stadium\", \"City of Manchester Stadium\", \"Totenham Hotspur Stadium\",\n",
    "    \"Falmer Stadium\", \"Elland Road\"\n",
    "]\n",
    "soccer_teams = [\n",
    "    {\"Team_name\": team_name, \"Stadium\": stadium} for team_name, stadium in zip(team_names, stadiums)\n",
    "]\n",
    "soccer_teams"
   ]
  },
  {
   "cell_type": "markdown",
   "id": "a07d7eee-1850-4b7d-8e62-e9fa68bf061e",
   "metadata": {
    "tags": []
   },
   "source": [
    "**Solution:**"
   ]
  },
  {
   "cell_type": "code",
   "execution_count": null,
   "id": "88d0dc8b-ead4-4aa7-9fad-b0e89df60b82",
   "metadata": {},
   "outputs": [],
   "source": []
  }
 ],
 "metadata": {
  "citation-manager": {
   "items": {}
  },
  "kernelspec": {
   "display_name": "Python 3 (ipykernel)",
   "language": "python",
   "name": "python3"
  },
  "language_info": {
   "codemirror_mode": {
    "name": "ipython",
    "version": 3
   },
   "file_extension": ".py",
   "mimetype": "text/x-python",
   "name": "python",
   "nbconvert_exporter": "python",
   "pygments_lexer": "ipython3",
   "version": "3.9.12"
  }
 },
 "nbformat": 4,
 "nbformat_minor": 5
}
