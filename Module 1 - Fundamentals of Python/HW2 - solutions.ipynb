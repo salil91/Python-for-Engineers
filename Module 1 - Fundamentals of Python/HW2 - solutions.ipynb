{
 "cells": [
  {
   "cell_type": "markdown",
   "id": "64c992e8-ce79-4544-bf59-cea68420dc32",
   "metadata": {
    "pycharm": {
     "name": "#%% md\n"
    }
   },
   "source": [
    "# Solutions for Homework 2 - Classes and functions\n",
    "**Due: Sep 22** \n",
    "\n",
    "***Total Points: 100***\n",
    "\n",
    "For full points, your code\n",
    "- must run without errors\n",
    "- must by *pythonic*\n",
    "- must be easily understandable, and well documented (either through inline comments or markdown). Except for built-in methods like `__init__` and `__str__`, **every function, class, and method must have a Docstring.**\n",
    "\n",
    "Run every code block before submitting your notebook/PDF.\n",
    "\n",
    "Remember to export your Jupyter notebook as a PDF file and upload both to Canvas.\n",
    "```\n",
    "File > Save and Export Notebook As... > PDF\n",
    "```"
   ]
  },
  {
   "cell_type": "markdown",
   "id": "202b2136-ac09-42d8-8534-89845689bdc4",
   "metadata": {
    "pycharm": {
     "name": "#%% md\n"
    },
    "tags": []
   },
   "source": [
    "## Question 1\n",
    "\n",
    "*25 points*\n",
    "\n",
    "This question will be performed in 4 parts. Make sure each code block runs in sequence. Do NOT duplicate code."
   ]
  },
  {
   "cell_type": "markdown",
   "id": "5a9e41a1-a3fc-4f18-8f98-6e087b2bc165",
   "metadata": {
    "pycharm": {
     "name": "#%% md\n"
    }
   },
   "source": [
    "### 1.1\n",
    "*10 points*\n",
    "\n",
    "Make sure the supplied `material_properties.toml` file is in your current working directory. Write a function to read to read it and and extract the required variables:\n",
    "\n",
    "`material, youngs_modulus, poissons_ratio, density = get_properties(\"material_properties.toml\")`"
   ]
  },
  {
   "cell_type": "code",
   "execution_count": 1,
   "id": "0a13118c-99b3-4594-90c3-8461fc8ee703",
   "metadata": {
    "pycharm": {
     "name": "#%%\n"
    }
   },
   "outputs": [],
   "source": [
    "import toml\n",
    "\n",
    "\n",
    "def get_properties(toml_file):\n",
    "    \"\"\"Read data from TOML file\"\"\"\n",
    "\n",
    "    properties = toml.load(\"material_properties.toml\")\n",
    "    material = properties[\"material\"]\n",
    "    youngs_modulus = properties[\"elastic_properties\"][\"E\"]\n",
    "    poissons_ratio = properties[\"elastic_properties\"][\"nu\"]\n",
    "    density = properties[\"other_properties\"][\"rho\"]\n",
    "\n",
    "    return material, youngs_modulus, poissons_ratio, density"
   ]
  },
  {
   "cell_type": "code",
   "execution_count": 2,
   "id": "c57d6cd5-b081-469b-bda5-0c8a5fe8023a",
   "metadata": {
    "pycharm": {
     "name": "#%%\n"
    }
   },
   "outputs": [
    {
     "name": "stdout",
     "output_type": "stream",
     "text": [
      "E: 200000000000.0, nu: 0.26, rho: 7850\n"
     ]
    }
   ],
   "source": [
    "# Run this code block without changes\n",
    "material, youngs_modulus, poissons_ratio, density = get_properties(\"material_properties.toml\")\n",
    "print(f\"E: {youngs_modulus}, nu: {poissons_ratio}, rho: {density}\")"
   ]
  },
  {
   "cell_type": "markdown",
   "id": "d2023ec8-30eb-491e-90cf-1e5aab444139",
   "metadata": {
    "pycharm": {
     "name": "#%% md\n"
    }
   },
   "source": [
    "### 1.2.\n",
    "\n",
    "*5 points*\n",
    "\n",
    "Write a function that can be called with the following two arguments:\n",
    "\n",
    "`get_moduli(youngs_modulus, poissons_ratio)`\n",
    "\n",
    "Using these two inputs, return the bulk (K) and shear (G) modul, up to two decimal places.\n",
    "\n",
    "$K = \\frac{E}{3(1-2\\nu)}$, \n",
    "$G = \\frac{E}{2(1+\\nu)}$\n",
    "\n",
    "Return all moduli in GPa"
   ]
  },
  {
   "cell_type": "code",
   "execution_count": 3,
   "id": "214d345b-5e5a-4895-980e-5187e1fa60e2",
   "metadata": {
    "pycharm": {
     "name": "#%%\n"
    }
   },
   "outputs": [],
   "source": [
    "def get_moduli(youngs_modulus, poissons_ratio):\n",
    "    \"\"\"Calculate bulk and shear moduli from Young's modulus and Poisson's ratio\"\"\"\n",
    "\n",
    "    # 1e-9 to convert to GPa\n",
    "    bulk_modulus = 1e-9 * youngs_modulus / 3 / (1 - 2 * poissons_ratio)\n",
    "    shear_modulus = 1e-9 * youngs_modulus / 2 / (1 + poissons_ratio)\n",
    "\n",
    "    return round(bulk_modulus, 2), round(shear_modulus, 2)"
   ]
  },
  {
   "cell_type": "code",
   "execution_count": 4,
   "id": "1f0ca910-e39b-4be3-811e-35afac69bf67",
   "metadata": {
    "pycharm": {
     "name": "#%%\n"
    }
   },
   "outputs": [
    {
     "name": "stdout",
     "output_type": "stream",
     "text": [
      "Bulk modulus of A36 steel: 138.89 GPa, Shear modulus of A36 steel: 79.37 GPa\n"
     ]
    }
   ],
   "source": [
    "# Run this code block without changes\n",
    "K, G = get_moduli(youngs_modulus, poissons_ratio)\n",
    "print(f\"Bulk modulus of {material}: {K} GPa, Shear modulus of {material}: {G} GPa\")"
   ]
  },
  {
   "cell_type": "markdown",
   "id": "244216d1-66c4-48eb-ba21-852eb786df7f",
   "metadata": {
    "pycharm": {
     "name": "#%% md\n"
    }
   },
   "source": [
    "### 1.3.\n",
    "\n",
    "*5 points*\n",
    "\n",
    "Write a function to calculate shear wave speed of the material, up to two decimal places.\n",
    "\n",
    "`get_shear_wavespeed(shear_modulus, density)`\n",
    "\n",
    "Use the shear modulus from above.\n",
    "\n",
    "$c_s = \\sqrt{\\frac{G}{\\rho}}$\n",
    "\n",
    "Return all variables here are SI units"
   ]
  },
  {
   "cell_type": "code",
   "execution_count": 5,
   "id": "4602c786-c659-4526-9dcc-0c5f2a7ed1ed",
   "metadata": {
    "pycharm": {
     "name": "#%%\n"
    }
   },
   "outputs": [],
   "source": [
    "import math\n",
    "\n",
    "\n",
    "def get_shear_wavespeed(shear_modulus, density):\n",
    "    \"\"\"Calculate shear wavespeed from shear modulus and density\"\"\"\n",
    "\n",
    "    # 1e9 to convert GPa to Pa\n",
    "    return round(math.sqrt(shear_modulus * 1e9 / density), 2)"
   ]
  },
  {
   "cell_type": "code",
   "execution_count": 6,
   "id": "67b60074-b995-4181-b9e7-99667cce5d63",
   "metadata": {
    "pycharm": {
     "name": "#%%\n"
    }
   },
   "outputs": [
    {
     "name": "stdout",
     "output_type": "stream",
     "text": [
      "Shear wavespeed: 3179.75 m/s\n"
     ]
    }
   ],
   "source": [
    "# Run this code block without changes\n",
    "shear_wavespeed = get_shear_wavespeed(shear_modulus=G, density=density)\n",
    "print(f\"Shear wavespeed: {shear_wavespeed} m/s\")"
   ]
  },
  {
   "cell_type": "markdown",
   "id": "6988a885-3d2a-44d6-9cf8-8f5886f2181a",
   "metadata": {
    "pycharm": {
     "name": "#%% md\n"
    },
    "tags": []
   },
   "source": [
    "### 1.4.\n",
    "\n",
    "*5 points*\n",
    "\n",
    "Save all the relevant code from above into a module. Import it such that the code below works.\n",
    "\n",
    "You do not have to upload your module file to Canvas."
   ]
  },
  {
   "cell_type": "code",
   "execution_count": 7,
   "id": "f81a08c7-bc7e-4b8d-860e-722e2fa9c311",
   "metadata": {
    "pycharm": {
     "name": "#%%\n"
    }
   },
   "outputs": [],
   "source": [
    "# Import the module here\n",
    "from elastic import get_properties, get_moduli, get_shear_wavespeed"
   ]
  },
  {
   "cell_type": "code",
   "execution_count": 8,
   "id": "dc9cec48-0a8d-4024-9776-c7a69ebb455a",
   "metadata": {
    "pycharm": {
     "name": "#%%\n"
    }
   },
   "outputs": [
    {
     "name": "stdout",
     "output_type": "stream",
     "text": [
      "Bulk modulus of A36 steel: 138.89 GPa\n",
      "Shear wavespeed of A36 steel: 3179.75 m/s\n"
     ]
    }
   ],
   "source": [
    "# Run this code block without changes\n",
    "\n",
    "material, E, nu, rho = get_properties(\"material_properties.toml\")\n",
    "K, G = get_moduli(youngs_modulus=E, poissons_ratio=nu)\n",
    "c_s = get_shear_wavespeed(shear_modulus=G, density=rho)\n",
    "\n",
    "print(f\"Bulk modulus of {material}: {K} GPa\")\n",
    "print(f\"Shear wavespeed of {material}: {c_s} m/s\")"
   ]
  },
  {
   "cell_type": "markdown",
   "id": "230d9452-bd04-4762-8802-fbb524d24896",
   "metadata": {
    "pycharm": {
     "name": "#%% md\n"
    },
    "tags": []
   },
   "source": [
    "## Question 2\n",
    "\n",
    "*75 points*\n",
    "\n",
    "This question will be performed in 6 parts. Make sure each code block runs in sequence. Do NOT duplicate code."
   ]
  },
  {
   "cell_type": "markdown",
   "id": "8f589934-218c-446f-a997-97f43f8df919",
   "metadata": {
    "pycharm": {
     "name": "#%% md\n"
    }
   },
   "source": [
    "### 2.1\n",
    "\n",
    "*10 points*\n",
    "\n",
    "Create a parent `Weapon` class, with an attribute for `color`. `color` should be a `property`, with appropriate getter and setter methods, and it's value should be restricted to be red, green, or blue."
   ]
  },
  {
   "cell_type": "code",
   "execution_count": 9,
   "id": "fb8fcd7f-4595-4c47-a540-805367fc7cc3",
   "metadata": {
    "pycharm": {
     "name": "#%%\n"
    }
   },
   "outputs": [],
   "source": [
    "# Valid colors\n",
    "valid_colors = [\"red\", \"green\", \"blue\"]\n",
    "\n",
    "\n",
    "class Weapon:\n",
    "    \"\"\"\n",
    "    Weapon parent class with a single color attribute\n",
    "\n",
    "    Attributes\n",
    "    ----------\n",
    "    color : str\n",
    "        Color of the weapon (red, green, or blue)\n",
    "    \"\"\"\n",
    "\n",
    "    def __init__(self, color):\n",
    "        self.color = color\n",
    "\n",
    "    @property\n",
    "    def color(self):\n",
    "        \"\"\"Color of the weapon (red, green, or blue)\"\"\"\n",
    "        return self._color\n",
    "\n",
    "    @color.setter\n",
    "    def color(self, color):\n",
    "        if color.lower().strip() not in valid_colors:\n",
    "            raise ValueError(f\"Invalid color, must be one of {valid_colors}\")\n",
    "        self._color = color.lower().strip()"
   ]
  },
  {
   "cell_type": "markdown",
   "id": "ad170caf-599e-4ba6-9a95-efe0262355ad",
   "metadata": {
    "pycharm": {
     "name": "#%% md\n"
    }
   },
   "source": [
    "### 2.2.\n",
    "\n",
    "*10 points*\n",
    "\n",
    "Creat two children of the `Weapon` superclass, called `Broadsword` and `Claymore`. In addition to inheriting the attributes of the parent `Weapon` class, they also have a unique `attack` attribute, of `15` and `20` respectively.\n",
    "\n",
    "Make sure you include a `__str__` method for each child class so that any instance of the class can be printed. It does not have to be very verbose, I only need it to print it's color and attack value."
   ]
  },
  {
   "cell_type": "code",
   "execution_count": 10,
   "id": "07146bbe-32af-426c-aa42-d65ab415829c",
   "metadata": {
    "pycharm": {
     "name": "#%%\n"
    }
   },
   "outputs": [],
   "source": [
    "class Broadsword(Weapon):\n",
    "    \"\"\"\n",
    "    Broadsword weapon (child class) with an attack of 15\n",
    "\n",
    "    Attributes\n",
    "    ----------\n",
    "    color : str\n",
    "        Color of the weapon (red, green, or blue)\n",
    "    attack : int\n",
    "        Attack value of the weapon\n",
    "    \"\"\"\n",
    "\n",
    "    def __init__(self, color):\n",
    "        super().__init__(color)\n",
    "        self.attack = 15\n",
    "\n",
    "    def __str__(self):\n",
    "        return f\"Color: {self.color}\\tAttack: {self.attack}\"\n",
    "\n",
    "\n",
    "class Claymore(Weapon):\n",
    "    \"\"\"\n",
    "    Broadsword weapon (child class) with an attack of 15\n",
    "\n",
    "    Attributes\n",
    "    ----------\n",
    "    color : str\n",
    "        Color of the weapon (red, green, or blue)\n",
    "    attack : int\n",
    "        Attack value of the weapon\n",
    "    \"\"\"\n",
    "\n",
    "    def __init__(self, color):\n",
    "        super().__init__(color)\n",
    "        self.attack = 20\n",
    "\n",
    "    def __str__(self):\n",
    "        return f\"Color: {self.color}\\tAttack: {self.attack}\""
   ]
  },
  {
   "cell_type": "markdown",
   "id": "ecac46d3-b285-4cda-858b-6c36a002413f",
   "metadata": {
    "pycharm": {
     "name": "#%% md\n"
    }
   },
   "source": [
    "### 2.3.\n",
    "\n",
    "*5 points*\n",
    "\n",
    "Creat an instance of the `Broadsword` class and the `Claymore` class. Let the variable names be the same, but in lowercase (as shown in the list in the code block below).\n",
    "\n",
    "Set their color to a random value, choosing between `red`, `green`, and `blue`. The random value is not decided by you, it should change each time your code is run."
   ]
  },
  {
   "cell_type": "code",
   "execution_count": 11,
   "id": "e559b64c-1142-40e6-acdf-a57edcb5a08e",
   "metadata": {
    "pycharm": {
     "name": "#%%\n"
    }
   },
   "outputs": [],
   "source": [
    "import random\n",
    "\n",
    "broadsword = Broadsword(color=random.choice(valid_colors))\n",
    "claymore = Claymore(color=random.choice(valid_colors))"
   ]
  },
  {
   "cell_type": "code",
   "execution_count": 12,
   "id": "5a2c7840-28da-4283-bb46-54cb791d6e73",
   "metadata": {
    "pycharm": {
     "name": "#%%\n"
    }
   },
   "outputs": [
    {
     "name": "stdout",
     "output_type": "stream",
     "text": [
      "Color: red\tAttack: 15\n",
      "Color: red\tAttack: 20\n"
     ]
    }
   ],
   "source": [
    "# Run this code block without changes\n",
    "weapons = [broadsword, claymore]\n",
    "for weapon in weapons:\n",
    "    print(weapon)"
   ]
  },
  {
   "cell_type": "code",
   "execution_count": 13,
   "id": "a602c1ec-f68b-4eda-be73-177817e777e1",
   "metadata": {
    "pycharm": {
     "name": "#%%\n"
    }
   },
   "outputs": [
    {
     "ename": "ValueError",
     "evalue": "Invalid color, must be one of ['red', 'green', 'blue']",
     "output_type": "error",
     "traceback": [
      "\u001b[1;31m---------------------------------------------------------------------------\u001b[0m",
      "\u001b[1;31mValueError\u001b[0m                                Traceback (most recent call last)",
      "Input \u001b[1;32mIn [13]\u001b[0m, in \u001b[0;36m<cell line: 3>\u001b[1;34m()\u001b[0m\n\u001b[0;32m      1\u001b[0m \u001b[38;5;66;03m# Run this code block without changes\u001b[39;00m\n\u001b[0;32m      2\u001b[0m \u001b[38;5;66;03m# It should raise a ValueError\u001b[39;00m\n\u001b[1;32m----> 3\u001b[0m fake_broadsword \u001b[38;5;241m=\u001b[39m \u001b[43mBroadsword\u001b[49m\u001b[43m(\u001b[49m\u001b[43mcolor\u001b[49m\u001b[38;5;241;43m=\u001b[39;49m\u001b[38;5;124;43m\"\u001b[39;49m\u001b[38;5;124;43myellow\u001b[39;49m\u001b[38;5;124;43m\"\u001b[39;49m\u001b[43m)\u001b[49m\n",
      "Input \u001b[1;32mIn [10]\u001b[0m, in \u001b[0;36mBroadsword.__init__\u001b[1;34m(self, color)\u001b[0m\n\u001b[0;32m     13\u001b[0m \u001b[38;5;28;01mdef\u001b[39;00m \u001b[38;5;21m__init__\u001b[39m(\u001b[38;5;28mself\u001b[39m, color):\n\u001b[1;32m---> 14\u001b[0m     \u001b[38;5;28;43msuper\u001b[39;49m\u001b[43m(\u001b[49m\u001b[43m)\u001b[49m\u001b[38;5;241;43m.\u001b[39;49m\u001b[38;5;21;43m__init__\u001b[39;49m\u001b[43m(\u001b[49m\u001b[43mcolor\u001b[49m\u001b[43m)\u001b[49m\n\u001b[0;32m     15\u001b[0m     \u001b[38;5;28mself\u001b[39m\u001b[38;5;241m.\u001b[39mattack \u001b[38;5;241m=\u001b[39m \u001b[38;5;241m15\u001b[39m\n",
      "Input \u001b[1;32mIn [9]\u001b[0m, in \u001b[0;36mWeapon.__init__\u001b[1;34m(self, color)\u001b[0m\n\u001b[0;32m     15\u001b[0m \u001b[38;5;28;01mdef\u001b[39;00m \u001b[38;5;21m__init__\u001b[39m(\u001b[38;5;28mself\u001b[39m, color):\n\u001b[1;32m---> 16\u001b[0m     \u001b[38;5;28mself\u001b[39m\u001b[38;5;241m.\u001b[39mcolor \u001b[38;5;241m=\u001b[39m color\n",
      "Input \u001b[1;32mIn [9]\u001b[0m, in \u001b[0;36mWeapon.color\u001b[1;34m(self, color)\u001b[0m\n\u001b[0;32m     23\u001b[0m \u001b[38;5;129m@color\u001b[39m\u001b[38;5;241m.\u001b[39msetter\n\u001b[0;32m     24\u001b[0m \u001b[38;5;28;01mdef\u001b[39;00m \u001b[38;5;21mcolor\u001b[39m(\u001b[38;5;28mself\u001b[39m, color):\n\u001b[0;32m     25\u001b[0m     \u001b[38;5;28;01mif\u001b[39;00m color\u001b[38;5;241m.\u001b[39mlower()\u001b[38;5;241m.\u001b[39mstrip() \u001b[38;5;129;01mnot\u001b[39;00m \u001b[38;5;129;01min\u001b[39;00m valid_colors:\n\u001b[1;32m---> 26\u001b[0m         \u001b[38;5;28;01mraise\u001b[39;00m \u001b[38;5;167;01mValueError\u001b[39;00m(\u001b[38;5;124mf\u001b[39m\u001b[38;5;124m\"\u001b[39m\u001b[38;5;124mInvalid color, must be one of \u001b[39m\u001b[38;5;132;01m{\u001b[39;00mvalid_colors\u001b[38;5;132;01m}\u001b[39;00m\u001b[38;5;124m\"\u001b[39m)\n\u001b[0;32m     27\u001b[0m     \u001b[38;5;28mself\u001b[39m\u001b[38;5;241m.\u001b[39m_color \u001b[38;5;241m=\u001b[39m color\u001b[38;5;241m.\u001b[39mlower()\u001b[38;5;241m.\u001b[39mstrip()\n",
      "\u001b[1;31mValueError\u001b[0m: Invalid color, must be one of ['red', 'green', 'blue']"
     ]
    }
   ],
   "source": [
    "# Run this code block without changes\n",
    "# It should raise a ValueError\n",
    "fake_broadsword = Broadsword(color=\"yellow\")"
   ]
  },
  {
   "cell_type": "markdown",
   "id": "220027ae-c668-498f-8246-70210d4e33bc",
   "metadata": {
    "pycharm": {
     "name": "#%% md\n"
    }
   },
   "source": [
    "### 2.4\n",
    "\n",
    "*20 points*\n",
    "\n",
    "Create a `Hero` class, with attributes for `name` and `health`. `health` should be a `property`, with appropriate getter and setter methods. The maximum health for any instance of the `Hero` class is 100. The minimum health is, of course, 0.\n",
    "\n",
    "Each character must be able to `take_damage` (you need to create a method for this). When this happens, also print out who takes damage, how much, and their current health. Make sure that the user knows when a hero has died (i.e., Their health drops to 0 or lower). For simplicity, we will only deal with `int` values for `health`.\n",
    "\n",
    "Each character must also be able to `attack_target` (you need to create a method for this). To attack the enemy, they must use one of the two weapons you have created above. So your method for this attack must be able to receive the `weapon` as well as the `target` as argument, and deal damage to the target based on the weapon's `attack` attribute. Print out who attacked whom and for how much.\n",
    "\n",
    "Make sure you include a `__str__` method so that any instance of the class can be printed. It does not have to be very verbose, I only need it to print the name and health."
   ]
  },
  {
   "cell_type": "code",
   "execution_count": 14,
   "id": "11154144",
   "metadata": {
    "collapsed": false,
    "jupyter": {
     "outputs_hidden": false
    },
    "pycharm": {
     "name": "#%%\n"
    }
   },
   "outputs": [],
   "source": [
    "class Hero:\n",
    "    \"\"\"\n",
    "    Hero class with attributes for name and health\n",
    "\n",
    "    Attributes\n",
    "    ----------\n",
    "    name : str\n",
    "        Name of the hero\n",
    "    health : int\n",
    "        Health of the hero (0-100)\n",
    "\n",
    "    Methods\n",
    "    -------\n",
    "    take_damage(damage)\n",
    "        Take damage from an attack\n",
    "    attack_target(weapon, target)\n",
    "        Attack a target with a weapon\n",
    "    \"\"\"\n",
    "\n",
    "    def __init__(self, name, health):\n",
    "        self.name = name\n",
    "        self.health = health\n",
    "\n",
    "    def __str__(self):\n",
    "        return f\"Name: {self.name}\\tHealth: {self.health}\"\n",
    "\n",
    "    @property\n",
    "    def health(self):\n",
    "        \"\"\"Health of the hero (0-100)\"\"\"\n",
    "        return self._health\n",
    "\n",
    "    @health.setter\n",
    "    def health(self, health):\n",
    "        if health > 100:\n",
    "            raise ValueError(f\"Maximum health: 100\")\n",
    "        if health < 0:\n",
    "            raise ValueError(f\"Minimum health: 0\")\n",
    "        self._health = health\n",
    "\n",
    "    def take_damage(self, damage):\n",
    "        \"\"\"\n",
    "        Take damage from an attack\n",
    "\n",
    "        Parameters\n",
    "        ----------\n",
    "        damage : int\n",
    "            Amount of damage to take\n",
    "        \"\"\"\n",
    "\n",
    "        current_health = self.health - damage\n",
    "\n",
    "        # Check if hero is dead\n",
    "        if current_health <= 0:\n",
    "            self.health = 0\n",
    "            print(f\"{self.name} has died.\")\n",
    "        else:\n",
    "            self.health = current_health\n",
    "            print(f\"{self.name} loses {damage} health. Current health: {self.health}\")\n",
    "\n",
    "    def attack_target(self, target, weapon):\n",
    "        \"\"\"\n",
    "        Attack a target with a weapon\n",
    "\n",
    "        Parameters\n",
    "        ----------\n",
    "        target : Hero\n",
    "            Hero to attack\n",
    "        weapon : Weapon\n",
    "            Weapon to use for attack\n",
    "        \"\"\"\n",
    "\n",
    "        print(f\"{self.name} attacks {target.name} for {weapon.attack}.\")\n",
    "        target.take_damage(weapon.attack)"
   ]
  },
  {
   "cell_type": "markdown",
   "id": "5f0e7101",
   "metadata": {
    "pycharm": {
     "name": "#%% md\n"
    }
   },
   "source": [
    "### 2.5.\n",
    "\n",
    "*5 points*\n",
    "\n",
    "Create four instances of the `Hero` class.\n",
    "\n",
    "Set their `name` attributes to `Bounty Hunter`, `Juggernaut`, `Phantom Assassin`, `Wraith King`. Let the variable names be similar, but in lowercase and using underscores instead of spaces (as shown in the list in the code block below).\n",
    "\n",
    "Set their `health` to a random integer value between 50 and 100. The random value is not decided by you, it should change each time your code is run."
   ]
  },
  {
   "cell_type": "code",
   "execution_count": 15,
   "id": "3191f69b",
   "metadata": {
    "collapsed": false,
    "jupyter": {
     "outputs_hidden": false
    },
    "pycharm": {
     "name": "#%%\n"
    }
   },
   "outputs": [],
   "source": [
    "bounty_hunter = Hero(name=\"Bounty Hunter\", health=random.randint(50, 100))\n",
    "juggernaut = Hero(name=\"Juggernaut\", health=random.randint(50, 100))\n",
    "phantom_assassin = Hero(name=\"Phantom Assassin\", health=random.randint(50, 100))\n",
    "wraith_king = Hero(name=\"Wraith King\", health=random.randint(50, 100))"
   ]
  },
  {
   "cell_type": "code",
   "execution_count": 16,
   "id": "ddb6b412",
   "metadata": {
    "collapsed": false,
    "jupyter": {
     "outputs_hidden": false
    },
    "pycharm": {
     "name": "#%%\n"
    }
   },
   "outputs": [
    {
     "name": "stdout",
     "output_type": "stream",
     "text": [
      "Name: Bounty Hunter\tHealth: 52\n",
      "Name: Juggernaut\tHealth: 77\n",
      "Name: Phantom Assassin\tHealth: 84\n",
      "Name: Wraith King\tHealth: 57\n"
     ]
    }
   ],
   "source": [
    "# Run this code block without changes\n",
    "heroes = [bounty_hunter, juggernaut, phantom_assassin, wraith_king]\n",
    "for hero in heroes:\n",
    "    print(hero)"
   ]
  },
  {
   "cell_type": "code",
   "execution_count": 17,
   "id": "95f119d5",
   "metadata": {
    "collapsed": false,
    "jupyter": {
     "outputs_hidden": false
    },
    "pycharm": {
     "name": "#%%\n"
    }
   },
   "outputs": [
    {
     "ename": "ValueError",
     "evalue": "Maximum health: 100",
     "output_type": "error",
     "traceback": [
      "\u001b[1;31m---------------------------------------------------------------------------\u001b[0m",
      "\u001b[1;31mValueError\u001b[0m                                Traceback (most recent call last)",
      "Input \u001b[1;32mIn [17]\u001b[0m, in \u001b[0;36m<cell line: 3>\u001b[1;34m()\u001b[0m\n\u001b[0;32m      1\u001b[0m \u001b[38;5;66;03m# Run this code block without changes\u001b[39;00m\n\u001b[0;32m      2\u001b[0m \u001b[38;5;66;03m# It should raise a ValueError\u001b[39;00m\n\u001b[1;32m----> 3\u001b[0m fake_hero \u001b[38;5;241m=\u001b[39m \u001b[43mHero\u001b[49m\u001b[43m(\u001b[49m\u001b[43mname\u001b[49m\u001b[38;5;241;43m=\u001b[39;49m\u001b[38;5;124;43m\"\u001b[39;49m\u001b[38;5;124;43mRoshan\u001b[39;49m\u001b[38;5;124;43m\"\u001b[39;49m\u001b[43m,\u001b[49m\u001b[43m \u001b[49m\u001b[43mhealth\u001b[49m\u001b[38;5;241;43m=\u001b[39;49m\u001b[38;5;241;43m150\u001b[39;49m\u001b[43m)\u001b[49m\n",
      "Input \u001b[1;32mIn [14]\u001b[0m, in \u001b[0;36mHero.__init__\u001b[1;34m(self, name, health)\u001b[0m\n\u001b[0;32m     20\u001b[0m \u001b[38;5;28;01mdef\u001b[39;00m \u001b[38;5;21m__init__\u001b[39m(\u001b[38;5;28mself\u001b[39m, name, health):\n\u001b[0;32m     21\u001b[0m     \u001b[38;5;28mself\u001b[39m\u001b[38;5;241m.\u001b[39mname \u001b[38;5;241m=\u001b[39m name\n\u001b[1;32m---> 22\u001b[0m     \u001b[38;5;28mself\u001b[39m\u001b[38;5;241m.\u001b[39mhealth \u001b[38;5;241m=\u001b[39m health\n",
      "Input \u001b[1;32mIn [14]\u001b[0m, in \u001b[0;36mHero.health\u001b[1;34m(self, health)\u001b[0m\n\u001b[0;32m     32\u001b[0m \u001b[38;5;129m@health\u001b[39m\u001b[38;5;241m.\u001b[39msetter\n\u001b[0;32m     33\u001b[0m \u001b[38;5;28;01mdef\u001b[39;00m \u001b[38;5;21mhealth\u001b[39m(\u001b[38;5;28mself\u001b[39m, health):\n\u001b[0;32m     34\u001b[0m     \u001b[38;5;28;01mif\u001b[39;00m health \u001b[38;5;241m>\u001b[39m \u001b[38;5;241m100\u001b[39m:\n\u001b[1;32m---> 35\u001b[0m         \u001b[38;5;28;01mraise\u001b[39;00m \u001b[38;5;167;01mValueError\u001b[39;00m(\u001b[38;5;124mf\u001b[39m\u001b[38;5;124m\"\u001b[39m\u001b[38;5;124mMaximum health: 100\u001b[39m\u001b[38;5;124m\"\u001b[39m)\n\u001b[0;32m     36\u001b[0m     \u001b[38;5;28;01mif\u001b[39;00m health \u001b[38;5;241m<\u001b[39m \u001b[38;5;241m0\u001b[39m:\n\u001b[0;32m     37\u001b[0m         \u001b[38;5;28;01mraise\u001b[39;00m \u001b[38;5;167;01mValueError\u001b[39;00m(\u001b[38;5;124mf\u001b[39m\u001b[38;5;124m\"\u001b[39m\u001b[38;5;124mMinimum health: 0\u001b[39m\u001b[38;5;124m\"\u001b[39m)\n",
      "\u001b[1;31mValueError\u001b[0m: Maximum health: 100"
     ]
    }
   ],
   "source": [
    "# Run this code block without changes\n",
    "# It should raise a ValueError\n",
    "fake_hero = Hero(name=\"Roshan\", health=150)"
   ]
  },
  {
   "cell_type": "markdown",
   "id": "e14acc44",
   "metadata": {
    "pycharm": {
     "name": "#%% md\n"
    }
   },
   "source": [
    "### 2.6\n",
    "\n",
    "*25 points*\n",
    "\n",
    "**Last hero standing**\n",
    "\n",
    "So now we have 4 heroes and two types of weapons. Create a simple turn-based tournament. In each round, every hero will take one turn to pick a weapon at random and attack another hero at random. Randomize the order in which the heroes take their turn in each round. Print the round number.\n",
    "\n",
    "For simplicity, a hero can be attacked more than once per round. Obviously, heroes cannot attack themselves.\n",
    "\n",
    "When a hero dies, they are eliminated, and can no longer participate. Print when this happens.\n",
    "\n",
    "The game continues until only one hero is left standing. Print the winner."
   ]
  },
  {
   "cell_type": "code",
   "execution_count": 18,
   "id": "14ad4d86",
   "metadata": {
    "collapsed": false,
    "jupyter": {
     "outputs_hidden": false
    },
    "pycharm": {
     "name": "#%%\n"
    }
   },
   "outputs": [
    {
     "name": "stdout",
     "output_type": "stream",
     "text": [
      "ROUND #1\n",
      "Phantom Assassin attacks Juggernaut for 20.\n",
      "Juggernaut loses 20 health. Current health: 57\n",
      "Juggernaut attacks Wraith King for 15.\n",
      "Wraith King loses 15 health. Current health: 42\n",
      "Wraith King attacks Juggernaut for 15.\n",
      "Juggernaut loses 15 health. Current health: 42\n",
      "Bounty Hunter attacks Phantom Assassin for 20.\n",
      "Phantom Assassin loses 20 health. Current health: 64\n",
      "\n",
      "After Round #1:\n",
      "Name: Phantom Assassin\tHealth: 64\n",
      "Name: Juggernaut\tHealth: 42\n",
      "Name: Wraith King\tHealth: 42\n",
      "Name: Bounty Hunter\tHealth: 52\n",
      "\n",
      "\n",
      "ROUND #2\n",
      "Wraith King attacks Bounty Hunter for 15.\n",
      "Bounty Hunter loses 15 health. Current health: 37\n",
      "Bounty Hunter attacks Juggernaut for 15.\n",
      "Juggernaut loses 15 health. Current health: 27\n",
      "Phantom Assassin attacks Wraith King for 20.\n",
      "Wraith King loses 20 health. Current health: 22\n",
      "Juggernaut attacks Phantom Assassin for 15.\n",
      "Phantom Assassin loses 15 health. Current health: 49\n",
      "\n",
      "After Round #2:\n",
      "Name: Wraith King\tHealth: 22\n",
      "Name: Bounty Hunter\tHealth: 37\n",
      "Name: Phantom Assassin\tHealth: 49\n",
      "Name: Juggernaut\tHealth: 27\n",
      "\n",
      "\n",
      "ROUND #3\n",
      "Juggernaut attacks Wraith King for 20.\n",
      "Wraith King loses 20 health. Current health: 2\n",
      "Phantom Assassin attacks Wraith King for 20.\n",
      "Wraith King has died.\n",
      "Wraith King is ELIMINATED!\n",
      "Bounty Hunter attacks Phantom Assassin for 20.\n",
      "Phantom Assassin loses 20 health. Current health: 29\n",
      "\n",
      "After Round #3:\n",
      "Name: Juggernaut\tHealth: 27\n",
      "Name: Phantom Assassin\tHealth: 29\n",
      "Name: Bounty Hunter\tHealth: 37\n",
      "\n",
      "\n",
      "ROUND #4\n",
      "Bounty Hunter attacks Phantom Assassin for 15.\n",
      "Phantom Assassin loses 15 health. Current health: 14\n",
      "Juggernaut attacks Bounty Hunter for 15.\n",
      "Bounty Hunter loses 15 health. Current health: 22\n",
      "Phantom Assassin attacks Juggernaut for 15.\n",
      "Juggernaut loses 15 health. Current health: 12\n",
      "\n",
      "After Round #4:\n",
      "Name: Bounty Hunter\tHealth: 22\n",
      "Name: Juggernaut\tHealth: 12\n",
      "Name: Phantom Assassin\tHealth: 14\n",
      "\n",
      "\n",
      "ROUND #5\n",
      "Juggernaut attacks Bounty Hunter for 20.\n",
      "Bounty Hunter loses 20 health. Current health: 2\n",
      "Phantom Assassin attacks Juggernaut for 15.\n",
      "Juggernaut has died.\n",
      "Juggernaut is ELIMINATED!\n",
      "\n",
      "After Round #5:\n",
      "Name: Phantom Assassin\tHealth: 14\n",
      "Name: Bounty Hunter\tHealth: 2\n",
      "\n",
      "\n",
      "ROUND #6\n",
      "Phantom Assassin attacks Bounty Hunter for 20.\n",
      "Bounty Hunter has died.\n",
      "Bounty Hunter is ELIMINATED!\n",
      "\n",
      "After Round #6:\n",
      "Name: Phantom Assassin\tHealth: 14\n",
      "\n",
      "\n",
      "\n",
      "THE WINNER IS: Phantom Assassin\n"
     ]
    }
   ],
   "source": [
    "# Round counter\n",
    "round_num = 0\n",
    "\n",
    "# Loop until the winner condition is met\n",
    "# Winning condition - Only one hero left alive\n",
    "while len(heroes) > 1:\n",
    "    # Round counter\n",
    "    round_num += 1\n",
    "    print(f\"ROUND #{round_num}\")\n",
    "\n",
    "    # Shuffle the order of the heroes\n",
    "    random.shuffle(heroes)\n",
    "\n",
    "    # Each hero attacks in turn\n",
    "    for hero in heroes:\n",
    "        # Eliminate the current hero from the target pool\n",
    "        # i.e., heroes cannot attack themselves\n",
    "        targets = [target for target in heroes if target is not hero]\n",
    "\n",
    "        # Choose a random target and weapon\n",
    "        chosen_target = random.choice(targets)\n",
    "        chosen_weapon = random.choice(weapons)\n",
    "\n",
    "        # Use the attack method\n",
    "        hero.attack_target(target=chosen_target,\n",
    "                           weapon=chosen_weapon)\n",
    "\n",
    "        # Check if target died\n",
    "        if chosen_target.health <= 0:\n",
    "            print(f\"{chosen_target.name} is ELIMINATED!\")\n",
    "\n",
    "            # Remove dead hero from the pool\n",
    "            heroes.remove(chosen_target)\n",
    "\n",
    "    # Print status after each round\n",
    "    print(f\"\\nAfter Round #{round_num}:\")\n",
    "    for hero in heroes:\n",
    "        print(hero)\n",
    "    print(\"\\n\")  # two blank lines\n",
    "\n",
    "print(f\"\\nTHE WINNER IS: {heroes[0].name}\")"
   ]
  },
  {
   "cell_type": "code",
   "execution_count": null,
   "id": "ac823d38-dbfb-4e35-a4da-43e5f4adb0a6",
   "metadata": {
    "pycharm": {
     "name": "#%%\n"
    }
   },
   "outputs": [],
   "source": []
  }
 ],
 "metadata": {
  "citation-manager": {
   "items": {}
  },
  "kernelspec": {
   "display_name": "Python 3 (ipykernel)",
   "language": "python",
   "name": "python3"
  },
  "language_info": {
   "codemirror_mode": {
    "name": "ipython",
    "version": 3
   },
   "file_extension": ".py",
   "mimetype": "text/x-python",
   "name": "python",
   "nbconvert_exporter": "python",
   "pygments_lexer": "ipython3",
   "version": "3.9.12"
  }
 },
 "nbformat": 4,
 "nbformat_minor": 5
}
