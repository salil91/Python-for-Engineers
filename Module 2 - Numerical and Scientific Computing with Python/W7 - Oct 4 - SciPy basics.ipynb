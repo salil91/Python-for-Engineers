{
 "cells": [
  {
   "cell_type": "markdown",
   "id": "351ebc23-ef08-4e0c-beaa-8d7bc729cd3d",
   "metadata": {},
   "source": [
    "# W7 - October 4 - SciPy: Basics\n",
    "\n",
    "SciPy is a third-party library (not in the Standard Libraray), included with the Anaconda Distribution. Hence, you don't need to install it in the default Anaconda environment (`base`).\n",
    "\n",
    "**Why use SciPy?**\n",
    "\n",
    "The `scipy` package contains various toolboxes dedicated to common issues in scientific computing. Its different submodules correspond to different applications, such as interpolation, integration, optimization, image processing, statistics, special functions, etc. As `scipy` is a huge package, it's more common to import the specific modules/functions that you need instead of the whole package.\n",
    "\n",
    "https://docs.scipy.org/doc/scipy/\n",
    "\n",
    "https://scipy-lectures.org/"
   ]
  },
  {
   "cell_type": "markdown",
   "id": "2f4e6775-7f32-48f7-a5f5-9008ce52b3ed",
   "metadata": {
    "tags": []
   },
   "source": [
    "## SciPy vs NumPy\n",
    "\n",
    "SciPy is the core package for scientific routines in Python, and is meant to operate efficiently on NumPy arrays. So NumPy and SciPy work hand in hand, with Matplotlib used to easily plot data."
   ]
  },
  {
   "cell_type": "code",
   "execution_count": 1,
   "id": "1b41fef0-7002-48de-b432-3f5dec4cb20c",
   "metadata": {},
   "outputs": [],
   "source": [
    "import numpy as np\n",
    "import matplotlib.pyplot as plt"
   ]
  },
  {
   "cell_type": "markdown",
   "id": "32ae89da-91f6-4248-9dd0-de0a628c7524",
   "metadata": {},
   "source": [
    "NumPy is written in C, while SciPy is written in Python, making Numpy a lot faster for basic computations. In fact, SciPy consists of all the NumPy functions, but they are slower than their NumPy counterparts due to the difference in computation speed between Python and C.\n",
    "\n",
    "For most cases, you would use NumPy for it's array object, basic operations likes sorting and indexing, elementwise operations using universal functions (`ufuncs` like `np.sin()`), and other array manipulations. SciPy, on the other hand, contains all the algebraic functions and is more powerful, efficient, and flexible in solving scientific problems. While NumPy does offer some features that overlap with those of SciPy, the former is often less powerful, and not in a full-fledged form.\n",
    "\n",
    "For example, the sub-module `numpy.linalg` implements basic linear algebra, such as solving linear systems, singular value decomposition, etc. However, it is not guaranteed to be compiled using efficient routines, and thus it is recommended to use `scipy.linalg`.\n",
    "\n",
    "Just like NumPy, SciPy also has a lot of special funtions: https://docs.scipy.org/doc/scipy/reference/special.html"
   ]
  },
  {
   "cell_type": "markdown",
   "id": "11695be1-4f35-4a52-8111-b99ffb10aec8",
   "metadata": {
    "jp-MarkdownHeadingCollapsed": true,
    "tags": []
   },
   "source": [
    "## Linear Algebra\n",
    "\n",
    "`scipy.linalg` provides all the standard linear algebra operations, using an efficient implementation.\n",
    "\n",
    "https://docs.scipy.org/doc/scipy/reference/linalg.html"
   ]
  },
  {
   "cell_type": "code",
   "execution_count": 2,
   "id": "23adc75a-c8f2-4c53-ad36-af8933b5bc6a",
   "metadata": {},
   "outputs": [],
   "source": [
    "from scipy import linalg"
   ]
  },
  {
   "cell_type": "code",
   "execution_count": 3,
   "id": "83094a0d-3410-4a15-99ef-3adbdc07fc3f",
   "metadata": {},
   "outputs": [
    {
     "data": {
      "text/plain": [
       "array([[3, 8],\n",
       "       [1, 0]])"
      ]
     },
     "execution_count": 3,
     "metadata": {},
     "output_type": "execute_result"
    }
   ],
   "source": [
    "a = np.array([[3, 8], [1, 0]])\n",
    "a"
   ]
  },
  {
   "cell_type": "code",
   "execution_count": 4,
   "id": "98a62bc0-316e-46a9-8cb0-1947bbbf8f69",
   "metadata": {},
   "outputs": [
    {
     "data": {
      "text/plain": [
       "-8.0"
      ]
     },
     "execution_count": 4,
     "metadata": {},
     "output_type": "execute_result"
    }
   ],
   "source": [
    "# Calculate the determinant\n",
    "linalg.det(a)"
   ]
  },
  {
   "cell_type": "code",
   "execution_count": 5,
   "id": "0f229f47-7696-44b0-84a6-31054dfc4173",
   "metadata": {},
   "outputs": [
    {
     "data": {
      "text/plain": [
       "array([[ 0.   ,  1.   ],\n",
       "       [ 0.125, -0.375]])"
      ]
     },
     "execution_count": 5,
     "metadata": {},
     "output_type": "execute_result"
    }
   ],
   "source": [
    "# Calculate the inverse\n",
    "i = linalg.inv(a)\n",
    "i"
   ]
  },
  {
   "cell_type": "code",
   "execution_count": 6,
   "id": "cf9c9849-5903-4523-9af9-5d3d3d92721c",
   "metadata": {},
   "outputs": [
    {
     "data": {
      "text/plain": [
       "array([[1., 0.],\n",
       "       [0., 1.]])"
      ]
     },
     "execution_count": 6,
     "metadata": {},
     "output_type": "execute_result"
    }
   ],
   "source": [
    "# Dot product results in a 2x2 identity matrix\n",
    "np.dot(a, i)"
   ]
  },
  {
   "cell_type": "markdown",
   "id": "ecc6e149-86b0-476c-a38d-9b1b4575c76e",
   "metadata": {},
   "source": [
    "**For non-square matrices**"
   ]
  },
  {
   "cell_type": "code",
   "execution_count": 7,
   "id": "498b2972-b062-4801-b9ea-3403d33843d5",
   "metadata": {},
   "outputs": [
    {
     "data": {
      "text/plain": [
       "array([[ 3,  8, 10],\n",
       "       [ 1,  0, 20]])"
      ]
     },
     "execution_count": 7,
     "metadata": {},
     "output_type": "execute_result"
    }
   ],
   "source": [
    "b = np.array([[3, 8, 10], [1, 0, 20]])\n",
    "b"
   ]
  },
  {
   "cell_type": "code",
   "execution_count": 8,
   "id": "854c8f2d-9478-4ebf-a81d-ac0d8568345d",
   "metadata": {},
   "outputs": [
    {
     "ename": "ValueError",
     "evalue": "expected square matrix",
     "output_type": "error",
     "traceback": [
      "\u001b[1;31m---------------------------------------------------------------------------\u001b[0m",
      "\u001b[1;31mValueError\u001b[0m                                Traceback (most recent call last)",
      "Input \u001b[1;32mIn [8]\u001b[0m, in \u001b[0;36m<cell line: 1>\u001b[1;34m()\u001b[0m\n\u001b[1;32m----> 1\u001b[0m \u001b[43mlinalg\u001b[49m\u001b[38;5;241;43m.\u001b[39;49m\u001b[43mdet\u001b[49m\u001b[43m(\u001b[49m\u001b[43mb\u001b[49m\u001b[43m)\u001b[49m\n",
      "File \u001b[1;32m~\\Anaconda3\\lib\\site-packages\\scipy\\linalg\\_basic.py:1013\u001b[0m, in \u001b[0;36mdet\u001b[1;34m(a, overwrite_a, check_finite)\u001b[0m\n\u001b[0;32m   1011\u001b[0m a1 \u001b[38;5;241m=\u001b[39m _asarray_validated(a, check_finite\u001b[38;5;241m=\u001b[39mcheck_finite)\n\u001b[0;32m   1012\u001b[0m \u001b[38;5;28;01mif\u001b[39;00m \u001b[38;5;28mlen\u001b[39m(a1\u001b[38;5;241m.\u001b[39mshape) \u001b[38;5;241m!=\u001b[39m \u001b[38;5;241m2\u001b[39m \u001b[38;5;129;01mor\u001b[39;00m a1\u001b[38;5;241m.\u001b[39mshape[\u001b[38;5;241m0\u001b[39m] \u001b[38;5;241m!=\u001b[39m a1\u001b[38;5;241m.\u001b[39mshape[\u001b[38;5;241m1\u001b[39m]:\n\u001b[1;32m-> 1013\u001b[0m     \u001b[38;5;28;01mraise\u001b[39;00m \u001b[38;5;167;01mValueError\u001b[39;00m(\u001b[38;5;124m'\u001b[39m\u001b[38;5;124mexpected square matrix\u001b[39m\u001b[38;5;124m'\u001b[39m)\n\u001b[0;32m   1014\u001b[0m overwrite_a \u001b[38;5;241m=\u001b[39m overwrite_a \u001b[38;5;129;01mor\u001b[39;00m _datacopied(a1, a)\n\u001b[0;32m   1015\u001b[0m fdet, \u001b[38;5;241m=\u001b[39m get_flinalg_funcs((\u001b[38;5;124m'\u001b[39m\u001b[38;5;124mdet\u001b[39m\u001b[38;5;124m'\u001b[39m,), (a1,))\n",
      "\u001b[1;31mValueError\u001b[0m: expected square matrix"
     ]
    }
   ],
   "source": [
    "linalg.det(b)"
   ]
  },
  {
   "cell_type": "markdown",
   "id": "e1f748ba-5ee9-41c5-bc12-e0d5f69d892a",
   "metadata": {},
   "source": [
    "**For singular matrices**"
   ]
  },
  {
   "cell_type": "code",
   "execution_count": null,
   "id": "59b03d7b-cde1-4889-81e6-6f77ed6e46c5",
   "metadata": {},
   "outputs": [],
   "source": [
    "b = np.array([[5, 3], [10, 6]])\n",
    "b"
   ]
  },
  {
   "cell_type": "code",
   "execution_count": null,
   "id": "edc2ffc9-293d-463f-a0c9-5775f40a9787",
   "metadata": {},
   "outputs": [],
   "source": [
    "linalg.det(b)"
   ]
  },
  {
   "cell_type": "code",
   "execution_count": null,
   "id": "9ad9fdc2-9f61-4c4b-9570-4b6ef5ccda33",
   "metadata": {},
   "outputs": [],
   "source": [
    "linalg.inv(b)"
   ]
  },
  {
   "cell_type": "markdown",
   "id": "32e5aac0-7313-4940-87cc-7f666cf8b02f",
   "metadata": {},
   "source": [
    "**Singlar value decomposition**"
   ]
  },
  {
   "cell_type": "code",
   "execution_count": null,
   "id": "c382a61e-9626-497c-8a22-0a5e17537520",
   "metadata": {},
   "outputs": [],
   "source": [
    "a = np.arange(10,19).reshape((3, 3)) + np.diag([100, 200, 300])\n",
    "a"
   ]
  },
  {
   "cell_type": "code",
   "execution_count": null,
   "id": "4bc7dddf-5f7d-4e36-a4bf-9d4474d6e346",
   "metadata": {},
   "outputs": [],
   "source": [
    "u, spec, vh = linalg.svd(a)"
   ]
  },
  {
   "cell_type": "code",
   "execution_count": null,
   "id": "cb52f508-c540-4c58-a847-9b49f42afcae",
   "metadata": {},
   "outputs": [],
   "source": [
    "u"
   ]
  },
  {
   "cell_type": "code",
   "execution_count": null,
   "id": "58847202-d858-4ebc-8dba-115dddc483a2",
   "metadata": {},
   "outputs": [],
   "source": [
    "spec"
   ]
  },
  {
   "cell_type": "code",
   "execution_count": null,
   "id": "d4e8e033-f1d8-4a8c-b913-3ff6b766f02f",
   "metadata": {},
   "outputs": [],
   "source": [
    "vh"
   ]
  },
  {
   "cell_type": "markdown",
   "id": "d3fac329-6ed2-4efe-b4c0-675b1d6b8322",
   "metadata": {},
   "source": [
    "Re-compose the original matrix"
   ]
  },
  {
   "cell_type": "code",
   "execution_count": null,
   "id": "09d88a8c-a7da-4ec2-82bc-6ab8ed1f2b2c",
   "metadata": {},
   "outputs": [],
   "source": [
    "s = np.diag(spec)\n",
    "svd_mat = u.dot(s).dot(vh)\n",
    "svd_mat"
   ]
  },
  {
   "cell_type": "code",
   "execution_count": null,
   "id": "297866fc-0772-43b1-b419-6941171a5472",
   "metadata": {},
   "outputs": [],
   "source": [
    "# Test if both arrays are element-wise equal (within a tolerance).\n",
    "np.allclose(svd_mat, a)"
   ]
  },
  {
   "cell_type": "markdown",
   "id": "6e067a28-a765-43bd-8e3a-de3d579bee03",
   "metadata": {
    "tags": []
   },
   "source": [
    "## Interpolation"
   ]
  },
  {
   "cell_type": "code",
   "execution_count": 9,
   "id": "13142c37-bbbe-4870-b938-53343a200267",
   "metadata": {},
   "outputs": [
    {
     "data": {
      "image/png": "[encoded data removed]",
      "text/plain": [
       "<Figure size 800x500 with 1 Axes>"
      ]
     },
     "metadata": {},
     "output_type": "display_data"
    }
   ],
   "source": [
    "time = np.linspace(0, 2, 10)\n",
    "\n",
    "# Add arbitrary noise (normally distributed)\n",
    "noise = np.random.normal(0, 0.1, time.shape)\n",
    "\n",
    "measures = np.sin(np.pi*time) + noise\n",
    "\n",
    "# Plot data\n",
    "plt.figure(figsize=(8, 5))\n",
    "plt.plot(time, measures, 'ok', label=\"Measured data\");"
   ]
  },
  {
   "cell_type": "markdown",
   "id": "9fb7fc59-5040-49a4-bf0b-6ff6482dcb92",
   "metadata": {},
   "source": [
    "**Linear interpolation**\n",
    "\n",
    "https://docs.scipy.org/doc/scipy/reference/generated/scipy.interpolate.interp1d.html"
   ]
  },
  {
   "cell_type": "code",
   "execution_count": 11,
   "id": "f66205ec-973d-45b1-9fb2-5fbc33f4819b",
   "metadata": {},
   "outputs": [
    {
     "data": {
      "image/png": "[encoded data removed]",
      "text/plain": [
       "<Figure size 800x500 with 1 Axes>"
      ]
     },
     "metadata": {},
     "output_type": "display_data"
    }
   ],
   "source": [
    "from scipy.interpolate import interp1d  # The 1d is for a 1d array, not for linear\n",
    "\n",
    "# Linear interpolation is the default\n",
    "linear_int = interp1d(time, measures)\n",
    "\n",
    "# Array to plot interpolated function\n",
    "int_time = np.linspace(0, 2, 50)\n",
    "\n",
    "# Interpolated curve\n",
    "linear_int_points= linear_int(int_time)\n",
    "\n",
    "# Plot data\n",
    "plt.figure(figsize=(8, 5))\n",
    "plt.plot(time, measures, 'ok', label=\"Measured data\")\n",
    "plt.plot(int_time, linear_int_points, 'b', label=\"Linear interpolation\")\n",
    "plt.legend();"
   ]
  },
  {
   "cell_type": "markdown",
   "id": "d1ea478b-e9d0-4425-ab4d-8abb33effd79",
   "metadata": {},
   "source": [
    "**Quadratic interpolation**"
   ]
  },
  {
   "cell_type": "code",
   "execution_count": 17,
   "id": "8cc2e40f-fad2-45bb-a010-f3f48e273ed5",
   "metadata": {},
   "outputs": [
    {
     "data": {
      "image/png": "[encoded data removed]",
      "text/plain": [
       "<Figure size 800x500 with 1 Axes>"
      ]
     },
     "metadata": {},
     "output_type": "display_data"
    }
   ],
   "source": [
    "quad_int = interp1d(time, measures, kind=\"quadratic\")  # default is \"linear\"\n",
    "quad_int_points = quad_int(int_time)\n",
    "\n",
    "# Plot data\n",
    "plt.figure(figsize=(8, 5))\n",
    "plt.plot(time, measures, 'ok', label=\"Measured data\")\n",
    "plt.plot(int_time, linear_int_points, '.b', label=\"Linear interpolation\")\n",
    "plt.plot(int_time, quad_int_points, '.r', label=\"Quadratic interpolation\")\n",
    "plt.legend();"
   ]
  },
  {
   "cell_type": "markdown",
   "id": "16b6cf61-50c0-4baf-9752-cc4f540b3f69",
   "metadata": {},
   "source": [
    "`scipy.interpolate.interp2d` can be used in a similar fashion for 2D arrays. It is similar to `scipy.interpolate.interp1d`, and we will experiment with this during HW4.\n",
    "\n",
    "https://docs.scipy.org/doc/scipy/reference/generated/scipy.interpolate.interp2d.html\n",
    "\n",
    "**Note: *Interpolation*** points must stay within the range of given data points. Otherwise, it is *extrapolation*."
   ]
  },
  {
   "cell_type": "markdown",
   "id": "6007b762-86bd-4322-9a2d-1c24f9aece38",
   "metadata": {
    "tags": []
   },
   "source": [
    "## Numerical integration"
   ]
  },
  {
   "cell_type": "markdown",
   "id": "a3b43e73-7a39-4fa7-83e6-1a0e1e8e30d5",
   "metadata": {
    "tags": []
   },
   "source": [
    "### Integrating a function\n",
    "\n",
    "https://docs.scipy.org/doc/scipy/reference/integrate.html"
   ]
  },
  {
   "cell_type": "markdown",
   "id": "4884625c-044a-44d0-8956-f12a1b464aad",
   "metadata": {},
   "source": [
    "**Integrating a NumPy ufunc**\n",
    "\n",
    "For example, `np.sin` from $0$ to $\\pi/2$"
   ]
  },
  {
   "cell_type": "code",
   "execution_count": null,
   "id": "4c54fca3-909b-4ed0-805a-dfbea967aa15",
   "metadata": {},
   "outputs": [],
   "source": [
    "from scipy.integrate import quad\n",
    "\n",
    "result, error = quad(np.sin, 0, np.pi/2)\n",
    "result  # should be close to 1"
   ]
  },
  {
   "cell_type": "code",
   "execution_count": null,
   "id": "d730724e-be35-42fe-9e57-2fd60fcb1a28",
   "metadata": {},
   "outputs": [],
   "source": [
    "error  # ideally 0"
   ]
  },
  {
   "cell_type": "markdown",
   "id": "fc4ec44f-09a8-4ee2-b7ee-7e176927d18e",
   "metadata": {},
   "source": [
    "**Integrating a user-defined `lambda` function**\n",
    "\n",
    "$3x^2 + 2x + 1$ from $0$ to $1$"
   ]
  },
  {
   "cell_type": "code",
   "execution_count": null,
   "id": "1517fd0e-e3eb-4a47-890d-a71162b5376b",
   "metadata": {},
   "outputs": [],
   "source": [
    "# Define function\n",
    "func = lambda x: 3*x**2 + 2*x + 1\n",
    "\n",
    "# Integrate\n",
    "result, error = quad(func, 0, 1)\n",
    "result  # should be close to 3"
   ]
  },
  {
   "cell_type": "markdown",
   "id": "2426a198-8569-4f12-bbdc-dff2b4797c8f",
   "metadata": {},
   "source": [
    "Other integration routines are available: https://docs.scipy.org/doc/scipy/reference/integrate.html"
   ]
  },
  {
   "cell_type": "markdown",
   "id": "728250d1-20f4-4295-8be7-e480b62c1fd0",
   "metadata": {
    "tags": []
   },
   "source": [
    "### Integrating an Ordinary Differential Equation (ODE)\n",
    "\n",
    "https://docs.scipy.org/doc/scipy/reference/generated/scipy.integrate.odeint.html"
   ]
  },
  {
   "cell_type": "markdown",
   "id": "f5e7afec-1ee6-4c89-ad7a-615d6ffe92e5",
   "metadata": {},
   "source": [
    "**Simple ODE**\n",
    "\n",
    "$\\frac{dy}{dt} = -y^2$ in the range $y = [0\\text{ }1]$, with the initial condition $y(0) = 10$.\n",
    "\n",
    "First, we need to define the function computing the derivative:"
   ]
  },
  {
   "cell_type": "code",
   "execution_count": null,
   "id": "9ebba10a-e949-42b1-9032-0d1acc15fa65",
   "metadata": {},
   "outputs": [],
   "source": [
    "from scipy.integrate import odeint\n",
    "\n",
    "# Define function\n",
    "d_func = lambda y, t: -y**2\n",
    "\n",
    "# Set up t array\n",
    "t_array = np.linspace(0, 1, 50)\n",
    "\n",
    "# Use odeint to obtain y\n",
    "y_array = odeint(d_func, y0=10, t=t_array)\n",
    "\n",
    "# Plot\n",
    "plt.plot(t_array, y_array)\n",
    "plt.xlabel(\"$t$\")\n",
    "plt.ylabel(\"$y$\");"
   ]
  },
  {
   "cell_type": "markdown",
   "id": "730b5a44-c062-4c68-a740-49979a8342da",
   "metadata": {},
   "source": [
    "**A more complex example**\n",
    "\n",
    "Consider a damped spring-mass oscillator, where the position of a mass attached to a spring obeys the 2nd order ODE\n",
    "\n",
    "$y'' + 2 \\varepsilon \\omega_0  y' + \\omega_0^2 y = 0$,\n",
    "\n",
    "with $\\omega_0^2 = k/m$, and $\\varepsilon = c/(2 m \\omega_0)$\n",
    "\n",
    "where $k$ the spring constant, $m$ the mass, and $c$ the damping coefficient."
   ]
  },
  {
   "cell_type": "code",
   "execution_count": null,
   "id": "f81e3399-a4f4-4a6d-91dd-2fd5794da901",
   "metadata": {},
   "outputs": [],
   "source": [
    "m = 2  # kg\n",
    "k = 10  # N/m\n",
    "c = 1.5  # Ns/m\n",
    "\n",
    "omega_0 = np.sqrt(k/m)\n",
    "eps = c / (2*m*np.sqrt(k/m))\n",
    "eps  # underdamped as eps < 1"
   ]
  },
  {
   "cell_type": "markdown",
   "id": "78a752ec-a91b-49cf-8b4c-3fbdadb0fd8b",
   "metadata": {},
   "source": [
    "For `odeint()`, this 2nd order equation needs to be transformed in a system of two first-order equations: $Y = (y, y')$"
   ]
  },
  {
   "cell_type": "code",
   "execution_count": null,
   "id": "6101431a-aa59-4a47-b660-4eb49bfdeedd",
   "metadata": {},
   "outputs": [],
   "source": [
    "def damped_func(y, t, eps, omega_0):\n",
    "    return y[1], -2.0 * eps * omega_0 * y[1] - omega_0**2 * y[0]"
   ]
  },
  {
   "cell_type": "code",
   "execution_count": null,
   "id": "b516c9c7-dc59-4ecc-b2e5-b08107e4b10c",
   "metadata": {},
   "outputs": [],
   "source": [
    "# Set up t array\n",
    "t_array = np.linspace(0, 10, 100)\n",
    "\n",
    "# Use odeint to obtain y and y'\n",
    "y_array = odeint(damped_func, y0=(1, 0), t=t_array, args=(eps, omega_0))\n",
    "\n",
    "plt.plot(t_array, y_array[:, 0], label=\"$y$\")\n",
    "plt.plot(t_array, y_array[:, 1], label=\"$y'$\")\n",
    "plt.legend();"
   ]
  },
  {
   "cell_type": "markdown",
   "id": "b85cdfd0-2364-416c-bcff-dc36823596e7",
   "metadata": {
    "jp-MarkdownHeadingCollapsed": true,
    "tags": []
   },
   "source": [
    "## Fast Fourier Transforms (FFTs)\n",
    "\n",
    "https://docs.scipy.org/doc/scipy/reference/fftpack.html"
   ]
  },
  {
   "cell_type": "code",
   "execution_count": null,
   "id": "5d4a0898-ed25-41e0-8ff6-a4a3120d614f",
   "metadata": {},
   "outputs": [],
   "source": [
    "from scipy import fftpack\n",
    "\n",
    "# Generate noisy signal\n",
    "time, time_step = np.linspace(0, 25, 1000, retstep=True)  # return step as well\n",
    "noise = np.random.randn(time.size)/2\n",
    "sig = np.sin(time) + noise\n",
    "\n",
    "# Plot\n",
    "plt.figure(figsize=(8, 5))\n",
    "plt.plot(time, sig)\n",
    "plt.xlabel(\"Time\")\n",
    "plt.ylabel(\"Signal\");"
   ]
  },
  {
   "cell_type": "code",
   "execution_count": null,
   "id": "58a07763-90cb-4d19-8ea9-3f583b0ea5ca",
   "metadata": {},
   "outputs": [],
   "source": [
    "# Compute FFT\n",
    "sig_fft = fftpack.fft(sig)\n",
    "power = np.abs(sig_fft)**2\n",
    "\n",
    "# Generate sampling frequencies\n",
    "freqs = fftpack.fftfreq(sig.size, d=time_step)\n",
    "\n",
    "# As FFTs are symmetric , let's only look at the the positive frequencies\n",
    "pos_mask = np.where(freqs > 0)\n",
    "pos_freqs = freqs[pos_mask]\n",
    "\n",
    "# Peak frequency\n",
    "peak_freq = pos_freqs[power[pos_mask].argmax()]\n",
    "print(f\"Peak frequency = {peak_freq:.2f}\")\n",
    "\n",
    "# Plot\n",
    "fig, axs = plt.subplots(1, 2, figsize=(16, 5))\n",
    "# FFT\n",
    "axs[0].plot(freqs, power)\n",
    "axs[0].set_xlabel(\"Frequency\")\n",
    "axs[0].set_ylabel(\"Counts\")\n",
    "axs[0].set_title(\"FFT\");\n",
    "# Plot peak frequency\n",
    "axs[1].plot(pos_freqs[:8], power[pos_mask][:8])\n",
    "axs[1].set_xlabel(\"Frequency\")\n",
    "axs[1].set_ylabel(\"Counts\")\n",
    "axs[1].set_title(\"Peak Frequency\");"
   ]
  },
  {
   "cell_type": "markdown",
   "id": "3d7ada03-df0e-475d-9e0a-779e87bfa3e0",
   "metadata": {},
   "source": [
    "**Simple filtering of high frequencies (noise) using FFTs**"
   ]
  },
  {
   "cell_type": "code",
   "execution_count": null,
   "id": "55d9ca23-4749-44b9-b9c2-a62555d5c677",
   "metadata": {},
   "outputs": [],
   "source": [
    "# Create a copy of the signal FFTs and remove everything above the peak frequency\n",
    "high_freq_fft = sig_fft.copy()\n",
    "high_freq_fft[np.abs(freqs) > peak_freq] = 0\n",
    "\n",
    "# Inverse FFT\n",
    "filtered_sig = fftpack.ifft(high_freq_fft)\n",
    "\n",
    "# Plot\n",
    "plt.figure(figsize=(8, 5))\n",
    "plt.plot(time, sig, label='Original signal')\n",
    "plt.plot(time, filtered_sig, linewidth=3, label='Filtered signal')\n",
    "plt.xlabel('Time')\n",
    "plt.ylabel('Signal')\n",
    "plt.legend();"
   ]
  },
  {
   "cell_type": "markdown",
   "id": "0cbb6c93-66bf-4aae-b488-c6aeec86498f",
   "metadata": {},
   "source": [
    "**Note:** This is actually a pretty terrible way of filtering a signal."
   ]
  },
  {
   "cell_type": "markdown",
   "id": "2052ffa9-76e7-4064-9e4b-1ebd2381a8e6",
   "metadata": {
    "tags": []
   },
   "source": [
    "## Signal processing\n",
    "\n",
    "https://docs.scipy.org/doc/scipy/reference/signal.html"
   ]
  },
  {
   "cell_type": "code",
   "execution_count": null,
   "id": "f08ae439-6e64-49a9-97e2-07f8318aefc4",
   "metadata": {},
   "outputs": [],
   "source": [
    "from scipy import signal"
   ]
  },
  {
   "cell_type": "markdown",
   "id": "70dd5d26-1605-49d0-a407-f01131d02824",
   "metadata": {
    "jp-MarkdownHeadingCollapsed": true,
    "tags": []
   },
   "source": [
    "### Butterworth filter\n",
    "\n",
    "A better way to do filter out noise (like we did above). Let's create the low pass filter."
   ]
  },
  {
   "cell_type": "code",
   "execution_count": null,
   "id": "4393bc42-af14-47ff-a608-a73fffdb21b0",
   "metadata": {},
   "outputs": [],
   "source": [
    "# Generate signal with two frequencies\n",
    "time, time_step = np.linspace(0, 4, 1000, retstep=True)\n",
    "sig = np.sin(2*np.pi*time) + np.sin(2*np.pi*10*time)  # 1 Hz and 10 Hz\n",
    "\n",
    "# Plot\n",
    "plt.figure(figsize=(8, 5))\n",
    "plt.plot(time, sig)\n",
    "plt.xlabel(\"Time\")\n",
    "plt.ylabel(\"Signal\");"
   ]
  },
  {
   "cell_type": "code",
   "execution_count": null,
   "id": "85a88978-7797-4216-92a1-0d18b108ffc0",
   "metadata": {},
   "outputs": [],
   "source": [
    "# 5th order (N) Lowpass filter with a cutoff frequency of 8 Hz (Wn)\n",
    "lp_filter = signal.butter(N=5, Wn=8, btype=\"lowpass\", fs=1000, output=\"sos\")  # lowpass is the default\n",
    "lp_filtered_sig = signal.sosfilt(lp_filter, sig)\n",
    "\n",
    "# Plot\n",
    "plt.figure(figsize=(8, 5))\n",
    "plt.plot(time, lp_filtered_sig)\n",
    "plt.xlabel(\"Time\")\n",
    "plt.ylabel(\"LP Filtered Signal\")\n",
    "plt.title(\"LP Filtered Signal\");"
   ]
  },
  {
   "cell_type": "code",
   "execution_count": null,
   "id": "a9ebe2c1-028d-46d8-93c7-e1f30bfae1df",
   "metadata": {},
   "outputs": [],
   "source": [
    "# 5th order (N) highpass filter with a cutoff frequency of 8 Hz (Wn)\n",
    "hp_filter = signal.butter(N=5, Wn=8, btype=\"highpass\", fs=1000, output=\"sos\")\n",
    "hp_filtered_sig = signal.sosfilt(hp_filter, sig)\n",
    "\n",
    "# Plot\n",
    "plt.figure(figsize=(8, 5))\n",
    "plt.plot(time, hp_filtered_sig)\n",
    "plt.xlabel(\"Time\")\n",
    "plt.ylabel(\"HP Filtered Signal\")\n",
    "plt.title(\"HP Filtered Signal\");"
   ]
  },
  {
   "cell_type": "code",
   "execution_count": null,
   "id": "59cb0022-c8f0-4265-8fff-6941ada52591",
   "metadata": {},
   "outputs": [],
   "source": [
    "# Plot\n",
    "plt.figure(figsize=(8, 5))\n",
    "plt.plot(time, hp_filtered_sig + lp_filtered_sig)\n",
    "plt.xlabel(\"Time\")\n",
    "plt.ylabel(\"Recomposed Signal\")\n",
    "plt.title(\"Recomposed Signal\");"
   ]
  },
  {
   "cell_type": "markdown",
   "id": "5ffe179b-d8f5-4b13-86c4-1c805d236437",
   "metadata": {
    "tags": []
   },
   "source": [
    "### Detrend\n",
    "\n",
    "Remove linear baseline from signal"
   ]
  },
  {
   "cell_type": "code",
   "execution_count": null,
   "id": "31357daf-6561-4c2f-9b55-2d227e416dc6",
   "metadata": {},
   "outputs": [],
   "source": [
    "# Create example signal\n",
    "t = np.linspace(0, 10, 100)\n",
    "sig = t + np.sin(np.pi*t)\n",
    "\n",
    "sig_detrended = signal.detrend(sig)\n",
    "\n",
    "# Plots\n",
    "plt.figure(figsize=(8, 5))\n",
    "plt.plot(t, sig, label=\"Original signal\") \n",
    "plt.plot(t, sig_detrended, label=\"Detrended signal\") \n",
    "plt.legend();"
   ]
  },
  {
   "cell_type": "markdown",
   "id": "4d6a6069-9aa3-469f-afc1-1df8789823fb",
   "metadata": {
    "tags": []
   },
   "source": [
    "### Peak finding"
   ]
  },
  {
   "cell_type": "code",
   "execution_count": null,
   "id": "735aec91-1c42-4c88-bae2-9a2d70857e5a",
   "metadata": {},
   "outputs": [],
   "source": [
    "x = np.array([2, 5, 15, 1, 3, 8, 12, 20, 1, 2, 8, 10, 2, 0])\n",
    "t = np.arange(x.size)\n",
    "plt.plot(t, x, 'b', label=\"Signal\");"
   ]
  },
  {
   "cell_type": "code",
   "execution_count": null,
   "id": "85940a44-c25f-4b77-999d-00fc80c1da4f",
   "metadata": {},
   "outputs": [],
   "source": [
    "# Find postions of local maxima\n",
    "max_pos = signal.argrelmax(x)\n",
    "max_pos"
   ]
  },
  {
   "cell_type": "code",
   "execution_count": null,
   "id": "6b881614-81e0-489a-9a8c-e8a7fabc83a8",
   "metadata": {},
   "outputs": [],
   "source": [
    "plt.plot(t, x, 'b', label=\"Signal\")\n",
    "plt.plot(t[max_pos], x[max_pos], 'ro', label=\"Local Maxima\")\n",
    "plt.legend();"
   ]
  },
  {
   "cell_type": "code",
   "execution_count": null,
   "id": "146562f5-e2ed-414d-af39-994b994314bb",
   "metadata": {},
   "outputs": [],
   "source": [
    "# Find postions of local minima\n",
    "min_pos = signal.argrelmin(x)\n",
    "\n",
    "plt.plot(t, x, 'b', label=\"Signal\")\n",
    "plt.plot(t[max_pos], x[max_pos], 'ro', label=\"Local Maxima\")\n",
    "plt.plot(t[min_pos], x[min_pos], 'gs', label=\"Local Minima\")\n",
    "plt.legend();"
   ]
  },
  {
   "cell_type": "markdown",
   "id": "8b2c7dd7-b56c-4d16-8ef9-975b300d1120",
   "metadata": {},
   "source": [
    "**A much more customizable function** is `scipy.signal.find_peaks()`, where you can customize the properties of the peaks to find. It will also return a dictionary with the peaks matching these properties.\n",
    "\n",
    "https://docs.scipy.org/doc/scipy/reference/generated/scipy.signal.find_peaks.html#scipy.signal.find_peaks"
   ]
  },
  {
   "cell_type": "code",
   "execution_count": null,
   "id": "091c91c6-9120-4541-b64a-51e019b15cdc",
   "metadata": {},
   "outputs": [],
   "source": [
    "# Simple example\n",
    "peaks, properties = signal.find_peaks(x)\n",
    "peaks"
   ]
  },
  {
   "cell_type": "code",
   "execution_count": null,
   "id": "fba34c59-1326-4d02-8f6f-ace46a65e28b",
   "metadata": {},
   "outputs": [],
   "source": [
    "properties"
   ]
  },
  {
   "cell_type": "code",
   "execution_count": null,
   "id": "fd1f8302-3fd6-495d-8afa-1117a309210d",
   "metadata": {},
   "outputs": [],
   "source": [
    "plt.plot(t, x, 'b', label=\"Signal\")\n",
    "plt.plot(t[peaks], x[peaks], 'ro', label=\"Local Maxima\")\n",
    "plt.legend();"
   ]
  },
  {
   "cell_type": "code",
   "execution_count": null,
   "id": "d306f22b-e59d-475a-beee-fb83301a9655",
   "metadata": {},
   "outputs": [],
   "source": [
    "# Adding some constraints for the peak properties\n",
    "peaks, properties = signal.find_peaks(x, height=15, width=1.5)\n",
    "peaks"
   ]
  },
  {
   "cell_type": "code",
   "execution_count": null,
   "id": "d8c849bf-58a5-4224-b0d5-95a2d77265d2",
   "metadata": {},
   "outputs": [],
   "source": [
    "properties"
   ]
  },
  {
   "cell_type": "code",
   "execution_count": null,
   "id": "6689a411-3340-4054-a266-8d453f4f335b",
   "metadata": {},
   "outputs": [],
   "source": [
    "plt.plot(t, x, 'b', label=\"Signal\")\n",
    "plt.plot(t[peaks], x[peaks], 'ro', label=\"Local Maxima\")\n",
    "plt.legend();"
   ]
  },
  {
   "cell_type": "markdown",
   "id": "63eddc2c-73ba-4cf7-87e2-fefc91e8deb2",
   "metadata": {
    "jp-MarkdownHeadingCollapsed": true,
    "tags": []
   },
   "source": [
    "## File I/O"
   ]
  },
  {
   "cell_type": "markdown",
   "id": "16ce1f5d-8740-4290-b06a-a5fb3a0fd205",
   "metadata": {},
   "source": [
    "We've already seen how to import CSV files with NumPy:"
   ]
  },
  {
   "cell_type": "code",
   "execution_count": null,
   "id": "8779ef30-9d04-41d1-b633-c1990c330f74",
   "metadata": {},
   "outputs": [],
   "source": [
    "data = np.genfromtxt(\"data.csv\", delimiter=\",\", skip_header=1)\n",
    "data"
   ]
  },
  {
   "cell_type": "markdown",
   "id": "c796a9db-5e2b-418e-be26-a2ae414efb51",
   "metadata": {},
   "source": [
    "SciPy can help us read other types of files. For examples, MATLAB files:"
   ]
  },
  {
   "cell_type": "code",
   "execution_count": null,
   "id": "736596eb-8b38-4609-a55d-8cd398c92e38",
   "metadata": {},
   "outputs": [],
   "source": [
    "from scipy import io as spio\n",
    "\n",
    "# Create arbitrary arrays\n",
    "a = np.ones((3, 3))\n",
    "b = np.ones((4, 4))\n",
    "\n",
    "# Save in MATLAB format\n",
    "spio.savemat('file.mat', {'a': a, 'b': b}) # savemat expects a dictionary of variables\n",
    "\n",
    "# Load from MATLAB format (loads as a dictionary)\n",
    "data = spio.loadmat('file.mat')\n",
    "data"
   ]
  },
  {
   "cell_type": "code",
   "execution_count": null,
   "id": "b68f6290-9d6f-4481-b116-d8417fbaa407",
   "metadata": {},
   "outputs": [],
   "source": [
    "# Access variables\n",
    "data['a']"
   ]
  },
  {
   "cell_type": "markdown",
   "id": "2c88ac5b-4dc7-4724-8bec-e32d93ba332e",
   "metadata": {},
   "source": [
    "We will see how to read in image files in the next class."
   ]
  }
 ],
 "metadata": {
  "citation-manager": {
   "items": {}
  },
  "kernelspec": {
   "display_name": "Python 3 (ipykernel)",
   "language": "python",
   "name": "python3"
  },
  "language_info": {
   "codemirror_mode": {
    "name": "ipython",
    "version": 3
   },
   "file_extension": ".py",
   "mimetype": "text/x-python",
   "name": "python",
   "nbconvert_exporter": "python",
   "pygments_lexer": "ipython3",
   "version": "3.9.12"
  }
 },
 "nbformat": 4,
 "nbformat_minor": 5
}
