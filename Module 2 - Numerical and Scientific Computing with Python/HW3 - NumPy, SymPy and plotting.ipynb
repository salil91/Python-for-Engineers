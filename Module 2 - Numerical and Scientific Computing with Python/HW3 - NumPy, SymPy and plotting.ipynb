{
 "cells": [
  {
   "cell_type": "markdown",
   "id": "64c992e8-ce79-4544-bf59-cea68420dc32",
   "metadata": {
    "pycharm": {
     "name": "#%% md\n"
    }
   },
   "source": [
    "# Homework 3 - NumPy, SymPy and plotting\n",
    "**Due: Oct 11** \n",
    "\n",
    "***Total Points: 100***\n",
    "\n",
    "For full points, your code\n",
    "- must run without errors\n",
    "- must by *pythonic*\n",
    "- must be easily understandable, and well documented (either through inline comments or markdown).\n",
    "- ***All plots must have clearly and meaningfully labeled axes, unless you are simply plotting arbitrary numbers. Add legends where needed.***\n",
    "- ***Use separate markdown cells for any text answers.***\n",
    "- ***Show your work, i.e, print all relevant output.*** Remember that having a variable in the last line of a jupyter cell block automatically prints it's value. ***You can use multiple code blocks for a single question.***\n",
    "\n",
    "Remember to export your Jupyter notebook as a PDF file and upload both to Canvas.\n",
    "```\n",
    "File > Save and Export Notebook As... > PDF\n",
    "```\n",
    "\n",
    "Run every code block (and make sure the answer if fully visible) before submitting your notebook/PDF."
   ]
  },
  {
   "cell_type": "markdown",
   "id": "04e72583-fbcf-44a1-942d-dd95e5d9b9da",
   "metadata": {},
   "source": [
    "## Question 0\n",
    "\n",
    "Import all the libraries you need (`numpy`, `sympy`, `matplotlib`) in this notebook here."
   ]
  },
  {
   "cell_type": "code",
   "execution_count": null,
   "id": "0e9655bf-603a-4a7d-a6bc-97889f9f7eb0",
   "metadata": {},
   "outputs": [],
   "source": []
  },
  {
   "cell_type": "markdown",
   "id": "2f2f150a-32df-48c2-826e-b71a7cf5be5c",
   "metadata": {
    "tags": []
   },
   "source": [
    "## Question 1\n",
    "*20 points*"
   ]
  },
  {
   "cell_type": "markdown",
   "id": "202b2136-ac09-42d8-8534-89845689bdc4",
   "metadata": {
    "pycharm": {
     "name": "#%% md\n"
    },
    "tags": []
   },
   "source": [
    "### Question 1.1\n",
    "\n",
    "*5 points*\n",
    "\n",
    "Create the following 2D array using `numpy` functions, without typing it out explicitly. Pay attention to the data type.\n",
    "```\n",
    "[[ 11,  60, 110, 160, 210],\n",
    " [ 20,  71, 120, 170, 220],\n",
    " [ 30,  80, 131, 180, 230],\n",
    " [ 40,  90, 140, 191, 240],\n",
    " [ 50, 100, 150, 200, 251]]\n",
    "```"
   ]
  },
  {
   "cell_type": "code",
   "execution_count": null,
   "id": "4936da15-38f6-4929-8e23-79f15e42be15",
   "metadata": {},
   "outputs": [],
   "source": []
  },
  {
   "cell_type": "markdown",
   "id": "160e532f-c969-48d9-b5aa-1f9942c22ace",
   "metadata": {
    "pycharm": {
     "name": "#%% md\n"
    },
    "tags": []
   },
   "source": [
    "### Question 1.2\n",
    "\n",
    "*10 points*\n",
    "\n",
    "Divide each **column** of the 2D array shown above, elementwise, with the following array: `[10, 20, 30, 40, 50]`. Do not create this array explicitly either. Use a `numpy` function. Do NOT use a loop.\n",
    "\n",
    "Hint: Simply dividing the two arrays in their given forms will perform an elementwise division by **row**. This is NOT what we want. Instead, we want elementwise division by **column**. Every element in the first row should be divided by 10, every element in the second row by 20, and so on."
   ]
  },
  {
   "cell_type": "code",
   "execution_count": null,
   "id": "183ea6cf-e9e2-4fa8-8d32-93db25516083",
   "metadata": {},
   "outputs": [],
   "source": []
  },
  {
   "cell_type": "markdown",
   "id": "9a9979bb-8e60-43d2-abe5-448bcdeed6ac",
   "metadata": {
    "pycharm": {
     "name": "#%% md\n"
    },
    "tags": []
   },
   "source": [
    "### Question 1.3\n",
    "\n",
    "*5 points*\n",
    "\n",
    "Plot the resultant array from Q1.2.\n",
    "\n",
    "What does that tell you about how `matplotlib` deals with a 2D array as input?"
   ]
  },
  {
   "cell_type": "code",
   "execution_count": null,
   "id": "521fcf71-a1a7-4310-afc3-ac741f759e5f",
   "metadata": {},
   "outputs": [],
   "source": []
  },
  {
   "cell_type": "markdown",
   "id": "f9fec3a4-59b8-4423-8a57-af42d8ef72c4",
   "metadata": {},
   "source": [
    "**Answer:** With a 2D array as input, `matplotlib` create multiple lines, spliting the data by column. The `y` values correspond to each \"column vector\". The `x` values is basically the same as `range(array.shape[0])`."
   ]
  },
  {
   "cell_type": "markdown",
   "id": "1fa2cd03-07db-452e-a2a7-eeece024bcfa",
   "metadata": {
    "tags": []
   },
   "source": [
    "## Question 2\n",
    "*10 points*\n",
    "\n",
    "Assuming a body has the following displacement function, obtain (and print) its velocity and acceleration functions symbolically. Also plot all three functions from $t=0$ to $t=1$.\n",
    "\n",
    "$$x = 2t^3+ \\frac{e^t sinh(t)}{cos(t)}$$\n",
    "\n",
    "You must calculate the velocity field using python, though you can always verify your answer by hand."
   ]
  },
  {
   "cell_type": "code",
   "execution_count": null,
   "id": "a7376bf4-307c-45e5-bfd3-17d23e078019",
   "metadata": {},
   "outputs": [],
   "source": []
  },
  {
   "cell_type": "markdown",
   "id": "38172a48-0021-46d4-8520-e5fc909fa9a6",
   "metadata": {
    "tags": []
   },
   "source": [
    "## Question 3\n",
    "*30 points*"
   ]
  },
  {
   "cell_type": "markdown",
   "id": "c415a4b6-66ba-4717-a648-e84d548e6cc9",
   "metadata": {
    "tags": []
   },
   "source": [
    "### Question 3.1\n",
    "*10 points*\n",
    "\n",
    "For a simple projectile motion problem, graphically show the following as a function of launch angle (in degrees):\n",
    "- Time of flight\n",
    "- Maximum height of projectile\n",
    "- Range of projectile\n",
    "\n",
    "Comment on the answers.\n",
    "\n",
    "Ignore aerodynamic drag. Use SI units, and assume any initial velocity."
   ]
  },
  {
   "cell_type": "code",
   "execution_count": null,
   "id": "09da1c42-38f9-400c-98df-44d4e5d52e29",
   "metadata": {},
   "outputs": [],
   "source": []
  },
  {
   "cell_type": "markdown",
   "id": "623411a3-f49d-4f90-93a9-88c32eb8bba9",
   "metadata": {},
   "source": []
  },
  {
   "cell_type": "markdown",
   "id": "ee3bbcc2-79aa-4dcf-bdb2-2733d5089899",
   "metadata": {
    "tags": []
   },
   "source": [
    "### Question 3.2\n",
    "*15 points*\n",
    "\n",
    "Solve the problem above symbolically, to obtain the launch angle (in radians) to maximize:\n",
    "- Time of flight\n",
    "- Maximum height of projectile\n",
    "- Range of projectile\n",
    "\n",
    "Ignore aerodynamic drag. Use the interval $[0 \\text{ } \\pi]$\n",
    "\n",
    "Hints:\n",
    "- Check the documentation for using `solveset` with an `Interval`.\n",
    "- Make sure you check the second derivative (at each point in the solution) to verify if you are at a maxima or minima."
   ]
  },
  {
   "cell_type": "code",
   "execution_count": null,
   "id": "4acb6db5-8132-46c5-a781-74007224a3d3",
   "metadata": {},
   "outputs": [],
   "source": []
  },
  {
   "cell_type": "markdown",
   "id": "7c341de1-0093-4cef-b7ef-213dee166374",
   "metadata": {
    "tags": []
   },
   "source": [
    "### Question 3.3\n",
    "*5 points*\n",
    "\n",
    "For a launch angle, $\\theta = 65^\\circ$ and a launch velocity, $v_0 = 25 \\text{ m/s}$, plot the following:\n",
    "- Postion of the projectile in $x-y$ space during its flight.\n",
    "- $x$ and $y$ velocities as a function of time."
   ]
  },
  {
   "cell_type": "code",
   "execution_count": null,
   "id": "3aafa527-8551-4d0f-9f1d-97ab57481738",
   "metadata": {},
   "outputs": [],
   "source": []
  },
  {
   "cell_type": "markdown",
   "id": "019793b0-4b35-47d3-8b09-ff4769d78637",
   "metadata": {
    "tags": []
   },
   "source": [
    "## Question 4\n",
    "*30 points*"
   ]
  },
  {
   "cell_type": "markdown",
   "id": "ba2394d3-be68-43c8-8ca4-da49208f6941",
   "metadata": {
    "tags": []
   },
   "source": [
    "### Question 4.1\n",
    "*15 points*\n",
    "\n",
    "A compression test is peformed on a rectangular prismatic brittle specimen (cross-section area = 4x4 mm, length = 6 mm). Import the data from the provided `UTM_data.csv` file (time is in $s$, displacement is in $\\mu m$, force is in $N$), and create the following using 4 subplots:\n",
    "```\n",
    "1. Force vs Displacement (cleaned data)    2. Strain vs Time\n",
    "3. Stress vs Strain                        4. Stress vs Time\n",
    "```\n",
    "\n",
    "Modify the Figure attributes as needed to create easily readable plots.\n",
    "\n",
    "Note that, for this type of test, the initial data corresponds to a period where the loading platen has not yet made contact with the specimen (and hence, the force is zero). Hence, the data must be cleaned before analysis. Data prior to the point where the specimen is loaded must be discarded, and the displacement (and time) reset to 0 when the specimen loading actually begins."
   ]
  },
  {
   "cell_type": "code",
   "execution_count": null,
   "id": "0ae5a6a9-73ec-4af9-b0f6-a610830673e0",
   "metadata": {},
   "outputs": [],
   "source": []
  },
  {
   "cell_type": "markdown",
   "id": "a1e49514-9b51-43f2-b067-b3573f48462e",
   "metadata": {},
   "source": [
    "### Question 4.2\n",
    "*5 points*\n",
    "\n",
    "Calculate the strength (in MPa) and failure strain (in %) for the sample tested above.\n",
    "\n",
    "Report 2 decimal places for strength and 4 for strain."
   ]
  },
  {
   "cell_type": "code",
   "execution_count": null,
   "id": "a053cddc-5f4a-4553-bf57-720d48a632c4",
   "metadata": {},
   "outputs": [],
   "source": []
  },
  {
   "cell_type": "markdown",
   "id": "49f80b6f-2bc9-4114-b2f2-5f158e4f4c9e",
   "metadata": {},
   "source": [
    "### Question 4.3\n",
    "*10 points*\n",
    "\n",
    "Experimental data (including the data provided above) is practically always noisy. Hence, to obtain the elastic modulus from the stress-strain data is not as straight-forward as dividing two arrays.\n",
    "\n",
    "A better option is to fit a linear curve to the cleaned stress-strain data. Check the documentation for `numpy.polyfit` and calculate the elastic modulus (in GPa) of the test specimen. Report 2 decimal places for the modulus."
   ]
  },
  {
   "cell_type": "code",
   "execution_count": null,
   "id": "52b3be97-07d0-4d32-b7bd-8fecdc8737ec",
   "metadata": {},
   "outputs": [],
   "source": []
  },
  {
   "cell_type": "markdown",
   "id": "3d6e091c-3b8e-49e2-a39d-c95e12f7b2a0",
   "metadata": {},
   "source": [
    "## Question 5\n",
    "*10 points*\n",
    "\n",
    "Follow the instructions below to create a scatter plot. Refer to the relevant documentation when needed."
   ]
  },
  {
   "cell_type": "markdown",
   "id": "6ed86a60-46e2-4fd2-83b1-03b87813b855",
   "metadata": {},
   "source": [
    "Using `numpy` functions, create two arrays with 100 random values:\n",
    "- an array `x`, with a normal distribution, centered on 100 and with a standard deviation of 15\n",
    "- an array `y`, with a uniform distribution between $\\pi/2$ and $2\\pi$."
   ]
  },
  {
   "cell_type": "code",
   "execution_count": null,
   "id": "48287ac3-d4f7-4774-9789-b86d0e653bff",
   "metadata": {},
   "outputs": [],
   "source": []
  },
  {
   "cell_type": "markdown",
   "id": "d859315d-7a44-45b6-bc83-3ea1c98f4f1a",
   "metadata": {},
   "source": [
    "Create a scatter plot using the normal distribution array as the $x$-axis, and the uniform distribution array as the $y$-axis.\n",
    "\n",
    "- The figure size should be at least `(10,10)`\n",
    "- The marker size for each point on the plot should correspond to the ratio of $x/y$ for that point.\n",
    "- The marker color for each point on the plot should correspond to the sine of $y$.\n",
    "- Each marker should have a transparency of 50%."
   ]
  },
  {
   "cell_type": "code",
   "execution_count": null,
   "id": "cb40e0db-1be2-4d2c-a1a4-069721d3ffcd",
   "metadata": {},
   "outputs": [],
   "source": []
  }
 ],
 "metadata": {
  "citation-manager": {
   "items": {}
  },
  "kernelspec": {
   "display_name": "Python 3 (ipykernel)",
   "language": "python",
   "name": "python3"
  },
  "language_info": {
   "codemirror_mode": {
    "name": "ipython",
    "version": 3
   },
   "file_extension": ".py",
   "mimetype": "text/x-python",
   "name": "python",
   "nbconvert_exporter": "python",
   "pygments_lexer": "ipython3",
   "version": "3.8.8"
  }
 },
 "nbformat": 4,
 "nbformat_minor": 5
}
