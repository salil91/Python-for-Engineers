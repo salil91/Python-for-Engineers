{
 "cells": [
  {
   "cell_type": "markdown",
   "id": "64c992e8-ce79-4544-bf59-cea68420dc32",
   "metadata": {
    "pycharm": {
     "name": "#%% md\n"
    }
   },
   "source": [
    "# Homework 4 - SciPy and plotting\n",
    "**Due: Oct 24** \n",
    "\n",
    "***Total Points: 100***\n",
    "\n",
    "For full points, your code\n",
    "- must run without errors\n",
    "- must by *pythonic*\n",
    "- must be easily understandable, and well documented (either through inline comments or markdown).\n",
    "- All plots must have clearly and meaningfully labeled axes, unless you are simply plotting arbitrary numbers. Add legends where needed.\n",
    "- **Use separate markdown cells for any text answers.**\n",
    "- **Show your work, i.e, print all relevant output.** Remember that having a variable in the last line of a jupyter cell block automatically prints it's value. You can use multiple code blocks for a single question.\n",
    "- ***Please see the solutions (and related notes) for the previous HWs, as well as the comments on your submissions, before submitting this assignment. We will be less lenient for repeated mistakes.***\n",
    "- ***Do not manipulate arrays with loops. In fact, do not use loops anywhere, except for plots and prints.***\n",
    "\n",
    "Remember to export your Jupyter notebook as a PDF file and upload both to Canvas.\n",
    "```\n",
    "File > Save and Export Notebook As... > PDF\n",
    "```\n",
    "\n",
    "Run every code block (and make sure the answer if fully visible) before submitting your notebook/PDF."
   ]
  },
  {
   "cell_type": "markdown",
   "id": "04e72583-fbcf-44a1-942d-dd95e5d9b9da",
   "metadata": {
    "pycharm": {
     "name": "#%% md\n"
    }
   },
   "source": [
    "## Question 0\n",
    "\n",
    "Import `numpy` and `matplotlib` here. You can import the required `scipy` modules when you need them."
   ]
  },
  {
   "cell_type": "code",
   "execution_count": 1,
   "id": "0e9655bf-603a-4a7d-a6bc-97889f9f7eb0",
   "metadata": {
    "pycharm": {
     "name": "#%%\n"
    }
   },
   "outputs": [],
   "source": [
    "import matplotlib.pyplot as plt\n",
    "import numpy as np"
   ]
  },
  {
   "cell_type": "markdown",
   "id": "2f2f150a-32df-48c2-826e-b71a7cf5be5c",
   "metadata": {
    "pycharm": {
     "name": "#%% md\n"
    },
    "tags": []
   },
   "source": [
    "## Question 1\n",
    "*20 points*"
   ]
  },
  {
   "cell_type": "markdown",
   "id": "286106ce-88bc-478e-893a-86e34aac3a2f",
   "metadata": {
    "pycharm": {
     "name": "#%% md\n"
    }
   },
   "source": [
    "### Question 1.1\n",
    "*10 points*\n",
    "\n",
    "**Numerically** integrate the following (use `scipy.integrate.dblquad`).\n",
    "\n",
    "**Requirements:**\n",
    "- Only print $z = ...$, up to 4 decimals. Do not print any other variable.\n",
    "- Do not use any type of `round()`.\n",
    "\n",
    "$$z = \\int_{0}^{\\pi} \\int_{0}^{sin(x)} \\left( \\frac{x^2}{16} - \\frac{y^2}{9} - 1 \\right) dy dx$$"
   ]
  },
  {
   "cell_type": "code",
   "execution_count": null,
   "id": "ce127474-c7a8-4a83-8485-65f19f1af7a7",
   "metadata": {
    "pycharm": {
     "name": "#%%\n"
    }
   },
   "outputs": [],
   "source": []
  },
  {
   "cell_type": "markdown",
   "id": "95ffa36e-1555-4db4-a847-eb2f3ab1218f",
   "metadata": {
    "pycharm": {
     "name": "#%% md\n"
    }
   },
   "source": [
    "### Question 1.2\n",
    "*5 points*\n",
    "\n",
    "Use `sympy` to check your answer."
   ]
  },
  {
   "cell_type": "code",
   "execution_count": null,
   "id": "e86c92ac-dd39-4ce1-9fcc-fddd82fed255",
   "metadata": {
    "pycharm": {
     "name": "#%%\n"
    }
   },
   "outputs": [],
   "source": []
  },
  {
   "cell_type": "markdown",
   "id": "9dff19c9-d2c3-475c-b48b-1be02c12d449",
   "metadata": {
    "pycharm": {
     "name": "#%% md\n"
    }
   },
   "source": [
    "### Question 1.3\n",
    "*5 points*\n",
    "\n",
    "- Between `sympy` and `scipy`, which is the better option to obtain the numerical value of $z$? Provide a quantitative justification.\n",
    "- When would the other package be a better option?"
   ]
  },
  {
   "cell_type": "code",
   "execution_count": null,
   "id": "ee6cf341-a7ef-483e-ac8c-1f81aaf93183",
   "metadata": {
    "pycharm": {
     "name": "#%%\n"
    }
   },
   "outputs": [],
   "source": []
  },
  {
   "cell_type": "markdown",
   "id": "a2bb0b6e-d330-40b1-9594-083def2fb357",
   "metadata": {
    "pycharm": {
     "name": "#%% md\n"
    }
   },
   "source": []
  },
  {
   "cell_type": "markdown",
   "id": "b9ea653e-0624-4040-bfb4-b84cc6245fee",
   "metadata": {
    "pycharm": {
     "name": "#%% md\n"
    },
    "tags": []
   },
   "source": [
    "## Question 2\n",
    "*20 points*\n",
    "\n",
    "A simple gravity pendulum ($l = 5 \\text{ m}$.) has the following acceleration function, **numerically** obtain and plot its velocity ($\\omega$) and displacement ($\\theta$) from $t=0$ to $t=5 \\text{ s}$.\n",
    "\n",
    "$$ \\ddot\\theta + \\frac{g}{l} \\text{sin} \\theta = 0$$\n",
    "\n",
    "The pendulum starts at rest, at a position of $\\theta = 60 ^\\circ$.\n",
    "\n",
    "**Requirements:**\n",
    "- Use the `scipy.constants` submodule for the value of $g$.\n",
    "- Plot both variables ($\\theta$, $\\omega$) with units in terms of degrees, not radians.\n",
    "- Plot both variables ($\\theta$, $\\omega$) on the same plot. Use two y axes, one for each variable. Set the color of each y axis label to be the same as the color of the respective curve, so you don't need to have a legend."
   ]
  },
  {
   "cell_type": "code",
   "execution_count": null,
   "id": "e9ea86e1-747a-474c-964c-dfc42a9bd430",
   "metadata": {
    "pycharm": {
     "name": "#%%\n"
    }
   },
   "outputs": [],
   "source": []
  },
  {
   "cell_type": "markdown",
   "id": "fa99d812-c5bd-4c21-aebf-50bcaf73ae31",
   "metadata": {
    "pycharm": {
     "name": "#%% md\n"
    },
    "tags": []
   },
   "source": [
    "## Question 3\n",
    "*20 points*"
   ]
  },
  {
   "cell_type": "markdown",
   "id": "97d640b3-d719-4974-83b2-39bce32fab91",
   "metadata": {
    "pycharm": {
     "name": "#%% md\n"
    }
   },
   "source": [
    "### Question 3.1\n",
    "*5 points*\n",
    "\n",
    "Run the code block below to obtain a very sparse `x` and `y` grid, and plot the following function.\n",
    "\n",
    "$$z(x,y) = \\text{sin} \\left( \\frac{1}{x^2} + \\frac{1}{y} \\right) + \\text{cos} \\left( \\frac{1}{x} + \\frac{1}{y^2} \\right)$$"
   ]
  },
  {
   "cell_type": "code",
   "execution_count": 2,
   "id": "8571283b-b24b-455b-a0cf-fda6868000d4",
   "metadata": {
    "pycharm": {
     "name": "#%%\n"
    }
   },
   "outputs": [],
   "source": [
    "# Run this code block without changes\n",
    "x = np.arange(-1.01, 1.01, 0.1)\n",
    "y = np.arange(-1.01, 1.01, 0.1)"
   ]
  },
  {
   "cell_type": "code",
   "execution_count": null,
   "id": "3036d0f9-b924-4b3d-b701-1611e1cb5060",
   "metadata": {
    "pycharm": {
     "name": "#%%\n"
    }
   },
   "outputs": [],
   "source": []
  },
  {
   "cell_type": "markdown",
   "id": "5770e0d2-1580-4ef4-823a-9ea206f088fb",
   "metadata": {
    "pycharm": {
     "name": "#%% md\n"
    },
    "tags": []
   },
   "source": [
    "### Question 3.2\n",
    "*10 points*\n",
    "\n",
    "Perform at least 3 kinds of 2D interpolatation to get a more meaningful plots."
   ]
  },
  {
   "cell_type": "code",
   "execution_count": null,
   "id": "ba324b7e-65a2-46df-a78b-3dc628ea2d51",
   "metadata": {
    "pycharm": {
     "name": "#%%\n"
    }
   },
   "outputs": [],
   "source": []
  },
  {
   "cell_type": "markdown",
   "id": "a73c3acc-a719-43e8-98b1-395ed641d491",
   "metadata": {
    "pycharm": {
     "name": "#%% md\n"
    }
   },
   "source": [
    "### Question 3.3\n",
    "*5 points*\n",
    "\n",
    "- Comment on the results above.\n",
    "- Why do you think there are less options for the `kind` of 2D interpolation, as compared to 1D interpolation?"
   ]
  },
  {
   "cell_type": "markdown",
   "id": "9ed07aa5-8e9a-46aa-b0d6-dd04834c694e",
   "metadata": {
    "pycharm": {
     "name": "#%% md\n"
    }
   },
   "source": []
  },
  {
   "cell_type": "markdown",
   "id": "010485ee-4b71-45c8-98fe-d778943be16a",
   "metadata": {
    "pycharm": {
     "name": "#%% md\n"
    }
   },
   "source": [
    "## Question 4\n",
    "*40 points*"
   ]
  },
  {
   "cell_type": "markdown",
   "id": "dc3780bd-c1f3-47f1-b808-3f2d95ade3eb",
   "metadata": {
    "pycharm": {
     "name": "#%% md\n"
    }
   },
   "source": [
    "### Question 4.1\n",
    "*5 points*\n",
    "\n",
    "Raman spectroscopy is performed on a highly oriented pyrolytic graphite (HOPG) specimen.\n",
    "\n",
    "Import the data from the `HOPG_raman.txt` file and plot the data (Intensity vs Wave_number).\n",
    "\n",
    "**Requirements:**\n",
    "- Do not modify the text file in any way.\n",
    "- Do not use `skiprows`, `skip_header`, or any similar argument."
   ]
  },
  {
   "cell_type": "code",
   "execution_count": null,
   "id": "86b83585-5d12-4945-8503-f82d3f2326c4",
   "metadata": {
    "pycharm": {
     "name": "#%%\n"
    }
   },
   "outputs": [],
   "source": []
  },
  {
   "cell_type": "markdown",
   "id": "42d3e78c-396b-4647-ac35-0fcdb6ada9f0",
   "metadata": {
    "pycharm": {
     "name": "#%% md\n"
    }
   },
   "source": [
    "### Question 4.2\n",
    "*5 points*\n",
    "\n",
    "Detrend the data and plot the result."
   ]
  },
  {
   "cell_type": "code",
   "execution_count": null,
   "id": "ce33e46b-bcdc-4f31-b56a-fe141883a7b2",
   "metadata": {
    "pycharm": {
     "name": "#%%\n"
    }
   },
   "outputs": [],
   "source": []
  },
  {
   "cell_type": "markdown",
   "id": "ec6d92cc-3bbb-4d15-a094-c792eabbfb2b",
   "metadata": {
    "pycharm": {
     "name": "#%% md\n"
    }
   },
   "source": [
    "### Question 4.3\n",
    "*10 points*\n",
    "\n",
    "As you can see, the data is quite noisy. Smooth the data using a Savitzky-Golay filter. Experiment with various parameters for the filter.\n",
    "\n",
    "Plot the detrended and smoothed data on the same plot, to make sure that you're not changing the data by over-smoothing."
   ]
  },
  {
   "cell_type": "code",
   "execution_count": null,
   "id": "5c1be84d-c994-419d-8e96-c5dd9bdc80fa",
   "metadata": {
    "pycharm": {
     "name": "#%%\n"
    }
   },
   "outputs": [],
   "source": []
  },
  {
   "cell_type": "markdown",
   "id": "05770e33-0507-4681-8423-3e8a0c2692da",
   "metadata": {
    "pycharm": {
     "name": "#%% md\n"
    }
   },
   "source": [
    "### Question 4.4\n",
    "*5 points*\n",
    "\n",
    "- How do the `window_length` and `polyorder` parameters affect/change the smoothed data?\n",
    "- Ideally, for each parameter, should the value be low or high to avoid changing the data?"
   ]
  },
  {
   "cell_type": "markdown",
   "id": "467b887d-2ed9-4db7-8787-31e2372cba71",
   "metadata": {
    "pycharm": {
     "name": "#%% md\n"
    }
   },
   "source": []
  },
  {
   "cell_type": "markdown",
   "id": "46f48ce7-86c9-4988-9c57-f88c1dc07db7",
   "metadata": {
    "pycharm": {
     "name": "#%% md\n"
    }
   },
   "source": [
    "### Question 4.5\n",
    "*10 points*\n",
    "\n",
    "Find the peaks using the unsmoothed (but detrended) and the smoothed signals, and report\n",
    "- the number of peaks\n",
    "- the center, height, and width of each peak (up to 2 decimal places)\n",
    "\n",
    "Also plot the peak locations."
   ]
  },
  {
   "cell_type": "code",
   "execution_count": null,
   "id": "4dcea3e2-38d8-4348-b211-c4daa9e01c0c",
   "metadata": {
    "pycharm": {
     "name": "#%%\n"
    }
   },
   "outputs": [],
   "source": []
  },
  {
   "cell_type": "markdown",
   "id": "7bec3cfc-3fdd-405b-a2b8-1bf031889a69",
   "metadata": {
    "pycharm": {
     "name": "#%% md\n"
    }
   },
   "source": [
    "### Question 4.6\n",
    "*5 points*\n",
    "\n",
    "Which of the two signals should be preferred for peak finding? Why?"
   ]
  },
  {
   "cell_type": "markdown",
   "id": "9bf2d6e0-f5f8-48c6-92c1-d9d84a8e6bd1",
   "metadata": {
    "pycharm": {
     "name": "#%% md\n"
    }
   },
   "source": []
  }
 ],
 "metadata": {
  "citation-manager": {
   "items": {}
  },
  "kernelspec": {
   "display_name": "Python 3 (ipykernel)",
   "language": "python",
   "name": "python3"
  },
  "language_info": {
   "codemirror_mode": {
    "name": "ipython",
    "version": 3
   },
   "file_extension": ".py",
   "mimetype": "text/x-python",
   "name": "python",
   "nbconvert_exporter": "python",
   "pygments_lexer": "ipython3",
   "version": "3.8.8"
  }
 },
 "nbformat": 4,
 "nbformat_minor": 5
}
