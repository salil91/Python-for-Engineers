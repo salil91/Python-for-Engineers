{
 "cells": [
  {
   "cell_type": "markdown",
   "id": "46975f29-c857-4ff8-ad4d-96f2b1812ace",
   "metadata": {
    "tags": []
   },
   "source": [
    "# W5 - September 22 - SymPy\n",
    "\n",
    "SymPy is a third-party library (not in the Standard Library), included with the Anaconda Distribution, for symbolic mathematics."
   ]
  },
  {
   "cell_type": "code",
   "execution_count": 1,
   "id": "2a189e5f-f733-492d-ac65-56141e437622",
   "metadata": {},
   "outputs": [],
   "source": [
    "import sympy as sym"
   ]
  },
  {
   "cell_type": "markdown",
   "id": "e4374aa4-e3a7-43ac-9cbf-8602c18ba294",
   "metadata": {},
   "source": [
    "**Why use SymPy?**\n",
    "\n",
    "Symbolic computation deals with the computation of mathematical objects symbolically. This means that the mathematical objects are represented exactly, not approximated, and mathematical expressions with unevaluated variables are left in symbolic form. "
   ]
  },
  {
   "cell_type": "markdown",
   "id": "9b4dad0d-d708-4408-8489-c677b62dc04f",
   "metadata": {},
   "source": [
    "Fractions:"
   ]
  },
  {
   "cell_type": "code",
   "execution_count": 2,
   "id": "c81780a3-084f-4729-8ff0-d73e6812e2bd",
   "metadata": {},
   "outputs": [
    {
     "data": {
      "text/plain": [
       "0.3333333333333333"
      ]
     },
     "execution_count": 2,
     "metadata": {},
     "output_type": "execute_result"
    }
   ],
   "source": [
    "3/9"
   ]
  },
  {
   "cell_type": "code",
   "execution_count": 3,
   "id": "f07d7ef1-1ca6-4c5a-a241-37dce0d8c4a7",
   "metadata": {},
   "outputs": [
    {
     "data": {
      "text/latex": [
       "$\\displaystyle \\frac{1}{3}$"
      ],
      "text/plain": [
       "1/3"
      ]
     },
     "execution_count": 3,
     "metadata": {},
     "output_type": "execute_result"
    }
   ],
   "source": [
    "sym.Rational(3, 9)"
   ]
  },
  {
   "cell_type": "markdown",
   "id": "f236cc03-c963-4a6b-8ec5-b5ad92308280",
   "metadata": {},
   "source": [
    "Powers and roots:"
   ]
  },
  {
   "cell_type": "code",
   "execution_count": 4,
   "id": "f9ad5e5a-2be5-47a4-89ce-e7e4e52b3314",
   "metadata": {},
   "outputs": [
    {
     "data": {
      "text/plain": [
       "2.8284271247461903"
      ]
     },
     "execution_count": 4,
     "metadata": {},
     "output_type": "execute_result"
    }
   ],
   "source": [
    "import math\n",
    "\n",
    "math.sqrt(8)"
   ]
  },
  {
   "cell_type": "code",
   "execution_count": 5,
   "id": "96a850c1-6024-4e53-912c-3d469ff3fec0",
   "metadata": {},
   "outputs": [
    {
     "data": {
      "text/latex": [
       "$\\displaystyle 2 \\sqrt{2}$"
      ],
      "text/plain": [
       "2*sqrt(2)"
      ]
     },
     "execution_count": 5,
     "metadata": {},
     "output_type": "execute_result"
    }
   ],
   "source": [
    "sym.sqrt(8)"
   ]
  },
  {
   "cell_type": "markdown",
   "id": "57cc7089-d08a-4386-ae50-d5b9c90793e3",
   "metadata": {},
   "source": [
    "Even infinity"
   ]
  },
  {
   "cell_type": "code",
   "execution_count": 6,
   "id": "32bb5e62-1dc3-46b1-91bf-7e3f50ac2552",
   "metadata": {},
   "outputs": [
    {
     "data": {
      "text/latex": [
       "$\\displaystyle \\infty$"
      ],
      "text/plain": [
       "oo"
      ]
     },
     "execution_count": 6,
     "metadata": {},
     "output_type": "execute_result"
    }
   ],
   "source": [
    "sym.oo"
   ]
  },
  {
   "cell_type": "markdown",
   "id": "c201a0ae-6e4a-408d-9092-333fbcf38786",
   "metadata": {},
   "source": [
    "SymPy can simplify expressions, compute derivatives, integrals, and limits, solve equations, work with matrices, and much, much more, and do it all symbolically. It includes modules for plotting, printing, code generation, physics, statistics, combinatorics, number theory, geometry, logic, and more.\n",
    "\n",
    "SymPy aims to be an alternative to systems such as Mathematica or Maple while keeping the code as simple as possible and easily extensible. SymPy is open source and completely free. It is written entirely in Python, and is executed entirely in Python. \n",
    "\n",
    "https://docs.sympy.org"
   ]
  },
  {
   "cell_type": "markdown",
   "id": "50d61d31-5770-4db6-8422-4cf1b07d5829",
   "metadata": {
    "tags": []
   },
   "source": [
    "## Symbols\n",
    "\n",
    "Symbols are defined using the `symbols()` function"
   ]
  },
  {
   "cell_type": "code",
   "execution_count": 7,
   "id": "7dac4c86-a21d-4504-a299-282186b03a7c",
   "metadata": {},
   "outputs": [],
   "source": [
    "x, y, z = sym.symbols(\"x y z\")"
   ]
  },
  {
   "cell_type": "code",
   "execution_count": 8,
   "id": "93f10ea3-ac8a-469a-9670-cb4ca5786d7e",
   "metadata": {},
   "outputs": [
    {
     "data": {
      "text/latex": [
       "$\\displaystyle x$"
      ],
      "text/plain": [
       "x"
      ]
     },
     "execution_count": 8,
     "metadata": {},
     "output_type": "execute_result"
    }
   ],
   "source": [
    "x"
   ]
  },
  {
   "cell_type": "code",
   "execution_count": 9,
   "id": "8e84a259-2ed7-49b1-b4ee-688556a6e78f",
   "metadata": {},
   "outputs": [
    {
     "data": {
      "text/plain": [
       "sympy.core.symbol.Symbol"
      ]
     },
     "execution_count": 9,
     "metadata": {},
     "output_type": "execute_result"
    }
   ],
   "source": [
    "type(x)"
   ]
  },
  {
   "cell_type": "markdown",
   "id": "fa29173e-bfd5-4b38-a607-e305f55f2e7e",
   "metadata": {},
   "source": [
    "And Symbols can be used to create expressions"
   ]
  },
  {
   "cell_type": "code",
   "execution_count": 10,
   "id": "5bf4b9e3-c174-4796-a950-9b76c5c04977",
   "metadata": {},
   "outputs": [
    {
     "data": {
      "text/latex": [
       "$\\displaystyle x^{2} + 2 x y + y^{2}$"
      ],
      "text/plain": [
       "x**2 + 2*x*y + y**2"
      ]
     },
     "execution_count": 10,
     "metadata": {},
     "output_type": "execute_result"
    }
   ],
   "source": [
    "x**2 + 2*x*y + y**2"
   ]
  },
  {
   "cell_type": "markdown",
   "id": "1a7bca7f-e90c-4390-9f87-433f341aa8ec",
   "metadata": {},
   "source": [
    "**Converting strings to SymPy expressions**\n",
    "\n",
    "You can use the `sympify()` function to do this"
   ]
  },
  {
   "cell_type": "code",
   "execution_count": 11,
   "id": "cfa900b3-f441-4f80-9701-47c7144652e7",
   "metadata": {},
   "outputs": [
    {
     "data": {
      "text/latex": [
       "$\\displaystyle x^{2} + 2 x y + y^{2}$"
      ],
      "text/plain": [
       "x**2 + 2*x*y + y**2"
      ]
     },
     "execution_count": 11,
     "metadata": {},
     "output_type": "execute_result"
    }
   ],
   "source": [
    "expr_str = \"x**2 + 2*x*y + y**2\"\n",
    "expr = sym.sympify(expr_str)\n",
    "expr"
   ]
  },
  {
   "cell_type": "markdown",
   "id": "b26e78fc-cf19-48af-a825-6a8ba28e870f",
   "metadata": {},
   "source": [
    "**Python variables vs SymPy Symbols**\n",
    "\n",
    "The python variable name does not have to be the same as the SymPy Symbol name."
   ]
  },
  {
   "cell_type": "code",
   "execution_count": 12,
   "id": "51a1e8a3-7bde-429b-b44d-db72d1a21946",
   "metadata": {},
   "outputs": [
    {
     "data": {
      "text/latex": [
       "$\\displaystyle E$"
      ],
      "text/plain": [
       "E"
      ]
     },
     "execution_count": 12,
     "metadata": {},
     "output_type": "execute_result"
    }
   ],
   "source": [
    "youngs_modulus = sym.symbols('E') # This E is a SymPy Symbol\n",
    "\n",
    "# Python variable that is assigned to a SymPy Symbol\n",
    "youngs_modulus"
   ]
  },
  {
   "cell_type": "markdown",
   "id": "40e6f68f-fdbb-4a8b-9f09-969d18487a2b",
   "metadata": {},
   "source": [
    "And a python variable of the same name has nothing to do with the Symbol it shares it's name with."
   ]
  },
  {
   "cell_type": "code",
   "execution_count": 13,
   "id": "8a7212ab-7def-449a-84b7-8ad754e16111",
   "metadata": {},
   "outputs": [
    {
     "data": {
      "text/plain": [
       "2000000000.0"
      ]
     },
     "execution_count": 13,
     "metadata": {},
     "output_type": "execute_result"
    }
   ],
   "source": [
    "# This E is a python variable\n",
    "E = 2e9\n",
    "E"
   ]
  },
  {
   "cell_type": "code",
   "execution_count": 14,
   "id": "e340c4f6-f154-45c8-a063-cac844404481",
   "metadata": {},
   "outputs": [
    {
     "data": {
      "text/latex": [
       "$\\displaystyle E$"
      ],
      "text/plain": [
       "E"
      ]
     },
     "execution_count": 14,
     "metadata": {},
     "output_type": "execute_result"
    }
   ],
   "source": [
    "# Python variable that is assigned to a SymPy Symbol\n",
    "youngs_modulus"
   ]
  },
  {
   "cell_type": "markdown",
   "id": "ff0022e1-a176-4fba-ac62-881652364f21",
   "metadata": {},
   "source": [
    "In this example, `youngs_modulus` is an instance of the class `Symbol`, whose value is `\"E\"`. The python variable `E` is unrelated (but obviously confusing).\n",
    "\n",
    "Hence, the best practice is to assign Symbols to Python variables of the same name."
   ]
  },
  {
   "cell_type": "markdown",
   "id": "e5b6f9ae-7cdf-445e-ad4a-ef766999efc7",
   "metadata": {},
   "source": [
    "**Functions**\n",
    "\n",
    "SymPy implements dozens of special functions, ranging from functions in combinatorics to mathematical physics. An extensive list of the special functions included with SymPy and their documentation is at the Functions Module page.\n",
    "\n",
    "https://docs.sympy.org/latest/modules/functions/index.html#functions-contents"
   ]
  },
  {
   "cell_type": "markdown",
   "id": "358181bf-7ef2-41fa-845d-4bab36b0eac5",
   "metadata": {
    "tags": []
   },
   "source": [
    "## Basic Operations"
   ]
  },
  {
   "cell_type": "markdown",
   "id": "7566519a-a3e8-45e1-ac47-2343b0347187",
   "metadata": {},
   "source": [
    "### Substitution: `subs()`"
   ]
  },
  {
   "cell_type": "code",
   "execution_count": 15,
   "id": "ba2cb81c-1db8-4e22-893e-fee8c1f5266b",
   "metadata": {},
   "outputs": [
    {
     "data": {
      "text/latex": [
       "$\\displaystyle 2 x^{2} + 1$"
      ],
      "text/plain": [
       "2*x**2 + 1"
      ]
     },
     "execution_count": 15,
     "metadata": {},
     "output_type": "execute_result"
    }
   ],
   "source": [
    "expr = 2*x**2 + 1\n",
    "expr"
   ]
  },
  {
   "cell_type": "markdown",
   "id": "79a21815-f58a-4d5b-b40b-2493d3a629e4",
   "metadata": {},
   "source": [
    "You can substitute a symbol for another with `subs`"
   ]
  },
  {
   "cell_type": "code",
   "execution_count": 16,
   "id": "43bbbea9-c21f-49e7-908e-e8c8ea5e79a0",
   "metadata": {},
   "outputs": [
    {
     "data": {
      "text/latex": [
       "$\\displaystyle 2 y^{2} + 1$"
      ],
      "text/plain": [
       "2*y**2 + 1"
      ]
     },
     "execution_count": 16,
     "metadata": {},
     "output_type": "execute_result"
    }
   ],
   "source": [
    "expr.subs(x, y)"
   ]
  },
  {
   "cell_type": "markdown",
   "id": "43312ca2-a9c2-4424-85dd-585f6b37544c",
   "metadata": {},
   "source": [
    "Or a number, to evaluate the value of the expression at a point"
   ]
  },
  {
   "cell_type": "code",
   "execution_count": 17,
   "id": "81f61660-0e81-4efc-a5a7-249a96fbe94a",
   "metadata": {},
   "outputs": [
    {
     "data": {
      "text/latex": [
       "$\\displaystyle 3$"
      ],
      "text/plain": [
       "3"
      ]
     },
     "execution_count": 17,
     "metadata": {},
     "output_type": "execute_result"
    }
   ],
   "source": [
    "expr.subs(x, 1)"
   ]
  },
  {
   "cell_type": "markdown",
   "id": "a3f4b420-4d83-4992-afa3-4d4ef742f12d",
   "metadata": {},
   "source": [
    "You can also substitute an expression with another"
   ]
  },
  {
   "cell_type": "code",
   "execution_count": 18,
   "id": "f6166902-3f43-4fc0-89a3-2c6717131453",
   "metadata": {},
   "outputs": [
    {
     "data": {
      "text/latex": [
       "$\\displaystyle 2 \\left(x + y\\right)^{2} + 1$"
      ],
      "text/plain": [
       "2*(x + y)**2 + 1"
      ]
     },
     "execution_count": 18,
     "metadata": {},
     "output_type": "execute_result"
    }
   ],
   "source": [
    "expr.subs(x, x+y)"
   ]
  },
  {
   "cell_type": "markdown",
   "id": "26e77c45-bfad-4254-a8b8-18d420eaa1b5",
   "metadata": {},
   "source": [
    "**SymPy objects are immutable.** So substitution operations return a new expression, it does not modify it in place."
   ]
  },
  {
   "cell_type": "code",
   "execution_count": 19,
   "id": "32289652-488a-4160-b198-3a05f1c20f52",
   "metadata": {},
   "outputs": [
    {
     "data": {
      "text/latex": [
       "$\\displaystyle 2 x^{2} + 1$"
      ],
      "text/plain": [
       "2*x**2 + 1"
      ]
     },
     "execution_count": 19,
     "metadata": {},
     "output_type": "execute_result"
    }
   ],
   "source": [
    "expr"
   ]
  },
  {
   "cell_type": "markdown",
   "id": "74db033b-c004-4839-a5b3-f7250e23442a",
   "metadata": {},
   "source": [
    "### Evaluate: `evalf()`\n",
    "\n",
    "The `f` stands for float. This funtion evaluates a symbolic expression into a float, up to the desired number of digits (default is 15)."
   ]
  },
  {
   "cell_type": "code",
   "execution_count": 20,
   "id": "40401ee1-fcd3-4f04-93bd-7c3b495e16e0",
   "metadata": {},
   "outputs": [
    {
     "data": {
      "text/latex": [
       "$\\displaystyle 2 \\sqrt{2}$"
      ],
      "text/plain": [
       "2*sqrt(2)"
      ]
     },
     "execution_count": 20,
     "metadata": {},
     "output_type": "execute_result"
    }
   ],
   "source": [
    "expr = sym.sqrt(8)\n",
    "expr"
   ]
  },
  {
   "cell_type": "code",
   "execution_count": 21,
   "id": "06bf6608-d469-403e-b2cb-75178ea48f08",
   "metadata": {},
   "outputs": [
    {
     "data": {
      "text/latex": [
       "$\\displaystyle 2.82842712474619$"
      ],
      "text/plain": [
       "2.82842712474619"
      ]
     },
     "execution_count": 21,
     "metadata": {},
     "output_type": "execute_result"
    }
   ],
   "source": [
    "expr.evalf()"
   ]
  },
  {
   "cell_type": "code",
   "execution_count": 22,
   "id": "5c2a04ee-00c2-40cc-9a9c-1f2df7464bc8",
   "metadata": {},
   "outputs": [
    {
     "data": {
      "text/latex": [
       "$\\displaystyle 2.8284$"
      ],
      "text/plain": [
       "2.8284"
      ]
     },
     "execution_count": 22,
     "metadata": {},
     "output_type": "execute_result"
    }
   ],
   "source": [
    "expr.evalf(5)"
   ]
  },
  {
   "cell_type": "code",
   "execution_count": 23,
   "id": "13977b2d-fa65-4dae-8cbb-4b41387cf15a",
   "metadata": {},
   "outputs": [
    {
     "data": {
      "text/latex": [
       "$\\displaystyle \\pi$"
      ],
      "text/plain": [
       "pi"
      ]
     },
     "execution_count": 23,
     "metadata": {},
     "output_type": "execute_result"
    }
   ],
   "source": [
    "sym.pi"
   ]
  },
  {
   "cell_type": "code",
   "execution_count": 24,
   "id": "06e140ad-5083-45a3-bcc9-c3ac582118aa",
   "metadata": {},
   "outputs": [
    {
     "data": {
      "text/latex": [
       "$\\displaystyle 3.141592653589793238462643383279502884197169399375105820974944592307816406286208998628034825342117068$"
      ],
      "text/plain": [
       "3.141592653589793238462643383279502884197169399375105820974944592307816406286208998628034825342117068"
      ]
     },
     "execution_count": 24,
     "metadata": {},
     "output_type": "execute_result"
    }
   ],
   "source": [
    "sym.pi.evalf(100)"
   ]
  },
  {
   "cell_type": "markdown",
   "id": "5b77cef0-21c6-46b8-a71d-fdf049f0c99b",
   "metadata": {},
   "source": [
    "This is more efficient than `subs()`"
   ]
  },
  {
   "cell_type": "code",
   "execution_count": 25,
   "id": "09e66f42-1e88-44d4-9aff-340e0ce0a2e2",
   "metadata": {},
   "outputs": [
    {
     "data": {
      "text/latex": [
       "$\\displaystyle 3.0$"
      ],
      "text/plain": [
       "3.00000000000000"
      ]
     },
     "execution_count": 25,
     "metadata": {},
     "output_type": "execute_result"
    }
   ],
   "source": [
    "expr = 2*x**2 + 1\n",
    "expr.evalf(subs={x: 1})"
   ]
  },
  {
   "cell_type": "markdown",
   "id": "babdb4d9-5947-4090-80ec-82a37e268374",
   "metadata": {},
   "source": [
    "### Lambda functions: `lambdify()`\n",
    "\n",
    "This can be used to interface with NumPy (to take advantage of its speed) and evaluate an expression at a large number of points, returning a NumPy array."
   ]
  },
  {
   "cell_type": "code",
   "execution_count": 26,
   "id": "d4e2af89-27bc-429b-a929-b6fa72a35077",
   "metadata": {},
   "outputs": [
    {
     "data": {
      "text/plain": [
       "array([ 0.        ,  0.84147098,  0.90929743,  0.14112001, -0.7568025 ,\n",
       "       -0.95892427, -0.2794155 ,  0.6569866 ,  0.98935825,  0.41211849])"
      ]
     },
     "execution_count": 26,
     "metadata": {},
     "output_type": "execute_result"
    }
   ],
   "source": [
    "import numpy as np\n",
    "\n",
    "a = np.arange(10)\n",
    "expr = sym.sin(x)\n",
    "\n",
    "f = sym.lambdify(x, expr, \"numpy\")\n",
    "f(a)"
   ]
  },
  {
   "cell_type": "markdown",
   "id": "420a1d62-cdb7-4054-861e-c519a679b843",
   "metadata": {
    "tags": []
   },
   "source": [
    "## Simplification"
   ]
  },
  {
   "cell_type": "markdown",
   "id": "4ccf2db4-af69-4405-b132-2acf34eececa",
   "metadata": {
    "tags": []
   },
   "source": [
    "### `simplify()`\n",
    "\n",
    "This functions returns the \"simplest\" form of the expression. It applies all the major simplification operations in SymPy, and uses heuristics to determine the simplest result."
   ]
  },
  {
   "cell_type": "code",
   "execution_count": 27,
   "id": "64446641-6544-4051-9ff1-3c0ed0b5bb45",
   "metadata": {},
   "outputs": [
    {
     "data": {
      "text/latex": [
       "$\\displaystyle \\frac{x y + x}{x}$"
      ],
      "text/plain": [
       "(x*y + x)/x"
      ]
     },
     "execution_count": 27,
     "metadata": {},
     "output_type": "execute_result"
    }
   ],
   "source": [
    "expr = (x + x * y) / x\n",
    "expr"
   ]
  },
  {
   "cell_type": "code",
   "execution_count": 28,
   "id": "252266ae-8884-4d77-a701-12de16d0ce26",
   "metadata": {},
   "outputs": [
    {
     "data": {
      "text/latex": [
       "$\\displaystyle y + 1$"
      ],
      "text/plain": [
       "y + 1"
      ]
     },
     "execution_count": 28,
     "metadata": {},
     "output_type": "execute_result"
    }
   ],
   "source": [
    "sym.simplify(expr)"
   ]
  },
  {
   "cell_type": "markdown",
   "id": "58d46835-1f29-4165-8163-7925c9a37857",
   "metadata": {},
   "source": [
    "This can also work with complicated functions\n",
    "\n",
    "$\\Gamma(n) = (n-1)!$"
   ]
  },
  {
   "cell_type": "code",
   "execution_count": 29,
   "id": "e9866d05-93a7-4947-96ef-3ad2a3b10015",
   "metadata": {},
   "outputs": [
    {
     "data": {
      "text/latex": [
       "$\\displaystyle \\frac{\\Gamma\\left(x\\right)}{\\Gamma\\left(x - 2\\right)}$"
      ],
      "text/plain": [
       "gamma(x)/gamma(x - 2)"
      ]
     },
     "execution_count": 29,
     "metadata": {},
     "output_type": "execute_result"
    }
   ],
   "source": [
    "expr = sym.gamma(x) / sym.gamma(x-2)\n",
    "expr"
   ]
  },
  {
   "cell_type": "code",
   "execution_count": 30,
   "id": "06825924-631a-4cf6-8123-9fa441ff6028",
   "metadata": {},
   "outputs": [
    {
     "data": {
      "text/latex": [
       "$\\displaystyle \\left(x - 2\\right) \\left(x - 1\\right)$"
      ],
      "text/plain": [
       "(x - 2)*(x - 1)"
      ]
     },
     "execution_count": 30,
     "metadata": {},
     "output_type": "execute_result"
    }
   ],
   "source": [
    "sym.simplify(expr)"
   ]
  },
  {
   "cell_type": "markdown",
   "id": "3cd10f05-a168-4e16-9924-54ebb51b1e89",
   "metadata": {},
   "source": [
    "However, `simplify()` can be quite slow, as it applies all the simplifications before choosing the \"simplest\" one. Further, \"simplest\" is not well-defined."
   ]
  },
  {
   "cell_type": "code",
   "execution_count": 31,
   "id": "2c762bd2-eeaf-4868-89f5-5b0d7ff87d23",
   "metadata": {},
   "outputs": [
    {
     "data": {
      "text/latex": [
       "$\\displaystyle x^{2} + 2 x + 1$"
      ],
      "text/plain": [
       "x**2 + 2*x + 1"
      ]
     },
     "execution_count": 31,
     "metadata": {},
     "output_type": "execute_result"
    }
   ],
   "source": [
    "sym.simplify(x**2 + 2*x + 1)"
   ]
  },
  {
   "cell_type": "markdown",
   "id": "34172177-2f0b-4f9e-b57c-50465de1c86e",
   "metadata": {},
   "source": [
    "It's a good catchall function for an initial test, but you will often prefer more specific functions."
   ]
  },
  {
   "cell_type": "markdown",
   "id": "d8582cb8-b4a0-43db-bb07-ecb346e7f6fd",
   "metadata": {
    "tags": []
   },
   "source": [
    "### Polynomial simplification"
   ]
  },
  {
   "cell_type": "markdown",
   "id": "f7bbc5c8-700d-4f0f-a106-f8ee940ed16c",
   "metadata": {},
   "source": [
    "**`expand()`** will return the expression as a sum of monomials."
   ]
  },
  {
   "cell_type": "code",
   "execution_count": 32,
   "id": "e10acd20-53e9-44d0-9cc5-e94ed57124f2",
   "metadata": {},
   "outputs": [
    {
     "data": {
      "text/latex": [
       "$\\displaystyle \\left(x + 1\\right)^{2}$"
      ],
      "text/plain": [
       "(x + 1)**2"
      ]
     },
     "execution_count": 32,
     "metadata": {},
     "output_type": "execute_result"
    }
   ],
   "source": [
    "expr = (x + 1)**2\n",
    "expr"
   ]
  },
  {
   "cell_type": "code",
   "execution_count": 33,
   "id": "3aed1edd-763d-4fbd-bb12-c127be7f7062",
   "metadata": {},
   "outputs": [
    {
     "data": {
      "text/latex": [
       "$\\displaystyle x^{2} + 2 x + 1$"
      ],
      "text/plain": [
       "x**2 + 2*x + 1"
      ]
     },
     "execution_count": 33,
     "metadata": {},
     "output_type": "execute_result"
    }
   ],
   "source": [
    "sym.expand(expr)"
   ]
  },
  {
   "cell_type": "code",
   "execution_count": 34,
   "id": "b29787e2-0b3c-4e46-bd8b-993e11d4acc8",
   "metadata": {},
   "outputs": [
    {
     "data": {
      "text/latex": [
       "$\\displaystyle -2$"
      ],
      "text/plain": [
       "-2"
      ]
     },
     "execution_count": 34,
     "metadata": {},
     "output_type": "execute_result"
    }
   ],
   "source": [
    "sym.expand((x + 1)*(x - 2) - (x - 1)*x)"
   ]
  },
  {
   "cell_type": "code",
   "execution_count": 35,
   "id": "7b9a182e-39b5-4939-bc82-b5fb9c136a2c",
   "metadata": {},
   "outputs": [
    {
     "data": {
      "text/latex": [
       "$\\displaystyle \\sin^{2}{\\left(x \\right)} + 2 \\sin{\\left(x \\right)} \\cos{\\left(x \\right)} + \\cos^{2}{\\left(x \\right)}$"
      ],
      "text/plain": [
       "sin(x)**2 + 2*sin(x)*cos(x) + cos(x)**2"
      ]
     },
     "execution_count": 35,
     "metadata": {},
     "output_type": "execute_result"
    }
   ],
   "source": [
    "sym.expand((sym.cos(x) + sym.sin(x))**2)"
   ]
  },
  {
   "cell_type": "markdown",
   "id": "f81c168f-30d4-4803-9f4b-d2740192122a",
   "metadata": {},
   "source": [
    "**`factor`** is the opposite of `expand`, and will return the expression as irreducible factors over rational numbers."
   ]
  },
  {
   "cell_type": "code",
   "execution_count": 36,
   "id": "a44111c6-7fed-4559-a6f0-3bbb8eccf22b",
   "metadata": {},
   "outputs": [
    {
     "data": {
      "text/latex": [
       "$\\displaystyle x^{3} - x^{2} + x - 1$"
      ],
      "text/plain": [
       "x**3 - x**2 + x - 1"
      ]
     },
     "execution_count": 36,
     "metadata": {},
     "output_type": "execute_result"
    }
   ],
   "source": [
    "expr = x**3 - x**2 + x - 1\n",
    "expr"
   ]
  },
  {
   "cell_type": "code",
   "execution_count": 37,
   "id": "80b39adf-941b-4cec-a120-d316f5203843",
   "metadata": {},
   "outputs": [
    {
     "data": {
      "text/latex": [
       "$\\displaystyle \\left(x - 1\\right) \\left(x^{2} + 1\\right)$"
      ],
      "text/plain": [
       "(x - 1)*(x**2 + 1)"
      ]
     },
     "execution_count": 37,
     "metadata": {},
     "output_type": "execute_result"
    }
   ],
   "source": [
    "sym.factor(expr)"
   ]
  },
  {
   "cell_type": "markdown",
   "id": "45510374-a143-41fe-acbc-363dc9ded8b7",
   "metadata": {},
   "source": [
    "Both of these functions work on non-polynomial expressions as well"
   ]
  },
  {
   "cell_type": "code",
   "execution_count": 38,
   "id": "293203f4-bfba-4167-ac3b-ce17451fe4f3",
   "metadata": {},
   "outputs": [
    {
     "data": {
      "text/latex": [
       "$\\displaystyle \\sin^{2}{\\left(x \\right)} + 2 \\sin{\\left(x \\right)} \\cos{\\left(x \\right)} + \\cos^{2}{\\left(x \\right)}$"
      ],
      "text/plain": [
       "sin(x)**2 + 2*sin(x)*cos(x) + cos(x)**2"
      ]
     },
     "execution_count": 38,
     "metadata": {},
     "output_type": "execute_result"
    }
   ],
   "source": [
    "sym.expand((sym.cos(x) + sym.sin(x))**2)"
   ]
  },
  {
   "cell_type": "code",
   "execution_count": 39,
   "id": "835b3961-cd9c-4cd6-9d84-873e53be368e",
   "metadata": {},
   "outputs": [
    {
     "data": {
      "text/latex": [
       "$\\displaystyle \\left(\\sin{\\left(x \\right)} + \\cos{\\left(x \\right)}\\right)^{2}$"
      ],
      "text/plain": [
       "(sin(x) + cos(x))**2"
      ]
     },
     "execution_count": 39,
     "metadata": {},
     "output_type": "execute_result"
    }
   ],
   "source": [
    "sym.factor(sym.cos(x)**2 + 2*sym.cos(x)*sym.sin(x) + sym.sin(x)**2)"
   ]
  },
  {
   "cell_type": "markdown",
   "id": "8ac3d306-45c2-4a5f-8551-e26758980585",
   "metadata": {},
   "source": [
    "**`collect()`** collects common powers of a term in an expression. "
   ]
  },
  {
   "cell_type": "code",
   "execution_count": 40,
   "id": "8d9f5848-f030-4e96-a866-18be1dcd6502",
   "metadata": {},
   "outputs": [
    {
     "data": {
      "text/latex": [
       "$\\displaystyle x^{3} - x^{2} z + 2 x^{2} + x y + x - 3$"
      ],
      "text/plain": [
       "x**3 - x**2*z + 2*x**2 + x*y + x - 3"
      ]
     },
     "execution_count": 40,
     "metadata": {},
     "output_type": "execute_result"
    }
   ],
   "source": [
    "expr = x*y + x - 3 + 2*x**2 - z*x**2 + x**3\n",
    "expr"
   ]
  },
  {
   "cell_type": "code",
   "execution_count": 41,
   "id": "b11aca37-7d75-407f-a96d-492ef1a04b1a",
   "metadata": {},
   "outputs": [
    {
     "data": {
      "text/latex": [
       "$\\displaystyle x^{3} + x^{2} \\left(2 - z\\right) + x \\left(y + 1\\right) - 3$"
      ],
      "text/plain": [
       "x**3 + x**2*(2 - z) + x*(y + 1) - 3"
      ]
     },
     "execution_count": 41,
     "metadata": {},
     "output_type": "execute_result"
    }
   ],
   "source": [
    "sym.collect(expr, x)"
   ]
  },
  {
   "cell_type": "markdown",
   "id": "db60f920-8d9a-4856-9933-c5b135aeaf56",
   "metadata": {},
   "source": [
    "**`cancel()`** will take any rational function and put it into the standard canonical form - a fraction where the numerator and denominator are expanded polynomials of integers, with no common factors."
   ]
  },
  {
   "cell_type": "code",
   "execution_count": 42,
   "id": "1613aedd-eb28-4d15-8616-f973e1c4ea8f",
   "metadata": {},
   "outputs": [
    {
     "data": {
      "text/latex": [
       "$\\displaystyle \\frac{x y^{2} - 2 x y z + x z^{2} + y^{2} - 2 y z + z^{2}}{x^{2} - 1}$"
      ],
      "text/plain": [
       "(x*y**2 - 2*x*y*z + x*z**2 + y**2 - 2*y*z + z**2)/(x**2 - 1)"
      ]
     },
     "execution_count": 42,
     "metadata": {},
     "output_type": "execute_result"
    }
   ],
   "source": [
    "expr = (x*y**2 - 2*x*y*z + x*z**2 + y**2 - 2*y*z + z**2)/(x**2 - 1)\n",
    "expr"
   ]
  },
  {
   "cell_type": "code",
   "execution_count": 43,
   "id": "521c41e4-a7e2-4363-8412-91ef919e9b87",
   "metadata": {},
   "outputs": [
    {
     "data": {
      "text/latex": [
       "$\\displaystyle \\frac{y^{2} - 2 y z + z^{2}}{x - 1}$"
      ],
      "text/plain": [
       "(y**2 - 2*y*z + z**2)/(x - 1)"
      ]
     },
     "execution_count": 43,
     "metadata": {},
     "output_type": "execute_result"
    }
   ],
   "source": [
    "sym.cancel(expr)"
   ]
  },
  {
   "cell_type": "markdown",
   "id": "0716a86b-9ae4-4b5f-b144-7475901b8ef6",
   "metadata": {},
   "source": [
    "`factor()` will do the same thing, and completely factorize the numerator and denominator"
   ]
  },
  {
   "cell_type": "code",
   "execution_count": 44,
   "id": "249f32c7-d2f5-4909-bacb-d81339b74764",
   "metadata": {},
   "outputs": [
    {
     "data": {
      "text/latex": [
       "$\\displaystyle \\frac{\\left(y - z\\right)^{2}}{x - 1}$"
      ],
      "text/plain": [
       "(y - z)**2/(x - 1)"
      ]
     },
     "execution_count": 44,
     "metadata": {},
     "output_type": "execute_result"
    }
   ],
   "source": [
    "sym.factor(expr)"
   ]
  },
  {
   "cell_type": "markdown",
   "id": "8d6ebae2-05b2-4e4a-b977-e63c8ee6fca1",
   "metadata": {},
   "source": [
    "But `cancel()` is more efficient, especially if you only care to obtain the canceled form."
   ]
  },
  {
   "cell_type": "markdown",
   "id": "03448c1c-9bac-4511-9174-3797813e71e5",
   "metadata": {},
   "source": [
    "**`apart()`** performs a partial fraction decomposition on a rational function."
   ]
  },
  {
   "cell_type": "code",
   "execution_count": 45,
   "id": "6bff0724-5b22-4420-8b94-0c8d2877ee11",
   "metadata": {},
   "outputs": [
    {
     "data": {
      "text/latex": [
       "$\\displaystyle \\frac{4 x^{3} + 21 x^{2} + 10 x + 12}{x^{4} + 5 x^{3} + 5 x^{2} + 4 x}$"
      ],
      "text/plain": [
       "(4*x**3 + 21*x**2 + 10*x + 12)/(x**4 + 5*x**3 + 5*x**2 + 4*x)"
      ]
     },
     "execution_count": 45,
     "metadata": {},
     "output_type": "execute_result"
    }
   ],
   "source": [
    "expr = (4*x**3 + 21*x**2 + 10*x + 12)/(x**4 + 5*x**3 + 5*x**2 + 4*x)\n",
    "expr"
   ]
  },
  {
   "cell_type": "code",
   "execution_count": 46,
   "id": "e144168b-37fb-46e3-8cf8-71bc3c3d9003",
   "metadata": {},
   "outputs": [
    {
     "data": {
      "text/latex": [
       "$\\displaystyle \\frac{2 x - 1}{x^{2} + x + 1} - \\frac{1}{x + 4} + \\frac{3}{x}$"
      ],
      "text/plain": [
       "(2*x - 1)/(x**2 + x + 1) - 1/(x + 4) + 3/x"
      ]
     },
     "execution_count": 46,
     "metadata": {},
     "output_type": "execute_result"
    }
   ],
   "source": [
    "sym.apart(expr)"
   ]
  },
  {
   "cell_type": "markdown",
   "id": "85e2ddde-dc6b-40cb-a362-0658b8d76165",
   "metadata": {
    "jp-MarkdownHeadingCollapsed": true,
    "tags": []
   },
   "source": [
    "### Trigonometric simplification"
   ]
  },
  {
   "cell_type": "markdown",
   "id": "e140930c-28e0-44d7-8312-e29821c452a2",
   "metadata": {},
   "source": [
    "**`trigsimp`** will simplify expressions using trigonometric identities."
   ]
  },
  {
   "cell_type": "code",
   "execution_count": 47,
   "id": "25942526-903b-48bc-8767-af7f4ea30632",
   "metadata": {},
   "outputs": [
    {
     "data": {
      "text/latex": [
       "$\\displaystyle \\frac{\\cos{\\left(x \\right)} \\tan{\\left(x \\right)}}{\\sec{\\left(x \\right)}}$"
      ],
      "text/plain": [
       "cos(x)*tan(x)/sec(x)"
      ]
     },
     "execution_count": 47,
     "metadata": {},
     "output_type": "execute_result"
    }
   ],
   "source": [
    "expr = sym.cos(x)*sym.tan(x)/sym.sec(x)\n",
    "expr"
   ]
  },
  {
   "cell_type": "code",
   "execution_count": 48,
   "id": "bcd96bfe-20a3-4813-b22e-3ccc4e597811",
   "metadata": {},
   "outputs": [
    {
     "data": {
      "text/latex": [
       "$\\displaystyle \\frac{\\sin{\\left(2 x \\right)}}{2}$"
      ],
      "text/plain": [
       "sin(2*x)/2"
      ]
     },
     "execution_count": 48,
     "metadata": {},
     "output_type": "execute_result"
    }
   ],
   "source": [
    "sym.trigsimp(expr)"
   ]
  },
  {
   "cell_type": "markdown",
   "id": "e8df486f-f7fb-41b6-9b84-1e13358404f6",
   "metadata": {},
   "source": [
    "Much like `simplify()`, `trigsimp()` applies various trigonometric identities to the input expression, and then uses a heuristic to return the “simplest” one."
   ]
  },
  {
   "cell_type": "markdown",
   "id": "6803b678-21a5-4142-ab08-a2d750131994",
   "metadata": {},
   "source": [
    "**`expand_trig()`** expands trigonometric functions by applying the sum or double angle identities."
   ]
  },
  {
   "cell_type": "code",
   "execution_count": 49,
   "id": "5a5c24d6-87e3-4737-95dc-e478602be576",
   "metadata": {},
   "outputs": [
    {
     "data": {
      "text/latex": [
       "$\\displaystyle \\cos{\\left(x + y \\right)}$"
      ],
      "text/plain": [
       "cos(x + y)"
      ]
     },
     "execution_count": 49,
     "metadata": {},
     "output_type": "execute_result"
    }
   ],
   "source": [
    "expr = sym.cos(x + y)\n",
    "expr"
   ]
  },
  {
   "cell_type": "code",
   "execution_count": 50,
   "id": "b1bb34c5-e0ff-442a-b7c2-9855599454ef",
   "metadata": {},
   "outputs": [
    {
     "data": {
      "text/latex": [
       "$\\displaystyle - \\sin{\\left(x \\right)} \\sin{\\left(y \\right)} + \\cos{\\left(x \\right)} \\cos{\\left(y \\right)}$"
      ],
      "text/plain": [
       "-sin(x)*sin(y) + cos(x)*cos(y)"
      ]
     },
     "execution_count": 50,
     "metadata": {},
     "output_type": "execute_result"
    }
   ],
   "source": [
    "sym.expand_trig(expr)"
   ]
  },
  {
   "cell_type": "markdown",
   "id": "eb8f13e3-9166-4fb4-8b34-44055013ad77",
   "metadata": {},
   "source": [
    "### Powers, exponentials and logarithms\n",
    "\n",
    "When applying simplifications on these functions, it is important to understand the identities involved, and under which conditions they are satisfied. SymPy will not perform simplifications if the identities are not true *in general*.\n",
    "\n",
    "For these sections, it is symply (get it?) much easier to follow along with the tutorial in the SymPy documentation, as you need to understand and refer to the identities involved.\n",
    "https://docs.sympy.org/latest/tutorials/intro-tutorial/simplification.html#powers\n",
    "\n",
    "Note that Symbols can be given different assumptions by passing the assumption to symbols()."
   ]
  },
  {
   "cell_type": "code",
   "execution_count": 51,
   "id": "8aa921e9-cfcc-439c-971c-89931d89c435",
   "metadata": {},
   "outputs": [],
   "source": [
    "x, y = sym.symbols('x y', positive=True)\n",
    "a, b = sym.symbols('a b', real=True)\n",
    "z, t, c = sym.symbols('z t c')"
   ]
  },
  {
   "cell_type": "markdown",
   "id": "abb0f263-6558-4465-9faa-4f8fb736108c",
   "metadata": {
    "tags": []
   },
   "source": [
    "## Calculus"
   ]
  },
  {
   "cell_type": "markdown",
   "id": "157a7eb1-3df7-448d-af47-e03a4bb2f3b4",
   "metadata": {
    "jp-MarkdownHeadingCollapsed": true,
    "tags": []
   },
   "source": [
    "### Limits\n",
    "\n",
    "`limit(expression, variable, point)`"
   ]
  },
  {
   "cell_type": "code",
   "execution_count": 52,
   "id": "c704f53a-b45b-4136-a5cd-f3e5f37ca435",
   "metadata": {},
   "outputs": [
    {
     "data": {
      "text/latex": [
       "$\\displaystyle \\frac{\\sin{\\left(x \\right)}}{x}$"
      ],
      "text/plain": [
       "sin(x)/x"
      ]
     },
     "execution_count": 52,
     "metadata": {},
     "output_type": "execute_result"
    }
   ],
   "source": [
    "expr = sym.sin(x) / x\n",
    "expr"
   ]
  },
  {
   "cell_type": "code",
   "execution_count": 53,
   "id": "3660b818-8bba-4cb5-a7d7-5c36807c1664",
   "metadata": {},
   "outputs": [
    {
     "data": {
      "text/latex": [
       "$\\displaystyle 1$"
      ],
      "text/plain": [
       "1"
      ]
     },
     "execution_count": 53,
     "metadata": {},
     "output_type": "execute_result"
    }
   ],
   "source": [
    "sym.limit(expr, x, 0)"
   ]
  },
  {
   "cell_type": "code",
   "execution_count": 54,
   "id": "b73fbab0-2f51-4c02-9aec-e3cff3600e0d",
   "metadata": {},
   "outputs": [
    {
     "data": {
      "text/latex": [
       "$\\displaystyle \\frac{1}{x}$"
      ],
      "text/plain": [
       "1/x"
      ]
     },
     "execution_count": 54,
     "metadata": {},
     "output_type": "execute_result"
    }
   ],
   "source": [
    "expr = 1 / x\n",
    "expr"
   ]
  },
  {
   "cell_type": "code",
   "execution_count": 55,
   "id": "510f66c5-2bc4-4386-98a2-f47e1739a643",
   "metadata": {},
   "outputs": [
    {
     "data": {
      "text/latex": [
       "$\\displaystyle 0$"
      ],
      "text/plain": [
       "0"
      ]
     },
     "execution_count": 55,
     "metadata": {},
     "output_type": "execute_result"
    }
   ],
   "source": [
    "sym.limit(expr, x, sym.oo)"
   ]
  },
  {
   "cell_type": "markdown",
   "id": "a96b6bc4-afd7-4b46-b356-d70f68d3756f",
   "metadata": {
    "jp-MarkdownHeadingCollapsed": true,
    "tags": []
   },
   "source": [
    "### Differentiation\n",
    "`diff(expression, variable, order)`"
   ]
  },
  {
   "cell_type": "code",
   "execution_count": 56,
   "id": "dac92f78-9ceb-4ecb-bef8-2eafb270035b",
   "metadata": {},
   "outputs": [
    {
     "data": {
      "text/latex": [
       "$\\displaystyle \\sin{\\left(2 x \\right)}$"
      ],
      "text/plain": [
       "sin(2*x)"
      ]
     },
     "execution_count": 56,
     "metadata": {},
     "output_type": "execute_result"
    }
   ],
   "source": [
    "expr = sym.sin(2*x)\n",
    "expr"
   ]
  },
  {
   "cell_type": "code",
   "execution_count": 57,
   "id": "1e2d5b96-ebb6-46ef-a5ab-41095834818a",
   "metadata": {},
   "outputs": [
    {
     "data": {
      "text/latex": [
       "$\\displaystyle 2 \\cos{\\left(2 x \\right)}$"
      ],
      "text/plain": [
       "2*cos(2*x)"
      ]
     },
     "execution_count": 57,
     "metadata": {},
     "output_type": "execute_result"
    }
   ],
   "source": [
    "sym.diff(expr, x)"
   ]
  },
  {
   "cell_type": "markdown",
   "id": "72e83b28-79c3-4f89-9c5e-9d4dd3fbac64",
   "metadata": {},
   "source": [
    "**Higher order derivatives:**"
   ]
  },
  {
   "cell_type": "code",
   "execution_count": 58,
   "id": "9f566fdc-0670-4b93-8f55-f5cee5bb8bea",
   "metadata": {},
   "outputs": [
    {
     "data": {
      "text/latex": [
       "$\\displaystyle 5 x^{2} - 4 x + 1$"
      ],
      "text/plain": [
       "5*x**2 - 4*x + 1"
      ]
     },
     "execution_count": 58,
     "metadata": {},
     "output_type": "execute_result"
    }
   ],
   "source": [
    "expr = 5*x**2 - 4*x + 1\n",
    "expr"
   ]
  },
  {
   "cell_type": "code",
   "execution_count": 59,
   "id": "d59d043f-0803-43a1-bcea-c887a19998e1",
   "metadata": {},
   "outputs": [
    {
     "data": {
      "text/latex": [
       "$\\displaystyle 10 x - 4$"
      ],
      "text/plain": [
       "10*x - 4"
      ]
     },
     "execution_count": 59,
     "metadata": {},
     "output_type": "execute_result"
    }
   ],
   "source": [
    "sym.diff(expr, x, 1)"
   ]
  },
  {
   "cell_type": "code",
   "execution_count": 60,
   "id": "46951980-60d7-40fa-a98f-6168fe55c1bd",
   "metadata": {},
   "outputs": [
    {
     "data": {
      "text/latex": [
       "$\\displaystyle 10$"
      ],
      "text/plain": [
       "10"
      ]
     },
     "execution_count": 60,
     "metadata": {},
     "output_type": "execute_result"
    }
   ],
   "source": [
    "sym.diff(expr, x, 2)"
   ]
  },
  {
   "cell_type": "code",
   "execution_count": 61,
   "id": "89f483e2-e534-49b0-b3df-79e66717afe1",
   "metadata": {},
   "outputs": [
    {
     "data": {
      "text/latex": [
       "$\\displaystyle 0$"
      ],
      "text/plain": [
       "0"
      ]
     },
     "execution_count": 61,
     "metadata": {},
     "output_type": "execute_result"
    }
   ],
   "source": [
    "sym.diff(expr, x, 3)"
   ]
  },
  {
   "cell_type": "markdown",
   "id": "4800521f-ef28-4a93-9183-72d6ad66de4f",
   "metadata": {},
   "source": [
    "**With multiple variables:**"
   ]
  },
  {
   "cell_type": "code",
   "execution_count": 62,
   "id": "e62a5180-67ec-41f5-afef-55bad6dc3e66",
   "metadata": {},
   "outputs": [
    {
     "data": {
      "text/latex": [
       "$\\displaystyle e^{x y z}$"
      ],
      "text/plain": [
       "exp(x*y*z)"
      ]
     },
     "execution_count": 62,
     "metadata": {},
     "output_type": "execute_result"
    }
   ],
   "source": [
    "expr = sym.exp(x*y*z)\n",
    "expr"
   ]
  },
  {
   "cell_type": "code",
   "execution_count": 63,
   "id": "b3e63f37-6c07-434f-853f-f5c5c866adbf",
   "metadata": {},
   "outputs": [
    {
     "data": {
      "text/latex": [
       "$\\displaystyle y z e^{x y z}$"
      ],
      "text/plain": [
       "y*z*exp(x*y*z)"
      ]
     },
     "execution_count": 63,
     "metadata": {},
     "output_type": "execute_result"
    }
   ],
   "source": [
    "sym.diff(expr, x)"
   ]
  },
  {
   "cell_type": "code",
   "execution_count": 64,
   "id": "d36684eb-2528-4675-a26c-033ee164c2b1",
   "metadata": {},
   "outputs": [
    {
     "data": {
      "text/latex": [
       "$\\displaystyle x z e^{x y z}$"
      ],
      "text/plain": [
       "x*z*exp(x*y*z)"
      ]
     },
     "execution_count": 64,
     "metadata": {},
     "output_type": "execute_result"
    }
   ],
   "source": [
    "sym.diff(expr, y)"
   ]
  },
  {
   "cell_type": "code",
   "execution_count": 65,
   "id": "e528968a-d64b-4ef0-8298-188fc51ed1a1",
   "metadata": {},
   "outputs": [
    {
     "data": {
      "text/latex": [
       "$\\displaystyle y z^{2} \\left(x y z + 2\\right) e^{x y z}$"
      ],
      "text/plain": [
       "y*z**2*(x*y*z + 2)*exp(x*y*z)"
      ]
     },
     "execution_count": 65,
     "metadata": {},
     "output_type": "execute_result"
    }
   ],
   "source": [
    "sym.diff(expr, x, y, x)"
   ]
  },
  {
   "cell_type": "markdown",
   "id": "7f17cd9e-0416-40fd-8ead-35780738f9e7",
   "metadata": {},
   "source": [
    "**`diff()` can also be called as a method**"
   ]
  },
  {
   "cell_type": "code",
   "execution_count": 66,
   "id": "12c9e79c-63dd-4520-9e10-d133d0bd11bd",
   "metadata": {},
   "outputs": [
    {
     "data": {
      "text/latex": [
       "$\\displaystyle 5 x^{2} - 4 x + 1$"
      ],
      "text/plain": [
       "5*x**2 - 4*x + 1"
      ]
     },
     "execution_count": 66,
     "metadata": {},
     "output_type": "execute_result"
    }
   ],
   "source": [
    "expr = 5*x**2 - 4*x + 1\n",
    "expr"
   ]
  },
  {
   "cell_type": "code",
   "execution_count": 67,
   "id": "4888662b-dfed-42c4-8080-f5ff696da578",
   "metadata": {},
   "outputs": [
    {
     "data": {
      "text/latex": [
       "$\\displaystyle 10 x - 4$"
      ],
      "text/plain": [
       "10*x - 4"
      ]
     },
     "execution_count": 67,
     "metadata": {},
     "output_type": "execute_result"
    }
   ],
   "source": [
    "expr.diff()"
   ]
  },
  {
   "cell_type": "markdown",
   "id": "0eb3cbbc-73ad-4df0-be31-44be276279ed",
   "metadata": {
    "jp-MarkdownHeadingCollapsed": true,
    "tags": []
   },
   "source": [
    "### Integration\n",
    "`integrate(expression, variable)`"
   ]
  },
  {
   "cell_type": "code",
   "execution_count": 68,
   "id": "f1a9c3a9-d72a-42d2-ad22-e03832be28d0",
   "metadata": {},
   "outputs": [
    {
     "data": {
      "text/latex": [
       "$\\displaystyle 3 x + 7$"
      ],
      "text/plain": [
       "3*x + 7"
      ]
     },
     "execution_count": 68,
     "metadata": {},
     "output_type": "execute_result"
    }
   ],
   "source": [
    "expr = 3*x + 7\n",
    "expr"
   ]
  },
  {
   "cell_type": "code",
   "execution_count": 69,
   "id": "994f7c90-1d4e-4442-9e7d-00aaefb14bc4",
   "metadata": {},
   "outputs": [
    {
     "data": {
      "text/latex": [
       "$\\displaystyle \\frac{3 x^{2}}{2} + 7 x$"
      ],
      "text/plain": [
       "3*x**2/2 + 7*x"
      ]
     },
     "execution_count": 69,
     "metadata": {},
     "output_type": "execute_result"
    }
   ],
   "source": [
    "sym.integrate(expr, x)"
   ]
  },
  {
   "cell_type": "markdown",
   "id": "e3779ede-ffb6-42d8-a9e8-4fe715e23423",
   "metadata": {},
   "source": [
    "Note that the constant of integration is not included.\n",
    "\n",
    "**Definite integral:**"
   ]
  },
  {
   "cell_type": "code",
   "execution_count": 70,
   "id": "db053927-f358-483d-8da5-a3d9c60b7a37",
   "metadata": {},
   "outputs": [
    {
     "data": {
      "text/latex": [
       "$\\displaystyle \\frac{17}{2}$"
      ],
      "text/plain": [
       "17/2"
      ]
     },
     "execution_count": 70,
     "metadata": {},
     "output_type": "execute_result"
    }
   ],
   "source": [
    "sym.integrate(expr, (x, 0, 1))"
   ]
  },
  {
   "cell_type": "markdown",
   "id": "c71f25f6-43cb-4fc3-8e0b-873bf8bd119c",
   "metadata": {},
   "source": [
    "**`integrate()` can also be called as a method**"
   ]
  },
  {
   "cell_type": "code",
   "execution_count": 71,
   "id": "56ebdec9-3be7-491c-899c-4e9aaec4df38",
   "metadata": {},
   "outputs": [
    {
     "data": {
      "text/latex": [
       "$\\displaystyle \\frac{3 x^{2}}{2} + 7 x$"
      ],
      "text/plain": [
       "3*x**2/2 + 7*x"
      ]
     },
     "execution_count": 71,
     "metadata": {},
     "output_type": "execute_result"
    }
   ],
   "source": [
    "expr.integrate()"
   ]
  },
  {
   "cell_type": "code",
   "execution_count": 72,
   "id": "8edb2536-9bbf-4ba8-baaf-24dc9810296c",
   "metadata": {},
   "outputs": [
    {
     "data": {
      "text/latex": [
       "$\\displaystyle \\frac{17}{2}$"
      ],
      "text/plain": [
       "17/2"
      ]
     },
     "execution_count": 72,
     "metadata": {},
     "output_type": "execute_result"
    }
   ],
   "source": [
    "expr.integrate((x, 0, 1))"
   ]
  },
  {
   "cell_type": "markdown",
   "id": "01d0c75f-3dbe-40a0-9059-f046eb9fbe47",
   "metadata": {
    "jp-MarkdownHeadingCollapsed": true,
    "tags": []
   },
   "source": [
    "### Taylor series expansion\n",
    "`series(expression, variable, x0=0, n=6)`"
   ]
  },
  {
   "cell_type": "code",
   "execution_count": 73,
   "id": "671f632c-c33f-4d87-b386-fad4a6798c32",
   "metadata": {},
   "outputs": [
    {
     "data": {
      "text/latex": [
       "$\\displaystyle \\tan{\\left(x \\right)}$"
      ],
      "text/plain": [
       "tan(x)"
      ]
     },
     "execution_count": 73,
     "metadata": {},
     "output_type": "execute_result"
    }
   ],
   "source": [
    "expr = sym.tan(x)\n",
    "expr"
   ]
  },
  {
   "cell_type": "code",
   "execution_count": 74,
   "id": "06458d94-efc2-445c-8f68-54fa1c61b202",
   "metadata": {},
   "outputs": [
    {
     "data": {
      "text/latex": [
       "$\\displaystyle x + \\frac{x^{3}}{3} + \\frac{2 x^{5}}{15} + O\\left(x^{6}\\right)$"
      ],
      "text/plain": [
       "x + x**3/3 + 2*x**5/15 + O(x**6)"
      ]
     },
     "execution_count": 74,
     "metadata": {},
     "output_type": "execute_result"
    }
   ],
   "source": [
    "sym.series(expr, x)"
   ]
  },
  {
   "cell_type": "code",
   "execution_count": 75,
   "id": "9307d73d-f8b6-4ee2-aa63-54ed9ee43dcb",
   "metadata": {},
   "outputs": [
    {
     "data": {
      "text/latex": [
       "$\\displaystyle x + \\frac{x^{3}}{3} + \\frac{2 x^{5}}{15} + \\frac{17 x^{7}}{315} + O\\left(x^{8}\\right)$"
      ],
      "text/plain": [
       "x + x**3/3 + 2*x**5/15 + 17*x**7/315 + O(x**8)"
      ]
     },
     "execution_count": 75,
     "metadata": {},
     "output_type": "execute_result"
    }
   ],
   "source": [
    "sym.series(expr, x, 0, 8)"
   ]
  },
  {
   "cell_type": "markdown",
   "id": "000d4b2a-ae03-459d-be2a-5a2ddfb12b65",
   "metadata": {},
   "source": [
    "`removeO()` can be used to exclude the higher order terms entirely"
   ]
  },
  {
   "cell_type": "code",
   "execution_count": 76,
   "id": "42bc9f0c-fb47-4691-96f5-8b1c25e67ec2",
   "metadata": {},
   "outputs": [
    {
     "data": {
      "text/latex": [
       "$\\displaystyle \\frac{17 x^{7}}{315} + \\frac{2 x^{5}}{15} + \\frac{x^{3}}{3} + x$"
      ],
      "text/plain": [
       "17*x**7/315 + 2*x**5/15 + x**3/3 + x"
      ]
     },
     "execution_count": 76,
     "metadata": {},
     "output_type": "execute_result"
    }
   ],
   "source": [
    "sym.series(expr, x, 0, 8).removeO()"
   ]
  },
  {
   "cell_type": "markdown",
   "id": "84c7fbe0-481c-4d7d-a3a2-fb17b3ae2bfa",
   "metadata": {},
   "source": [
    "**`series()` can also be called as a method**"
   ]
  },
  {
   "cell_type": "code",
   "execution_count": 77,
   "id": "223bd31a-ed83-4bf3-8fa0-59a4daf74d43",
   "metadata": {},
   "outputs": [
    {
     "data": {
      "text/latex": [
       "$\\displaystyle x + \\frac{x^{3}}{3} + \\frac{2 x^{5}}{15} + O\\left(x^{6}\\right)$"
      ],
      "text/plain": [
       "x + x**3/3 + 2*x**5/15 + O(x**6)"
      ]
     },
     "execution_count": 77,
     "metadata": {},
     "output_type": "execute_result"
    }
   ],
   "source": [
    "expr.series()"
   ]
  },
  {
   "cell_type": "markdown",
   "id": "721fa2ee-82d6-4dcb-8083-95d3ffdb7218",
   "metadata": {
    "tags": []
   },
   "source": [
    "## Equation Solving\n",
    "\n",
    "Symbolic equations in SymPy are not represented by `=` or `==`, but by the `Eq` class."
   ]
  },
  {
   "cell_type": "code",
   "execution_count": 78,
   "id": "57edab7f-0f8c-4656-ab1c-404f717a4ab4",
   "metadata": {},
   "outputs": [
    {
     "data": {
      "text/latex": [
       "$\\displaystyle x = y$"
      ],
      "text/plain": [
       "Eq(x, y)"
      ]
     },
     "execution_count": 78,
     "metadata": {},
     "output_type": "execute_result"
    }
   ],
   "source": [
    "sym.Eq(x, y)"
   ]
  },
  {
   "cell_type": "markdown",
   "id": "3382b046-2d46-4d7b-91d6-3250fc843075",
   "metadata": {},
   "source": [
    "However, there is an even easier way. In SymPy, any expression not in an `Eq` is automatically assumed to equal 0 by the solving functions.\n",
    "\n",
    "Since $a=b$ if and only if $a-b=0$, this means that instead of using `Eq(x, y)`, you can just use `x - y`"
   ]
  },
  {
   "cell_type": "markdown",
   "id": "117f6d69-7447-411d-a558-56fb34b99fb5",
   "metadata": {},
   "source": [
    "**`solveset`** is the main function for solving algebraic equations.\n",
    "\n",
    "`solveset(equation, variable=None, domain=S.Complexes)`"
   ]
  },
  {
   "cell_type": "code",
   "execution_count": 79,
   "id": "66b9d74c-db6a-4e9a-837e-45c00167b3fd",
   "metadata": {},
   "outputs": [
    {
     "data": {
      "text/latex": [
       "$\\displaystyle 2 x^{2} + x - 1$"
      ],
      "text/plain": [
       "2*x**2 + x - 1"
      ]
     },
     "execution_count": 79,
     "metadata": {},
     "output_type": "execute_result"
    }
   ],
   "source": [
    "expr = 2*x**2 + x - 1\n",
    "expr"
   ]
  },
  {
   "cell_type": "code",
   "execution_count": 80,
   "id": "0b9095ae-4b63-4b1c-aade-241b3fc92319",
   "metadata": {},
   "outputs": [
    {
     "data": {
      "text/latex": [
       "$\\displaystyle \\left\\{-1, \\frac{1}{2}\\right\\}$"
      ],
      "text/plain": [
       "{-1, 1/2}"
      ]
     },
     "execution_count": 80,
     "metadata": {},
     "output_type": "execute_result"
    }
   ],
   "source": [
    "sym.solveset(expr, x)"
   ]
  },
  {
   "cell_type": "markdown",
   "id": "c047fc13-14a8-4b6c-b14c-147199bca05a",
   "metadata": {},
   "source": [
    "It also has (limited) support for transcendental equations:"
   ]
  },
  {
   "cell_type": "code",
   "execution_count": 81,
   "id": "a49937ae-8db4-4a87-919d-9e41eb407d64",
   "metadata": {},
   "outputs": [
    {
     "data": {
      "text/latex": [
       "$\\displaystyle e^{x} - 1$"
      ],
      "text/plain": [
       "exp(x) - 1"
      ]
     },
     "execution_count": 81,
     "metadata": {},
     "output_type": "execute_result"
    }
   ],
   "source": [
    "expr = sym.exp(x) - 1\n",
    "expr"
   ]
  },
  {
   "cell_type": "code",
   "execution_count": 82,
   "id": "778a8db9-0625-491c-9cfa-eab3b6e7adef",
   "metadata": {},
   "outputs": [
    {
     "data": {
      "text/latex": [
       "$\\displaystyle \\left\\{2 n i \\pi\\; \\middle|\\; n \\in \\mathbb{Z}\\right\\}$"
      ],
      "text/plain": [
       "ImageSet(Lambda(_n, 2*_n*I*pi), Integers)"
      ]
     },
     "execution_count": 82,
     "metadata": {},
     "output_type": "execute_result"
    }
   ],
   "source": [
    "sym.solveset(expr, x)"
   ]
  },
  {
   "cell_type": "markdown",
   "id": "de0c9c81-aded-41a5-a106-65792f926a30",
   "metadata": {},
   "source": [
    "If no solution exists, an empty set is returned."
   ]
  },
  {
   "cell_type": "code",
   "execution_count": 83,
   "id": "96902f97-0cb5-427d-a583-3ab9e772e761",
   "metadata": {},
   "outputs": [
    {
     "data": {
      "text/latex": [
       "$\\displaystyle e^{x}$"
      ],
      "text/plain": [
       "exp(x)"
      ]
     },
     "execution_count": 83,
     "metadata": {},
     "output_type": "execute_result"
    }
   ],
   "source": [
    "expr = sym.exp(x)\n",
    "expr"
   ]
  },
  {
   "cell_type": "code",
   "execution_count": 84,
   "id": "e2c08d50-1d6e-4fd6-af7a-9fae2f745388",
   "metadata": {},
   "outputs": [
    {
     "data": {
      "text/latex": [
       "$\\displaystyle \\emptyset$"
      ],
      "text/plain": [
       "EmptySet"
      ]
     },
     "execution_count": 84,
     "metadata": {},
     "output_type": "execute_result"
    }
   ],
   "source": [
    "sym.solveset(expr, x)"
   ]
  },
  {
   "cell_type": "markdown",
   "id": "7c80518d-733b-4a64-bbc7-1fcdbe630d0b",
   "metadata": {
    "tags": []
   },
   "source": [
    "### System of Equations"
   ]
  },
  {
   "cell_type": "markdown",
   "id": "b243593f-ed46-433f-9a98-ec1fe98b484d",
   "metadata": {},
   "source": [
    "**`linsolve`** can be used to solve a linear system of equations. The order of solution corresponds the order of given symbols."
   ]
  },
  {
   "cell_type": "code",
   "execution_count": 85,
   "id": "4b181128-1f07-44e4-a983-799af0238753",
   "metadata": {},
   "outputs": [
    {
     "data": {
      "text/latex": [
       "$\\displaystyle \\left\\{\\left( - y - 1, \\  y, \\  2\\right)\\right\\}$"
      ],
      "text/plain": [
       "{(-y - 1, y, 2)}"
      ]
     },
     "execution_count": 85,
     "metadata": {},
     "output_type": "execute_result"
    }
   ],
   "source": [
    "sym.linsolve([x + y + z - 1, x + y + 2*z - 3], (x, y, z))"
   ]
  },
  {
   "cell_type": "markdown",
   "id": "f9b06432-517c-4d1d-9329-d6b0757ae960",
   "metadata": {},
   "source": [
    "**`nonlinsolve`** can be used to solve a non-linear system of equations. The order of solution corresponds the order of given symbols."
   ]
  },
  {
   "cell_type": "code",
   "execution_count": 86,
   "id": "6eb4170c-5fb9-44af-9cab-bf3d8cc3e629",
   "metadata": {},
   "outputs": [
    {
     "data": {
      "text/latex": [
       "$\\displaystyle \\left\\{\\left( -1, \\  -1\\right), \\left( 0, \\  0\\right)\\right\\}$"
      ],
      "text/plain": [
       "{(-1, -1), (0, 0)}"
      ]
     },
     "execution_count": 86,
     "metadata": {},
     "output_type": "execute_result"
    }
   ],
   "source": [
    "sym.nonlinsolve([x**2 + x, x - y], (x, y))"
   ]
  },
  {
   "cell_type": "code",
   "execution_count": 87,
   "id": "63d970cd-2ff9-48cd-8aec-2685f390703a",
   "metadata": {},
   "outputs": [
    {
     "data": {
      "text/latex": [
       "$\\displaystyle \\left\\{\\left( -2, \\  -1\\right), \\left( 2, \\  1\\right), \\left( - \\sqrt{2} i, \\  \\sqrt{2} i\\right), \\left( \\sqrt{2} i, \\  - \\sqrt{2} i\\right)\\right\\}$"
      ],
      "text/plain": [
       "{(-2, -1), (2, 1), (-sqrt(2)*I, sqrt(2)*I), (sqrt(2)*I, -sqrt(2)*I)}"
      ]
     },
     "execution_count": 87,
     "metadata": {},
     "output_type": "execute_result"
    }
   ],
   "source": [
    "sym.nonlinsolve([x**2 - 2*y**2 -2, x*y - 2], (x, y))"
   ]
  },
  {
   "cell_type": "markdown",
   "id": "c7a8f23c-920a-484e-9c2c-1b80d0a39918",
   "metadata": {
    "tags": []
   },
   "source": [
    "### Differential Equations\n",
    "\n",
    "To solve differential equations, we need to first create an undefined function by passing `cls=sympy.Function` to the `symbols` function."
   ]
  },
  {
   "cell_type": "code",
   "execution_count": 88,
   "id": "b50f612d-24eb-4e5e-be64-64b84e4e5c2c",
   "metadata": {},
   "outputs": [],
   "source": [
    "f, g = sym.symbols('f g', cls=sym.Function)"
   ]
  },
  {
   "cell_type": "markdown",
   "id": "22730fc0-1e92-4942-9b86-f9c9611a759a",
   "metadata": {},
   "source": [
    "`f` and `g` are now undefined functions. We can call `f(x)` and `g(x)`, to represent the unknown functions."
   ]
  },
  {
   "cell_type": "code",
   "execution_count": 89,
   "id": "1f86074d-e846-48d0-ae3b-ce2c9190ee88",
   "metadata": {},
   "outputs": [
    {
     "data": {
      "text/latex": [
       "$\\displaystyle f{\\left(x \\right)}$"
      ],
      "text/plain": [
       "f(x)"
      ]
     },
     "execution_count": 89,
     "metadata": {},
     "output_type": "execute_result"
    }
   ],
   "source": [
    "f(x)"
   ]
  },
  {
   "cell_type": "code",
   "execution_count": 90,
   "id": "1d1f4fd0-f68a-4518-94a2-7fd7ec3b4ceb",
   "metadata": {},
   "outputs": [
    {
     "data": {
      "text/latex": [
       "$\\displaystyle g{\\left(x \\right)}$"
      ],
      "text/plain": [
       "g(x)"
      ]
     },
     "execution_count": 90,
     "metadata": {},
     "output_type": "execute_result"
    }
   ],
   "source": [
    "g(x)"
   ]
  },
  {
   "cell_type": "markdown",
   "id": "e2adda67-a0dd-4fbc-9097-99c537ffae60",
   "metadata": {},
   "source": [
    "Derivatives of `f(x)` and `g(x)`"
   ]
  },
  {
   "cell_type": "code",
   "execution_count": 91,
   "id": "b94b8976-161d-4c02-ba2d-493246b99e92",
   "metadata": {},
   "outputs": [
    {
     "data": {
      "text/latex": [
       "$\\displaystyle \\frac{d}{d x} f{\\left(x \\right)}$"
      ],
      "text/plain": [
       "Derivative(f(x), x)"
      ]
     },
     "execution_count": 91,
     "metadata": {},
     "output_type": "execute_result"
    }
   ],
   "source": [
    "f(x).diff(x)"
   ]
  },
  {
   "cell_type": "code",
   "execution_count": 92,
   "id": "c05e8fbe-909b-4f13-a1de-8a02905b42a5",
   "metadata": {},
   "outputs": [
    {
     "data": {
      "text/latex": [
       "$\\displaystyle \\frac{d}{d x} g{\\left(x \\right)}$"
      ],
      "text/plain": [
       "Derivative(g(x), x)"
      ]
     },
     "execution_count": 92,
     "metadata": {},
     "output_type": "execute_result"
    }
   ],
   "source": [
    "g(x).diff(x)"
   ]
  },
  {
   "cell_type": "markdown",
   "id": "90f0eaa2-2ab7-493a-8c85-401fa3f2b296",
   "metadata": {},
   "source": [
    "Hence, we can now define a differential equation:\n",
    "\n",
    "$f''(x) - 2f'(x) + f(x) = sin(x)$"
   ]
  },
  {
   "cell_type": "code",
   "execution_count": 93,
   "id": "76e9a496-904d-49d4-abda-de154ebe001a",
   "metadata": {},
   "outputs": [
    {
     "data": {
      "text/latex": [
       "$\\displaystyle f{\\left(x \\right)} - 2 \\frac{d}{d x} f{\\left(x \\right)} + \\frac{d^{2}}{d x^{2}} f{\\left(x \\right)} = \\sin{\\left(x \\right)}$"
      ],
      "text/plain": [
       "Eq(f(x) - 2*Derivative(f(x), x) + Derivative(f(x), (x, 2)), sin(x))"
      ]
     },
     "execution_count": 93,
     "metadata": {},
     "output_type": "execute_result"
    }
   ],
   "source": [
    "diffeq = sym.Eq(f(x).diff(x, x) - 2*f(x).diff(x) + f(x), sym.sin(x))\n",
    "diffeq"
   ]
  },
  {
   "cell_type": "markdown",
   "id": "da95cb64-3e11-4000-b81d-375efbde1316",
   "metadata": {},
   "source": [
    "And use **`dsolve`** to solve for $f(x)$"
   ]
  },
  {
   "cell_type": "code",
   "execution_count": 94,
   "id": "76b2d47c-45a7-404d-a77b-09d47ce229b4",
   "metadata": {},
   "outputs": [
    {
     "data": {
      "text/latex": [
       "$\\displaystyle f{\\left(x \\right)} = \\left(C_{1} + C_{2} x\\right) e^{x} + \\frac{\\cos{\\left(x \\right)}}{2}$"
      ],
      "text/plain": [
       "Eq(f(x), (C1 + C2*x)*exp(x) + cos(x)/2)"
      ]
     },
     "execution_count": 94,
     "metadata": {},
     "output_type": "execute_result"
    }
   ],
   "source": [
    "sym.dsolve(diffeq, f(x))"
   ]
  },
  {
   "cell_type": "markdown",
   "id": "21f7f396-b627-4f9a-b1fd-db48c96a51b7",
   "metadata": {},
   "source": [
    "Note: `dsolve` returns an instance of `Eq`."
   ]
  },
  {
   "cell_type": "markdown",
   "id": "06fdc096-826b-4263-b718-1d453dc0f299",
   "metadata": {
    "tags": []
   },
   "source": [
    "## Matrix Algebra\n",
    "\n",
    "Matrices are created as instances of the `Matrix` class, similar to how arrays are created in NumPy."
   ]
  },
  {
   "cell_type": "code",
   "execution_count": 95,
   "id": "8d8c4e71-ce40-48e4-a8d5-be0478895346",
   "metadata": {},
   "outputs": [
    {
     "data": {
      "text/latex": [
       "$\\displaystyle \\left[\\begin{matrix}2 & -4 & 8\\\\0 & 5 & -1\\end{matrix}\\right]$"
      ],
      "text/plain": [
       "Matrix([\n",
       "[2, -4,  8],\n",
       "[0,  5, -1]])"
      ]
     },
     "execution_count": 95,
     "metadata": {},
     "output_type": "execute_result"
    }
   ],
   "source": [
    "m = sym.Matrix([[2, -4, 8], [0, 5, -1]])\n",
    "m"
   ]
  },
  {
   "cell_type": "code",
   "execution_count": 96,
   "id": "5ac508bf-a9e8-4e70-ab2e-bf1f4691b6fa",
   "metadata": {},
   "outputs": [
    {
     "data": {
      "text/plain": [
       "(2, 3)"
      ]
     },
     "execution_count": 96,
     "metadata": {},
     "output_type": "execute_result"
    }
   ],
   "source": [
    "sym.shape(m) # Similar to np.shape()"
   ]
  },
  {
   "cell_type": "markdown",
   "id": "7c3bcc85-1504-4d23-93ca-9d1956ab7540",
   "metadata": {},
   "source": [
    "Individual rows or columns can be accessed:"
   ]
  },
  {
   "cell_type": "code",
   "execution_count": 97,
   "id": "d420edc5-1de6-44b0-aad8-3bfd3a7a67ca",
   "metadata": {},
   "outputs": [
    {
     "data": {
      "text/latex": [
       "$\\displaystyle \\left[\\begin{matrix}2 & -4 & 8\\end{matrix}\\right]$"
      ],
      "text/plain": [
       "Matrix([[2, -4, 8]])"
      ]
     },
     "execution_count": 97,
     "metadata": {},
     "output_type": "execute_result"
    }
   ],
   "source": [
    "m.row(0)"
   ]
  },
  {
   "cell_type": "code",
   "execution_count": 98,
   "id": "d775b5cf-d76f-4a3f-8e8e-20ef96f1bf4a",
   "metadata": {},
   "outputs": [
    {
     "data": {
      "text/latex": [
       "$\\displaystyle \\left[\\begin{matrix}-4\\\\5\\end{matrix}\\right]$"
      ],
      "text/plain": [
       "Matrix([\n",
       "[-4],\n",
       "[ 5]])"
      ]
     },
     "execution_count": 98,
     "metadata": {},
     "output_type": "execute_result"
    }
   ],
   "source": [
    "m.col(1)"
   ]
  },
  {
   "cell_type": "markdown",
   "id": "a6aa6ef7-1a00-4413-a5db-635a6287e4bf",
   "metadata": {},
   "source": [
    "However, unlike a NumPy array, a single list passed to `Matrix` results in a column vector."
   ]
  },
  {
   "cell_type": "code",
   "execution_count": 99,
   "id": "0204857c-b916-4d66-a07d-e348a1b3cbda",
   "metadata": {},
   "outputs": [
    {
     "data": {
      "text/latex": [
       "$\\displaystyle \\left[\\begin{matrix}0\\\\2\\\\7\\end{matrix}\\right]$"
      ],
      "text/plain": [
       "Matrix([\n",
       "[0],\n",
       "[2],\n",
       "[7]])"
      ]
     },
     "execution_count": 99,
     "metadata": {},
     "output_type": "execute_result"
    }
   ],
   "source": [
    "n = sym.Matrix([0, 2, 7])\n",
    "n"
   ]
  },
  {
   "cell_type": "markdown",
   "id": "bafcca71-1fb8-420d-9ac6-2d5729cb2a17",
   "metadata": {},
   "source": [
    "Basic matrix operations can be performed easily.\n",
    "\n",
    "Note that for NumPy arrays, elementwise operations are generally the default. However, for a `Matrix` object, the `*` operator results in matrix multiplication."
   ]
  },
  {
   "cell_type": "code",
   "execution_count": 100,
   "id": "c0f9c642-30fb-4c6b-9f54-764f64f8f376",
   "metadata": {},
   "outputs": [
    {
     "data": {
      "text/latex": [
       "$\\displaystyle \\left[\\begin{matrix}48\\\\3\\end{matrix}\\right]$"
      ],
      "text/plain": [
       "Matrix([\n",
       "[48],\n",
       "[ 3]])"
      ]
     },
     "execution_count": 100,
     "metadata": {},
     "output_type": "execute_result"
    }
   ],
   "source": [
    "m*n"
   ]
  },
  {
   "cell_type": "markdown",
   "id": "588ccf8f-dd63-483d-9f33-29cd9e6577cf",
   "metadata": {},
   "source": [
    "One important thing to note about SymPy matrices is that, unlike every other object in SymPy, they are mutable. This means that they can be modified in place."
   ]
  },
  {
   "cell_type": "code",
   "execution_count": 101,
   "id": "602c93a3-2b85-40f4-ac3b-a2f768540e22",
   "metadata": {},
   "outputs": [
    {
     "data": {
      "text/latex": [
       "$\\displaystyle \\left[\\begin{matrix}2 & -4 & 8\\\\0 & 5 & -1\\end{matrix}\\right]$"
      ],
      "text/plain": [
       "Matrix([\n",
       "[2, -4,  8],\n",
       "[0,  5, -1]])"
      ]
     },
     "execution_count": 101,
     "metadata": {},
     "output_type": "execute_result"
    }
   ],
   "source": [
    "m = sym.Matrix([[2, -4, 8], [0, 5, -1]])\n",
    "m"
   ]
  },
  {
   "cell_type": "code",
   "execution_count": 102,
   "id": "c39580b1-f112-4b3a-9fba-c25a7f592144",
   "metadata": {},
   "outputs": [
    {
     "data": {
      "text/latex": [
       "$\\displaystyle \\left[\\begin{matrix}2 & -4\\\\0 & 5\\end{matrix}\\right]$"
      ],
      "text/plain": [
       "Matrix([\n",
       "[2, -4],\n",
       "[0,  5]])"
      ]
     },
     "execution_count": 102,
     "metadata": {},
     "output_type": "execute_result"
    }
   ],
   "source": [
    "m.col_del(2)\n",
    "m"
   ]
  },
  {
   "cell_type": "markdown",
   "id": "dd74862a-5644-454a-a5fd-e420e1b8be0c",
   "metadata": {
    "jp-MarkdownHeadingCollapsed": true,
    "tags": []
   },
   "source": [
    "### Matrix Constructors\n",
    "\n",
    "These are similar to their NumPy counterparts."
   ]
  },
  {
   "cell_type": "code",
   "execution_count": 103,
   "id": "689c026d-2506-4d71-9a2b-1a86eee52d15",
   "metadata": {},
   "outputs": [
    {
     "data": {
      "text/latex": [
       "$\\displaystyle \\left[\\begin{matrix}1 & 0 & 0 & 0\\\\0 & 1 & 0 & 0\\\\0 & 0 & 1 & 0\\\\0 & 0 & 0 & 1\\end{matrix}\\right]$"
      ],
      "text/plain": [
       "Matrix([\n",
       "[1, 0, 0, 0],\n",
       "[0, 1, 0, 0],\n",
       "[0, 0, 1, 0],\n",
       "[0, 0, 0, 1]])"
      ]
     },
     "execution_count": 103,
     "metadata": {},
     "output_type": "execute_result"
    }
   ],
   "source": [
    "sym.eye(4)"
   ]
  },
  {
   "cell_type": "code",
   "execution_count": 104,
   "id": "b207dcc0-f40e-4159-88ef-2d4ae973d839",
   "metadata": {},
   "outputs": [
    {
     "data": {
      "text/latex": [
       "$\\displaystyle \\left[\\begin{matrix}1 & 1 & 1 & 1 & 1 & 1\\\\1 & 1 & 1 & 1 & 1 & 1\\end{matrix}\\right]$"
      ],
      "text/plain": [
       "Matrix([\n",
       "[1, 1, 1, 1, 1, 1],\n",
       "[1, 1, 1, 1, 1, 1]])"
      ]
     },
     "execution_count": 104,
     "metadata": {},
     "output_type": "execute_result"
    }
   ],
   "source": [
    "sym.ones(2,6)"
   ]
  },
  {
   "cell_type": "code",
   "execution_count": 105,
   "id": "988ef2bf-27d5-4f78-a5f8-250f1e7d44ef",
   "metadata": {},
   "outputs": [
    {
     "data": {
      "text/latex": [
       "$\\displaystyle \\left[\\begin{matrix}7 & 0 & 0\\\\0 & 8 & 0\\\\0 & 0 & 9\\end{matrix}\\right]$"
      ],
      "text/plain": [
       "Matrix([\n",
       "[7, 0, 0],\n",
       "[0, 8, 0],\n",
       "[0, 0, 9]])"
      ]
     },
     "execution_count": 105,
     "metadata": {},
     "output_type": "execute_result"
    }
   ],
   "source": [
    "sym.diag(7, 8, 9)"
   ]
  },
  {
   "cell_type": "markdown",
   "id": "78a7725e-3846-49bf-a50d-cdf79757d1a6",
   "metadata": {},
   "source": [
    "***While NumPy is generally a better option for working with numerical matrices, SymPy matrices have a unique benefit that you can also put Symbols in them.***"
   ]
  },
  {
   "cell_type": "code",
   "execution_count": 106,
   "id": "02b7a022-b530-4787-99d3-ce7b72cd9191",
   "metadata": {},
   "outputs": [
    {
     "data": {
      "text/latex": [
       "$\\displaystyle \\left[\\begin{matrix}2 & 0 & 0\\\\0 & x^{2} & 0\\\\0 & 0 & x y\\end{matrix}\\right]$"
      ],
      "text/plain": [
       "Matrix([\n",
       "[2,    0,   0],\n",
       "[0, x**2,   0],\n",
       "[0,    0, x*y]])"
      ]
     },
     "execution_count": 106,
     "metadata": {},
     "output_type": "execute_result"
    }
   ],
   "source": [
    "sym.diag(2, x**2, x*y)"
   ]
  },
  {
   "cell_type": "markdown",
   "id": "0c3c5b0e-1a4a-470e-a13e-9e899f17d4fe",
   "metadata": {
    "tags": []
   },
   "source": [
    "### Basic Matrix Methods"
   ]
  },
  {
   "cell_type": "code",
   "execution_count": 107,
   "id": "23cffeec-ad77-47b5-be48-3a1f93db2d38",
   "metadata": {},
   "outputs": [
    {
     "data": {
      "text/latex": [
       "$\\displaystyle \\left[\\begin{matrix}2 & -4\\\\0 & 5\\end{matrix}\\right]$"
      ],
      "text/plain": [
       "Matrix([\n",
       "[2, -4],\n",
       "[0,  5]])"
      ]
     },
     "execution_count": 107,
     "metadata": {},
     "output_type": "execute_result"
    }
   ],
   "source": [
    "m"
   ]
  },
  {
   "cell_type": "markdown",
   "id": "f5608147-8c81-413d-b38b-0aa403920f8e",
   "metadata": {},
   "source": [
    "**Inverse**"
   ]
  },
  {
   "cell_type": "code",
   "execution_count": 108,
   "id": "a560a23d-3a4a-4029-a16c-101240bc12db",
   "metadata": {},
   "outputs": [
    {
     "data": {
      "text/latex": [
       "$\\displaystyle \\left[\\begin{matrix}\\frac{1}{2} & \\frac{2}{5}\\\\0 & \\frac{1}{5}\\end{matrix}\\right]$"
      ],
      "text/plain": [
       "Matrix([\n",
       "[1/2, 2/5],\n",
       "[  0, 1/5]])"
      ]
     },
     "execution_count": 108,
     "metadata": {},
     "output_type": "execute_result"
    }
   ],
   "source": [
    "m**-1"
   ]
  },
  {
   "cell_type": "markdown",
   "id": "8e079ae2-18c0-461e-b97b-45eae6ab8977",
   "metadata": {},
   "source": [
    "**Transpose**"
   ]
  },
  {
   "cell_type": "code",
   "execution_count": 109,
   "id": "ddfdcf03-783b-4526-8f5d-cc43e4da3c78",
   "metadata": {},
   "outputs": [
    {
     "data": {
      "text/latex": [
       "$\\displaystyle \\left[\\begin{matrix}2 & 0\\\\-4 & 5\\end{matrix}\\right]$"
      ],
      "text/plain": [
       "Matrix([\n",
       "[ 2, 0],\n",
       "[-4, 5]])"
      ]
     },
     "execution_count": 109,
     "metadata": {},
     "output_type": "execute_result"
    }
   ],
   "source": [
    "m.T"
   ]
  },
  {
   "cell_type": "markdown",
   "id": "7d9f1c4f-4d3c-47bf-9ecd-0f749574ffd1",
   "metadata": {},
   "source": [
    "**Determinant**"
   ]
  },
  {
   "cell_type": "code",
   "execution_count": 110,
   "id": "f855e020-512f-48d1-aea3-f43cb9308525",
   "metadata": {},
   "outputs": [
    {
     "data": {
      "text/latex": [
       "$\\displaystyle 10$"
      ],
      "text/plain": [
       "10"
      ]
     },
     "execution_count": 110,
     "metadata": {},
     "output_type": "execute_result"
    }
   ],
   "source": [
    "m.det()"
   ]
  },
  {
   "cell_type": "markdown",
   "id": "8378f03e-7edf-4cc9-9ad6-d52ebe5d612f",
   "metadata": {},
   "source": [
    "**Eigenvalues**"
   ]
  },
  {
   "cell_type": "code",
   "execution_count": 111,
   "id": "316fbf3e-2980-4e2a-871f-4de259e0fb80",
   "metadata": {},
   "outputs": [
    {
     "data": {
      "text/plain": [
       "{5: 1, 2: 1}"
      ]
     },
     "execution_count": 111,
     "metadata": {},
     "output_type": "execute_result"
    }
   ],
   "source": [
    "m.eigenvals()"
   ]
  },
  {
   "cell_type": "markdown",
   "id": "f39431a5-5fc0-42f4-968b-ae858c2474b5",
   "metadata": {},
   "source": [
    "**`eigenvects`** returns as a list of tuples of the form `(eigenvalue, algebraic_multiplicity, [eigenvectors])`"
   ]
  },
  {
   "cell_type": "code",
   "execution_count": 112,
   "id": "a9ba0502-a276-4c70-8082-5bf3058c14d1",
   "metadata": {},
   "outputs": [
    {
     "data": {
      "text/plain": [
       "[(2,\n",
       "  1,\n",
       "  [Matrix([\n",
       "   [1],\n",
       "   [0]])]),\n",
       " (5,\n",
       "  1,\n",
       "  [Matrix([\n",
       "   [-4/3],\n",
       "   [   1]])])]"
      ]
     },
     "execution_count": 112,
     "metadata": {},
     "output_type": "execute_result"
    }
   ],
   "source": [
    "m.eigenvects()"
   ]
  },
  {
   "cell_type": "code",
   "execution_count": null,
   "id": "ade742e5-7977-4d90-916b-e4d828371da1",
   "metadata": {},
   "outputs": [],
   "source": []
  }
 ],
 "metadata": {
  "citation-manager": {
   "items": {}
  },
  "kernelspec": {
   "display_name": "Python 3 (ipykernel)",
   "language": "python",
   "name": "python3"
  },
  "language_info": {
   "codemirror_mode": {
    "name": "ipython",
    "version": 3
   },
   "file_extension": ".py",
   "mimetype": "text/x-python",
   "name": "python",
   "nbconvert_exporter": "python",
   "pygments_lexer": "ipython3",
   "version": "3.8.8"
  }
 },
 "nbformat": 4,
 "nbformat_minor": 5
}
