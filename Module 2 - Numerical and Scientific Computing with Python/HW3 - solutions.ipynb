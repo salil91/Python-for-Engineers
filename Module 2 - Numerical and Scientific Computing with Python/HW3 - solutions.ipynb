{
 "cells": [
  {
   "cell_type": "markdown",
   "id": "64c992e8-ce79-4544-bf59-cea68420dc32",
   "metadata": {
    "pycharm": {
     "name": "#%% md\n"
    }
   },
   "source": [
    "# Solutions for Homework 3 - NumPy, SymPy and plotting\n",
    "**Due: Oct 11** \n",
    "\n",
    "***Total Points: 100***\n",
    "\n",
    "For full points, your code\n",
    "- must run without errors\n",
    "- must by *pythonic*\n",
    "- must be easily understandable, and well documented (either through inline comments or markdown).\n",
    "- ***All plots must have clearly and meaningfully labeled axes, unless you are simply plotting arbitrary numbers. Add legends where needed.***\n",
    "- ***Use separate markdown cells for any text answers.***\n",
    "- ***Show your work, i.e, print all relevant output.*** Remember that having a variable in the last line of a jupyter cell block automatically prints it's value. ***You can use multiple code blocks for a single question.***\n",
    "\n",
    "Remember to export your Jupyter notebook as a PDF file and upload both to Canvas.\n",
    "```\n",
    "File > Save and Export Notebook As... > PDF\n",
    "```\n",
    "\n",
    "Run every code block (and make sure the answer if fully visible) before submitting your notebook/PDF."
   ]
  },
  {
   "cell_type": "markdown",
   "id": "04e72583-fbcf-44a1-942d-dd95e5d9b9da",
   "metadata": {
    "pycharm": {
     "name": "#%% md\n"
    }
   },
   "source": [
    "## Question 0\n",
    "\n",
    "Import all the libraries you need (`numpy`, `sympy`, `matplotlib`) in this notebook here."
   ]
  },
  {
   "cell_type": "code",
   "execution_count": 1,
   "id": "0e9655bf-603a-4a7d-a6bc-97889f9f7eb0",
   "metadata": {
    "pycharm": {
     "name": "#%%\n"
    }
   },
   "outputs": [],
   "source": [
    "import matplotlib.pyplot as plt\n",
    "import numpy as np\n",
    "import sympy as sym"
   ]
  },
  {
   "cell_type": "markdown",
   "id": "2f2f150a-32df-48c2-826e-b71a7cf5be5c",
   "metadata": {
    "pycharm": {
     "name": "#%% md\n"
    },
    "tags": []
   },
   "source": [
    "## Question 1\n",
    "*20 points*"
   ]
  },
  {
   "cell_type": "markdown",
   "id": "202b2136-ac09-42d8-8534-89845689bdc4",
   "metadata": {
    "pycharm": {
     "name": "#%% md\n"
    },
    "tags": []
   },
   "source": [
    "### Question 1.1\n",
    "\n",
    "*5 points*\n",
    "\n",
    "Create the following 2D array using `numpy` functions, without typing it out explicitly. Pay attention to the data type.\n",
    "```\n",
    "[[ 11,  60, 110, 160, 210],\n",
    " [ 20,  71, 120, 170, 220],\n",
    " [ 30,  80, 131, 180, 230],\n",
    " [ 40,  90, 140, 191, 240],\n",
    " [ 50, 100, 150, 200, 251]]\n",
    "```"
   ]
  },
  {
   "cell_type": "code",
   "execution_count": 2,
   "id": "c7cb56a2-186f-41a5-b609-6b8e7e4f2fb6",
   "metadata": {
    "pycharm": {
     "name": "#%%\n"
    }
   },
   "outputs": [
    {
     "data": {
      "text/plain": [
       "array([[ 10,  60, 110, 160, 210],\n",
       "       [ 20,  70, 120, 170, 220],\n",
       "       [ 30,  80, 130, 180, 230],\n",
       "       [ 40,  90, 140, 190, 240],\n",
       "       [ 50, 100, 150, 200, 250]])"
      ]
     },
     "execution_count": 2,
     "metadata": {},
     "output_type": "execute_result"
    }
   ],
   "source": [
    "a = np.linspace(10, 250, 25, dtype=int)\n",
    "a = a.reshape([5, 5]).T\n",
    "a"
   ]
  },
  {
   "cell_type": "code",
   "execution_count": 3,
   "id": "ff46be50-80e5-4dce-bae7-953e1bb8b4cb",
   "metadata": {
    "pycharm": {
     "name": "#%%\n"
    }
   },
   "outputs": [
    {
     "data": {
      "text/plain": [
       "array([[1, 0, 0, 0, 0],\n",
       "       [0, 1, 0, 0, 0],\n",
       "       [0, 0, 1, 0, 0],\n",
       "       [0, 0, 0, 1, 0],\n",
       "       [0, 0, 0, 0, 1]])"
      ]
     },
     "execution_count": 3,
     "metadata": {},
     "output_type": "execute_result"
    }
   ],
   "source": [
    "b = np.eye(5, dtype=int)\n",
    "b"
   ]
  },
  {
   "cell_type": "code",
   "execution_count": 4,
   "id": "4936da15-38f6-4929-8e23-79f15e42be15",
   "metadata": {
    "pycharm": {
     "name": "#%%\n"
    }
   },
   "outputs": [
    {
     "data": {
      "text/plain": [
       "array([[ 11,  60, 110, 160, 210],\n",
       "       [ 20,  71, 120, 170, 220],\n",
       "       [ 30,  80, 131, 180, 230],\n",
       "       [ 40,  90, 140, 191, 240],\n",
       "       [ 50, 100, 150, 200, 251]])"
      ]
     },
     "execution_count": 4,
     "metadata": {},
     "output_type": "execute_result"
    }
   ],
   "source": [
    "c = a + b\n",
    "c"
   ]
  },
  {
   "cell_type": "markdown",
   "id": "160e532f-c969-48d9-b5aa-1f9942c22ace",
   "metadata": {
    "pycharm": {
     "name": "#%% md\n"
    },
    "tags": []
   },
   "source": [
    "### Question 1.2\n",
    "\n",
    "*10 points*\n",
    "\n",
    "Divide each **column** of the 2D array shown above, elementwise, with the following array: `[10, 20, 30, 40, 50]`. Do not create this array explicitly either. Use a `numpy` function. Do NOT use a loop.\n",
    "\n",
    "Hint: Simply dividing the two arrays in their given forms will perform an elementwise division by **row**. This is NOT what we want. Instead, we want elementwise division by **column**. Every element in the first row should be divided by 10, every element in the second row by 20, and so on."
   ]
  },
  {
   "cell_type": "code",
   "execution_count": 5,
   "id": "1f5078ca-5536-4495-add2-8e68e85cc7d3",
   "metadata": {
    "pycharm": {
     "name": "#%%\n"
    }
   },
   "outputs": [
    {
     "data": {
      "text/plain": [
       "array([10, 20, 30, 40, 50])"
      ]
     },
     "execution_count": 5,
     "metadata": {},
     "output_type": "execute_result"
    }
   ],
   "source": [
    "d = np.arange(10, 60, 10)\n",
    "d"
   ]
  },
  {
   "cell_type": "code",
   "execution_count": 6,
   "id": "0c9b6620-8eb8-41ed-ac86-8b3019aef587",
   "metadata": {
    "pycharm": {
     "name": "#%%\n"
    }
   },
   "outputs": [
    {
     "data": {
      "text/plain": [
       "array([[10],\n",
       "       [20],\n",
       "       [30],\n",
       "       [40],\n",
       "       [50]])"
      ]
     },
     "execution_count": 6,
     "metadata": {},
     "output_type": "execute_result"
    }
   ],
   "source": [
    "d = d[:, np.newaxis]\n",
    "d"
   ]
  },
  {
   "cell_type": "code",
   "execution_count": 7,
   "id": "183ea6cf-e9e2-4fa8-8d32-93db25516083",
   "metadata": {
    "pycharm": {
     "name": "#%%\n"
    }
   },
   "outputs": [
    {
     "data": {
      "text/plain": [
       "array([[ 1.1       ,  6.        , 11.        , 16.        , 21.        ],\n",
       "       [ 1.        ,  3.55      ,  6.        ,  8.5       , 11.        ],\n",
       "       [ 1.        ,  2.66666667,  4.36666667,  6.        ,  7.66666667],\n",
       "       [ 1.        ,  2.25      ,  3.5       ,  4.775     ,  6.        ],\n",
       "       [ 1.        ,  2.        ,  3.        ,  4.        ,  5.02      ]])"
      ]
     },
     "execution_count": 7,
     "metadata": {},
     "output_type": "execute_result"
    }
   ],
   "source": [
    "e = c / d\n",
    "e"
   ]
  },
  {
   "cell_type": "markdown",
   "id": "9a9979bb-8e60-43d2-abe5-448bcdeed6ac",
   "metadata": {
    "pycharm": {
     "name": "#%% md\n"
    },
    "tags": []
   },
   "source": [
    "### Question 1.3\n",
    "\n",
    "*5 points*\n",
    "\n",
    "Plot the resultant array from Q1.2.\n",
    "\n",
    "What does that tell you about how `matplotlib` deals with a 2D array as input?"
   ]
  },
  {
   "cell_type": "code",
   "execution_count": 8,
   "id": "521fcf71-a1a7-4310-afc3-ac741f759e5f",
   "metadata": {
    "pycharm": {
     "name": "#%%\n"
    }
   },
   "outputs": [
    {
     "data": {
      "text/plain": [
       "[<matplotlib.lines.Line2D at 0x1948b613700>,\n",
       " <matplotlib.lines.Line2D at 0x1948b6136a0>,\n",
       " <matplotlib.lines.Line2D at 0x1948b6137c0>,\n",
       " <matplotlib.lines.Line2D at 0x1948b6138e0>,\n",
       " <matplotlib.lines.Line2D at 0x1948b613a00>]"
      ]
     },
     "execution_count": 8,
     "metadata": {},
     "output_type": "execute_result"
    },
    {
     "data": {
      "image/png": "[encoded data removed]",
      "text/plain": [
       "<Figure size 432x288 with 1 Axes>"
      ]
     },
     "metadata": {
      "needs_background": "light"
     },
     "output_type": "display_data"
    }
   ],
   "source": [
    "plt.plot(e)"
   ]
  },
  {
   "cell_type": "markdown",
   "id": "f9fec3a4-59b8-4423-8a57-af42d8ef72c4",
   "metadata": {
    "pycharm": {
     "name": "#%% md\n"
    }
   },
   "source": [
    "**Answer:** With a 2D array as input, `matplotlib` create multiple lines, spliting the data by column. The `y` values correspond to each \"column vector\". The `x` values is basically the same as `range(array.shape[0])`."
   ]
  },
  {
   "cell_type": "markdown",
   "id": "1fa2cd03-07db-452e-a2a7-eeece024bcfa",
   "metadata": {
    "pycharm": {
     "name": "#%% md\n"
    },
    "tags": []
   },
   "source": [
    "## Question 2\n",
    "*10 points*\n",
    "\n",
    "Assuming a body has the following displacement function, obtain (and print) its velocity and acceleration functions symbolically. Also plot all three functions from $t=0$ to $t=1$.\n",
    "\n",
    "$$x = 2t^3+ \\frac{e^t sinh(t)}{cos(t)}$$\n",
    "\n",
    "You must calculate the velocity field using python, though you can always verify your answer by hand."
   ]
  },
  {
   "cell_type": "code",
   "execution_count": 9,
   "id": "be542eaa-1b39-4040-95f9-fee3b6ebf22b",
   "metadata": {
    "pycharm": {
     "name": "#%%\n"
    }
   },
   "outputs": [
    {
     "data": {
      "text/latex": [
       "$\\displaystyle 2 t^{3} + \\frac{e^{t} \\sinh{\\left(t \\right)}}{\\cos{\\left(t \\right)}}$"
      ],
      "text/plain": [
       "2*t**3 + exp(t)*sinh(t)/cos(t)"
      ]
     },
     "execution_count": 9,
     "metadata": {},
     "output_type": "execute_result"
    }
   ],
   "source": [
    "# Declare symbol\n",
    "t = sym.symbols('t')\n",
    "\n",
    "# Create displacement expression\n",
    "x = 2 * t ** 3 + sym.exp(t) * sym.sinh(t) / sym.cos(t)\n",
    "x"
   ]
  },
  {
   "cell_type": "code",
   "execution_count": 10,
   "id": "b9e79e48",
   "metadata": {
    "collapsed": false,
    "jupyter": {
     "outputs_hidden": false
    },
    "pycharm": {
     "name": "#%%\n"
    }
   },
   "outputs": [
    {
     "data": {
      "text/latex": [
       "$\\displaystyle 6 t^{2} + \\frac{e^{t} \\sin{\\left(t \\right)} \\sinh{\\left(t \\right)}}{\\cos^{2}{\\left(t \\right)}} + \\frac{e^{t} \\sinh{\\left(t \\right)}}{\\cos{\\left(t \\right)}} + \\frac{e^{t} \\cosh{\\left(t \\right)}}{\\cos{\\left(t \\right)}}$"
      ],
      "text/plain": [
       "6*t**2 + exp(t)*sin(t)*sinh(t)/cos(t)**2 + exp(t)*sinh(t)/cos(t) + exp(t)*cosh(t)/cos(t)"
      ]
     },
     "execution_count": 10,
     "metadata": {},
     "output_type": "execute_result"
    }
   ],
   "source": [
    "# Obtain velovity\n",
    "u = x.diff(t)\n",
    "u"
   ]
  },
  {
   "cell_type": "code",
   "execution_count": 11,
   "id": "a4ce9812",
   "metadata": {
    "collapsed": false,
    "jupyter": {
     "outputs_hidden": false
    },
    "pycharm": {
     "name": "#%%\n"
    }
   },
   "outputs": [
    {
     "data": {
      "text/latex": [
       "$\\displaystyle 12 t + \\frac{2 e^{t} \\sin^{2}{\\left(t \\right)} \\sinh{\\left(t \\right)}}{\\cos^{3}{\\left(t \\right)}} + \\frac{2 e^{t} \\sin{\\left(t \\right)} \\sinh{\\left(t \\right)}}{\\cos^{2}{\\left(t \\right)}} + \\frac{2 e^{t} \\sin{\\left(t \\right)} \\cosh{\\left(t \\right)}}{\\cos^{2}{\\left(t \\right)}} + \\frac{3 e^{t} \\sinh{\\left(t \\right)}}{\\cos{\\left(t \\right)}} + \\frac{2 e^{t} \\cosh{\\left(t \\right)}}{\\cos{\\left(t \\right)}}$"
      ],
      "text/plain": [
       "12*t + 2*exp(t)*sin(t)**2*sinh(t)/cos(t)**3 + 2*exp(t)*sin(t)*sinh(t)/cos(t)**2 + 2*exp(t)*sin(t)*cosh(t)/cos(t)**2 + 3*exp(t)*sinh(t)/cos(t) + 2*exp(t)*cosh(t)/cos(t)"
      ]
     },
     "execution_count": 11,
     "metadata": {},
     "output_type": "execute_result"
    }
   ],
   "source": [
    "# Obtain acceleration\n",
    "a = u.diff(t)\n",
    "a"
   ]
  },
  {
   "cell_type": "code",
   "execution_count": 12,
   "id": "9bcaea24",
   "metadata": {
    "collapsed": false,
    "jupyter": {
     "outputs_hidden": false
    },
    "pycharm": {
     "name": "#%%\n"
    }
   },
   "outputs": [],
   "source": [
    "# Convert all expressions to numpy array\n",
    "points = np.linspace(0, 1, 20)\n",
    "f = sym.lambdify(t, x, \"numpy\")\n",
    "g = sym.lambdify(t, u, \"numpy\")\n",
    "h = sym.lambdify(t, a, \"numpy\")"
   ]
  },
  {
   "cell_type": "code",
   "execution_count": 13,
   "id": "f1c01ad1",
   "metadata": {
    "collapsed": false,
    "jupyter": {
     "outputs_hidden": false
    },
    "pycharm": {
     "name": "#%%\n"
    }
   },
   "outputs": [
    {
     "data": {
      "image/png": "[encoded data removed]",
      "text/plain": [
       "<Figure size 432x288 with 1 Axes>"
      ]
     },
     "metadata": {
      "needs_background": "light"
     },
     "output_type": "display_data"
    }
   ],
   "source": [
    "# Plot displacement\n",
    "plt.plot(points, f(points), label=r\"$x$\")\n",
    "# Plot velocity\n",
    "plt.plot(points, g(points), label=r\"$u$\")\n",
    "# Plot acceleration\n",
    "plt.plot(points, h(points), label=r\"$a$\")\n",
    "\n",
    "plt.xlabel(r\"$t$\")\n",
    "plt.ylabel(r\"$x$, $u$, $a$\")\n",
    "plt.xlim(0, 1);\n",
    "plt.legend();"
   ]
  },
  {
   "cell_type": "markdown",
   "id": "5fbe3bca",
   "metadata": {
    "pycharm": {
     "name": "#%% md\n"
    }
   },
   "source": [
    "## Question 3\n",
    "*30 points*"
   ]
  },
  {
   "cell_type": "markdown",
   "id": "4e73cb02",
   "metadata": {
    "pycharm": {
     "name": "#%% md\n"
    }
   },
   "source": [
    "### Question 3.1\n",
    "*10 points*\n",
    "\n",
    "For a simple projectile motion problem, graphically show the following as a function of launch angle (in degrees):\n",
    "- Time of flight\n",
    "- Maximum height of projectile\n",
    "- Range of projectile\n",
    "\n",
    "Comment on the answers.\n",
    "\n",
    "Ignore aerodynamic drag. Use SI units, and assume any initial velocity."
   ]
  },
  {
   "cell_type": "code",
   "execution_count": 14,
   "id": "e4b05fd8",
   "metadata": {
    "collapsed": false,
    "jupyter": {
     "outputs_hidden": false
    },
    "pycharm": {
     "name": "#%%\n"
    }
   },
   "outputs": [],
   "source": [
    "# We assume an initial velocity of unity (v0 = 1) for simplicity.\n",
    "\n",
    "# Gravitational acceleration \n",
    "g = 9.81  # m/s\n",
    "\n",
    "# Create an array for launch angles\n",
    "angles = np.arange(0, 181)"
   ]
  },
  {
   "cell_type": "code",
   "execution_count": 15,
   "id": "e9c4ce5e",
   "metadata": {
    "collapsed": false,
    "jupyter": {
     "outputs_hidden": false
    },
    "pycharm": {
     "name": "#%%\n"
    }
   },
   "outputs": [
    {
     "data": {
      "image/png": "[encoded data removed]",
      "text/plain": [
       "<Figure size 432x288 with 1 Axes>"
      ]
     },
     "metadata": {
      "needs_background": "light"
     },
     "output_type": "display_data"
    }
   ],
   "source": [
    "# Time of flight\n",
    "t = 2 * np.sin(np.radians(angles)) / g  # convert to radians\n",
    "\n",
    "# Plot\n",
    "plt.plot(angles, t)\n",
    "plt.xlabel(r\"Launch angle, $\\theta$ (degrees)\")\n",
    "plt.ylabel(r\"Time of flight, $t$ (s)\")\n",
    "plt.xlim(0, 180)\n",
    "plt.grid(True)"
   ]
  },
  {
   "cell_type": "code",
   "execution_count": 16,
   "id": "e0a41299",
   "metadata": {
    "collapsed": false,
    "jupyter": {
     "outputs_hidden": false
    },
    "pycharm": {
     "name": "#%%\n"
    }
   },
   "outputs": [
    {
     "data": {
      "image/png": "[encoded data removed]",
      "text/plain": [
       "<Figure size 432x288 with 1 Axes>"
      ]
     },
     "metadata": {
      "needs_background": "light"
     },
     "output_type": "display_data"
    }
   ],
   "source": [
    "# Maximum height of projectile\n",
    "h = np.sin(np.radians(angles)) ** 2 / (2 * g)  # convert to radians\n",
    "\n",
    "# Plot\n",
    "plt.plot(angles, h)\n",
    "plt.xlabel(r\"Launch angle, $\\theta$ (degrees)\")\n",
    "plt.ylabel(r\"Max height of the projectile, $h_{max}$ (m)\")\n",
    "plt.xlim(0, 180)\n",
    "plt.grid(True)"
   ]
  },
  {
   "cell_type": "code",
   "execution_count": 17,
   "id": "67909d80",
   "metadata": {
    "collapsed": false,
    "jupyter": {
     "outputs_hidden": false
    },
    "pycharm": {
     "name": "#%%\n"
    }
   },
   "outputs": [
    {
     "data": {
      "image/png": "[encoded data removed]",
      "text/plain": [
       "<Figure size 432x288 with 1 Axes>"
      ]
     },
     "metadata": {
      "needs_background": "light"
     },
     "output_type": "display_data"
    }
   ],
   "source": [
    "# Range of projectile\n",
    "d = np.sin(2 * np.radians(angles)) / g  # convert to radians\n",
    "\n",
    "# Plot\n",
    "plt.plot(angles, d)\n",
    "plt.xlabel(r\"Launch angle, $\\theta$ (degrees)\")\n",
    "plt.ylabel(r\"Range of the projectile, $d_{max}$ (m)\")\n",
    "plt.xlim(0, 180)\n",
    "plt.grid(True)"
   ]
  },
  {
   "cell_type": "markdown",
   "id": "9e647ee2",
   "metadata": {
    "pycharm": {
     "name": "#%% md\n"
    }
   },
   "source": [
    "**Answer:** The maximum height and time of flight is obtained when $\\theta = 90^\\circ$. At this launch angle, the range is minimum ($0$). The maximum range is obtained when $\\theta = 45^\\circ$ in either direction."
   ]
  },
  {
   "cell_type": "markdown",
   "id": "8fd51ffa",
   "metadata": {
    "pycharm": {
     "name": "#%% md\n"
    }
   },
   "source": [
    "### Question 3.2\n",
    "*15 points*\n",
    "\n",
    "Solve the problem above symbolically, to obtain the launch angle (in radians) to maximize:\n",
    "- Time of flight\n",
    "- Maximum height of projectile\n",
    "- Range of projectile\n",
    "\n",
    "Ignore aerodynamic drag. Use the interval $[0 \\text{ } \\pi]$\n",
    "\n",
    "Hints:\n",
    "- Check the documentation for using `solveset` with an `Interval`.\n",
    "- Make sure you check the second derivative (at each point in the solution) to verify if you are at a maxima or minima."
   ]
  },
  {
   "cell_type": "code",
   "execution_count": 18,
   "id": "bdb8877f",
   "metadata": {
    "collapsed": false,
    "jupyter": {
     "outputs_hidden": false
    },
    "pycharm": {
     "name": "#%%\n"
    }
   },
   "outputs": [],
   "source": [
    "# Declare symbols - defining them to be real and positive is not needed, but it will help us later\n",
    "theta, v, g = sym.symbols('theta v_0 g', positive=True, real=True)"
   ]
  },
  {
   "cell_type": "markdown",
   "id": "2486de80",
   "metadata": {
    "pycharm": {
     "name": "#%% md\n"
    }
   },
   "source": [
    "**Time of flight**"
   ]
  },
  {
   "cell_type": "code",
   "execution_count": 19,
   "id": "1ed7291b",
   "metadata": {
    "collapsed": false,
    "jupyter": {
     "outputs_hidden": false
    },
    "pycharm": {
     "name": "#%%\n"
    }
   },
   "outputs": [
    {
     "data": {
      "text/latex": [
       "$\\displaystyle \\frac{2 v_{0} \\sin{\\left(\\theta \\right)}}{g}$"
      ],
      "text/plain": [
       "2*v_0*sin(theta)/g"
      ]
     },
     "execution_count": 19,
     "metadata": {},
     "output_type": "execute_result"
    }
   ],
   "source": [
    "t = 2 * v * sym.sin(theta) / g\n",
    "t"
   ]
  },
  {
   "cell_type": "code",
   "execution_count": 20,
   "id": "7a6a231c",
   "metadata": {
    "collapsed": false,
    "jupyter": {
     "outputs_hidden": false
    },
    "pycharm": {
     "name": "#%%\n"
    }
   },
   "outputs": [
    {
     "data": {
      "text/latex": [
       "$\\displaystyle \\left\\{\\frac{\\pi}{2}\\right\\}$"
      ],
      "text/plain": [
       "{pi/2}"
      ]
     },
     "execution_count": 20,
     "metadata": {},
     "output_type": "execute_result"
    }
   ],
   "source": [
    "# Equate first derivative to zero to check find the locations for extrema\n",
    "t_ex = sym.solveset(t.diff(theta), theta, sym.Interval(0, sym.pi))\n",
    "t_ex"
   ]
  },
  {
   "cell_type": "code",
   "execution_count": 21,
   "id": "4f709453",
   "metadata": {
    "collapsed": false,
    "jupyter": {
     "outputs_hidden": false
    },
    "pycharm": {
     "name": "#%%\n"
    }
   },
   "outputs": [
    {
     "data": {
      "text/latex": [
       "$\\displaystyle - \\frac{2 v_{0} \\sin{\\left(\\theta \\right)}}{g}$"
      ],
      "text/plain": [
       "-2*v_0*sin(theta)/g"
      ]
     },
     "execution_count": 21,
     "metadata": {},
     "output_type": "execute_result"
    }
   ],
   "source": [
    "# Check second derivative to see if the point above is at a maximum or a minimum\n",
    "dt = t.diff(theta, 2)\n",
    "dt"
   ]
  },
  {
   "cell_type": "code",
   "execution_count": 22,
   "id": "e9b85e22",
   "metadata": {
    "collapsed": false,
    "jupyter": {
     "outputs_hidden": false
    },
    "pycharm": {
     "name": "#%%\n"
    }
   },
   "outputs": [
    {
     "data": {
      "text/latex": [
       "$\\displaystyle - \\frac{2 v_{0}}{g}$"
      ],
      "text/plain": [
       "-2*v_0/g"
      ]
     },
     "execution_count": 22,
     "metadata": {},
     "output_type": "execute_result"
    }
   ],
   "source": [
    "# Negative second derivative indicates maximum\n",
    "dt.subs(theta, sym.pi / 2)"
   ]
  },
  {
   "cell_type": "markdown",
   "id": "0fa704b0",
   "metadata": {
    "pycharm": {
     "name": "#%% md\n"
    }
   },
   "source": [
    "**Answer:** The time of flight is maximum at $\\theta = \\pi/2$."
   ]
  },
  {
   "cell_type": "markdown",
   "id": "0127d0d8",
   "metadata": {
    "pycharm": {
     "name": "#%% md\n"
    }
   },
   "source": [
    "**Maximum height of projectile**"
   ]
  },
  {
   "cell_type": "code",
   "execution_count": 23,
   "id": "a974b62f",
   "metadata": {
    "collapsed": false,
    "jupyter": {
     "outputs_hidden": false
    },
    "pycharm": {
     "name": "#%%\n"
    }
   },
   "outputs": [
    {
     "data": {
      "text/latex": [
       "$\\displaystyle \\frac{v_{0}^{2} \\sin^{2}{\\left(\\theta \\right)}}{2 g}$"
      ],
      "text/plain": [
       "v_0**2*sin(theta)**2/(2*g)"
      ]
     },
     "execution_count": 23,
     "metadata": {},
     "output_type": "execute_result"
    }
   ],
   "source": [
    "h = v ** 2 * sym.sin(theta) ** 2 / (2 * g)\n",
    "h"
   ]
  },
  {
   "cell_type": "code",
   "execution_count": 24,
   "id": "35b6f595",
   "metadata": {
    "collapsed": false,
    "jupyter": {
     "outputs_hidden": false
    },
    "pycharm": {
     "name": "#%%\n"
    }
   },
   "outputs": [
    {
     "data": {
      "text/latex": [
       "$\\displaystyle \\left\\{0, \\frac{\\pi}{2}, \\pi\\right\\}$"
      ],
      "text/plain": [
       "{0, pi/2, pi}"
      ]
     },
     "execution_count": 24,
     "metadata": {},
     "output_type": "execute_result"
    }
   ],
   "source": [
    "# Equate first derivative to zero to check find the locations for extrema\n",
    "h_ex = sym.solveset(h.diff(theta), theta, sym.Interval(0, sym.pi))\n",
    "h_ex"
   ]
  },
  {
   "cell_type": "code",
   "execution_count": 25,
   "id": "ae20fa6f",
   "metadata": {
    "collapsed": false,
    "jupyter": {
     "outputs_hidden": false
    },
    "pycharm": {
     "name": "#%%\n"
    }
   },
   "outputs": [
    {
     "data": {
      "text/latex": [
       "$\\displaystyle - \\frac{v_{0}^{2} \\left(\\sin^{2}{\\left(\\theta \\right)} - \\cos^{2}{\\left(\\theta \\right)}\\right)}{g}$"
      ],
      "text/plain": [
       "-v_0**2*(sin(theta)**2 - cos(theta)**2)/g"
      ]
     },
     "execution_count": 25,
     "metadata": {},
     "output_type": "execute_result"
    }
   ],
   "source": [
    "# Check second derivative to see if the points above are at a maxima or a minima\n",
    "dh = h.diff(theta, 2)\n",
    "dh"
   ]
  },
  {
   "cell_type": "code",
   "execution_count": 26,
   "id": "32272c91",
   "metadata": {
    "collapsed": false,
    "jupyter": {
     "outputs_hidden": false
    },
    "pycharm": {
     "name": "#%%\n"
    }
   },
   "outputs": [
    {
     "data": {
      "text/latex": [
       "$\\displaystyle \\frac{v_{0}^{2}}{g}$"
      ],
      "text/plain": [
       "v_0**2/g"
      ]
     },
     "execution_count": 26,
     "metadata": {},
     "output_type": "execute_result"
    }
   ],
   "source": [
    "# Positve second derivative indicates minimum\n",
    "dh.subs(theta, 0)"
   ]
  },
  {
   "cell_type": "code",
   "execution_count": 27,
   "id": "459b9e0f",
   "metadata": {
    "collapsed": false,
    "jupyter": {
     "outputs_hidden": false
    },
    "pycharm": {
     "name": "#%%\n"
    }
   },
   "outputs": [
    {
     "data": {
      "text/latex": [
       "$\\displaystyle - \\frac{v_{0}^{2}}{g}$"
      ],
      "text/plain": [
       "-v_0**2/g"
      ]
     },
     "execution_count": 27,
     "metadata": {},
     "output_type": "execute_result"
    }
   ],
   "source": [
    "# Negative second derivative indicates maximum\n",
    "dh.subs(theta, sym.pi / 2)"
   ]
  },
  {
   "cell_type": "code",
   "execution_count": 28,
   "id": "07855528",
   "metadata": {
    "collapsed": false,
    "jupyter": {
     "outputs_hidden": false
    },
    "pycharm": {
     "name": "#%%\n"
    }
   },
   "outputs": [
    {
     "data": {
      "text/latex": [
       "$\\displaystyle \\frac{v_{0}^{2}}{g}$"
      ],
      "text/plain": [
       "v_0**2/g"
      ]
     },
     "execution_count": 28,
     "metadata": {},
     "output_type": "execute_result"
    }
   ],
   "source": [
    "# Postive second derivative indicates minimum\n",
    "dh.subs(theta, sym.pi)"
   ]
  },
  {
   "cell_type": "markdown",
   "id": "2b6c0771",
   "metadata": {
    "pycharm": {
     "name": "#%% md\n"
    }
   },
   "source": [
    "**Answer:** The height of flight is maximum at $\\theta = \\pi/2$.\n",
    "\n",
    "Realistically, there is no need to check for $\\theta=0$ and $\\theta=\\pi$, since we can see from the expression for height that it is $0$ at these angles. (It's also obvious)"
   ]
  },
  {
   "cell_type": "markdown",
   "id": "c9fa16d9",
   "metadata": {
    "pycharm": {
     "name": "#%% md\n"
    }
   },
   "source": [
    "**Range of projectile**"
   ]
  },
  {
   "cell_type": "code",
   "execution_count": 29,
   "id": "ab6975c5",
   "metadata": {
    "collapsed": false,
    "jupyter": {
     "outputs_hidden": false
    },
    "pycharm": {
     "name": "#%%\n"
    }
   },
   "outputs": [
    {
     "data": {
      "text/latex": [
       "$\\displaystyle \\frac{v_{0}^{2} \\sin{\\left(2 \\theta \\right)}}{g}$"
      ],
      "text/plain": [
       "v_0**2*sin(2*theta)/g"
      ]
     },
     "execution_count": 29,
     "metadata": {},
     "output_type": "execute_result"
    }
   ],
   "source": [
    "d = v ** 2 * sym.sin(2 * theta) / g\n",
    "d"
   ]
  },
  {
   "cell_type": "code",
   "execution_count": 30,
   "id": "758f72aa",
   "metadata": {
    "collapsed": false,
    "jupyter": {
     "outputs_hidden": false
    },
    "pycharm": {
     "name": "#%%\n"
    }
   },
   "outputs": [
    {
     "data": {
      "text/latex": [
       "$\\displaystyle \\left\\{\\frac{\\pi}{4}, \\frac{3 \\pi}{4}\\right\\}$"
      ],
      "text/plain": [
       "{pi/4, 3*pi/4}"
      ]
     },
     "execution_count": 30,
     "metadata": {},
     "output_type": "execute_result"
    }
   ],
   "source": [
    "# Equate first derivative to zero to check find the locations for extrema\n",
    "d_ex = sym.solveset(d.diff(theta), theta, sym.Interval(0, sym.pi))\n",
    "d_ex"
   ]
  },
  {
   "cell_type": "code",
   "execution_count": 31,
   "id": "c5a61462",
   "metadata": {
    "collapsed": false,
    "jupyter": {
     "outputs_hidden": false
    },
    "pycharm": {
     "name": "#%%\n"
    }
   },
   "outputs": [
    {
     "data": {
      "text/latex": [
       "$\\displaystyle - \\frac{4 v_{0}^{2} \\sin{\\left(2 \\theta \\right)}}{g}$"
      ],
      "text/plain": [
       "-4*v_0**2*sin(2*theta)/g"
      ]
     },
     "execution_count": 31,
     "metadata": {},
     "output_type": "execute_result"
    }
   ],
   "source": [
    "# Check second derivative to see if the points above are at a maxima or a minima\n",
    "dd = d.diff(theta, 2)\n",
    "dd"
   ]
  },
  {
   "cell_type": "code",
   "execution_count": 32,
   "id": "82b307e0",
   "metadata": {
    "collapsed": false,
    "jupyter": {
     "outputs_hidden": false
    },
    "pycharm": {
     "name": "#%%\n"
    }
   },
   "outputs": [
    {
     "data": {
      "text/latex": [
       "$\\displaystyle - \\frac{4 v_{0}^{2}}{g}$"
      ],
      "text/plain": [
       "-4*v_0**2/g"
      ]
     },
     "execution_count": 32,
     "metadata": {},
     "output_type": "execute_result"
    }
   ],
   "source": [
    "# Negative second derivative indicates maximum\n",
    "dd.subs(theta, sym.pi / 4)"
   ]
  },
  {
   "cell_type": "code",
   "execution_count": 33,
   "id": "36a9c211",
   "metadata": {
    "collapsed": false,
    "jupyter": {
     "outputs_hidden": false
    },
    "pycharm": {
     "name": "#%%\n"
    }
   },
   "outputs": [
    {
     "data": {
      "text/latex": [
       "$\\displaystyle \\frac{4 v_{0}^{2}}{g}$"
      ],
      "text/plain": [
       "4*v_0**2/g"
      ]
     },
     "execution_count": 33,
     "metadata": {},
     "output_type": "execute_result"
    }
   ],
   "source": [
    "# Positve second derivative indicates minimum\n",
    "dd.subs(theta, 3 * sym.pi / 4)"
   ]
  },
  {
   "cell_type": "markdown",
   "id": "382cb8fe",
   "metadata": {
    "pycharm": {
     "name": "#%% md\n"
    }
   },
   "source": [
    "**Answer:** The range of the projectile is maximum at $\\pi/4$."
   ]
  },
  {
   "cell_type": "markdown",
   "id": "02f30e6e",
   "metadata": {
    "pycharm": {
     "name": "#%% md\n"
    }
   },
   "source": [
    "**Alternative (quicker) option:**\n",
    "\n",
    "(Only shown for range here)\n",
    "\n",
    "Test the second derivative by loopsing over the set returned by `solveset`."
   ]
  },
  {
   "cell_type": "code",
   "execution_count": 34,
   "id": "fa790709",
   "metadata": {
    "collapsed": false,
    "jupyter": {
     "outputs_hidden": false
    },
    "pycharm": {
     "name": "#%%\n"
    }
   },
   "outputs": [
    {
     "data": {
      "text/plain": [
       "[pi/4]"
      ]
     },
     "execution_count": 34,
     "metadata": {},
     "output_type": "execute_result"
    }
   ],
   "source": [
    "dd_ex = [dd.subs(theta, ex_point) for ex_point in d_ex]  # evaluate 2nd derivate at all points in solution\n",
    "\n",
    "maxima, minima = [], []\n",
    "for theta_ex, dd_expr in zip(d_ex, dd_ex):\n",
    "    if dd_expr < 0:  # maxima\n",
    "        maxima.append(theta_ex)\n",
    "    elif dd_expr > 0:  # minima\n",
    "        minima.append(theta_ex)\n",
    "\n",
    "maxima"
   ]
  },
  {
   "cell_type": "markdown",
   "id": "56ade8bc",
   "metadata": {
    "pycharm": {
     "name": "#%% md\n"
    }
   },
   "source": [
    "### Question 3.3\n",
    "*5 points*\n",
    "\n",
    "For a launch angle, $\\theta = 65^\\circ$ and a launch velocity, $v_0 = 25 \\text{ m/s}$, plot the following:\n",
    "- Postion of the projectile in $x-y$ space during its flight.\n",
    "- $x$ and $y$ velocities as a function of time."
   ]
  },
  {
   "cell_type": "code",
   "execution_count": 35,
   "id": "711b6eac",
   "metadata": {
    "collapsed": false,
    "jupyter": {
     "outputs_hidden": false
    },
    "pycharm": {
     "name": "#%%\n"
    }
   },
   "outputs": [],
   "source": [
    "# Launch parameters\n",
    "theta = 65 * np.pi / 180  # radians\n",
    "v_0 = 25  # m/s\n",
    "g = 9.81  # m/s^2\n",
    "\n",
    "# Time of flight\n",
    "t_max = 2 * v_0 * np.sin(theta) / g\n",
    "t_max\n",
    "\n",
    "# Create an array for time\n",
    "t = np.linspace(0, t_max, 25)"
   ]
  },
  {
   "cell_type": "code",
   "execution_count": 36,
   "id": "703fdfc0",
   "metadata": {
    "collapsed": false,
    "jupyter": {
     "outputs_hidden": false
    },
    "pycharm": {
     "name": "#%%\n"
    }
   },
   "outputs": [
    {
     "data": {
      "image/png": "[encoded data removed]",
      "text/plain": [
       "<Figure size 432x288 with 1 Axes>"
      ]
     },
     "metadata": {
      "needs_background": "light"
     },
     "output_type": "display_data"
    }
   ],
   "source": [
    "# x and y positions\n",
    "x = v_0 * t * np.cos(theta)\n",
    "y = v_0 * t * np.sin(theta) - 0.5 * g * t ** 2\n",
    "\n",
    "# Plot\n",
    "plt.plot(x, y)\n",
    "plt.xlabel(\"$x$-postion\")\n",
    "plt.ylabel(\"$y$-postion\")\n",
    "plt.grid(True)"
   ]
  },
  {
   "cell_type": "code",
   "execution_count": 37,
   "id": "0be0ee55",
   "metadata": {
    "collapsed": false,
    "jupyter": {
     "outputs_hidden": false
    },
    "pycharm": {
     "name": "#%%\n"
    }
   },
   "outputs": [
    {
     "data": {
      "image/png": "[encoded data removed]",
      "text/plain": [
       "<Figure size 432x288 with 1 Axes>"
      ]
     },
     "metadata": {
      "needs_background": "light"
     },
     "output_type": "display_data"
    }
   ],
   "source": [
    "# x and y components of vel\n",
    "v_x = v_0 * np.cos(theta) + 0 * t\n",
    "v_y = v_0 * np.sin(theta) - g * t\n",
    "\n",
    "# Plot\n",
    "plt.plot(t, v_x, label=\"$v_x$\")\n",
    "plt.plot(t, v_y, label=\"$v_y$\")\n",
    "plt.xlim(0, t_max)\n",
    "plt.xlabel(\"Time, $t$ (s)\")\n",
    "plt.ylabel(\"Velocities (m/s\")\n",
    "plt.legend()\n",
    "plt.grid(True)"
   ]
  },
  {
   "cell_type": "markdown",
   "id": "d86cbf91",
   "metadata": {
    "pycharm": {
     "name": "#%% md\n"
    }
   },
   "source": [
    "## Question 4\n",
    "*30 points*"
   ]
  },
  {
   "cell_type": "markdown",
   "id": "f854fd41",
   "metadata": {
    "pycharm": {
     "name": "#%% md\n"
    }
   },
   "source": [
    "### Question 4.1\n",
    "*15 points*\n",
    "\n",
    "A compression test is peformed on a rectangular prismatic brittle specimen (cross-section area = 4x4 mm, length = 6 mm). Import the data from the provided `UTM_data.csv` file (time is in $s$, displacement is in $\\mu m$, force is in $N$), and create the following using 4 subplots:\n",
    "```\n",
    "1. Force vs Displacement (cleaned data)    2. Strain vs Time\n",
    "3. Stress vs Strain                        4. Stress vs Time\n",
    "```\n",
    "\n",
    "Modify the Figure attributes as needed to create easily readable plots.\n",
    "\n",
    "Note that, for this type of test, the initial data corresponds to a period where the loading platen has not yet made contact with the specimen (and hence, the force is zero). Hence, the data must be cleaned before analysis. Data prior to the point where the specimen is loaded must be discarded, and the displacement (and time) reset to 0 when the specimen loading actually begins."
   ]
  },
  {
   "cell_type": "code",
   "execution_count": 38,
   "id": "e40eef3f",
   "metadata": {
    "collapsed": false,
    "jupyter": {
     "outputs_hidden": false
    },
    "pycharm": {
     "name": "#%%\n"
    }
   },
   "outputs": [
    {
     "data": {
      "text/plain": [
       "array([[ 0.00000000e+00, -3.10418315e-02, -2.63397996e-01],\n",
       "       [ 1.00000000e-02, -5.73786799e-02,  1.33588824e+00],\n",
       "       [ 2.00000000e-02, -4.34625128e-02,  1.13580547e+00],\n",
       "       ...,\n",
       "       [ 1.90340000e+02,  1.91163439e+01,  2.21369806e+03],\n",
       "       [ 1.90350000e+02,  1.90625769e+01,  2.21515940e+03],\n",
       "       [ 1.90360000e+02,  1.90503111e+01,  2.21319688e+03]])"
      ]
     },
     "execution_count": 38,
     "metadata": {},
     "output_type": "execute_result"
    }
   ],
   "source": [
    "# Import CSV file\n",
    "data = np.genfromtxt(\"UTM_data.csv\", delimiter=\",\", skip_header=1)\n",
    "data"
   ]
  },
  {
   "cell_type": "code",
   "execution_count": 39,
   "id": "1b905a76",
   "metadata": {
    "collapsed": false,
    "jupyter": {
     "outputs_hidden": false
    },
    "pycharm": {
     "name": "#%%\n"
    }
   },
   "outputs": [],
   "source": [
    "# A method to easily follow what is happening\n",
    "\n",
    "# Separate time, displacement and force arrays\n",
    "t = data[:, 0]  # s\n",
    "d = data[:, 1]  # um\n",
    "f = data[:, 2]  # N\n",
    "\n",
    "# Clean data by removing all indexes where force < 10 N\n",
    "threshold = 10\n",
    "t = t[f > threshold]\n",
    "d = d[f > threshold]\n",
    "f = f[f > threshold]"
   ]
  },
  {
   "cell_type": "code",
   "execution_count": 40,
   "id": "0578062d",
   "metadata": {
    "collapsed": false,
    "jupyter": {
     "outputs_hidden": false
    },
    "pycharm": {
     "name": "#%%\n"
    }
   },
   "outputs": [],
   "source": [
    "# A concise (but slightly slower) alternative for the above\n",
    "threshold = 10\n",
    "clean_data = data[data[:, 2] > threshold]  # clean data\n",
    "t, d, f = clean_data.T  # separate into 1D arrays"
   ]
  },
  {
   "cell_type": "code",
   "execution_count": 41,
   "id": "bdedd726",
   "metadata": {
    "collapsed": false,
    "jupyter": {
     "outputs_hidden": false
    },
    "pycharm": {
     "name": "#%%\n"
    }
   },
   "outputs": [
    {
     "data": {
      "image/png": "[encoded data removed]",
      "text/plain": [
       "<Figure size 1152x720 with 4 Axes>"
      ]
     },
     "metadata": {
      "needs_background": "light"
     },
     "output_type": "display_data"
    }
   ],
   "source": [
    "# Reset time and displacement to start from zero\n",
    "t -= t[0]\n",
    "d -= d[0]\n",
    "\n",
    "# Calculate stress and strain\n",
    "area = 4 * 4  # mm^2\n",
    "stress = f / area  # N/mm^2 or MPa\n",
    "l_0 = 6000  # initial length (um)\n",
    "strain = d / l_0\n",
    "\n",
    "# Create 4 subplots\n",
    "fig, axs = plt.subplots(2, 2, figsize=(16, 10), layout=\"constrained\")\n",
    "\n",
    "# First subplot\n",
    "axs[0, 0].plot(d, f)\n",
    "axs[0, 0].set_xlabel(r\"Displacement, $d$ ($\\mu m$)\")\n",
    "axs[0, 0].set_ylabel(r\"Force, $F$ (N)\")\n",
    "axs[0, 0].grid(True)\n",
    "\n",
    "# Second subplot\n",
    "axs[0, 1].plot(t, strain)\n",
    "axs[0, 1].set_xlabel(r\"Time, $t$ (s)\")\n",
    "axs[0, 1].set_ylabel(r\"Strain, $\\epsilon$\")\n",
    "axs[0, 1].grid(True)\n",
    "\n",
    "# Third subplot\n",
    "axs[1, 0].plot(strain, stress)\n",
    "axs[1, 0].set_xlabel(r\"Strain, $\\epsilon$\")\n",
    "axs[1, 0].set_ylabel(r\"Stress, $\\sigma$ (MPa)\")\n",
    "axs[1, 0].grid(True)\n",
    "\n",
    "# Fourth subplot\n",
    "axs[1, 1].plot(t, stress)\n",
    "axs[1, 1].set_xlabel(r\"Time, $t$ (s)\")\n",
    "axs[1, 1].set_ylabel(r\"Stress, $\\sigma$ (MPa)\")\n",
    "axs[1, 1].grid(True)"
   ]
  },
  {
   "cell_type": "markdown",
   "id": "a08c92ad",
   "metadata": {
    "pycharm": {
     "name": "#%% md\n"
    }
   },
   "source": [
    "### Question 4.2\n",
    "*5 points*\n",
    "\n",
    "Calculate the strength (in MPa) and failure strain (in %) for the sample tested above.\n",
    "\n",
    "Report 2 decimal places for strength and 4 for strain."
   ]
  },
  {
   "cell_type": "code",
   "execution_count": 42,
   "id": "83e33846",
   "metadata": {
    "collapsed": false,
    "jupyter": {
     "outputs_hidden": false
    },
    "pycharm": {
     "name": "#%%\n"
    }
   },
   "outputs": [
    {
     "name": "stdout",
     "output_type": "stream",
     "text": [
      "Specimen strength = 138.56 MPa\n",
      "Specimen Failure strain = 0.2884 %\n"
     ]
    }
   ],
   "source": [
    "# For the brittle material\n",
    "# Strength = Maximum stress\n",
    "strength = stress.max()  # MPa\n",
    "print(f\"Specimen strength = {strength:.2f} MPa\")\n",
    "\n",
    "# Failure strain  = Maximum strain\n",
    "failure_strain = strain.max() * 1e2  # %\n",
    "print(f\"Specimen Failure strain = {failure_strain:.4f} %\")"
   ]
  },
  {
   "cell_type": "markdown",
   "id": "05710f69",
   "metadata": {
    "pycharm": {
     "name": "#%% md\n"
    }
   },
   "source": [
    "### Question 4.3\n",
    "*10 points*\n",
    "\n",
    "Experimental data (including the data provided above) is practically always noisy. Hence, to obtain the elastic modulus from the stress-strain data is not as straight-forward as dividing two arrays.\n",
    "\n",
    "A better option is to fit a linear curve to the cleaned stress-strain data. Check the documentation for `numpy.polyfit` and calculate the elastic modulus (in GPa) of the test specimen. Report 2 decimal places for the modulus."
   ]
  },
  {
   "cell_type": "code",
   "execution_count": 43,
   "id": "a4c4f839",
   "metadata": {
    "collapsed": false,
    "jupyter": {
     "outputs_hidden": false
    },
    "pycharm": {
     "name": "#%%\n"
    }
   },
   "outputs": [
    {
     "name": "stdout",
     "output_type": "stream",
     "text": [
      "Specimen elastic modulus = 47.99 GPa\n"
     ]
    }
   ],
   "source": [
    "# Fit 1D polynomial to the data\n",
    "e = np.polyfit(strain, stress, 1)\n",
    "modulus = e[0] * 1e-3  # GPa\n",
    "print(f\"Specimen elastic modulus = {modulus:.2f} GPa\")"
   ]
  },
  {
   "cell_type": "markdown",
   "id": "d0a8ddb8",
   "metadata": {
    "pycharm": {
     "name": "#%% md\n"
    }
   },
   "source": [
    "**Extra information:**\n",
    "\n",
    "Visualize the polynomial: $y = mx + c$\n"
   ]
  },
  {
   "cell_type": "code",
   "execution_count": 44,
   "id": "11e039e1",
   "metadata": {
    "collapsed": false,
    "jupyter": {
     "outputs_hidden": false
    },
    "pycharm": {
     "name": "#%%\n"
    }
   },
   "outputs": [
    {
     "name": "stdout",
     "output_type": "stream",
     "text": [
      " \n",
      "4.799e+04 x + 0.6388\n"
     ]
    }
   ],
   "source": [
    "print(np.poly1d(e))"
   ]
  },
  {
   "cell_type": "markdown",
   "id": "c25e2f21",
   "metadata": {
    "pycharm": {
     "name": "#%% md\n"
    }
   },
   "source": [
    "$\\sigma = E \\epsilon + \\sigma_{threshold}$\n",
    "- $m$ is the slope, i.e., the elastic modulus, $E$\n",
    "- $c$ is the $y$-intercept for the stress, which corresponds to the threshold used for cleaning the force data"
   ]
  },
  {
   "cell_type": "code",
   "execution_count": 45,
   "id": "b44f01a1",
   "metadata": {
    "collapsed": false,
    "jupyter": {
     "outputs_hidden": false
    },
    "pycharm": {
     "name": "#%%\n"
    }
   },
   "outputs": [
    {
     "data": {
      "text/plain": [
       "0.625"
      ]
     },
     "execution_count": 45,
     "metadata": {},
     "output_type": "execute_result"
    }
   ],
   "source": [
    "threshold_stress = threshold / area\n",
    "threshold_stress"
   ]
  },
  {
   "cell_type": "markdown",
   "id": "c41fa3ab",
   "metadata": {
    "pycharm": {
     "name": "#%% md\n"
    }
   },
   "source": [
    "## Question 5\n",
    "*10 points*\n",
    "\n",
    "Follow the instructions below to create a scatter plot. Refer to the relevant documentation when needed."
   ]
  },
  {
   "cell_type": "markdown",
   "id": "3cb69398",
   "metadata": {
    "pycharm": {
     "name": "#%% md\n"
    }
   },
   "source": [
    "Using `numpy` functions, create two arrays with 100 random values:\n",
    "- an array `x`, with a normal distribution, centered on 100 and with a standard deviation of 15\n",
    "- an array `y`, with a uniform distribution between $\\pi/2$ and $2\\pi$."
   ]
  },
  {
   "cell_type": "code",
   "execution_count": 46,
   "id": "03e4ada4",
   "metadata": {
    "collapsed": false,
    "jupyter": {
     "outputs_hidden": false
    },
    "pycharm": {
     "name": "#%%\n"
    }
   },
   "outputs": [],
   "source": [
    "x = np.random.normal(loc=100, scale=15, size=(100,))\n",
    "y = np.random.uniform(low=np.pi / 2, high=2 * np.pi, size=(100,))"
   ]
  },
  {
   "cell_type": "markdown",
   "id": "ead07c3c",
   "metadata": {
    "pycharm": {
     "name": "#%% md\n"
    }
   },
   "source": [
    "Create a scatter plot using the normal distribution array as the $x$-axis, and the uniform distribution array as the $y$-axis.\n",
    "\n",
    "- The figure size should be at least `(10,10)`\n",
    "- The marker size for each point on the plot should correspond to the ratio of $x/y$ for that point.\n",
    "- The marker color for each point on the plot should correspond to the sine of $y$.\n",
    "- Each marker should have a transparency of 50%."
   ]
  },
  {
   "cell_type": "code",
   "execution_count": 47,
   "id": "1f275e7a",
   "metadata": {
    "collapsed": false,
    "jupyter": {
     "outputs_hidden": false
    },
    "pycharm": {
     "name": "#%%\n"
    }
   },
   "outputs": [
    {
     "data": {
      "image/png": "[encoded data removed]",
      "text/plain": [
       "<Figure size 720x720 with 1 Axes>"
      ]
     },
     "metadata": {
      "needs_background": "light"
     },
     "output_type": "display_data"
    }
   ],
   "source": [
    "fig, ax = plt.subplots(figsize=(10, 10))\n",
    "ax.scatter(x, y, s=x / y, c=np.sin(y), alpha=0.50);"
   ]
  },
  {
   "cell_type": "markdown",
   "id": "88d259a6-8c73-4645-ba44-efa5ae65205e",
   "metadata": {
    "jupyter": {
     "outputs_hidden": false
    },
    "pycharm": {
     "name": "#%%\n"
    }
   },
   "source": [
    "# Notes"
   ]
  },
  {
   "cell_type": "markdown",
   "id": "ea12efbf",
   "metadata": {
    "pycharm": {
     "name": "#%% md\n"
    }
   },
   "source": [
    "## Vectorized NumPy operations on arrays vs Python Loops\n",
    "\n",
    "Using NumPy features like masking, casting, and ufuncs (e.g., `np.add()`) is orders of magnitude faster than using Python loops."
   ]
  },
  {
   "cell_type": "code",
   "execution_count": 48,
   "id": "d31931a0",
   "metadata": {
    "collapsed": false,
    "jupyter": {
     "outputs_hidden": false
    },
    "pycharm": {
     "name": "#%%\n"
    }
   },
   "outputs": [],
   "source": [
    "# Import CSV file\n",
    "data = np.genfromtxt(\"UTM_data.csv\", delimiter=\",\", skip_header=1)"
   ]
  },
  {
   "cell_type": "markdown",
   "id": "527ea5f5",
   "metadata": {
    "pycharm": {
     "name": "#%% md\n"
    }
   },
   "source": [
    "**Using a loop**"
   ]
  },
  {
   "cell_type": "code",
   "execution_count": 49,
   "id": "4cfa1a8d",
   "metadata": {
    "collapsed": false,
    "jupyter": {
     "outputs_hidden": false
    },
    "pycharm": {
     "name": "#%%\n"
    }
   },
   "outputs": [
    {
     "name": "stdout",
     "output_type": "stream",
     "text": [
      "10.4 ms ± 725 µs per loop (mean ± std. dev. of 7 runs, 100 loops each)\n"
     ]
    }
   ],
   "source": [
    "%%timeit\n",
    "\n",
    "# Separate time, displacement and force arrays\n",
    "t = data[:, 0]  # s\n",
    "d = data[:, 1]  # um\n",
    "f = data[:, 2]  # N\n",
    "\n",
    "# Clean data by removing all indexes where force < 10 N\n",
    "threshold = 10\n",
    "clean_indexes = []\n",
    "for i, f_i in enumerate(f):\n",
    "    if f_i > threshold:\n",
    "        clean_indexes.append(i)\n",
    "\n",
    "t = t[clean_indexes]\n",
    "d = d[clean_indexes]\n",
    "f = f[clean_indexes]\n",
    "\n",
    "# Reset time and displacement to start from zero\n",
    "t -= t[0]\n",
    "d -= d[0]"
   ]
  },
  {
   "cell_type": "markdown",
   "id": "f51a3750",
   "metadata": {
    "pycharm": {
     "name": "#%% md\n"
    }
   },
   "source": [
    "**Using a mask**"
   ]
  },
  {
   "cell_type": "code",
   "execution_count": 50,
   "id": "986da213",
   "metadata": {
    "collapsed": false,
    "jupyter": {
     "outputs_hidden": false
    },
    "pycharm": {
     "name": "#%%\n"
    }
   },
   "outputs": [
    {
     "name": "stdout",
     "output_type": "stream",
     "text": [
      "160 µs ± 3.96 µs per loop (mean ± std. dev. of 7 runs, 10,000 loops each)\n"
     ]
    }
   ],
   "source": [
    "%%timeit\n",
    "\n",
    "# Separate time, displacement and force arrays\n",
    "t = data[:, 0]  # s\n",
    "d = data[:, 1]  # um\n",
    "f = data[:, 2]  # N\n",
    "\n",
    "# Clean data by removing all indexes where force < 10 N\n",
    "threshold = 10\n",
    "t = t[f > threshold]\n",
    "d = d[f > threshold]\n",
    "f = f[f > threshold]\n",
    "\n",
    "# Reset time and displacement to start from zero\n",
    "t -= t[0]\n",
    "d -= d[0]"
   ]
  },
  {
   "cell_type": "markdown",
   "id": "9d394827",
   "metadata": {
    "pycharm": {
     "name": "#%% md\n"
    }
   },
   "source": [
    "## NumPy vs SymPy\n",
    "\n",
    "Use **Num**Py when your problem and variables are numerical (i.e., have a number as a value).\n",
    "\n",
    "Use **Sym**Py when your problem and variables are symbolic (i.e., no number for the value, you need your answer in variables like $x$ and $y$.\n",
    "\n",
    "NumPy is written in C, and is much faster."
   ]
  },
  {
   "cell_type": "markdown",
   "id": "84d78d9d",
   "metadata": {
    "pycharm": {
     "name": "#%% md\n"
    }
   },
   "source": [
    "**SymPy and `lambdify()`**"
   ]
  },
  {
   "cell_type": "code",
   "execution_count": 51,
   "id": "ae84717a",
   "metadata": {
    "collapsed": false,
    "jupyter": {
     "outputs_hidden": false
    },
    "pycharm": {
     "name": "#%%\n"
    }
   },
   "outputs": [
    {
     "name": "stdout",
     "output_type": "stream",
     "text": [
      "823 µs ± 62.7 µs per loop (mean ± std. dev. of 7 runs, 1,000 loops each)\n"
     ]
    }
   ],
   "source": [
    "%%timeit\n",
    "\n",
    "theta = sym.symbols('theta', positive=True, real=True)\n",
    "v = 25\n",
    "g = 9.81\n",
    "\n",
    "d = v ** 2 * sym.sin(2 * theta) / g\n",
    "angles = np.linspace(0, 180)\n",
    "f = sym.lambdify(theta, d, \"numpy\")\n",
    "d_plot = f(angles)"
   ]
  },
  {
   "cell_type": "markdown",
   "id": "4bff2d48",
   "metadata": {
    "pycharm": {
     "name": "#%% md\n"
    }
   },
   "source": [
    "**NumPy**"
   ]
  },
  {
   "cell_type": "code",
   "execution_count": 52,
   "id": "9eadcba4",
   "metadata": {
    "collapsed": false,
    "jupyter": {
     "outputs_hidden": false
    },
    "pycharm": {
     "name": "#%%\n"
    }
   },
   "outputs": [
    {
     "name": "stdout",
     "output_type": "stream",
     "text": [
      "34.7 µs ± 2.33 µs per loop (mean ± std. dev. of 7 runs, 10,000 loops each)\n"
     ]
    }
   ],
   "source": [
    "%%timeit\n",
    "\n",
    "v = 25\n",
    "g = 9.81\n",
    "\n",
    "angles = np.linspace(0, 180)\n",
    "d = v ** 2 * np.sin(2 * np.radians(angles)) / g"
   ]
  }
 ],
 "metadata": {
  "citation-manager": {
   "items": {}
  },
  "kernelspec": {
   "display_name": "Python 3 (ipykernel)",
   "language": "python",
   "name": "python3"
  },
  "language_info": {
   "codemirror_mode": {
    "name": "ipython",
    "version": 3
   },
   "file_extension": ".py",
   "mimetype": "text/x-python",
   "name": "python",
   "nbconvert_exporter": "python",
   "pygments_lexer": "ipython3",
   "version": "3.8.8"
  }
 },
 "nbformat": 4,
 "nbformat_minor": 5
}
