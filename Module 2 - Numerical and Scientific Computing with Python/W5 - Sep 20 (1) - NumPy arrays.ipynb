{
 "cells": [
  {
   "cell_type": "markdown",
   "id": "592bd19b-ab2d-4cdb-b449-dddf29650c30",
   "metadata": {},
   "source": [
    "# W5 - September 20 - NumPy: Basics\n",
    "\n",
    "NumPy is a third-party library (not in the Standard Libraray), included with the Anaconda Distribution. Hence, you don't need to install it in the default Anaconda environment (`base`), and can import is as follows"
   ]
  },
  {
   "cell_type": "code",
   "execution_count": 1,
   "id": "1657b754-0d4c-4189-9792-4798d358235f",
   "metadata": {},
   "outputs": [],
   "source": [
    "import numpy as np"
   ]
  },
  {
   "cell_type": "markdown",
   "id": "878c3b32-ef0b-40c2-9290-cac051d47cce",
   "metadata": {},
   "source": [
    "`np` is the recommended alias for `numpy`, and it's best to stick to convention."
   ]
  },
  {
   "cell_type": "markdown",
   "id": "9daf44a0-fea4-4fc6-acd5-bbea3a0f4391",
   "metadata": {},
   "source": [
    "**Why use NumPy?**\n",
    "\n",
    "NumPy provides memmory-efficient containers that provide fast numerical operations for multi-dimensional arrays. It's specifically designed for scientific computation.\n",
    "\n",
    "https://numpy.org/doc/\n",
    "\n",
    "https://scipy-lectures.org/"
   ]
  },
  {
   "cell_type": "markdown",
   "id": "75d967e0-4bf8-4ac6-b6c9-c0e55bdc9d30",
   "metadata": {
    "tags": []
   },
   "source": [
    "## The NumPy Array object\n",
    "\n",
    "The NumPy array is the basic NumPy object, and can be used to store a variety of engineering data."
   ]
  },
  {
   "cell_type": "markdown",
   "id": "37e7f610-9db8-469d-b48e-0d44b2917212",
   "metadata": {
    "tags": []
   },
   "source": [
    "### Creating arrays\n",
    "\n",
    "Arrays can be 1D"
   ]
  },
  {
   "cell_type": "code",
   "execution_count": null,
   "id": "fa15d28a-bec4-49d2-9936-cd5d54d7658b",
   "metadata": {},
   "outputs": [],
   "source": [
    "array_1d = np.array([10, 20, 30])\n",
    "array_1d"
   ]
  },
  {
   "cell_type": "code",
   "execution_count": null,
   "id": "6eb39e73-6cd2-434c-9706-d3b4eb844e10",
   "metadata": {},
   "outputs": [],
   "source": [
    "type(array_1d)"
   ]
  },
  {
   "cell_type": "code",
   "execution_count": null,
   "id": "e71528b3-736a-4036-991f-dbd8dcb8183c",
   "metadata": {},
   "outputs": [],
   "source": [
    "array_1d.shape"
   ]
  },
  {
   "cell_type": "code",
   "execution_count": null,
   "id": "74d51653-e130-4af6-8de4-a7206bb1bbfc",
   "metadata": {},
   "outputs": [],
   "source": [
    "len(array_1d)"
   ]
  },
  {
   "cell_type": "markdown",
   "id": "64c53dda-6e1a-41ba-bd76-0275e14d57a2",
   "metadata": {},
   "source": [
    "Arrays can also be multi-dimensional, by passing a list of lists to the `np.array()` function"
   ]
  },
  {
   "cell_type": "code",
   "execution_count": null,
   "id": "6acb5f31-d341-4220-b333-19c1a9a30048",
   "metadata": {},
   "outputs": [],
   "source": [
    "array_2d = np.array([[10, 20, 30], [100, 200, 300]])\n",
    "array_2d"
   ]
  },
  {
   "cell_type": "code",
   "execution_count": null,
   "id": "b18e4090-c0c9-41a2-8818-9ae156e3ae6b",
   "metadata": {},
   "outputs": [],
   "source": [
    "array_2d.ndim"
   ]
  },
  {
   "cell_type": "code",
   "execution_count": null,
   "id": "8c6585a6-1a9a-4286-aa2d-cf913b86386c",
   "metadata": {},
   "outputs": [],
   "source": [
    "array_2d.shape"
   ]
  },
  {
   "cell_type": "code",
   "execution_count": null,
   "id": "c6972899-1bef-411d-a83f-ba0908865008",
   "metadata": {},
   "outputs": [],
   "source": [
    "len(array_2d) # only returns the size of the first dimension"
   ]
  },
  {
   "cell_type": "markdown",
   "id": "2ff49583-8865-4f37-8ffd-739111da7c95",
   "metadata": {},
   "source": [
    "There are some helpful functions to create ordered arrays, which may feel familiar (as there are similar ones in MATLAB)"
   ]
  },
  {
   "cell_type": "code",
   "execution_count": null,
   "id": "cf7a9f96-c118-45b0-bc18-9d9af0ac63f9",
   "metadata": {},
   "outputs": [],
   "source": [
    "array_linear = np.arange(10) # Similar to python's range function\n",
    "array_linear"
   ]
  },
  {
   "cell_type": "code",
   "execution_count": null,
   "id": "31aa109b-706b-4d14-a3f0-90c2abe79ba4",
   "metadata": {},
   "outputs": [],
   "source": [
    "array_spaced = np.linspace(10, 50, 9) # start, end, num-points\n",
    "array_spaced"
   ]
  },
  {
   "cell_type": "code",
   "execution_count": null,
   "id": "09c025d0-d867-42d3-bf0c-4bf6afae9c5f",
   "metadata": {},
   "outputs": [],
   "source": [
    "array_spaced = np.linspace(10, 50, 8, endpoint=False)\n",
    "array_spaced"
   ]
  },
  {
   "cell_type": "markdown",
   "id": "419a2ec7-3d85-4c22-a19e-4abe1cd340f3",
   "metadata": {},
   "source": [
    "Some other useful functions"
   ]
  },
  {
   "cell_type": "code",
   "execution_count": null,
   "id": "d7e73739-2052-4282-b529-290f4694ef8c",
   "metadata": {},
   "outputs": [],
   "source": [
    "array_ones = np.ones(8)\n",
    "array_ones"
   ]
  },
  {
   "cell_type": "code",
   "execution_count": null,
   "id": "e0efb278-eb7a-4e57-993a-59eb2b67f3b3",
   "metadata": {},
   "outputs": [],
   "source": [
    "array_zeros = np.zeros((4, 4)) # Note that the dimension is passed as a tuple, not as two arguments\n",
    "array_zeros"
   ]
  },
  {
   "cell_type": "code",
   "execution_count": null,
   "id": "215dd2e3-50e4-4e09-9e9e-6e23e41c763d",
   "metadata": {},
   "outputs": [],
   "source": [
    "array_eye = np.eye(3)\n",
    "array_eye"
   ]
  },
  {
   "cell_type": "code",
   "execution_count": null,
   "id": "d6f6cbd9-4814-4472-a689-0bd95ca6c69c",
   "metadata": {},
   "outputs": [],
   "source": [
    "array_diag = np.diag(np.array([55, 66, 77, 88]))\n",
    "array_diag"
   ]
  },
  {
   "cell_type": "markdown",
   "id": "beda7555-3610-46df-929b-f3a91a2900f6",
   "metadata": {
    "tags": []
   },
   "source": [
    "#### NumPy data types\n",
    "\n",
    "NumPy automatically detects the data type used"
   ]
  },
  {
   "cell_type": "code",
   "execution_count": null,
   "id": "e7e0a829-a3e7-4936-811e-fedb243186f8",
   "metadata": {},
   "outputs": [],
   "source": [
    "array_diag.dtype"
   ]
  },
  {
   "cell_type": "code",
   "execution_count": null,
   "id": "04122c1e-5178-45ea-8f93-337d13ae83ba",
   "metadata": {},
   "outputs": [],
   "source": [
    "array_decimals = np.array([1, 3.14, 7.42, 0.58])\n",
    "array_decimals.dtype"
   ]
  },
  {
   "cell_type": "markdown",
   "id": "421ba6b9-443d-4da4-95ec-6fa95c953ddd",
   "metadata": {},
   "source": [
    "But the default is float"
   ]
  },
  {
   "cell_type": "code",
   "execution_count": null,
   "id": "adeadc82-1795-4fcd-b8b5-b1737247220c",
   "metadata": {},
   "outputs": [],
   "source": [
    "array_eye.dtype"
   ]
  },
  {
   "cell_type": "markdown",
   "id": "dcf701f2-3e88-444a-8787-c0a1bf4d837c",
   "metadata": {},
   "source": [
    "You can explicitly specify if you want a different data type"
   ]
  },
  {
   "cell_type": "code",
   "execution_count": null,
   "id": "a7adac20-70d4-4146-8fb7-bfd9fe241039",
   "metadata": {},
   "outputs": [],
   "source": [
    "array_eye_int = np.eye(3, dtype=int)\n",
    "array_eye_int.dtype"
   ]
  },
  {
   "cell_type": "markdown",
   "id": "5de62094-9aea-4b18-a3b3-49b4376a52af",
   "metadata": {
    "tags": []
   },
   "source": [
    "### Indexing and slicing\n",
    "\n",
    "These work the same as in python, with zero indexing"
   ]
  },
  {
   "cell_type": "code",
   "execution_count": null,
   "id": "6c946d0d-a029-4bcf-9d43-a04ef51d4717",
   "metadata": {},
   "outputs": [],
   "source": [
    "array_linear = np.arange(10,21)\n",
    "array_linear"
   ]
  },
  {
   "cell_type": "code",
   "execution_count": null,
   "id": "2e52005c-fa04-41e3-88b1-a88f3c849a28",
   "metadata": {},
   "outputs": [],
   "source": [
    "array_linear[4]"
   ]
  },
  {
   "cell_type": "code",
   "execution_count": null,
   "id": "87469dcf-77e2-4c6a-ba28-50993f713bd1",
   "metadata": {},
   "outputs": [],
   "source": [
    "array_linear[2:8:2] # start, end, step"
   ]
  },
  {
   "cell_type": "markdown",
   "id": "b56f4709-0b31-4ae9-baf6-90fe899d8fe4",
   "metadata": {},
   "source": [
    "Defaults: start=0, end=last, step=1"
   ]
  },
  {
   "cell_type": "code",
   "execution_count": null,
   "id": "aa067b3c-d6bc-4461-bc4e-638fcc461862",
   "metadata": {},
   "outputs": [],
   "source": [
    "array_linear[:5]"
   ]
  },
  {
   "cell_type": "code",
   "execution_count": null,
   "id": "b954e65b-d2f8-490e-9599-4b76d05a7ae3",
   "metadata": {},
   "outputs": [],
   "source": [
    "array_linear[::-1]"
   ]
  },
  {
   "cell_type": "markdown",
   "id": "f8479d6f-7997-42e1-be11-627320147f37",
   "metadata": {},
   "source": [
    "For multidimensional arrays, multiple indexes are required"
   ]
  },
  {
   "cell_type": "code",
   "execution_count": null,
   "id": "938c936b-a615-4cde-9fe6-0a3ce813d03c",
   "metadata": {},
   "outputs": [],
   "source": [
    "array_random = np.random.random((3,3))\n",
    "array_random"
   ]
  },
  {
   "cell_type": "code",
   "execution_count": null,
   "id": "b854eab8-c2b0-4174-9926-876fa4fe8368",
   "metadata": {},
   "outputs": [],
   "source": [
    "array_random[1, 1]"
   ]
  },
  {
   "cell_type": "code",
   "execution_count": null,
   "id": "331a6fb9-4205-4a36-81ae-8cdc4ed6b215",
   "metadata": {},
   "outputs": [],
   "source": [
    "# The first index corresponds to the row, and the second to the column\n",
    "array_random[0, 2] # row 1, column 3"
   ]
  },
  {
   "cell_type": "markdown",
   "id": "415c5168-b670-4a7a-bffc-bbb0cac6dc90",
   "metadata": {},
   "source": [
    "New values can be assigned using any of these techniques"
   ]
  },
  {
   "cell_type": "code",
   "execution_count": null,
   "id": "6e144434-35b6-4c97-bbcc-3982ffc1b8a2",
   "metadata": {},
   "outputs": [],
   "source": [
    "array_linear = np.arange(10,21)\n",
    "array_linear"
   ]
  },
  {
   "cell_type": "code",
   "execution_count": null,
   "id": "1dc9addf-afba-4a73-9dc9-1177ac7d96bb",
   "metadata": {},
   "outputs": [],
   "source": [
    "array_linear[0] = 100\n",
    "array_linear"
   ]
  },
  {
   "cell_type": "markdown",
   "id": "5b555bec-f8c9-4525-a0be-524d3b66eaba",
   "metadata": {},
   "source": [
    "You can also index with an array of integers"
   ]
  },
  {
   "cell_type": "code",
   "execution_count": null,
   "id": "cd168a1a-40a0-4796-96d8-1644afbada4a",
   "metadata": {},
   "outputs": [],
   "source": [
    "array_linear[[3, 6, 3, 8, 2, 3]] # indexes can be repeated"
   ]
  },
  {
   "cell_type": "code",
   "execution_count": null,
   "id": "98656222-d622-4bc1-8b9a-111c6a0ae538",
   "metadata": {},
   "outputs": [],
   "source": [
    "array_linear[[3, 6, 8]] = -100\n",
    "array_linear"
   ]
  },
  {
   "cell_type": "markdown",
   "id": "8b01e242-c034-438c-96b2-8b2a9780dba1",
   "metadata": {},
   "source": [
    "You can even create a new array from indexes. The new array has the same shape as the array of integers"
   ]
  },
  {
   "cell_type": "code",
   "execution_count": null,
   "id": "bb7d3220-f584-4d94-93ac-9da8ff36923c",
   "metadata": {},
   "outputs": [],
   "source": [
    "array_linear = np.arange(10,21)\n",
    "array_linear"
   ]
  },
  {
   "cell_type": "code",
   "execution_count": null,
   "id": "b19b73f7-5785-44b5-953b-c93d941fcb84",
   "metadata": {},
   "outputs": [],
   "source": [
    "indexes = np.array([[2, 8], [7, 3]])\n",
    "array_linear[indexes]"
   ]
  },
  {
   "cell_type": "markdown",
   "id": "b69c0ffd-d9ca-4393-86dd-380c2ae711d0",
   "metadata": {
    "tags": []
   },
   "source": [
    "#### Casting arrays\n",
    "\n",
    "**Assignment will never change the dtype!** To add an element of a different data type, you must first ***cast*** the elements of the array to the new data type."
   ]
  },
  {
   "cell_type": "code",
   "execution_count": null,
   "id": "7bc4392a-07d4-41b0-8664-06318f554b05",
   "metadata": {},
   "outputs": [],
   "source": [
    "array_linear = np.arange(10,21)\n",
    "array_linear"
   ]
  },
  {
   "cell_type": "code",
   "execution_count": null,
   "id": "a8a101cc-ca58-479b-8d0e-3f9093ab064d",
   "metadata": {},
   "outputs": [],
   "source": [
    "array_linear[0] = 111.111\n",
    "array_linear"
   ]
  },
  {
   "cell_type": "markdown",
   "id": "f0b554ce-f887-4d76-afa4-1c6321008186",
   "metadata": {},
   "source": [
    "The float is truncated to an integer.\n",
    "\n",
    "To get around this, you need to use the `astype()` method"
   ]
  },
  {
   "cell_type": "code",
   "execution_count": null,
   "id": "598c2a1b-3b92-41dc-9da2-12394bf6947a",
   "metadata": {},
   "outputs": [],
   "source": [
    "array_linear = array_linear.astype(float)\n",
    "array_linear"
   ]
  },
  {
   "cell_type": "code",
   "execution_count": null,
   "id": "1dab6f31-c8f8-4b08-a0ec-c7d373bdd9b9",
   "metadata": {},
   "outputs": [],
   "source": [
    "array_linear[0] = 1234.5678\n",
    "array_linear"
   ]
  },
  {
   "cell_type": "markdown",
   "id": "a4fd9ed7-563f-43f5-b84a-48707a6dfe56",
   "metadata": {},
   "source": [
    "To go back to `int`, remember to round first, or it will truncate every value, as seen below"
   ]
  },
  {
   "cell_type": "code",
   "execution_count": null,
   "id": "41f48c95-3b2a-47ab-8362-b163c693ceb6",
   "metadata": {},
   "outputs": [],
   "source": [
    "array_linear = array_linear.astype(int)\n",
    "array_linear"
   ]
  },
  {
   "cell_type": "markdown",
   "id": "3781da0d-01b8-4adf-8f7a-f6d2c954d55a",
   "metadata": {},
   "source": [
    "So instead, we use the `np.around()` function, that rounds every element in the array:"
   ]
  },
  {
   "cell_type": "code",
   "execution_count": null,
   "id": "912574cb-0657-46d3-bb09-cc29bfade843",
   "metadata": {},
   "outputs": [],
   "source": [
    "#Re-creating the array\n",
    "array_linear = np.arange(10,21, dtype=float)\n",
    "array_linear[0] = 1234.5678\n",
    "array_linear"
   ]
  },
  {
   "cell_type": "code",
   "execution_count": null,
   "id": "aea983c4-33d4-4af5-ad99-ac3d4cb30baf",
   "metadata": {},
   "outputs": [],
   "source": [
    "array_linear = np.around(array_linear).astype(int)\n",
    "array_linear"
   ]
  },
  {
   "cell_type": "markdown",
   "id": "ef91d7f9-fe51-4c5f-971d-e4f68c299ffa",
   "metadata": {
    "tags": []
   },
   "source": [
    "#### Copies and views\n",
    "\n",
    "Unlike with lists, slicing creates a ***view*** of the original array. This means that the array is not copied in the computer memory."
   ]
  },
  {
   "cell_type": "code",
   "execution_count": null,
   "id": "cd2cdca7-dae6-417d-a0d6-9e3db7ae7bd3",
   "metadata": {},
   "outputs": [],
   "source": [
    "array_original = np.arange(10)\n",
    "array_original"
   ]
  },
  {
   "cell_type": "code",
   "execution_count": null,
   "id": "d04d4036-89ee-4663-83ef-bad84a809491",
   "metadata": {},
   "outputs": [],
   "source": [
    "array_sliced = array_original[:5]\n",
    "array_sliced"
   ]
  },
  {
   "cell_type": "code",
   "execution_count": null,
   "id": "f2e0a173-f3a5-424f-9831-74dbb62c55e4",
   "metadata": {},
   "outputs": [],
   "source": [
    "np.may_share_memory(array_original, array_sliced)"
   ]
  },
  {
   "cell_type": "markdown",
   "id": "a2611d93-650d-4e32-b194-527b9320912e",
   "metadata": {},
   "source": [
    "The `np.may_share_memory()` function checks if the two arrays share comuter memory."
   ]
  },
  {
   "cell_type": "code",
   "execution_count": null,
   "id": "d3e30eba-1423-4b8a-bdc0-03a6e3d5afbd",
   "metadata": {},
   "outputs": [],
   "source": [
    "array_sliced[0] = 100\n",
    "array_sliced"
   ]
  },
  {
   "cell_type": "markdown",
   "id": "fc622d2a-32c7-49b3-b43c-29eca54e23c2",
   "metadata": {},
   "source": [
    "When modifying the view, the original array is modified as well"
   ]
  },
  {
   "cell_type": "code",
   "execution_count": null,
   "id": "5b7b8dce-37b3-49f2-8853-e7dc60981917",
   "metadata": {},
   "outputs": [],
   "source": [
    "array_original"
   ]
  },
  {
   "cell_type": "markdown",
   "id": "f95b4d9a-3330-4d6f-8656-55fbbd7c1db9",
   "metadata": {
    "tags": []
   },
   "source": [
    "#### Boolean masks\n",
    "\n",
    "*Fancy indexing* with Boolean masks creates ***copies*** of the original array"
   ]
  },
  {
   "cell_type": "code",
   "execution_count": 2,
   "id": "350ac910-e935-45b4-acfb-f7a7433c6e33",
   "metadata": {},
   "outputs": [
    {
     "data": {
      "text/plain": [
       "array([0, 1, 2, 3, 4, 5, 6, 7, 8, 9])"
      ]
     },
     "execution_count": 2,
     "metadata": {},
     "output_type": "execute_result"
    }
   ],
   "source": [
    "array_original = np.arange(10)\n",
    "array_original"
   ]
  },
  {
   "cell_type": "markdown",
   "id": "fd2b9501-cdde-48dc-81ef-c7a017611496",
   "metadata": {},
   "source": [
    "A boolean mask is an array with `dtype('bool')`"
   ]
  },
  {
   "cell_type": "code",
   "execution_count": null,
   "id": "56abb08c-7bea-4c15-9e5c-989966fc7f55",
   "metadata": {},
   "outputs": [
    {
     "data": {
      "text/plain": [
       "array([False, False, False,  True,  True,  True,  True,  True,  True,\n",
       "        True])"
      ]
     },
     "execution_count": 3,
     "metadata": {},
     "output_type": "execute_result"
    }
   ],
   "source": [
    "mask = (array_original % 2 == 0)\n",
    "mask"
   ]
  },
  {
   "cell_type": "code",
   "execution_count": null,
   "id": "031dbe1d-11c5-448a-9bf6-d750af230743",
   "metadata": {},
   "outputs": [],
   "source": [
    "mask.dtype"
   ]
  },
  {
   "cell_type": "markdown",
   "id": "2a4ee44f-3d7b-4df9-bd71-f05e94fd93d4",
   "metadata": {},
   "source": [
    "With this mask, you can extract values that correspong to `True`"
   ]
  },
  {
   "cell_type": "code",
   "execution_count": null,
   "id": "177672f3-048a-4768-bd62-731042fbeb76",
   "metadata": {},
   "outputs": [
    {
     "data": {
      "text/plain": [
       "array([3, 4, 5, 6, 7, 8, 9])"
      ]
     },
     "execution_count": 5,
     "metadata": {},
     "output_type": "execute_result"
    }
   ],
   "source": [
    "array_masked = array_original[mask]\n",
    "array_masked"
   ]
  },
  {
   "cell_type": "markdown",
   "id": "8d9fe3cd-c271-4324-82ae-9c1f4bb54a3a",
   "metadata": {
    "tags": []
   },
   "source": [
    "### Array shape manipulation"
   ]
  },
  {
   "cell_type": "markdown",
   "id": "8310dbf7-9d41-4213-b067-a7df0a327191",
   "metadata": {},
   "source": [
    "**Flattening**"
   ]
  },
  {
   "cell_type": "code",
   "execution_count": null,
   "id": "4d314bbf-2f4d-495b-b605-680e0112cf7b",
   "metadata": {},
   "outputs": [],
   "source": [
    "a = np.array([[1, 2, 3], [4, 5, 6]])\n",
    "a"
   ]
  },
  {
   "cell_type": "code",
   "execution_count": null,
   "id": "88cf1247-0ca9-4a6c-a6ae-61fd75a7f49e",
   "metadata": {},
   "outputs": [],
   "source": [
    "b = a.ravel()\n",
    "b"
   ]
  },
  {
   "cell_type": "markdown",
   "id": "c333eda4-2016-487d-85e2-d7d91971d6a2",
   "metadata": {},
   "source": [
    "**Reshaping**"
   ]
  },
  {
   "cell_type": "code",
   "execution_count": null,
   "id": "46796066-89d1-4a68-9821-7a6937c565c6",
   "metadata": {},
   "outputs": [],
   "source": [
    "b.reshape(3,2)"
   ]
  },
  {
   "cell_type": "markdown",
   "id": "a0ed6102-fa4e-4f26-bf93-35a90b9b9197",
   "metadata": {},
   "source": [
    "`-1` can be used to infer the last value"
   ]
  },
  {
   "cell_type": "code",
   "execution_count": null,
   "id": "581093ff-06cd-4623-b5c9-8c5f8e98294d",
   "metadata": {},
   "outputs": [],
   "source": [
    "b.reshape(2,-1)"
   ]
  },
  {
   "cell_type": "markdown",
   "id": "e07d0d9b-ed62-482e-963a-ab719facb04d",
   "metadata": {},
   "source": [
    "**Adding a dimension**"
   ]
  },
  {
   "cell_type": "code",
   "execution_count": null,
   "id": "f6621493-c1e5-46cc-b7fd-226c3f6a932e",
   "metadata": {},
   "outputs": [],
   "source": [
    "a = np.array([1, 2, 3])\n",
    "a"
   ]
  },
  {
   "cell_type": "code",
   "execution_count": null,
   "id": "cc77afdc-49c6-4dfa-88f0-61ec9adb6515",
   "metadata": {},
   "outputs": [],
   "source": [
    "a[:, np.newaxis]"
   ]
  },
  {
   "cell_type": "code",
   "execution_count": null,
   "id": "0799e856-7f0b-409e-a1fa-840e37903610",
   "metadata": {},
   "outputs": [],
   "source": [
    "a[np.newaxis, :]"
   ]
  },
  {
   "cell_type": "markdown",
   "id": "779efd88-7d46-4a00-94cf-901d3b2f241c",
   "metadata": {
    "tags": []
   },
   "source": [
    "### NumPy with data files"
   ]
  },
  {
   "cell_type": "markdown",
   "id": "415e5d3c-d6ec-4279-93df-62a8b48075d8",
   "metadata": {},
   "source": [
    "**CSV files**"
   ]
  },
  {
   "cell_type": "code",
   "execution_count": null,
   "id": "1f61914e-38bb-4ba9-a658-d8a92b08def3",
   "metadata": {},
   "outputs": [],
   "source": [
    "data = np.genfromtxt(\"data.csv\", delimiter=\",\", skip_header=1)\n",
    "data"
   ]
  },
  {
   "cell_type": "code",
   "execution_count": null,
   "id": "5f04fba3-859c-43b5-bbe7-1ba7c7d5eaae",
   "metadata": {},
   "outputs": [],
   "source": [
    "type(data)"
   ]
  },
  {
   "cell_type": "markdown",
   "id": "dcaaac7d-a92d-40ac-93a0-212f5f5cb23e",
   "metadata": {},
   "source": [
    "**Text files**"
   ]
  },
  {
   "cell_type": "markdown",
   "id": "9d6a9154-faef-401f-a016-42798f833c51",
   "metadata": {},
   "source": [
    "You can write a NumPy array to file"
   ]
  },
  {
   "cell_type": "code",
   "execution_count": null,
   "id": "49f33ead-896f-4b63-9d4f-0c58b69a8791",
   "metadata": {},
   "outputs": [],
   "source": [
    "np.savetxt(\"data_saved.txt\", data)"
   ]
  },
  {
   "cell_type": "markdown",
   "id": "9f47fbc7-42d5-4ee4-9410-3a6a6229de23",
   "metadata": {},
   "source": [
    "And load it using the `np.loadtxt()` function"
   ]
  },
  {
   "cell_type": "code",
   "execution_count": null,
   "id": "acb43c04-3ac8-4ed9-8a67-50725e8773d5",
   "metadata": {},
   "outputs": [],
   "source": [
    "data = np.loadtxt(\"data_saved.txt\")\n",
    "data"
   ]
  },
  {
   "cell_type": "markdown",
   "id": "c35f8a00-a10c-4762-b8ff-094149a23ec1",
   "metadata": {},
   "source": [
    "But the `np.genfromtxt()` function is generally a better option, as it lets's you specify `dtype`, `delimiter`, `skip_header`, `usecols`, `missing_values`, etc."
   ]
  },
  {
   "cell_type": "code",
   "execution_count": null,
   "id": "b93f5ef8-9893-441f-b041-7c567298afab",
   "metadata": {},
   "outputs": [],
   "source": [
    "data = np.genfromtxt(\"data.txt\", skip_header=1)\n",
    "data"
   ]
  },
  {
   "cell_type": "markdown",
   "id": "8dca786b-ef9b-47dc-b667-c60f354e32c9",
   "metadata": {},
   "source": [
    "**NumPy's own format**\n",
    "\n",
    "NumPy has its own binary format, not portable but with efficient I/O:"
   ]
  },
  {
   "cell_type": "code",
   "execution_count": null,
   "id": "135bedb2-4036-4f40-ae4b-6cb4601c7c42",
   "metadata": {},
   "outputs": [],
   "source": [
    "np.save(\"data_saved.npy\", data)"
   ]
  },
  {
   "cell_type": "code",
   "execution_count": null,
   "id": "f73eb523-c22c-409f-ab72-3faa06c41401",
   "metadata": {},
   "outputs": [],
   "source": [
    "data = np.load(\"data_saved.npy\")\n",
    "data"
   ]
  },
  {
   "cell_type": "code",
   "execution_count": null,
   "id": "1ae05b6c-500a-4905-b2e5-4c97fa0221d5",
   "metadata": {},
   "outputs": [],
   "source": []
  }
 ],
 "metadata": {
  "kernelspec": {
   "display_name": "Python 3 (ipykernel)",
   "language": "python",
   "name": "python3"
  },
  "language_info": {
   "codemirror_mode": {
    "name": "ipython",
    "version": 3
   },
   "file_extension": ".py",
   "mimetype": "text/x-python",
   "name": "python",
   "nbconvert_exporter": "python",
   "pygments_lexer": "ipython3",
   "version": "3.9.12"
  }
 },
 "nbformat": 4,
 "nbformat_minor": 5
}
