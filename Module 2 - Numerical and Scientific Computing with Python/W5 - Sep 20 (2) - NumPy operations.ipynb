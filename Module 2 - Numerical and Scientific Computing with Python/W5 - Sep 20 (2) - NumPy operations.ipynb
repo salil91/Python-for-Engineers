{
 "cells": [
  {
   "cell_type": "markdown",
   "id": "934efadc-92f6-42bc-8de5-241225b5c750",
   "metadata": {},
   "source": [
    "# W5 - September 20 - NumPy: Operations"
   ]
  },
  {
   "cell_type": "code",
   "execution_count": null,
   "id": "4badb6a2-009d-488a-9ded-571a5eacafff",
   "metadata": {},
   "outputs": [],
   "source": [
    "import numpy as np"
   ]
  },
  {
   "cell_type": "markdown",
   "id": "e3f56ddc-84c0-4db3-9637-6f3552d6a19e",
   "metadata": {
    "tags": []
   },
   "source": [
    "## Elementwise operations"
   ]
  },
  {
   "cell_type": "markdown",
   "id": "ceac873e-d5a4-42de-99da-08f0c4122703",
   "metadata": {
    "tags": []
   },
   "source": [
    "### Basic operations\n",
    "\n",
    "All arithmetic operations are **elementwise**"
   ]
  },
  {
   "cell_type": "code",
   "execution_count": null,
   "id": "667a9e38-f34f-4aaa-90ad-1c0c72917faa",
   "metadata": {},
   "outputs": [],
   "source": [
    "a = np.array([10, 20, 30, 40])\n",
    "# Adding a scalar\n",
    "a + 5"
   ]
  },
  {
   "cell_type": "markdown",
   "id": "1564a1b1-b542-4bc0-9014-0e811afad667",
   "metadata": {},
   "source": [
    "The \"bigger\" data type wins in mixed type operations"
   ]
  },
  {
   "cell_type": "code",
   "execution_count": null,
   "id": "ca168dbe-8863-41f2-976b-2af10dfa2fec",
   "metadata": {},
   "outputs": [],
   "source": [
    "a + 5.5"
   ]
  },
  {
   "cell_type": "code",
   "execution_count": null,
   "id": "de4842ed-f9ed-44e5-bdee-9f445f5bb462",
   "metadata": {},
   "outputs": [],
   "source": [
    "# Multiplying a scalar\n",
    "a*2"
   ]
  },
  {
   "cell_type": "code",
   "execution_count": null,
   "id": "9deccbef-93d6-45eb-b363-a87c2fa9643c",
   "metadata": {},
   "outputs": [],
   "source": [
    "a = np.array([[10., 20.], [30., 40.]])\n",
    "a"
   ]
  },
  {
   "cell_type": "code",
   "execution_count": null,
   "id": "38bcbd42-53ed-4477-8c1a-b66a5b04fb02",
   "metadata": {},
   "outputs": [],
   "source": [
    "b = np.array([[100, 200], [300, 400]])\n",
    "b"
   ]
  },
  {
   "cell_type": "code",
   "execution_count": null,
   "id": "5b4820ce-9419-4ece-b941-b1ba7a2e1949",
   "metadata": {},
   "outputs": [],
   "source": [
    "# Adding two arrays\n",
    "a + b"
   ]
  },
  {
   "cell_type": "code",
   "execution_count": null,
   "id": "86ad48d9-e1dc-4fea-92fb-7d915d6b717f",
   "metadata": {},
   "outputs": [],
   "source": [
    "# Multiplying two arrays. NOT matrix multiplication\n",
    "a*b"
   ]
  },
  {
   "cell_type": "markdown",
   "id": "75852484-3c0b-4d79-9f63-2d1535023f7a",
   "metadata": {},
   "source": [
    "Matrix multiplication can be done with the `dot()` function"
   ]
  },
  {
   "cell_type": "code",
   "execution_count": null,
   "id": "939d93fd-08aa-4fe6-a9bb-6212a34f83ea",
   "metadata": {},
   "outputs": [],
   "source": [
    "a.dot(b)"
   ]
  },
  {
   "cell_type": "markdown",
   "id": "dc0192c4-8fe9-4c72-9a9b-1c383e16626e",
   "metadata": {},
   "source": [
    "You can easily perform multiple operations"
   ]
  },
  {
   "cell_type": "code",
   "execution_count": null,
   "id": "d9f28c49-4892-4d7c-98ab-e7ed8d9e6222",
   "metadata": {},
   "outputs": [],
   "source": [
    "5*a - 3*b + 70"
   ]
  },
  {
   "cell_type": "markdown",
   "id": "0f28ec72-f9b1-4287-a8d5-b9cb8e7e7062",
   "metadata": {},
   "source": [
    "**These operations are much faster than doing them in pure python**"
   ]
  },
  {
   "cell_type": "code",
   "execution_count": null,
   "id": "8e1a2b09-6b58-457b-9b34-1283aa43e825",
   "metadata": {},
   "outputs": [],
   "source": [
    "a = np.arange(10000)"
   ]
  },
  {
   "cell_type": "code",
   "execution_count": null,
   "id": "e7aedc65-0cc4-4870-affb-dbbc96630e5d",
   "metadata": {},
   "outputs": [],
   "source": [
    "%%time # Magic function to calculate time of an operation\n",
    "a + 1"
   ]
  },
  {
   "cell_type": "code",
   "execution_count": null,
   "id": "00204d91-b495-4efd-b199-286fd71c583d",
   "metadata": {},
   "outputs": [],
   "source": [
    "l = range(10000)"
   ]
  },
  {
   "cell_type": "code",
   "execution_count": null,
   "id": "90502e20-a8ea-4620-8b7e-a62c4e5c7353",
   "metadata": {},
   "outputs": [],
   "source": [
    "%%timeit\n",
    "[i+1 for i in l]"
   ]
  },
  {
   "cell_type": "markdown",
   "id": "0c4f951b-a657-42bf-989e-623d20c9c01a",
   "metadata": {},
   "source": [
    "`%time` executes the statement once, `%timeit` executes multiple times for a better benchmark.\n",
    "\n",
    "`%%` magic functions execute the whole cell block."
   ]
  },
  {
   "cell_type": "markdown",
   "id": "345fde87-6f3b-490f-b3b7-1b811348b736",
   "metadata": {
    "tags": []
   },
   "source": [
    "### Other operations"
   ]
  },
  {
   "cell_type": "markdown",
   "id": "ae047d20-7aef-4b88-9d51-6a147325419b",
   "metadata": {
    "tags": []
   },
   "source": [
    "#### Comparisons"
   ]
  },
  {
   "cell_type": "markdown",
   "id": "14001357-e5cd-4863-982d-fc4599a2566a",
   "metadata": {},
   "source": [
    "**Elementwise comparisons:**"
   ]
  },
  {
   "cell_type": "code",
   "execution_count": null,
   "id": "fb3c40ca-a8a0-43f2-8efd-f2923dca748c",
   "metadata": {},
   "outputs": [],
   "source": [
    "a = np.array([10, 20, 30])\n",
    "b = np.array([1, 20, 300])\n",
    "a == b"
   ]
  },
  {
   "cell_type": "code",
   "execution_count": null,
   "id": "57ce95ef-a91e-43a6-ae26-4ee074254c0d",
   "metadata": {},
   "outputs": [],
   "source": [
    "np.equal(a, b)"
   ]
  },
  {
   "cell_type": "code",
   "execution_count": null,
   "id": "d098d929-6c46-4e2d-b5f0-1e3e0fd7e91a",
   "metadata": {},
   "outputs": [],
   "source": [
    "a < b"
   ]
  },
  {
   "cell_type": "markdown",
   "id": "f29d8fd5-25d0-4ffd-9c77-6002f6562312",
   "metadata": {},
   "source": [
    "**To compare entire arrays:**"
   ]
  },
  {
   "cell_type": "code",
   "execution_count": null,
   "id": "bf3397a6-0f2b-4d78-a396-697546a43c0a",
   "metadata": {},
   "outputs": [],
   "source": [
    "c = ([10, 20, 30])\n",
    "np.array_equal(a, c)"
   ]
  },
  {
   "cell_type": "code",
   "execution_count": null,
   "id": "c8d33dcc-239a-4cb5-8c21-f392242f0319",
   "metadata": {},
   "outputs": [],
   "source": [
    "np.array_equal(a, b)"
   ]
  },
  {
   "cell_type": "markdown",
   "id": "4378ce9a-077f-4f32-afb6-82f0bb1a1711",
   "metadata": {
    "tags": []
   },
   "source": [
    "#### Logical operations"
   ]
  },
  {
   "cell_type": "code",
   "execution_count": null,
   "id": "1007140e-7fa7-409f-ad50-cc8af0a3ac02",
   "metadata": {},
   "outputs": [],
   "source": [
    "a = np.array([1, 1, 0, 0], dtype=bool)\n",
    "b = np.array([1, 0, 1, 0], dtype=bool)\n",
    "np.logical_or(a, b)"
   ]
  },
  {
   "cell_type": "code",
   "execution_count": null,
   "id": "28ad816b-742b-450d-ae41-6ff742b9086f",
   "metadata": {},
   "outputs": [],
   "source": [
    "np.logical_and(a, b)"
   ]
  },
  {
   "cell_type": "markdown",
   "id": "6453bf41-00b5-461f-ad7c-5a571abfd4b3",
   "metadata": {
    "tags": []
   },
   "source": [
    "#### Transcendental functions"
   ]
  },
  {
   "cell_type": "code",
   "execution_count": null,
   "id": "e8ea078d-9d85-4dc5-9243-4f1acdc17a66",
   "metadata": {},
   "outputs": [],
   "source": [
    "angles = np.arange(5)\n",
    "np.sin(angles)"
   ]
  },
  {
   "cell_type": "code",
   "execution_count": null,
   "id": "67b45582-f020-4ea6-a30c-2e7e7bb01fa7",
   "metadata": {},
   "outputs": [],
   "source": [
    "np.exp(angles)"
   ]
  },
  {
   "cell_type": "markdown",
   "id": "3a62184d-dba1-4c00-b66c-5bbbf7b7b2e6",
   "metadata": {
    "tags": []
   },
   "source": [
    "#### Transpositions"
   ]
  },
  {
   "cell_type": "code",
   "execution_count": null,
   "id": "b47d1141-ffc4-4472-8e5e-3c5b98e7ac9d",
   "metadata": {},
   "outputs": [],
   "source": [
    "matrix = np.triu(np.ones((3, 3)), 1)   # see help(np.triu)\n",
    "matrix"
   ]
  },
  {
   "cell_type": "code",
   "execution_count": null,
   "id": "a5c260c8-e69b-49b8-bf08-feb1198f6579",
   "metadata": {},
   "outputs": [],
   "source": [
    "matrix.T"
   ]
  },
  {
   "cell_type": "markdown",
   "id": "f2cde14c-f04b-4e5b-b67c-2e11c1a843bb",
   "metadata": {
    "tags": []
   },
   "source": [
    "#### Sorting"
   ]
  },
  {
   "cell_type": "code",
   "execution_count": null,
   "id": "4069bf38-d26b-443e-82f7-da2dd49e79e6",
   "metadata": {},
   "outputs": [],
   "source": [
    "a = (np.random.rand(3,4)*100).astype(int)\n",
    "a"
   ]
  },
  {
   "cell_type": "markdown",
   "id": "f4442e88-5974-4c4f-a999-466d175b27bf",
   "metadata": {},
   "source": [
    "The default is sorting along the last axis, but it's generally better to specify."
   ]
  },
  {
   "cell_type": "code",
   "execution_count": null,
   "id": "59dd19d1-3f82-4639-b601-52b549703b26",
   "metadata": {},
   "outputs": [],
   "source": [
    "# Sort by Column\n",
    "np.sort(a, axis=0)"
   ]
  },
  {
   "cell_type": "code",
   "execution_count": null,
   "id": "3282ab30-e927-4215-89bb-96458960533a",
   "metadata": {},
   "outputs": [],
   "source": [
    "# Sort by Row\n",
    "np.sort(a, axis=1)"
   ]
  },
  {
   "cell_type": "code",
   "execution_count": null,
   "id": "e30839a9-d4e8-43fd-9abf-661d7122dff1",
   "metadata": {},
   "outputs": [],
   "source": [
    "np.sort(a)"
   ]
  },
  {
   "cell_type": "markdown",
   "id": "657d25f8-23a3-4fbc-bf05-136f4ec13a84",
   "metadata": {},
   "source": [
    "Sorting can also be done in-place"
   ]
  },
  {
   "cell_type": "code",
   "execution_count": null,
   "id": "40cfd7b3-233e-4195-b316-cf403367bd3b",
   "metadata": {},
   "outputs": [],
   "source": [
    "a"
   ]
  },
  {
   "cell_type": "code",
   "execution_count": null,
   "id": "07787b2c-d397-4d90-8bd3-0422845ccf5d",
   "metadata": {},
   "outputs": [],
   "source": [
    "a.sort(axis=0)\n",
    "a"
   ]
  },
  {
   "cell_type": "markdown",
   "id": "4f05ecdf-0fa7-40d6-950b-81add06a8635",
   "metadata": {
    "tags": []
   },
   "source": [
    "## Reductions"
   ]
  },
  {
   "cell_type": "code",
   "execution_count": null,
   "id": "0bbd4bc7-715d-451b-84d9-63b180ddeac9",
   "metadata": {},
   "outputs": [],
   "source": [
    "a = np.array([1, 2, 3, 4])\n",
    "np.sum(a)"
   ]
  },
  {
   "cell_type": "code",
   "execution_count": null,
   "id": "6f30a3fc-ef6c-4be1-ac73-f92262da6664",
   "metadata": {},
   "outputs": [],
   "source": [
    "a.sum()"
   ]
  },
  {
   "cell_type": "code",
   "execution_count": null,
   "id": "27d7fe4b-73df-47f2-a723-367b6a1047bc",
   "metadata": {},
   "outputs": [],
   "source": [
    "a = np.array([[1, 5], [30, 40]])\n",
    "a"
   ]
  },
  {
   "cell_type": "markdown",
   "id": "bcc72a86-bbf7-41e2-b46f-f829d80ae70a",
   "metadata": {},
   "source": [
    "By rows and columns"
   ]
  },
  {
   "cell_type": "code",
   "execution_count": null,
   "id": "9fe12f85-ce18-4b38-a844-578b1599eded",
   "metadata": {},
   "outputs": [],
   "source": [
    "a.sum(axis=0) # columns (first dimension)"
   ]
  },
  {
   "cell_type": "markdown",
   "id": "f7cdb0e8-8234-4cfb-951a-093cf9bcad68",
   "metadata": {},
   "source": [
    "A more familiar form may be:"
   ]
  },
  {
   "cell_type": "code",
   "execution_count": null,
   "id": "86462f7b-54e0-485c-8c2a-be0ca3f93e4e",
   "metadata": {},
   "outputs": [],
   "source": [
    "a[:, 0].sum(), a[:, 1].sum()"
   ]
  },
  {
   "cell_type": "code",
   "execution_count": null,
   "id": "410d04d7-6487-4359-98a6-77d2f61b390c",
   "metadata": {},
   "outputs": [],
   "source": [
    "a.sum(axis=1) # rows (second dimension)"
   ]
  },
  {
   "cell_type": "code",
   "execution_count": null,
   "id": "4036310b-cd37-4fbc-a2d9-bb248f6f7a5a",
   "metadata": {},
   "outputs": [],
   "source": [
    "a[0, :].sum(), a[1, :].sum()"
   ]
  },
  {
   "cell_type": "markdown",
   "id": "ab8f1876-f25d-4159-a40e-049f24a19b8d",
   "metadata": {},
   "source": [
    "**Some other reductions that work the same way**\n",
    "\n",
    "You can add `axis=` to any of these"
   ]
  },
  {
   "cell_type": "code",
   "execution_count": null,
   "id": "e116b365-6f0d-446b-8804-ea3b69744830",
   "metadata": {},
   "outputs": [],
   "source": [
    "a.min()"
   ]
  },
  {
   "cell_type": "code",
   "execution_count": null,
   "id": "683451bb-01af-4cf2-8a88-f0ee9d94d26b",
   "metadata": {},
   "outputs": [],
   "source": [
    "a.max()"
   ]
  },
  {
   "cell_type": "code",
   "execution_count": null,
   "id": "0e90bb99-a2e9-422d-af5d-e03618f35660",
   "metadata": {},
   "outputs": [],
   "source": [
    "a.mean()"
   ]
  },
  {
   "cell_type": "code",
   "execution_count": null,
   "id": "5c00f3fe-6f5c-4157-9745-a4bbba0c707c",
   "metadata": {},
   "outputs": [],
   "source": [
    "a.std()"
   ]
  },
  {
   "cell_type": "markdown",
   "id": "1c6ce7d2-54cc-4a8f-913e-6fca62ce542d",
   "metadata": {},
   "source": [
    "However, calculating the median requires calling the `np.median()` function"
   ]
  },
  {
   "cell_type": "code",
   "execution_count": null,
   "id": "d89e5bfc-71d1-4521-bda2-9db23e50f7a7",
   "metadata": {},
   "outputs": [],
   "source": [
    "np.median(a)"
   ]
  },
  {
   "cell_type": "markdown",
   "id": "67923a84-798c-469a-a02f-6e555bfce22d",
   "metadata": {},
   "source": [
    "**Logical reductions**"
   ]
  },
  {
   "cell_type": "code",
   "execution_count": null,
   "id": "b497e7fc-8b85-4cfc-a483-5a5241a1048e",
   "metadata": {},
   "outputs": [],
   "source": [
    "a = np.array([1, 1, 0, 0], dtype=bool)\n",
    "np.all(a)"
   ]
  },
  {
   "cell_type": "code",
   "execution_count": null,
   "id": "8102fb86-71c2-4b2a-95af-bfca60bcd226",
   "metadata": {},
   "outputs": [],
   "source": [
    "np.any(a)"
   ]
  },
  {
   "cell_type": "markdown",
   "id": "3b6519b4-d548-4b28-9305-d6e0c6adca9e",
   "metadata": {},
   "source": [
    "Operations can be included too"
   ]
  },
  {
   "cell_type": "code",
   "execution_count": null,
   "id": "ca1e6e13-5bda-42bb-943f-6459892ae170",
   "metadata": {},
   "outputs": [],
   "source": [
    "np.any(a != 0)"
   ]
  },
  {
   "cell_type": "code",
   "execution_count": null,
   "id": "4b5dbd18-6368-4e49-99c9-540a274edc77",
   "metadata": {},
   "outputs": [],
   "source": [
    "a = np.ones(5)\n",
    "np.all(a == a)"
   ]
  },
  {
   "cell_type": "markdown",
   "id": "4bd84300-cdca-439b-b67e-2c0fe0fba815",
   "metadata": {
    "tags": []
   },
   "source": [
    "## Broadcasting\n",
    "\n",
    "We've seen that most basic operations are elementwise, and works on arrays of the same size.\n",
    "\n",
    "But what if we have arrays of different sizes? NumPy can transform these arrays so that they all have the same size through **broadcasting**.\n",
    "\n",
    "While we're doing this, let's also look at the `np.tile(A, reps)` function."
   ]
  },
  {
   "cell_type": "code",
   "execution_count": null,
   "id": "9624b219-3b20-41b5-8e03-bf0b732b89fe",
   "metadata": {},
   "outputs": [],
   "source": [
    "np.arange(0, 40, 10)"
   ]
  },
  {
   "cell_type": "markdown",
   "id": "a41a416c-cdb2-4eb3-931c-8c3b3c02eead",
   "metadata": {},
   "source": [
    "`np.tile()` in 1D"
   ]
  },
  {
   "cell_type": "code",
   "execution_count": null,
   "id": "8d062ccc-3f9e-472d-816c-0dc21f657a8b",
   "metadata": {},
   "outputs": [],
   "source": [
    "np.tile(np.arange(0, 40, 10), 3)"
   ]
  },
  {
   "cell_type": "markdown",
   "id": "c4a41019-1fb3-4098-b4b5-96fbb68dbadb",
   "metadata": {},
   "source": [
    "`np.tile()` in 2D"
   ]
  },
  {
   "cell_type": "code",
   "execution_count": null,
   "id": "6d176d81-40dc-442d-908a-a10b0a7c268e",
   "metadata": {},
   "outputs": [],
   "source": [
    "np.tile(np.arange(0, 40, 10), (3,2))"
   ]
  },
  {
   "cell_type": "markdown",
   "id": "556a0293-edd0-47e9-b3ac-36c6e234c213",
   "metadata": {},
   "source": [
    "Let's transpose the array above, and call it `a`"
   ]
  },
  {
   "cell_type": "code",
   "execution_count": null,
   "id": "432a4714-aa03-4a43-9b97-55510ade5043",
   "metadata": {},
   "outputs": [],
   "source": [
    "a = np.tile(np.arange(0, 40, 10), (3,2)).T\n",
    "a"
   ]
  },
  {
   "cell_type": "code",
   "execution_count": null,
   "id": "3f9dff74-54e3-4e48-b532-f406347d2957",
   "metadata": {},
   "outputs": [],
   "source": [
    "b = np.array([3, 6, 9])\n",
    "b"
   ]
  },
  {
   "cell_type": "code",
   "execution_count": null,
   "id": "d5b1e87b-8ec5-41a8-8fff-ac0a1c404d00",
   "metadata": {},
   "outputs": [],
   "source": [
    "a + b"
   ]
  },
  {
   "cell_type": "markdown",
   "id": "11543657-83de-4090-b5b0-0962c0f8c9e5",
   "metadata": {},
   "source": [
    "![broadcasting](https://scipy-lectures.org/_images/numpy_broadcasting.png)"
   ]
  },
  {
   "cell_type": "markdown",
   "id": "e71f3e1b-1534-49ad-89ce-a6c7ebb51ab4",
   "metadata": {},
   "source": [
    "An example with two 1D arrays"
   ]
  },
  {
   "cell_type": "code",
   "execution_count": null,
   "id": "7c7f8f6a-c040-466a-8918-b3ae6d74502d",
   "metadata": {},
   "outputs": [],
   "source": [
    "a = np.arange(10, 60, 10)\n",
    "a"
   ]
  },
  {
   "cell_type": "code",
   "execution_count": null,
   "id": "babc808b-5e7e-4d8b-a8cc-c5cb55ac892c",
   "metadata": {},
   "outputs": [],
   "source": [
    "a.shape"
   ]
  },
  {
   "cell_type": "markdown",
   "id": "997624ac-79d2-4de0-8b27-3b9f084178a8",
   "metadata": {},
   "source": [
    "Let's use `np.newaxis` to transform it into a 2D array"
   ]
  },
  {
   "cell_type": "code",
   "execution_count": null,
   "id": "980c3a07-e1e8-4d63-8a9c-f48fee28eb24",
   "metadata": {},
   "outputs": [],
   "source": [
    "a = a[:, np.newaxis]\n",
    "a"
   ]
  },
  {
   "cell_type": "code",
   "execution_count": null,
   "id": "949a6d77-5a92-4960-afdd-86c7641cc12b",
   "metadata": {},
   "outputs": [],
   "source": [
    "a.shape"
   ]
  },
  {
   "cell_type": "code",
   "execution_count": null,
   "id": "2c400161-c0a0-4bff-a047-6482052f96cb",
   "metadata": {},
   "outputs": [],
   "source": [
    "b = np.arange(1, 6)\n",
    "b"
   ]
  },
  {
   "cell_type": "code",
   "execution_count": null,
   "id": "bf38f8df-8126-4d2b-bff2-b73d878745dc",
   "metadata": {},
   "outputs": [],
   "source": [
    "a + b"
   ]
  },
  {
   "cell_type": "markdown",
   "id": "4016247d-c8ff-4d3b-a14a-505d2155acc5",
   "metadata": {
    "tags": []
   },
   "source": [
    "## Polynomials"
   ]
  },
  {
   "cell_type": "markdown",
   "id": "6e65f930-9ff2-43a0-a9f8-c1eabbf1ecc4",
   "metadata": {},
   "source": [
    "$7x^2 + 4x - 9$"
   ]
  },
  {
   "cell_type": "code",
   "execution_count": null,
   "id": "fdcc2d44-7312-4995-b597-c2add39f097a",
   "metadata": {},
   "outputs": [],
   "source": [
    "p = np.poly1d([7, 4, -9])\n",
    "p"
   ]
  },
  {
   "cell_type": "markdown",
   "id": "75fbc6f5-e626-416a-ae60-5111183e72c1",
   "metadata": {},
   "source": [
    "To substitute $x=1$"
   ]
  },
  {
   "cell_type": "code",
   "execution_count": null,
   "id": "5e2aa44a-dc4f-497c-b34d-eabead8be31b",
   "metadata": {},
   "outputs": [],
   "source": [
    "p(1)"
   ]
  },
  {
   "cell_type": "markdown",
   "id": "d43fa9ea-6533-433e-bfc1-b5a80571a90d",
   "metadata": {},
   "source": [
    "To obtain the roots"
   ]
  },
  {
   "cell_type": "code",
   "execution_count": null,
   "id": "d909329f-b0ec-4b07-8a4d-4b25ba966dcc",
   "metadata": {},
   "outputs": [],
   "source": [
    "p.roots"
   ]
  },
  {
   "cell_type": "markdown",
   "id": "fee023bc-24f9-41e7-b068-b4c4036fac55",
   "metadata": {},
   "source": [
    "and the order"
   ]
  },
  {
   "cell_type": "code",
   "execution_count": null,
   "id": "a2e6b8c5-2ac5-4317-9393-ce2aaef42679",
   "metadata": {},
   "outputs": [],
   "source": [
    "p.order"
   ]
  },
  {
   "cell_type": "markdown",
   "id": "228d7d71-f0e7-4dcb-b918-c2410142e6c0",
   "metadata": {},
   "source": [
    "We will look at polynomials in more detail at a later date"
   ]
  }
 ],
 "metadata": {
  "kernelspec": {
   "display_name": "Python 3 (ipykernel)",
   "language": "python",
   "name": "python3"
  },
  "language_info": {
   "codemirror_mode": {
    "name": "ipython",
    "version": 3
   },
   "file_extension": ".py",
   "mimetype": "text/x-python",
   "name": "python",
   "nbconvert_exporter": "python",
   "pygments_lexer": "ipython3",
   "version": "3.9.12"
  }
 },
 "nbformat": 4,
 "nbformat_minor": 5
}
