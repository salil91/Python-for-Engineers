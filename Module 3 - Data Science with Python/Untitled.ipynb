{
 "cells": [
  {
   "cell_type": "code",
   "execution_count": 1,
   "id": "32b91ef0-53b0-4926-9f11-c32ace403290",
   "metadata": {},
   "outputs": [],
   "source": [
    "# Comments are to explain code, not write paragraphs"
   ]
  },
  {
   "cell_type": "code",
   "execution_count": null,
   "id": "b00fdeb0-ac56-457f-a506-59935aab4aa6",
   "metadata": {},
   "outputs": [],
   "source": []
  },
  {
   "cell_type": "code",
   "execution_count": null,
   "id": "39a996d6-a75f-4c44-bb09-bb9bb3efd722",
   "metadata": {},
   "outputs": [],
   "source": []
  },
  {
   "cell_type": "code",
   "execution_count": 2,
   "id": "e8e9db1e-b0c4-4e55-afd6-3eea5f5004fe",
   "metadata": {},
   "outputs": [
    {
     "name": "stdout",
     "output_type": "stream",
     "text": [
      "print statements are also a bad idea for this\n"
     ]
    }
   ],
   "source": [
    "print(\"print statements are also a bad idea for this\")"
   ]
  },
  {
   "cell_type": "code",
   "execution_count": null,
   "id": "f0cdd8a6-89c9-4f11-81c8-6e8153ffe56e",
   "metadata": {},
   "outputs": [],
   "source": []
  },
  {
   "cell_type": "code",
   "execution_count": null,
   "id": "7ded3d79-dcb2-423a-b228-974bc6f2a02b",
   "metadata": {},
   "outputs": [],
   "source": []
  },
  {
   "cell_type": "code",
   "execution_count": null,
   "id": "fb61a87e-0406-4dbc-a0bd-fd6b4f551216",
   "metadata": {},
   "outputs": [],
   "source": []
  },
  {
   "cell_type": "code",
   "execution_count": null,
   "id": "9b668c1e-74e0-4233-a5f1-db0e6f8a160c",
   "metadata": {},
   "outputs": [],
   "source": []
  },
  {
   "cell_type": "code",
   "execution_count": null,
   "id": "e3d08974-f2f9-4c98-8c2c-97878c5d8c5a",
   "metadata": {},
   "outputs": [],
   "source": []
  },
  {
   "cell_type": "code",
   "execution_count": null,
   "id": "e3cd0d21-803a-426c-ab2d-5374eab7d94b",
   "metadata": {},
   "outputs": [],
   "source": []
  },
  {
   "cell_type": "markdown",
   "id": "a0e3894e-0122-416b-8f5f-d2a4a7aec70e",
   "metadata": {},
   "source": [
    "Just use a Markdown cell!"
   ]
  },
  {
   "cell_type": "markdown",
   "id": "51635732-e528-474f-98c2-ef75ee3e8cde",
   "metadata": {},
   "source": []
  },
  {
   "cell_type": "code",
   "execution_count": null,
   "id": "9bd66edd-7b9d-4373-a179-0c53dfa3075a",
   "metadata": {},
   "outputs": [],
   "source": []
  },
  {
   "cell_type": "code",
   "execution_count": null,
   "id": "ca693255-eb57-4d10-a05c-63e3631c8e40",
   "metadata": {},
   "outputs": [],
   "source": []
  },
  {
   "cell_type": "code",
   "execution_count": null,
   "id": "cf0f8c6e-c8b0-4279-a502-45cc4fbf406b",
   "metadata": {},
   "outputs": [],
   "source": []
  },
  {
   "cell_type": "code",
   "execution_count": null,
   "id": "f8e6ddf9-2837-4117-bf07-6122302d3186",
   "metadata": {},
   "outputs": [],
   "source": []
  },
  {
   "cell_type": "code",
   "execution_count": null,
   "id": "4b5fb288-116e-4231-a216-ab635988eeeb",
   "metadata": {},
   "outputs": [],
   "source": []
  },
  {
   "cell_type": "code",
   "execution_count": null,
   "id": "aeffc41a-4b19-48ff-9ef8-929a4965b226",
   "metadata": {},
   "outputs": [],
   "source": []
  },
  {
   "cell_type": "code",
   "execution_count": null,
   "id": "6dd7e667-4594-4754-aa1b-181cb73be33f",
   "metadata": {},
   "outputs": [],
   "source": []
  }
 ],
 "metadata": {
  "kernelspec": {
   "display_name": "Python 3 (ipykernel)",
   "language": "python",
   "name": "python3"
  },
  "language_info": {
   "codemirror_mode": {
    "name": "ipython",
    "version": 3
   },
   "file_extension": ".py",
   "mimetype": "text/x-python",
   "name": "python",
   "nbconvert_exporter": "python",
   "pygments_lexer": "ipython3",
   "version": "3.9.12"
  }
 },
 "nbformat": 4,
 "nbformat_minor": 5
}
