{
 "cells": [
  {
   "cell_type": "markdown",
   "id": "64c992e8-ce79-4544-bf59-cea68420dc32",
   "metadata": {
    "pycharm": {
     "name": "#%% md\n"
    }
   },
   "source": [
    "# Solutions for Homework 5 - Statistics and Pandas\n",
    "**Due: Nov 9** \n",
    "\n",
    "***Total Points: 100***\n",
    "\n",
    "For full points, your code\n",
    "- must run without errors\n",
    "- must by *pythonic*\n",
    "- must be easily understandable, and well documented (either through inline comments or markdown).\n",
    "- All plots must have clearly and meaningfully labeled axes, unless you are simply plotting arbitrary numbers. Add legends where needed.\n",
    "- **Use separate markdown cells for any text answers.**\n",
    "- **Show your work, i.e, print all relevant output.** Remember that having a variable in the last line of a jupyter cell block automatically prints it's value. You can use multiple code blocks for a single question.\n",
    "- ***Please see the solutions (and related notes) for the previous HWs, as well as the comments on your submissions, before submitting this assignment. We will be less lenient for repeated mistakes.***\n",
    "\n",
    "Remember to export your Jupyter notebook as a PDF file and upload both to Canvas.\n",
    "```\n",
    "File > Save and Export Notebook As... > PDF\n",
    "```\n",
    "\n",
    "Run every code block (and make sure the answer if fully visible) before submitting your notebook/PDF."
   ]
  },
  {
   "cell_type": "markdown",
   "id": "04e72583-fbcf-44a1-942d-dd95e5d9b9da",
   "metadata": {
    "pycharm": {
     "name": "#%% md\n"
    }
   },
   "source": [
    "## Question 0\n",
    "\n",
    "Import `matplotlib`, `numpy`, `pandas`, and `seaborn` here. You can import the required `scipy` and `statsmodels` modules when you need them."
   ]
  },
  {
   "cell_type": "code",
   "execution_count": 1,
   "id": "0e9655bf-603a-4a7d-a6bc-97889f9f7eb0",
   "metadata": {
    "pycharm": {
     "name": "#%%\n"
    }
   },
   "outputs": [],
   "source": [
    "import matplotlib.pyplot as plt\n",
    "import numpy as np\n",
    "import pandas as pd\n",
    "import seaborn as sns"
   ]
  },
  {
   "cell_type": "markdown",
   "id": "6e1c7eb1-af18-4104-9927-4b98a90a9196",
   "metadata": {},
   "source": [
    "Before we get to the questions, let's look at the **`namedtuple`** data type.\n",
    "\n",
    "A `namedtuple` is similar to a `tuple`, but specific items in the `namedtuple` can be accessed as object attributes.\n",
    "\n",
    "See example below:"
   ]
  },
  {
   "cell_type": "code",
   "execution_count": 2,
   "id": "6c867fe7-afec-4171-adea-9da465f518d6",
   "metadata": {},
   "outputs": [
    {
     "data": {
      "text/plain": [
       "__main__.Line"
      ]
     },
     "execution_count": 2,
     "metadata": {},
     "output_type": "execute_result"
    }
   ],
   "source": [
    "# Import namedtuple\n",
    "from collections import namedtuple\n",
    "\n",
    "# Create a namedtuple container for a \"Line\", which contains the slope and intercept\n",
    "Line = namedtuple('Line', 'slope intercept')\n",
    "Line"
   ]
  },
  {
   "cell_type": "code",
   "execution_count": 3,
   "id": "669b10b8-97c3-435d-8170-3d9268bbb91a",
   "metadata": {},
   "outputs": [
    {
     "name": "stdout",
     "output_type": "stream",
     "text": [
      "Line(slope=0.7, intercept=4.2)\n",
      "Line(slope=1.3, intercept=3.5)\n"
     ]
    }
   ],
   "source": [
    "# Create two instances of Line\n",
    "line_1 = Line(0.7, 4.2)\n",
    "line_2 = Line(1.3, 3.5)\n",
    "print(line_1)\n",
    "print(line_2)"
   ]
  },
  {
   "cell_type": "code",
   "execution_count": 4,
   "id": "7e922e93-22ce-485e-90da-24579754dfca",
   "metadata": {},
   "outputs": [
    {
     "name": "stdout",
     "output_type": "stream",
     "text": [
      "Line 1: y = 0.7x + 4.2\n",
      "Line 2: y = 1.3x + 3.5\n"
     ]
    }
   ],
   "source": [
    "# Access the slope and intercept as attributes of each instance\n",
    "print(f\"Line 1: y = {line_1.slope}x + {line_1.intercept}\")\n",
    "print(f\"Line 2: y = {line_2.slope}x + {line_2.intercept}\") "
   ]
  },
  {
   "cell_type": "markdown",
   "id": "39a51913-1aae-4770-8390-3255b747f79d",
   "metadata": {},
   "source": [
    "## Question 1: Pandas\n",
    "\n",
    "*25 points*"
   ]
  },
  {
   "cell_type": "markdown",
   "id": "41396ce0-04d6-46cc-8bd4-470d51ee4cb9",
   "metadata": {},
   "source": [
    "### Question 1.1\n",
    "\n",
    "*10 points*\n",
    "\n",
    "- Load the `\"mpg\"` dataset from `seaborn`.\n",
    "- Print the model_year and name for all the vehicles that have an mpg of at least 42.\n",
    "\n",
    "Hint: use `pandas.DataFrame.itertuples()` which returns an iterator of `namedtuple` objects."
   ]
  },
  {
   "cell_type": "code",
   "execution_count": 5,
   "id": "0e50b5b1-a785-4fd4-8d3c-4b711640ef0f",
   "metadata": {},
   "outputs": [
    {
     "data": {
      "text/html": [
       "<div>\n",
       "<style scoped>\n",
       "    .dataframe tbody tr th:only-of-type {\n",
       "        vertical-align: middle;\n",
       "    }\n",
       "\n",
       "    .dataframe tbody tr th {\n",
       "        vertical-align: top;\n",
       "    }\n",
       "\n",
       "    .dataframe thead th {\n",
       "        text-align: right;\n",
       "    }\n",
       "</style>\n",
       "<table border=\"1\" class=\"dataframe\">\n",
       "  <thead>\n",
       "    <tr style=\"text-align: right;\">\n",
       "      <th></th>\n",
       "      <th>mpg</th>\n",
       "      <th>cylinders</th>\n",
       "      <th>displacement</th>\n",
       "      <th>horsepower</th>\n",
       "      <th>weight</th>\n",
       "      <th>acceleration</th>\n",
       "      <th>model_year</th>\n",
       "      <th>origin</th>\n",
       "      <th>name</th>\n",
       "    </tr>\n",
       "  </thead>\n",
       "  <tbody>\n",
       "    <tr>\n",
       "      <th>0</th>\n",
       "      <td>18.0</td>\n",
       "      <td>8</td>\n",
       "      <td>307.0</td>\n",
       "      <td>130.0</td>\n",
       "      <td>3504</td>\n",
       "      <td>12.0</td>\n",
       "      <td>70</td>\n",
       "      <td>usa</td>\n",
       "      <td>chevrolet chevelle malibu</td>\n",
       "    </tr>\n",
       "    <tr>\n",
       "      <th>1</th>\n",
       "      <td>15.0</td>\n",
       "      <td>8</td>\n",
       "      <td>350.0</td>\n",
       "      <td>165.0</td>\n",
       "      <td>3693</td>\n",
       "      <td>11.5</td>\n",
       "      <td>70</td>\n",
       "      <td>usa</td>\n",
       "      <td>buick skylark 320</td>\n",
       "    </tr>\n",
       "    <tr>\n",
       "      <th>2</th>\n",
       "      <td>18.0</td>\n",
       "      <td>8</td>\n",
       "      <td>318.0</td>\n",
       "      <td>150.0</td>\n",
       "      <td>3436</td>\n",
       "      <td>11.0</td>\n",
       "      <td>70</td>\n",
       "      <td>usa</td>\n",
       "      <td>plymouth satellite</td>\n",
       "    </tr>\n",
       "    <tr>\n",
       "      <th>3</th>\n",
       "      <td>16.0</td>\n",
       "      <td>8</td>\n",
       "      <td>304.0</td>\n",
       "      <td>150.0</td>\n",
       "      <td>3433</td>\n",
       "      <td>12.0</td>\n",
       "      <td>70</td>\n",
       "      <td>usa</td>\n",
       "      <td>amc rebel sst</td>\n",
       "    </tr>\n",
       "    <tr>\n",
       "      <th>4</th>\n",
       "      <td>17.0</td>\n",
       "      <td>8</td>\n",
       "      <td>302.0</td>\n",
       "      <td>140.0</td>\n",
       "      <td>3449</td>\n",
       "      <td>10.5</td>\n",
       "      <td>70</td>\n",
       "      <td>usa</td>\n",
       "      <td>ford torino</td>\n",
       "    </tr>\n",
       "  </tbody>\n",
       "</table>\n",
       "</div>"
      ],
      "text/plain": [
       "    mpg  cylinders  displacement  horsepower  weight  acceleration  \\\n",
       "0  18.0          8         307.0       130.0    3504          12.0   \n",
       "1  15.0          8         350.0       165.0    3693          11.5   \n",
       "2  18.0          8         318.0       150.0    3436          11.0   \n",
       "3  16.0          8         304.0       150.0    3433          12.0   \n",
       "4  17.0          8         302.0       140.0    3449          10.5   \n",
       "\n",
       "   model_year origin                       name  \n",
       "0          70    usa  chevrolet chevelle malibu  \n",
       "1          70    usa          buick skylark 320  \n",
       "2          70    usa         plymouth satellite  \n",
       "3          70    usa              amc rebel sst  \n",
       "4          70    usa                ford torino  "
      ]
     },
     "execution_count": 5,
     "metadata": {},
     "output_type": "execute_result"
    }
   ],
   "source": [
    "# Load mpg dataset from seaborn\n",
    "mpg = sns.load_dataset(\"mpg\")\n",
    "mpg.head()"
   ]
  },
  {
   "cell_type": "code",
   "execution_count": 6,
   "id": "1cbe8d72-2859-4b92-a32b-cd6d1f9181f4",
   "metadata": {},
   "outputs": [
    {
     "data": {
      "text/html": [
       "<div>\n",
       "<style scoped>\n",
       "    .dataframe tbody tr th:only-of-type {\n",
       "        vertical-align: middle;\n",
       "    }\n",
       "\n",
       "    .dataframe tbody tr th {\n",
       "        vertical-align: top;\n",
       "    }\n",
       "\n",
       "    .dataframe thead th {\n",
       "        text-align: right;\n",
       "    }\n",
       "</style>\n",
       "<table border=\"1\" class=\"dataframe\">\n",
       "  <thead>\n",
       "    <tr style=\"text-align: right;\">\n",
       "      <th></th>\n",
       "      <th>mpg</th>\n",
       "      <th>cylinders</th>\n",
       "      <th>displacement</th>\n",
       "      <th>horsepower</th>\n",
       "      <th>weight</th>\n",
       "      <th>acceleration</th>\n",
       "      <th>model_year</th>\n",
       "    </tr>\n",
       "  </thead>\n",
       "  <tbody>\n",
       "    <tr>\n",
       "      <th>count</th>\n",
       "      <td>398.000000</td>\n",
       "      <td>398.000000</td>\n",
       "      <td>398.000000</td>\n",
       "      <td>392.000000</td>\n",
       "      <td>398.000000</td>\n",
       "      <td>398.000000</td>\n",
       "      <td>398.000000</td>\n",
       "    </tr>\n",
       "    <tr>\n",
       "      <th>mean</th>\n",
       "      <td>23.514573</td>\n",
       "      <td>5.454774</td>\n",
       "      <td>193.425879</td>\n",
       "      <td>104.469388</td>\n",
       "      <td>2970.424623</td>\n",
       "      <td>15.568090</td>\n",
       "      <td>76.010050</td>\n",
       "    </tr>\n",
       "    <tr>\n",
       "      <th>std</th>\n",
       "      <td>7.815984</td>\n",
       "      <td>1.701004</td>\n",
       "      <td>104.269838</td>\n",
       "      <td>38.491160</td>\n",
       "      <td>846.841774</td>\n",
       "      <td>2.757689</td>\n",
       "      <td>3.697627</td>\n",
       "    </tr>\n",
       "    <tr>\n",
       "      <th>min</th>\n",
       "      <td>9.000000</td>\n",
       "      <td>3.000000</td>\n",
       "      <td>68.000000</td>\n",
       "      <td>46.000000</td>\n",
       "      <td>1613.000000</td>\n",
       "      <td>8.000000</td>\n",
       "      <td>70.000000</td>\n",
       "    </tr>\n",
       "    <tr>\n",
       "      <th>25%</th>\n",
       "      <td>17.500000</td>\n",
       "      <td>4.000000</td>\n",
       "      <td>104.250000</td>\n",
       "      <td>75.000000</td>\n",
       "      <td>2223.750000</td>\n",
       "      <td>13.825000</td>\n",
       "      <td>73.000000</td>\n",
       "    </tr>\n",
       "    <tr>\n",
       "      <th>50%</th>\n",
       "      <td>23.000000</td>\n",
       "      <td>4.000000</td>\n",
       "      <td>148.500000</td>\n",
       "      <td>93.500000</td>\n",
       "      <td>2803.500000</td>\n",
       "      <td>15.500000</td>\n",
       "      <td>76.000000</td>\n",
       "    </tr>\n",
       "    <tr>\n",
       "      <th>75%</th>\n",
       "      <td>29.000000</td>\n",
       "      <td>8.000000</td>\n",
       "      <td>262.000000</td>\n",
       "      <td>126.000000</td>\n",
       "      <td>3608.000000</td>\n",
       "      <td>17.175000</td>\n",
       "      <td>79.000000</td>\n",
       "    </tr>\n",
       "    <tr>\n",
       "      <th>max</th>\n",
       "      <td>46.600000</td>\n",
       "      <td>8.000000</td>\n",
       "      <td>455.000000</td>\n",
       "      <td>230.000000</td>\n",
       "      <td>5140.000000</td>\n",
       "      <td>24.800000</td>\n",
       "      <td>82.000000</td>\n",
       "    </tr>\n",
       "  </tbody>\n",
       "</table>\n",
       "</div>"
      ],
      "text/plain": [
       "              mpg   cylinders  displacement  horsepower       weight  \\\n",
       "count  398.000000  398.000000    398.000000  392.000000   398.000000   \n",
       "mean    23.514573    5.454774    193.425879  104.469388  2970.424623   \n",
       "std      7.815984    1.701004    104.269838   38.491160   846.841774   \n",
       "min      9.000000    3.000000     68.000000   46.000000  1613.000000   \n",
       "25%     17.500000    4.000000    104.250000   75.000000  2223.750000   \n",
       "50%     23.000000    4.000000    148.500000   93.500000  2803.500000   \n",
       "75%     29.000000    8.000000    262.000000  126.000000  3608.000000   \n",
       "max     46.600000    8.000000    455.000000  230.000000  5140.000000   \n",
       "\n",
       "       acceleration  model_year  \n",
       "count    398.000000  398.000000  \n",
       "mean      15.568090   76.010050  \n",
       "std        2.757689    3.697627  \n",
       "min        8.000000   70.000000  \n",
       "25%       13.825000   73.000000  \n",
       "50%       15.500000   76.000000  \n",
       "75%       17.175000   79.000000  \n",
       "max       24.800000   82.000000  "
      ]
     },
     "execution_count": 6,
     "metadata": {},
     "output_type": "execute_result"
    }
   ],
   "source": [
    "mpg.describe()"
   ]
  },
  {
   "cell_type": "code",
   "execution_count": 7,
   "id": "507f7a60-b866-4563-8153-d87af63c31cb",
   "metadata": {},
   "outputs": [
    {
     "name": "stdout",
     "output_type": "stream",
     "text": [
      "Vehicles with an mpg of at least 42:\n",
      "'78 volkswagen rabbit custom diesel\n",
      "'80 mazda glc\n",
      "'80 vw rabbit c (diesel)\n",
      "'80 vw dasher (diesel)\n",
      "'80 honda civic 1500 gl\n",
      "'82 vw pickup\n"
     ]
    }
   ],
   "source": [
    "# Get subset DataFrame for vehicles with mpg >= 42\n",
    "mpg_42 = mpg.copy()[mpg[\"mpg\"] >=42]\n",
    "\n",
    "# Print using itertuples()\n",
    "print(\"Vehicles with an mpg of at least 42:\")\n",
    "for row in mpg_42.itertuples():\n",
    "    print(f\"\\'{row.model_year} {row.name}\")"
   ]
  },
  {
   "cell_type": "markdown",
   "id": "f7e86fe7-07bc-4138-84e9-a688998335e8",
   "metadata": {},
   "source": [
    "### Question 1.2\n",
    "\n",
    "*5 points*\n",
    "\n",
    "Print which vehicle had the lowest and highest mpg for each year. Also print the corresponding values of mpg. Include at least one blank line between model years.\n",
    "\n",
    "Hint: use `pandas.DataFrame.groupby()`"
   ]
  },
  {
   "cell_type": "code",
   "execution_count": 8,
   "id": "63bc33d3-3c33-4b35-9eda-ebe86e4f3fa3",
   "metadata": {},
   "outputs": [
    {
     "name": "stdout",
     "output_type": "stream",
     "text": [
      "Model Year: 70\n",
      "Lowest mpg: 9.0. Vehicle: hi 1200d\n",
      "Highest mpg: 27.0. Vehicle: datsun pl510\n",
      "\n",
      "Model Year: 71\n",
      "Lowest mpg: 12.0. Vehicle: dodge monaco (sw)\n",
      "Highest mpg: 35.0. Vehicle: datsun 1200\n",
      "\n",
      "Model Year: 72\n",
      "Lowest mpg: 11.0. Vehicle: mercury marquis\n",
      "Highest mpg: 28.0. Vehicle: datsun 510 (sw)\n",
      "\n",
      "Model Year: 73\n",
      "Lowest mpg: 11.0. Vehicle: oldsmobile omega\n",
      "Highest mpg: 29.0. Vehicle: fiat 128\n",
      "\n",
      "Model Year: 74\n",
      "Lowest mpg: 13.0. Vehicle: buick century luxus (sw)\n",
      "Highest mpg: 32.0. Vehicle: datsun 710\n",
      "\n",
      "Model Year: 75\n",
      "Lowest mpg: 13.0. Vehicle: ford mustang ii\n",
      "Highest mpg: 33.0. Vehicle: honda civic cvcc\n",
      "\n",
      "Model Year: 76\n",
      "Lowest mpg: 13.0. Vehicle: dodge d100\n",
      "Highest mpg: 33.0. Vehicle: honda civic\n",
      "\n",
      "Model Year: 77\n",
      "Lowest mpg: 15.0. Vehicle: mercury cougar brougham\n",
      "Highest mpg: 36.0. Vehicle: renault 5 gtl\n",
      "\n",
      "Model Year: 78\n",
      "Lowest mpg: 16.2. Vehicle: peugeot 604sl\n",
      "Highest mpg: 43.1. Vehicle: volkswagen rabbit custom diesel\n",
      "\n",
      "Model Year: 79\n",
      "Lowest mpg: 15.5. Vehicle: ford country squire (sw)\n",
      "Highest mpg: 37.3. Vehicle: fiat strada custom\n",
      "\n",
      "Model Year: 80\n",
      "Lowest mpg: 19.1. Vehicle: dodge aspen\n",
      "Highest mpg: 46.6. Vehicle: mazda glc\n",
      "\n",
      "Model Year: 81\n",
      "Lowest mpg: 17.6. Vehicle: chrysler lebaron salon\n",
      "Highest mpg: 39.1. Vehicle: toyota starlet\n",
      "\n",
      "Model Year: 82\n",
      "Lowest mpg: 22.0. Vehicle: ford granada l\n",
      "Highest mpg: 44.0. Vehicle: vw pickup\n",
      "\n"
     ]
    }
   ],
   "source": [
    "# Group DataFrame by model_year\n",
    "for model_year, mpg_year in mpg.groupby(\"model_year\"):\n",
    "    mpg_year.sort_values(by=\"mpg\", inplace=True)\n",
    "    print(f\"Model Year: {model_year}\")\n",
    "    print(f\"Lowest mpg: {mpg_year['mpg'].iloc[0]}. Vehicle: {mpg_year['name'].iloc[0]}\")\n",
    "    print(f\"Highest mpg: {mpg_year['mpg'].iloc[-1]}. Vehicle: {mpg_year['name'].iloc[-1]}\")\n",
    "    print(\"\")"
   ]
  },
  {
   "cell_type": "markdown",
   "id": "2f2f150a-32df-48c2-826e-b71a7cf5be5c",
   "metadata": {
    "pycharm": {
     "name": "#%% md\n"
    },
    "tags": []
   },
   "source": [
    "### Question 1.3\n",
    "*10 points*\n",
    "\n",
    "On a single figure, plot the mean mpg by year for vehicles originating from Europe, Japan and USA (separately). *Use different colored lines for each origin.* Make sure you include a lengend.\n",
    "\n",
    "Hint: use `pandas.DataFrame.groupby()` with `pandas.DataFrame.agg()` which aggregates data using one or more operations over the specified axis."
   ]
  },
  {
   "cell_type": "code",
   "execution_count": 9,
   "id": "972375c4-2d87-42b8-aeb2-ca8f6c3fce83",
   "metadata": {},
   "outputs": [
    {
     "data": {
      "text/html": [
       "<div>\n",
       "<style scoped>\n",
       "    .dataframe tbody tr th:only-of-type {\n",
       "        vertical-align: middle;\n",
       "    }\n",
       "\n",
       "    .dataframe tbody tr th {\n",
       "        vertical-align: top;\n",
       "    }\n",
       "\n",
       "    .dataframe thead th {\n",
       "        text-align: right;\n",
       "    }\n",
       "</style>\n",
       "<table border=\"1\" class=\"dataframe\">\n",
       "  <thead>\n",
       "    <tr style=\"text-align: right;\">\n",
       "      <th></th>\n",
       "      <th></th>\n",
       "      <th>mpg</th>\n",
       "      <th>cylinders</th>\n",
       "      <th>displacement</th>\n",
       "      <th>horsepower</th>\n",
       "      <th>weight</th>\n",
       "      <th>acceleration</th>\n",
       "    </tr>\n",
       "    <tr>\n",
       "      <th>origin</th>\n",
       "      <th>model_year</th>\n",
       "      <th></th>\n",
       "      <th></th>\n",
       "      <th></th>\n",
       "      <th></th>\n",
       "      <th></th>\n",
       "      <th></th>\n",
       "    </tr>\n",
       "  </thead>\n",
       "  <tbody>\n",
       "    <tr>\n",
       "      <th rowspan=\"13\" valign=\"top\">europe</th>\n",
       "      <th>70</th>\n",
       "      <td>25.200000</td>\n",
       "      <td>4.000000</td>\n",
       "      <td>107.800000</td>\n",
       "      <td>86.200000</td>\n",
       "      <td>2309.200000</td>\n",
       "      <td>16.500000</td>\n",
       "    </tr>\n",
       "    <tr>\n",
       "      <th>71</th>\n",
       "      <td>28.750000</td>\n",
       "      <td>4.000000</td>\n",
       "      <td>95.000000</td>\n",
       "      <td>74.000000</td>\n",
       "      <td>2024.000000</td>\n",
       "      <td>16.750000</td>\n",
       "    </tr>\n",
       "    <tr>\n",
       "      <th>72</th>\n",
       "      <td>22.000000</td>\n",
       "      <td>4.000000</td>\n",
       "      <td>111.000000</td>\n",
       "      <td>79.600000</td>\n",
       "      <td>2573.200000</td>\n",
       "      <td>18.700000</td>\n",
       "    </tr>\n",
       "    <tr>\n",
       "      <th>73</th>\n",
       "      <td>24.000000</td>\n",
       "      <td>4.000000</td>\n",
       "      <td>105.000000</td>\n",
       "      <td>81.857143</td>\n",
       "      <td>2335.714286</td>\n",
       "      <td>16.428571</td>\n",
       "    </tr>\n",
       "    <tr>\n",
       "      <th>74</th>\n",
       "      <td>27.000000</td>\n",
       "      <td>4.000000</td>\n",
       "      <td>93.166667</td>\n",
       "      <td>74.166667</td>\n",
       "      <td>2139.333333</td>\n",
       "      <td>15.333333</td>\n",
       "    </tr>\n",
       "    <tr>\n",
       "      <th>75</th>\n",
       "      <td>24.500000</td>\n",
       "      <td>4.000000</td>\n",
       "      <td>109.500000</td>\n",
       "      <td>89.500000</td>\n",
       "      <td>2571.166667</td>\n",
       "      <td>15.083333</td>\n",
       "    </tr>\n",
       "    <tr>\n",
       "      <th>76</th>\n",
       "      <td>24.250000</td>\n",
       "      <td>4.250000</td>\n",
       "      <td>116.125000</td>\n",
       "      <td>87.625000</td>\n",
       "      <td>2611.000000</td>\n",
       "      <td>16.050000</td>\n",
       "    </tr>\n",
       "    <tr>\n",
       "      <th>77</th>\n",
       "      <td>29.250000</td>\n",
       "      <td>4.000000</td>\n",
       "      <td>98.500000</td>\n",
       "      <td>81.000000</td>\n",
       "      <td>2138.750000</td>\n",
       "      <td>15.000000</td>\n",
       "    </tr>\n",
       "    <tr>\n",
       "      <th>78</th>\n",
       "      <td>24.950000</td>\n",
       "      <td>4.833333</td>\n",
       "      <td>126.166667</td>\n",
       "      <td>99.166667</td>\n",
       "      <td>2691.666667</td>\n",
       "      <td>16.233333</td>\n",
       "    </tr>\n",
       "    <tr>\n",
       "      <th>79</th>\n",
       "      <td>30.450000</td>\n",
       "      <td>4.250000</td>\n",
       "      <td>126.000000</td>\n",
       "      <td>72.000000</td>\n",
       "      <td>2693.750000</td>\n",
       "      <td>18.400000</td>\n",
       "    </tr>\n",
       "    <tr>\n",
       "      <th>80</th>\n",
       "      <td>37.288889</td>\n",
       "      <td>4.111111</td>\n",
       "      <td>104.222222</td>\n",
       "      <td>66.750000</td>\n",
       "      <td>2348.000000</td>\n",
       "      <td>18.366667</td>\n",
       "    </tr>\n",
       "    <tr>\n",
       "      <th>81</th>\n",
       "      <td>31.575000</td>\n",
       "      <td>4.500000</td>\n",
       "      <td>122.750000</td>\n",
       "      <td>76.666667</td>\n",
       "      <td>2725.000000</td>\n",
       "      <td>17.500000</td>\n",
       "    </tr>\n",
       "    <tr>\n",
       "      <th>82</th>\n",
       "      <td>40.000000</td>\n",
       "      <td>4.000000</td>\n",
       "      <td>101.000000</td>\n",
       "      <td>63.000000</td>\n",
       "      <td>2055.000000</td>\n",
       "      <td>19.950000</td>\n",
       "    </tr>\n",
       "    <tr>\n",
       "      <th rowspan=\"13\" valign=\"top\">japan</th>\n",
       "      <th>70</th>\n",
       "      <td>25.500000</td>\n",
       "      <td>4.000000</td>\n",
       "      <td>105.000000</td>\n",
       "      <td>91.500000</td>\n",
       "      <td>2251.000000</td>\n",
       "      <td>14.750000</td>\n",
       "    </tr>\n",
       "    <tr>\n",
       "      <th>71</th>\n",
       "      <td>29.500000</td>\n",
       "      <td>4.000000</td>\n",
       "      <td>88.250000</td>\n",
       "      <td>79.250000</td>\n",
       "      <td>1936.000000</td>\n",
       "      <td>16.375000</td>\n",
       "    </tr>\n",
       "    <tr>\n",
       "      <th>72</th>\n",
       "      <td>24.200000</td>\n",
       "      <td>3.800000</td>\n",
       "      <td>99.400000</td>\n",
       "      <td>93.800000</td>\n",
       "      <td>2300.400000</td>\n",
       "      <td>15.400000</td>\n",
       "    </tr>\n",
       "    <tr>\n",
       "      <th>73</th>\n",
       "      <td>20.000000</td>\n",
       "      <td>4.250000</td>\n",
       "      <td>107.750000</td>\n",
       "      <td>98.500000</td>\n",
       "      <td>2397.250000</td>\n",
       "      <td>15.625000</td>\n",
       "    </tr>\n",
       "    <tr>\n",
       "      <th>74</th>\n",
       "      <td>29.333333</td>\n",
       "      <td>4.000000</td>\n",
       "      <td>89.500000</td>\n",
       "      <td>72.500000</td>\n",
       "      <td>2053.000000</td>\n",
       "      <td>17.666667</td>\n",
       "    </tr>\n",
       "    <tr>\n",
       "      <th>75</th>\n",
       "      <td>27.500000</td>\n",
       "      <td>4.000000</td>\n",
       "      <td>110.250000</td>\n",
       "      <td>80.250000</td>\n",
       "      <td>2303.250000</td>\n",
       "      <td>16.000000</td>\n",
       "    </tr>\n",
       "    <tr>\n",
       "      <th>76</th>\n",
       "      <td>28.000000</td>\n",
       "      <td>4.500000</td>\n",
       "      <td>107.250000</td>\n",
       "      <td>76.500000</td>\n",
       "      <td>2217.500000</td>\n",
       "      <td>16.575000</td>\n",
       "    </tr>\n",
       "    <tr>\n",
       "      <th>77</th>\n",
       "      <td>27.416667</td>\n",
       "      <td>4.166667</td>\n",
       "      <td>100.500000</td>\n",
       "      <td>81.166667</td>\n",
       "      <td>2295.833333</td>\n",
       "      <td>16.316667</td>\n",
       "    </tr>\n",
       "    <tr>\n",
       "      <th>78</th>\n",
       "      <td>29.687500</td>\n",
       "      <td>4.000000</td>\n",
       "      <td>107.250000</td>\n",
       "      <td>79.250000</td>\n",
       "      <td>2221.250000</td>\n",
       "      <td>16.200000</td>\n",
       "    </tr>\n",
       "    <tr>\n",
       "      <th>79</th>\n",
       "      <td>32.950000</td>\n",
       "      <td>4.000000</td>\n",
       "      <td>85.500000</td>\n",
       "      <td>65.000000</td>\n",
       "      <td>1997.500000</td>\n",
       "      <td>17.200000</td>\n",
       "    </tr>\n",
       "    <tr>\n",
       "      <th>80</th>\n",
       "      <td>35.400000</td>\n",
       "      <td>4.076923</td>\n",
       "      <td>104.615385</td>\n",
       "      <td>78.846154</td>\n",
       "      <td>2290.307692</td>\n",
       "      <td>16.015385</td>\n",
       "    </tr>\n",
       "    <tr>\n",
       "      <th>81</th>\n",
       "      <td>32.958333</td>\n",
       "      <td>4.333333</td>\n",
       "      <td>107.500000</td>\n",
       "      <td>78.333333</td>\n",
       "      <td>2269.166667</td>\n",
       "      <td>16.183333</td>\n",
       "    </tr>\n",
       "    <tr>\n",
       "      <th>82</th>\n",
       "      <td>34.888889</td>\n",
       "      <td>4.000000</td>\n",
       "      <td>103.777778</td>\n",
       "      <td>74.000000</td>\n",
       "      <td>2132.777778</td>\n",
       "      <td>15.833333</td>\n",
       "    </tr>\n",
       "    <tr>\n",
       "      <th rowspan=\"13\" valign=\"top\">usa</th>\n",
       "      <th>70</th>\n",
       "      <td>15.272727</td>\n",
       "      <td>7.636364</td>\n",
       "      <td>336.909091</td>\n",
       "      <td>166.954545</td>\n",
       "      <td>3716.500000</td>\n",
       "      <td>11.977273</td>\n",
       "    </tr>\n",
       "    <tr>\n",
       "      <th>71</th>\n",
       "      <td>18.100000</td>\n",
       "      <td>6.200000</td>\n",
       "      <td>257.000000</td>\n",
       "      <td>119.842105</td>\n",
       "      <td>3401.600000</td>\n",
       "      <td>14.575000</td>\n",
       "    </tr>\n",
       "    <tr>\n",
       "      <th>72</th>\n",
       "      <td>16.277778</td>\n",
       "      <td>6.888889</td>\n",
       "      <td>281.250000</td>\n",
       "      <td>138.777778</td>\n",
       "      <td>3682.666667</td>\n",
       "      <td>14.055556</td>\n",
       "    </tr>\n",
       "    <tr>\n",
       "      <th>73</th>\n",
       "      <td>15.034483</td>\n",
       "      <td>7.241379</td>\n",
       "      <td>314.103448</td>\n",
       "      <td>146.620690</td>\n",
       "      <td>3821.448276</td>\n",
       "      <td>13.620690</td>\n",
       "    </tr>\n",
       "    <tr>\n",
       "      <th>74</th>\n",
       "      <td>18.333333</td>\n",
       "      <td>6.266667</td>\n",
       "      <td>236.066667</td>\n",
       "      <td>112.142857</td>\n",
       "      <td>3503.333333</td>\n",
       "      <td>15.966667</td>\n",
       "    </tr>\n",
       "    <tr>\n",
       "      <th>75</th>\n",
       "      <td>17.550000</td>\n",
       "      <td>6.400000</td>\n",
       "      <td>253.400000</td>\n",
       "      <td>108.700000</td>\n",
       "      <td>3533.200000</td>\n",
       "      <td>16.350000</td>\n",
       "    </tr>\n",
       "    <tr>\n",
       "      <th>76</th>\n",
       "      <td>19.431818</td>\n",
       "      <td>6.363636</td>\n",
       "      <td>243.954545</td>\n",
       "      <td>110.500000</td>\n",
       "      <td>3405.409091</td>\n",
       "      <td>15.786364</td>\n",
       "    </tr>\n",
       "    <tr>\n",
       "      <th>77</th>\n",
       "      <td>20.722222</td>\n",
       "      <td>6.222222</td>\n",
       "      <td>242.333333</td>\n",
       "      <td>118.388889</td>\n",
       "      <td>3422.000000</td>\n",
       "      <td>15.238889</td>\n",
       "    </tr>\n",
       "    <tr>\n",
       "      <th>78</th>\n",
       "      <td>21.772727</td>\n",
       "      <td>6.000000</td>\n",
       "      <td>217.545455</td>\n",
       "      <td>107.272727</td>\n",
       "      <td>3141.136364</td>\n",
       "      <td>15.545455</td>\n",
       "    </tr>\n",
       "    <tr>\n",
       "      <th>79</th>\n",
       "      <td>23.478261</td>\n",
       "      <td>6.260870</td>\n",
       "      <td>231.260870</td>\n",
       "      <td>109.434783</td>\n",
       "      <td>3210.217391</td>\n",
       "      <td>15.243478</td>\n",
       "    </tr>\n",
       "    <tr>\n",
       "      <th>80</th>\n",
       "      <td>25.914286</td>\n",
       "      <td>4.285714</td>\n",
       "      <td>151.571429</td>\n",
       "      <td>88.833333</td>\n",
       "      <td>2822.428571</td>\n",
       "      <td>16.800000</td>\n",
       "    </tr>\n",
       "    <tr>\n",
       "      <th>81</th>\n",
       "      <td>27.530769</td>\n",
       "      <td>4.923077</td>\n",
       "      <td>164.846154</td>\n",
       "      <td>84.538462</td>\n",
       "      <td>2695.000000</td>\n",
       "      <td>16.053846</td>\n",
       "    </tr>\n",
       "    <tr>\n",
       "      <th>82</th>\n",
       "      <td>29.450000</td>\n",
       "      <td>4.300000</td>\n",
       "      <td>142.950000</td>\n",
       "      <td>86.947368</td>\n",
       "      <td>2637.750000</td>\n",
       "      <td>16.670000</td>\n",
       "    </tr>\n",
       "  </tbody>\n",
       "</table>\n",
       "</div>"
      ],
      "text/plain": [
       "                         mpg  cylinders  displacement  horsepower  \\\n",
       "origin model_year                                                   \n",
       "europe 70          25.200000   4.000000    107.800000   86.200000   \n",
       "       71          28.750000   4.000000     95.000000   74.000000   \n",
       "       72          22.000000   4.000000    111.000000   79.600000   \n",
       "       73          24.000000   4.000000    105.000000   81.857143   \n",
       "       74          27.000000   4.000000     93.166667   74.166667   \n",
       "       75          24.500000   4.000000    109.500000   89.500000   \n",
       "       76          24.250000   4.250000    116.125000   87.625000   \n",
       "       77          29.250000   4.000000     98.500000   81.000000   \n",
       "       78          24.950000   4.833333    126.166667   99.166667   \n",
       "       79          30.450000   4.250000    126.000000   72.000000   \n",
       "       80          37.288889   4.111111    104.222222   66.750000   \n",
       "       81          31.575000   4.500000    122.750000   76.666667   \n",
       "       82          40.000000   4.000000    101.000000   63.000000   \n",
       "japan  70          25.500000   4.000000    105.000000   91.500000   \n",
       "       71          29.500000   4.000000     88.250000   79.250000   \n",
       "       72          24.200000   3.800000     99.400000   93.800000   \n",
       "       73          20.000000   4.250000    107.750000   98.500000   \n",
       "       74          29.333333   4.000000     89.500000   72.500000   \n",
       "       75          27.500000   4.000000    110.250000   80.250000   \n",
       "       76          28.000000   4.500000    107.250000   76.500000   \n",
       "       77          27.416667   4.166667    100.500000   81.166667   \n",
       "       78          29.687500   4.000000    107.250000   79.250000   \n",
       "       79          32.950000   4.000000     85.500000   65.000000   \n",
       "       80          35.400000   4.076923    104.615385   78.846154   \n",
       "       81          32.958333   4.333333    107.500000   78.333333   \n",
       "       82          34.888889   4.000000    103.777778   74.000000   \n",
       "usa    70          15.272727   7.636364    336.909091  166.954545   \n",
       "       71          18.100000   6.200000    257.000000  119.842105   \n",
       "       72          16.277778   6.888889    281.250000  138.777778   \n",
       "       73          15.034483   7.241379    314.103448  146.620690   \n",
       "       74          18.333333   6.266667    236.066667  112.142857   \n",
       "       75          17.550000   6.400000    253.400000  108.700000   \n",
       "       76          19.431818   6.363636    243.954545  110.500000   \n",
       "       77          20.722222   6.222222    242.333333  118.388889   \n",
       "       78          21.772727   6.000000    217.545455  107.272727   \n",
       "       79          23.478261   6.260870    231.260870  109.434783   \n",
       "       80          25.914286   4.285714    151.571429   88.833333   \n",
       "       81          27.530769   4.923077    164.846154   84.538462   \n",
       "       82          29.450000   4.300000    142.950000   86.947368   \n",
       "\n",
       "                        weight  acceleration  \n",
       "origin model_year                             \n",
       "europe 70          2309.200000     16.500000  \n",
       "       71          2024.000000     16.750000  \n",
       "       72          2573.200000     18.700000  \n",
       "       73          2335.714286     16.428571  \n",
       "       74          2139.333333     15.333333  \n",
       "       75          2571.166667     15.083333  \n",
       "       76          2611.000000     16.050000  \n",
       "       77          2138.750000     15.000000  \n",
       "       78          2691.666667     16.233333  \n",
       "       79          2693.750000     18.400000  \n",
       "       80          2348.000000     18.366667  \n",
       "       81          2725.000000     17.500000  \n",
       "       82          2055.000000     19.950000  \n",
       "japan  70          2251.000000     14.750000  \n",
       "       71          1936.000000     16.375000  \n",
       "       72          2300.400000     15.400000  \n",
       "       73          2397.250000     15.625000  \n",
       "       74          2053.000000     17.666667  \n",
       "       75          2303.250000     16.000000  \n",
       "       76          2217.500000     16.575000  \n",
       "       77          2295.833333     16.316667  \n",
       "       78          2221.250000     16.200000  \n",
       "       79          1997.500000     17.200000  \n",
       "       80          2290.307692     16.015385  \n",
       "       81          2269.166667     16.183333  \n",
       "       82          2132.777778     15.833333  \n",
       "usa    70          3716.500000     11.977273  \n",
       "       71          3401.600000     14.575000  \n",
       "       72          3682.666667     14.055556  \n",
       "       73          3821.448276     13.620690  \n",
       "       74          3503.333333     15.966667  \n",
       "       75          3533.200000     16.350000  \n",
       "       76          3405.409091     15.786364  \n",
       "       77          3422.000000     15.238889  \n",
       "       78          3141.136364     15.545455  \n",
       "       79          3210.217391     15.243478  \n",
       "       80          2822.428571     16.800000  \n",
       "       81          2695.000000     16.053846  \n",
       "       82          2637.750000     16.670000  "
      ]
     },
     "execution_count": 9,
     "metadata": {},
     "output_type": "execute_result"
    }
   ],
   "source": [
    "# Group DataFrame by origin and model_year\n",
    "grouped_agg = mpg.groupby([\"origin\", \"model_year\"]).agg(\"mean\")\n",
    "grouped_agg"
   ]
  },
  {
   "cell_type": "code",
   "execution_count": 10,
   "id": "ea6b0d68-53ea-4f60-884b-a35a917fb442",
   "metadata": {},
   "outputs": [
    {
     "data": {
      "image/png": "[encoded data removed]",
      "text/plain": [
       "<Figure size 432x288 with 1 Axes>"
      ]
     },
     "metadata": {
      "needs_background": "light"
     },
     "output_type": "display_data"
    }
   ],
   "source": [
    "sns.lineplot(data=grouped_agg, x=\"model_year\", y=\"mpg\", hue=\"origin\");"
   ]
  },
  {
   "cell_type": "markdown",
   "id": "676cc510-25b5-4c35-9931-16f15f1fcbaa",
   "metadata": {},
   "source": [
    "**Easier alternative:**"
   ]
  },
  {
   "cell_type": "code",
   "execution_count": 11,
   "id": "e741c1b4-1ad9-4023-a69a-b97db1feb856",
   "metadata": {},
   "outputs": [
    {
     "data": {
      "image/png": "[encoded data removed]",
      "text/plain": [
       "<Figure size 432x288 with 1 Axes>"
      ]
     },
     "metadata": {
      "needs_background": "light"
     },
     "output_type": "display_data"
    }
   ],
   "source": [
    "sns.lineplot(data=mpg, x=\"model_year\", y=\"mpg\", hue=\"origin\",\n",
    "              hue_order=[\"europe\", \"japan\", \"usa\"], ci=None);"
   ]
  },
  {
   "cell_type": "markdown",
   "id": "6c5cb2e9-b0be-4926-b37e-27cd5881fcf3",
   "metadata": {},
   "source": [
    "## Question 2: Hypothesis testing\n",
    "*10 points*\n",
    "\n",
    "For the data above, use `scipy.stats.mannwhitneyu` to test whether\n",
    "- the `mpg` of vehicles with a more cylinders ($>4$) is *statistically different* from that of vehicles with a less cylinders ($\\leq4$).\n",
    "- the `acceleration` of vehicles with more cylinders ($>4$) is *statistically greater* than that of vehicles with less cylinders ($\\leq4$).\n",
    "\n",
    "Clearly state the null and alternative hypotheses, as well as the inference, for each case."
   ]
  },
  {
   "cell_type": "code",
   "execution_count": 12,
   "id": "fad21693-71ff-487b-b51f-bd45ac9254aa",
   "metadata": {},
   "outputs": [
    {
     "data": {
      "image/png": "[encoded data removed]",
      "text/plain": [
       "<Figure size 447.25x360 with 6 Axes>"
      ]
     },
     "metadata": {
      "needs_background": "light"
     },
     "output_type": "display_data"
    }
   ],
   "source": [
    "from scipy import stats\n",
    "\n",
    "# Create a new column to help separate  the data\n",
    "mpg[\"cylinders_group\"] = \"<= 4\"\n",
    "mpg.loc[(mpg[\"cylinders\"] > 4 ), \"cylinders_group\"] = \"> 4\"\n",
    "\n",
    "# Visualize the data\n",
    "g2 = sns.PairGrid(mpg, vars=[\"mpg\", \"acceleration\"], hue=\"cylinders_group\")\n",
    "g2.map_upper(sns.kdeplot);\n",
    "g2.map_lower(sns.scatterplot)\n",
    "g2.map_diag(sns.kdeplot, fill=True)\n",
    "g2.add_legend();"
   ]
  },
  {
   "cell_type": "markdown",
   "id": "628f153f-1fd9-46eb-bf5c-f9c4f014ebb8",
   "metadata": {},
   "source": [
    "**Null Hypothesis, $H_0$: Vehicles with more ($>4$) cylinders have the same distribution of mpg as vehicles with fewer ($\\leq4$) cylinders.**\n",
    "\n",
    "**Alternative Hypothesis, $H_A$: Vehicles with more ($>4$) cylinders have a different distribution of mpg than vehicles with fewer ($\\leq4$) cylinders.**"
   ]
  },
  {
   "cell_type": "code",
   "execution_count": 13,
   "id": "f81d8b7c-6be1-4681-9612-48739451362e",
   "metadata": {},
   "outputs": [
    {
     "data": {
      "text/plain": [
       "MannwhitneyuResult(statistic=1786.5, pvalue=1.94571389077842e-55)"
      ]
     },
     "execution_count": 13,
     "metadata": {},
     "output_type": "execute_result"
    }
   ],
   "source": [
    "stats.mannwhitneyu(mpg.loc[(mpg[\"cylinders_group\"] == \"> 4\"), \"mpg\"],\n",
    "                   mpg.loc[(mpg[\"cylinders_group\"] == \"<= 4\"), \"mpg\"],\n",
    "                   alternative=\"two-sided\")"
   ]
  },
  {
   "cell_type": "markdown",
   "id": "2fc35172-c0de-44e8-9ea5-d96f1e3e1d89",
   "metadata": {},
   "source": [
    "**Answer:** With a `pvalue` of almost 0, we reject the null hypothesis in favor of the alternative hypothesis. The distributions are statistically different."
   ]
  },
  {
   "cell_type": "markdown",
   "id": "c14edab1-9294-4192-aefd-0b3d6d347d49",
   "metadata": {},
   "source": [
    "**Null Hypothesis, $H_0$: Vehicles with more ($>4$) cylinders have the same distribution of acceleration as vehicles with fewer ($\\leq4$) cylinders.**\n",
    "\n",
    "**Alternative Hypothesis, $H_A$: Vehicles with more ($>4$) cylinders have the a greater acceleration than vehicles with fewer ($\\leq4$) cylinders.**"
   ]
  },
  {
   "cell_type": "code",
   "execution_count": 14,
   "id": "b2c6ea3b-fac0-49f1-9d5e-8fd9fc2690c7",
   "metadata": {},
   "outputs": [
    {
     "data": {
      "text/plain": [
       "0      12.0\n",
       "1      11.5\n",
       "2      11.0\n",
       "3      12.0\n",
       "4      10.5\n",
       "       ... \n",
       "365    17.1\n",
       "366    16.6\n",
       "386    16.4\n",
       "387    17.0\n",
       "389    14.7\n",
       "Name: acceleration, Length: 190, dtype: float64"
      ]
     },
     "execution_count": 14,
     "metadata": {},
     "output_type": "execute_result"
    }
   ],
   "source": [
    "mpg.loc[(mpg[\"cylinders_group\"] == \"> 4\"), \"acceleration\"]"
   ]
  },
  {
   "cell_type": "code",
   "execution_count": 15,
   "id": "e54c933b-209d-42f8-a7c6-f62f95f86964",
   "metadata": {},
   "outputs": [
    {
     "data": {
      "text/plain": [
       "MannwhitneyuResult(statistic=11513.0, pvalue=0.9999999999996937)"
      ]
     },
     "execution_count": 15,
     "metadata": {},
     "output_type": "execute_result"
    }
   ],
   "source": [
    "stats.mannwhitneyu(mpg.loc[(mpg[\"cylinders_group\"] == \"> 4\"), \"acceleration\"],\n",
    "                   mpg.loc[(mpg[\"cylinders_group\"] == \"<= 4\"), \"acceleration\"],\n",
    "                   alternative=\"greater\")"
   ]
  },
  {
   "cell_type": "markdown",
   "id": "f82c7c22-bd29-457d-a579-e213eac827f1",
   "metadata": {},
   "source": [
    "**Answer:** With a `pvalue` of ~1, we fail to reject the null hypothesis in favor of the alternative. We cannot statistically conclude that vehicles with more cylinders have a greater acceleration then vehicles with fewer cylinders."
   ]
  },
  {
   "cell_type": "markdown",
   "id": "75eb125b-af92-431c-8e6f-37fb07a8ca13",
   "metadata": {},
   "source": [
    "## Question 3: Multiple linear regression\n",
    "*15 points*\n",
    "\n",
    "Using `statsmodels.formula.api.ols()`, determine how the acceleration of a vehicle in the dataset depends on its displacement and origin.\n",
    "\n",
    "- Do you need to include interactions?\n",
    "- Don't just fit a curve, plot the data and comment on the regression results. What do you learn from it?\n",
    "\n",
    "Hint: Use `pandas.DataFrame.dropna()` to remove rows thant contain missing values."
   ]
  },
  {
   "cell_type": "code",
   "execution_count": 16,
   "id": "626c68d5-9e21-4208-a046-9fd3e6ad3611",
   "metadata": {},
   "outputs": [
    {
     "data": {
      "text/html": [
       "<div>\n",
       "<style scoped>\n",
       "    .dataframe tbody tr th:only-of-type {\n",
       "        vertical-align: middle;\n",
       "    }\n",
       "\n",
       "    .dataframe tbody tr th {\n",
       "        vertical-align: top;\n",
       "    }\n",
       "\n",
       "    .dataframe thead th {\n",
       "        text-align: right;\n",
       "    }\n",
       "</style>\n",
       "<table border=\"1\" class=\"dataframe\">\n",
       "  <thead>\n",
       "    <tr style=\"text-align: right;\">\n",
       "      <th></th>\n",
       "      <th>mpg</th>\n",
       "      <th>cylinders</th>\n",
       "      <th>displacement</th>\n",
       "      <th>horsepower</th>\n",
       "      <th>weight</th>\n",
       "      <th>acceleration</th>\n",
       "      <th>model_year</th>\n",
       "      <th>origin</th>\n",
       "      <th>name</th>\n",
       "      <th>cylinders_group</th>\n",
       "    </tr>\n",
       "  </thead>\n",
       "  <tbody>\n",
       "    <tr>\n",
       "      <th>0</th>\n",
       "      <td>29.0</td>\n",
       "      <td>4</td>\n",
       "      <td>68.0</td>\n",
       "      <td>49.0</td>\n",
       "      <td>1867</td>\n",
       "      <td>19.5</td>\n",
       "      <td>73</td>\n",
       "      <td>europe</td>\n",
       "      <td>fiat 128</td>\n",
       "      <td>&lt;= 4</td>\n",
       "    </tr>\n",
       "    <tr>\n",
       "      <th>1</th>\n",
       "      <td>19.0</td>\n",
       "      <td>3</td>\n",
       "      <td>70.0</td>\n",
       "      <td>97.0</td>\n",
       "      <td>2330</td>\n",
       "      <td>13.5</td>\n",
       "      <td>72</td>\n",
       "      <td>japan</td>\n",
       "      <td>mazda rx2 coupe</td>\n",
       "      <td>&lt;= 4</td>\n",
       "    </tr>\n",
       "    <tr>\n",
       "      <th>2</th>\n",
       "      <td>18.0</td>\n",
       "      <td>3</td>\n",
       "      <td>70.0</td>\n",
       "      <td>90.0</td>\n",
       "      <td>2124</td>\n",
       "      <td>13.5</td>\n",
       "      <td>73</td>\n",
       "      <td>japan</td>\n",
       "      <td>maxda rx3</td>\n",
       "      <td>&lt;= 4</td>\n",
       "    </tr>\n",
       "    <tr>\n",
       "      <th>3</th>\n",
       "      <td>23.7</td>\n",
       "      <td>3</td>\n",
       "      <td>70.0</td>\n",
       "      <td>100.0</td>\n",
       "      <td>2420</td>\n",
       "      <td>12.5</td>\n",
       "      <td>80</td>\n",
       "      <td>japan</td>\n",
       "      <td>mazda rx-7 gs</td>\n",
       "      <td>&lt;= 4</td>\n",
       "    </tr>\n",
       "    <tr>\n",
       "      <th>4</th>\n",
       "      <td>32.0</td>\n",
       "      <td>4</td>\n",
       "      <td>71.0</td>\n",
       "      <td>65.0</td>\n",
       "      <td>1836</td>\n",
       "      <td>21.0</td>\n",
       "      <td>74</td>\n",
       "      <td>japan</td>\n",
       "      <td>toyota corolla 1200</td>\n",
       "      <td>&lt;= 4</td>\n",
       "    </tr>\n",
       "  </tbody>\n",
       "</table>\n",
       "</div>"
      ],
      "text/plain": [
       "    mpg  cylinders  displacement  horsepower  weight  acceleration  \\\n",
       "0  29.0          4          68.0        49.0    1867          19.5   \n",
       "1  19.0          3          70.0        97.0    2330          13.5   \n",
       "2  18.0          3          70.0        90.0    2124          13.5   \n",
       "3  23.7          3          70.0       100.0    2420          12.5   \n",
       "4  32.0          4          71.0        65.0    1836          21.0   \n",
       "\n",
       "   model_year  origin                 name cylinders_group  \n",
       "0          73  europe             fiat 128            <= 4  \n",
       "1          72   japan      mazda rx2 coupe            <= 4  \n",
       "2          73   japan            maxda rx3            <= 4  \n",
       "3          80   japan        mazda rx-7 gs            <= 4  \n",
       "4          74   japan  toyota corolla 1200            <= 4  "
      ]
     },
     "execution_count": 16,
     "metadata": {},
     "output_type": "execute_result"
    },
    {
     "data": {
      "image/png": "[encoded data removed]",
      "text/plain": [
       "<Figure size 430.75x360 with 6 Axes>"
      ]
     },
     "metadata": {
      "needs_background": "light"
     },
     "output_type": "display_data"
    }
   ],
   "source": [
    "y = \"acceleration\"\n",
    "x = \"displacement\"\n",
    "c = \"origin\"\n",
    "\n",
    "# Drop rows with missing values\n",
    "mpg_cleaned = mpg.dropna(subset=[x, y, c], inplace=False)\n",
    "\n",
    "# Sort (for plotting later)\n",
    "mpg_cleaned.sort_values(by=x, ignore_index=True, inplace=True)\n",
    "\n",
    "# Visualize the data\n",
    "g3 = sns.PairGrid(mpg_cleaned, vars=[x, y], hue=c, hue_order=[\"europe\", \"japan\", \"usa\"])\n",
    "g3.map_upper(sns.kdeplot);\n",
    "g3.map_lower(sns.scatterplot)\n",
    "g3.map_diag(sns.kdeplot, fill=True)\n",
    "g3.add_legend()\n",
    "\n",
    "mpg_cleaned.head()"
   ]
  },
  {
   "cell_type": "code",
   "execution_count": 17,
   "id": "5e6891e1-e574-4df3-8a6d-be81d383d765",
   "metadata": {},
   "outputs": [
    {
     "name": "stdout",
     "output_type": "stream",
     "text": [
      "                            OLS Regression Results                            \n",
      "==============================================================================\n",
      "Dep. Variable:           acceleration   R-squared:                       0.321\n",
      "Model:                            OLS   Adj. R-squared:                  0.315\n",
      "Method:                 Least Squares   F-statistic:                     61.99\n",
      "Date:                Mon, 14 Nov 2022   Prob (F-statistic):           7.54e-33\n",
      "Time:                        01:42:05   Log-Likelihood:                -891.03\n",
      "No. Observations:                 398   AIC:                             1790.\n",
      "Df Residuals:                     394   BIC:                             1806.\n",
      "Df Model:                           3                                         \n",
      "Covariance Type:            nonrobust                                         \n",
      "======================================================================================\n",
      "                         coef    std err          t      P>|t|      [0.025      0.975]\n",
      "--------------------------------------------------------------------------------------\n",
      "Intercept             18.7017      0.315     59.337      0.000      18.082      19.321\n",
      "C(origin)[T.japan]    -0.7279      0.375     -1.943      0.053      -1.464       0.009\n",
      "C(origin)[T.usa]       0.6456      0.367      1.761      0.079      -0.075       1.367\n",
      "displacement          -0.0175      0.001    -12.116      0.000      -0.020      -0.015\n",
      "==============================================================================\n",
      "Omnibus:                       28.524   Durbin-Watson:                   1.515\n",
      "Prob(Omnibus):                  0.000   Jarque-Bera (JB):               33.977\n",
      "Skew:                           0.618   Prob(JB):                     4.19e-08\n",
      "Kurtosis:                       3.724   Cond. No.                         972.\n",
      "==============================================================================\n",
      "\n",
      "Notes:\n",
      "[1] Standard Errors assume that the covariance matrix of the errors is correctly specified.\n"
     ]
    },
    {
     "data": {
      "image/png": "[encoded data removed]",
      "text/plain": [
       "<Figure size 432x288 with 1 Axes>"
      ]
     },
     "metadata": {
      "needs_background": "light"
     },
     "output_type": "display_data"
    }
   ],
   "source": [
    "# Without interactions\n",
    "from statsmodels.formula.api import ols\n",
    "\n",
    "model_noint = ols(f\"{y} ~ {x} + C({c})\", data=mpg_cleaned).fit()\n",
    "print(model_noint.summary())\n",
    "\n",
    "# Plot\n",
    "ax = sns.scatterplot(x=x, y=y, hue=c, data=mpg_cleaned)\n",
    "ax.plot(mpg_cleaned[x], model_noint.fittedvalues, \".k\");"
   ]
  },
  {
   "cell_type": "markdown",
   "id": "3f450629-a0ef-4035-a383-fe747e25d799",
   "metadata": {},
   "source": [
    "**Answer:** Interactions need to be included as the $p$-value for the intercepts are not significant enough. The slope is dominated by the USA data, due to the larger number of data points (shown below). Hence, the slopes of the regression lines for Japan and Europe are inaccurate."
   ]
  },
  {
   "cell_type": "code",
   "execution_count": 18,
   "id": "1790fece-61f8-4367-bdc5-56bf91ad10a9",
   "metadata": {},
   "outputs": [
    {
     "data": {
      "text/plain": [
       "origin\n",
       "europe     70\n",
       "japan      79\n",
       "usa       249\n",
       "Name: acceleration, dtype: int64"
      ]
     },
     "execution_count": 18,
     "metadata": {},
     "output_type": "execute_result"
    }
   ],
   "source": [
    "mpg.groupby(\"origin\").count()[y]"
   ]
  },
  {
   "cell_type": "code",
   "execution_count": 19,
   "id": "29c1ed88-a9f9-41eb-b412-35fbe86cbe78",
   "metadata": {},
   "outputs": [
    {
     "name": "stdout",
     "output_type": "stream",
     "text": [
      "                            OLS Regression Results                            \n",
      "==============================================================================\n",
      "Dep. Variable:           acceleration   R-squared:                       0.337\n",
      "Model:                            OLS   Adj. R-squared:                  0.329\n",
      "Method:                 Least Squares   F-statistic:                     39.89\n",
      "Date:                Mon, 14 Nov 2022   Prob (F-statistic):           4.05e-33\n",
      "Time:                        01:42:05   Log-Likelihood:                -886.12\n",
      "No. Observations:                 398   AIC:                             1784.\n",
      "Df Residuals:                     392   BIC:                             1808.\n",
      "Df Model:                           5                                         \n",
      "Covariance Type:            nonrobust                                         \n",
      "===================================================================================================\n",
      "                                      coef    std err          t      P>|t|      [0.025      0.975]\n",
      "---------------------------------------------------------------------------------------------------\n",
      "Intercept                          16.2430      1.342     12.103      0.000      13.604      18.882\n",
      "C(origin)[T.japan]                  4.5765      1.776      2.577      0.010       1.084       8.069\n",
      "C(origin)[T.usa]                    3.0671      1.396      2.197      0.029       0.322       5.812\n",
      "displacement                        0.0050      0.012      0.414      0.679      -0.019       0.029\n",
      "displacement:C(origin)[T.japan]    -0.0502      0.016     -3.073      0.002      -0.082      -0.018\n",
      "displacement:C(origin)[T.usa]      -0.0224      0.012     -1.844      0.066      -0.046       0.001\n",
      "==============================================================================\n",
      "Omnibus:                       27.480   Durbin-Watson:                   1.502\n",
      "Prob(Omnibus):                  0.000   Jarque-Bera (JB):               33.878\n",
      "Skew:                           0.578   Prob(JB):                     4.40e-08\n",
      "Kurtosis:                       3.839   Cond. No.                     6.48e+03\n",
      "==============================================================================\n",
      "\n",
      "Notes:\n",
      "[1] Standard Errors assume that the covariance matrix of the errors is correctly specified.\n",
      "[2] The condition number is large, 6.48e+03. This might indicate that there are\n",
      "strong multicollinearity or other numerical problems.\n"
     ]
    },
    {
     "data": {
      "image/png": "[encoded data removed]",
      "text/plain": [
       "<Figure size 432x288 with 1 Axes>"
      ]
     },
     "metadata": {
      "needs_background": "light"
     },
     "output_type": "display_data"
    }
   ],
   "source": [
    "# With interactions\n",
    "from statsmodels.formula.api import ols\n",
    "\n",
    "model_int = ols(f\"{y} ~ {x} + C({c}) + {x}*C({c})\", data=mpg_cleaned).fit()\n",
    "print(model_int.summary())\n",
    "\n",
    "# Plot\n",
    "ax = sns.scatterplot(x=x, y=y, hue=c, data=mpg_cleaned)\n",
    "ax.plot(mpg_cleaned[x], model_int.fittedvalues, \".k\");"
   ]
  },
  {
   "cell_type": "markdown",
   "id": "a19525a0-2a1e-487d-852c-6b8c9be6e3a5",
   "metadata": {},
   "source": [
    "**Answer:** From the $p$-values and the slope coefficients, there is no clear correlation between the acceleration and displacement for cars originating in Europe. On the other hand, there is a strong negative correlation for Japanese cars, i.e., acceleration (time) reduces with displacement. For American cars, there is a weak negative correlation ($p$-value slightly higher than 0.05).\n",
    "\n",
    "As expected, displacement is not enough to predict a vehicle's acceleration. Other variables (e.g., weight) are also needed to build a complete model."
   ]
  },
  {
   "cell_type": "markdown",
   "id": "cd0b8c76-3ca6-4cf0-879f-0f7e322b2f40",
   "metadata": {},
   "source": [
    "## Question 4: Higher order polynomial regression\n",
    "*10 points*\n",
    "\n",
    "- Load the data in `hopr.csv` using `pandas` \n",
    "- Perform polynomial regression to get the best fit.\n",
    "- Print the parameters/coefficients for the final best fit polynomial.\n",
    "\n",
    "*Take care to not overfit the data.* Use the lowest polynomical possible that sufficiently represents the underlying data."
   ]
  },
  {
   "cell_type": "code",
   "execution_count": 20,
   "id": "3d8a26cd-86ef-4a6c-9178-c78f7273a668",
   "metadata": {},
   "outputs": [
    {
     "data": {
      "image/png": "[encoded data removed]",
      "text/plain": [
       "<Figure size 432x288 with 1 Axes>"
      ]
     },
     "metadata": {
      "needs_background": "light"
     },
     "output_type": "display_data"
    }
   ],
   "source": [
    "# Read csv file and plot\n",
    "hopr = pd.read_csv(\"hopr.csv\")\n",
    "hopr.plot(\"x\", \"y\", \"scatter\");"
   ]
  },
  {
   "cell_type": "code",
   "execution_count": 21,
   "id": "6ef338d7-a327-4573-b0e3-fc374e511dc0",
   "metadata": {},
   "outputs": [
    {
     "data": {
      "text/html": [
       "<div>\n",
       "<style scoped>\n",
       "    .dataframe tbody tr th:only-of-type {\n",
       "        vertical-align: middle;\n",
       "    }\n",
       "\n",
       "    .dataframe tbody tr th {\n",
       "        vertical-align: top;\n",
       "    }\n",
       "\n",
       "    .dataframe thead th {\n",
       "        text-align: right;\n",
       "    }\n",
       "</style>\n",
       "<table border=\"1\" class=\"dataframe\">\n",
       "  <thead>\n",
       "    <tr style=\"text-align: right;\">\n",
       "      <th></th>\n",
       "      <th>x</th>\n",
       "      <th>y</th>\n",
       "      <th>x2</th>\n",
       "      <th>x3</th>\n",
       "      <th>x4</th>\n",
       "      <th>x5</th>\n",
       "      <th>x6</th>\n",
       "      <th>x7</th>\n",
       "      <th>x8</th>\n",
       "      <th>x9</th>\n",
       "    </tr>\n",
       "  </thead>\n",
       "  <tbody>\n",
       "    <tr>\n",
       "      <th>0</th>\n",
       "      <td>0.000000</td>\n",
       "      <td>0.501051</td>\n",
       "      <td>0.000000</td>\n",
       "      <td>0.000000</td>\n",
       "      <td>0.000000e+00</td>\n",
       "      <td>0.000000e+00</td>\n",
       "      <td>0.000000e+00</td>\n",
       "      <td>0.000000e+00</td>\n",
       "      <td>0.000000e+00</td>\n",
       "      <td>0.000000e+00</td>\n",
       "    </tr>\n",
       "    <tr>\n",
       "      <th>1</th>\n",
       "      <td>0.020408</td>\n",
       "      <td>0.486098</td>\n",
       "      <td>0.000416</td>\n",
       "      <td>0.000008</td>\n",
       "      <td>1.734665e-07</td>\n",
       "      <td>3.540133e-09</td>\n",
       "      <td>7.224762e-11</td>\n",
       "      <td>1.474441e-12</td>\n",
       "      <td>3.009064e-14</td>\n",
       "      <td>6.140946e-16</td>\n",
       "    </tr>\n",
       "    <tr>\n",
       "      <th>2</th>\n",
       "      <td>0.040816</td>\n",
       "      <td>0.472236</td>\n",
       "      <td>0.001666</td>\n",
       "      <td>0.000068</td>\n",
       "      <td>2.775464e-06</td>\n",
       "      <td>1.132843e-07</td>\n",
       "      <td>4.623847e-09</td>\n",
       "      <td>1.887285e-10</td>\n",
       "      <td>7.703203e-12</td>\n",
       "      <td>3.144164e-13</td>\n",
       "    </tr>\n",
       "    <tr>\n",
       "      <th>3</th>\n",
       "      <td>0.061224</td>\n",
       "      <td>0.460380</td>\n",
       "      <td>0.003748</td>\n",
       "      <td>0.000229</td>\n",
       "      <td>1.405079e-05</td>\n",
       "      <td>8.602524e-07</td>\n",
       "      <td>5.266851e-08</td>\n",
       "      <td>3.224603e-09</td>\n",
       "      <td>1.974247e-10</td>\n",
       "      <td>1.208722e-11</td>\n",
       "    </tr>\n",
       "    <tr>\n",
       "      <th>4</th>\n",
       "      <td>0.081633</td>\n",
       "      <td>0.445572</td>\n",
       "      <td>0.006664</td>\n",
       "      <td>0.000544</td>\n",
       "      <td>4.440743e-05</td>\n",
       "      <td>3.625096e-06</td>\n",
       "      <td>2.959262e-07</td>\n",
       "      <td>2.415724e-08</td>\n",
       "      <td>1.972020e-09</td>\n",
       "      <td>1.609812e-10</td>\n",
       "    </tr>\n",
       "  </tbody>\n",
       "</table>\n",
       "</div>"
      ],
      "text/plain": [
       "          x         y        x2        x3            x4            x5  \\\n",
       "0  0.000000  0.501051  0.000000  0.000000  0.000000e+00  0.000000e+00   \n",
       "1  0.020408  0.486098  0.000416  0.000008  1.734665e-07  3.540133e-09   \n",
       "2  0.040816  0.472236  0.001666  0.000068  2.775464e-06  1.132843e-07   \n",
       "3  0.061224  0.460380  0.003748  0.000229  1.405079e-05  8.602524e-07   \n",
       "4  0.081633  0.445572  0.006664  0.000544  4.440743e-05  3.625096e-06   \n",
       "\n",
       "             x6            x7            x8            x9  \n",
       "0  0.000000e+00  0.000000e+00  0.000000e+00  0.000000e+00  \n",
       "1  7.224762e-11  1.474441e-12  3.009064e-14  6.140946e-16  \n",
       "2  4.623847e-09  1.887285e-10  7.703203e-12  3.144164e-13  \n",
       "3  5.266851e-08  3.224603e-09  1.974247e-10  1.208722e-11  \n",
       "4  2.959262e-07  2.415724e-08  1.972020e-09  1.609812e-10  "
      ]
     },
     "execution_count": 21,
     "metadata": {},
     "output_type": "execute_result"
    }
   ],
   "source": [
    "# Generate columns for x^i, for i = 2...9 \n",
    "# We probably won't need to go to 9, but we will add higher orders one at a time and see what happens\n",
    "for i in range(2, 10):\n",
    "    hopr[f\"x{i}\"] = hopr[\"x\"].pow(i)\n",
    "hopr.head()"
   ]
  },
  {
   "cell_type": "code",
   "execution_count": 22,
   "id": "964f2af7-318d-4559-8c72-60354f8f82ae",
   "metadata": {},
   "outputs": [
    {
     "name": "stdout",
     "output_type": "stream",
     "text": [
      "                            OLS Regression Results                            \n",
      "==============================================================================\n",
      "Dep. Variable:                      y   R-squared:                       0.930\n",
      "Model:                            OLS   Adj. R-squared:                  0.925\n",
      "Method:                 Least Squares   F-statistic:                     202.4\n",
      "Date:                Mon, 14 Nov 2022   Prob (F-statistic):           1.68e-26\n",
      "Time:                        01:42:06   Log-Likelihood:                 142.39\n",
      "No. Observations:                  50   AIC:                            -276.8\n",
      "Df Residuals:                      46   BIC:                            -269.1\n",
      "Df Model:                           3                                         \n",
      "Covariance Type:            nonrobust                                         \n",
      "==============================================================================\n",
      "                 coef    std err          t      P>|t|      [0.025      0.975]\n",
      "------------------------------------------------------------------------------\n",
      "Intercept      0.5313      0.008     69.090      0.000       0.516       0.547\n",
      "x             -1.3391      0.067    -19.906      0.000      -1.475      -1.204\n",
      "x2             3.0161      0.157     19.183      0.000       2.700       3.333\n",
      "x3            -1.9705      0.103    -19.076      0.000      -2.178      -1.763\n",
      "==============================================================================\n",
      "Omnibus:                        2.547   Durbin-Watson:                   0.127\n",
      "Prob(Omnibus):                  0.280   Jarque-Bera (JB):                2.375\n",
      "Skew:                          -0.459   Prob(JB):                        0.305\n",
      "Kurtosis:                       2.456   Cond. No.                         118.\n",
      "==============================================================================\n",
      "\n",
      "Notes:\n",
      "[1] Standard Errors assume that the covariance matrix of the errors is correctly specified.\n"
     ]
    },
    {
     "data": {
      "image/png": "[encoded data removed]",
      "text/plain": [
       "<Figure size 432x288 with 1 Axes>"
      ]
     },
     "metadata": {
      "needs_background": "light"
     },
     "output_type": "display_data"
    }
   ],
   "source": [
    "# 3rd order polynomial fit\n",
    "model_3 = ols(\"y ~ x + x2 + x3\", data=hopr).fit()\n",
    "print(model_3.summary())\n",
    "\n",
    "# Plot\n",
    "ax = hopr.plot(\"x\", \"y\", \"scatter\");\n",
    "ax.plot(hopr[\"x\"], model_3.fittedvalues);"
   ]
  },
  {
   "cell_type": "code",
   "execution_count": 23,
   "id": "d3d80808-3e38-40c4-a4aa-9402df2e11b5",
   "metadata": {},
   "outputs": [
    {
     "name": "stdout",
     "output_type": "stream",
     "text": [
      "                            OLS Regression Results                            \n",
      "==============================================================================\n",
      "Dep. Variable:                      y   R-squared:                       0.999\n",
      "Model:                            OLS   Adj. R-squared:                  0.999\n",
      "Method:                 Least Squares   F-statistic:                 1.026e+04\n",
      "Date:                Mon, 14 Nov 2022   Prob (F-statistic):           5.76e-66\n",
      "Time:                        01:42:06   Log-Likelihood:                 246.48\n",
      "No. Observations:                  50   AIC:                            -483.0\n",
      "Df Residuals:                      45   BIC:                            -473.4\n",
      "Df Model:                           4                                         \n",
      "Covariance Type:            nonrobust                                         \n",
      "==============================================================================\n",
      "                 coef    std err          t      P>|t|      [0.025      0.975]\n",
      "------------------------------------------------------------------------------\n",
      "Intercept      0.4971      0.001    427.840      0.000       0.495       0.499\n",
      "x             -0.5871      0.016    -35.701      0.000      -0.620      -0.554\n",
      "x2            -0.4481      0.068     -6.603      0.000      -0.585      -0.311\n",
      "x3             3.4539      0.102     33.710      0.000       3.248       3.660\n",
      "x4            -2.7122      0.051    -53.375      0.000      -2.815      -2.610\n",
      "==============================================================================\n",
      "Omnibus:                        2.801   Durbin-Watson:                   0.734\n",
      "Prob(Omnibus):                  0.247   Jarque-Bera (JB):                1.521\n",
      "Skew:                           0.051   Prob(JB):                        0.467\n",
      "Kurtosis:                       2.151   Cond. No.                         643.\n",
      "==============================================================================\n",
      "\n",
      "Notes:\n",
      "[1] Standard Errors assume that the covariance matrix of the errors is correctly specified.\n"
     ]
    },
    {
     "data": {
      "image/png": "[encoded data removed]",
      "text/plain": [
       "<Figure size 432x288 with 1 Axes>"
      ]
     },
     "metadata": {
      "needs_background": "light"
     },
     "output_type": "display_data"
    }
   ],
   "source": [
    "# 4th order polynomial fit\n",
    "model_4 = ols(\"y ~ x + x2 + x3 + x4\", data=hopr).fit()\n",
    "print(model_4.summary())\n",
    "\n",
    "# Plot\n",
    "ax = hopr.plot(\"x\", \"y\", \"scatter\");\n",
    "ax.plot(hopr[\"x\"], model_4.fittedvalues);"
   ]
  },
  {
   "cell_type": "code",
   "execution_count": 24,
   "id": "5cadbab4-7836-4765-9577-1f1598c01536",
   "metadata": {},
   "outputs": [
    {
     "name": "stdout",
     "output_type": "stream",
     "text": [
      "                            OLS Regression Results                            \n",
      "==============================================================================\n",
      "Dep. Variable:                      y   R-squared:                       1.000\n",
      "Model:                            OLS   Adj. R-squared:                  1.000\n",
      "Method:                 Least Squares   F-statistic:                 3.154e+04\n",
      "Date:                Mon, 14 Nov 2022   Prob (F-statistic):           5.31e-77\n",
      "Time:                        01:42:06   Log-Likelihood:                 280.68\n",
      "No. Observations:                  50   AIC:                            -549.4\n",
      "Df Residuals:                      44   BIC:                            -537.9\n",
      "Df Model:                           5                                         \n",
      "Covariance Type:            nonrobust                                         \n",
      "==============================================================================\n",
      "                 coef    std err          t      P>|t|      [0.025      0.975]\n",
      "------------------------------------------------------------------------------\n",
      "Intercept      0.5008      0.001    739.751      0.000       0.499       0.502\n",
      "x             -0.7166      0.014    -50.601      0.000      -0.745      -0.688\n",
      "x2             0.4948      0.090      5.497      0.000       0.313       0.676\n",
      "x3             0.9026      0.231      3.911      0.000       0.437       1.368\n",
      "x4             0.1719      0.255      0.673      0.505      -0.343       0.687\n",
      "x5            -1.1536      0.102    -11.349      0.000      -1.358      -0.949\n",
      "==============================================================================\n",
      "Omnibus:                        5.468   Durbin-Watson:                   2.291\n",
      "Prob(Omnibus):                  0.065   Jarque-Bera (JB):                4.688\n",
      "Skew:                           0.741   Prob(JB):                       0.0959\n",
      "Kurtosis:                       3.230   Cond. No.                     3.55e+03\n",
      "==============================================================================\n",
      "\n",
      "Notes:\n",
      "[1] Standard Errors assume that the covariance matrix of the errors is correctly specified.\n",
      "[2] The condition number is large, 3.55e+03. This might indicate that there are\n",
      "strong multicollinearity or other numerical problems.\n"
     ]
    },
    {
     "data": {
      "image/png": "[encoded data removed]",
      "text/plain": [
       "<Figure size 432x288 with 1 Axes>"
      ]
     },
     "metadata": {
      "needs_background": "light"
     },
     "output_type": "display_data"
    }
   ],
   "source": [
    "# 5th order polynomial fit\n",
    "model_5 = ols(\"y ~ x + x2 + x3 + x4 + x5\", data=hopr).fit()\n",
    "print(model_5.summary())\n",
    "\n",
    "# Plot\n",
    "ax = hopr.plot(\"x\", \"y\", \"scatter\");\n",
    "ax.plot(hopr[\"x\"], model_5.fittedvalues);"
   ]
  },
  {
   "cell_type": "markdown",
   "id": "d7375177-0f4b-4cf3-a4a4-096f0b5615db",
   "metadata": {},
   "source": [
    "For the 5th order polynomial, the $p$-value for the coefficient of $x^4$ is much greater than 0.05. Further, 0 falls in the confidence interval for that coefficient. Hence, this coefficient should be removed."
   ]
  },
  {
   "cell_type": "code",
   "execution_count": 25,
   "id": "2dfb7489-e6d0-4e1d-a8f6-92dee8a378a8",
   "metadata": {},
   "outputs": [
    {
     "name": "stdout",
     "output_type": "stream",
     "text": [
      "                            OLS Regression Results                            \n",
      "==============================================================================\n",
      "Dep. Variable:                      y   R-squared:                       1.000\n",
      "Model:                            OLS   Adj. R-squared:                  1.000\n",
      "Method:                 Least Squares   F-statistic:                 3.992e+04\n",
      "Date:                Mon, 14 Nov 2022   Prob (F-statistic):           3.11e-79\n",
      "Time:                        01:42:06   Log-Likelihood:                 280.42\n",
      "No. Observations:                  50   AIC:                            -550.8\n",
      "Df Residuals:                      45   BIC:                            -541.3\n",
      "Df Model:                           4                                         \n",
      "Covariance Type:            nonrobust                                         \n",
      "==============================================================================\n",
      "                 coef    std err          t      P>|t|      [0.025      0.975]\n",
      "------------------------------------------------------------------------------\n",
      "Intercept      0.5006      0.001    876.750      0.000       0.499       0.502\n",
      "x             -0.7084      0.007    -96.404      0.000      -0.723      -0.694\n",
      "x2             0.4369      0.026     16.577      0.000       0.384       0.490\n",
      "x3             1.0566      0.029     35.999      0.000       0.997       1.116\n",
      "x5            -1.0856      0.010   -105.851      0.000      -1.106      -1.065\n",
      "==============================================================================\n",
      "Omnibus:                        5.378   Durbin-Watson:                   2.271\n",
      "Prob(Omnibus):                  0.068   Jarque-Bera (JB):                4.658\n",
      "Skew:                           0.742   Prob(JB):                       0.0974\n",
      "Kurtosis:                       3.183   Cond. No.                         388.\n",
      "==============================================================================\n",
      "\n",
      "Notes:\n",
      "[1] Standard Errors assume that the covariance matrix of the errors is correctly specified.\n"
     ]
    },
    {
     "data": {
      "image/png": "[encoded data removed]",
      "text/plain": [
       "<Figure size 432x288 with 1 Axes>"
      ]
     },
     "metadata": {
      "needs_background": "light"
     },
     "output_type": "display_data"
    }
   ],
   "source": [
    "# 5th order polynomial fit without x4\n",
    "model_5_mod = ols(\"y ~ x + x2 + x3 + x5\", data=hopr).fit()\n",
    "print(model_5_mod.summary())\n",
    "\n",
    "# Plot\n",
    "ax = hopr.plot(\"x\", \"y\", \"scatter\");\n",
    "ax.plot(hopr[\"x\"], model_5.fittedvalues);"
   ]
  },
  {
   "cell_type": "markdown",
   "id": "18589c7b-5375-4b52-ab3b-f76972a2a27b",
   "metadata": {},
   "source": [
    "**Answer:** The best fit for this data is of the form\n",
    "$$y = c_0 x + c_1 x_1 + c_2 x_2^2 + c_3 x_3^3 + c_5 x_5^5$$\n",
    "The coefficients are given below:"
   ]
  },
  {
   "cell_type": "code",
   "execution_count": 26,
   "id": "935f610e-330c-434e-a532-428e3f92b92f",
   "metadata": {},
   "outputs": [
    {
     "data": {
      "text/plain": [
       "Intercept    0.500552\n",
       "x           -0.708437\n",
       "x2           0.436944\n",
       "x3           1.056596\n",
       "x5          -1.085585\n",
       "dtype: float64"
      ]
     },
     "execution_count": 26,
     "metadata": {},
     "output_type": "execute_result"
    }
   ],
   "source": [
    "model_5_mod.params"
   ]
  },
  {
   "cell_type": "markdown",
   "id": "3a0d518c-9daa-4ab2-84e8-2187d76fa368",
   "metadata": {},
   "source": [
    "## Question 5: Regression and Curve fitting\n",
    "*15 points*\n",
    "\n",
    "In HW3, we looked at data from a compression test on a brittle material. Here, we are going to look at a test on a ductile strain-hardening material. The material deform's as per Hooke's law up to it's yield point, after which it follows a power-law hardening behavior.\n",
    "\n",
    "The stress in the material is given by \n",
    "\n",
    "Elastic: $\\sigma = E \\epsilon_e \\quad\\quad\\quad\\quad\\quad \\sigma \\leq \\sigma_y$\n",
    "\n",
    "Plastic: $\\sigma = \\sigma_y + \\kappa \\epsilon_p^n \\quad\\quad\\quad \\sigma > \\sigma_y$\n",
    "\n",
    "where:\n",
    "\n",
    "$\\sigma$ is the stress and \\$\\sigma_y$ is the yield stress;\n",
    "\n",
    "$\\epsilon_e$ and $\\epsilon_p$ are the elastic and plastic strains, respectively;\n",
    "\n",
    "$\\kappa$ is the strength coefficient, and $n$ is the strain hardening exponent.\n",
    "\n",
    "The compression test is peformed on a rectangular prismatic brittle specimen (cross-section area = 4x4 mm, length = 6 mm).\n",
    "\n",
    "- Load the data from the provided `strain_hardening.csv` file using `pandas`. The data has already been cleaned for you. Displacement is in mm, force is in N.\n",
    "- Perform a linear regression using `scipy.stats.linregress()` in the elastic regime of the data to calculate $E$ and $\\sigma_y$.\n",
    "- Perform a curve fit using `scipy.optimize.curve_fit()` in the plastic regime of the data to calculate $\\kappa$ and $n$\n",
    "- Print the values of all the variables calculated above using *scientific notation* with 2 decimal places. Use units of MPa for all parameters except $n$, which is dimensionless.\n",
    "- Plot the raw stress (in MPa) vs strain curve, as well as the overall curve fit (elastic and plastic parts). The entire fit curve should be the same color. Mark the yield point. Make sure to include a legend.\n",
    "\n",
    "**Note:** $\\epsilon_p$ is the plastic strain, you must subtract the elastic strain ($\\epsilon_e$) from the total strain to get the plastic strain.\n",
    "\n",
    "Assume a 0.2% strain at the yield point; i.e., $\\epsilon_y$ = 0.002. There is no plastic strain before yield and no elastic strain after yield."
   ]
  },
  {
   "cell_type": "code",
   "execution_count": 27,
   "id": "0fe6aeb0-d918-4d31-8eb8-3c8ac7a55e2b",
   "metadata": {},
   "outputs": [
    {
     "data": {
      "image/png": "[encoded data removed]",
      "text/plain": [
       "<Figure size 432x288 with 1 Axes>"
      ]
     },
     "metadata": {
      "needs_background": "light"
     },
     "output_type": "display_data"
    }
   ],
   "source": [
    "# Load data\n",
    "data = pd.read_csv(\"strain_hardening.csv\")\n",
    "\n",
    "# Calculate strain and stress\n",
    "data[\"strain\"] = data[\"displacement\"].div(6)\n",
    "data[\"stress\"] = data[\"force\"].div(4*4)\n",
    "\n",
    "# Plot\n",
    "data.plot(\"strain\", \"stress\", kind=\"scatter\");\n",
    "\n",
    "# Define yield strain\n",
    "e_y = 0.002"
   ]
  },
  {
   "cell_type": "code",
   "execution_count": 28,
   "id": "a066fdb5-9912-4541-99f6-26b419adca11",
   "metadata": {},
   "outputs": [
    {
     "name": "stdout",
     "output_type": "stream",
     "text": [
      "E = 2.00e+05 MPa\n",
      "sigma_y = 4.00e+02 MPa\n"
     ]
    }
   ],
   "source": [
    "# Elastic regime\n",
    "# Separate data before yield strain\n",
    "data_elastic = data.copy()[data[\"strain\"] <= e_y]\n",
    "\n",
    "# Perform fit and get E\n",
    "fit_result = stats.linregress(data_elastic[\"strain\"], data_elastic[\"stress\"])\n",
    "E = fit_result.slope\n",
    "\n",
    "# Calculate sigma_y and the regression line\n",
    "sigma_y = E*e_y\n",
    "fit_elastic = fit_result.slope*data_elastic[\"strain\"] + fit_result.intercept\n",
    "\n",
    "# Print\n",
    "print(f\"E = {E:.2e} MPa\")\n",
    "print(f\"sigma_y = {sigma_y:.2e} MPa\")"
   ]
  },
  {
   "cell_type": "code",
   "execution_count": 29,
   "id": "9f7fddfc-8f36-4772-b608-3d95691abfb9",
   "metadata": {},
   "outputs": [
    {
     "name": "stdout",
     "output_type": "stream",
     "text": [
      "K = 1.27e+03 MPa\n",
      "n = 4.48e-01\n"
     ]
    }
   ],
   "source": [
    "from scipy import optimize\n",
    "\n",
    "# Plastic regime\n",
    "# Separate data after yield strain\n",
    "data_plastic = data.copy()[data[\"strain\"] > e_y]\n",
    "\n",
    "# Define funtion for fit\n",
    "def stress_func(strain, k, n):\n",
    "    return sigma_y + k*(strain - e_y)**n\n",
    "\n",
    "popt, pcov = optimize.curve_fit(stress_func,\n",
    "                                data_plastic[\"strain\"], data_plastic[\"stress\"],\n",
    "                                p0=(1000, 0.25))\n",
    "\n",
    "# Calculate k, n and the fitted curve\n",
    "k_opt, n_opt = popt\n",
    "fit_plastic = stress_func(data_plastic[\"strain\"], *popt)\n",
    "\n",
    "print(f\"K = {k_opt:.2e} MPa\")\n",
    "print(f\"n = {n_opt:.2e}\")"
   ]
  },
  {
   "cell_type": "code",
   "execution_count": 30,
   "id": "86af6033-b802-47f5-9979-c4ac942f8d5c",
   "metadata": {},
   "outputs": [
    {
     "data": {
      "image/png": "[encoded data removed]",
      "text/plain": [
       "<Figure size 432x288 with 1 Axes>"
      ]
     },
     "metadata": {
      "needs_background": "light"
     },
     "output_type": "display_data"
    }
   ],
   "source": [
    "# Plot raw data and fits\n",
    "plt.plot(data[\"strain\"], data[\"stress\"], \".\", label=\"Raw data\");\n",
    "plt.plot(data_elastic[\"strain\"], fit_elastic, \"r\", label=\"Fit\")\n",
    "plt.plot(data_plastic[\"strain\"], fit_plastic, \"r\")\n",
    "plt.plot(e_y, sigma_y, \"ok\", label=\"Yield point\")\n",
    "plt.xlabel(\"Strain\")\n",
    "plt.ylabel(\"Stress (MPa)\")\n",
    "plt.legend(loc=\"lower right\");"
   ]
  },
  {
   "cell_type": "markdown",
   "id": "4231d2c1-14e0-4929-9831-f89afe0d32c6",
   "metadata": {},
   "source": [
    "## Question 6: Optimization\n",
    "*10 points*\n",
    "\n",
    "In HW3, we obtained the launch angle for the maximum range for a simple projectile motion problem.\n",
    "\n",
    "Solve the same problem using `scipy.optimize.minimize_scalar()`. I.e., Maximize the range of the projectile within the bounds of $0^{\\circ} \\leq \\theta \\leq 90^{\\circ}$. Print the answer in degrees.\n",
    "\n",
    "Use `scipy.constants` for the value of $g$.\n",
    "\n",
    "Since we already know that the velocity ($v$) is immaterial, assume $v=1$ for simplicity.\n",
    "\n",
    "Ignore aerodynamic drag."
   ]
  },
  {
   "cell_type": "code",
   "execution_count": 31,
   "id": "4dc31375-37b0-4f08-aa08-5356c1696ee4",
   "metadata": {},
   "outputs": [
    {
     "name": "stdout",
     "output_type": "stream",
     "text": [
      "The range of the projectile is maximum at an angle of 45.0 degrees.\n"
     ]
    },
    {
     "data": {
      "image/png": "[encoded data removed]",
      "text/plain": [
       "<Figure size 432x288 with 1 Axes>"
      ]
     },
     "metadata": {
      "needs_background": "light"
     },
     "output_type": "display_data"
    }
   ],
   "source": [
    "from scipy.constants import g\n",
    "\n",
    "# Define function to minimize\n",
    "# To maximize, we minimize the negative value of the function.\n",
    "def projectile_range(theta):\n",
    "    return -np.sin(2 * np.radians(theta)) / g\n",
    "\n",
    "# Plot to visualize\n",
    "angles = np.linspace(0, 90)\n",
    "fig, ax = plt.subplots()\n",
    "ax.plot(angles, -projectile_range(angles), label=\"Range\")\n",
    "\n",
    "optimum_angle = optimize.minimize_scalar(projectile_range, bounds=(0, 90), method=\"bounded\")\n",
    "max_range = -projectile_range(optimum_angle.x)\n",
    "print(f\"The range of the projectile is maximum at an angle of {optimum_angle.x} degrees.\")\n",
    "ax.plot(optimum_angle.x, max_range, \"or\", label=\"Optimum point\");\n",
    "ax.axvline(optimum_angle.x, ymax=max_range/ax.get_ylim()[1], color=\"k\", linestyle=\":\")  # plot a vertical line\n",
    "ax.legend();"
   ]
  },
  {
   "cell_type": "markdown",
   "id": "35d129d9-a147-43a8-a8d8-060aa4ea3deb",
   "metadata": {},
   "source": [
    "## Question 7: Monte/y-Carlo-Hall Problem.\n",
    "*15 points*\n",
    "\n",
    "Before starting this question, familiarize yourself with the [Monty Hall problem](https://betterexplained.com/articles/understanding-the-monty-hall-problem/).\n",
    "\n",
    "We are going to simulate this problem using the Monte-Carlo method.\n",
    "\n",
    "Perform the following operations a large number of times. You can use a loop.\n",
    "- Pick the locations for the car and the choices for the contestant's initial guess.\n",
    "- Simulate the case where the contestant does not switch their guess after the goat is revealed.\n",
    "- Simulate the case where the contestant swithes their guess after the reveal.\n",
    "\n",
    "Calculate the probability of success (contestant wins the car) for each case, and print both probabilities in %, up to 2 decimal places.\n",
    "\n",
    "With the Law of Large Numbers, your calculations should match up with the actual probablities if you used a large enough number of simulations. I suggest at least 1,000,000.\n",
    "\n",
    "However, you should probably start with a small number like 10 while you get the code ready."
   ]
  },
  {
   "cell_type": "code",
   "execution_count": 32,
   "id": "ea75c7d5-f6da-405c-aed5-0cc0ed238f6e",
   "metadata": {},
   "outputs": [
    {
     "name": "stdout",
     "output_type": "stream",
     "text": [
      "When staying with the initial guess, the probability of success is 33.34 %.\n",
      "When switching the guess, the probability of success is 66.66 %.\n",
      "\n"
     ]
    }
   ],
   "source": [
    "import random\n",
    "\n",
    "# Set up number of simulations and initialize counters\n",
    "num_sims = int(1e6)\n",
    "# num_sims = 1\n",
    "wins_noswitch, wins_switch = 0, 0\n",
    "\n",
    "# Set up the doors that can be picked\n",
    "doors = [\"A\", \"B\", \"C\"]\n",
    "\n",
    "for i in range(num_sims):\n",
    "    # Location of car and goats\n",
    "    # While you could use a random choice here, it doesn't really matter.\n",
    "    car_is_behind = \"A\"\n",
    "    \n",
    "    # Contestant initial guess\n",
    "    contestant_guess = random.choice(doors)\n",
    "    \n",
    "    # Check if the car is behind the initially picked door\n",
    "    if contestant_guess == car_is_behind:\n",
    "        wins_noswitch += 1\n",
    "    \n",
    "    # Monty Hall reveals a door the contestant has not picked. That door must have not have the car. \n",
    "    reveal_options = [door for door in doors\n",
    "                      if door != contestant_guess\n",
    "                      and door != car_is_behind]\n",
    "    goat_reveal = random.choice(reveal_options)\n",
    "    \n",
    "    # Contestant switches to the other available door.\n",
    "    switched_guess = [door for door in doors \n",
    "                      if door != goat_reveal\n",
    "                      and door != contestant_guess]\n",
    "    \n",
    "    # Check if the car is behind the switched door\n",
    "    if switched_guess[0] == car_is_behind:\n",
    "        wins_switch += 1\n",
    "\n",
    "# Calculate and print probabilities\n",
    "prob_noswitch = 100*wins_noswitch/num_sims\n",
    "print(f\"When staying with the initial guess, the probability of success is {prob_noswitch:.2f} %.\")\n",
    "prob_switch = 100*wins_switch/num_sims\n",
    "print(f\"When switching the guess, the probability of success is {prob_switch:.2f} %.\\n\")"
   ]
  },
  {
   "cell_type": "markdown",
   "id": "72494d70-8193-402d-a95f-e2fa0fc63e63",
   "metadata": {},
   "source": [
    "### Bonus: Extended script by Theodore Andrzejczyk"
   ]
  },
  {
   "cell_type": "code",
   "execution_count": null,
   "id": "baa40a4e-3cdd-4a47-b773-b3027aff5a99",
   "metadata": {},
   "outputs": [],
   "source": [
    "# User input method, true and displayed randomness of door selection\n",
    "\n",
    "import random # for randomly choosing a list index\n",
    "\n",
    "# introduction\n",
    "print(\"The Monty Hall problem\\n\"\n",
    "      \"Behind one door is a car, behind all others are goats - try to choose the door with the car.\\n\")\n",
    "# print(\"After you make your first choice, all doors will be revealed except for 2 - behind one of which is the car.\")\n",
    "# print(\"You will then be able to switch doors if you like.\\n\")\n",
    "\n",
    "\n",
    "# can modify list and number of trials (only 1 door is ever revealed)\n",
    "number_of_doors = input('How many doors do you want? ')\n",
    "\n",
    "# number of doors must be an integer of 3 or greater\n",
    "while not number_of_doors.isdigit() or int(number_of_doors) < 3:\n",
    "    number_of_doors = input('Please choose a whole number over 2. ')\n",
    "\n",
    "number_of_doors = int(number_of_doors)  # formally make number_of_doors an int\n",
    "\n",
    "options = ['car'] # a car must be behind one of the doors\n",
    "options.extend(['goat'] * (number_of_doors-1))  # goats are behind the rest of the doors\n",
    "\n",
    "# door numbers based on number of doors\n",
    "door_numbers = list(range(1, number_of_doors+1))\n",
    "\n",
    "\n",
    "# display door numbers and potential prizes\n",
    "print(f\"\\nDoors: {door_numbers}\")\n",
    "print(f\"Prizes: {options}\")\n",
    "\n",
    "# shuffle list and display door numbers\n",
    "random.shuffle(options)\n",
    "print(\"\\nThe prizes are now being shuffled behind closed doors...\")\n",
    "print(f\"Doors: {door_numbers}\\n\")\n",
    "\n",
    "# users chooses 1 door\n",
    "choice1_answer = input('Which door do you choose? ')\n",
    "\n",
    "# the door chosen must be an integer between 1 and the number of doors\n",
    "while not choice1_answer.isdigit() or int(choice1_answer) < 1 or int(choice1_answer) > number_of_doors:\n",
    "    choice1_answer = input(f\"Please select a whole number between 1 and {number_of_doors}. \")\n",
    "\n",
    "choice1_answer = int(choice1_answer)  # formally make the answer an int\n",
    "choice1_index = choice1_answer - 1  # list indices start at 0\n",
    "\n",
    "car_index = options.index('car')  # find car index\n",
    "\n",
    "# one closed door has to be the car while the other one has to be a goat\n",
    "if choice1_index == car_index:\n",
    "    door_numbers.pop(choice1_index)  # remove choice 1/'car' from the possible not revealed door options\n",
    "    not_revealed_index = random.choice(door_numbers) - 1  # if choice 1 is the car, not revealed door is one of the doors remaining (index starts at 0)\n",
    "else:\n",
    "    not_revealed_index = car_index  # if choice1 isn't the car, the door not revealed has to be the car\n",
    "\n",
    "# The revealed list of goats with only 2 doors still closed\n",
    "reveal_options = options.copy()\n",
    "reveal_options[choice1_index] = choice1_answer\n",
    "reveal_options[not_revealed_index] = not_revealed_index + 1\n",
    "\n",
    "# print the reveal of all goats except 2 closed doors\n",
    "print(reveal_options)\n",
    "print(f\"\\nAll doors have been opened to reveal goats, except for the door you chose \"\n",
    "      f\"(door #{choice1_answer}) and door #{not_revealed_index+1}.\\n\")\n",
    "\n",
    "# user chooses to switch or not\n",
    "switch_answer = input(f'Would you like to switch to door #{not_revealed_index+1}? (y/n) ')\n",
    "\n",
    "# answer to switch must be a 'y' or 'n'\n",
    "while switch_answer != 'y' and switch_answer != 'n':\n",
    "    switch_answer = input(f\"Please enter 'y' for yes (switch doors) or 'n' for no (do not switch doors). \")\n",
    "    \n",
    "print(f\"\\nReveal: {options}\\n\")  # show all doors\n",
    "\n",
    "\n",
    "# success calcs\n",
    "# k = number of doors revealed (all but 2 are initially shown)\n",
    "k = number_of_doors - 2\n",
    "\n",
    "# % probability being successful when switching doors\n",
    "switch_success = 100*(number_of_doors - 1) / (number_of_doors*(number_of_doors - k - 1))\n",
    "\n",
    "\n",
    "# to switch or not to switch\n",
    "if switch_answer == 'y':\n",
    "    switch_index = not_revealed_index\n",
    "    switch = options[switch_index]\n",
    "    \n",
    "    if switch == 'car':\n",
    "        print(f\"You have decided to switch to door #{not_revealed_index+1} and... WON A FREE CAR!!!!\")\n",
    "    else:\n",
    "        print(f\"You have decided to switch to door #{not_revealed_index+1} and... lost :(\")\n",
    "        \n",
    "    # print probability of success given they chose to switch\n",
    "    print(f\"\\nWith {number_of_doors} doors, your probability of winning \"\n",
    "          f\"after your choice to switch doors was {switch_success:.2f} %\")\n",
    "elif switch_answer == 'n':\n",
    "    switch_index = choice1_index\n",
    "    switch = options[switch_index]\n",
    "    \n",
    "    if switch == 'car':\n",
    "        print(f\"You have decided to remain with door #{choice1_answer} and... WON A FREE CAR!!!!\")\n",
    "    else:\n",
    "        print(f\"You have decided to remain with door #{choice1_answer} and... lost :(\")\n",
    "    \n",
    "    # print probability of success given they chose to not switch\n",
    "    print(f\"\\nWith {number_of_doors} doors, your probability of winning\"\n",
    "          f\" after your choice to NOT switch doors was {100-switch_success:.2f} %\")"
   ]
  }
 ],
 "metadata": {
  "citation-manager": {
   "items": {}
  },
  "kernelspec": {
   "display_name": "Python 3 (ipykernel)",
   "language": "python",
   "name": "python3"
  },
  "language_info": {
   "codemirror_mode": {
    "name": "ipython",
    "version": 3
   },
   "file_extension": ".py",
   "mimetype": "text/x-python",
   "name": "python",
   "nbconvert_exporter": "python",
   "pygments_lexer": "ipython3",
   "version": "3.8.8"
  }
 },
 "nbformat": 4,
 "nbformat_minor": 5
}
