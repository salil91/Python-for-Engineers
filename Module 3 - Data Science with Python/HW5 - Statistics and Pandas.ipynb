{
 "cells": [
  {
   "cell_type": "markdown",
   "id": "64c992e8-ce79-4544-bf59-cea68420dc32",
   "metadata": {
    "pycharm": {
     "name": "#%% md\n"
    }
   },
   "source": [
    "# Homework 5 - Statistics and Pandas\n",
    "**Due: Nov 9** \n",
    "\n",
    "***Total Points: 100***\n",
    "\n",
    "For full points, your code\n",
    "- must run without errors\n",
    "- must by *pythonic*\n",
    "- must be easily understandable, and well documented (either through inline comments or markdown).\n",
    "- All plots must have clearly and meaningfully labeled axes, unless you are simply plotting arbitrary numbers. Add legends where needed.\n",
    "- **Use separate markdown cells for any text answers.**\n",
    "- **Show your work, i.e, print all relevant output.** Remember that having a variable in the last line of a jupyter cell block automatically prints it's value. You can use multiple code cells for a single question.\n",
    "- ***Please see the solutions (and related notes) for the previous HWs, as well as the comments on your submissions, before submitting this assignment. We will be less lenient for repeated mistakes.***\n",
    "\n",
    "Remember to export your Jupyter notebook as a PDF file and upload both to Canvas.\n",
    "```\n",
    "File > Save and Export Notebook As... > PDF\n",
    "```\n",
    "\n",
    "Run every code block (and make sure the answer if fully visible) before submitting your notebook/PDF."
   ]
  },
  {
   "cell_type": "markdown",
   "id": "04e72583-fbcf-44a1-942d-dd95e5d9b9da",
   "metadata": {
    "pycharm": {
     "name": "#%% md\n"
    }
   },
   "source": [
    "## Question 0\n",
    "\n",
    "Import `matplotlib`, `numpy`, `pandas`, and `seaborn` here. You can import the required `scipy` and `statsmodels` modules when you need them."
   ]
  },
  {
   "cell_type": "code",
   "execution_count": null,
   "id": "0e9655bf-603a-4a7d-a6bc-97889f9f7eb0",
   "metadata": {
    "pycharm": {
     "name": "#%%\n"
    }
   },
   "outputs": [],
   "source": []
  },
  {
   "cell_type": "markdown",
   "id": "6e1c7eb1-af18-4104-9927-4b98a90a9196",
   "metadata": {},
   "source": [
    "Before we get to the questions, let's look at the **`namedtuple`** data type.\n",
    "\n",
    "A `namedtuple` is similar to a `tuple`, but specific items in the `namedtuple` can be accessed as object attributes.\n",
    "\n",
    "See example below:"
   ]
  },
  {
   "cell_type": "code",
   "execution_count": null,
   "id": "6c867fe7-afec-4171-adea-9da465f518d6",
   "metadata": {},
   "outputs": [],
   "source": [
    "# Import namedtuple\n",
    "from collections import namedtuple\n",
    "\n",
    "# Create a namedtuple container for a \"Line\", which contains the slope and intercept\n",
    "Line = namedtuple('Line', 'slope intercept')\n",
    "Line"
   ]
  },
  {
   "cell_type": "code",
   "execution_count": null,
   "id": "669b10b8-97c3-435d-8170-3d9268bbb91a",
   "metadata": {},
   "outputs": [],
   "source": [
    "# Create two instances of Line\n",
    "line_1 = Line(0.7, 4.2)\n",
    "line_2 = Line(1.3, 3.5)\n",
    "print(line_1)\n",
    "print(line_2)"
   ]
  },
  {
   "cell_type": "code",
   "execution_count": null,
   "id": "7e922e93-22ce-485e-90da-24579754dfca",
   "metadata": {},
   "outputs": [],
   "source": [
    "# Access the slope and intercept as attributes of each instance\n",
    "print(f\"Line 1: y = {line_1.slope}x + {line_1.intercept}\")\n",
    "print(f\"Line 2: y = {line_2.slope}x + {line_2.intercept}\") "
   ]
  },
  {
   "cell_type": "markdown",
   "id": "39a51913-1aae-4770-8390-3255b747f79d",
   "metadata": {},
   "source": [
    "## Question 1: Pandas\n",
    "\n",
    "*25 points*"
   ]
  },
  {
   "cell_type": "markdown",
   "id": "41396ce0-04d6-46cc-8bd4-470d51ee4cb9",
   "metadata": {},
   "source": [
    "### Question 1.1\n",
    "\n",
    "*10 points*\n",
    "\n",
    "- Load the `\"mpg\"` dataset from `seaborn`.\n",
    "- Print the model_year and name for all the vehicles that have an mpg of at least 42.\n",
    "\n",
    "Hint: use `pandas.DataFrame.itertuples()` which returns an iterator of `namedtuple` objects."
   ]
  },
  {
   "cell_type": "code",
   "execution_count": null,
   "id": "0e50b5b1-a785-4fd4-8d3c-4b711640ef0f",
   "metadata": {},
   "outputs": [],
   "source": []
  },
  {
   "cell_type": "markdown",
   "id": "f7e86fe7-07bc-4138-84e9-a688998335e8",
   "metadata": {},
   "source": [
    "### Question 1.2\n",
    "\n",
    "*5 points*\n",
    "\n",
    "Print which vehicle had the lowest and highest mpg for each year. Also print the corresponding values of mpg. Include at least one blank line between model years.\n",
    "\n",
    "Hint: use `pandas.DataFrame.groupby()`"
   ]
  },
  {
   "cell_type": "code",
   "execution_count": null,
   "id": "63bc33d3-3c33-4b35-9eda-ebe86e4f3fa3",
   "metadata": {},
   "outputs": [],
   "source": []
  },
  {
   "cell_type": "markdown",
   "id": "2f2f150a-32df-48c2-826e-b71a7cf5be5c",
   "metadata": {
    "pycharm": {
     "name": "#%% md\n"
    },
    "tags": []
   },
   "source": [
    "### Question 1.3\n",
    "*10 points*\n",
    "\n",
    "On a single figure, plot the mean mpg by year for vehicles originating from Europe, Japan and USA (separately). *Use different colored lines for each origin.* Make sure you include a lengend.\n",
    "\n",
    "Hint: use `pandas.DataFrame.groupby()` with `pandas.DataFrame.agg()` which aggregates data using one or more operations over the specified axis."
   ]
  },
  {
   "cell_type": "code",
   "execution_count": null,
   "id": "972375c4-2d87-42b8-aeb2-ca8f6c3fce83",
   "metadata": {},
   "outputs": [],
   "source": []
  },
  {
   "cell_type": "markdown",
   "id": "6c5cb2e9-b0be-4926-b37e-27cd5881fcf3",
   "metadata": {},
   "source": [
    "## Question 2: Hypothesis testing\n",
    "*10 points*\n",
    "\n",
    "For the data above, use `scipy.stats.mannwhitneyu` to test whether\n",
    "- the `mpg` of vehicles with a more cylinders ($>4$) is *statistically different* from that of vehicles with a less cylinders ($\\leq4$).\n",
    "- the `acceleration` of vehicles with more cylinders ($>4$) is *statistically greater* than that of vehicles with less cylinders ($\\leq4$).\n",
    "\n",
    "Clearly state the null and alternative hypotheses, as well as the inference, for each case."
   ]
  },
  {
   "cell_type": "code",
   "execution_count": null,
   "id": "fad21693-71ff-487b-b51f-bd45ac9254aa",
   "metadata": {},
   "outputs": [],
   "source": []
  },
  {
   "cell_type": "markdown",
   "id": "431746fb-54a4-425d-8dc7-fc06ec154dfc",
   "metadata": {},
   "source": [
    "## Question 3: Multiple linear regression\n",
    "*15 points*\n",
    "\n",
    "Using `statsmodels.formula.api.ols()`, determine how the acceleration of a vehicle in the dataset depends on its displacement and origin.\n",
    "\n",
    "- Do you need to include interactions?\n",
    "- Don't just fit a curve, plot the data and comment on the regression results. What do you learn from it?\n",
    "\n",
    "Hint: Use `pandas.DataFrame.dropna()` to remove rows thant contain missing values."
   ]
  },
  {
   "cell_type": "markdown",
   "id": "cd0b8c76-3ca6-4cf0-879f-0f7e322b2f40",
   "metadata": {},
   "source": [
    "## Question 4: Higher order polynomial regression\n",
    "*10 points*\n",
    "\n",
    "- Load the data in `hopr.csv` using `pandas` \n",
    "- Perform polynomial regression to get the best fit.\n",
    "- Print the parameters/coefficients for the final best fit polynomial.\n",
    "\n",
    "*Take care to not overfit the data.* Use the lowest polynomical possible that sufficiently represents the underlying data."
   ]
  },
  {
   "cell_type": "code",
   "execution_count": null,
   "id": "3d8a26cd-86ef-4a6c-9178-c78f7273a668",
   "metadata": {},
   "outputs": [],
   "source": []
  },
  {
   "cell_type": "markdown",
   "id": "3a0d518c-9daa-4ab2-84e8-2187d76fa368",
   "metadata": {},
   "source": [
    "## Question 5: Regression and Curve fitting\n",
    "*15 points*\n",
    "\n",
    "In HW3, we looked at data from a compression test on a brittle material. Here, we are going to look at a test on a ductile strain-hardening material. The material deform's as per Hooke's law up to it's yield point, after which it follows a power-law hardening behavior.\n",
    "\n",
    "The stress in the material is given by \n",
    "\n",
    "Elastic: $\\sigma = E \\epsilon_e \\quad\\quad\\quad\\quad\\quad \\sigma \\leq \\sigma_y$\n",
    "\n",
    "Plastic: $\\sigma = \\sigma_y + \\kappa \\epsilon_p^n \\quad\\quad\\quad \\sigma > \\sigma_y$\n",
    "\n",
    "where:\n",
    "\n",
    "$\\sigma$ is the stress and \\$\\sigma_y$ is the yield stress;\n",
    "\n",
    "$\\epsilon_e$ and $\\epsilon_p$ are the elastic and plastic strains, respectively;\n",
    "\n",
    "$\\kappa$ is the strength coefficient, and $n$ is the strain hardening exponent.\n",
    "\n",
    "The compression test is peformed on a rectangular prismatic brittle specimen (cross-section area = 4x4 mm, length = 6 mm).\n",
    "\n",
    "- Load the data from the provided `strain_hardening.csv` file using `pandas`. The data has already been cleaned for you. Displacement is in mm, force is in N.\n",
    "- Perform a linear regression using `scipy.stats.linregress()` in the elastic regime of the data to calculate $E$ and $\\sigma_y$.\n",
    "- Perform a curve fit using `scipy.optimize.curve_fit()` in the plastic regime of the data to calculate $\\kappa$ and $n$\n",
    "- Print the values of all the variables calculated above using *scientific notation* with 2 decimal places. Use units of MPa for all parameters except $n$, which is dimensionless.\n",
    "- Plot the raw stress (in MPa) vs strain curve, as well as the overall curve fit (elastic and plastic parts). The entire fit curve should be the same color. Mark the yield point. Make sure to include a legend.\n",
    "\n",
    "**Note:** $\\epsilon_p$ is the plastic strain, you must subtract the elastic strain ($\\epsilon_e$) from the total strain to get the plastic strain.\n",
    "\n",
    "Assume a 0.2% strain at the yield point; i.e., $\\epsilon_y$ = 0.002. There is no plastic strain before yield and no elastic strain after yield."
   ]
  },
  {
   "cell_type": "code",
   "execution_count": null,
   "id": "0fe6aeb0-d918-4d31-8eb8-3c8ac7a55e2b",
   "metadata": {},
   "outputs": [],
   "source": []
  },
  {
   "cell_type": "markdown",
   "id": "4231d2c1-14e0-4929-9831-f89afe0d32c6",
   "metadata": {},
   "source": [
    "## Question 6: Optimization\n",
    "*10 points*\n",
    "\n",
    "In HW3, we obtained the launch angle for the maximum range for a simple projectile motion problem.\n",
    "\n",
    "Solve the same problem using `scipy.optimize.minimize_scalar()`. I.e., Maximize the range of the projectile within the bounds of $0^{\\circ} \\leq \\theta \\leq 90^{\\circ}$. Print the answer in degrees.\n",
    "\n",
    "Use `scipy.constants` for the value of $g$.\n",
    "\n",
    "Since we already know that the velocity ($v$) is immaterial, assume $v=1$ for simplicity.\n",
    "\n",
    "Ignore aerodynamic drag."
   ]
  },
  {
   "cell_type": "code",
   "execution_count": null,
   "id": "4dc31375-37b0-4f08-aa08-5356c1696ee4",
   "metadata": {},
   "outputs": [],
   "source": []
  },
  {
   "cell_type": "markdown",
   "id": "7c97ec1a-5c9f-40ea-b2f0-edfd2df73168",
   "metadata": {},
   "source": [
    "## Question 7: Monte/y-Carlo-Hall Problem.\n",
    "*15 points*\n",
    "\n",
    "Before starting this question, familiarize yourself with the [Monty Hall problem](https://betterexplained.com/articles/understanding-the-monty-hall-problem/).\n",
    "\n",
    "We are going to simulate this problem using the Monte-Carlo method.\n",
    "\n",
    "Perform the following operations a large number of times. You can use a loop.\n",
    "- Pick the locations for the car and the choices for the contestant's initial guess.\n",
    "- Simulate the case where the contestant does not switch their guess after the goat is revealed.\n",
    "- Simulate the case where the contestant swithes their guess after the reveal.\n",
    "\n",
    "Calculate the probability of success (contestant wins the car) for each case, and print both probabilities in %, up to 2 decimal places.\n",
    "\n",
    "With the Law of Large Numbers, your calculations should match up with the actual probablities if you used a large enough number of simulations. I suggest at least 1,000,000.\n",
    "\n",
    "However, you should probably start with a small number like 10 while you get the code ready."
   ]
  },
  {
   "cell_type": "code",
   "execution_count": null,
   "id": "ea75c7d5-f6da-405c-aed5-0cc0ed238f6e",
   "metadata": {},
   "outputs": [],
   "source": []
  }
 ],
 "metadata": {
  "citation-manager": {
   "items": {}
  },
  "kernelspec": {
   "display_name": "Python 3 (ipykernel)",
   "language": "python",
   "name": "python3"
  },
  "language_info": {
   "codemirror_mode": {
    "name": "ipython",
    "version": 3
   },
   "file_extension": ".py",
   "mimetype": "text/x-python",
   "name": "python",
   "nbconvert_exporter": "python",
   "pygments_lexer": "ipython3",
   "version": "3.9.12"
  }
 },
 "nbformat": 4,
 "nbformat_minor": 5
}
