{
 "cells": [
  {
   "cell_type": "markdown",
   "id": "351ebc23-ef08-4e0c-beaa-8d7bc729cd3d",
   "metadata": {},
   "source": [
    "# W9 - October 18 - Pandas DataFrames\n",
    "\n",
    "Pandas is a third-party library (not in the Standard Libraray), included with the Anaconda Distribution. Hence, you don't need to install it in the default Anaconda environment (`base`).\n",
    "\n",
    "**Why use Pandas?**\n",
    "\n",
    "The `pandas` package provides the DataFrame object, which is basically the equivalent of a spreadsheet table.\n",
    "- As opposed to `numpy` arrays, DataFrames can contain a mixture of different data types in each column. DataFrames also have named columns and rows (indexes). \n",
    "- While dictionaries allow you to work with different data types, `pandas` also contains many functions and methods to manipulate the data inside the DataFrame.\n",
    "\n",
    "These features are very useful for statistical calculations.\n",
    "\n",
    "https://pandas.pydata.org/docs/"
   ]
  },
  {
   "cell_type": "code",
   "execution_count": null,
   "id": "c72fedc7-21cc-42c2-80aa-76c079191c44",
   "metadata": {},
   "outputs": [],
   "source": [
    "import pandas as pd"
   ]
  },
  {
   "cell_type": "markdown",
   "id": "b64e78c2-116c-442a-89f0-5dca0eaf3d01",
   "metadata": {},
   "source": [
    "`pd` is the conventional alias for `pandas`."
   ]
  },
  {
   "cell_type": "markdown",
   "id": "ed4fcbc2-509b-4fe0-81cb-7ded494e3080",
   "metadata": {
    "tags": []
   },
   "source": [
    "## The `pandas` DataFrame"
   ]
  },
  {
   "cell_type": "markdown",
   "id": "34b3770f-aa39-486a-b677-11a118343fa0",
   "metadata": {},
   "source": [
    "### From arrays\n",
    "\n",
    "A DataFrame can be created from a dictionary, where each key corresponds to the column name and the values are in the form of `numpy` array or lists.\n",
    "\n",
    "For example, the projectile motion problem from HW3:"
   ]
  },
  {
   "cell_type": "code",
   "execution_count": null,
   "id": "635bde67-d04c-4d7a-897e-0abb16c40b20",
   "metadata": {},
   "outputs": [],
   "source": [
    "import numpy as np\n",
    "from scipy.constants import g\n",
    "\n",
    "# Create numpy arrays\n",
    "angles = np.arange(30, 91)\n",
    "t = 2 * np.sin(np.radians(angles)) / g\n",
    "h = np.sin(np.radians(angles)) ** 2 / (2 * g)\n",
    "d = np.sin(2 * np.radians(angles)) / g\n",
    "\n",
    "df_projectile = pd.DataFrame({\"Angles\": angles,\n",
    "                              \"Time of Flight\": t,\n",
    "                              \"Maximum Height\": h,\n",
    "                              \"Range\": d})\n",
    "df_projectile.set_index(\"Angles\", inplace=True)  # inplace keyword is important. Without it, a new DataFrame is created.\n",
    "df_projectile"
   ]
  },
  {
   "cell_type": "markdown",
   "id": "a4c550df-371d-4673-b4ba-0c8f452f67e7",
   "metadata": {},
   "source": [
    "### Accessing columns\n",
    "\n",
    "Columns can be easily accessed, similar to dictionaries"
   ]
  },
  {
   "cell_type": "code",
   "execution_count": null,
   "id": "0c3d3103-e097-4f37-8341-01319ecf066a",
   "metadata": {},
   "outputs": [],
   "source": [
    "df_projectile[\"Range\"]"
   ]
  },
  {
   "cell_type": "markdown",
   "id": "da9a9008-e97c-4b8e-b9de-eb09032bf92e",
   "metadata": {},
   "source": [
    "Or as attributes of the DataFrame object"
   ]
  },
  {
   "cell_type": "code",
   "execution_count": null,
   "id": "e7131e51-6242-4001-9562-50f12cf7590e",
   "metadata": {},
   "outputs": [],
   "source": [
    "df_projectile.Range"
   ]
  },
  {
   "cell_type": "markdown",
   "id": "b7ad9091-5260-4dd1-967a-ca35c8c5e5bc",
   "metadata": {},
   "source": [
    "***Note:*** The latter only works if the column already exists. You cannot set a new column this way. For example:"
   ]
  },
  {
   "cell_type": "code",
   "execution_count": null,
   "id": "8a9a80af-01f5-4ea8-80e4-691abfb9fb3e",
   "metadata": {},
   "outputs": [],
   "source": [
    "# Create a DataFrame\n",
    "df_example = pd.DataFrame({\"A\": [0, 1, 2], \"B\": [7, 13, 42]})\n",
    "df_example"
   ]
  },
  {
   "cell_type": "code",
   "execution_count": null,
   "id": "32ac89a2-77c5-44cc-98e8-14d0d9ed9199",
   "metadata": {},
   "outputs": [],
   "source": [
    "# Change the values of column B\n",
    "df_example[\"B\"] = [10, 50, 99]\n",
    "df_example"
   ]
  },
  {
   "cell_type": "code",
   "execution_count": null,
   "id": "d5d35b51-971e-4ed4-a41f-1a51d766f696",
   "metadata": {},
   "outputs": [],
   "source": [
    "# Add a column C\n",
    "df_example[\"C\"] = [100, 255, 924]\n",
    "df_example"
   ]
  },
  {
   "cell_type": "code",
   "execution_count": null,
   "id": "78bc862f-1727-473c-ae24-673cffa92788",
   "metadata": {},
   "outputs": [],
   "source": [
    "# Change the values of column B using the attribute\n",
    "df_example.B = [5555, 2222, 9999]\n",
    "df_example"
   ]
  },
  {
   "cell_type": "code",
   "execution_count": null,
   "id": "ae0a3f9c-f23a-460c-aeca-8d042b99b8b5",
   "metadata": {},
   "outputs": [],
   "source": [
    "# Add a column D using the attribute\n",
    "df_example.D = [0, 10, 0]"
   ]
  },
  {
   "cell_type": "markdown",
   "id": "25000ab7-b5b1-4fbf-a0da-b306b2186b53",
   "metadata": {},
   "source": [
    "**Object Types**"
   ]
  },
  {
   "cell_type": "code",
   "execution_count": null,
   "id": "8c56413b-6234-472f-9a8a-9a3adc4f4bc7",
   "metadata": {},
   "outputs": [],
   "source": [
    "type(df_projectile)"
   ]
  },
  {
   "cell_type": "code",
   "execution_count": null,
   "id": "6c2fbe6d-ee5b-4a9d-bfb8-3b4b174ca3fe",
   "metadata": {},
   "outputs": [],
   "source": [
    "type(df_projectile.Range)"
   ]
  },
  {
   "cell_type": "code",
   "execution_count": null,
   "id": "e9da6b10-b45e-4412-8200-095920c2195e",
   "metadata": {},
   "outputs": [],
   "source": [
    "df_projectile.columns"
   ]
  },
  {
   "cell_type": "code",
   "execution_count": null,
   "id": "e0371ba0-eddd-40d6-83c9-944cf4943dad",
   "metadata": {},
   "outputs": [],
   "source": [
    "type(df_projectile.columns)"
   ]
  },
  {
   "cell_type": "code",
   "execution_count": null,
   "id": "280e140e-2ef8-4ed4-a2ba-dfdb5319dd55",
   "metadata": {},
   "outputs": [],
   "source": [
    "df_projectile.index"
   ]
  },
  {
   "cell_type": "code",
   "execution_count": null,
   "id": "4483553a-9b97-4b8e-bafe-b36481f0d1ba",
   "metadata": {},
   "outputs": [],
   "source": [
    "type(df_projectile.index)"
   ]
  },
  {
   "cell_type": "markdown",
   "id": "29d51115-9145-420c-ac65-b4adf917cd24",
   "metadata": {},
   "source": [
    "### Access Rows and Columns with `.loc()` and `.iloc()`\n",
    "\n",
    "Use the **`.loc()`** method to access rows and columns by ***values***."
   ]
  },
  {
   "cell_type": "code",
   "execution_count": null,
   "id": "389b1401-91ce-4713-af8f-b1172e0231ae",
   "metadata": {},
   "outputs": [],
   "source": [
    "df_projectile"
   ]
  },
  {
   "cell_type": "markdown",
   "id": "101ae5fb-5e26-440f-a5b0-9e744e908a7e",
   "metadata": {},
   "source": [
    "`df.loc[row, column]` will return specific values"
   ]
  },
  {
   "cell_type": "code",
   "execution_count": null,
   "id": "bc21f038-ecb9-4e02-be41-02cb03f1322b",
   "metadata": {},
   "outputs": [],
   "source": [
    "df_projectile.loc[90, \"Time of Flight\"]"
   ]
  },
  {
   "cell_type": "code",
   "execution_count": null,
   "id": "bfd98c89-6279-4e34-9fd7-7f171d194115",
   "metadata": {},
   "outputs": [],
   "source": [
    "type(df_projectile.loc[90, \"Time of Flight\"])"
   ]
  },
  {
   "cell_type": "markdown",
   "id": "b4114fee-1980-44d2-a227-be1957ffa837",
   "metadata": {},
   "source": [
    "You can pass multiple columns as lists"
   ]
  },
  {
   "cell_type": "code",
   "execution_count": null,
   "id": "d6733ddc-079e-4c8f-a685-5eff3e9c5a8f",
   "metadata": {},
   "outputs": [],
   "source": [
    "df_projectile.loc[90, [\"Range\", \"Maximum Height\"]]"
   ]
  },
  {
   "cell_type": "code",
   "execution_count": null,
   "id": "733dfcd4-1538-4082-a3f3-f46b9faf551a",
   "metadata": {},
   "outputs": [],
   "source": [
    "type(df_projectile.loc[90, [\"Range\", \"Maximum Height\"]])"
   ]
  },
  {
   "cell_type": "markdown",
   "id": "9514eae2-318c-4116-b0d5-dc5f841a3bec",
   "metadata": {},
   "source": [
    "Passing multiple rows returns a DataFrame"
   ]
  },
  {
   "cell_type": "code",
   "execution_count": null,
   "id": "4169b705-656d-47e6-9769-355487de9a66",
   "metadata": {},
   "outputs": [],
   "source": [
    "df_projectile.loc[[45, 90]]"
   ]
  },
  {
   "cell_type": "code",
   "execution_count": null,
   "id": "e264121e-41b2-41d5-a4b3-2b0f5843b1c7",
   "metadata": {},
   "outputs": [],
   "source": [
    "type(df_projectile.loc[[45, 90]])"
   ]
  },
  {
   "cell_type": "code",
   "execution_count": null,
   "id": "5ed550c6-b15f-4592-9362-6f8a0794c219",
   "metadata": {},
   "outputs": [],
   "source": [
    "df_projectile.loc[[45, 90], [\"Range\", \"Time of Flight\"]]"
   ]
  },
  {
   "cell_type": "code",
   "execution_count": null,
   "id": "5b8cd6fd-41a2-4135-b554-2c6aa542f3e5",
   "metadata": {},
   "outputs": [],
   "source": [
    "type(df_projectile.loc[[45, 90], [\"Range\", \"Time of Flight\"]])"
   ]
  },
  {
   "cell_type": "markdown",
   "id": "2b832cc3-8d69-4c18-b732-426a3b4e19b6",
   "metadata": {},
   "source": [
    "Use the **`.iloc()`** method to access rows and columns by ***integer positions***."
   ]
  },
  {
   "cell_type": "code",
   "execution_count": null,
   "id": "d92a546a-e647-4a18-a682-aac7a959e306",
   "metadata": {},
   "outputs": [],
   "source": [
    "df_projectile"
   ]
  },
  {
   "cell_type": "markdown",
   "id": "c26142f7-b1cd-4174-bd85-b55ee01b10d2",
   "metadata": {},
   "source": [
    "`df.iloc[row]` with a single index returns a Series"
   ]
  },
  {
   "cell_type": "code",
   "execution_count": null,
   "id": "38a34114-acc7-4996-8df2-14355e27c58b",
   "metadata": {},
   "outputs": [],
   "source": [
    "df_projectile.iloc[0]"
   ]
  },
  {
   "cell_type": "markdown",
   "id": "96cdc590-664a-465c-863f-c1d9d0841663",
   "metadata": {},
   "source": [
    "`df.iloc[row]` with multiple indexes returns a DataFrame"
   ]
  },
  {
   "cell_type": "code",
   "execution_count": null,
   "id": "2cea5fe8-1ff9-4576-a327-a928753fc6f9",
   "metadata": {},
   "outputs": [],
   "source": [
    "df_projectile.iloc[[0, 3, 57, 60]]"
   ]
  },
  {
   "cell_type": "markdown",
   "id": "8d1908eb-d0b6-4876-8bda-132bdbb570ba",
   "metadata": {},
   "source": [
    "Can be used to access rows and columns together.\n",
    "\n",
    "Passing a single column returns a Series."
   ]
  },
  {
   "cell_type": "code",
   "execution_count": null,
   "id": "d33c04dc-aa62-4971-b412-0eacd2d3c9a0",
   "metadata": {},
   "outputs": [],
   "source": [
    "df_projectile.iloc[0:11, 2]"
   ]
  },
  {
   "cell_type": "markdown",
   "id": "ee757d51-53c7-4eb8-aad0-df1a6f4aadde",
   "metadata": {},
   "source": [
    "Passing multiple columns returns a DataFrame."
   ]
  },
  {
   "cell_type": "code",
   "execution_count": null,
   "id": "ea633ec0-6e69-4c34-a12d-8b86c5b9e325",
   "metadata": {},
   "outputs": [],
   "source": [
    "df_projectile.iloc[0:11, 0:2]"
   ]
  },
  {
   "cell_type": "markdown",
   "id": "6c7360dd-3028-4fcc-8215-cba8de46077f",
   "metadata": {},
   "source": [
    "### Viewing part of the data"
   ]
  },
  {
   "cell_type": "code",
   "execution_count": null,
   "id": "6ae4b9df-3ab4-4648-8eca-a55956762f99",
   "metadata": {},
   "outputs": [],
   "source": [
    "df_projectile.head()  # Default is 5 rows"
   ]
  },
  {
   "cell_type": "code",
   "execution_count": null,
   "id": "528ac738-0158-484f-aa96-4dbf10132a64",
   "metadata": {},
   "outputs": [],
   "source": [
    "df_projectile.head(7)"
   ]
  },
  {
   "cell_type": "code",
   "execution_count": null,
   "id": "cdc5f746-efb9-45eb-b705-a270f4dfd899",
   "metadata": {},
   "outputs": [],
   "source": [
    "df_projectile.tail(2)"
   ]
  },
  {
   "cell_type": "markdown",
   "id": "9efe4806-d065-48df-b090-03d3bb99fcb0",
   "metadata": {},
   "source": [
    "**For a quick summary of the DataFrame**"
   ]
  },
  {
   "cell_type": "code",
   "execution_count": null,
   "id": "1208538a-5433-4044-aa7b-bc09dc29d262",
   "metadata": {},
   "outputs": [],
   "source": [
    "df_projectile.describe()"
   ]
  },
  {
   "cell_type": "markdown",
   "id": "c4b741e7-75a5-4753-97a9-2fb39c8ba569",
   "metadata": {},
   "source": [
    "### DataFrames from files\n",
    "\n",
    "The most common way of creating a DataFrame is by reading a txt, csv or Excel file.\n",
    "\n",
    "`pandas` also has IO support for JSON, XML, HDF5 and other formats.\n",
    "\n",
    "For example, the `UTM_data.csv` file from HW3."
   ]
  },
  {
   "cell_type": "code",
   "execution_count": null,
   "id": "0799cfe3-01fe-42d3-b28a-57e9d01e3491",
   "metadata": {},
   "outputs": [],
   "source": [
    "df_UTM = pd.read_csv(\"UTM_data.csv\", index_col=\"time\")  # Indexes do not have to be integers\n",
    "df_UTM"
   ]
  },
  {
   "cell_type": "markdown",
   "id": "1f90a6ee-08d9-4a76-99e9-a0eee0d672a5",
   "metadata": {},
   "source": [
    "**Saving to files**"
   ]
  },
  {
   "cell_type": "code",
   "execution_count": null,
   "id": "c8aa76d5-10d9-44ac-880f-060718f3447c",
   "metadata": {},
   "outputs": [],
   "source": [
    "df_UTM.to_csv(\"UTM_data_saved.csv\")"
   ]
  },
  {
   "cell_type": "markdown",
   "id": "27bb7a4b-f775-4825-96bb-a701d0fd7973",
   "metadata": {},
   "source": [
    "**Saving as NumPy arrays**\n",
    "\n",
    "Can easily convert all numerical columns (without the index) to `numpy` arrays, if needed."
   ]
  },
  {
   "cell_type": "code",
   "execution_count": null,
   "id": "2c467f01-b100-430d-b076-e05108fd29f0",
   "metadata": {},
   "outputs": [],
   "source": [
    "df_UTM.to_numpy()"
   ]
  },
  {
   "cell_type": "markdown",
   "id": "da14f067-0f05-4c6b-83c6-6393cde66edc",
   "metadata": {},
   "source": [
    "## Manipulating DataFrames"
   ]
  },
  {
   "cell_type": "markdown",
   "id": "00f322c4-b9b1-4af4-8385-a37354fb05f3",
   "metadata": {},
   "source": [
    "### Column operations"
   ]
  },
  {
   "cell_type": "markdown",
   "id": "f34f6bec-4b17-4871-b259-2c9cd6757472",
   "metadata": {},
   "source": [
    "**Using Boolean masks to clean/filter data**"
   ]
  },
  {
   "cell_type": "code",
   "execution_count": null,
   "id": "9ab7ce83-0347-445c-8871-d179d2a0d25c",
   "metadata": {},
   "outputs": [],
   "source": [
    "threshold = 10\n",
    "df_UTM_cleaned = df_UTM[df_UTM[\"force\"] > threshold].copy()\n",
    "df_UTM_cleaned"
   ]
  },
  {
   "cell_type": "markdown",
   "id": "a3b54a45-882a-4271-9403-a52405ac2dec",
   "metadata": {},
   "source": [
    "**Operations on columns**"
   ]
  },
  {
   "cell_type": "code",
   "execution_count": null,
   "id": "20857600-bd79-4900-819b-54ffd0a24c4d",
   "metadata": {},
   "outputs": [],
   "source": [
    "displacement_0 = df_UTM_cleaned[\"displacement\"].iloc[0]\n",
    "displacement_0"
   ]
  },
  {
   "cell_type": "code",
   "execution_count": null,
   "id": "74516fc8-333c-4345-beab-6106c98ff88c",
   "metadata": {},
   "outputs": [],
   "source": [
    "df_UTM_cleaned[\"displacement\"] -= displacement_0\n",
    "df_UTM_cleaned"
   ]
  },
  {
   "cell_type": "code",
   "execution_count": null,
   "id": "0a3db9e8-3d5c-4ba0-a917-ef60bc0eebe2",
   "metadata": {},
   "outputs": [],
   "source": [
    "df_UTM_cleaned.index -= df_UTM_cleaned.index[0]\n",
    "df_UTM_cleaned"
   ]
  },
  {
   "cell_type": "markdown",
   "id": "42441192-df79-40f6-8e83-68d0b9ead197",
   "metadata": {},
   "source": [
    "**Creating new columns from existing columns**"
   ]
  },
  {
   "cell_type": "code",
   "execution_count": null,
   "id": "3fb90f28-cf44-4623-94a4-d3dae186a781",
   "metadata": {},
   "outputs": [],
   "source": [
    "area = 4 * 4  # mm^2\n",
    "l_0 = 6000  # initial length (um)\n",
    "\n",
    "df_UTM_calc = df_UTM_cleaned.copy()\n",
    "df_UTM_calc[\"stress\"] = df_UTM_cleaned[\"force\"] / area  # N/mm^2 or MPa\n",
    "df_UTM_calc[\"strain\"] = df_UTM_cleaned[\"displacement\"] / l_0\n",
    "df_UTM_calc"
   ]
  },
  {
   "cell_type": "code",
   "execution_count": null,
   "id": "283b9ac8-f0d4-4d07-a168-980a3d1f41fb",
   "metadata": {},
   "outputs": [],
   "source": [
    "df_UTM_calc.describe()"
   ]
  },
  {
   "cell_type": "markdown",
   "id": "a70446da-ab39-4675-b49e-f22b2d890275",
   "metadata": {},
   "source": [
    "### Applying functions to DataFrame columns\n"
   ]
  },
  {
   "cell_type": "code",
   "execution_count": null,
   "id": "3faedba3-b62d-4576-bc6a-2c7ee7df2f75",
   "metadata": {},
   "outputs": [],
   "source": [
    "df_UTM_func = df_UTM_cleaned.copy()\n",
    "df_UTM_func[\"displacement\"] -= df_UTM_func[\"displacement\"].iloc[0]\n",
    "df_UTM_func.index -= df_UTM_func.index[0]\n",
    "df_UTM_func"
   ]
  },
  {
   "cell_type": "markdown",
   "id": "b59b42c0-22c8-4401-a065-ce507f8ea400",
   "metadata": {},
   "source": [
    "**Using `df.apply()`**"
   ]
  },
  {
   "cell_type": "code",
   "execution_count": null,
   "id": "1f69f643-25e2-43d9-b982-c634d4e76fe6",
   "metadata": {},
   "outputs": [],
   "source": [
    "def stress(x):\n",
    "    area = 4**2  # mm^2\n",
    "    \n",
    "    return x / area  # MPa or N/mm^2\n",
    "\n",
    "df_UTM_func[\"stress\"] = df_UTM_func[\"force\"].apply(stress)\n",
    "df_UTM_func"
   ]
  },
  {
   "cell_type": "markdown",
   "id": "3d7fce04-bd57-420d-ba1e-b220eb61a875",
   "metadata": {},
   "source": [
    "Can also be used with `lambda` functions"
   ]
  },
  {
   "cell_type": "code",
   "execution_count": null,
   "id": "9520d84c-1641-418f-ac13-b3176cc5bffb",
   "metadata": {},
   "outputs": [],
   "source": [
    "df_UTM_func[\"strain\"] = df_UTM_func[\"Force\"].apply(lambda x: x / 6000)\n",
    "df_UTM_func"
   ]
  },
  {
   "cell_type": "markdown",
   "id": "6fe8cac4-a83e-4e79-8e01-bae142605431",
   "metadata": {},
   "source": [
    "**You can also apply functions to the labels**"
   ]
  },
  {
   "cell_type": "code",
   "execution_count": null,
   "id": "1012820d-ce8c-4a2a-aa9f-922e146ba3f8",
   "metadata": {},
   "outputs": [],
   "source": [
    "df_UTM_func.columns = [col.capitalize() for col in df_UTM_func.columns]\n",
    "df_UTM_func"
   ]
  },
  {
   "cell_type": "markdown",
   "id": "03c4c504-21da-4df5-b74a-01ab252cb6a5",
   "metadata": {},
   "source": [
    "## Simple statistics with DataFrames\n",
    "\n",
    "DataFrames are especially useful when your data also includes categorical values."
   ]
  },
  {
   "cell_type": "code",
   "execution_count": null,
   "id": "411a7c08-376b-4698-b6f2-740b8c653a81",
   "metadata": {},
   "outputs": [],
   "source": [
    "df_soccer = pd.read_excel(\"Soccer teams.xlsx\")\n",
    "df_soccer"
   ]
  },
  {
   "cell_type": "code",
   "execution_count": null,
   "id": "968118c8-487b-4f38-ad5c-074cb43af2c5",
   "metadata": {},
   "outputs": [],
   "source": [
    "df_soccer.mean(numeric_only=True)"
   ]
  },
  {
   "cell_type": "code",
   "execution_count": null,
   "id": "28940b69-a4fb-49ab-a7dc-20cfdece027d",
   "metadata": {},
   "outputs": [],
   "source": [
    "df_soccer.max(numeric_only=True)"
   ]
  },
  {
   "cell_type": "code",
   "execution_count": null,
   "id": "7ef8b9a9-a76d-4f8a-96f8-ec7f9a80c21e",
   "metadata": {},
   "outputs": [],
   "source": [
    "# Without numeric_only keyword\n",
    "df_soccer.max()"
   ]
  },
  {
   "cell_type": "code",
   "execution_count": null,
   "id": "30f956a2-4046-46f7-beee-47bc6f4ce6cf",
   "metadata": {},
   "outputs": [],
   "source": [
    "df_soccer.sum(numeric_only=True)"
   ]
  },
  {
   "cell_type": "code",
   "execution_count": null,
   "id": "ece07e9f-e99f-4c47-be04-57f25a7a123e",
   "metadata": {},
   "outputs": [],
   "source": [
    "df_soccer.describe()"
   ]
  },
  {
   "cell_type": "markdown",
   "id": "ff263c27-365a-4cb1-bdf6-065f8cf0b657",
   "metadata": {},
   "source": [
    "### Grouping"
   ]
  },
  {
   "cell_type": "code",
   "execution_count": null,
   "id": "25c375c8-262b-4284-bcc1-e8fc87bb7c0a",
   "metadata": {},
   "outputs": [],
   "source": [
    "grouped = df_soccer.groupby(\"League\")\n",
    "for league, df in grouped:\n",
    "    print(league)\n",
    "    print(df)\n",
    "type(df)"
   ]
  },
  {
   "cell_type": "code",
   "execution_count": null,
   "id": "66235fce-5cd2-4b5f-8969-869b62bcb634",
   "metadata": {},
   "outputs": [],
   "source": [
    "type(grouped)"
   ]
  },
  {
   "cell_type": "code",
   "execution_count": null,
   "id": "febb25b5-ef6d-48f3-878b-668e7b24e736",
   "metadata": {},
   "outputs": [],
   "source": [
    "grouped.size()"
   ]
  },
  {
   "cell_type": "code",
   "execution_count": null,
   "id": "7af8b961-03e5-4e47-8b1b-52d1ad2b9a0c",
   "metadata": {},
   "outputs": [],
   "source": [
    "grouped.mean()"
   ]
  },
  {
   "cell_type": "code",
   "execution_count": null,
   "id": "dffad0ed-6a3f-4617-a7dd-683ee15f5687",
   "metadata": {},
   "outputs": [],
   "source": [
    "grouped.max()"
   ]
  },
  {
   "cell_type": "code",
   "execution_count": null,
   "id": "b3b4f2aa-b56b-4240-820d-dcb1a4f8625b",
   "metadata": {},
   "outputs": [],
   "source": [
    "grouped.sum()"
   ]
  },
  {
   "cell_type": "markdown",
   "id": "dcb9a5bb-5d00-4b49-a20d-e550aa9a996e",
   "metadata": {},
   "source": [
    "### Sorting\n",
    "\n",
    "`by` list of columns, in order of priority."
   ]
  },
  {
   "cell_type": "code",
   "execution_count": null,
   "id": "2bc5c494-dbc7-4cb4-bce8-14e4c0ac3e72",
   "metadata": {},
   "outputs": [],
   "source": [
    "# By default, pandas returns a new DataFrame. The original is left untouched. This is a safety feature.\n",
    "df_soccer.sort_values(by=[\"Founded\", \"Trophies\"])\n",
    "df_soccer"
   ]
  },
  {
   "cell_type": "code",
   "execution_count": null,
   "id": "09600f83-ac6c-4670-b05b-041e68757a75",
   "metadata": {},
   "outputs": [],
   "source": [
    "df_soccer.sort_values(by=[\"Founded\", \"Trophies\"], inplace=True)  # inplace argument changes the current DataFrame.\n",
    "df_soccer"
   ]
  },
  {
   "cell_type": "code",
   "execution_count": null,
   "id": "10e515a7-9ca2-42e3-8564-b8d97a0ba7c0",
   "metadata": {},
   "outputs": [],
   "source": [
    "df_soccer.sort_values(by=\"Trophies\", ascending=False, inplace=True)\n",
    "df_soccer"
   ]
  },
  {
   "cell_type": "code",
   "execution_count": null,
   "id": "b103e7ea-c4ea-48be-b215-4d1bac75ba88",
   "metadata": {},
   "outputs": [],
   "source": [
    "df_reset_without_dropping = df_soccer.reset_index(inplace=True)  # The old indexes are added as a new column by default\n",
    "df_reset_without_dropping"
   ]
  },
  {
   "cell_type": "code",
   "execution_count": null,
   "id": "7a9385eb-46c9-4501-8e2f-6a12ea80ebbf",
   "metadata": {},
   "outputs": [],
   "source": [
    "df_soccer.reset_index(drop=True, inplace=True)\n",
    "df_soccer"
   ]
  },
  {
   "cell_type": "markdown",
   "id": "92785906-6d8a-4132-a6f6-1989566f551f",
   "metadata": {},
   "source": [
    "### Indexing min/max values"
   ]
  },
  {
   "cell_type": "code",
   "execution_count": null,
   "id": "ceb9a403-bfff-4651-8c0e-8cddaa40b786",
   "metadata": {},
   "outputs": [],
   "source": [
    "founded_min = df_soccer[\"Founded\"].idxmin()\n",
    "print(f\"The oldest club in this dataset is {df_soccer.loc[founded_min, 'Team Name']}, founded in {df_soccer.loc[founded_min, 'Founded']}.\")"
   ]
  },
  {
   "cell_type": "code",
   "execution_count": null,
   "id": "45c06e4a-2eaa-43ff-ae9c-fb20b42cffcf",
   "metadata": {},
   "outputs": [],
   "source": [
    "founded_max = df_soccer[\"Founded\"].idxmax()\n",
    "print(f\"The youngest club in this dataset is {df_soccer.loc[founded_max, 'Team Name']}, founded in {df_soccer.loc[founded_max, 'Founded']}.\")"
   ]
  },
  {
   "cell_type": "markdown",
   "id": "56ab25e8-f4bf-4526-a843-7bb07f017a1f",
   "metadata": {},
   "source": [
    "**With the grouped data:**"
   ]
  },
  {
   "cell_type": "code",
   "execution_count": null,
   "id": "3bc40fe9-7413-4585-ba95-fad58612741f",
   "metadata": {},
   "outputs": [],
   "source": [
    "grouped = df_soccer.groupby(\"League\")  # Need to group again as the index was reset above.\n",
    "for league, df in grouped:\n",
    "    founded_min = df[\"Founded\"].idxmin()\n",
    "    founded_max = df[\"Founded\"].idxmax()\n",
    "    print(f\"In {league}, the oldest club is {df.loc[founded_min, 'Team Name']}, founded in {df.loc[founded_min, 'Founded']}.\"\n",
    "          f\"\\nThe youngest club is {df.loc[founded_max, 'Team Name']}, founded in {df.loc[founded_max, 'Founded']}.\\n\")"
   ]
  },
  {
   "cell_type": "code",
   "execution_count": null,
   "id": "9d925b15-af62-4bd1-a859-c2f6ee14980f",
   "metadata": {},
   "outputs": [],
   "source": []
  }
 ],
 "metadata": {
  "citation-manager": {
   "items": {}
  },
  "kernelspec": {
   "display_name": "Python 3 (ipykernel)",
   "language": "python",
   "name": "python3"
  },
  "language_info": {
   "codemirror_mode": {
    "name": "ipython",
    "version": 3
   },
   "file_extension": ".py",
   "mimetype": "text/x-python",
   "name": "python",
   "nbconvert_exporter": "python",
   "pygments_lexer": "ipython3",
   "version": "3.8.8"
  }
 },
 "nbformat": 4,
 "nbformat_minor": 5
}
